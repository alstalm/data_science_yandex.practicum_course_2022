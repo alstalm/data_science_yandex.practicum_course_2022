{
 "cells": [
  {
   "cell_type": "markdown",
   "metadata": {},
   "source": [
    "# Отток клиентов"
   ]
  },
  {
   "cell_type": "code",
   "execution_count": 1,
   "metadata": {},
   "outputs": [],
   "source": [
    "import pandas as pd\n",
    "from sklearn.ensemble import RandomForestClassifier\n",
    "from sklearn.linear_model import LogisticRegression\n",
    "from sklearn.preprocessing import StandardScaler\n",
    "from sklearn.model_selection import train_test_split\n",
    "from sklearn.model_selection import StratifiedKFold\n",
    "from sklearn.model_selection import RandomizedSearchCV\n",
    "from sklearn.utils import shuffle\n",
    "from sklearn.metrics import f1_score, roc_auc_score\n",
    "import matplotlib.pyplot as plt\n",
    "import os"
   ]
  },
  {
   "cell_type": "markdown",
   "metadata": {
    "pycharm": {
     "name": "#%% md\n"
    }
   },
   "source": [
    "# Оглавление\n",
    "- [1. Введение](#1.)\n",
    "- [1.1. Описание данных](#1.1.)\n",
    "- [1.2. Описание проекта](#1.2.)\n",
    "- [1.3. Исследование и подготовка данных](#1.3.)\n",
    "- [1.4. Исследование баланса классов](#1.4.)\n",
    "- [2. Машинное обучение](#2.)\n",
    "- [2.1. Без учета дисбаланса классов](#2.1.)\n",
    "- [2.1.1. Логистическая регрессия](#2.1.1.)\n",
    "- [2.1.1.1. Без масштабирования признаков](#2.1.1.1.)\n",
    "- [2.1.1.2. C масштабированим признаков](#2.1.1.2.)\n",
    "- [2.1.2. Случайный лес](#2.1.2.)\n",
    "- [2.2. С учетом дисбаланса классов](#2.2.)\n",
    "- [2.2.1. Скорректируем параметр class_weight](#2.2.1.)\n",
    "- [2.2.2. Со взвешенными классами на тестовой выборке](#2.2.2.)\n",
    "- [2.2.3. Upsampling](#2.2.3.)\n",
    "- [2.2.4. Лучший вариант upsampling на тестовой выборке](#2.2.4.)\n",
    "- [2.2.5. Downsampling](#2.2.5.)\n",
    "- [2.2.6. Лучший вариант downsampling на тестовой выборке](#2.2.6.)\n",
    "- [2.2.7. Upsampling + Downsampling](#2.2.7.)\n",
    "- [2.2.8. Лучший вариант Upsampling + Downsampling на смешанной выборке на тестовом датасете](#2.2.8.)\n",
    "- [2.2.9. Лучшая балансировка классов.  Визуализация.](#2.2.9.)\n",
    "- [3. Выводы](#3.)"
   ]
  },
  {
   "cell_type": "markdown",
   "metadata": {
    "pycharm": {
     "name": "#%% md\n"
    }
   },
   "source": [
    "# 1. Введение\n",
    "<a id=\"1.\"></a>"
   ]
  },
  {
   "cell_type": "markdown",
   "metadata": {
    "pycharm": {
     "name": "#%% md\n"
    }
   },
   "source": [
    "## 1.1. Описание данных\n",
    "<a id=\"1.1.\"></a>\n",
    "\n",
    "Признаки\n",
    "\n",
    "- RowNumber — индекс строки в данных\n",
    "- CustomerId — уникальный идентификатор клиента\n",
    "- Surname — фамилия\n",
    "- CreditScore — кредитный рейтинг\n",
    "- Geography — страна проживания\n",
    "- Gender — пол\n",
    "- Age — возраст\n",
    "- Tenure — сколько лет человек является клиентом банка\n",
    "- Balance — баланс на счёте\n",
    "- NumOfProducts — количество продуктов банка, используемых клиентом\n",
    "- HasCrCard — наличие кредитной карты\n",
    "- IsActiveMember — активность клиента\n",
    "- EstimatedSalary — предполагаемая зарплата\n",
    "\n",
    "Целевой признак\n",
    "- Exited — факт ухода клиента\n"
   ]
  },
  {
   "cell_type": "markdown",
   "metadata": {
    "pycharm": {
     "name": "#%% md\n"
    }
   },
   "source": [
    "# 1.2. Описание проекта\n",
    "<a id=\"1.2.\"></a>\n",
    "Из «Бета-Банка» стали уходить клиенты. Каждый месяц. Немного, но заметно. Банковские маркетологи посчитали: сохранять текущих клиентов дешевле, чем привлекать новых.\n",
    "Нужно спрогнозировать, уйдёт клиент из банка в ближайшее время или нет. Вам предоставлены исторические данные о поведении клиентов и расторжении договоров с банком.\n",
    "Постройте модель с предельно большим значением F1-меры. Чтобы сдать проект успешно, нужно довести метрику до 0.59. Проверьте F1-меру на тестовой выборке самостоятельно.\n",
    "Дополнительно измеряйте AUC-ROC, сравнивайте её значение с F1-мерой."
   ]
  },
  {
   "cell_type": "code",
   "execution_count": 2,
   "metadata": {
    "pycharm": {
     "name": "#%%\n"
    }
   },
   "outputs": [
    {
     "name": "stdout",
     "output_type": "stream",
     "text": [
      "файл Churn.csv загружен из корневой директории\n"
     ]
    }
   ],
   "source": [
    "path1 = 'Churn.csv'\n",
    "path2 = '/datasets/Churn.csv'\n",
    "if os.path.exists(path1):\n",
    "    df = pd.read_csv(path1)\n",
    "    print(f'файл {path1} загружен из корневой директории')\n",
    "elif os.path.exists(path2):\n",
    "    df = pd.read_csv(path2)\n",
    "    print(f'файл {path1} загружен из директории datasets')\n",
    "else:\n",
    "    print(f'файл {path1} не найден')"
   ]
  },
  {
   "cell_type": "markdown",
   "metadata": {
    "pycharm": {
     "name": "#%% md\n"
    }
   },
   "source": [
    "# 1.3. Исследование и подготовка данных\n",
    "<a id=\"1.3.\"></a>"
   ]
  },
  {
   "cell_type": "code",
   "execution_count": 3,
   "metadata": {
    "pycharm": {
     "name": "#%%\n"
    }
   },
   "outputs": [
    {
     "data": {
      "text/html": [
       "<div>\n",
       "<style scoped>\n",
       "    .dataframe tbody tr th:only-of-type {\n",
       "        vertical-align: middle;\n",
       "    }\n",
       "\n",
       "    .dataframe tbody tr th {\n",
       "        vertical-align: top;\n",
       "    }\n",
       "\n",
       "    .dataframe thead th {\n",
       "        text-align: right;\n",
       "    }\n",
       "</style>\n",
       "<table border=\"1\" class=\"dataframe\">\n",
       "  <thead>\n",
       "    <tr style=\"text-align: right;\">\n",
       "      <th></th>\n",
       "      <th>RowNumber</th>\n",
       "      <th>CustomerId</th>\n",
       "      <th>Surname</th>\n",
       "      <th>CreditScore</th>\n",
       "      <th>Geography</th>\n",
       "      <th>Gender</th>\n",
       "      <th>Age</th>\n",
       "      <th>Tenure</th>\n",
       "      <th>Balance</th>\n",
       "      <th>NumOfProducts</th>\n",
       "      <th>HasCrCard</th>\n",
       "      <th>IsActiveMember</th>\n",
       "      <th>EstimatedSalary</th>\n",
       "      <th>Exited</th>\n",
       "    </tr>\n",
       "  </thead>\n",
       "  <tbody>\n",
       "    <tr>\n",
       "      <th>0</th>\n",
       "      <td>1</td>\n",
       "      <td>15634602</td>\n",
       "      <td>Hargrave</td>\n",
       "      <td>619</td>\n",
       "      <td>France</td>\n",
       "      <td>Female</td>\n",
       "      <td>42</td>\n",
       "      <td>2.0</td>\n",
       "      <td>0.00</td>\n",
       "      <td>1</td>\n",
       "      <td>1</td>\n",
       "      <td>1</td>\n",
       "      <td>101348.88</td>\n",
       "      <td>1</td>\n",
       "    </tr>\n",
       "    <tr>\n",
       "      <th>1</th>\n",
       "      <td>2</td>\n",
       "      <td>15647311</td>\n",
       "      <td>Hill</td>\n",
       "      <td>608</td>\n",
       "      <td>Spain</td>\n",
       "      <td>Female</td>\n",
       "      <td>41</td>\n",
       "      <td>1.0</td>\n",
       "      <td>83807.86</td>\n",
       "      <td>1</td>\n",
       "      <td>0</td>\n",
       "      <td>1</td>\n",
       "      <td>112542.58</td>\n",
       "      <td>0</td>\n",
       "    </tr>\n",
       "    <tr>\n",
       "      <th>2</th>\n",
       "      <td>3</td>\n",
       "      <td>15619304</td>\n",
       "      <td>Onio</td>\n",
       "      <td>502</td>\n",
       "      <td>France</td>\n",
       "      <td>Female</td>\n",
       "      <td>42</td>\n",
       "      <td>8.0</td>\n",
       "      <td>159660.80</td>\n",
       "      <td>3</td>\n",
       "      <td>1</td>\n",
       "      <td>0</td>\n",
       "      <td>113931.57</td>\n",
       "      <td>1</td>\n",
       "    </tr>\n",
       "    <tr>\n",
       "      <th>3</th>\n",
       "      <td>4</td>\n",
       "      <td>15701354</td>\n",
       "      <td>Boni</td>\n",
       "      <td>699</td>\n",
       "      <td>France</td>\n",
       "      <td>Female</td>\n",
       "      <td>39</td>\n",
       "      <td>1.0</td>\n",
       "      <td>0.00</td>\n",
       "      <td>2</td>\n",
       "      <td>0</td>\n",
       "      <td>0</td>\n",
       "      <td>93826.63</td>\n",
       "      <td>0</td>\n",
       "    </tr>\n",
       "    <tr>\n",
       "      <th>4</th>\n",
       "      <td>5</td>\n",
       "      <td>15737888</td>\n",
       "      <td>Mitchell</td>\n",
       "      <td>850</td>\n",
       "      <td>Spain</td>\n",
       "      <td>Female</td>\n",
       "      <td>43</td>\n",
       "      <td>2.0</td>\n",
       "      <td>125510.82</td>\n",
       "      <td>1</td>\n",
       "      <td>1</td>\n",
       "      <td>1</td>\n",
       "      <td>79084.10</td>\n",
       "      <td>0</td>\n",
       "    </tr>\n",
       "  </tbody>\n",
       "</table>\n",
       "</div>"
      ],
      "text/plain": [
       "   RowNumber  CustomerId   Surname  CreditScore Geography  Gender  Age  \\\n",
       "0          1    15634602  Hargrave          619    France  Female   42   \n",
       "1          2    15647311      Hill          608     Spain  Female   41   \n",
       "2          3    15619304      Onio          502    France  Female   42   \n",
       "3          4    15701354      Boni          699    France  Female   39   \n",
       "4          5    15737888  Mitchell          850     Spain  Female   43   \n",
       "\n",
       "   Tenure    Balance  NumOfProducts  HasCrCard  IsActiveMember  \\\n",
       "0     2.0       0.00              1          1               1   \n",
       "1     1.0   83807.86              1          0               1   \n",
       "2     8.0  159660.80              3          1               0   \n",
       "3     1.0       0.00              2          0               0   \n",
       "4     2.0  125510.82              1          1               1   \n",
       "\n",
       "   EstimatedSalary  Exited  \n",
       "0        101348.88       1  \n",
       "1        112542.58       0  \n",
       "2        113931.57       1  \n",
       "3         93826.63       0  \n",
       "4         79084.10       0  "
      ]
     },
     "execution_count": 3,
     "metadata": {},
     "output_type": "execute_result"
    }
   ],
   "source": [
    "# посмотрим на данные\n",
    "df.head()"
   ]
  },
  {
   "cell_type": "code",
   "execution_count": 4,
   "metadata": {
    "pycharm": {
     "name": "#%%\n"
    }
   },
   "outputs": [
    {
     "name": "stdout",
     "output_type": "stream",
     "text": [
      "<class 'pandas.core.frame.DataFrame'>\n",
      "RangeIndex: 10000 entries, 0 to 9999\n",
      "Data columns (total 14 columns):\n",
      " #   Column           Non-Null Count  Dtype  \n",
      "---  ------           --------------  -----  \n",
      " 0   RowNumber        10000 non-null  int64  \n",
      " 1   CustomerId       10000 non-null  int64  \n",
      " 2   Surname          10000 non-null  object \n",
      " 3   CreditScore      10000 non-null  int64  \n",
      " 4   Geography        10000 non-null  object \n",
      " 5   Gender           10000 non-null  object \n",
      " 6   Age              10000 non-null  int64  \n",
      " 7   Tenure           9091 non-null   float64\n",
      " 8   Balance          10000 non-null  float64\n",
      " 9   NumOfProducts    10000 non-null  int64  \n",
      " 10  HasCrCard        10000 non-null  int64  \n",
      " 11  IsActiveMember   10000 non-null  int64  \n",
      " 12  EstimatedSalary  10000 non-null  float64\n",
      " 13  Exited           10000 non-null  int64  \n",
      "dtypes: float64(3), int64(8), object(3)\n",
      "memory usage: 1.1+ MB\n"
     ]
    }
   ],
   "source": [
    "# выведем информацию а датасете\n",
    "df.info()"
   ]
  },
  {
   "cell_type": "code",
   "execution_count": 5,
   "metadata": {
    "pycharm": {
     "name": "#%%\n"
    }
   },
   "outputs": [
    {
     "data": {
      "text/html": [
       "<div>\n",
       "<style scoped>\n",
       "    .dataframe tbody tr th:only-of-type {\n",
       "        vertical-align: middle;\n",
       "    }\n",
       "\n",
       "    .dataframe tbody tr th {\n",
       "        vertical-align: top;\n",
       "    }\n",
       "\n",
       "    .dataframe thead th {\n",
       "        text-align: right;\n",
       "    }\n",
       "</style>\n",
       "<table border=\"1\" class=\"dataframe\">\n",
       "  <thead>\n",
       "    <tr style=\"text-align: right;\">\n",
       "      <th></th>\n",
       "      <th>RowNumber</th>\n",
       "      <th>CustomerId</th>\n",
       "      <th>Surname</th>\n",
       "      <th>CreditScore</th>\n",
       "      <th>Geography</th>\n",
       "      <th>Gender</th>\n",
       "      <th>Age</th>\n",
       "      <th>Tenure</th>\n",
       "      <th>Balance</th>\n",
       "      <th>NumOfProducts</th>\n",
       "      <th>HasCrCard</th>\n",
       "      <th>IsActiveMember</th>\n",
       "      <th>EstimatedSalary</th>\n",
       "      <th>Exited</th>\n",
       "    </tr>\n",
       "  </thead>\n",
       "  <tbody>\n",
       "    <tr>\n",
       "      <th>30</th>\n",
       "      <td>31</td>\n",
       "      <td>15589475</td>\n",
       "      <td>Azikiwe</td>\n",
       "      <td>591</td>\n",
       "      <td>Spain</td>\n",
       "      <td>Female</td>\n",
       "      <td>39</td>\n",
       "      <td>NaN</td>\n",
       "      <td>0.00</td>\n",
       "      <td>3</td>\n",
       "      <td>1</td>\n",
       "      <td>0</td>\n",
       "      <td>140469.38</td>\n",
       "      <td>1</td>\n",
       "    </tr>\n",
       "    <tr>\n",
       "      <th>48</th>\n",
       "      <td>49</td>\n",
       "      <td>15766205</td>\n",
       "      <td>Yin</td>\n",
       "      <td>550</td>\n",
       "      <td>Germany</td>\n",
       "      <td>Male</td>\n",
       "      <td>38</td>\n",
       "      <td>NaN</td>\n",
       "      <td>103391.38</td>\n",
       "      <td>1</td>\n",
       "      <td>0</td>\n",
       "      <td>1</td>\n",
       "      <td>90878.13</td>\n",
       "      <td>0</td>\n",
       "    </tr>\n",
       "    <tr>\n",
       "      <th>51</th>\n",
       "      <td>52</td>\n",
       "      <td>15768193</td>\n",
       "      <td>Trevisani</td>\n",
       "      <td>585</td>\n",
       "      <td>Germany</td>\n",
       "      <td>Male</td>\n",
       "      <td>36</td>\n",
       "      <td>NaN</td>\n",
       "      <td>146050.97</td>\n",
       "      <td>2</td>\n",
       "      <td>0</td>\n",
       "      <td>0</td>\n",
       "      <td>86424.57</td>\n",
       "      <td>0</td>\n",
       "    </tr>\n",
       "    <tr>\n",
       "      <th>53</th>\n",
       "      <td>54</td>\n",
       "      <td>15702298</td>\n",
       "      <td>Parkhill</td>\n",
       "      <td>655</td>\n",
       "      <td>Germany</td>\n",
       "      <td>Male</td>\n",
       "      <td>41</td>\n",
       "      <td>NaN</td>\n",
       "      <td>125561.97</td>\n",
       "      <td>1</td>\n",
       "      <td>0</td>\n",
       "      <td>0</td>\n",
       "      <td>164040.94</td>\n",
       "      <td>1</td>\n",
       "    </tr>\n",
       "    <tr>\n",
       "      <th>60</th>\n",
       "      <td>61</td>\n",
       "      <td>15651280</td>\n",
       "      <td>Hunter</td>\n",
       "      <td>742</td>\n",
       "      <td>Germany</td>\n",
       "      <td>Male</td>\n",
       "      <td>35</td>\n",
       "      <td>NaN</td>\n",
       "      <td>136857.00</td>\n",
       "      <td>1</td>\n",
       "      <td>0</td>\n",
       "      <td>0</td>\n",
       "      <td>84509.57</td>\n",
       "      <td>0</td>\n",
       "    </tr>\n",
       "  </tbody>\n",
       "</table>\n",
       "</div>"
      ],
      "text/plain": [
       "    RowNumber  CustomerId    Surname  CreditScore Geography  Gender  Age  \\\n",
       "30         31    15589475    Azikiwe          591     Spain  Female   39   \n",
       "48         49    15766205        Yin          550   Germany    Male   38   \n",
       "51         52    15768193  Trevisani          585   Germany    Male   36   \n",
       "53         54    15702298   Parkhill          655   Germany    Male   41   \n",
       "60         61    15651280     Hunter          742   Germany    Male   35   \n",
       "\n",
       "    Tenure    Balance  NumOfProducts  HasCrCard  IsActiveMember  \\\n",
       "30     NaN       0.00              3          1               0   \n",
       "48     NaN  103391.38              1          0               1   \n",
       "51     NaN  146050.97              2          0               0   \n",
       "53     NaN  125561.97              1          0               0   \n",
       "60     NaN  136857.00              1          0               0   \n",
       "\n",
       "    EstimatedSalary  Exited  \n",
       "30        140469.38       1  \n",
       "48         90878.13       0  \n",
       "51         86424.57       0  \n",
       "53        164040.94       1  \n",
       "60         84509.57       0  "
      ]
     },
     "execution_count": 5,
     "metadata": {},
     "output_type": "execute_result"
    }
   ],
   "source": [
    "# посмотрим на строки с пропусками в 'Tenure'\n",
    "df[df['Tenure'].isna()].head()\n",
    "# обычные строки, только с пропусками"
   ]
  },
  {
   "cell_type": "markdown",
   "metadata": {
    "pycharm": {
     "name": "#%% md\n"
    }
   },
   "source": [
    "**Выводы:**\n",
    "1. 'RowNumber' - порядковый номер строки (не стал здесь приводить сследования по данному вопросу) необходимо удалить, т.к. никакой информации не несет.\n",
    "2. 'CustomerId', 'Surname',  - в нашем случае не нужен, и, к тому же, не несет смысловой нагрузки. В процессе обучения и прогнозирования является лишним. Так же необходимо удалить.\n",
    "3. 'Geogrphy', 'Gender' -  для данного столбца требуется кодирование значения. Для всех моделей применим OHE\n",
    "4. 'Tenure' - присутствуют пропуски. Какая причина этого неизвестно, и, вероятно, если удалить строки с пропуском в данном столбце, модель будет давать более лучшие прогнозы, но поскольку стоит задача обучить модель на существующих данных, будем работать с тем, что есть и заменим пропуски медианой. (Хотя, возможно, пропуск значит что клиент не является клиентом банка и тогда надо заменить на 0.)"
   ]
  },
  {
   "cell_type": "code",
   "execution_count": 6,
   "metadata": {
    "pycharm": {
     "name": "#%%\n"
    }
   },
   "outputs": [],
   "source": [
    "# удалим столбцы (в соответствии с п.1, 2)\n",
    "df.drop(columns=['RowNumber', 'CustomerId', 'CustomerId', 'Surname'], axis=1, inplace=True)\n",
    "# One Hot Encoding !\n",
    "df = pd.get_dummies(df, drop_first=True)\n",
    "# заменим пропуски\n",
    "df.loc[df['Tenure'].isna(),'Tenure'] = df['Tenure'].median()"
   ]
  },
  {
   "cell_type": "code",
   "execution_count": 7,
   "metadata": {},
   "outputs": [],
   "source": [
    "#df.loc[df['Tenure'].isna(),'Tenure'] = df['Tenure'].median()"
   ]
  },
  {
   "cell_type": "code",
   "execution_count": 8,
   "metadata": {
    "pycharm": {
     "name": "#%%\n"
    }
   },
   "outputs": [
    {
     "data": {
      "text/html": [
       "<div>\n",
       "<style scoped>\n",
       "    .dataframe tbody tr th:only-of-type {\n",
       "        vertical-align: middle;\n",
       "    }\n",
       "\n",
       "    .dataframe tbody tr th {\n",
       "        vertical-align: top;\n",
       "    }\n",
       "\n",
       "    .dataframe thead th {\n",
       "        text-align: right;\n",
       "    }\n",
       "</style>\n",
       "<table border=\"1\" class=\"dataframe\">\n",
       "  <thead>\n",
       "    <tr style=\"text-align: right;\">\n",
       "      <th></th>\n",
       "      <th>CreditScore</th>\n",
       "      <th>Age</th>\n",
       "      <th>Tenure</th>\n",
       "      <th>Balance</th>\n",
       "      <th>NumOfProducts</th>\n",
       "      <th>HasCrCard</th>\n",
       "      <th>IsActiveMember</th>\n",
       "      <th>EstimatedSalary</th>\n",
       "      <th>Exited</th>\n",
       "      <th>Geography_Germany</th>\n",
       "      <th>Geography_Spain</th>\n",
       "      <th>Gender_Male</th>\n",
       "    </tr>\n",
       "  </thead>\n",
       "  <tbody>\n",
       "    <tr>\n",
       "      <th>0</th>\n",
       "      <td>619</td>\n",
       "      <td>42</td>\n",
       "      <td>2.0</td>\n",
       "      <td>0.00</td>\n",
       "      <td>1</td>\n",
       "      <td>1</td>\n",
       "      <td>1</td>\n",
       "      <td>101348.88</td>\n",
       "      <td>1</td>\n",
       "      <td>0</td>\n",
       "      <td>0</td>\n",
       "      <td>0</td>\n",
       "    </tr>\n",
       "    <tr>\n",
       "      <th>1</th>\n",
       "      <td>608</td>\n",
       "      <td>41</td>\n",
       "      <td>1.0</td>\n",
       "      <td>83807.86</td>\n",
       "      <td>1</td>\n",
       "      <td>0</td>\n",
       "      <td>1</td>\n",
       "      <td>112542.58</td>\n",
       "      <td>0</td>\n",
       "      <td>0</td>\n",
       "      <td>1</td>\n",
       "      <td>0</td>\n",
       "    </tr>\n",
       "    <tr>\n",
       "      <th>2</th>\n",
       "      <td>502</td>\n",
       "      <td>42</td>\n",
       "      <td>8.0</td>\n",
       "      <td>159660.80</td>\n",
       "      <td>3</td>\n",
       "      <td>1</td>\n",
       "      <td>0</td>\n",
       "      <td>113931.57</td>\n",
       "      <td>1</td>\n",
       "      <td>0</td>\n",
       "      <td>0</td>\n",
       "      <td>0</td>\n",
       "    </tr>\n",
       "    <tr>\n",
       "      <th>3</th>\n",
       "      <td>699</td>\n",
       "      <td>39</td>\n",
       "      <td>1.0</td>\n",
       "      <td>0.00</td>\n",
       "      <td>2</td>\n",
       "      <td>0</td>\n",
       "      <td>0</td>\n",
       "      <td>93826.63</td>\n",
       "      <td>0</td>\n",
       "      <td>0</td>\n",
       "      <td>0</td>\n",
       "      <td>0</td>\n",
       "    </tr>\n",
       "    <tr>\n",
       "      <th>4</th>\n",
       "      <td>850</td>\n",
       "      <td>43</td>\n",
       "      <td>2.0</td>\n",
       "      <td>125510.82</td>\n",
       "      <td>1</td>\n",
       "      <td>1</td>\n",
       "      <td>1</td>\n",
       "      <td>79084.10</td>\n",
       "      <td>0</td>\n",
       "      <td>0</td>\n",
       "      <td>1</td>\n",
       "      <td>0</td>\n",
       "    </tr>\n",
       "  </tbody>\n",
       "</table>\n",
       "</div>"
      ],
      "text/plain": [
       "   CreditScore  Age  Tenure    Balance  NumOfProducts  HasCrCard  \\\n",
       "0          619   42     2.0       0.00              1          1   \n",
       "1          608   41     1.0   83807.86              1          0   \n",
       "2          502   42     8.0  159660.80              3          1   \n",
       "3          699   39     1.0       0.00              2          0   \n",
       "4          850   43     2.0  125510.82              1          1   \n",
       "\n",
       "   IsActiveMember  EstimatedSalary  Exited  Geography_Germany  \\\n",
       "0               1        101348.88       1                  0   \n",
       "1               1        112542.58       0                  0   \n",
       "2               0        113931.57       1                  0   \n",
       "3               0         93826.63       0                  0   \n",
       "4               1         79084.10       0                  0   \n",
       "\n",
       "   Geography_Spain  Gender_Male  \n",
       "0                0            0  \n",
       "1                1            0  \n",
       "2                0            0  \n",
       "3                0            0  \n",
       "4                1            0  "
      ]
     },
     "execution_count": 8,
     "metadata": {},
     "output_type": "execute_result"
    }
   ],
   "source": [
    "df.head()"
   ]
  },
  {
   "cell_type": "markdown",
   "metadata": {
    "pycharm": {
     "name": "#%% md\n"
    }
   },
   "source": [
    "# 1.4. Исследование баланса классов\n",
    "<a id=\"1.4.\"></a>"
   ]
  },
  {
   "cell_type": "code",
   "execution_count": 9,
   "metadata": {
    "pycharm": {
     "name": "#%%\n"
    }
   },
   "outputs": [
    {
     "data": {
      "text/plain": [
       "[Text(0, 0.5, 'Количество экземпларов')]"
      ]
     },
     "execution_count": 9,
     "metadata": {},
     "output_type": "execute_result"
    },
    {
     "data": {
      "image/png": "[encoded data removed]",
      "text/plain": [
       "<Figure size 432x288 with 1 Axes>"
      ]
     },
     "metadata": {
      "needs_background": "light"
     },
     "output_type": "display_data"
    }
   ],
   "source": [
    "ax= df['Exited'].value_counts().plot(kind='bar', title = 'Исходный баланс классов', grid=True)\n",
    "ax.set(xlabel = 'Класс')\n",
    "ax.set(ylabel = 'Количество экземпларов')"
   ]
  },
  {
   "cell_type": "markdown",
   "metadata": {
    "pycharm": {
     "name": "#%% md\n"
    }
   },
   "source": [
    "Как видно, присутствует 4-х кратный дисбаланс классов. Не то чтобы огромный, но есть."
   ]
  },
  {
   "cell_type": "markdown",
   "metadata": {
    "pycharm": {
     "name": "#%% md\n"
    }
   },
   "source": [
    "# 2. Машинное обучение\n",
    "<a id=\"2.\"></a>"
   ]
  },
  {
   "cell_type": "code",
   "execution_count": 10,
   "metadata": {
    "pycharm": {
     "name": "#%%\n"
    }
   },
   "outputs": [],
   "source": [
    "# разобьем исходный датафрейм на train и test\n",
    "X_train, X_test, y_train, y_test = train_test_split(df.drop('Exited', axis=1), df['Exited'], \n",
    "                                                    stratify = df['Exited'], \n",
    "                                                    test_size=0.25,\n",
    "                                                    random_state=42)\n",
    "# разобьем полученный train еще раз на снова train и validation выборки в той же пропорции\n",
    "X_train, X_valid, y_train, y_valid = train_test_split(X_train, \n",
    "                                                      y_train, \n",
    "                                                      stratify = y_train, \n",
    "                                                      test_size=0.25, \n",
    "                                                      random_state=42)"
   ]
  },
  {
   "cell_type": "code",
   "execution_count": 11,
   "metadata": {},
   "outputs": [
    {
     "name": "stdout",
     "output_type": "stream",
     "text": [
      "X_train.shape = (5625, 11)\n",
      "X_test.shape = (2500, 11)\n",
      "X_valid.shape = (1875, 11)\n",
      "y_train.shape = (5625,)\n",
      "y_test.shape = (2500,)\n",
      "y_valid.shape = (1875,)\n"
     ]
    }
   ],
   "source": [
    "# убедимся, что форма массивов корректная\n",
    "print('X_train.shape =', X_train.shape)\n",
    "print('X_test.shape =', X_test.shape)\n",
    "print('X_valid.shape =', X_valid.shape)\n",
    "print('y_train.shape =', y_train.shape)\n",
    "print('y_test.shape =', y_test.shape)\n",
    "print('y_valid.shape =', y_valid.shape)"
   ]
  },
  {
   "cell_type": "markdown",
   "metadata": {
    "pycharm": {
     "name": "#%% md\n"
    }
   },
   "source": [
    "Разделение на тренировочную и тестовую выборки прошло успешно. 7500 записей на обучение и 2500 на тест."
   ]
  },
  {
   "cell_type": "markdown",
   "metadata": {},
   "source": [
    "посмотрим на балансировку классов в полученных датафреймах"
   ]
  },
  {
   "cell_type": "code",
   "execution_count": 12,
   "metadata": {},
   "outputs": [
    {
     "data": {
      "image/png": "[encoded data removed]",
      "text/plain": [
       "<Figure size 1440x360 with 3 Axes>"
      ]
     },
     "metadata": {
      "needs_background": "light"
     },
     "output_type": "display_data"
    }
   ],
   "source": [
    "fig, axes = plt.subplots(nrows=1, ncols=3, figsize=(20, 5)) # размещаем в 1 строку и 2 столбца\n",
    "fig.suptitle('Балансировки классов для тренировочой валидационной и проверочной выборок', fontsize=15)\n",
    "\n",
    "y_train.value_counts().plot(ax = axes[0], kind='bar', title = 'Баланс классов для y_train', grid=True)\n",
    "y_test.value_counts().plot(ax = axes[1], kind='bar', title = 'Баланс классов для y_test', grid=True)\n",
    "y_valid.value_counts().plot(ax = axes[2], kind='bar', title = 'Баланс классов для y_valid', grid=True)\n",
    "axes[0].set(xlabel = 'Класс')\n",
    "axes[1].set(xlabel = 'Класс')\n",
    "axes[2].set(xlabel = 'Класс')\n",
    "axes[0].set(ylabel = 'Количество экземпляров класса')\n",
    "axes[1].set(ylabel = 'Количество экземпляров класса')\n",
    "axes[2].set(ylabel = 'Количество экземпляров класса')\n",
    "#axes[0].set_ylim(0, 6000)\n",
    "#axes[1].set_ylim(0, 6000)\n",
    "#axes[2].set_ylim(0, 6000)\n",
    "plt.show()"
   ]
  },
  {
   "cell_type": "markdown",
   "metadata": {},
   "source": [
    "Как видно баланс классов для всех выборок визуально одинаковый. Численно проверку проводить не будем, т.к. каких-то особых критерив под это не ставилось. "
   ]
  },
  {
   "cell_type": "markdown",
   "metadata": {
    "pycharm": {
     "name": "#%% md\n"
    }
   },
   "source": [
    "## 2.1. Без учета дисбаланса классов\n",
    "<a id=\"2.1.\"></a>"
   ]
  },
  {
   "cell_type": "markdown",
   "metadata": {
    "pycharm": {
     "name": "#%% md\n"
    }
   },
   "source": [
    "### 2.1.1. Логистическая регрессия\n",
    "<a id=\"2.1.1.\"></a>"
   ]
  },
  {
   "cell_type": "markdown",
   "metadata": {
    "pycharm": {
     "name": "#%% md\n"
    }
   },
   "source": [
    "#### 2.1.1.1. Без масштабирования признаков\n",
    "<a id=\"2.1.1.1.\"></a>"
   ]
  },
  {
   "cell_type": "code",
   "execution_count": 13,
   "metadata": {
    "pycharm": {
     "name": "#%%\n"
    }
   },
   "outputs": [
    {
     "name": "stdout",
     "output_type": "stream",
     "text": [
      "f1_score = 0.07424593967517401\n",
      "roc_auc_score = 0.6612025403015118\n",
      "best_params =  {'tol': 0.003, 'multi_class': 'ovr', 'class_weight': None, 'C': 5}\n"
     ]
    }
   ],
   "source": [
    "# зададим набор параметров\n",
    "param_distributions_logreg = {\n",
    "    'C': [0.01, 0.05, 0.1, 0.2, 0.3, 0.5, 1, 2, 5, 8, 9, 10, 11, 12, 13, 14, 15, 16 ,17 ,  20, 40, 60, 80, 100],\n",
    "    'tol': [1, 1e-1, 1e-2, 2e-2, 3e-2 , 4e-2 , 5e-2 , 6e-2 , 7e-2, 8e-2 , 9e-2, 1e-3, 2e-3, 3e-3, 4e-3 , 5e-3, 6e-3, 7e-3, 8e-3, 9e-3, 1e-4, 1e-5, 1e-6],\n",
    "    'class_weight': [None], # , 'balanced'\n",
    "    'multi_class': ['ovr', 'multinomial']}\n",
    "\n",
    "logreg_model = LogisticRegression(random_state=42)\n",
    "cv_logreg = StratifiedKFold(n_splits=5, shuffle=True, random_state=42)\n",
    "randomsearch_logreg = RandomizedSearchCV(estimator=logreg_model, param_distributions=param_distributions_logreg, cv=cv_logreg, n_iter= 1000,  scoring='f1', n_jobs=3, random_state=42 )\n",
    "randomsearch_logreg.fit(X_train, y_train)\n",
    "randomsearch_logreg_prediction = randomsearch_logreg.predict(X_valid)\n",
    "# посмотрим на результат и выведем лучшие параметры\n",
    "print('f1_score =', f1_score(y_valid,  randomsearch_logreg_prediction))\n",
    "print('roc_auc_score =', roc_auc_score(y_valid,  randomsearch_logreg.predict_proba(X_valid)[:, 1]))\n",
    "print('best_params = ', randomsearch_logreg.best_params_)"
   ]
  },
  {
   "cell_type": "markdown",
   "metadata": {
    "pycharm": {
     "name": "#%% md\n"
    }
   },
   "source": [
    "#### 2.1.1.2. C масштабированим признаков\n",
    "<a id=\"2.1.1.2.\"></a>"
   ]
  },
  {
   "cell_type": "code",
   "execution_count": 14,
   "metadata": {
    "pycharm": {
     "name": "#%%\n"
    }
   },
   "outputs": [],
   "source": [
    "scaler = StandardScaler()\n",
    "scaler.fit(X_train)\n",
    "X_train_scaled = scaler.transform(X_train)\n",
    "X_valid_scaled = scaler.transform(X_valid)"
   ]
  },
  {
   "cell_type": "code",
   "execution_count": 15,
   "metadata": {
    "pycharm": {
     "name": "#%%\n"
    }
   },
   "outputs": [
    {
     "name": "stdout",
     "output_type": "stream",
     "text": [
      "f1_score = 0.32523364485981304\n",
      "roc_auc_score = 0.5013395847287341\n",
      "best_params =  {'tol': 0.003, 'multi_class': 'ovr', 'class_weight': None, 'C': 1}\n"
     ]
    }
   ],
   "source": [
    "# зададим набор параметров\n",
    "param_distributions_logreg = {\n",
    "    'C': [0.01, 0.05, 0.1, 0.2, 0.3, 0.5, 1, 2, 5, 8, 9, 10, 11, 12, 13, 14, 15, 16 ,17 ,  20, 40, 60, 80, 100],\n",
    "    'tol': [1, 1e-1, 1e-2, 2e-2, 3e-2 , 4e-2 , 5e-2 , 6e-2 , 7e-2, 8e-2 , 9e-2, 1e-3, 2e-3, 3e-3, 4e-3 , 5e-3, 6e-3, 7e-3, 8e-3, 9e-3, 1e-4, 1e-5, 1e-6],\n",
    "    'class_weight': [None], # , 'balanced'\n",
    "    'multi_class': ['ovr', 'multinomial']}\n",
    "\n",
    "logreg_model = LogisticRegression(random_state=42)\n",
    "cv_logreg = StratifiedKFold(n_splits=5, shuffle=True, random_state=42)\n",
    "randomsearch_logreg = RandomizedSearchCV(estimator=logreg_model, param_distributions=param_distributions_logreg, cv=cv_logreg, n_iter= 1000,  scoring='f1', n_jobs=3, random_state=42)\n",
    "randomsearch_logreg.fit(X_train_scaled, y_train)\n",
    "randomsearch_logreg_prediction = randomsearch_logreg.predict(X_valid_scaled)\n",
    "# посмотрим на результат и выведем лучшие параметры\n",
    "print('f1_score =', f1_score(y_valid,  randomsearch_logreg_prediction))\n",
    "print('roc_auc_score =', roc_auc_score(y_valid,  randomsearch_logreg.predict_proba(X_valid)[:, 1]))\n",
    "print('best_params = ', randomsearch_logreg.best_params_)"
   ]
  },
  {
   "cell_type": "markdown",
   "metadata": {
    "pycharm": {
     "name": "#%% md\n"
    }
   },
   "source": [
    "Похоже что в данном вопросе логистическая регрессия не очень нам поможет (или я просто не умею её готовить). Применив балансировку или взвешивание классов скорее всего удастся повысиь резульат, но навряд ли настолько значительно, насколько требуется. С учетом этого (ввиду ее не высокой эффективности) придется отказаться от ее дальнейшего применения в настоящем проекте.\n",
    "Посмотрим, что нам покажет \"Случайный лес\"."
   ]
  },
  {
   "cell_type": "markdown",
   "metadata": {
    "pycharm": {
     "name": "#%% md\n"
    }
   },
   "source": [
    "### 2.1.2. Случайный лес\n",
    "<a id=\"2.1.2.\"></a>"
   ]
  },
  {
   "cell_type": "code",
   "execution_count": 16,
   "metadata": {
    "pycharm": {
     "name": "#%%\n"
    }
   },
   "outputs": [
    {
     "name": "stdout",
     "output_type": "stream",
     "text": [
      "f1_score = 0.5769854132901134\n",
      "roc_auc_score = 0.8587158923142204\n",
      "best_params =  {'n_jobs': -1, 'n_estimators': 750, 'min_samples_split': 20, 'min_samples_leaf': 1, 'max_features': 'log2', 'max_depth': 18, 'bootstrap': False}\n",
      "Wall time: 21min 34s\n"
     ]
    }
   ],
   "source": [
    "%%time\n",
    "param_distributions_randomforest = {\n",
    "    'n_estimators': range(10,1001,10), # Лучший параметр\n",
    "    'min_samples_split': range(20,60,5),\n",
    "    'max_features': ['sqrt','log2'], # Лучший параметр\n",
    "    'max_depth': range(2,21,1), #\n",
    "    'n_jobs': [-1],\n",
    "    'min_samples_leaf': range(1, 201, 10),\n",
    "    'bootstrap' : [True, False]} # Лучший параметр\n",
    "\n",
    "\n",
    "cv_randomforest = StratifiedKFold(n_splits=10, random_state=123, shuffle=True)\n",
    "randomforest_model = RandomForestClassifier(random_state=135)\n",
    "\n",
    "randomsearch_randomforest = RandomizedSearchCV(estimator=randomforest_model, param_distributions=param_distributions_randomforest, cv=cv_randomforest, n_iter= 120,  scoring='f1', n_jobs=3, random_state=42 )\n",
    "randomsearch_randomforest.fit(X_train, y_train)\n",
    "\n",
    "randomforest_best_params = randomsearch_randomforest.best_params_\n",
    "\n",
    "print('f1_score =', f1_score(y_valid,  randomsearch_randomforest.predict(X_valid)))\n",
    "print('roc_auc_score =', roc_auc_score(y_valid,  randomsearch_randomforest.predict_proba(X_valid)[:, 1]))\n",
    "print('best_params = ', randomforest_best_params)"
   ]
  },
  {
   "cell_type": "markdown",
   "metadata": {
    "pycharm": {
     "name": "#%% md\n"
    }
   },
   "source": [
    "Значительно лучше! f1_score = 0.594 против 0.291 для логистической регрессии.\n",
    "Посмотрим, что нам даст перебалансировка классов."
   ]
  },
  {
   "cell_type": "markdown",
   "metadata": {
    "pycharm": {
     "name": "#%% md\n"
    }
   },
   "source": [
    "## 2.2. С учетом дисбаланса классов\n",
    "<a id=\"2.2.\"></a>"
   ]
  },
  {
   "cell_type": "markdown",
   "metadata": {
    "pycharm": {
     "name": "#%% md\n"
    }
   },
   "source": [
    "### 2.2.1. Скорректируем параметр class_weight\n",
    "<a id=\"2.2.1.\"></a>"
   ]
  },
  {
   "cell_type": "markdown",
   "metadata": {
    "pycharm": {
     "name": "#%% md\n"
    }
   },
   "source": [
    "В п. 2.1.2 найдено лучшее сочетание гиперпарметров. Воспользуемся ими и добавим еще один гиперпараметр 'class_weight' со значением 'balanced'."
   ]
  },
  {
   "cell_type": "code",
   "execution_count": 17,
   "metadata": {
    "pycharm": {
     "name": "#%%\n"
    }
   },
   "outputs": [
    {
     "name": "stdout",
     "output_type": "stream",
     "text": [
      "f1_score = 0.6307884856070087\n",
      "roc_auc_score = 0.8570028369739412\n",
      "----------"
     ]
    }
   ],
   "source": [
    "randomforest_model_class_weighted = RandomForestClassifier(random_state=135,\n",
    "                                            n_estimators=randomforest_best_params['n_estimators'],\n",
    "                                            min_samples_split=randomforest_best_params['min_samples_split'],\n",
    "                                            min_samples_leaf=randomforest_best_params['min_samples_leaf'],\n",
    "                                            max_features=randomforest_best_params['max_features'],\n",
    "                                            max_depth=randomforest_best_params['max_depth'],\n",
    "                                            bootstrap=randomforest_best_params['bootstrap'],\n",
    "                                            class_weight='balanced')\n",
    "\n",
    "randomforest_model_class_weighted.fit(X_train, y_train)\n",
    "\n",
    "print('f1_score =', f1_score(y_valid,  randomforest_model_class_weighted.predict(X_valid)))\n",
    "print('roc_auc_score =', roc_auc_score(y_valid,  randomforest_model_class_weighted.predict_proba(X_valid)[:, 1]), end='\\n----------')"
   ]
  },
  {
   "cell_type": "markdown",
   "metadata": {
    "pycharm": {
     "name": "#%% md\n"
    }
   },
   "source": [
    "Не плохо! Прирост = 0,024.\n"
   ]
  },
  {
   "cell_type": "markdown",
   "metadata": {
    "pycharm": {
     "name": "#%% md\n"
    }
   },
   "source": [
    "### 2.2.2. Cо взвешеннымми классами на тестовой выборке\n",
    "<a id=\"2.2.2.\"></a>"
   ]
  },
  {
   "cell_type": "code",
   "execution_count": 18,
   "metadata": {
    "pycharm": {
     "name": "#%%\n"
    }
   },
   "outputs": [
    {
     "name": "stdout",
     "output_type": "stream",
     "text": [
      "f1_score = 0.6287878787878788\n",
      "roc_auc_score = 0.8676282958973535\n",
      "----------"
     ]
    }
   ],
   "source": [
    "print('f1_score =', f1_score(y_test,  randomforest_model_class_weighted.predict(X_test)))\n",
    "print('roc_auc_score =', roc_auc_score(y_test,  randomforest_model_class_weighted.predict_proba(X_test)[:, 1]), end='\\n----------')"
   ]
  },
  {
   "cell_type": "markdown",
   "metadata": {
    "pycharm": {
     "name": "#%% md\n"
    }
   },
   "source": [
    "### 2.2.3. Upsampling\n",
    "<a id=\"2.2.3.\"></a>"
   ]
  },
  {
   "cell_type": "code",
   "execution_count": 19,
   "metadata": {
    "pycharm": {
     "name": "#%%\n"
    }
   },
   "outputs": [],
   "source": [
    "# подготовим функцию для апсемплинга\n",
    "def upsample(features, target, repeat):\n",
    "    \"\"\"\n",
    "    функция повышает число записей с целевой переменной = 1 в repeat число раз\n",
    "    \"\"\"\n",
    "    features_zeros = features[target == 0]\n",
    "    features_ones = features[target == 1]\n",
    "    target_zeros = target[target == 0]\n",
    "    target_ones = target[target == 1]\n",
    "    features_upsampled = pd.concat([features_zeros] + [features_ones] * repeat)\n",
    "    target_upsampled = pd.concat([target_zeros] + [target_ones] * repeat)\n",
    "    features_upsampled, target_upsampled = shuffle(features_upsampled, target_upsampled, random_state=12345)\n",
    "    return features_upsampled, target_upsampled"
   ]
  },
  {
   "cell_type": "markdown",
   "metadata": {
    "pycharm": {
     "name": "#%% md\n"
    }
   },
   "source": [
    "Посмотрим будет ли прирост score с теми же гиперпараметрами, но с upsamplng-ом. Для этого возьмем полученные лучшие параметры (randomforest_best_params)."
   ]
  },
  {
   "cell_type": "code",
   "execution_count": 20,
   "metadata": {
    "pycharm": {
     "name": "#%%\n"
    }
   },
   "outputs": [
    {
     "name": "stdout",
     "output_type": "stream",
     "text": [
      "repeat = 1\n",
      "f1_score = 0.5769854132901134\n",
      "roc_auc score = 0.8587158923142204\n",
      "----------\n",
      "repeat = 2\n",
      "f1_score = 0.6078147612156295\n",
      "roc_auc score = 0.8578900488492546\n",
      "----------\n",
      "repeat = 3\n",
      "f1_score = 0.6147426981919333\n",
      "roc_auc score = 0.8562173213214898\n",
      "----------\n",
      "repeat = 4\n",
      "f1_score = 0.6090534979423868\n",
      "roc_auc score = 0.8558789183730008\n",
      "----------\n",
      "====================\n",
      "best_f1_score= 0.6147426981919333\n",
      "roc_auc score= 0.8558789183730008\n"
     ]
    }
   ],
   "source": [
    "best_f1_score_result = 0\n",
    "for repeat in range(1,5):\n",
    "    X_train_upsampled, y_train_upsampled = upsample(X_train, y_train, repeat)\n",
    "\n",
    "    randomforest_model = RandomForestClassifier(random_state=135,\n",
    "                                                n_estimators=randomforest_best_params['n_estimators'],\n",
    "                                                min_samples_split=randomforest_best_params['min_samples_split'],\n",
    "                                                min_samples_leaf=randomforest_best_params['min_samples_leaf'],\n",
    "                                                max_features=randomforest_best_params['max_features'],\n",
    "                                                max_depth=randomforest_best_params['max_depth'],\n",
    "                                                bootstrap=randomforest_best_params['bootstrap'] )\n",
    "\n",
    "    randomforest_model.fit(X_train_upsampled, y_train_upsampled)\n",
    "\n",
    "    f1_score_result = f1_score(y_valid,  randomforest_model.predict(X_valid))\n",
    "    roc_auc_score_result = roc_auc_score(y_valid,  randomforest_model.predict_proba(X_valid)[:, 1])\n",
    "    print('repeat =', repeat)\n",
    "    print('f1_score =', f1_score_result)\n",
    "    print('roc_auc score =', roc_auc_score_result, end='\\n----------\\n')\n",
    "\n",
    "    if f1_score_result > best_f1_score_result:\n",
    "        best_f1_score_result = f1_score_result\n",
    "        roc_auc_score_result = roc_auc_score_result\n",
    "\n",
    "        best_upsample_randomforest_model = randomforest_model\n",
    "\n",
    "print('='*20)\n",
    "print('best_f1_score=', best_f1_score_result)\n",
    "print('roc_auc score=', roc_auc_score_result)"
   ]
  },
  {
   "cell_type": "markdown",
   "metadata": {
    "pycharm": {
     "name": "#%% md\n"
    }
   },
   "source": [
    "### 2.2.4. Лучший вариант upsampling на тестовой выборке\n",
    "<a id=\"2.2.4.\"></a>"
   ]
  },
  {
   "cell_type": "code",
   "execution_count": 21,
   "metadata": {
    "pycharm": {
     "name": "#%%\n"
    }
   },
   "outputs": [
    {
     "name": "stdout",
     "output_type": "stream",
     "text": [
      "f1_score на тестовой выборке = 0.6103484688489969\n",
      "roc_auc_score на тестовой выборке = 0.8648071528163573\n"
     ]
    }
   ],
   "source": [
    "print('f1_score на тестовой выборке =', f1_score(y_test, best_upsample_randomforest_model.predict(X_test)))\n",
    "print('roc_auc_score на тестовой выборке =', roc_auc_score(y_test, best_upsample_randomforest_model.predict_proba(X_test)[:, 1]))"
   ]
  },
  {
   "cell_type": "markdown",
   "metadata": {
    "pycharm": {
     "name": "#%% md\n"
    }
   },
   "source": [
    "### 2.2.5. Downsampling\n",
    "<a id=\"2.2.5.\"></a>"
   ]
  },
  {
   "cell_type": "code",
   "execution_count": 22,
   "metadata": {
    "pycharm": {
     "name": "#%%\n"
    }
   },
   "outputs": [],
   "source": [
    "def downsample(features, target, fraction):\n",
    "    \"\"\"\n",
    "    функция понижает число записей с целевой переменной = 0 в fraction число раз\n",
    "    \"\"\"\n",
    "    features_zeros = features[target == 0]\n",
    "    features_ones = features[target == 1]\n",
    "    target_zeros = target[target == 0]\n",
    "    target_ones = target[target == 1]\n",
    "    features_downsampled = pd.concat([features_zeros.sample(frac=fraction, random_state=12345)] + [features_ones])\n",
    "    target_downsampled = pd.concat([target_zeros.sample(frac=fraction, random_state=12345)] + [target_ones])\n",
    "    features_downsampled, target_downsampled = shuffle(features_downsampled, target_downsampled, random_state=12345)\n",
    "    return features_downsampled, target_downsampled"
   ]
  },
  {
   "cell_type": "code",
   "execution_count": 23,
   "metadata": {
    "pycharm": {
     "name": "#%%\n"
    }
   },
   "outputs": [
    {
     "name": "stdout",
     "output_type": "stream",
     "text": [
      "fraction = 0.9\n",
      "f1_score = 0.5828025477707006\n",
      "roc_auc score = 0.8586282231565807\n",
      "----------\n",
      "fraction = 0.8\n",
      "f1_score = 0.5916795069337442\n",
      "roc_auc score = 0.8588947373958052\n",
      "----------\n",
      "fraction = 0.7\n",
      "f1_score = 0.6065088757396451\n",
      "roc_auc score = 0.8599888484831483\n",
      "----------\n",
      "fraction = 0.6\n",
      "f1_score = 0.6283309957924264\n",
      "roc_auc score = 0.8582407254798132\n",
      "----------\n",
      "fraction = 0.5\n",
      "f1_score = 0.6312997347480107\n",
      "roc_auc score = 0.8579514172596024\n",
      "----------\n",
      "fraction = 0.4\n",
      "f1_score = 0.6220570012391574\n",
      "roc_auc score = 0.855572076321262\n",
      "----------\n",
      "fraction = 0.3\n",
      "f1_score = 0.605927552140505\n",
      "roc_auc score = 0.854851435845464\n",
      "----------\n",
      "fraction = 0.2\n",
      "f1_score = 0.5516014234875445\n",
      "roc_auc score = 0.8521617460890788\n",
      "----------\n",
      "====================\n",
      "best_f1_score= 0.6312997347480107\n",
      "best_roc_auc_score= 0.8579514172596024\n"
     ]
    }
   ],
   "source": [
    "best_f1_score_result = 0\n",
    "for fraction in [0.9, 0.8, 0.7, 0.6, 0.5, 0.4,  0.3, 0.2]:\n",
    "    X_train_downsampled, y_train_downsampled = downsample(X_train, y_train, fraction)\n",
    "\n",
    "    randomforest_model = RandomForestClassifier(random_state=135,\n",
    "                                                n_estimators=randomforest_best_params['n_estimators'],\n",
    "                                                min_samples_split=randomforest_best_params['min_samples_split'],\n",
    "                                                min_samples_leaf=randomforest_best_params['min_samples_leaf'],\n",
    "                                                max_features=randomforest_best_params['max_features'],\n",
    "                                                max_depth=randomforest_best_params['max_depth'],\n",
    "                                                bootstrap=randomforest_best_params['bootstrap'] )\n",
    "\n",
    "    randomforest_model.fit(X_train_downsampled, y_train_downsampled)\n",
    "\n",
    "    f1_score_result = f1_score(y_valid,  randomforest_model.predict(X_valid))\n",
    "    roc_auc_score_result = roc_auc_score(y_valid,  randomforest_model.predict_proba(X_valid)[:, 1])\n",
    "    print('fraction =', fraction)\n",
    "    print('f1_score =', f1_score_result)\n",
    "    print('roc_auc score =', roc_auc_score_result, end='\\n----------\\n')\n",
    "\n",
    "    if f1_score_result > best_f1_score_result:\n",
    "        best_f1_score_result = f1_score_result\n",
    "        best_roc_auc_score_result = roc_auc_score_result\n",
    "        best_downsample_randomforest_model = randomforest_model\n",
    "\n",
    "print('='*20)\n",
    "print('best_f1_score=', best_f1_score_result)\n",
    "print('best_roc_auc_score=', best_roc_auc_score_result)"
   ]
  },
  {
   "cell_type": "markdown",
   "metadata": {
    "pycharm": {
     "name": "#%% md\n"
    }
   },
   "source": [
    "### 2.2.6. Лучший вариант downsampling на тестовой выборке\n",
    "<a id=\"2.2.6.\"></a>"
   ]
  },
  {
   "cell_type": "code",
   "execution_count": 24,
   "metadata": {
    "pycharm": {
     "name": "#%%\n"
    }
   },
   "outputs": [
    {
     "name": "stdout",
     "output_type": "stream",
     "text": [
      "f1_score на тестовой выборке = 0.6258919469928644\n",
      "roc_auc_score на тестовой выборке = 0.8682193643497901\n"
     ]
    }
   ],
   "source": [
    "print('f1_score на тестовой выборке =', f1_score(y_test, best_downsample_randomforest_model.predict(X_test)))\n",
    "print('roc_auc_score на тестовой выборке =', roc_auc_score(y_test, best_downsample_randomforest_model.predict_proba(X_test)[:, 1]))"
   ]
  },
  {
   "cell_type": "markdown",
   "metadata": {
    "pycharm": {
     "name": "#%% md\n"
    }
   },
   "source": [
    "Резимируем:\n",
    "- Гиперпараметры модели были получены на выборке без ресемплирования\n",
    "- Модель обучалась на ресемплированной выборке и лучший варинт был отложен для проверки на отложенной (тестовой)\n",
    "- При прогнозировании отложенной моделью на отложенной (тестовой) выборке модели результат просел"
   ]
  },
  {
   "cell_type": "markdown",
   "metadata": {
    "pycharm": {
     "name": "#%% md\n"
    }
   },
   "source": [
    "При уменьшении записей с значением целевого класса = 1, лучший результат при уменьшеии в 2 раза (fraction = 0.5). f1_score = 0.63, roc_auc scre = 0.77. Интересно отметить, что лучший roc_auc (0.786) получается при fraction = 0.5\n"
   ]
  },
  {
   "cell_type": "markdown",
   "metadata": {
    "pycharm": {
     "name": "#%% md\n"
    }
   },
   "source": [
    "### 2.2.7. Upsampling + Downsampling\n",
    "<a id=\"2.2.7.\"></a>"
   ]
  },
  {
   "cell_type": "markdown",
   "metadata": {
    "pycharm": {
     "name": "#%% md\n"
    }
   },
   "source": [
    "Попробуем совместить два подхода."
   ]
  },
  {
   "cell_type": "code",
   "execution_count": 25,
   "metadata": {
    "pycharm": {
     "name": "#%%\n"
    }
   },
   "outputs": [
    {
     "name": "stdout",
     "output_type": "stream",
     "text": [
      "best_f1_score= 0.6320987654320989\n",
      "best_roc_auc_score= 0.8571045331968031\n",
      "best_fraction= 0.6\n",
      "best_repeat= 2\n"
     ]
    }
   ],
   "source": [
    "best_f1_score_result = 0\n",
    "\n",
    "for fraction in [1, 0.9, 0.8, 0.7, 0.6, 0.5, 0.4, 0.3, 0.2]:\n",
    "    for repeat in range(1,5):\n",
    "\n",
    "        X_train_downsampled, y_train_downsampled = downsample(X_train, y_train, fraction)\n",
    "        X_train_upsampled, y_train_upsampled = upsample(X_train_downsampled, y_train_downsampled, repeat)\n",
    "\n",
    "        randomforest_model = RandomForestClassifier(random_state=135,\n",
    "                                                    n_estimators=randomforest_best_params['n_estimators'],\n",
    "                                                    min_samples_split=randomforest_best_params['min_samples_split'],\n",
    "                                                    min_samples_leaf=randomforest_best_params['min_samples_leaf'],\n",
    "                                                    max_features=randomforest_best_params['max_features'],\n",
    "                                                    max_depth=randomforest_best_params['max_depth'],\n",
    "                                                    bootstrap=randomforest_best_params['bootstrap'] )\n",
    "\n",
    "        randomforest_model.fit(X_train_upsampled, y_train_upsampled)\n",
    "\n",
    "        f1_score_result = f1_score(y_valid,  randomforest_model.predict(X_valid))\n",
    "        roc_auc_score_result = roc_auc_score(y_valid,  randomforest_model.predict_proba(X_valid)[:, 1])\n",
    "        \n",
    "        if f1_score_result > best_f1_score_result:\n",
    "            randomforest_best_down_upsample_model = randomforest_model\n",
    "\n",
    "            best_f1_score_result = f1_score_result\n",
    "            best_roc_auc_score_result = roc_auc_score_result\n",
    "\n",
    "            best_fraction = fraction\n",
    "            best_repeat = repeat\n",
    "            best_y_train = y_train_upsampled\n",
    "            best_X_train = X_train_upsampled\n",
    "print('best_f1_score=', best_f1_score_result)\n",
    "print('best_roc_auc_score=', best_roc_auc_score_result)\n",
    "print('best_fraction=', best_fraction)\n",
    "print('best_repeat=', best_repeat)"
   ]
  },
  {
   "cell_type": "markdown",
   "metadata": {
    "pycharm": {
     "name": "#%% md\n"
    }
   },
   "source": [
    "### 2.2.8. Лучший вариант Upsampling + Downsampling на смешанной выборке на тестовом датасете\n",
    "<a id=\"2.2.8.\"></a>"
   ]
  },
  {
   "cell_type": "code",
   "execution_count": 26,
   "metadata": {
    "pycharm": {
     "name": "#%%\n"
    }
   },
   "outputs": [
    {
     "name": "stdout",
     "output_type": "stream",
     "text": [
      "f1_score лучшей модели натренированной на смешшнной выборке на X_test = 0.6254681647940075\n",
      "roc_auc лучшей модели натренированной на смешшнной выборке на X_test = 0.8657929247428754\n"
     ]
    }
   ],
   "source": [
    "f1_score_result = f1_score(y_test,  randomforest_best_down_upsample_model.predict(X_test))\n",
    "roc_auc_score_result = roc_auc_score(y_test,  randomforest_best_down_upsample_model.predict_proba(X_test)[:, 1])\n",
    "print('f1_score лучшей модели натренированной на смешшнной выборке на X_test =', f1_score_result)\n",
    "print('roc_auc лучшей модели натренированной на смешшнной выборке на X_test =', roc_auc_score_result)"
   ]
  },
  {
   "cell_type": "markdown",
   "metadata": {
    "pycharm": {
     "name": "#%% md\n"
    }
   },
   "source": [
    "### 2.2.9. Лучшая балансировка классов.  Визуализация.\n",
    "<a id=\"2.2.9.\"></a>"
   ]
  },
  {
   "cell_type": "code",
   "execution_count": 27,
   "metadata": {
    "pycharm": {
     "name": "#%%\n"
    }
   },
   "outputs": [
    {
     "data": {
      "image/png": "[encoded data removed]",
      "text/plain": [
       "<Figure size 1440x360 with 2 Axes>"
      ]
     },
     "metadata": {
      "needs_background": "light"
     },
     "output_type": "display_data"
    }
   ],
   "source": [
    "fig, axes = plt.subplots(nrows=1, ncols=2, figsize=(20, 5)) # размещаем в 1 строку и 2 столбца\n",
    "fig.suptitle('Исходная и лучшая балансировка классов', fontsize=15)\n",
    "\n",
    "y_train.value_counts().plot(ax = axes[0], kind='bar', title = 'Баланс классов y_train', grid=True)\n",
    "best_y_train.value_counts().plot(ax = axes[1], kind='bar', title = 'Лучший из возможных баланс классов после перебалансировки', grid=True)\n",
    "axes[0].set(xlabel = 'Класс')\n",
    "axes[1].set(xlabel = 'Класс')\n",
    "axes[0].set(ylabel = 'Количество экземпляров класса')\n",
    "axes[1].set(ylabel = 'Количество экземпляров класса')\n",
    "axes[0].set_ylim(0, 6000)\n",
    "axes[1].set_ylim(0, 6000)\n",
    "plt.show()"
   ]
  },
  {
   "cell_type": "markdown",
   "metadata": {
    "pycharm": {
     "name": "#%% md\n"
    }
   },
   "source": [
    "# 3. Выводы\n",
    "<a id=\"3.\"></a>"
   ]
  },
  {
   "cell_type": "markdown",
   "metadata": {
    "pycharm": {
     "name": "#%% md\n"
    }
   },
   "source": [
    "\n",
    "| Модель                    |\t\t\t\tСпособ|f1_score (X_valid)|roc_auc score (при лучшем f1) (X_valid)|f1_score (X_test)| roc_auc score (при лучшем f1) (X_test) |\n",
    "|---------------------------|-----|----|----|----|----------------------------------------|\n",
    "| Логистическая регрессия   |  без взвешивания и балансировки классов и без масштабирования признаков|0,074|0,661|||\n",
    "| Логистическая регрессия   |  без взвешивания и балансировки классов и с масштабированием признаков|0,325|0,501|||\n",
    "| Случайный лес             |            без балансировки и взвешивания классов|0,576|0,858|||\n",
    "| Случайный лес             |            без балансировки со взвешиванием классов|0,630|0,857|0,628| 0,867                                  |\n",
    "| Случайный лес             |            с повышением  (upsampling) размерности класса 0|0,614|0,855|0,6103| 0,864                                  |\n",
    "| Случайный лес             |            с понижением  (downsampling) размерности класса 1|0,631|0,857|0,625| 0,868                                  |\n",
    "| Случайный лес             |            совмещенный (upsampling+downsampling) вариант|0,632|0,857|0,625| 0,865                                  |\n",
    "\n",
    "таблица 1."
   ]
  },
  {
   "cell_type": "markdown",
   "metadata": {
    "pycharm": {
     "name": "#%% md\n"
    }
   },
   "source": [
    "В таблице 1. сведены полученные результаты для различных способов обработки дисбаланса классов.\n",
    "\n",
    "В результате проведенного исследования видно что:\n",
    "1. Необходимо учитывать дисбаланс классов.\n",
    "2. При проверке модели на валидационной выборке наибольший прирост дает изменение размерности классов, а на тестовой - взвешивание.\n",
    "3. Понижение размерности преобладающего класса дает результат лучше чем повышение уступающему в численности классу. (как и при делении на 2 выборки, а не на три)\n",
    "4. Совмещение способов изменения размерности классов в данном случае дало результат лучше чем понижение и повышение по отдельности. (Но как показывает опыт предыдущей версии задания, это зависит от конкретного датасета.)\n",
    "5. Максимумы для Roc Auc и для F1 имеют максимумы на различных соотношениях ресемплирования выбокри.\n",
    "6. Логистическая регрессия в данном случае не дала ощутимых результатов. В качестве варианта причины - нелинейность зависимости значений."
   ]
  }
 ],
 "metadata": {
  "ExecuteTimeLog": [
   {
    "duration": 1390,
    "start_time": "2022-05-17T04:39:12.945Z"
   },
   {
    "duration": 128,
    "start_time": "2022-05-17T04:39:51.727Z"
   },
   {
    "duration": 97,
    "start_time": "2022-05-17T04:40:00.049Z"
   },
   {
    "duration": 15,
    "start_time": "2022-05-17T04:40:05.056Z"
   },
   {
    "duration": 12,
    "start_time": "2022-05-17T04:40:06.578Z"
   },
   {
    "duration": 12,
    "start_time": "2022-05-17T04:40:08.290Z"
   },
   {
    "duration": 14,
    "start_time": "2022-05-17T04:40:55.286Z"
   },
   {
    "duration": 102,
    "start_time": "2022-05-17T04:42:42.164Z"
   },
   {
    "duration": 9,
    "start_time": "2022-05-17T04:42:52.864Z"
   },
   {
    "duration": 13,
    "start_time": "2022-05-17T04:43:05.983Z"
   },
   {
    "duration": 4,
    "start_time": "2022-05-17T04:43:09.632Z"
   },
   {
    "duration": 99,
    "start_time": "2022-05-17T04:43:09.638Z"
   },
   {
    "duration": 11,
    "start_time": "2022-05-17T04:43:09.739Z"
   },
   {
    "duration": 12,
    "start_time": "2022-05-17T04:43:09.751Z"
   },
   {
    "duration": 17,
    "start_time": "2022-05-17T04:43:09.765Z"
   },
   {
    "duration": 13,
    "start_time": "2022-05-17T04:43:11.590Z"
   },
   {
    "duration": 3,
    "start_time": "2022-05-17T04:43:15.782Z"
   },
   {
    "duration": 89,
    "start_time": "2022-05-17T04:43:15.788Z"
   },
   {
    "duration": 12,
    "start_time": "2022-05-17T04:43:15.878Z"
   },
   {
    "duration": 12,
    "start_time": "2022-05-17T04:43:15.892Z"
   },
   {
    "duration": 13,
    "start_time": "2022-05-17T04:43:15.906Z"
   },
   {
    "duration": 13,
    "start_time": "2022-05-17T04:43:20.473Z"
   },
   {
    "duration": 7,
    "start_time": "2022-05-17T04:43:48.799Z"
   },
   {
    "duration": 11,
    "start_time": "2022-05-17T04:44:22.934Z"
   },
   {
    "duration": 128,
    "start_time": "2022-05-17T04:44:27.570Z"
   },
   {
    "duration": 8,
    "start_time": "2022-05-17T04:44:52.255Z"
   },
   {
    "duration": 4,
    "start_time": "2022-05-17T04:44:53.537Z"
   },
   {
    "duration": 10,
    "start_time": "2022-05-17T04:48:02.444Z"
   },
   {
    "duration": 1823,
    "start_time": "2022-05-18T09:47:56.030Z"
   },
   {
    "duration": 245,
    "start_time": "2022-05-18T09:47:57.855Z"
   },
   {
    "duration": 18,
    "start_time": "2022-05-18T09:47:58.102Z"
   },
   {
    "duration": 20,
    "start_time": "2022-05-18T09:47:58.122Z"
   },
   {
    "duration": 25,
    "start_time": "2022-05-18T09:47:58.144Z"
   },
   {
    "duration": 19,
    "start_time": "2022-05-18T09:47:58.171Z"
   },
   {
    "duration": 5,
    "start_time": "2022-05-18T09:47:58.192Z"
   },
   {
    "duration": 18,
    "start_time": "2022-05-18T09:47:58.200Z"
   },
   {
    "duration": 147,
    "start_time": "2022-05-18T09:47:58.220Z"
   },
   {
    "duration": 124,
    "start_time": "2022-05-18T09:47:58.369Z"
   },
   {
    "duration": 0,
    "start_time": "2022-05-18T09:47:58.494Z"
   },
   {
    "duration": 0,
    "start_time": "2022-05-18T09:47:58.495Z"
   },
   {
    "duration": 12,
    "start_time": "2022-05-18T09:48:22.164Z"
   },
   {
    "duration": 4,
    "start_time": "2022-05-18T09:48:33.600Z"
   },
   {
    "duration": 51,
    "start_time": "2022-05-18T09:48:33.606Z"
   },
   {
    "duration": 11,
    "start_time": "2022-05-18T09:48:33.659Z"
   },
   {
    "duration": 15,
    "start_time": "2022-05-18T09:48:33.671Z"
   },
   {
    "duration": 14,
    "start_time": "2022-05-18T09:48:33.687Z"
   },
   {
    "duration": 13,
    "start_time": "2022-05-18T09:48:33.702Z"
   },
   {
    "duration": 2,
    "start_time": "2022-05-18T09:48:33.716Z"
   },
   {
    "duration": 16,
    "start_time": "2022-05-18T09:48:33.727Z"
   },
   {
    "duration": 136,
    "start_time": "2022-05-18T09:48:33.744Z"
   },
   {
    "duration": 11,
    "start_time": "2022-05-18T09:48:33.881Z"
   },
   {
    "duration": 5,
    "start_time": "2022-05-18T09:48:33.894Z"
   },
   {
    "duration": 39896,
    "start_time": "2022-05-18T09:48:33.900Z"
   },
   {
    "duration": 0,
    "start_time": "2022-05-18T09:49:13.798Z"
   },
   {
    "duration": 1075,
    "start_time": "2022-05-18T09:49:54.153Z"
   },
   {
    "duration": 1450,
    "start_time": "2022-05-18T18:31:59.987Z"
   },
   {
    "duration": 149,
    "start_time": "2022-05-18T18:32:28.763Z"
   },
   {
    "duration": 19,
    "start_time": "2022-05-18T18:32:31.096Z"
   },
   {
    "duration": 14,
    "start_time": "2022-05-18T18:32:31.307Z"
   },
   {
    "duration": 14,
    "start_time": "2022-05-18T18:32:33.940Z"
   },
   {
    "duration": 15,
    "start_time": "2022-05-18T18:32:37.299Z"
   },
   {
    "duration": 3,
    "start_time": "2022-05-18T18:32:46.298Z"
   },
   {
    "duration": 11,
    "start_time": "2022-05-18T18:32:48.383Z"
   },
   {
    "duration": 161,
    "start_time": "2022-05-18T18:32:52.705Z"
   },
   {
    "duration": 145,
    "start_time": "2022-05-18T18:38:38.554Z"
   },
   {
    "duration": 16,
    "start_time": "2022-05-18T18:38:42.298Z"
   },
   {
    "duration": 6,
    "start_time": "2022-05-18T18:38:43.136Z"
   },
   {
    "duration": 372,
    "start_time": "2022-05-18T18:44:49.858Z"
   },
   {
    "duration": 400,
    "start_time": "2022-05-18T18:45:05.978Z"
   },
   {
    "duration": 13,
    "start_time": "2022-05-18T18:47:19.954Z"
   },
   {
    "duration": 6,
    "start_time": "2022-05-18T18:47:23.803Z"
   },
   {
    "duration": 377,
    "start_time": "2022-05-18T18:47:29.793Z"
   },
   {
    "duration": 36,
    "start_time": "2022-05-18T18:51:53.659Z"
   },
   {
    "duration": 41,
    "start_time": "2022-05-18T18:52:16.114Z"
   },
   {
    "duration": 909076,
    "start_time": "2022-05-18T18:56:43.642Z"
   },
   {
    "duration": 0,
    "start_time": "2022-05-18T19:11:52.721Z"
   },
   {
    "duration": 1406,
    "start_time": "2022-05-18T19:19:03.253Z"
   },
   {
    "duration": 169,
    "start_time": "2022-05-18T19:19:04.662Z"
   },
   {
    "duration": 22,
    "start_time": "2022-05-18T19:19:04.833Z"
   },
   {
    "duration": 55,
    "start_time": "2022-05-18T19:19:04.856Z"
   },
   {
    "duration": 26,
    "start_time": "2022-05-18T19:19:04.916Z"
   },
   {
    "duration": 21,
    "start_time": "2022-05-18T19:19:04.946Z"
   },
   {
    "duration": 3,
    "start_time": "2022-05-18T19:19:04.972Z"
   },
   {
    "duration": 48,
    "start_time": "2022-05-18T19:19:04.976Z"
   },
   {
    "duration": 207,
    "start_time": "2022-05-18T19:19:05.026Z"
   },
   {
    "duration": 16,
    "start_time": "2022-05-18T19:19:05.236Z"
   },
   {
    "duration": 20,
    "start_time": "2022-05-18T19:19:05.255Z"
   },
   {
    "duration": 495,
    "start_time": "2022-05-18T19:19:05.278Z"
   },
   {
    "duration": 2442164,
    "start_time": "2022-05-18T19:19:05.775Z"
   },
   {
    "duration": 0,
    "start_time": "2022-05-18T19:59:47.942Z"
   },
   {
    "duration": 0,
    "start_time": "2022-05-18T19:59:47.945Z"
   },
   {
    "duration": 0,
    "start_time": "2022-05-18T19:59:47.946Z"
   },
   {
    "duration": 0,
    "start_time": "2022-05-18T19:59:47.948Z"
   },
   {
    "duration": 0,
    "start_time": "2022-05-18T19:59:47.948Z"
   },
   {
    "duration": 0,
    "start_time": "2022-05-18T19:59:47.949Z"
   },
   {
    "duration": 0,
    "start_time": "2022-05-18T19:59:47.966Z"
   },
   {
    "duration": 0,
    "start_time": "2022-05-18T19:59:47.967Z"
   },
   {
    "duration": 0,
    "start_time": "2022-05-18T19:59:47.967Z"
   },
   {
    "duration": 0,
    "start_time": "2022-05-18T19:59:47.968Z"
   },
   {
    "duration": 0,
    "start_time": "2022-05-18T19:59:47.968Z"
   },
   {
    "duration": 0,
    "start_time": "2022-05-18T19:59:47.969Z"
   },
   {
    "duration": 0,
    "start_time": "2022-05-18T19:59:47.972Z"
   }
  ],
  "kernelspec": {
   "display_name": "Python 3",
   "language": "python",
   "name": "python3"
  },
  "language_info": {
   "codemirror_mode": {
    "name": "ipython",
    "version": 3
   },
   "file_extension": ".py",
   "mimetype": "text/x-python",
   "name": "python",
   "nbconvert_exporter": "python",
   "pygments_lexer": "ipython3",
   "version": "3.7.6"
  },
  "toc": {
   "base_numbering": 1,
   "nav_menu": {},
   "number_sections": true,
   "sideBar": true,
   "skip_h1_title": true,
   "title_cell": "Table of Contents",
   "title_sidebar": "Contents",
   "toc_cell": false,
   "toc_position": {},
   "toc_section_display": true,
   "toc_window_display": true
  }
 },
 "nbformat": 4,
 "nbformat_minor": 4
}
