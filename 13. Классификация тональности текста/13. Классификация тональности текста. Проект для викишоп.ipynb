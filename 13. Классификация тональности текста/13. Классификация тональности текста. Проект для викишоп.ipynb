{
 "cells": [
  {
   "cell_type": "markdown",
   "metadata": {},
   "source": [
    "# Проект для \"Викишоп\""
   ]
  },
  {
   "cell_type": "markdown",
   "metadata": {},
   "source": [
    "# Содеражение"
   ]
  },
  {
   "cell_type": "markdown",
   "metadata": {},
   "source": [
    "- [1. Введение](#1.)\n",
    "- [1.1. Описание проекта](#1.1.)\n",
    "- [1.2. Описание данных](#1.2.)\n",
    "- [1.3. Импорт библиотек](#1.3.)\n",
    "- [2. Чтение данных](#2.)\n",
    "- [3. Обработка данных](#3.)\n",
    "- [4. Машинное обучение](#4.)\n",
    "- [4.1. Логистическая регрессия](#4.1.1.)\n",
    "- [4.1.1. Логистическая регрессия на TFIDF](#4.1.1.)\n",
    "- [4.1.2. Логистическая регрессия на мешке слов без фильтрации стоп-слов](#4.1.2.)\n",
    "- [4.1.3. Логистическая регрессия на мешке слов с фильтрацией стоп-слов](#4.1.3.)\n",
    "- [5. Выводы](#5.)"
   ]
  },
  {
   "cell_type": "markdown",
   "metadata": {},
   "source": [
    "# 1. Введение <a id=\"1.\"></a>"
   ]
  },
  {
   "cell_type": "markdown",
   "metadata": {},
   "source": [
    "**Цель**: изучить подходы к классификации текстов с помощью машинного обучения.\n",
    "\n",
    "**Задача**: сравнить качество прогноза для различных методов векторизации текста: TFIDF и мешок слов \"с\" и \"без\" фильтации стоп слов на логистической регрессии. "
   ]
  },
  {
   "cell_type": "markdown",
   "metadata": {},
   "source": [
    "## 1.1. Описание проекта <a id=\"1.1.\"></a>"
   ]
  },
  {
   "cell_type": "markdown",
   "metadata": {},
   "source": [
    "Интернет-магазин «Викишоп» запускает новый сервис. Теперь пользователи могут редактировать и дополнять описания товаров, как в вики-сообществах. То есть клиенты предлагают свои правки и комментируют изменения других. Магазину нужен инструмент, который будет искать токсичные комментарии и отправлять их на модерацию.\n",
    "Обучите модель классифицировать комментарии на позитивные и негативные. В вашем распоряжении набор данных с разметкой о токсичности правок.\n",
    "Постройте модель со значением метрики качества F1 не меньше 0.75."
   ]
  },
  {
   "cell_type": "markdown",
   "metadata": {},
   "source": [
    "## 1.2. Описание данных <a id=\"1.2.\"></a>"
   ]
  },
  {
   "cell_type": "markdown",
   "metadata": {},
   "source": [
    "- Столбец *text* содержит текст комментария.\n",
    "- Столбец *toxic* содержит целевой признак."
   ]
  },
  {
   "cell_type": "markdown",
   "metadata": {},
   "source": [
    "## 1.3. Импорт библиотек <a id=\"1.3.\"></a>"
   ]
  },
  {
   "cell_type": "code",
   "execution_count": 114,
   "metadata": {},
   "outputs": [
    {
     "name": "stderr",
     "output_type": "stream",
     "text": [
      "[nltk_data] Downloading package stopwords to\n",
      "[nltk_data]     C:\\Users\\alsta\\AppData\\Roaming\\nltk_data...\n",
      "[nltk_data]   Package stopwords is already up-to-date!\n",
      "[nltk_data] Downloading package wordnet to\n",
      "[nltk_data]     C:\\Users\\alsta\\AppData\\Roaming\\nltk_data...\n",
      "[nltk_data]   Package wordnet is already up-to-date!\n"
     ]
    }
   ],
   "source": [
    "import numpy as np\n",
    "import pandas as pd\n",
    "import os\n",
    "import re\n",
    "import sys\n",
    "\n",
    "import matplotlib.pyplot as plt\n",
    "\n",
    "from sklearn.feature_extraction.text import CountVectorizer\n",
    "from sklearn.feature_extraction.text import TfidfVectorizer\n",
    "\n",
    "from sklearn.linear_model import LogisticRegression\n",
    "from sklearn.ensemble import RandomForestClassifier\n",
    "from sklearn.model_selection import train_test_split\n",
    "from sklearn.metrics import f1_score\n",
    "\n",
    "import nltk\n",
    "nltk.download('stopwords') \n",
    "from nltk.corpus import stopwords\n",
    "stopwords = set(stopwords.words('english'))\n",
    "nltk.download('wordnet')\n",
    "from nltk.corpus import wordnet\n",
    "from nltk.stem import WordNetLemmatizer"
   ]
  },
  {
   "cell_type": "markdown",
   "metadata": {},
   "source": [
    "# 2. Чтение даных <a id=\"2.\"></a>"
   ]
  },
  {
   "cell_type": "code",
   "execution_count": 3,
   "metadata": {},
   "outputs": [],
   "source": [
    "path1 = 'toxic_comments.csv'\n",
    "path2 = '/datasets/toxic_comments.csv'\n",
    "\n",
    "if os.path.exists(path1):\n",
    "    df = pd.read_csv(path1)\n",
    "elif os.path.exists(path2):\n",
    "    df = pd.read_csv(path1)\n",
    "else: print('не найден путь')"
   ]
  },
  {
   "cell_type": "code",
   "execution_count": 4,
   "metadata": {},
   "outputs": [
    {
     "data": {
      "text/html": [
       "<div>\n",
       "<style scoped>\n",
       "    .dataframe tbody tr th:only-of-type {\n",
       "        vertical-align: middle;\n",
       "    }\n",
       "\n",
       "    .dataframe tbody tr th {\n",
       "        vertical-align: top;\n",
       "    }\n",
       "\n",
       "    .dataframe thead th {\n",
       "        text-align: right;\n",
       "    }\n",
       "</style>\n",
       "<table border=\"1\" class=\"dataframe\">\n",
       "  <thead>\n",
       "    <tr style=\"text-align: right;\">\n",
       "      <th></th>\n",
       "      <th>text</th>\n",
       "      <th>toxic</th>\n",
       "    </tr>\n",
       "  </thead>\n",
       "  <tbody>\n",
       "    <tr>\n",
       "      <th>0</th>\n",
       "      <td>Explanation\\nWhy the edits made under my usern...</td>\n",
       "      <td>0</td>\n",
       "    </tr>\n",
       "    <tr>\n",
       "      <th>1</th>\n",
       "      <td>D'aww! He matches this background colour I'm s...</td>\n",
       "      <td>0</td>\n",
       "    </tr>\n",
       "    <tr>\n",
       "      <th>2</th>\n",
       "      <td>Hey man, I'm really not trying to edit war. It...</td>\n",
       "      <td>0</td>\n",
       "    </tr>\n",
       "    <tr>\n",
       "      <th>3</th>\n",
       "      <td>\"\\nMore\\nI can't make any real suggestions on ...</td>\n",
       "      <td>0</td>\n",
       "    </tr>\n",
       "    <tr>\n",
       "      <th>4</th>\n",
       "      <td>You, sir, are my hero. Any chance you remember...</td>\n",
       "      <td>0</td>\n",
       "    </tr>\n",
       "  </tbody>\n",
       "</table>\n",
       "</div>"
      ],
      "text/plain": [
       "                                                text  toxic\n",
       "0  Explanation\\nWhy the edits made under my usern...      0\n",
       "1  D'aww! He matches this background colour I'm s...      0\n",
       "2  Hey man, I'm really not trying to edit war. It...      0\n",
       "3  \"\\nMore\\nI can't make any real suggestions on ...      0\n",
       "4  You, sir, are my hero. Any chance you remember...      0"
      ]
     },
     "execution_count": 4,
     "metadata": {},
     "output_type": "execute_result"
    }
   ],
   "source": [
    "df.head()"
   ]
  },
  {
   "cell_type": "code",
   "execution_count": 15,
   "metadata": {},
   "outputs": [
    {
     "data": {
      "image/png": "[encoded data removed]",
      "text/plain": [
       "<Figure size 432x288 with 1 Axes>"
      ]
     },
     "metadata": {
      "needs_background": "light"
     },
     "output_type": "display_data"
    }
   ],
   "source": [
    "ax = df['toxic'].value_counts().plot(kind='bar', title = \"Баланс классов целевого признака\")\n",
    "ax.set(xlabel = 'количество экземпляров класса', ylabel = 'класс целевого признака')\n",
    "plt.show()"
   ]
  },
  {
   "cell_type": "markdown",
   "metadata": {},
   "source": [
    "На лицо дисбаланс классов. Хорошо, что в логистической регрессии есть параметр class_weight. Надо не забыть его выставить в 'balanced'. "
   ]
  },
  {
   "cell_type": "code",
   "execution_count": 39,
   "metadata": {},
   "outputs": [],
   "source": [
    "# для оценки занимаемого объема памяти преобразуем в numpy c перекодировкой в юникод\n",
    "corpus_unicode = df['text'].values.astype('U')\n",
    "#ну и для дела (дальнийших операций) - без преобразования в юникод\n",
    "corpus = df['text'].values #.astype('U')"
   ]
  },
  {
   "cell_type": "code",
   "execution_count": 46,
   "metadata": {},
   "outputs": [
    {
     "name": "stdout",
     "output_type": "stream",
     "text": [
      "объем памяти датасета в формате юникод занимает 3043.58 МБ\n",
      "объем памяти датасета в исходном формате (object) занимает 1.22 МБ\n"
     ]
    }
   ],
   "source": [
    "print(f'объем памяти датасета в формате юникод занимает {round(corpus_unicode.nbytes/1024/1024,2)} МБ')\n",
    "print(f'объем памяти датасета в исходном формате ({corpus.dtype}) занимает {round(corpus.nbytes/1024/1024,2)} МБ')"
   ]
  },
  {
   "cell_type": "markdown",
   "metadata": {},
   "source": [
    "# 3. Обработка данных <a id=\"3.\"></a>"
   ]
  },
  {
   "cell_type": "markdown",
   "metadata": {},
   "source": [
    "на данном этапе выполним очистку и лематтизацию текста"
   ]
  },
  {
   "cell_type": "code",
   "execution_count": 48,
   "metadata": {},
   "outputs": [
    {
     "name": "stderr",
     "output_type": "stream",
     "text": [
      "[nltk_data] Downloading package averaged_perceptron_tagger to\n",
      "[nltk_data]     C:\\Users\\alsta\\AppData\\Roaming\\nltk_data...\n",
      "[nltk_data]   Unzipping taggers\\averaged_perceptron_tagger.zip.\n",
      "[nltk_data] Downloading package omw-1.4 to\n",
      "[nltk_data]     C:\\Users\\alsta\\AppData\\Roaming\\nltk_data...\n",
      "[nltk_data] Downloading package punkt to\n",
      "[nltk_data]     C:\\Users\\alsta\\AppData\\Roaming\\nltk_data...\n",
      "[nltk_data]   Unzipping tokenizers\\punkt.zip.\n"
     ]
    },
    {
     "data": {
      "text/plain": [
       "True"
      ]
     },
     "execution_count": 48,
     "metadata": {},
     "output_type": "execute_result"
    }
   ],
   "source": [
    "nltk.download('averaged_perceptron_tagger')\n",
    "nltk.download('omw-1.4')\n",
    "nltk.download('punkt')"
   ]
  },
  {
   "cell_type": "code",
   "execution_count": 66,
   "metadata": {},
   "outputs": [],
   "source": [
    "# создадим \"лемматизатор\" и \"очиститель\"\n",
    "\n",
    "# заиспользуем функцию из доки по ссылке целиком. может когда и другие части дикта пригодятся\n",
    "def get_wordnet_pos(word):\n",
    "    \"\"\"Map POS tag to first character lemmatize() accepts\"\"\"\n",
    "    tag = nltk.pos_tag([word])[0][1][0].upper()\n",
    "    tag_dict = {\"J\": wordnet.ADJ,\n",
    "                \"N\": wordnet.NOUN,\n",
    "                \"V\": wordnet.VERB,\n",
    "                \"R\": wordnet.ADV}\n",
    "    return tag_dict.get(tag, wordnet.NOUN)\n",
    "\n",
    "def lemmatize(word):\n",
    "    m = WordNetLemmatizer()\n",
    "    try:\n",
    "        lemm_word = m.lemmatize(word, get_wordnet_pos(word))\n",
    "        return \"\".join(lemm_word)\n",
    "    except:\n",
    "        return  'lemmatization_error'\n",
    "\n",
    "def clear_text(text):\n",
    "    text = re.sub(r'[^a-zA-Z]', ' ', text)\n",
    "    return ' '.join(text.split())"
   ]
  },
  {
   "cell_type": "code",
   "execution_count": 70,
   "metadata": {},
   "outputs": [
    {
     "name": "stdout",
     "output_type": "stream",
     "text": [
      "текст \"he goes with rabbits. They are happy.\" преобразуется в : he go with rabbit They be happy\n",
      "лемматизация с pos-тегами отрабатывает корректно\n"
     ]
    }
   ],
   "source": [
    "# проверим как работает\n",
    "test_text = \"he goes with rabbits. They are happy.\"\n",
    "print(f'текст \"{test_text}\" преобразуется в :',\" \".join([lemmatize(word) for word in clear_text(test_text).split()]))\n",
    "print('лемматизация с pos-тегами отрабатывает корректно')"
   ]
  },
  {
   "cell_type": "markdown",
   "metadata": {},
   "source": [
    "Очистим и лемматизируем текст"
   ]
  },
  {
   "cell_type": "code",
   "execution_count": 72,
   "metadata": {},
   "outputs": [
    {
     "name": "stdout",
     "output_type": "stream",
     "text": [
      "Wall time: 3h 37min 12s\n"
     ]
    }
   ],
   "source": [
    "%%time\n",
    "df['lemm_text'] = df['text'].apply(lambda text: (\" \".join([lemmatize(word) for word in clear_text(text).split()])))"
   ]
  },
  {
   "cell_type": "markdown",
   "metadata": {},
   "source": [
    "Без pos - тегов лемматизировалось порядка 2-х минут. С ними немного подольше.. 3 часа 37 минут ..) "
   ]
  },
  {
   "cell_type": "markdown",
   "metadata": {},
   "source": [
    "# 4. Машинное обучение <a id=\"4.\"></a>"
   ]
  },
  {
   "cell_type": "code",
   "execution_count": 75,
   "metadata": {},
   "outputs": [],
   "source": [
    "# сохраним лемматизированный текст. почти три часа вычислений как никак..\n",
    "df.to_csv('lemmatized.csv', index=False)"
   ]
  },
  {
   "cell_type": "markdown",
   "metadata": {},
   "source": [
    "## 4.1. Логистическая регрессия <a id=\"4.1.\"></a>"
   ]
  },
  {
   "cell_type": "markdown",
   "metadata": {},
   "source": [
    "В данном пункте оценим влияние на предиктивную способность модели способа векторизации текстов. Оценим следующие способы векторизации:\n",
    "- TFIDF с отфильтрованными стоп-словами\n",
    "- мешок слов так же с отфильтрованными стоп-словами\n",
    "- мешок слов без фильтрации стоп-слов"
   ]
  },
  {
   "cell_type": "markdown",
   "metadata": {},
   "source": [
    "Разобьем датасет на фичи и целевой признак "
   ]
  },
  {
   "cell_type": "code",
   "execution_count": 115,
   "metadata": {},
   "outputs": [],
   "source": [
    "features = df['lemm_text'].values\n",
    "target = df['toxic']"
   ]
  },
  {
   "cell_type": "markdown",
   "metadata": {},
   "source": [
    "...и на тренировочную и тестовую выборки"
   ]
  },
  {
   "cell_type": "code",
   "execution_count": 116,
   "metadata": {},
   "outputs": [
    {
     "name": "stdout",
     "output_type": "stream",
     "text": [
      "(143613,)\n",
      "(15958,)\n",
      "(143613,)\n",
      "(15958,)\n"
     ]
    }
   ],
   "source": [
    "X_train, X_test, y_train, y_test = train_test_split(features, target, test_size = 0.1, random_state = 42)\n",
    "print(X_train.shape)\n",
    "print(X_test.shape)\n",
    "print(y_train.shape)\n",
    "print(y_test.shape)"
   ]
  },
  {
   "cell_type": "markdown",
   "metadata": {},
   "source": [
    "## 4.1.1. Логистическая регрессия на TFIDF <a id=\"4.1.1.\"></a>"
   ]
  },
  {
   "cell_type": "code",
   "execution_count": 118,
   "metadata": {},
   "outputs": [
    {
     "name": "stdout",
     "output_type": "stream",
     "text": [
      "Размер тренировочной TFIDF матрицы с фильтрацией стоп-слов: (143613, 2190602)\n",
      "Размер тестовой TFIDF матрицы с фильтрацией стоп-слов: (15958, 2190602)\n",
      "Wall time: 46.4 s\n"
     ]
    }
   ],
   "source": [
    "%%time\n",
    "#зададим список стоп-слов\n",
    "\n",
    "# инициализируем обьект класса TfidfVectorizer\n",
    "count_tf_idf = TfidfVectorizer(stop_words=stopwords, ngram_range = (2,2))\n",
    "# методом fit_transform выполним TFIDF обучение и преобразование треничровочной выборки\n",
    "tf_idf_train = count_tf_idf.fit_transform(X_train)\n",
    "# пр помощи обученного на тренировочной выборке объекта преобразуем тестовую выборку \n",
    "tf_idf_test = count_tf_idf.transform(X_test)\n",
    "print(\"Размер тренировочной TFIDF матрицы с фильтрацией стоп-слов:\", tf_idf_train.shape)\n",
    "print(\"Размер тестовой TFIDF матрицы с фильтрацией стоп-слов:\", tf_idf_test.shape)"
   ]
  },
  {
   "cell_type": "code",
   "execution_count": 99,
   "metadata": {},
   "outputs": [
    {
     "name": "stdout",
     "output_type": "stream",
     "text": [
      "score для tf_idf =  0.5696571845368344\n",
      "Wall time: 1min 15s\n"
     ]
    }
   ],
   "source": [
    "%%time\n",
    "model = LogisticRegression(random_state = 42, max_iter = 750, class_weight='balanced')\n",
    "model.fit(tf_idf_train, y_train)\n",
    "predicted_1 = model.predict(tf_idf_test)\n",
    "f1_score_1 = f1_score(predicted_1, y_test)\n",
    "print('score для tf_idf = ', f1_score_1)"
   ]
  },
  {
   "cell_type": "markdown",
   "metadata": {},
   "source": [
    "Кажется ngram_range = (2,2) пользы не принесла. Ну чтож попробовали хотя бы.. Оставим как есть. Идем дальше"
   ]
  },
  {
   "cell_type": "markdown",
   "metadata": {},
   "source": [
    "## 4.1.2. Логистическая регрессия на мешке слов без фильтрации стоп-слов <a id=\"4.1.2.\"></a>"
   ]
  },
  {
   "cell_type": "code",
   "execution_count": 120,
   "metadata": {},
   "outputs": [
    {
     "name": "stdout",
     "output_type": "stream",
     "text": [
      "Размер тренировочного мешка без учёта стоп-слов: (143613, 150784)\n",
      "Размер тестового мешка без учёта стоп-слов: (15958, 150784)\n",
      "Wall time: 20.4 s\n"
     ]
    }
   ],
   "source": [
    "%%time\n",
    "#corpus = df['lemm_text'].values.astype('U')\n",
    "count_vect = CountVectorizer()\n",
    "big_bow_train = count_vect.fit_transform(X_train)\n",
    "big_bow_test = count_vect.transform(X_test)\n",
    "\n",
    "print(\"Размер тренировочного мешка без учёта стоп-слов:\", big_bow_train.shape)\n",
    "print(\"Размер тестового мешка без учёта стоп-слов:\", big_bow_test.shape)"
   ]
  },
  {
   "cell_type": "code",
   "execution_count": 121,
   "metadata": {},
   "outputs": [
    {
     "name": "stdout",
     "output_type": "stream",
     "text": [
      "score для tf_idf =  0.7709724238026124\n",
      "Wall time: 1min 15s\n"
     ]
    },
    {
     "name": "stderr",
     "output_type": "stream",
     "text": [
      "C:\\ProgramData\\Anaconda3\\lib\\site-packages\\sklearn\\linear_model\\_logistic.py:940: ConvergenceWarning: lbfgs failed to converge (status=1):\n",
      "STOP: TOTAL NO. of ITERATIONS REACHED LIMIT.\n",
      "\n",
      "Increase the number of iterations (max_iter) or scale the data as shown in:\n",
      "    https://scikit-learn.org/stable/modules/preprocessing.html\n",
      "Please also refer to the documentation for alternative solver options:\n",
      "    https://scikit-learn.org/stable/modules/linear_model.html#logistic-regression\n",
      "  extra_warning_msg=_LOGISTIC_SOLVER_CONVERGENCE_MSG)\n"
     ]
    }
   ],
   "source": [
    "%%time\n",
    "model = LogisticRegression(random_state = 42, max_iter = 750, class_weight='balanced')\n",
    "model.fit(big_bow_train, y_train)\n",
    "predicted_2 = model.predict(big_bow_test)\n",
    "f1_score_2 = f1_score(predicted_2, y_test)\n",
    "print('score для tf_idf = ', f1_score_2)"
   ]
  },
  {
   "cell_type": "markdown",
   "metadata": {},
   "source": [
    "## 4.1.3. Логистическая регрессия на мешке слов с фильтрацией стоп-слов <a id=\"4.1.3.\"></a>"
   ]
  },
  {
   "cell_type": "code",
   "execution_count": 122,
   "metadata": {},
   "outputs": [
    {
     "name": "stdout",
     "output_type": "stream",
     "text": [
      "Размер тренировочного мешка с учётом фильтра стоп-слов: (143613, 150639)\n",
      "Размер тестового мешка с учётом фильтра стоп-слов: (15958, 150639)\n",
      "Wall time: 18.6 s\n"
     ]
    }
   ],
   "source": [
    "%%time\n",
    " \n",
    "count_vect = CountVectorizer(stop_words = stopwords)\n",
    "small_bow_train = count_vect.fit_transform(X_train)\n",
    "bow_small_test = count_vect.transform(X_test)\n",
    "\n",
    "print(\"Размер тренировочного мешка с учётом фильтра стоп-слов:\", small_bow_train.shape)\n",
    "print(\"Размер тестового мешка с учётом фильтра стоп-слов:\", bow_small_test.shape)"
   ]
  },
  {
   "cell_type": "code",
   "execution_count": 123,
   "metadata": {},
   "outputs": [
    {
     "name": "stdout",
     "output_type": "stream",
     "text": [
      "score для tf_idf =  0.7623188405797102\n",
      "Wall time: 47.9 s\n"
     ]
    }
   ],
   "source": [
    "%%time\n",
    "# Здесь и далее по тексту (кода) не забудем учесть весьма существенный дизбаланс классов.\n",
    "model = LogisticRegression(random_state = 42, max_iter = 750, class_weight='balanced')\n",
    "model.fit(small_bow_train, y_train)\n",
    "predicted_3 = model.predict(bow_small_test)\n",
    "f1_score_3 = f1_score(predicted_3, y_test)\n",
    "print('score для tf_idf = ', f1_score_3)"
   ]
  },
  {
   "cell_type": "code",
   "execution_count": 83,
   "metadata": {},
   "outputs": [
    {
     "name": "stdout",
     "output_type": "stream",
     "text": [
      "длина списка стоп-слов равна 145\n",
      "прирост качества прогноза без использовании списка стоп-слов составляет 0.008653583222902217\n"
     ]
    }
   ],
   "source": [
    "print('длина списка стоп-слов равна', big_bow_train.shape[1] - small_bow_train.shape[1])\n",
    "print('прирост качества прогноза без использовании списка стоп-слов составляет', f1_score_2 - f1_score_3)"
   ]
  },
  {
   "cell_type": "markdown",
   "metadata": {},
   "source": [
    "**Резюме:** необходимый порог дважды пройден! Йеее! 🤘  Но что удивительно - TFIDF дало результат хуже. Видимо она заточена на улавливание нюансов в большом тексте на большом корпусе текстов, а в коротких твитах, видимо, или токсичные слова встречаются или нет. \n"
   ]
  },
  {
   "cell_type": "markdown",
   "metadata": {},
   "source": [
    "# 5. Выводы <a id=\"5.\"></a>"
   ]
  },
  {
   "cell_type": "markdown",
   "metadata": {},
   "source": [
    "**Что сделано**\n",
    "\n",
    "В рамках настоящего проекта было проведено исследование методов токенизации текстов тремя способами:\n",
    "    - TFIDF с отфильтрованными стоп-словами cо значением n-грамм = 2\n",
    "    - мешок слов так же с отфильтрованными стоп-словами\n",
    "    - мешок слов без фильтрации стоп-слов\n",
    "\n",
    "\n",
    "**Очистка и лемматизация**\n",
    "Перед разбивкой датасета были подготовлены функции для очистки текстов через регулярные выражения и лемматизации (приведению к начальной форме) полученных слов и соответственно проведена очистка и лемматизация текста. Лемматизация проведена на базе WordNetLemmatizer библиотеки nltk (модуль stem). Время данного этапа без POS-тегов составило порядка 2-х минут, а с POS-тегами 3 часа 37 минут. \n",
    "\n",
    "**Токенизация** \n",
    "Как сказано выше было проведено три способа токенизации, время для способов токенизации без разбиения на n-граммы - до 30 сек. С разбиением - порядка 45.\n",
    "\n",
    "**Машинное обучение**\n",
    "Машинное обучение было проведено с применением Логистической регрессии для каждого из 3-х способв токенизации, так же была попытка обучить Случайный лес, которая успеха не принесла. \n",
    "\n",
    "**Логистическая регрессия**\n",
    "Для логистической регрессии наилучший результат дала токенизация методом мешка слов и при этом без фильтрации стоп-слов. Регрессия достигла требуемого порога 0.75 и дала результат f1 = 0.7709. Здесь стоит отметить, что при лемматизации без POS-тегов (было выполнено в предыдущей версии проекта) f1 была равен = 0.7789.   При этом время на обучение составило менее 30 сек. В процессе обучения ввиду выпавшего ворнинга опытным путем было поднято значение max_iter до 750, что убрало \"ворнинги\" и увеличило результат. При обучении на TFIDF было применено разбиение на n-граммы, что дало результат хуже, ввиду далее этот подход не применылся. \n",
    "\n",
    "**Случайный лес** - В рамках данного проекта была проведена попытка обучить Случайный лес, но по причине отсутствия результата код для обучения и прогноза исключен из \"ноутбука\". Случайный лес обучался более 2-х часов на мешке слов без фильтрации стоп-слов и дал результат f1=0.\n",
    "\n",
    "**Выводы**\n",
    "1. Различные способы токенизации корпуса текстов дают различные результаты прогноза, при этом надежда, что TFIDF даст лучший результат не оправдалась.\n",
    "2. Лемматизация с POS-тегами улучшения результат не принесла, но иметь ввиду такую возможность надо.\n",
    "3. Разбинение на n-граммы результат ухудшило, но хотя бы попробовали..\n",
    "2. Для NLP, видимо, подходят не все модели, при этом регрессия дала приемлемый результат при минимальных затратах."
   ]
  }
 ],
 "metadata": {
  "kernelspec": {
   "display_name": "Python 3 (ipykernel)",
   "language": "python",
   "name": "python3"
  },
  "language_info": {
   "codemirror_mode": {
    "name": "ipython",
    "version": 3
   },
   "file_extension": ".py",
   "mimetype": "text/x-python",
   "name": "python",
   "nbconvert_exporter": "python",
   "pygments_lexer": "ipython3",
   "version": "3.9.5"
  },
  "toc": {
   "base_numbering": 1,
   "nav_menu": {},
   "number_sections": true,
   "sideBar": true,
   "skip_h1_title": true,
   "title_cell": "Table of Contents",
   "title_sidebar": "Contents",
   "toc_cell": false,
   "toc_position": {},
   "toc_section_display": true,
   "toc_window_display": false
  }
 },
 "nbformat": 4,
 "nbformat_minor": 4
}
