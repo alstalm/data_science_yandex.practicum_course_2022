{
 "cells": [
  {
   "cell_type": "markdown",
   "metadata": {},
   "source": [
    "# Оглавление\n",
    "\n",
    "- [1. Введение](#1.)\n",
    "- [1.1. План работ](#1.1.)\n",
    "- [1.2. Описание этапа обработки](#1.2.)\n",
    "- [1.3. Описание данных](#1.3.)\n",
    "- [1.4. Данные](#1.4.)\n",
    "- [1.5. Тезисы по результату встречи в Zoom 13.09.2022](#1.5.)\n",
    "- [2. Ознакомление с данными](#2.)\n",
    "- [2.1. Данные об электродах](#2.1.)\n",
    "- [2.2. Данные о подаче сыпучих материалов (объем)](#2.2.)\n",
    "- [2.3. Данные о продувке сплава газом](#2.3.)\n",
    "- [2.4. Результаты измерения температуры (целевой признак)](#2.4.)\n",
    "- [2.5. Данные о проволочных материалах (объём)](#2.5.)\n",
    "- [3. Предобработка данных](#3.)\n",
    "- [3.1. Данные об электродах](#3.1.)\n",
    "- [3.2. Данные о подаче сыпучих материалов (объем)](#3.2.)\n",
    "- [3.3. Данные о продувке сплава газом](#3.3.)\n",
    "- [3.4. Результаты измерения температуры (целевой признак)](#3.4.)\n",
    "- [3.5. Данные о проволочных материалах (объём)](#3.5.)\n",
    "- [4. Анализ данных](#4.)\n",
    "- [4.1. Данные об электродах](#4.1.)\n",
    "- [4.2. Данные о подаче сыпучих материалов (объем)](#4.2.)\n",
    "- [4.3. Данные о продувке сплава газом](#4.3.)\n",
    "- [4.4. Результаты измерения температуры (целевой признак)](#4.4.)\n",
    "- [4.5. Данные о проволочных материалах (объём)](#4.5.)\n",
    "- [5. Подытог по проделанному](#5.)\n",
    "- [5.1. Чек-лист по разделу 3](#5.1.)\n",
    "- [5.2. Дальнейший план работ](#5.2. )\n",
    "- [6. Подготовка и финальная проверка датасета](#6.)\n",
    "- [6.1. Объединение датасетов](#6.1.)\n",
    "- [6.2. Проверка на мультиколлинеарность](#6.2.)\n",
    "- [6.3. Разделение на тренировочную и тестовую выборку](#6.3.)\n",
    "- [7. Машинное обучение](#7.)\n",
    "- [7.1. LightGBM](#7.1.)\n",
    "- [7.2. RandomForest](#7.2.)\n",
    "- [7.2.1. Важность параметров](#7.2.1.)\n",
    "- [7.2. ElasticNet](#7.2.)\n",
    "- [8. Итоговый результат и выводы](#)\n",
    "- [8.1. Итоговый рейтинг](#8.)\n",
    "- [8.2. Выводы](#8.2.)"
   ]
  },
  {
   "cell_type": "markdown",
   "metadata": {},
   "source": [
    "# 1. Введение<a id=\"1.\"></a> "
   ]
  },
  {
   "cell_type": "markdown",
   "metadata": {},
   "source": [
    "**Задача:** Чтобы оптимизировать производственные расходы, металлургический комбинат ООО «Так закаляем сталь» решил уменьшить потребление электроэнергии на этапе обработки стали. Вам предстоит построить модель, которая предскажет температуру стали."
   ]
  },
  {
   "cell_type": "markdown",
   "metadata": {},
   "source": [
    "## 1.1. План работ<a id=\"1.1.\"></a>\n",
    "- **Часть 1: первичный анализ данных.**\n",
    "\n",
    "1. разобраться с производственным процессом и с исходными данными\n",
    "2. провести их первичный анализ по стандартной схеме (особенности, аномалии, адекватность). \n",
    "3. составить детальный план самой работы по дальнейшему моделированию (основные шаги, которые собираетесь сделать).\n",
    "\n",
    "- **Часть 2: построение самой модели.**\n",
    "\n",
    "Требования к данной части:\n",
    "- RANDOM_STATE = 12092022 (дата начала дипломной работы)\n",
    "- тестовая выборка - 20%\n",
    "- Обязательно используем подбор параметров только с использованием GridSearchCV или RandomizedSearchCV.\n",
    "- Ищем лучшую модель на трайне (подбор моделей).\n",
    "- А на тесте проверяем ТОЛЬКО лучшую модель!!!\n",
    "- Метрика.\n",
    "    - MAE > 8.7 — 0 sp\n",
    "    - 7.6 < MAE ≤ 8.7 — 4 sp\n",
    "    - 6.8 < MAE ≤ 7.6 — 4.5 sp\n",
    "    - 6.3 < MAE ≤ 6.8 — 5 sp\n",
    "    - 6.0 < MAE ≤ 6.3 — 5.5 sp\n",
    "    - MAE ≤ 6.0 — 6 sp\n",
    "    \n",
    "    \n",
    "- **Часть 3: отчёт о проделанной работе.**\n",
    "\n",
    "ЦЕЛЬ отчёта: «Взяв отчёт в руки – каждый сможет понять и реализовать полученную модель без доп.исследований. Примеры можно глянуть здесь: http://cs229.stanford.edu/projects2014.html\n",
    "Так же необходимо ответить на вопросы:\n",
    "- Какие пункты плана были выполнены, а какие — нет (поясните почему)?\n",
    "- Какие трудности возникли и как вы их преодолели?\n",
    "- Какие ключевые шаги в решении задачи выделили?\n",
    "- Какая ваша итоговая модель и какое у неё качество?"
   ]
  },
  {
   "cell_type": "markdown",
   "metadata": {},
   "source": [
    "## 1.2. Описание этапа обработки<a id=\"1.2.\"></a>\n",
    "\n",
    "Сталь обрабатывают в металлическом ковше вместимостью около 100 тонн. Чтобы ковш выдерживал высокие температуры, изнутри его облицовывают огнеупорным кирпичом. Расплавленную сталь заливают в ковш и подогревают до нужной температуры графитовыми электродами. Они установлены в крышке ковша. \n",
    "\n",
    "Из сплава выводится сера (десульфурация), добавлением примесей корректируется химический состав и отбираются пробы. Сталь легируют — изменяют её состав — подавая куски сплава из бункера для сыпучих материалов или проволоку через специальный трайб-аппарат (англ. tribe, «масса»).\n",
    "\n",
    "Перед тем как первый раз ввести легирующие добавки, измеряют температуру стали и производят её химический анализ. Потом температуру на несколько минут повышают, добавляют легирующие материалы и продувают сплав инертным газом. Затем его перемешивают и снова проводят измерения. Такой цикл повторяется до достижения целевого химического состава и оптимальной температуры плавки.\n",
    "\n",
    "Тогда расплавленная сталь отправляется на доводку металла или поступает в машину непрерывной разливки. Оттуда готовый продукт выходит в виде заготовок-слябов (англ. *slab*, «плита»)."
   ]
  },
  {
   "cell_type": "markdown",
   "metadata": {},
   "source": [
    "## 1.3. Описание данных<a id=\"1.3.\"></a>\n",
    "\n",
    "Данные состоят из файлов, полученных из разных источников:\n",
    "\n",
    "- `data_arc.csv` — данные об электродах;\n",
    "- `data_bulk.csv` — данные о подаче сыпучих материалов (объём);\n",
    "- `data_bulk_time.csv` *—* данные о подаче сыпучих материалов (время);\n",
    "- `data_gas.csv` — данные о продувке сплава газом;\n",
    "- `data_temp.csv` — результаты измерения температуры;\n",
    "- `data_wire.csv` — данные о проволочных материалах (объём);\n",
    "- `data_wire_time.csv` — данные о проволочных материалах (время).\n",
    "\n",
    "Во всех файлах столбец `key` содержит номер партии. В файлах может быть несколько строк с одинаковым значением `key`: они соответствуют разным итерациям обработки."
   ]
  },
  {
   "cell_type": "markdown",
   "metadata": {},
   "source": [
    "## 1.4. Данные<a id=\"1.4.\"></a>\n",
    "\n",
    "[final_steel.zip](https://s3-us-west-2.amazonaws.com/secure.notion-static.com/f3fbea3a-263d-4e1c-babd-0bf07920c911/final_steel.zip)\n",
    "\n",
    "Данные также находятся в тренажёре, в папке `/datasets/final_steel/`."
   ]
  },
  {
   "cell_type": "markdown",
   "metadata": {},
   "source": [
    "## 1.5. Тезисы по результату встречи в Zoom 13.09.2022<a id=\"1.5.\"></a>\n",
    "- у всех партий масса ковша одинаковая и равна 100 т.\n",
    "- 'data_bulk.csv' - содерижит даныне о присадках по каждой итерации. Информация о каждом виде присадок содержится в отдельном столбце bulk_1, bulk_2 и т.п. Особености обработки таблицы 'data_bulk.csv'\n",
    "    - Если есть пропуски в значениях присадок, значит их не было, в этом случае пропуски необходимо заполнить значением \"0\"\n",
    "    - Присадки необходимо считать суммарно по партии,\n",
    "- 'data_gas.csv' содержит информацию какой объем газа был затрачен на партию\n",
    "- процесс происходит в несколько итерраций. как только достигается необходимое значение химсостава - **конец нашей задачи** (!!! требуется перевормулировать или удалить)\n",
    "- нормальная темеперутура сплава = 1400 С. Если значение 1600 - это перерасход энергии и уменьшение ресурса оборудования. Если 1200 - вероятно ошибка в данных\n",
    "- целевой признак находится в data_temp. Особености его обработки:\n",
    "    - в предоставленных данных есть партии содной итерацией (одна запись в таблице data_temp), такие партии необходимо целиком исключить из рассмотрения\n",
    "    - есть данных в которых отсутствует последнее значение температуры - такие партии так же необходимо исключить из рассмотрения\n",
    "    - если значения первой и последней температуры совпадают, то, в целях предотвращения утечки целевого признака, неоходимо так же исключитьб такие партии из рассмотрения\n",
    "    - при расмотрении имеют смысл только первая и последняя записи (партии)\n",
    "- таблица 'data_arc.csv' содержит энергетические характеристики процесса подогрева сплава.  Особености обработки таблицы 'data_arc.csv'\n",
    "    - суммирование некоторых физических величин не имеет физического смысла, например суммировать можно произведенную работу, а не можности, но в рамках данного проекта подобные операции допустимы\n",
    "    - возможно есть смысл оценить мультиколлинеарность параметров и отбросить лишние\n",
    "    \n",
    "- 'data_wire_time.csv' - не несет значимой информации\n",
    "- 'data_bulk_time.csv' - не несет значимой информации\n",
    "\n",
    "- общее\n",
    "    - в данных возможны проспуски в столбце Key, в связи с чем необходимо использовать только Inner join\n",
    "    - к вопросу оценки выбросов необходимо подойти с пониманием сути процесса, а не формально. Так можщность 715 Вт - можно считать как \"супервыброс\", а то что меньше, возможно имеет технологический смысл и выбрасывать из выборки уже не стоит.\n",
    "    - по результатам моделирования необходимо определить наиболее значимые параметры в исходном датасете\n",
    "    - поиск лучшей модели необъходимо найти серез grid_search / random_search (или аналоги), и лучшую можель  \n",
    "    "
   ]
  },
  {
   "cell_type": "markdown",
   "metadata": {},
   "source": [
    "# 2. Ознакомление с данными<a id=\"2.\"></a>"
   ]
  },
  {
   "cell_type": "code",
   "execution_count": 2,
   "metadata": {},
   "outputs": [],
   "source": [
    "import pandas as pd\n",
    "import numpy as np\n",
    "\n",
    "import matplotlib.pyplot as plt\n",
    "from matplotlib.pyplot import figure\n",
    "import seaborn as sns \n",
    "\n",
    "import optuna\n",
    "\n",
    "from sklearn.metrics import mean_absolute_error\n",
    "from sklearn.model_selection import train_test_split\n",
    "from sklearn.linear_model import LinearRegression\n",
    "from sklearn.ensemble import RandomForestRegressor\n",
    "from sklearn.preprocessing import StandardScaler\n",
    "from sklearn.model_selection import train_test_split\n",
    "from sklearn.linear_model import ElasticNet\n",
    "\n",
    "from lightgbm import LGBMRegressor"
   ]
  },
  {
   "cell_type": "code",
   "execution_count": 3,
   "metadata": {},
   "outputs": [],
   "source": [
    "try:\n",
    "    df_arc = pd.read_csv('/datasets/final_steel/data_arc.csv') \n",
    "    df_bulk= pd.read_csv('/datasets/final_steel/data_bulk.csv')\n",
    "    df_bulk_time = pd.read_csv('/datasets/final_steel/data_bulk_time.csv')\n",
    "    df_gas = pd.read_csv('/datasets/final_steel/data_gas.csv')\n",
    "    df_temp = pd.read_csv('/datasets/final_steel/data_temp.csv')\n",
    "    df_wire = pd.read_csv('/datasets/final_steel/data_wire.csv')\n",
    "    df_wire_time = pd.read_csv('/datasets/final_steel/data_wire_time.csv')\n",
    "except FileNotFoundError:\n",
    "    df_arc = pd.read_csv('datasets/final_steel/data_arc.csv') \n",
    "    df_bulk= pd.read_csv('datasets/final_steel/data_bulk.csv')\n",
    "    df_bulk_time = pd.read_csv('datasets/final_steel/data_bulk_time.csv')\n",
    "    df_gas = pd.read_csv('datasets/final_steel/data_gas.csv')\n",
    "    df_temp = pd.read_csv('datasets/final_steel/data_temp.csv')\n",
    "    df_wire = pd.read_csv('datasets/final_steel/data_wire.csv')\n",
    "    df_wire_time = pd.read_csv('datasets/final_steel/data_wire_time.csv')"
   ]
  },
  {
   "cell_type": "markdown",
   "metadata": {},
   "source": [
    "## 2.1. Данные об электродах<a id=\"2.1.\"></a>"
   ]
  },
  {
   "cell_type": "code",
   "execution_count": 4,
   "metadata": {},
   "outputs": [
    {
     "data": {
      "text/html": [
       "<div>\n",
       "<style scoped>\n",
       "    .dataframe tbody tr th:only-of-type {\n",
       "        vertical-align: middle;\n",
       "    }\n",
       "\n",
       "    .dataframe tbody tr th {\n",
       "        vertical-align: top;\n",
       "    }\n",
       "\n",
       "    .dataframe thead th {\n",
       "        text-align: right;\n",
       "    }\n",
       "</style>\n",
       "<table border=\"1\" class=\"dataframe\">\n",
       "  <thead>\n",
       "    <tr style=\"text-align: right;\">\n",
       "      <th></th>\n",
       "      <th>key</th>\n",
       "      <th>Начало нагрева дугой</th>\n",
       "      <th>Конец нагрева дугой</th>\n",
       "      <th>Активная мощность</th>\n",
       "      <th>Реактивная мощность</th>\n",
       "    </tr>\n",
       "  </thead>\n",
       "  <tbody>\n",
       "    <tr>\n",
       "      <th>0</th>\n",
       "      <td>1</td>\n",
       "      <td>2019-05-03 11:02:14</td>\n",
       "      <td>2019-05-03 11:06:02</td>\n",
       "      <td>0.976059</td>\n",
       "      <td>0.687084</td>\n",
       "    </tr>\n",
       "    <tr>\n",
       "      <th>1</th>\n",
       "      <td>1</td>\n",
       "      <td>2019-05-03 11:07:28</td>\n",
       "      <td>2019-05-03 11:10:33</td>\n",
       "      <td>0.805607</td>\n",
       "      <td>0.520285</td>\n",
       "    </tr>\n",
       "    <tr>\n",
       "      <th>2</th>\n",
       "      <td>1</td>\n",
       "      <td>2019-05-03 11:11:44</td>\n",
       "      <td>2019-05-03 11:14:36</td>\n",
       "      <td>0.744363</td>\n",
       "      <td>0.498805</td>\n",
       "    </tr>\n",
       "    <tr>\n",
       "      <th>3</th>\n",
       "      <td>1</td>\n",
       "      <td>2019-05-03 11:18:14</td>\n",
       "      <td>2019-05-03 11:24:19</td>\n",
       "      <td>1.659363</td>\n",
       "      <td>1.062669</td>\n",
       "    </tr>\n",
       "    <tr>\n",
       "      <th>4</th>\n",
       "      <td>1</td>\n",
       "      <td>2019-05-03 11:26:09</td>\n",
       "      <td>2019-05-03 11:28:37</td>\n",
       "      <td>0.692755</td>\n",
       "      <td>0.414397</td>\n",
       "    </tr>\n",
       "  </tbody>\n",
       "</table>\n",
       "</div>"
      ],
      "text/plain": [
       "   key Начало нагрева дугой  Конец нагрева дугой  Активная мощность  \\\n",
       "0    1  2019-05-03 11:02:14  2019-05-03 11:06:02           0.976059   \n",
       "1    1  2019-05-03 11:07:28  2019-05-03 11:10:33           0.805607   \n",
       "2    1  2019-05-03 11:11:44  2019-05-03 11:14:36           0.744363   \n",
       "3    1  2019-05-03 11:18:14  2019-05-03 11:24:19           1.659363   \n",
       "4    1  2019-05-03 11:26:09  2019-05-03 11:28:37           0.692755   \n",
       "\n",
       "   Реактивная мощность  \n",
       "0             0.687084  \n",
       "1             0.520285  \n",
       "2             0.498805  \n",
       "3             1.062669  \n",
       "4             0.414397  "
      ]
     },
     "metadata": {},
     "output_type": "display_data"
    },
    {
     "name": "stdout",
     "output_type": "stream",
     "text": [
      "<class 'pandas.core.frame.DataFrame'>\n",
      "RangeIndex: 14876 entries, 0 to 14875\n",
      "Data columns (total 5 columns):\n",
      " #   Column                Non-Null Count  Dtype  \n",
      "---  ------                --------------  -----  \n",
      " 0   key                   14876 non-null  int64  \n",
      " 1   Начало нагрева дугой  14876 non-null  object \n",
      " 2   Конец нагрева дугой   14876 non-null  object \n",
      " 3   Активная мощность     14876 non-null  float64\n",
      " 4   Реактивная мощность   14876 non-null  float64\n",
      "dtypes: float64(2), int64(1), object(2)\n",
      "memory usage: 581.2+ KB\n",
      "None\n"
     ]
    }
   ],
   "source": [
    "display(df_arc.head())\n",
    "print(df_arc.info())"
   ]
  },
  {
   "cell_type": "code",
   "execution_count": 5,
   "metadata": {},
   "outputs": [
    {
     "name": "stdout",
     "output_type": "stream",
     "text": [
      "Всего строк с пропусками значений по каждому столбцу:\n",
      " key                     0\n",
      "Начало нагрева дугой    0\n",
      "Конец нагрева дугой     0\n",
      "Активная мощность       0\n",
      "Реактивная мощность     0\n",
      "dtype: int64\n"
     ]
    }
   ],
   "source": [
    "print('Всего строк с пропусками значений по каждому столбцу:\\n' ,df_arc.isna().sum())"
   ]
  },
  {
   "cell_type": "markdown",
   "metadata": {},
   "source": [
    "**Выводы:**\n",
    "    \n",
    "1. Даже глядя на первые 5 строк видно, что по каждой партии может быть не одна запись.\n",
    "2. Пропусков в столбце key нет\n",
    "\n",
    "**Планируемые действия**\n",
    "\n",
    "1. Переименование столбцов\n",
    "    1. \"Начало нагрева дугой\" -> \"arc_start_time\"\n",
    "    2. \"Конец нагрева дугой\" -> \"arc_end_time\"\n",
    "    3. \"Активаная мощность\" -> \"arc_active_power\"\n",
    "2. Удалить столбец \"Реактивная мощность\", т.к. на нагрев она не влияет\n",
    "3. Просуммировать произведенную активную работу по каждой партии (по ключу). Для этого необходимо посчитать время нагрева в часах и умножить его на активную мощность\n",
    "4. Замены пропусков не требуется"
   ]
  },
  {
   "cell_type": "markdown",
   "metadata": {},
   "source": [
    "## 2.2. Данные о подаче сыпучих материалов (объем)<a id=\"2.2.\"></a>"
   ]
  },
  {
   "cell_type": "code",
   "execution_count": 6,
   "metadata": {},
   "outputs": [
    {
     "data": {
      "text/html": [
       "<div>\n",
       "<style scoped>\n",
       "    .dataframe tbody tr th:only-of-type {\n",
       "        vertical-align: middle;\n",
       "    }\n",
       "\n",
       "    .dataframe tbody tr th {\n",
       "        vertical-align: top;\n",
       "    }\n",
       "\n",
       "    .dataframe thead th {\n",
       "        text-align: right;\n",
       "    }\n",
       "</style>\n",
       "<table border=\"1\" class=\"dataframe\">\n",
       "  <thead>\n",
       "    <tr style=\"text-align: right;\">\n",
       "      <th></th>\n",
       "      <th>key</th>\n",
       "      <th>Bulk 1</th>\n",
       "      <th>Bulk 2</th>\n",
       "      <th>Bulk 3</th>\n",
       "      <th>Bulk 4</th>\n",
       "      <th>Bulk 5</th>\n",
       "      <th>Bulk 6</th>\n",
       "      <th>Bulk 7</th>\n",
       "      <th>Bulk 8</th>\n",
       "      <th>Bulk 9</th>\n",
       "      <th>Bulk 10</th>\n",
       "      <th>Bulk 11</th>\n",
       "      <th>Bulk 12</th>\n",
       "      <th>Bulk 13</th>\n",
       "      <th>Bulk 14</th>\n",
       "      <th>Bulk 15</th>\n",
       "    </tr>\n",
       "  </thead>\n",
       "  <tbody>\n",
       "    <tr>\n",
       "      <th>0</th>\n",
       "      <td>1</td>\n",
       "      <td>NaN</td>\n",
       "      <td>NaN</td>\n",
       "      <td>NaN</td>\n",
       "      <td>43.0</td>\n",
       "      <td>NaN</td>\n",
       "      <td>NaN</td>\n",
       "      <td>NaN</td>\n",
       "      <td>NaN</td>\n",
       "      <td>NaN</td>\n",
       "      <td>NaN</td>\n",
       "      <td>NaN</td>\n",
       "      <td>206.0</td>\n",
       "      <td>NaN</td>\n",
       "      <td>150.0</td>\n",
       "      <td>154.0</td>\n",
       "    </tr>\n",
       "    <tr>\n",
       "      <th>1</th>\n",
       "      <td>2</td>\n",
       "      <td>NaN</td>\n",
       "      <td>NaN</td>\n",
       "      <td>NaN</td>\n",
       "      <td>73.0</td>\n",
       "      <td>NaN</td>\n",
       "      <td>NaN</td>\n",
       "      <td>NaN</td>\n",
       "      <td>NaN</td>\n",
       "      <td>NaN</td>\n",
       "      <td>NaN</td>\n",
       "      <td>NaN</td>\n",
       "      <td>206.0</td>\n",
       "      <td>NaN</td>\n",
       "      <td>149.0</td>\n",
       "      <td>154.0</td>\n",
       "    </tr>\n",
       "    <tr>\n",
       "      <th>2</th>\n",
       "      <td>3</td>\n",
       "      <td>NaN</td>\n",
       "      <td>NaN</td>\n",
       "      <td>NaN</td>\n",
       "      <td>34.0</td>\n",
       "      <td>NaN</td>\n",
       "      <td>NaN</td>\n",
       "      <td>NaN</td>\n",
       "      <td>NaN</td>\n",
       "      <td>NaN</td>\n",
       "      <td>NaN</td>\n",
       "      <td>NaN</td>\n",
       "      <td>205.0</td>\n",
       "      <td>NaN</td>\n",
       "      <td>152.0</td>\n",
       "      <td>153.0</td>\n",
       "    </tr>\n",
       "    <tr>\n",
       "      <th>3</th>\n",
       "      <td>4</td>\n",
       "      <td>NaN</td>\n",
       "      <td>NaN</td>\n",
       "      <td>NaN</td>\n",
       "      <td>81.0</td>\n",
       "      <td>NaN</td>\n",
       "      <td>NaN</td>\n",
       "      <td>NaN</td>\n",
       "      <td>NaN</td>\n",
       "      <td>NaN</td>\n",
       "      <td>NaN</td>\n",
       "      <td>NaN</td>\n",
       "      <td>207.0</td>\n",
       "      <td>NaN</td>\n",
       "      <td>153.0</td>\n",
       "      <td>154.0</td>\n",
       "    </tr>\n",
       "    <tr>\n",
       "      <th>4</th>\n",
       "      <td>5</td>\n",
       "      <td>NaN</td>\n",
       "      <td>NaN</td>\n",
       "      <td>NaN</td>\n",
       "      <td>78.0</td>\n",
       "      <td>NaN</td>\n",
       "      <td>NaN</td>\n",
       "      <td>NaN</td>\n",
       "      <td>NaN</td>\n",
       "      <td>NaN</td>\n",
       "      <td>NaN</td>\n",
       "      <td>NaN</td>\n",
       "      <td>203.0</td>\n",
       "      <td>NaN</td>\n",
       "      <td>151.0</td>\n",
       "      <td>152.0</td>\n",
       "    </tr>\n",
       "  </tbody>\n",
       "</table>\n",
       "</div>"
      ],
      "text/plain": [
       "   key  Bulk 1  Bulk 2  Bulk 3  Bulk 4  Bulk 5  Bulk 6  Bulk 7  Bulk 8  \\\n",
       "0    1     NaN     NaN     NaN    43.0     NaN     NaN     NaN     NaN   \n",
       "1    2     NaN     NaN     NaN    73.0     NaN     NaN     NaN     NaN   \n",
       "2    3     NaN     NaN     NaN    34.0     NaN     NaN     NaN     NaN   \n",
       "3    4     NaN     NaN     NaN    81.0     NaN     NaN     NaN     NaN   \n",
       "4    5     NaN     NaN     NaN    78.0     NaN     NaN     NaN     NaN   \n",
       "\n",
       "   Bulk 9  Bulk 10  Bulk 11  Bulk 12  Bulk 13  Bulk 14  Bulk 15  \n",
       "0     NaN      NaN      NaN    206.0      NaN    150.0    154.0  \n",
       "1     NaN      NaN      NaN    206.0      NaN    149.0    154.0  \n",
       "2     NaN      NaN      NaN    205.0      NaN    152.0    153.0  \n",
       "3     NaN      NaN      NaN    207.0      NaN    153.0    154.0  \n",
       "4     NaN      NaN      NaN    203.0      NaN    151.0    152.0  "
      ]
     },
     "metadata": {},
     "output_type": "display_data"
    },
    {
     "name": "stdout",
     "output_type": "stream",
     "text": [
      "<class 'pandas.core.frame.DataFrame'>\n",
      "RangeIndex: 3129 entries, 0 to 3128\n",
      "Data columns (total 16 columns):\n",
      " #   Column   Non-Null Count  Dtype  \n",
      "---  ------   --------------  -----  \n",
      " 0   key      3129 non-null   int64  \n",
      " 1   Bulk 1   252 non-null    float64\n",
      " 2   Bulk 2   22 non-null     float64\n",
      " 3   Bulk 3   1298 non-null   float64\n",
      " 4   Bulk 4   1014 non-null   float64\n",
      " 5   Bulk 5   77 non-null     float64\n",
      " 6   Bulk 6   576 non-null    float64\n",
      " 7   Bulk 7   25 non-null     float64\n",
      " 8   Bulk 8   1 non-null      float64\n",
      " 9   Bulk 9   19 non-null     float64\n",
      " 10  Bulk 10  176 non-null    float64\n",
      " 11  Bulk 11  177 non-null    float64\n",
      " 12  Bulk 12  2450 non-null   float64\n",
      " 13  Bulk 13  18 non-null     float64\n",
      " 14  Bulk 14  2806 non-null   float64\n",
      " 15  Bulk 15  2248 non-null   float64\n",
      "dtypes: float64(15), int64(1)\n",
      "memory usage: 391.2 KB\n",
      "None\n"
     ]
    }
   ],
   "source": [
    "display(df_bulk.head())\n",
    "print(df_bulk.info())"
   ]
  },
  {
   "cell_type": "code",
   "execution_count": 7,
   "metadata": {},
   "outputs": [
    {
     "name": "stdout",
     "output_type": "stream",
     "text": [
      "Количество записей равно количеству уникальных значений в столбце key: True\n",
      "Доверяй, но проверяй. Пропусков в столбце key: 0\n"
     ]
    }
   ],
   "source": [
    "print('Количество записей равно количеству уникальных значений в столбце key:', len(df_bulk['key']) == len(df_bulk['key'].unique()))\n",
    "print('Доверяй, но проверяй. Пропусков в столбце key:', df_bulk['key'].isna().sum())"
   ]
  },
  {
   "cell_type": "markdown",
   "metadata": {},
   "source": [
    "**Выводы:**\n",
    "    \n",
    "1. На каждую партию только по одной записи. Агрегация строк не требуется\n",
    "2. Пропусков в столбце key нет\n",
    "\n",
    "**Планируемые действия**\n",
    "\n",
    "1. Переименовать столбцы (\"Bulk 1\" -> \"bulk_1\" и т.д.)\n",
    "2. Заполнить пропуски нулями. (если значение отсутствует, значит присадку не дабавляли, значит значение д.б. 0)"
   ]
  },
  {
   "cell_type": "markdown",
   "metadata": {},
   "source": [
    "## 2.3. Данные о продувке сплава газом<a id=\"2.3.\"></a>"
   ]
  },
  {
   "cell_type": "code",
   "execution_count": 8,
   "metadata": {},
   "outputs": [
    {
     "data": {
      "text/html": [
       "<div>\n",
       "<style scoped>\n",
       "    .dataframe tbody tr th:only-of-type {\n",
       "        vertical-align: middle;\n",
       "    }\n",
       "\n",
       "    .dataframe tbody tr th {\n",
       "        vertical-align: top;\n",
       "    }\n",
       "\n",
       "    .dataframe thead th {\n",
       "        text-align: right;\n",
       "    }\n",
       "</style>\n",
       "<table border=\"1\" class=\"dataframe\">\n",
       "  <thead>\n",
       "    <tr style=\"text-align: right;\">\n",
       "      <th></th>\n",
       "      <th>key</th>\n",
       "      <th>Газ 1</th>\n",
       "    </tr>\n",
       "  </thead>\n",
       "  <tbody>\n",
       "    <tr>\n",
       "      <th>0</th>\n",
       "      <td>1</td>\n",
       "      <td>29.749986</td>\n",
       "    </tr>\n",
       "    <tr>\n",
       "      <th>1</th>\n",
       "      <td>2</td>\n",
       "      <td>12.555561</td>\n",
       "    </tr>\n",
       "    <tr>\n",
       "      <th>2</th>\n",
       "      <td>3</td>\n",
       "      <td>28.554793</td>\n",
       "    </tr>\n",
       "    <tr>\n",
       "      <th>3</th>\n",
       "      <td>4</td>\n",
       "      <td>18.841219</td>\n",
       "    </tr>\n",
       "    <tr>\n",
       "      <th>4</th>\n",
       "      <td>5</td>\n",
       "      <td>5.413692</td>\n",
       "    </tr>\n",
       "  </tbody>\n",
       "</table>\n",
       "</div>"
      ],
      "text/plain": [
       "   key      Газ 1\n",
       "0    1  29.749986\n",
       "1    2  12.555561\n",
       "2    3  28.554793\n",
       "3    4  18.841219\n",
       "4    5   5.413692"
      ]
     },
     "metadata": {},
     "output_type": "display_data"
    },
    {
     "name": "stdout",
     "output_type": "stream",
     "text": [
      "<class 'pandas.core.frame.DataFrame'>\n",
      "RangeIndex: 3239 entries, 0 to 3238\n",
      "Data columns (total 2 columns):\n",
      " #   Column  Non-Null Count  Dtype  \n",
      "---  ------  --------------  -----  \n",
      " 0   key     3239 non-null   int64  \n",
      " 1   Газ 1   3239 non-null   float64\n",
      "dtypes: float64(1), int64(1)\n",
      "memory usage: 50.7 KB\n",
      "None\n"
     ]
    }
   ],
   "source": [
    "display(df_gas.head())\n",
    "print(df_gas.info())"
   ]
  },
  {
   "cell_type": "code",
   "execution_count": 9,
   "metadata": {},
   "outputs": [
    {
     "name": "stdout",
     "output_type": "stream",
     "text": [
      "Количество записей равно количеству уникальных значений в столбце key: True\n",
      "Всего строк с пропусками значений по каждому столбцу:\n",
      " key      0\n",
      "Газ 1    0\n",
      "dtype: int64\n"
     ]
    }
   ],
   "source": [
    "print('Количество записей равно количеству уникальных значений в столбце key:', len(df_gas['key']) == len(df_gas['key'].unique()))\n",
    "print('Всего строк с пропусками значений по каждому столбцу:\\n', df_gas.isna().sum())"
   ]
  },
  {
   "cell_type": "markdown",
   "metadata": {},
   "source": [
    "**Выводы:**\n",
    "    \n",
    "1. По каждой партии только по одной записи. Агрегация строк не требуется\n",
    "2. Пропусков в столбцах нет\n",
    "\n",
    "**Планируемые действия**\n",
    "\n",
    "1. Переименовать столбец (\"Газ 1\" -> \"gas\")\n",
    "2. Суммирования значений по партии (ключу) не требуется\n",
    "3. Замены пропусков не требуется"
   ]
  },
  {
   "cell_type": "markdown",
   "metadata": {},
   "source": [
    "## 2.4. Результаты измерения температуры (целевой признак)<a id=\"2.4.\"></a>"
   ]
  },
  {
   "cell_type": "code",
   "execution_count": 10,
   "metadata": {},
   "outputs": [
    {
     "data": {
      "text/html": [
       "<div>\n",
       "<style scoped>\n",
       "    .dataframe tbody tr th:only-of-type {\n",
       "        vertical-align: middle;\n",
       "    }\n",
       "\n",
       "    .dataframe tbody tr th {\n",
       "        vertical-align: top;\n",
       "    }\n",
       "\n",
       "    .dataframe thead th {\n",
       "        text-align: right;\n",
       "    }\n",
       "</style>\n",
       "<table border=\"1\" class=\"dataframe\">\n",
       "  <thead>\n",
       "    <tr style=\"text-align: right;\">\n",
       "      <th></th>\n",
       "      <th>key</th>\n",
       "      <th>Время замера</th>\n",
       "      <th>Температура</th>\n",
       "    </tr>\n",
       "  </thead>\n",
       "  <tbody>\n",
       "    <tr>\n",
       "      <th>0</th>\n",
       "      <td>1</td>\n",
       "      <td>2019-05-03 11:16:18</td>\n",
       "      <td>1571.0</td>\n",
       "    </tr>\n",
       "    <tr>\n",
       "      <th>1</th>\n",
       "      <td>1</td>\n",
       "      <td>2019-05-03 11:25:53</td>\n",
       "      <td>1604.0</td>\n",
       "    </tr>\n",
       "    <tr>\n",
       "      <th>2</th>\n",
       "      <td>1</td>\n",
       "      <td>2019-05-03 11:29:11</td>\n",
       "      <td>1618.0</td>\n",
       "    </tr>\n",
       "    <tr>\n",
       "      <th>3</th>\n",
       "      <td>1</td>\n",
       "      <td>2019-05-03 11:30:01</td>\n",
       "      <td>1601.0</td>\n",
       "    </tr>\n",
       "    <tr>\n",
       "      <th>4</th>\n",
       "      <td>1</td>\n",
       "      <td>2019-05-03 11:30:39</td>\n",
       "      <td>1613.0</td>\n",
       "    </tr>\n",
       "  </tbody>\n",
       "</table>\n",
       "</div>"
      ],
      "text/plain": [
       "   key         Время замера  Температура\n",
       "0    1  2019-05-03 11:16:18       1571.0\n",
       "1    1  2019-05-03 11:25:53       1604.0\n",
       "2    1  2019-05-03 11:29:11       1618.0\n",
       "3    1  2019-05-03 11:30:01       1601.0\n",
       "4    1  2019-05-03 11:30:39       1613.0"
      ]
     },
     "metadata": {},
     "output_type": "display_data"
    },
    {
     "name": "stdout",
     "output_type": "stream",
     "text": [
      "<class 'pandas.core.frame.DataFrame'>\n",
      "RangeIndex: 15907 entries, 0 to 15906\n",
      "Data columns (total 3 columns):\n",
      " #   Column        Non-Null Count  Dtype  \n",
      "---  ------        --------------  -----  \n",
      " 0   key           15907 non-null  int64  \n",
      " 1   Время замера  15907 non-null  object \n",
      " 2   Температура   13006 non-null  float64\n",
      "dtypes: float64(1), int64(1), object(1)\n",
      "memory usage: 372.9+ KB\n",
      "None\n"
     ]
    }
   ],
   "source": [
    "display(df_temp.head())\n",
    "print(df_temp.info())"
   ]
  },
  {
   "cell_type": "code",
   "execution_count": 11,
   "metadata": {},
   "outputs": [
    {
     "name": "stdout",
     "output_type": "stream",
     "text": [
      "В таблице df_gas нет повторяющихся значений партий: False\n",
      "Всего строк с пропусками значений по каждому столбцу:\n",
      " key                0\n",
      "Время замера       0\n",
      "Температура     2901\n",
      "dtype: int64\n"
     ]
    }
   ],
   "source": [
    "print('В таблице df_gas нет повторяющихся значений партий:', len(df_temp['key']) == len(df_temp['key'].unique()))\n",
    "print('Всего строк с пропусками значений по каждому столбцу:\\n', df_temp.isna().sum())"
   ]
  },
  {
   "cell_type": "markdown",
   "metadata": {},
   "source": [
    "**Выводы:**\n",
    "    \n",
    "1. По каждой партии больше чем по одной записи\n",
    "2. Пропусков в столбце key нет\n",
    "3. Присутствуют пропуски в столбце \"Температура\"\n",
    "\n",
    "**Планируемые действия**\n",
    "\n",
    "1. Переименовать столбцы (\"Температура\"->\"temp\")\n",
    "2. Исключить партии с одной итерацией. (Значение key встречается только один раз)\n",
    "3. Исключить записи о партии с пропущенным значением температуры в последней и вероятно первой партии (TBD)\n",
    "4. Исключить записи, где значение первой и последней температуры в партии совпадают (предотвращаем утечку целевого признака)\n",
    "5. Исключиить промежуточные записи.  т.е. оставить только первую и последнюю записи о температуре в партии\n",
    "6. Удалить столбец \"Время замера\"\n",
    "7. Пересобрать таблицу из \"длинной\" в \"широкую\":  каждое из оставшихся значений должно быть не в разных строках а в разных столбцах\n",
    "8. Проверить на пропуски"
   ]
  },
  {
   "cell_type": "markdown",
   "metadata": {},
   "source": [
    "## 2.5. Данные о проволочных материалах (объём)<a id=\"2.5.\"></a>"
   ]
  },
  {
   "cell_type": "code",
   "execution_count": 11,
   "metadata": {},
   "outputs": [
    {
     "data": {
      "text/html": [
       "<div>\n",
       "<style scoped>\n",
       "    .dataframe tbody tr th:only-of-type {\n",
       "        vertical-align: middle;\n",
       "    }\n",
       "\n",
       "    .dataframe tbody tr th {\n",
       "        vertical-align: top;\n",
       "    }\n",
       "\n",
       "    .dataframe thead th {\n",
       "        text-align: right;\n",
       "    }\n",
       "</style>\n",
       "<table border=\"1\" class=\"dataframe\">\n",
       "  <thead>\n",
       "    <tr style=\"text-align: right;\">\n",
       "      <th></th>\n",
       "      <th>key</th>\n",
       "      <th>Wire 1</th>\n",
       "      <th>Wire 2</th>\n",
       "      <th>Wire 3</th>\n",
       "      <th>Wire 4</th>\n",
       "      <th>Wire 5</th>\n",
       "      <th>Wire 6</th>\n",
       "      <th>Wire 7</th>\n",
       "      <th>Wire 8</th>\n",
       "      <th>Wire 9</th>\n",
       "    </tr>\n",
       "  </thead>\n",
       "  <tbody>\n",
       "    <tr>\n",
       "      <th>0</th>\n",
       "      <td>1</td>\n",
       "      <td>60.059998</td>\n",
       "      <td>NaN</td>\n",
       "      <td>NaN</td>\n",
       "      <td>NaN</td>\n",
       "      <td>NaN</td>\n",
       "      <td>NaN</td>\n",
       "      <td>NaN</td>\n",
       "      <td>NaN</td>\n",
       "      <td>NaN</td>\n",
       "    </tr>\n",
       "    <tr>\n",
       "      <th>1</th>\n",
       "      <td>2</td>\n",
       "      <td>96.052315</td>\n",
       "      <td>NaN</td>\n",
       "      <td>NaN</td>\n",
       "      <td>NaN</td>\n",
       "      <td>NaN</td>\n",
       "      <td>NaN</td>\n",
       "      <td>NaN</td>\n",
       "      <td>NaN</td>\n",
       "      <td>NaN</td>\n",
       "    </tr>\n",
       "    <tr>\n",
       "      <th>2</th>\n",
       "      <td>3</td>\n",
       "      <td>91.160157</td>\n",
       "      <td>NaN</td>\n",
       "      <td>NaN</td>\n",
       "      <td>NaN</td>\n",
       "      <td>NaN</td>\n",
       "      <td>NaN</td>\n",
       "      <td>NaN</td>\n",
       "      <td>NaN</td>\n",
       "      <td>NaN</td>\n",
       "    </tr>\n",
       "    <tr>\n",
       "      <th>3</th>\n",
       "      <td>4</td>\n",
       "      <td>89.063515</td>\n",
       "      <td>NaN</td>\n",
       "      <td>NaN</td>\n",
       "      <td>NaN</td>\n",
       "      <td>NaN</td>\n",
       "      <td>NaN</td>\n",
       "      <td>NaN</td>\n",
       "      <td>NaN</td>\n",
       "      <td>NaN</td>\n",
       "    </tr>\n",
       "    <tr>\n",
       "      <th>4</th>\n",
       "      <td>5</td>\n",
       "      <td>89.238236</td>\n",
       "      <td>9.11456</td>\n",
       "      <td>NaN</td>\n",
       "      <td>NaN</td>\n",
       "      <td>NaN</td>\n",
       "      <td>NaN</td>\n",
       "      <td>NaN</td>\n",
       "      <td>NaN</td>\n",
       "      <td>NaN</td>\n",
       "    </tr>\n",
       "  </tbody>\n",
       "</table>\n",
       "</div>"
      ],
      "text/plain": [
       "   key     Wire 1   Wire 2  Wire 3  Wire 4  Wire 5  Wire 6  Wire 7  Wire 8  \\\n",
       "0    1  60.059998      NaN     NaN     NaN     NaN     NaN     NaN     NaN   \n",
       "1    2  96.052315      NaN     NaN     NaN     NaN     NaN     NaN     NaN   \n",
       "2    3  91.160157      NaN     NaN     NaN     NaN     NaN     NaN     NaN   \n",
       "3    4  89.063515      NaN     NaN     NaN     NaN     NaN     NaN     NaN   \n",
       "4    5  89.238236  9.11456     NaN     NaN     NaN     NaN     NaN     NaN   \n",
       "\n",
       "   Wire 9  \n",
       "0     NaN  \n",
       "1     NaN  \n",
       "2     NaN  \n",
       "3     NaN  \n",
       "4     NaN  "
      ]
     },
     "metadata": {},
     "output_type": "display_data"
    },
    {
     "name": "stdout",
     "output_type": "stream",
     "text": [
      "<class 'pandas.core.frame.DataFrame'>\n",
      "RangeIndex: 3081 entries, 0 to 3080\n",
      "Data columns (total 10 columns):\n",
      " #   Column  Non-Null Count  Dtype  \n",
      "---  ------  --------------  -----  \n",
      " 0   key     3081 non-null   int64  \n",
      " 1   Wire 1  3055 non-null   float64\n",
      " 2   Wire 2  1079 non-null   float64\n",
      " 3   Wire 3  63 non-null     float64\n",
      " 4   Wire 4  14 non-null     float64\n",
      " 5   Wire 5  1 non-null      float64\n",
      " 6   Wire 6  73 non-null     float64\n",
      " 7   Wire 7  11 non-null     float64\n",
      " 8   Wire 8  19 non-null     float64\n",
      " 9   Wire 9  29 non-null     float64\n",
      "dtypes: float64(9), int64(1)\n",
      "memory usage: 240.8 KB\n",
      "None\n"
     ]
    }
   ],
   "source": [
    "display(df_wire.head())\n",
    "print(df_wire.info())"
   ]
  },
  {
   "cell_type": "code",
   "execution_count": 12,
   "metadata": {},
   "outputs": [
    {
     "name": "stdout",
     "output_type": "stream",
     "text": [
      "В таблице df_wire нет повторяющихся значений партий: True\n",
      "Всего строк с пропусками значений по каждому столбцу:\n",
      " key          0\n",
      "Wire 1      26\n",
      "Wire 2    2002\n",
      "Wire 3    3018\n",
      "Wire 4    3067\n",
      "Wire 5    3080\n",
      "Wire 6    3008\n",
      "Wire 7    3070\n",
      "Wire 8    3062\n",
      "Wire 9    3052\n",
      "dtype: int64\n"
     ]
    }
   ],
   "source": [
    "print('В таблице df_wire нет повторяющихся значений партий:', len(df_wire['key']) == len(df_wire['key'].unique()))\n",
    "print('Всего строк с пропусками значений по каждому столбцу:\\n', df_wire.isna().sum())"
   ]
  },
  {
   "cell_type": "markdown",
   "metadata": {},
   "source": [
    "**Выводы:**\n",
    "    \n",
    "1. Суммирования значений по партии (ключу) не требуется\n",
    "2. Пропусков в столбце key нет\n",
    "3. Присутствуют пропуски в столбцах с данными\n",
    "\n",
    "**Планируемые действия**\n",
    "\n",
    "1. Переименовать столбцы \"Wire 1\"-> \"wire_1\"  и т.д.\n",
    "2. Заполнить пропуски нулями."
   ]
  },
  {
   "cell_type": "markdown",
   "metadata": {},
   "source": [
    "# 3. Предобработка данных<a id=\"3.\"></a>"
   ]
  },
  {
   "cell_type": "markdown",
   "metadata": {},
   "source": [
    "Подготовим функции для оптимизации работы"
   ]
  },
  {
   "cell_type": "code",
   "execution_count": 13,
   "metadata": {},
   "outputs": [],
   "source": [
    "# переименование столбцов\n",
    "def column_renamer(df, old_col_list, new_col_list):\n",
    "    \"\"\"\n",
    "    df - датафрейм в которомнеобходимо переименовать столбцы\n",
    "    new_col_list - список новых названий столбцов датафрейма\n",
    "    \"\"\"\n",
    "    \n",
    "    dict_to_rename = {}\n",
    "    for i in zip(old_col_list, new_col_list):\n",
    "        dict_to_rename[i[0]] = i[1]\n",
    "    df.rename(columns=dict_to_rename, inplace = True)\n",
    "    print('список новых названий столбцов:', df.columns.to_list())"
   ]
  },
  {
   "cell_type": "markdown",
   "metadata": {},
   "source": [
    "## 3.1. Данные об электродах<a id=\"3.1.\"></a>"
   ]
  },
  {
   "cell_type": "markdown",
   "metadata": {},
   "source": [
    "**Переименуем столбцы**"
   ]
  },
  {
   "cell_type": "code",
   "execution_count": 14,
   "metadata": {},
   "outputs": [
    {
     "name": "stdout",
     "output_type": "stream",
     "text": [
      "список новых названий столбцов: ['key', 'arc_start_time', 'arc_end_time', 'arc_active_power', 'Реактивная мощность']\n"
     ]
    }
   ],
   "source": [
    "arc_old_col_list = ['Начало нагрева дугой', 'Конец нагрева дугой', 'Активная мощность']\n",
    "arc_new_col_list = ['arc_start_time', 'arc_end_time', 'arc_active_power']\n",
    "\n",
    "column_renamer(df=df_arc, old_col_list=arc_old_col_list, new_col_list=arc_new_col_list)"
   ]
  },
  {
   "cell_type": "markdown",
   "metadata": {},
   "source": [
    "**Удалим лишние столбцы**"
   ]
  },
  {
   "cell_type": "code",
   "execution_count": 15,
   "metadata": {},
   "outputs": [],
   "source": [
    "df_arc.drop(axis=1, columns=['Реактивная мощность'], inplace=True)"
   ]
  },
  {
   "cell_type": "markdown",
   "metadata": {},
   "source": [
    "**Просуммируем затраченную на каждой партии работу**"
   ]
  },
  {
   "cell_type": "code",
   "execution_count": 16,
   "metadata": {},
   "outputs": [
    {
     "data": {
      "text/html": [
       "<div>\n",
       "<style scoped>\n",
       "    .dataframe tbody tr th:only-of-type {\n",
       "        vertical-align: middle;\n",
       "    }\n",
       "\n",
       "    .dataframe tbody tr th {\n",
       "        vertical-align: top;\n",
       "    }\n",
       "\n",
       "    .dataframe thead th {\n",
       "        text-align: right;\n",
       "    }\n",
       "</style>\n",
       "<table border=\"1\" class=\"dataframe\">\n",
       "  <thead>\n",
       "    <tr style=\"text-align: right;\">\n",
       "      <th></th>\n",
       "      <th>key</th>\n",
       "      <th>arc_start_time</th>\n",
       "      <th>arc_end_time</th>\n",
       "      <th>arc_active_power</th>\n",
       "      <th>duration</th>\n",
       "      <th>hours</th>\n",
       "      <th>work</th>\n",
       "    </tr>\n",
       "  </thead>\n",
       "  <tbody>\n",
       "    <tr>\n",
       "      <th>0</th>\n",
       "      <td>1</td>\n",
       "      <td>2019-05-03 11:02:14</td>\n",
       "      <td>2019-05-03 11:06:02</td>\n",
       "      <td>0.976059</td>\n",
       "      <td>00:03:48</td>\n",
       "      <td>0.063333</td>\n",
       "      <td>0.061817</td>\n",
       "    </tr>\n",
       "    <tr>\n",
       "      <th>1</th>\n",
       "      <td>1</td>\n",
       "      <td>2019-05-03 11:07:28</td>\n",
       "      <td>2019-05-03 11:10:33</td>\n",
       "      <td>0.805607</td>\n",
       "      <td>00:03:05</td>\n",
       "      <td>0.051389</td>\n",
       "      <td>0.041399</td>\n",
       "    </tr>\n",
       "  </tbody>\n",
       "</table>\n",
       "</div>"
      ],
      "text/plain": [
       "   key      arc_start_time        arc_end_time  arc_active_power duration  \\\n",
       "0    1 2019-05-03 11:02:14 2019-05-03 11:06:02          0.976059 00:03:48   \n",
       "1    1 2019-05-03 11:07:28 2019-05-03 11:10:33          0.805607 00:03:05   \n",
       "\n",
       "      hours      work  \n",
       "0  0.063333  0.061817  \n",
       "1  0.051389  0.041399  "
      ]
     },
     "execution_count": 16,
     "metadata": {},
     "output_type": "execute_result"
    }
   ],
   "source": [
    "# сперва преобразуем в datetime\n",
    "df_arc['arc_start_time'] = pd.to_datetime(df_arc['arc_start_time'])\n",
    "df_arc['arc_end_time'] = pd.to_datetime(df_arc['arc_end_time'])\n",
    "df_arc['duration'] = df_arc['arc_end_time'] - df_arc['arc_start_time']\n",
    "df_arc['hours'] = df_arc['duration'].dt.total_seconds() / 3600\n",
    "df_arc['work'] = df_arc['arc_active_power'] * df_arc['hours']\n",
    "\n",
    "# проверим результат\n",
    "df_arc.head(2)"
   ]
  },
  {
   "cell_type": "markdown",
   "metadata": {},
   "source": [
    "**Удалим лишние столбцы**"
   ]
  },
  {
   "cell_type": "code",
   "execution_count": 17,
   "metadata": {},
   "outputs": [],
   "source": [
    "df_arc.drop(columns=['arc_start_time', 'arc_end_time', 'arc_active_power', 'duration','hours'], inplace=True)"
   ]
  },
  {
   "cell_type": "markdown",
   "metadata": {},
   "source": [
    "**Просуммируем мощность по каждой партии**"
   ]
  },
  {
   "cell_type": "code",
   "execution_count": 18,
   "metadata": {},
   "outputs": [],
   "source": [
    "df_arc = df_arc.groupby(by='key')['work'].sum()"
   ]
  },
  {
   "cell_type": "code",
   "execution_count": 19,
   "metadata": {},
   "outputs": [],
   "source": [
    "df_arc = pd.DataFrame(data=df_arc, columns=['work']).reset_index(drop=False)"
   ]
  },
  {
   "cell_type": "code",
   "execution_count": 20,
   "metadata": {},
   "outputs": [
    {
     "name": "stdout",
     "output_type": "stream",
     "text": [
      "<class 'pandas.core.frame.DataFrame'>\n",
      "RangeIndex: 3214 entries, 0 to 3213\n",
      "Data columns (total 2 columns):\n",
      " #   Column  Non-Null Count  Dtype  \n",
      "---  ------  --------------  -----  \n",
      " 0   key     3214 non-null   int64  \n",
      " 1   work    3214 non-null   float64\n",
      "dtypes: float64(1), int64(1)\n",
      "memory usage: 50.3 KB\n",
      "====== ====== ====== ====== ====== \n"
     ]
    },
    {
     "data": {
      "text/html": [
       "<div>\n",
       "<style scoped>\n",
       "    .dataframe tbody tr th:only-of-type {\n",
       "        vertical-align: middle;\n",
       "    }\n",
       "\n",
       "    .dataframe tbody tr th {\n",
       "        vertical-align: top;\n",
       "    }\n",
       "\n",
       "    .dataframe thead th {\n",
       "        text-align: right;\n",
       "    }\n",
       "</style>\n",
       "<table border=\"1\" class=\"dataframe\">\n",
       "  <thead>\n",
       "    <tr style=\"text-align: right;\">\n",
       "      <th></th>\n",
       "      <th>key</th>\n",
       "      <th>work</th>\n",
       "    </tr>\n",
       "  </thead>\n",
       "  <tbody>\n",
       "    <tr>\n",
       "      <th>0</th>\n",
       "      <td>1</td>\n",
       "      <td>0.335501</td>\n",
       "    </tr>\n",
       "    <tr>\n",
       "      <th>1</th>\n",
       "      <td>2</td>\n",
       "      <td>0.203838</td>\n",
       "    </tr>\n",
       "    <tr>\n",
       "      <th>2</th>\n",
       "      <td>3</td>\n",
       "      <td>0.123218</td>\n",
       "    </tr>\n",
       "  </tbody>\n",
       "</table>\n",
       "</div>"
      ],
      "text/plain": [
       "   key      work\n",
       "0    1  0.335501\n",
       "1    2  0.203838\n",
       "2    3  0.123218"
      ]
     },
     "metadata": {},
     "output_type": "display_data"
    }
   ],
   "source": [
    "# оценим результат\n",
    "df_arc.info()\n",
    "print('====== '*5)\n",
    "display(df_arc.head(3))"
   ]
  },
  {
   "cell_type": "markdown",
   "metadata": {},
   "source": [
    "## 3.2. Данные о подаче сыпучих материалов (объем)<a id=\"3.2.\"></a>"
   ]
  },
  {
   "cell_type": "markdown",
   "metadata": {},
   "source": [
    "**Переименуем столбцы**"
   ]
  },
  {
   "cell_type": "code",
   "execution_count": 21,
   "metadata": {},
   "outputs": [
    {
     "name": "stdout",
     "output_type": "stream",
     "text": [
      "список новых названий столбцов: ['key', 'bulk_1', 'bulk_2', 'bulk_3', 'bulk_4', 'bulk_5', 'bulk_6', 'bulk_7', 'bulk_8', 'bulk_9', 'bulk_10', 'bulk_11', 'bulk_12', 'bulk_13', 'bulk_14', 'bulk_15']\n"
     ]
    }
   ],
   "source": [
    "bulk_old_col_list = ['Bulk 1','Bulk 2','Bulk 3','Bulk 4','Bulk 5','Bulk 6','Bulk 7','Bulk 8','Bulk 9','Bulk 10','Bulk 11','Bulk 12','Bulk 13','Bulk 14','Bulk 15']\n",
    "bulk_new_col_list = ['bulk_1','bulk_2','bulk_3','bulk_4','bulk_5','bulk_6','bulk_7','bulk_8','bulk_9','bulk_10','bulk_11','bulk_12','bulk_13','bulk_14','bulk_15']\n",
    "\n",
    "column_renamer(df=df_bulk, old_col_list=bulk_old_col_list, new_col_list=bulk_new_col_list)"
   ]
  },
  {
   "cell_type": "markdown",
   "metadata": {},
   "source": [
    "**Заполним пропуски нулями**"
   ]
  },
  {
   "cell_type": "code",
   "execution_count": 22,
   "metadata": {},
   "outputs": [],
   "source": [
    "df_bulk.fillna(value=0, inplace=True)"
   ]
  },
  {
   "cell_type": "code",
   "execution_count": 23,
   "metadata": {},
   "outputs": [
    {
     "name": "stdout",
     "output_type": "stream",
     "text": [
      "<class 'pandas.core.frame.DataFrame'>\n",
      "RangeIndex: 3129 entries, 0 to 3128\n",
      "Data columns (total 16 columns):\n",
      " #   Column   Non-Null Count  Dtype  \n",
      "---  ------   --------------  -----  \n",
      " 0   key      3129 non-null   int64  \n",
      " 1   bulk_1   3129 non-null   float64\n",
      " 2   bulk_2   3129 non-null   float64\n",
      " 3   bulk_3   3129 non-null   float64\n",
      " 4   bulk_4   3129 non-null   float64\n",
      " 5   bulk_5   3129 non-null   float64\n",
      " 6   bulk_6   3129 non-null   float64\n",
      " 7   bulk_7   3129 non-null   float64\n",
      " 8   bulk_8   3129 non-null   float64\n",
      " 9   bulk_9   3129 non-null   float64\n",
      " 10  bulk_10  3129 non-null   float64\n",
      " 11  bulk_11  3129 non-null   float64\n",
      " 12  bulk_12  3129 non-null   float64\n",
      " 13  bulk_13  3129 non-null   float64\n",
      " 14  bulk_14  3129 non-null   float64\n",
      " 15  bulk_15  3129 non-null   float64\n",
      "dtypes: float64(15), int64(1)\n",
      "memory usage: 391.2 KB\n",
      "====== ====== ====== ====== ====== \n"
     ]
    },
    {
     "data": {
      "text/html": [
       "<div>\n",
       "<style scoped>\n",
       "    .dataframe tbody tr th:only-of-type {\n",
       "        vertical-align: middle;\n",
       "    }\n",
       "\n",
       "    .dataframe tbody tr th {\n",
       "        vertical-align: top;\n",
       "    }\n",
       "\n",
       "    .dataframe thead th {\n",
       "        text-align: right;\n",
       "    }\n",
       "</style>\n",
       "<table border=\"1\" class=\"dataframe\">\n",
       "  <thead>\n",
       "    <tr style=\"text-align: right;\">\n",
       "      <th></th>\n",
       "      <th>key</th>\n",
       "      <th>bulk_1</th>\n",
       "      <th>bulk_2</th>\n",
       "      <th>bulk_3</th>\n",
       "      <th>bulk_4</th>\n",
       "      <th>bulk_5</th>\n",
       "      <th>bulk_6</th>\n",
       "      <th>bulk_7</th>\n",
       "      <th>bulk_8</th>\n",
       "      <th>bulk_9</th>\n",
       "      <th>bulk_10</th>\n",
       "      <th>bulk_11</th>\n",
       "      <th>bulk_12</th>\n",
       "      <th>bulk_13</th>\n",
       "      <th>bulk_14</th>\n",
       "      <th>bulk_15</th>\n",
       "    </tr>\n",
       "  </thead>\n",
       "  <tbody>\n",
       "    <tr>\n",
       "      <th>0</th>\n",
       "      <td>1</td>\n",
       "      <td>0.0</td>\n",
       "      <td>0.0</td>\n",
       "      <td>0.0</td>\n",
       "      <td>43.0</td>\n",
       "      <td>0.0</td>\n",
       "      <td>0.0</td>\n",
       "      <td>0.0</td>\n",
       "      <td>0.0</td>\n",
       "      <td>0.0</td>\n",
       "      <td>0.0</td>\n",
       "      <td>0.0</td>\n",
       "      <td>206.0</td>\n",
       "      <td>0.0</td>\n",
       "      <td>150.0</td>\n",
       "      <td>154.0</td>\n",
       "    </tr>\n",
       "    <tr>\n",
       "      <th>1</th>\n",
       "      <td>2</td>\n",
       "      <td>0.0</td>\n",
       "      <td>0.0</td>\n",
       "      <td>0.0</td>\n",
       "      <td>73.0</td>\n",
       "      <td>0.0</td>\n",
       "      <td>0.0</td>\n",
       "      <td>0.0</td>\n",
       "      <td>0.0</td>\n",
       "      <td>0.0</td>\n",
       "      <td>0.0</td>\n",
       "      <td>0.0</td>\n",
       "      <td>206.0</td>\n",
       "      <td>0.0</td>\n",
       "      <td>149.0</td>\n",
       "      <td>154.0</td>\n",
       "    </tr>\n",
       "    <tr>\n",
       "      <th>2</th>\n",
       "      <td>3</td>\n",
       "      <td>0.0</td>\n",
       "      <td>0.0</td>\n",
       "      <td>0.0</td>\n",
       "      <td>34.0</td>\n",
       "      <td>0.0</td>\n",
       "      <td>0.0</td>\n",
       "      <td>0.0</td>\n",
       "      <td>0.0</td>\n",
       "      <td>0.0</td>\n",
       "      <td>0.0</td>\n",
       "      <td>0.0</td>\n",
       "      <td>205.0</td>\n",
       "      <td>0.0</td>\n",
       "      <td>152.0</td>\n",
       "      <td>153.0</td>\n",
       "    </tr>\n",
       "  </tbody>\n",
       "</table>\n",
       "</div>"
      ],
      "text/plain": [
       "   key  bulk_1  bulk_2  bulk_3  bulk_4  bulk_5  bulk_6  bulk_7  bulk_8  \\\n",
       "0    1     0.0     0.0     0.0    43.0     0.0     0.0     0.0     0.0   \n",
       "1    2     0.0     0.0     0.0    73.0     0.0     0.0     0.0     0.0   \n",
       "2    3     0.0     0.0     0.0    34.0     0.0     0.0     0.0     0.0   \n",
       "\n",
       "   bulk_9  bulk_10  bulk_11  bulk_12  bulk_13  bulk_14  bulk_15  \n",
       "0     0.0      0.0      0.0    206.0      0.0    150.0    154.0  \n",
       "1     0.0      0.0      0.0    206.0      0.0    149.0    154.0  \n",
       "2     0.0      0.0      0.0    205.0      0.0    152.0    153.0  "
      ]
     },
     "metadata": {},
     "output_type": "display_data"
    }
   ],
   "source": [
    "# оценим результат\n",
    "df_bulk.info()\n",
    "print('====== '*5)\n",
    "display(df_bulk.head(3))"
   ]
  },
  {
   "cell_type": "markdown",
   "metadata": {},
   "source": [
    "## 3.3. Данные о продувке сплава газом<a id=\"3.3.\"></a>"
   ]
  },
  {
   "cell_type": "markdown",
   "metadata": {},
   "source": [
    "**Переименуем столбцы**"
   ]
  },
  {
   "cell_type": "code",
   "execution_count": 24,
   "metadata": {},
   "outputs": [
    {
     "name": "stdout",
     "output_type": "stream",
     "text": [
      "список новых названий столбцов: ['key', 'gas']\n"
     ]
    }
   ],
   "source": [
    "gas_old_col_list = ['Газ 1']\n",
    "gas_new_col_list = ['gas']\n",
    "\n",
    "column_renamer(df=df_gas, old_col_list=gas_old_col_list, new_col_list=gas_new_col_list)"
   ]
  },
  {
   "cell_type": "code",
   "execution_count": 25,
   "metadata": {},
   "outputs": [
    {
     "name": "stdout",
     "output_type": "stream",
     "text": [
      "<class 'pandas.core.frame.DataFrame'>\n",
      "RangeIndex: 3239 entries, 0 to 3238\n",
      "Data columns (total 2 columns):\n",
      " #   Column  Non-Null Count  Dtype  \n",
      "---  ------  --------------  -----  \n",
      " 0   key     3239 non-null   int64  \n",
      " 1   gas     3239 non-null   float64\n",
      "dtypes: float64(1), int64(1)\n",
      "memory usage: 50.7 KB\n",
      "====== ====== ====== ====== ====== \n"
     ]
    },
    {
     "data": {
      "text/html": [
       "<div>\n",
       "<style scoped>\n",
       "    .dataframe tbody tr th:only-of-type {\n",
       "        vertical-align: middle;\n",
       "    }\n",
       "\n",
       "    .dataframe tbody tr th {\n",
       "        vertical-align: top;\n",
       "    }\n",
       "\n",
       "    .dataframe thead th {\n",
       "        text-align: right;\n",
       "    }\n",
       "</style>\n",
       "<table border=\"1\" class=\"dataframe\">\n",
       "  <thead>\n",
       "    <tr style=\"text-align: right;\">\n",
       "      <th></th>\n",
       "      <th>key</th>\n",
       "      <th>gas</th>\n",
       "    </tr>\n",
       "  </thead>\n",
       "  <tbody>\n",
       "    <tr>\n",
       "      <th>0</th>\n",
       "      <td>1</td>\n",
       "      <td>29.749986</td>\n",
       "    </tr>\n",
       "    <tr>\n",
       "      <th>1</th>\n",
       "      <td>2</td>\n",
       "      <td>12.555561</td>\n",
       "    </tr>\n",
       "    <tr>\n",
       "      <th>2</th>\n",
       "      <td>3</td>\n",
       "      <td>28.554793</td>\n",
       "    </tr>\n",
       "  </tbody>\n",
       "</table>\n",
       "</div>"
      ],
      "text/plain": [
       "   key        gas\n",
       "0    1  29.749986\n",
       "1    2  12.555561\n",
       "2    3  28.554793"
      ]
     },
     "metadata": {},
     "output_type": "display_data"
    }
   ],
   "source": [
    "# оценим результат\n",
    "df_gas.info()\n",
    "print('====== '*5)\n",
    "display(df_gas.head(3))"
   ]
  },
  {
   "cell_type": "markdown",
   "metadata": {},
   "source": [
    "## 3.4. Результаты измерения температуры (целевой признак)<a id=\"3.4.\"></a>"
   ]
  },
  {
   "cell_type": "markdown",
   "metadata": {},
   "source": [
    "**Переименуем столбцы**"
   ]
  },
  {
   "cell_type": "code",
   "execution_count": 26,
   "metadata": {},
   "outputs": [
    {
     "name": "stdout",
     "output_type": "stream",
     "text": [
      "список новых названий столбцов: ['key', 'Время замера', 'temp']\n"
     ]
    }
   ],
   "source": [
    "temp_old_col_list = ['Температура']\n",
    "temp_new_col_list = ['temp']\n",
    "\n",
    "column_renamer(df=df_temp, old_col_list=temp_old_col_list, new_col_list=temp_new_col_list)"
   ]
  },
  {
   "cell_type": "markdown",
   "metadata": {},
   "source": [
    "**Проранжируем партии по времени**"
   ]
  },
  {
   "cell_type": "code",
   "execution_count": 27,
   "metadata": {},
   "outputs": [],
   "source": [
    "df_temp['meas_time'] = pd.to_datetime(df_temp['Время замера'])\n",
    "df_temp['party'] = df_temp.groupby('key')['meas_time'].rank(ascending=True, method=\"dense\").astype(int)"
   ]
  },
  {
   "cell_type": "markdown",
   "metadata": {},
   "source": [
    "**Удалим лишние столбцы**"
   ]
  },
  {
   "cell_type": "code",
   "execution_count": 28,
   "metadata": {},
   "outputs": [],
   "source": [
    "df_temp.drop(columns=['Время замера','meas_time'], inplace=True)"
   ]
  },
  {
   "cell_type": "markdown",
   "metadata": {},
   "source": [
    "**Посмотрим сколько партий бывает и сколько случаев на каждое число партий**"
   ]
  },
  {
   "cell_type": "code",
   "execution_count": 29,
   "metadata": {},
   "outputs": [
    {
     "data": {
      "text/plain": [
       "<matplotlib.axes._subplots.AxesSubplot at 0x2566ecafb08>"
      ]
     },
     "execution_count": 29,
     "metadata": {},
     "output_type": "execute_result"
    },
    {
     "data": {
      "image/png": "[encoded data removed]",
      "text/plain": [
       "<Figure size 432x288 with 1 Axes>"
      ]
     },
     "metadata": {
      "needs_background": "light"
     },
     "output_type": "display_data"
    }
   ],
   "source": [
    "df_temp['party'].value_counts().plot(kind = 'bar', title = 'Сколько партий бывает и сколько таких записей')"
   ]
  },
  {
   "cell_type": "markdown",
   "metadata": {},
   "source": [
    "Понятно. До 16-ти партий. "
   ]
  },
  {
   "cell_type": "markdown",
   "metadata": {},
   "source": [
    "**Транспонируем таблицу**"
   ]
  },
  {
   "cell_type": "code",
   "execution_count": 30,
   "metadata": {},
   "outputs": [
    {
     "data": {
      "text/html": [
       "<div>\n",
       "<style scoped>\n",
       "    .dataframe tbody tr th:only-of-type {\n",
       "        vertical-align: middle;\n",
       "    }\n",
       "\n",
       "    .dataframe tbody tr th {\n",
       "        vertical-align: top;\n",
       "    }\n",
       "\n",
       "    .dataframe thead th {\n",
       "        text-align: right;\n",
       "    }\n",
       "</style>\n",
       "<table border=\"1\" class=\"dataframe\">\n",
       "  <thead>\n",
       "    <tr style=\"text-align: right;\">\n",
       "      <th>party</th>\n",
       "      <th>1</th>\n",
       "      <th>2</th>\n",
       "      <th>3</th>\n",
       "      <th>4</th>\n",
       "      <th>5</th>\n",
       "      <th>6</th>\n",
       "      <th>7</th>\n",
       "      <th>8</th>\n",
       "      <th>9</th>\n",
       "      <th>10</th>\n",
       "      <th>11</th>\n",
       "      <th>12</th>\n",
       "      <th>13</th>\n",
       "      <th>14</th>\n",
       "      <th>15</th>\n",
       "      <th>16</th>\n",
       "    </tr>\n",
       "    <tr>\n",
       "      <th>key</th>\n",
       "      <th></th>\n",
       "      <th></th>\n",
       "      <th></th>\n",
       "      <th></th>\n",
       "      <th></th>\n",
       "      <th></th>\n",
       "      <th></th>\n",
       "      <th></th>\n",
       "      <th></th>\n",
       "      <th></th>\n",
       "      <th></th>\n",
       "      <th></th>\n",
       "      <th></th>\n",
       "      <th></th>\n",
       "      <th></th>\n",
       "      <th></th>\n",
       "    </tr>\n",
       "  </thead>\n",
       "  <tbody>\n",
       "    <tr>\n",
       "      <th>1</th>\n",
       "      <td>1571.0</td>\n",
       "      <td>1604.0</td>\n",
       "      <td>1618.0</td>\n",
       "      <td>1601.0</td>\n",
       "      <td>1613.0</td>\n",
       "      <td>NaN</td>\n",
       "      <td>NaN</td>\n",
       "      <td>NaN</td>\n",
       "      <td>NaN</td>\n",
       "      <td>NaN</td>\n",
       "      <td>NaN</td>\n",
       "      <td>NaN</td>\n",
       "      <td>NaN</td>\n",
       "      <td>NaN</td>\n",
       "      <td>NaN</td>\n",
       "      <td>NaN</td>\n",
       "    </tr>\n",
       "    <tr>\n",
       "      <th>2</th>\n",
       "      <td>1581.0</td>\n",
       "      <td>1577.0</td>\n",
       "      <td>1589.0</td>\n",
       "      <td>1604.0</td>\n",
       "      <td>1608.0</td>\n",
       "      <td>1602.0</td>\n",
       "      <td>NaN</td>\n",
       "      <td>NaN</td>\n",
       "      <td>NaN</td>\n",
       "      <td>NaN</td>\n",
       "      <td>NaN</td>\n",
       "      <td>NaN</td>\n",
       "      <td>NaN</td>\n",
       "      <td>NaN</td>\n",
       "      <td>NaN</td>\n",
       "      <td>NaN</td>\n",
       "    </tr>\n",
       "  </tbody>\n",
       "</table>\n",
       "</div>"
      ],
      "text/plain": [
       "party      1       2       3       4       5       6   7   8   9   10  11  12  \\\n",
       "key                                                                             \n",
       "1      1571.0  1604.0  1618.0  1601.0  1613.0     NaN NaN NaN NaN NaN NaN NaN   \n",
       "2      1581.0  1577.0  1589.0  1604.0  1608.0  1602.0 NaN NaN NaN NaN NaN NaN   \n",
       "\n",
       "party  13  14  15  16  \n",
       "key                    \n",
       "1     NaN NaN NaN NaN  \n",
       "2     NaN NaN NaN NaN  "
      ]
     },
     "execution_count": 30,
     "metadata": {},
     "output_type": "execute_result"
    }
   ],
   "source": [
    "df_temp_pivot = df_temp.pivot_table(index='key', columns='party', values='temp')\n",
    "# посмотрим что получилось\n",
    "df_temp_pivot.head(2)"
   ]
  },
  {
   "cell_type": "code",
   "execution_count": 31,
   "metadata": {},
   "outputs": [
    {
     "name": "stdout",
     "output_type": "stream",
     "text": [
      "Количество записей с пропуском в первой партии: 0\n"
     ]
    }
   ],
   "source": [
    "# Выясним есть ли пропуск в первой парти\n",
    "print('Количество записей с пропуском в первой партии:', len(df_temp_pivot[df_temp_pivot[1].isna()]))"
   ]
  },
  {
   "cell_type": "markdown",
   "metadata": {},
   "source": [
    "**Посчитаем число партий**"
   ]
  },
  {
   "cell_type": "code",
   "execution_count": 32,
   "metadata": {},
   "outputs": [],
   "source": [
    "df_temp_pivot['last_notnan_column'] = df_temp_pivot.count(axis=1) # \n",
    "\n",
    "# сразу же удалим строки, где только одна партия, т.е. "
   ]
  },
  {
   "cell_type": "code",
   "execution_count": 33,
   "metadata": {},
   "outputs": [
    {
     "data": {
      "text/html": [
       "<div>\n",
       "<style scoped>\n",
       "    .dataframe tbody tr th:only-of-type {\n",
       "        vertical-align: middle;\n",
       "    }\n",
       "\n",
       "    .dataframe tbody tr th {\n",
       "        vertical-align: top;\n",
       "    }\n",
       "\n",
       "    .dataframe thead th {\n",
       "        text-align: right;\n",
       "    }\n",
       "</style>\n",
       "<table border=\"1\" class=\"dataframe\">\n",
       "  <thead>\n",
       "    <tr style=\"text-align: right;\">\n",
       "      <th>party</th>\n",
       "      <th>1</th>\n",
       "      <th>2</th>\n",
       "      <th>3</th>\n",
       "      <th>4</th>\n",
       "      <th>5</th>\n",
       "      <th>6</th>\n",
       "      <th>7</th>\n",
       "      <th>8</th>\n",
       "      <th>9</th>\n",
       "      <th>10</th>\n",
       "      <th>11</th>\n",
       "      <th>12</th>\n",
       "      <th>13</th>\n",
       "      <th>14</th>\n",
       "      <th>15</th>\n",
       "      <th>16</th>\n",
       "      <th>last_notnan_column</th>\n",
       "    </tr>\n",
       "    <tr>\n",
       "      <th>key</th>\n",
       "      <th></th>\n",
       "      <th></th>\n",
       "      <th></th>\n",
       "      <th></th>\n",
       "      <th></th>\n",
       "      <th></th>\n",
       "      <th></th>\n",
       "      <th></th>\n",
       "      <th></th>\n",
       "      <th></th>\n",
       "      <th></th>\n",
       "      <th></th>\n",
       "      <th></th>\n",
       "      <th></th>\n",
       "      <th></th>\n",
       "      <th></th>\n",
       "      <th></th>\n",
       "    </tr>\n",
       "  </thead>\n",
       "  <tbody>\n",
       "    <tr>\n",
       "      <th>1</th>\n",
       "      <td>1571.0</td>\n",
       "      <td>1604.0</td>\n",
       "      <td>1618.0</td>\n",
       "      <td>1601.0</td>\n",
       "      <td>1613.0</td>\n",
       "      <td>NaN</td>\n",
       "      <td>NaN</td>\n",
       "      <td>NaN</td>\n",
       "      <td>NaN</td>\n",
       "      <td>NaN</td>\n",
       "      <td>NaN</td>\n",
       "      <td>NaN</td>\n",
       "      <td>NaN</td>\n",
       "      <td>NaN</td>\n",
       "      <td>NaN</td>\n",
       "      <td>NaN</td>\n",
       "      <td>5</td>\n",
       "    </tr>\n",
       "    <tr>\n",
       "      <th>2</th>\n",
       "      <td>1581.0</td>\n",
       "      <td>1577.0</td>\n",
       "      <td>1589.0</td>\n",
       "      <td>1604.0</td>\n",
       "      <td>1608.0</td>\n",
       "      <td>1602.0</td>\n",
       "      <td>NaN</td>\n",
       "      <td>NaN</td>\n",
       "      <td>NaN</td>\n",
       "      <td>NaN</td>\n",
       "      <td>NaN</td>\n",
       "      <td>NaN</td>\n",
       "      <td>NaN</td>\n",
       "      <td>NaN</td>\n",
       "      <td>NaN</td>\n",
       "      <td>NaN</td>\n",
       "      <td>6</td>\n",
       "    </tr>\n",
       "  </tbody>\n",
       "</table>\n",
       "</div>"
      ],
      "text/plain": [
       "party       1       2       3       4       5       6   7   8   9  10  11  12  \\\n",
       "key                                                                             \n",
       "1      1571.0  1604.0  1618.0  1601.0  1613.0     NaN NaN NaN NaN NaN NaN NaN   \n",
       "2      1581.0  1577.0  1589.0  1604.0  1608.0  1602.0 NaN NaN NaN NaN NaN NaN   \n",
       "\n",
       "party  13  14  15  16  last_notnan_column  \n",
       "key                                        \n",
       "1     NaN NaN NaN NaN                   5  \n",
       "2     NaN NaN NaN NaN                   6  "
      ]
     },
     "execution_count": 33,
     "metadata": {},
     "output_type": "execute_result"
    }
   ],
   "source": [
    "df_temp_pivot.head(2)"
   ]
  },
  {
   "cell_type": "markdown",
   "metadata": {},
   "source": [
    "**Вынесем последнее измерение в отдельный столбец**"
   ]
  },
  {
   "cell_type": "code",
   "execution_count": 34,
   "metadata": {},
   "outputs": [
    {
     "data": {
      "text/html": [
       "<div>\n",
       "<style scoped>\n",
       "    .dataframe tbody tr th:only-of-type {\n",
       "        vertical-align: middle;\n",
       "    }\n",
       "\n",
       "    .dataframe tbody tr th {\n",
       "        vertical-align: top;\n",
       "    }\n",
       "\n",
       "    .dataframe thead th {\n",
       "        text-align: right;\n",
       "    }\n",
       "</style>\n",
       "<table border=\"1\" class=\"dataframe\">\n",
       "  <thead>\n",
       "    <tr style=\"text-align: right;\">\n",
       "      <th>party</th>\n",
       "      <th>1</th>\n",
       "      <th>2</th>\n",
       "      <th>3</th>\n",
       "      <th>4</th>\n",
       "      <th>5</th>\n",
       "      <th>6</th>\n",
       "      <th>7</th>\n",
       "      <th>8</th>\n",
       "      <th>9</th>\n",
       "      <th>10</th>\n",
       "      <th>11</th>\n",
       "      <th>12</th>\n",
       "      <th>13</th>\n",
       "      <th>14</th>\n",
       "      <th>15</th>\n",
       "      <th>16</th>\n",
       "      <th>last_notnan_column</th>\n",
       "      <th>last_party_value</th>\n",
       "    </tr>\n",
       "    <tr>\n",
       "      <th>key</th>\n",
       "      <th></th>\n",
       "      <th></th>\n",
       "      <th></th>\n",
       "      <th></th>\n",
       "      <th></th>\n",
       "      <th></th>\n",
       "      <th></th>\n",
       "      <th></th>\n",
       "      <th></th>\n",
       "      <th></th>\n",
       "      <th></th>\n",
       "      <th></th>\n",
       "      <th></th>\n",
       "      <th></th>\n",
       "      <th></th>\n",
       "      <th></th>\n",
       "      <th></th>\n",
       "      <th></th>\n",
       "    </tr>\n",
       "  </thead>\n",
       "  <tbody>\n",
       "    <tr>\n",
       "      <th>1</th>\n",
       "      <td>1571.0</td>\n",
       "      <td>1604.0</td>\n",
       "      <td>1618.0</td>\n",
       "      <td>1601.0</td>\n",
       "      <td>1613.0</td>\n",
       "      <td>NaN</td>\n",
       "      <td>NaN</td>\n",
       "      <td>NaN</td>\n",
       "      <td>NaN</td>\n",
       "      <td>NaN</td>\n",
       "      <td>NaN</td>\n",
       "      <td>NaN</td>\n",
       "      <td>NaN</td>\n",
       "      <td>NaN</td>\n",
       "      <td>NaN</td>\n",
       "      <td>NaN</td>\n",
       "      <td>5</td>\n",
       "      <td>1613.0</td>\n",
       "    </tr>\n",
       "    <tr>\n",
       "      <th>2</th>\n",
       "      <td>1581.0</td>\n",
       "      <td>1577.0</td>\n",
       "      <td>1589.0</td>\n",
       "      <td>1604.0</td>\n",
       "      <td>1608.0</td>\n",
       "      <td>1602.0</td>\n",
       "      <td>NaN</td>\n",
       "      <td>NaN</td>\n",
       "      <td>NaN</td>\n",
       "      <td>NaN</td>\n",
       "      <td>NaN</td>\n",
       "      <td>NaN</td>\n",
       "      <td>NaN</td>\n",
       "      <td>NaN</td>\n",
       "      <td>NaN</td>\n",
       "      <td>NaN</td>\n",
       "      <td>6</td>\n",
       "      <td>1602.0</td>\n",
       "    </tr>\n",
       "  </tbody>\n",
       "</table>\n",
       "</div>"
      ],
      "text/plain": [
       "party       1       2       3       4       5       6   7   8   9  10  11  12  \\\n",
       "key                                                                             \n",
       "1      1571.0  1604.0  1618.0  1601.0  1613.0     NaN NaN NaN NaN NaN NaN NaN   \n",
       "2      1581.0  1577.0  1589.0  1604.0  1608.0  1602.0 NaN NaN NaN NaN NaN NaN   \n",
       "\n",
       "party  13  14  15  16  last_notnan_column  last_party_value  \n",
       "key                                                          \n",
       "1     NaN NaN NaN NaN                   5            1613.0  \n",
       "2     NaN NaN NaN NaN                   6            1602.0  "
      ]
     },
     "execution_count": 34,
     "metadata": {},
     "output_type": "execute_result"
    }
   ],
   "source": [
    "def get_last_party_value(row):\n",
    "    \"\"\"\n",
    "    Функция фозвращает значение из столбца с номером, указанным в столбце last_notnan_column\n",
    "    \"\"\"\n",
    "    last_party_column_index = int(row['last_notnan_column'])\n",
    "    last_party_value = row[last_party_column_index] # это не индекс, это название столбца\n",
    "    return  last_party_value \n",
    "df_temp_pivot['last_party_value'] = df_temp_pivot.apply(get_last_party_value, axis=1)\n",
    "# посмотрим что получилось\n",
    "df_temp_pivot.head(2)"
   ]
  },
  {
   "cell_type": "markdown",
   "metadata": {},
   "source": [
    "**Исключим записи с одной партией и где значения первое и последнее значения совпадают**"
   ]
  },
  {
   "cell_type": "code",
   "execution_count": 35,
   "metadata": {},
   "outputs": [
    {
     "data": {
      "text/html": [
       "<div>\n",
       "<style scoped>\n",
       "    .dataframe tbody tr th:only-of-type {\n",
       "        vertical-align: middle;\n",
       "    }\n",
       "\n",
       "    .dataframe tbody tr th {\n",
       "        vertical-align: top;\n",
       "    }\n",
       "\n",
       "    .dataframe thead th {\n",
       "        text-align: right;\n",
       "    }\n",
       "</style>\n",
       "<table border=\"1\" class=\"dataframe\">\n",
       "  <thead>\n",
       "    <tr style=\"text-align: right;\">\n",
       "      <th>party</th>\n",
       "      <th>1</th>\n",
       "      <th>2</th>\n",
       "      <th>3</th>\n",
       "      <th>4</th>\n",
       "      <th>5</th>\n",
       "      <th>6</th>\n",
       "      <th>7</th>\n",
       "      <th>8</th>\n",
       "      <th>9</th>\n",
       "      <th>10</th>\n",
       "      <th>11</th>\n",
       "      <th>12</th>\n",
       "      <th>13</th>\n",
       "      <th>14</th>\n",
       "      <th>15</th>\n",
       "      <th>16</th>\n",
       "      <th>last_notnan_column</th>\n",
       "      <th>last_party_value</th>\n",
       "    </tr>\n",
       "    <tr>\n",
       "      <th>key</th>\n",
       "      <th></th>\n",
       "      <th></th>\n",
       "      <th></th>\n",
       "      <th></th>\n",
       "      <th></th>\n",
       "      <th></th>\n",
       "      <th></th>\n",
       "      <th></th>\n",
       "      <th></th>\n",
       "      <th></th>\n",
       "      <th></th>\n",
       "      <th></th>\n",
       "      <th></th>\n",
       "      <th></th>\n",
       "      <th></th>\n",
       "      <th></th>\n",
       "      <th></th>\n",
       "      <th></th>\n",
       "    </tr>\n",
       "  </thead>\n",
       "  <tbody>\n",
       "    <tr>\n",
       "      <th>1</th>\n",
       "      <td>1571.0</td>\n",
       "      <td>1604.0</td>\n",
       "      <td>1618.0</td>\n",
       "      <td>1601.0</td>\n",
       "      <td>1613.0</td>\n",
       "      <td>NaN</td>\n",
       "      <td>NaN</td>\n",
       "      <td>NaN</td>\n",
       "      <td>NaN</td>\n",
       "      <td>NaN</td>\n",
       "      <td>NaN</td>\n",
       "      <td>NaN</td>\n",
       "      <td>NaN</td>\n",
       "      <td>NaN</td>\n",
       "      <td>NaN</td>\n",
       "      <td>NaN</td>\n",
       "      <td>5</td>\n",
       "      <td>1613.0</td>\n",
       "    </tr>\n",
       "    <tr>\n",
       "      <th>2</th>\n",
       "      <td>1581.0</td>\n",
       "      <td>1577.0</td>\n",
       "      <td>1589.0</td>\n",
       "      <td>1604.0</td>\n",
       "      <td>1608.0</td>\n",
       "      <td>1602.0</td>\n",
       "      <td>NaN</td>\n",
       "      <td>NaN</td>\n",
       "      <td>NaN</td>\n",
       "      <td>NaN</td>\n",
       "      <td>NaN</td>\n",
       "      <td>NaN</td>\n",
       "      <td>NaN</td>\n",
       "      <td>NaN</td>\n",
       "      <td>NaN</td>\n",
       "      <td>NaN</td>\n",
       "      <td>6</td>\n",
       "      <td>1602.0</td>\n",
       "    </tr>\n",
       "  </tbody>\n",
       "</table>\n",
       "</div>"
      ],
      "text/plain": [
       "party       1       2       3       4       5       6   7   8   9  10  11  12  \\\n",
       "key                                                                             \n",
       "1      1571.0  1604.0  1618.0  1601.0  1613.0     NaN NaN NaN NaN NaN NaN NaN   \n",
       "2      1581.0  1577.0  1589.0  1604.0  1608.0  1602.0 NaN NaN NaN NaN NaN NaN   \n",
       "\n",
       "party  13  14  15  16  last_notnan_column  last_party_value  \n",
       "key                                                          \n",
       "1     NaN NaN NaN NaN                   5            1613.0  \n",
       "2     NaN NaN NaN NaN                   6            1602.0  "
      ]
     },
     "execution_count": 35,
     "metadata": {},
     "output_type": "execute_result"
    }
   ],
   "source": [
    "# уберем записи где первое и последнее значения совпадают. соответственно попутно исключим записи, где только одна партия (т.к. автоматом первое будет равно последнему)\n",
    "df_temp_pivot_droped = df_temp_pivot[(df_temp_pivot[1]!=df_temp_pivot['last_party_value'])]\n",
    "# посмотрим что получилось\n",
    "df_temp_pivot_droped.head(2)"
   ]
  },
  {
   "cell_type": "markdown",
   "metadata": {},
   "source": [
    "**Почистим датафрейм и оставим только два столбца с первым и послдним значением**"
   ]
  },
  {
   "cell_type": "code",
   "execution_count": 36,
   "metadata": {},
   "outputs": [],
   "source": [
    "# создадим датфрейм с только двумя столбцами: первое и последнее значение температуры\n",
    "df_temp_shot = df_temp_pivot_droped[[1,'last_party_value']].copy()\n",
    "df_temp_shot.rename(columns= {1:'first_party_temp','last_party_value': 'last_party_temp'}, inplace=True)\n",
    "# дропнем индекс\n",
    "df_temp_shot = df_temp_shot.reset_index(drop = False).copy()\n",
    "# уберем название индекса\n",
    "df_temp_shot = df_temp_shot.rename_axis(None, axis=1)"
   ]
  },
  {
   "cell_type": "code",
   "execution_count": 37,
   "metadata": {},
   "outputs": [
    {
     "name": "stdout",
     "output_type": "stream",
     "text": [
      "<class 'pandas.core.frame.DataFrame'>\n",
      "RangeIndex: 2433 entries, 0 to 2432\n",
      "Data columns (total 3 columns):\n",
      " #   Column            Non-Null Count  Dtype  \n",
      "---  ------            --------------  -----  \n",
      " 0   key               2433 non-null   int64  \n",
      " 1   first_party_temp  2433 non-null   float64\n",
      " 2   last_party_temp   2433 non-null   float64\n",
      "dtypes: float64(2), int64(1)\n",
      "memory usage: 57.1 KB\n",
      "====== ====== ====== ====== ====== \n"
     ]
    },
    {
     "data": {
      "text/html": [
       "<div>\n",
       "<style scoped>\n",
       "    .dataframe tbody tr th:only-of-type {\n",
       "        vertical-align: middle;\n",
       "    }\n",
       "\n",
       "    .dataframe tbody tr th {\n",
       "        vertical-align: top;\n",
       "    }\n",
       "\n",
       "    .dataframe thead th {\n",
       "        text-align: right;\n",
       "    }\n",
       "</style>\n",
       "<table border=\"1\" class=\"dataframe\">\n",
       "  <thead>\n",
       "    <tr style=\"text-align: right;\">\n",
       "      <th></th>\n",
       "      <th>key</th>\n",
       "      <th>first_party_temp</th>\n",
       "      <th>last_party_temp</th>\n",
       "    </tr>\n",
       "  </thead>\n",
       "  <tbody>\n",
       "    <tr>\n",
       "      <th>0</th>\n",
       "      <td>1</td>\n",
       "      <td>1571.0</td>\n",
       "      <td>1613.0</td>\n",
       "    </tr>\n",
       "    <tr>\n",
       "      <th>1</th>\n",
       "      <td>2</td>\n",
       "      <td>1581.0</td>\n",
       "      <td>1602.0</td>\n",
       "    </tr>\n",
       "    <tr>\n",
       "      <th>2</th>\n",
       "      <td>3</td>\n",
       "      <td>1596.0</td>\n",
       "      <td>1599.0</td>\n",
       "    </tr>\n",
       "  </tbody>\n",
       "</table>\n",
       "</div>"
      ],
      "text/plain": [
       "   key  first_party_temp  last_party_temp\n",
       "0    1            1571.0           1613.0\n",
       "1    2            1581.0           1602.0\n",
       "2    3            1596.0           1599.0"
      ]
     },
     "metadata": {},
     "output_type": "display_data"
    }
   ],
   "source": [
    "# оценим результат\n",
    "df_temp_shot.info()\n",
    "print('====== '*5)\n",
    "display(df_temp_shot.head(3))"
   ]
  },
  {
   "cell_type": "markdown",
   "metadata": {},
   "source": [
    "## 3.5. Данные о проволочных материалах (объём)<a id=\"3.5.\"></a>"
   ]
  },
  {
   "cell_type": "markdown",
   "metadata": {},
   "source": [
    "**Переименуем столбцы**"
   ]
  },
  {
   "cell_type": "code",
   "execution_count": 38,
   "metadata": {},
   "outputs": [
    {
     "name": "stdout",
     "output_type": "stream",
     "text": [
      "список новых названий столбцов: ['key', 'wire_1', 'wire_2', 'wire_3', 'wire_4', 'wire_5', 'wire_6', 'wire_7', 'wire_8', 'wire_9']\n"
     ]
    }
   ],
   "source": [
    "wire_old_col_list = ['Wire 1','Wire 2','Wire 3','Wire 4','Wire 5','Wire 6','Wire 7','Wire 8','Wire 9']\n",
    "wire_new_col_list = ['wire_1','wire_2','wire_3','wire_4','wire_5','wire_6','wire_7','wire_8','wire_9']\n",
    "\n",
    "column_renamer(df=df_wire, old_col_list=wire_old_col_list, new_col_list=wire_new_col_list)"
   ]
  },
  {
   "cell_type": "markdown",
   "metadata": {},
   "source": [
    "**Заполним пропуски нулями**"
   ]
  },
  {
   "cell_type": "code",
   "execution_count": 39,
   "metadata": {},
   "outputs": [],
   "source": [
    "df_wire.fillna(value=0, inplace=True)"
   ]
  },
  {
   "cell_type": "code",
   "execution_count": 40,
   "metadata": {},
   "outputs": [
    {
     "name": "stdout",
     "output_type": "stream",
     "text": [
      "<class 'pandas.core.frame.DataFrame'>\n",
      "RangeIndex: 3081 entries, 0 to 3080\n",
      "Data columns (total 10 columns):\n",
      " #   Column  Non-Null Count  Dtype  \n",
      "---  ------  --------------  -----  \n",
      " 0   key     3081 non-null   int64  \n",
      " 1   wire_1  3081 non-null   float64\n",
      " 2   wire_2  3081 non-null   float64\n",
      " 3   wire_3  3081 non-null   float64\n",
      " 4   wire_4  3081 non-null   float64\n",
      " 5   wire_5  3081 non-null   float64\n",
      " 6   wire_6  3081 non-null   float64\n",
      " 7   wire_7  3081 non-null   float64\n",
      " 8   wire_8  3081 non-null   float64\n",
      " 9   wire_9  3081 non-null   float64\n",
      "dtypes: float64(9), int64(1)\n",
      "memory usage: 240.8 KB\n",
      "====== ====== ====== ====== ====== \n"
     ]
    },
    {
     "data": {
      "text/html": [
       "<div>\n",
       "<style scoped>\n",
       "    .dataframe tbody tr th:only-of-type {\n",
       "        vertical-align: middle;\n",
       "    }\n",
       "\n",
       "    .dataframe tbody tr th {\n",
       "        vertical-align: top;\n",
       "    }\n",
       "\n",
       "    .dataframe thead th {\n",
       "        text-align: right;\n",
       "    }\n",
       "</style>\n",
       "<table border=\"1\" class=\"dataframe\">\n",
       "  <thead>\n",
       "    <tr style=\"text-align: right;\">\n",
       "      <th></th>\n",
       "      <th>key</th>\n",
       "      <th>wire_1</th>\n",
       "      <th>wire_2</th>\n",
       "      <th>wire_3</th>\n",
       "      <th>wire_4</th>\n",
       "      <th>wire_5</th>\n",
       "      <th>wire_6</th>\n",
       "      <th>wire_7</th>\n",
       "      <th>wire_8</th>\n",
       "      <th>wire_9</th>\n",
       "    </tr>\n",
       "  </thead>\n",
       "  <tbody>\n",
       "    <tr>\n",
       "      <th>0</th>\n",
       "      <td>1</td>\n",
       "      <td>60.059998</td>\n",
       "      <td>0.0</td>\n",
       "      <td>0.0</td>\n",
       "      <td>0.0</td>\n",
       "      <td>0.0</td>\n",
       "      <td>0.0</td>\n",
       "      <td>0.0</td>\n",
       "      <td>0.0</td>\n",
       "      <td>0.0</td>\n",
       "    </tr>\n",
       "    <tr>\n",
       "      <th>1</th>\n",
       "      <td>2</td>\n",
       "      <td>96.052315</td>\n",
       "      <td>0.0</td>\n",
       "      <td>0.0</td>\n",
       "      <td>0.0</td>\n",
       "      <td>0.0</td>\n",
       "      <td>0.0</td>\n",
       "      <td>0.0</td>\n",
       "      <td>0.0</td>\n",
       "      <td>0.0</td>\n",
       "    </tr>\n",
       "    <tr>\n",
       "      <th>2</th>\n",
       "      <td>3</td>\n",
       "      <td>91.160157</td>\n",
       "      <td>0.0</td>\n",
       "      <td>0.0</td>\n",
       "      <td>0.0</td>\n",
       "      <td>0.0</td>\n",
       "      <td>0.0</td>\n",
       "      <td>0.0</td>\n",
       "      <td>0.0</td>\n",
       "      <td>0.0</td>\n",
       "    </tr>\n",
       "  </tbody>\n",
       "</table>\n",
       "</div>"
      ],
      "text/plain": [
       "   key     wire_1  wire_2  wire_3  wire_4  wire_5  wire_6  wire_7  wire_8  \\\n",
       "0    1  60.059998     0.0     0.0     0.0     0.0     0.0     0.0     0.0   \n",
       "1    2  96.052315     0.0     0.0     0.0     0.0     0.0     0.0     0.0   \n",
       "2    3  91.160157     0.0     0.0     0.0     0.0     0.0     0.0     0.0   \n",
       "\n",
       "   wire_9  \n",
       "0     0.0  \n",
       "1     0.0  \n",
       "2     0.0  "
      ]
     },
     "metadata": {},
     "output_type": "display_data"
    }
   ],
   "source": [
    "# оценим результат\n",
    "df_wire.info()\n",
    "print('====== '*5)\n",
    "display(df_wire.head(3))"
   ]
  },
  {
   "cell_type": "markdown",
   "metadata": {},
   "source": [
    "# 4. Анализ данных<a id=\"4.\"></a>"
   ]
  },
  {
   "cell_type": "markdown",
   "metadata": {},
   "source": [
    "## 4.1. Данные об электродах<a id=\"4.1.\"></a>"
   ]
  },
  {
   "cell_type": "code",
   "execution_count": 41,
   "metadata": {},
   "outputs": [
    {
     "data": {
      "text/html": [
       "<div>\n",
       "<style scoped>\n",
       "    .dataframe tbody tr th:only-of-type {\n",
       "        vertical-align: middle;\n",
       "    }\n",
       "\n",
       "    .dataframe tbody tr th {\n",
       "        vertical-align: top;\n",
       "    }\n",
       "\n",
       "    .dataframe thead th {\n",
       "        text-align: right;\n",
       "    }\n",
       "</style>\n",
       "<table border=\"1\" class=\"dataframe\">\n",
       "  <thead>\n",
       "    <tr style=\"text-align: right;\">\n",
       "      <th></th>\n",
       "      <th>key</th>\n",
       "      <th>work</th>\n",
       "    </tr>\n",
       "  </thead>\n",
       "  <tbody>\n",
       "    <tr>\n",
       "      <th>0</th>\n",
       "      <td>1</td>\n",
       "      <td>0.335501</td>\n",
       "    </tr>\n",
       "    <tr>\n",
       "      <th>1</th>\n",
       "      <td>2</td>\n",
       "      <td>0.203838</td>\n",
       "    </tr>\n",
       "    <tr>\n",
       "      <th>2</th>\n",
       "      <td>3</td>\n",
       "      <td>0.123218</td>\n",
       "    </tr>\n",
       "    <tr>\n",
       "      <th>3</th>\n",
       "      <td>4</td>\n",
       "      <td>0.186295</td>\n",
       "    </tr>\n",
       "    <tr>\n",
       "      <th>4</th>\n",
       "      <td>5</td>\n",
       "      <td>0.277082</td>\n",
       "    </tr>\n",
       "  </tbody>\n",
       "</table>\n",
       "</div>"
      ],
      "text/plain": [
       "   key      work\n",
       "0    1  0.335501\n",
       "1    2  0.203838\n",
       "2    3  0.123218\n",
       "3    4  0.186295\n",
       "4    5  0.277082"
      ]
     },
     "execution_count": 41,
     "metadata": {},
     "output_type": "execute_result"
    }
   ],
   "source": [
    "df_arc.head()"
   ]
  },
  {
   "cell_type": "code",
   "execution_count": 42,
   "metadata": {},
   "outputs": [
    {
     "data": {
      "text/plain": [
       "<matplotlib.axes._subplots.AxesSubplot at 0x2566e8c2c48>"
      ]
     },
     "execution_count": 42,
     "metadata": {},
     "output_type": "execute_result"
    },
    {
     "data": {
      "image/png": "[encoded data removed]",
      "text/plain": [
       "<Figure size 1152x288 with 1 Axes>"
      ]
     },
     "metadata": {
      "needs_background": "light"
     },
     "output_type": "display_data"
    }
   ],
   "source": [
    "df_arc.plot(kind = 'hist', y = 'work', bins = 30, figsize = (16, 4))"
   ]
  },
  {
   "cell_type": "markdown",
   "metadata": {},
   "source": [
    "Оценим выбросы"
   ]
  },
  {
   "cell_type": "code",
   "execution_count": 43,
   "metadata": {},
   "outputs": [
    {
     "data": {
      "image/png": "[encoded data removed]",
      "text/plain": [
       "<Figure size 432x288 with 1 Axes>"
      ]
     },
     "metadata": {
      "needs_background": "light"
     },
     "output_type": "display_data"
    },
    {
     "name": "stdout",
     "output_type": "stream",
     "text": [
      "Выбросов произведенной работы: 130\n"
     ]
    }
   ],
   "source": [
    "boxplot = plt.boxplot(df_arc['work'].values)\n",
    "plt.title('Оценка выбросов.')\n",
    "plt.ylabel('Работ кВт*ч')\n",
    "df_arc_outliers = list(boxplot[\"fliers\"][0].get_data()[1])\n",
    "plt.grid()\n",
    "plt.show()\n",
    "print(\"Выбросов произведенной работы:\", len(df_arc_outliers)) "
   ]
  },
  {
   "cell_type": "markdown",
   "metadata": {},
   "source": [
    "**Выводы**\n",
    "\n",
    "1. Числов обнаруженных выбросов менее 1% (на вскидку)\n",
    "2. Большинство из них лежат в пределах 2-го значения верхней границы (граница выбросов в районе 0,5)\n",
    "3. При этом \"супервыбросов\" как видно всего один.\n",
    "\n",
    "**Резюме** - Выбросы пока оставляем. "
   ]
  },
  {
   "cell_type": "markdown",
   "metadata": {},
   "source": [
    "## 4.2. Данные о подаче сыпучих материалов (объем)<a id=\"4.2.\"></a>"
   ]
  },
  {
   "cell_type": "markdown",
   "metadata": {},
   "source": [
    "**Посмотрим непосредственно на данные**"
   ]
  },
  {
   "cell_type": "code",
   "execution_count": 44,
   "metadata": {},
   "outputs": [
    {
     "data": {
      "text/html": [
       "<div>\n",
       "<style scoped>\n",
       "    .dataframe tbody tr th:only-of-type {\n",
       "        vertical-align: middle;\n",
       "    }\n",
       "\n",
       "    .dataframe tbody tr th {\n",
       "        vertical-align: top;\n",
       "    }\n",
       "\n",
       "    .dataframe thead th {\n",
       "        text-align: right;\n",
       "    }\n",
       "</style>\n",
       "<table border=\"1\" class=\"dataframe\">\n",
       "  <thead>\n",
       "    <tr style=\"text-align: right;\">\n",
       "      <th></th>\n",
       "      <th>key</th>\n",
       "      <th>bulk_1</th>\n",
       "      <th>bulk_2</th>\n",
       "      <th>bulk_3</th>\n",
       "      <th>bulk_4</th>\n",
       "      <th>bulk_5</th>\n",
       "      <th>bulk_6</th>\n",
       "      <th>bulk_7</th>\n",
       "      <th>bulk_8</th>\n",
       "      <th>bulk_9</th>\n",
       "      <th>bulk_10</th>\n",
       "      <th>bulk_11</th>\n",
       "      <th>bulk_12</th>\n",
       "      <th>bulk_13</th>\n",
       "      <th>bulk_14</th>\n",
       "      <th>bulk_15</th>\n",
       "    </tr>\n",
       "  </thead>\n",
       "  <tbody>\n",
       "    <tr>\n",
       "      <th>0</th>\n",
       "      <td>1</td>\n",
       "      <td>0.0</td>\n",
       "      <td>0.0</td>\n",
       "      <td>0.0</td>\n",
       "      <td>43.0</td>\n",
       "      <td>0.0</td>\n",
       "      <td>0.0</td>\n",
       "      <td>0.0</td>\n",
       "      <td>0.0</td>\n",
       "      <td>0.0</td>\n",
       "      <td>0.0</td>\n",
       "      <td>0.0</td>\n",
       "      <td>206.0</td>\n",
       "      <td>0.0</td>\n",
       "      <td>150.0</td>\n",
       "      <td>154.0</td>\n",
       "    </tr>\n",
       "    <tr>\n",
       "      <th>1</th>\n",
       "      <td>2</td>\n",
       "      <td>0.0</td>\n",
       "      <td>0.0</td>\n",
       "      <td>0.0</td>\n",
       "      <td>73.0</td>\n",
       "      <td>0.0</td>\n",
       "      <td>0.0</td>\n",
       "      <td>0.0</td>\n",
       "      <td>0.0</td>\n",
       "      <td>0.0</td>\n",
       "      <td>0.0</td>\n",
       "      <td>0.0</td>\n",
       "      <td>206.0</td>\n",
       "      <td>0.0</td>\n",
       "      <td>149.0</td>\n",
       "      <td>154.0</td>\n",
       "    </tr>\n",
       "    <tr>\n",
       "      <th>2</th>\n",
       "      <td>3</td>\n",
       "      <td>0.0</td>\n",
       "      <td>0.0</td>\n",
       "      <td>0.0</td>\n",
       "      <td>34.0</td>\n",
       "      <td>0.0</td>\n",
       "      <td>0.0</td>\n",
       "      <td>0.0</td>\n",
       "      <td>0.0</td>\n",
       "      <td>0.0</td>\n",
       "      <td>0.0</td>\n",
       "      <td>0.0</td>\n",
       "      <td>205.0</td>\n",
       "      <td>0.0</td>\n",
       "      <td>152.0</td>\n",
       "      <td>153.0</td>\n",
       "    </tr>\n",
       "    <tr>\n",
       "      <th>3</th>\n",
       "      <td>4</td>\n",
       "      <td>0.0</td>\n",
       "      <td>0.0</td>\n",
       "      <td>0.0</td>\n",
       "      <td>81.0</td>\n",
       "      <td>0.0</td>\n",
       "      <td>0.0</td>\n",
       "      <td>0.0</td>\n",
       "      <td>0.0</td>\n",
       "      <td>0.0</td>\n",
       "      <td>0.0</td>\n",
       "      <td>0.0</td>\n",
       "      <td>207.0</td>\n",
       "      <td>0.0</td>\n",
       "      <td>153.0</td>\n",
       "      <td>154.0</td>\n",
       "    </tr>\n",
       "    <tr>\n",
       "      <th>4</th>\n",
       "      <td>5</td>\n",
       "      <td>0.0</td>\n",
       "      <td>0.0</td>\n",
       "      <td>0.0</td>\n",
       "      <td>78.0</td>\n",
       "      <td>0.0</td>\n",
       "      <td>0.0</td>\n",
       "      <td>0.0</td>\n",
       "      <td>0.0</td>\n",
       "      <td>0.0</td>\n",
       "      <td>0.0</td>\n",
       "      <td>0.0</td>\n",
       "      <td>203.0</td>\n",
       "      <td>0.0</td>\n",
       "      <td>151.0</td>\n",
       "      <td>152.0</td>\n",
       "    </tr>\n",
       "  </tbody>\n",
       "</table>\n",
       "</div>"
      ],
      "text/plain": [
       "   key  bulk_1  bulk_2  bulk_3  bulk_4  bulk_5  bulk_6  bulk_7  bulk_8  \\\n",
       "0    1     0.0     0.0     0.0    43.0     0.0     0.0     0.0     0.0   \n",
       "1    2     0.0     0.0     0.0    73.0     0.0     0.0     0.0     0.0   \n",
       "2    3     0.0     0.0     0.0    34.0     0.0     0.0     0.0     0.0   \n",
       "3    4     0.0     0.0     0.0    81.0     0.0     0.0     0.0     0.0   \n",
       "4    5     0.0     0.0     0.0    78.0     0.0     0.0     0.0     0.0   \n",
       "\n",
       "   bulk_9  bulk_10  bulk_11  bulk_12  bulk_13  bulk_14  bulk_15  \n",
       "0     0.0      0.0      0.0    206.0      0.0    150.0    154.0  \n",
       "1     0.0      0.0      0.0    206.0      0.0    149.0    154.0  \n",
       "2     0.0      0.0      0.0    205.0      0.0    152.0    153.0  \n",
       "3     0.0      0.0      0.0    207.0      0.0    153.0    154.0  \n",
       "4     0.0      0.0      0.0    203.0      0.0    151.0    152.0  "
      ]
     },
     "execution_count": 44,
     "metadata": {},
     "output_type": "execute_result"
    }
   ],
   "source": [
    "df_bulk.head()"
   ]
  },
  {
   "cell_type": "markdown",
   "metadata": {},
   "source": [
    "**Посмотрим на описание данных**"
   ]
  },
  {
   "cell_type": "code",
   "execution_count": 45,
   "metadata": {},
   "outputs": [
    {
     "data": {
      "text/html": [
       "<div>\n",
       "<style scoped>\n",
       "    .dataframe tbody tr th:only-of-type {\n",
       "        vertical-align: middle;\n",
       "    }\n",
       "\n",
       "    .dataframe tbody tr th {\n",
       "        vertical-align: top;\n",
       "    }\n",
       "\n",
       "    .dataframe thead th {\n",
       "        text-align: right;\n",
       "    }\n",
       "</style>\n",
       "<table border=\"1\" class=\"dataframe\">\n",
       "  <thead>\n",
       "    <tr style=\"text-align: right;\">\n",
       "      <th></th>\n",
       "      <th>key</th>\n",
       "      <th>bulk_1</th>\n",
       "      <th>bulk_2</th>\n",
       "      <th>bulk_3</th>\n",
       "      <th>bulk_4</th>\n",
       "      <th>bulk_5</th>\n",
       "      <th>bulk_6</th>\n",
       "      <th>bulk_7</th>\n",
       "      <th>bulk_8</th>\n",
       "      <th>bulk_9</th>\n",
       "      <th>bulk_10</th>\n",
       "      <th>bulk_11</th>\n",
       "      <th>bulk_12</th>\n",
       "      <th>bulk_13</th>\n",
       "      <th>bulk_14</th>\n",
       "      <th>bulk_15</th>\n",
       "    </tr>\n",
       "  </thead>\n",
       "  <tbody>\n",
       "    <tr>\n",
       "      <th>count</th>\n",
       "      <td>3129.000000</td>\n",
       "      <td>3129.000000</td>\n",
       "      <td>3129.000000</td>\n",
       "      <td>3129.000000</td>\n",
       "      <td>3129.000000</td>\n",
       "      <td>3129.000000</td>\n",
       "      <td>3129.000000</td>\n",
       "      <td>3129.000000</td>\n",
       "      <td>3129.000000</td>\n",
       "      <td>3129.000000</td>\n",
       "      <td>3129.000000</td>\n",
       "      <td>3129.000000</td>\n",
       "      <td>3129.000000</td>\n",
       "      <td>3129.000000</td>\n",
       "      <td>3129.000000</td>\n",
       "      <td>3129.000000</td>\n",
       "    </tr>\n",
       "    <tr>\n",
       "      <th>mean</th>\n",
       "      <td>1624.383509</td>\n",
       "      <td>3.160435</td>\n",
       "      <td>1.779163</td>\n",
       "      <td>47.240332</td>\n",
       "      <td>33.830617</td>\n",
       "      <td>2.633749</td>\n",
       "      <td>21.892298</td>\n",
       "      <td>2.441675</td>\n",
       "      <td>0.015660</td>\n",
       "      <td>0.463407</td>\n",
       "      <td>4.684564</td>\n",
       "      <td>4.345478</td>\n",
       "      <td>203.948226</td>\n",
       "      <td>1.041866</td>\n",
       "      <td>152.706616</td>\n",
       "      <td>115.319271</td>\n",
       "    </tr>\n",
       "    <tr>\n",
       "      <th>std</th>\n",
       "      <td>933.337642</td>\n",
       "      <td>11.869164</td>\n",
       "      <td>21.217878</td>\n",
       "      <td>74.239954</td>\n",
       "      <td>56.034505</td>\n",
       "      <td>20.918138</td>\n",
       "      <td>55.492582</td>\n",
       "      <td>31.944063</td>\n",
       "      <td>0.875978</td>\n",
       "      <td>6.154398</td>\n",
       "      <td>20.157323</td>\n",
       "      <td>22.699580</td>\n",
       "      <td>151.419639</td>\n",
       "      <td>14.114252</td>\n",
       "      <td>81.091421</td>\n",
       "      <td>84.488698</td>\n",
       "    </tr>\n",
       "    <tr>\n",
       "      <th>min</th>\n",
       "      <td>1.000000</td>\n",
       "      <td>0.000000</td>\n",
       "      <td>0.000000</td>\n",
       "      <td>0.000000</td>\n",
       "      <td>0.000000</td>\n",
       "      <td>0.000000</td>\n",
       "      <td>0.000000</td>\n",
       "      <td>0.000000</td>\n",
       "      <td>0.000000</td>\n",
       "      <td>0.000000</td>\n",
       "      <td>0.000000</td>\n",
       "      <td>0.000000</td>\n",
       "      <td>0.000000</td>\n",
       "      <td>0.000000</td>\n",
       "      <td>0.000000</td>\n",
       "      <td>0.000000</td>\n",
       "    </tr>\n",
       "    <tr>\n",
       "      <th>25%</th>\n",
       "      <td>816.000000</td>\n",
       "      <td>0.000000</td>\n",
       "      <td>0.000000</td>\n",
       "      <td>0.000000</td>\n",
       "      <td>0.000000</td>\n",
       "      <td>0.000000</td>\n",
       "      <td>0.000000</td>\n",
       "      <td>0.000000</td>\n",
       "      <td>0.000000</td>\n",
       "      <td>0.000000</td>\n",
       "      <td>0.000000</td>\n",
       "      <td>0.000000</td>\n",
       "      <td>105.000000</td>\n",
       "      <td>0.000000</td>\n",
       "      <td>104.000000</td>\n",
       "      <td>0.000000</td>\n",
       "    </tr>\n",
       "    <tr>\n",
       "      <th>50%</th>\n",
       "      <td>1622.000000</td>\n",
       "      <td>0.000000</td>\n",
       "      <td>0.000000</td>\n",
       "      <td>0.000000</td>\n",
       "      <td>0.000000</td>\n",
       "      <td>0.000000</td>\n",
       "      <td>0.000000</td>\n",
       "      <td>0.000000</td>\n",
       "      <td>0.000000</td>\n",
       "      <td>0.000000</td>\n",
       "      <td>0.000000</td>\n",
       "      <td>0.000000</td>\n",
       "      <td>206.000000</td>\n",
       "      <td>0.000000</td>\n",
       "      <td>148.000000</td>\n",
       "      <td>106.000000</td>\n",
       "    </tr>\n",
       "    <tr>\n",
       "      <th>75%</th>\n",
       "      <td>2431.000000</td>\n",
       "      <td>0.000000</td>\n",
       "      <td>0.000000</td>\n",
       "      <td>80.000000</td>\n",
       "      <td>68.000000</td>\n",
       "      <td>0.000000</td>\n",
       "      <td>0.000000</td>\n",
       "      <td>0.000000</td>\n",
       "      <td>0.000000</td>\n",
       "      <td>0.000000</td>\n",
       "      <td>0.000000</td>\n",
       "      <td>0.000000</td>\n",
       "      <td>263.000000</td>\n",
       "      <td>0.000000</td>\n",
       "      <td>202.000000</td>\n",
       "      <td>204.000000</td>\n",
       "    </tr>\n",
       "    <tr>\n",
       "      <th>max</th>\n",
       "      <td>3241.000000</td>\n",
       "      <td>185.000000</td>\n",
       "      <td>325.000000</td>\n",
       "      <td>454.000000</td>\n",
       "      <td>281.000000</td>\n",
       "      <td>603.000000</td>\n",
       "      <td>503.000000</td>\n",
       "      <td>772.000000</td>\n",
       "      <td>49.000000</td>\n",
       "      <td>147.000000</td>\n",
       "      <td>159.000000</td>\n",
       "      <td>313.000000</td>\n",
       "      <td>1849.000000</td>\n",
       "      <td>305.000000</td>\n",
       "      <td>636.000000</td>\n",
       "      <td>405.000000</td>\n",
       "    </tr>\n",
       "  </tbody>\n",
       "</table>\n",
       "</div>"
      ],
      "text/plain": [
       "               key       bulk_1       bulk_2       bulk_3       bulk_4  \\\n",
       "count  3129.000000  3129.000000  3129.000000  3129.000000  3129.000000   \n",
       "mean   1624.383509     3.160435     1.779163    47.240332    33.830617   \n",
       "std     933.337642    11.869164    21.217878    74.239954    56.034505   \n",
       "min       1.000000     0.000000     0.000000     0.000000     0.000000   \n",
       "25%     816.000000     0.000000     0.000000     0.000000     0.000000   \n",
       "50%    1622.000000     0.000000     0.000000     0.000000     0.000000   \n",
       "75%    2431.000000     0.000000     0.000000    80.000000    68.000000   \n",
       "max    3241.000000   185.000000   325.000000   454.000000   281.000000   \n",
       "\n",
       "            bulk_5       bulk_6       bulk_7       bulk_8       bulk_9  \\\n",
       "count  3129.000000  3129.000000  3129.000000  3129.000000  3129.000000   \n",
       "mean      2.633749    21.892298     2.441675     0.015660     0.463407   \n",
       "std      20.918138    55.492582    31.944063     0.875978     6.154398   \n",
       "min       0.000000     0.000000     0.000000     0.000000     0.000000   \n",
       "25%       0.000000     0.000000     0.000000     0.000000     0.000000   \n",
       "50%       0.000000     0.000000     0.000000     0.000000     0.000000   \n",
       "75%       0.000000     0.000000     0.000000     0.000000     0.000000   \n",
       "max     603.000000   503.000000   772.000000    49.000000   147.000000   \n",
       "\n",
       "           bulk_10      bulk_11      bulk_12      bulk_13      bulk_14  \\\n",
       "count  3129.000000  3129.000000  3129.000000  3129.000000  3129.000000   \n",
       "mean      4.684564     4.345478   203.948226     1.041866   152.706616   \n",
       "std      20.157323    22.699580   151.419639    14.114252    81.091421   \n",
       "min       0.000000     0.000000     0.000000     0.000000     0.000000   \n",
       "25%       0.000000     0.000000   105.000000     0.000000   104.000000   \n",
       "50%       0.000000     0.000000   206.000000     0.000000   148.000000   \n",
       "75%       0.000000     0.000000   263.000000     0.000000   202.000000   \n",
       "max     159.000000   313.000000  1849.000000   305.000000   636.000000   \n",
       "\n",
       "           bulk_15  \n",
       "count  3129.000000  \n",
       "mean    115.319271  \n",
       "std      84.488698  \n",
       "min       0.000000  \n",
       "25%       0.000000  \n",
       "50%     106.000000  \n",
       "75%     204.000000  \n",
       "max     405.000000  "
      ]
     },
     "execution_count": 45,
     "metadata": {},
     "output_type": "execute_result"
    }
   ],
   "source": [
    "df_bulk.describe()"
   ]
  },
  {
   "cell_type": "markdown",
   "metadata": {},
   "source": [
    "**Посмотрим на распределение в виде boxplot-диаграмм**"
   ]
  },
  {
   "cell_type": "code",
   "execution_count": 46,
   "metadata": {},
   "outputs": [
    {
     "data": {
      "image/png": "[encoded data removed]",
      "text/plain": [
       "<Figure size 1008x2520 with 15 Axes>"
      ]
     },
     "metadata": {
      "needs_background": "light"
     },
     "output_type": "display_data"
    }
   ],
   "source": [
    "def boxplot_col_printer(df:pd.DataFrame, col_list:list):\n",
    "    \"\"\"\n",
    "    Функция отображает горизонтальные графики типа boxplot\n",
    "    \"\"\"\n",
    "    fig, axes = plt.subplots(nrows=len(col_list), ncols=1, figsize=(14,35)) # тут ок\n",
    "    \n",
    "    for i,  ax in zip(col_list, axes.ravel()): # тут ок\n",
    "        col_number_index = col_list.index(i)\n",
    "        df.boxplot(column=col_list[col_number_index], vert=False, ax=ax) # тут ок\n",
    "    plt.show() # тут ок\n",
    "    \n",
    "bulk_number = df_bulk.columns.to_list()[1:] # сформируем список столбцов начиная от bulk_1\n",
    "boxplot_col_printer(df=df_bulk, col_list=bulk_number)    "
   ]
  },
  {
   "cell_type": "markdown",
   "metadata": {},
   "source": [
    "**Посмотрим на распределение в виде гистаграмм**"
   ]
  },
  {
   "cell_type": "code",
   "execution_count": 47,
   "metadata": {},
   "outputs": [
    {
     "data": {
      "image/png": "[encoded data removed]",
      "text/plain": [
       "<Figure size 1008x2160 with 15 Axes>"
      ]
     },
     "metadata": {
      "needs_background": "light"
     },
     "output_type": "display_data"
    }
   ],
   "source": [
    "def hist_col_printer(df:pd.DataFrame, col_number:list):\n",
    "    \"\"\"\n",
    "    Функция отображает горизонтальные гистораммы\n",
    "    \"\"\"\n",
    "    fig, axes = plt.subplots(nrows=len(col_number), ncols=1, figsize=(14,30)) # тут ок\n",
    "    \n",
    "    for i,  ax in zip(col_number, axes.ravel()): # тут ок\n",
    "        col_number_index = col_number.index(i)\n",
    "        df.plot(kind='hist', y = col_number[col_number_index], ax=ax, bins = 30, range=(1,df[col_number[col_number_index]].max()))\n",
    "        #df.boxplot(column=bulk_number[bulk_number_index], vert=False, ax=ax) # тут ок\n",
    "    plt.show() # тут ок\n",
    "    \n",
    "\n",
    "hist_col_printer(df=df_bulk, col_number=bulk_number) "
   ]
  },
  {
   "cell_type": "markdown",
   "metadata": {},
   "source": [
    "**Выводы**\n",
    "\n",
    "1. Распределение значений присыпок для каждого вида имеет свой вид. Некоторые (например bulk_4, bulk_6) тяготеют к нормальному распределению со скошенностью в право.\n",
    "2. возможно имеет смысл убрать выбросы в bulk_3 и bulk_4, но пока оставим как есть"
   ]
  },
  {
   "cell_type": "markdown",
   "metadata": {},
   "source": [
    "## 4.3. Данные о продувке сплава газом<a id=\"4.3.\"></a>"
   ]
  },
  {
   "cell_type": "markdown",
   "metadata": {},
   "source": [
    "**Посмотрим непосредственно на данные**"
   ]
  },
  {
   "cell_type": "code",
   "execution_count": 48,
   "metadata": {},
   "outputs": [
    {
     "data": {
      "text/html": [
       "<div>\n",
       "<style scoped>\n",
       "    .dataframe tbody tr th:only-of-type {\n",
       "        vertical-align: middle;\n",
       "    }\n",
       "\n",
       "    .dataframe tbody tr th {\n",
       "        vertical-align: top;\n",
       "    }\n",
       "\n",
       "    .dataframe thead th {\n",
       "        text-align: right;\n",
       "    }\n",
       "</style>\n",
       "<table border=\"1\" class=\"dataframe\">\n",
       "  <thead>\n",
       "    <tr style=\"text-align: right;\">\n",
       "      <th></th>\n",
       "      <th>key</th>\n",
       "      <th>gas</th>\n",
       "    </tr>\n",
       "  </thead>\n",
       "  <tbody>\n",
       "    <tr>\n",
       "      <th>0</th>\n",
       "      <td>1</td>\n",
       "      <td>29.749986</td>\n",
       "    </tr>\n",
       "    <tr>\n",
       "      <th>1</th>\n",
       "      <td>2</td>\n",
       "      <td>12.555561</td>\n",
       "    </tr>\n",
       "    <tr>\n",
       "      <th>2</th>\n",
       "      <td>3</td>\n",
       "      <td>28.554793</td>\n",
       "    </tr>\n",
       "    <tr>\n",
       "      <th>3</th>\n",
       "      <td>4</td>\n",
       "      <td>18.841219</td>\n",
       "    </tr>\n",
       "    <tr>\n",
       "      <th>4</th>\n",
       "      <td>5</td>\n",
       "      <td>5.413692</td>\n",
       "    </tr>\n",
       "  </tbody>\n",
       "</table>\n",
       "</div>"
      ],
      "text/plain": [
       "   key        gas\n",
       "0    1  29.749986\n",
       "1    2  12.555561\n",
       "2    3  28.554793\n",
       "3    4  18.841219\n",
       "4    5   5.413692"
      ]
     },
     "execution_count": 48,
     "metadata": {},
     "output_type": "execute_result"
    }
   ],
   "source": [
    "df_gas.head()"
   ]
  },
  {
   "cell_type": "markdown",
   "metadata": {},
   "source": [
    "**Посмотрим на описание данных**"
   ]
  },
  {
   "cell_type": "code",
   "execution_count": 49,
   "metadata": {},
   "outputs": [
    {
     "data": {
      "text/plain": [
       "count    3239.000000\n",
       "mean       11.002062\n",
       "std         6.220327\n",
       "min         0.008399\n",
       "25%         7.043089\n",
       "50%         9.836267\n",
       "75%        13.769915\n",
       "max        77.995040\n",
       "Name: gas, dtype: float64"
      ]
     },
     "execution_count": 49,
     "metadata": {},
     "output_type": "execute_result"
    }
   ],
   "source": [
    "df_gas['gas'].describe()"
   ]
  },
  {
   "cell_type": "markdown",
   "metadata": {},
   "source": [
    "**Посмотрим на распределение в виде boxplot-диаграмм**"
   ]
  },
  {
   "cell_type": "code",
   "execution_count": 50,
   "metadata": {},
   "outputs": [
    {
     "data": {
      "text/plain": [
       "<matplotlib.axes._subplots.AxesSubplot at 0x2566f38fb08>"
      ]
     },
     "execution_count": 50,
     "metadata": {},
     "output_type": "execute_result"
    },
    {
     "data": {
      "image/png": "[encoded data removed]",
      "text/plain": [
       "<Figure size 432x288 with 1 Axes>"
      ]
     },
     "metadata": {
      "needs_background": "light"
     },
     "output_type": "display_data"
    }
   ],
   "source": [
    "df_gas.boxplot(column='gas', vert = False)"
   ]
  },
  {
   "cell_type": "markdown",
   "metadata": {},
   "source": [
    "**Посмотрим на распределение в виде гистаграмм**"
   ]
  },
  {
   "cell_type": "code",
   "execution_count": 51,
   "metadata": {},
   "outputs": [
    {
     "data": {
      "text/plain": [
       "<matplotlib.axes._subplots.AxesSubplot at 0x2566fd05948>"
      ]
     },
     "execution_count": 51,
     "metadata": {},
     "output_type": "execute_result"
    },
    {
     "data": {
      "image/png": "[encoded data removed]",
      "text/plain": [
       "<Figure size 432x288 with 1 Axes>"
      ]
     },
     "metadata": {
      "needs_background": "light"
     },
     "output_type": "display_data"
    }
   ],
   "source": [
    "df_gas.plot(y = 'gas',  kind = 'hist', bins = 30)"
   ]
  },
  {
   "cell_type": "markdown",
   "metadata": {},
   "source": [
    "**Выводы**\n",
    "\n",
    "1. Распределение значений тяготеют к нормальному распределению со скошенностью в право.\n",
    "2. Выбросы удалять не будем, возможно имеют значение"
   ]
  },
  {
   "cell_type": "markdown",
   "metadata": {},
   "source": [
    "## 4.4. Результаты измерения температуры (целевой признак)<a id=\"4.4.\"></a>"
   ]
  },
  {
   "cell_type": "markdown",
   "metadata": {},
   "source": [
    "**Посмотрим непосредственно на данные**"
   ]
  },
  {
   "cell_type": "code",
   "execution_count": 52,
   "metadata": {},
   "outputs": [
    {
     "data": {
      "text/html": [
       "<div>\n",
       "<style scoped>\n",
       "    .dataframe tbody tr th:only-of-type {\n",
       "        vertical-align: middle;\n",
       "    }\n",
       "\n",
       "    .dataframe tbody tr th {\n",
       "        vertical-align: top;\n",
       "    }\n",
       "\n",
       "    .dataframe thead th {\n",
       "        text-align: right;\n",
       "    }\n",
       "</style>\n",
       "<table border=\"1\" class=\"dataframe\">\n",
       "  <thead>\n",
       "    <tr style=\"text-align: right;\">\n",
       "      <th></th>\n",
       "      <th>key</th>\n",
       "      <th>first_party_temp</th>\n",
       "      <th>last_party_temp</th>\n",
       "    </tr>\n",
       "  </thead>\n",
       "  <tbody>\n",
       "    <tr>\n",
       "      <th>0</th>\n",
       "      <td>1</td>\n",
       "      <td>1571.0</td>\n",
       "      <td>1613.0</td>\n",
       "    </tr>\n",
       "    <tr>\n",
       "      <th>1</th>\n",
       "      <td>2</td>\n",
       "      <td>1581.0</td>\n",
       "      <td>1602.0</td>\n",
       "    </tr>\n",
       "    <tr>\n",
       "      <th>2</th>\n",
       "      <td>3</td>\n",
       "      <td>1596.0</td>\n",
       "      <td>1599.0</td>\n",
       "    </tr>\n",
       "    <tr>\n",
       "      <th>3</th>\n",
       "      <td>4</td>\n",
       "      <td>1601.0</td>\n",
       "      <td>1625.0</td>\n",
       "    </tr>\n",
       "    <tr>\n",
       "      <th>4</th>\n",
       "      <td>5</td>\n",
       "      <td>1576.0</td>\n",
       "      <td>1602.0</td>\n",
       "    </tr>\n",
       "  </tbody>\n",
       "</table>\n",
       "</div>"
      ],
      "text/plain": [
       "   key  first_party_temp  last_party_temp\n",
       "0    1            1571.0           1613.0\n",
       "1    2            1581.0           1602.0\n",
       "2    3            1596.0           1599.0\n",
       "3    4            1601.0           1625.0\n",
       "4    5            1576.0           1602.0"
      ]
     },
     "execution_count": 52,
     "metadata": {},
     "output_type": "execute_result"
    }
   ],
   "source": [
    "df_temp_shot.head()"
   ]
  },
  {
   "cell_type": "markdown",
   "metadata": {},
   "source": [
    "**Посмотрим на описание данных**"
   ]
  },
  {
   "cell_type": "code",
   "execution_count": 53,
   "metadata": {},
   "outputs": [
    {
     "data": {
      "text/html": [
       "<div>\n",
       "<style scoped>\n",
       "    .dataframe tbody tr th:only-of-type {\n",
       "        vertical-align: middle;\n",
       "    }\n",
       "\n",
       "    .dataframe tbody tr th {\n",
       "        vertical-align: top;\n",
       "    }\n",
       "\n",
       "    .dataframe thead th {\n",
       "        text-align: right;\n",
       "    }\n",
       "</style>\n",
       "<table border=\"1\" class=\"dataframe\">\n",
       "  <thead>\n",
       "    <tr style=\"text-align: right;\">\n",
       "      <th></th>\n",
       "      <th>first_party_temp</th>\n",
       "      <th>last_party_temp</th>\n",
       "    </tr>\n",
       "  </thead>\n",
       "  <tbody>\n",
       "    <tr>\n",
       "      <th>count</th>\n",
       "      <td>2433.000000</td>\n",
       "      <td>2433.000000</td>\n",
       "    </tr>\n",
       "    <tr>\n",
       "      <th>mean</th>\n",
       "      <td>1588.297164</td>\n",
       "      <td>1595.351007</td>\n",
       "    </tr>\n",
       "    <tr>\n",
       "      <th>std</th>\n",
       "      <td>29.405333</td>\n",
       "      <td>16.017495</td>\n",
       "    </tr>\n",
       "    <tr>\n",
       "      <th>min</th>\n",
       "      <td>1191.000000</td>\n",
       "      <td>1541.000000</td>\n",
       "    </tr>\n",
       "    <tr>\n",
       "      <th>25%</th>\n",
       "      <td>1571.000000</td>\n",
       "      <td>1587.000000</td>\n",
       "    </tr>\n",
       "    <tr>\n",
       "      <th>50%</th>\n",
       "      <td>1587.000000</td>\n",
       "      <td>1593.000000</td>\n",
       "    </tr>\n",
       "    <tr>\n",
       "      <th>75%</th>\n",
       "      <td>1605.000000</td>\n",
       "      <td>1599.000000</td>\n",
       "    </tr>\n",
       "    <tr>\n",
       "      <th>max</th>\n",
       "      <td>1679.000000</td>\n",
       "      <td>1700.000000</td>\n",
       "    </tr>\n",
       "  </tbody>\n",
       "</table>\n",
       "</div>"
      ],
      "text/plain": [
       "       first_party_temp  last_party_temp\n",
       "count       2433.000000      2433.000000\n",
       "mean        1588.297164      1595.351007\n",
       "std           29.405333        16.017495\n",
       "min         1191.000000      1541.000000\n",
       "25%         1571.000000      1587.000000\n",
       "50%         1587.000000      1593.000000\n",
       "75%         1605.000000      1599.000000\n",
       "max         1679.000000      1700.000000"
      ]
     },
     "execution_count": 53,
     "metadata": {},
     "output_type": "execute_result"
    }
   ],
   "source": [
    "df_temp_shot[['first_party_temp', 'last_party_temp']].describe()"
   ]
  },
  {
   "cell_type": "markdown",
   "metadata": {},
   "source": [
    "**Посмотрим на распределение в виде boxplot-диаграмм**"
   ]
  },
  {
   "cell_type": "code",
   "execution_count": 54,
   "metadata": {},
   "outputs": [
    {
     "data": {
      "image/png": "[encoded data removed]",
      "text/plain": [
       "<Figure size 1008x360 with 2 Axes>"
      ]
     },
     "metadata": {
      "needs_background": "light"
     },
     "output_type": "display_data"
    }
   ],
   "source": [
    "fig, axes = plt.subplots(nrows=1, ncols=2, figsize=(14,5)) # тут ок\n",
    "\n",
    "df_temp_shot.boxplot(column='first_party_temp', ax=axes[0])\n",
    "df_temp_shot.boxplot(column='last_party_temp', ax=axes[1])\n",
    "plt.show()"
   ]
  },
  {
   "cell_type": "markdown",
   "metadata": {},
   "source": [
    "**Посмотрим на распределение в виде гистаграмм**"
   ]
  },
  {
   "cell_type": "code",
   "execution_count": 55,
   "metadata": {},
   "outputs": [
    {
     "data": {
      "image/png": "[encoded data removed]",
      "text/plain": [
       "<Figure size 1008x360 with 2 Axes>"
      ]
     },
     "metadata": {
      "needs_background": "light"
     },
     "output_type": "display_data"
    }
   ],
   "source": [
    "fig, axes = plt.subplots(nrows=1, ncols=2, figsize=(14,5)) # тут ок\n",
    "\n",
    "df_temp_shot.plot(y = 'first_party_temp',  kind = 'hist', bins = 30, ax = axes[0])\n",
    "df_temp_shot.plot(y = 'last_party_temp',  kind = 'hist', bins = 30, ax = axes[1])\n",
    "plt.show()"
   ]
  },
  {
   "cell_type": "code",
   "execution_count": 56,
   "metadata": {},
   "outputs": [
    {
     "name": "stdout",
     "output_type": "stream",
     "text": [
      "Корреляция значений параметров составляет 0.3715686150527717\n"
     ]
    }
   ],
   "source": [
    "print('Корреляция значений параметров составляет', df_temp_shot['first_party_temp'].corr(df_temp_shot['last_party_temp']))"
   ]
  },
  {
   "cell_type": "markdown",
   "metadata": {},
   "source": [
    "**Выводы**\n",
    "\n",
    "1. Судя по графикам видно что редко, но случается недогрев на первой партии, но на последней перегрев так же в зоне выбросов, но значительно чаще. Становится понятно почему появилась потребность в данной задаече.\n",
    "2. Выбросы удалять не будем\n",
    "3. Кореляции между значениями первым и последним замерами темпер"
   ]
  },
  {
   "cell_type": "markdown",
   "metadata": {},
   "source": [
    "## 4.5. Данные о проволочных материалах (объём)<a id=\"4.5.\"></a>"
   ]
  },
  {
   "cell_type": "markdown",
   "metadata": {},
   "source": [
    "**Посмотрим непосредственно на данные**"
   ]
  },
  {
   "cell_type": "code",
   "execution_count": 57,
   "metadata": {},
   "outputs": [
    {
     "data": {
      "text/html": [
       "<div>\n",
       "<style scoped>\n",
       "    .dataframe tbody tr th:only-of-type {\n",
       "        vertical-align: middle;\n",
       "    }\n",
       "\n",
       "    .dataframe tbody tr th {\n",
       "        vertical-align: top;\n",
       "    }\n",
       "\n",
       "    .dataframe thead th {\n",
       "        text-align: right;\n",
       "    }\n",
       "</style>\n",
       "<table border=\"1\" class=\"dataframe\">\n",
       "  <thead>\n",
       "    <tr style=\"text-align: right;\">\n",
       "      <th></th>\n",
       "      <th>key</th>\n",
       "      <th>wire_1</th>\n",
       "      <th>wire_2</th>\n",
       "      <th>wire_3</th>\n",
       "      <th>wire_4</th>\n",
       "      <th>wire_5</th>\n",
       "      <th>wire_6</th>\n",
       "      <th>wire_7</th>\n",
       "      <th>wire_8</th>\n",
       "      <th>wire_9</th>\n",
       "    </tr>\n",
       "  </thead>\n",
       "  <tbody>\n",
       "    <tr>\n",
       "      <th>0</th>\n",
       "      <td>1</td>\n",
       "      <td>60.059998</td>\n",
       "      <td>0.00000</td>\n",
       "      <td>0.0</td>\n",
       "      <td>0.0</td>\n",
       "      <td>0.0</td>\n",
       "      <td>0.0</td>\n",
       "      <td>0.0</td>\n",
       "      <td>0.0</td>\n",
       "      <td>0.0</td>\n",
       "    </tr>\n",
       "    <tr>\n",
       "      <th>1</th>\n",
       "      <td>2</td>\n",
       "      <td>96.052315</td>\n",
       "      <td>0.00000</td>\n",
       "      <td>0.0</td>\n",
       "      <td>0.0</td>\n",
       "      <td>0.0</td>\n",
       "      <td>0.0</td>\n",
       "      <td>0.0</td>\n",
       "      <td>0.0</td>\n",
       "      <td>0.0</td>\n",
       "    </tr>\n",
       "    <tr>\n",
       "      <th>2</th>\n",
       "      <td>3</td>\n",
       "      <td>91.160157</td>\n",
       "      <td>0.00000</td>\n",
       "      <td>0.0</td>\n",
       "      <td>0.0</td>\n",
       "      <td>0.0</td>\n",
       "      <td>0.0</td>\n",
       "      <td>0.0</td>\n",
       "      <td>0.0</td>\n",
       "      <td>0.0</td>\n",
       "    </tr>\n",
       "    <tr>\n",
       "      <th>3</th>\n",
       "      <td>4</td>\n",
       "      <td>89.063515</td>\n",
       "      <td>0.00000</td>\n",
       "      <td>0.0</td>\n",
       "      <td>0.0</td>\n",
       "      <td>0.0</td>\n",
       "      <td>0.0</td>\n",
       "      <td>0.0</td>\n",
       "      <td>0.0</td>\n",
       "      <td>0.0</td>\n",
       "    </tr>\n",
       "    <tr>\n",
       "      <th>4</th>\n",
       "      <td>5</td>\n",
       "      <td>89.238236</td>\n",
       "      <td>9.11456</td>\n",
       "      <td>0.0</td>\n",
       "      <td>0.0</td>\n",
       "      <td>0.0</td>\n",
       "      <td>0.0</td>\n",
       "      <td>0.0</td>\n",
       "      <td>0.0</td>\n",
       "      <td>0.0</td>\n",
       "    </tr>\n",
       "  </tbody>\n",
       "</table>\n",
       "</div>"
      ],
      "text/plain": [
       "   key     wire_1   wire_2  wire_3  wire_4  wire_5  wire_6  wire_7  wire_8  \\\n",
       "0    1  60.059998  0.00000     0.0     0.0     0.0     0.0     0.0     0.0   \n",
       "1    2  96.052315  0.00000     0.0     0.0     0.0     0.0     0.0     0.0   \n",
       "2    3  91.160157  0.00000     0.0     0.0     0.0     0.0     0.0     0.0   \n",
       "3    4  89.063515  0.00000     0.0     0.0     0.0     0.0     0.0     0.0   \n",
       "4    5  89.238236  9.11456     0.0     0.0     0.0     0.0     0.0     0.0   \n",
       "\n",
       "   wire_9  \n",
       "0     0.0  \n",
       "1     0.0  \n",
       "2     0.0  \n",
       "3     0.0  \n",
       "4     0.0  "
      ]
     },
     "execution_count": 57,
     "metadata": {},
     "output_type": "execute_result"
    }
   ],
   "source": [
    "df_wire.head()"
   ]
  },
  {
   "cell_type": "markdown",
   "metadata": {},
   "source": [
    "**Посмотрим на описание данных**"
   ]
  },
  {
   "cell_type": "code",
   "execution_count": 58,
   "metadata": {},
   "outputs": [
    {
     "data": {
      "text/html": [
       "<div>\n",
       "<style scoped>\n",
       "    .dataframe tbody tr th:only-of-type {\n",
       "        vertical-align: middle;\n",
       "    }\n",
       "\n",
       "    .dataframe tbody tr th {\n",
       "        vertical-align: top;\n",
       "    }\n",
       "\n",
       "    .dataframe thead th {\n",
       "        text-align: right;\n",
       "    }\n",
       "</style>\n",
       "<table border=\"1\" class=\"dataframe\">\n",
       "  <thead>\n",
       "    <tr style=\"text-align: right;\">\n",
       "      <th></th>\n",
       "      <th>key</th>\n",
       "      <th>wire_1</th>\n",
       "      <th>wire_2</th>\n",
       "      <th>wire_3</th>\n",
       "      <th>wire_4</th>\n",
       "      <th>wire_5</th>\n",
       "      <th>wire_6</th>\n",
       "      <th>wire_7</th>\n",
       "      <th>wire_8</th>\n",
       "      <th>wire_9</th>\n",
       "    </tr>\n",
       "  </thead>\n",
       "  <tbody>\n",
       "    <tr>\n",
       "      <th>count</th>\n",
       "      <td>3081.000000</td>\n",
       "      <td>3081.000000</td>\n",
       "      <td>3081.000000</td>\n",
       "      <td>3081.000000</td>\n",
       "      <td>3081.000000</td>\n",
       "      <td>3081.000000</td>\n",
       "      <td>3081.000000</td>\n",
       "      <td>3081.000000</td>\n",
       "      <td>3081.000000</td>\n",
       "      <td>3081.000000</td>\n",
       "    </tr>\n",
       "    <tr>\n",
       "      <th>mean</th>\n",
       "      <td>1623.426485</td>\n",
       "      <td>100.044411</td>\n",
       "      <td>17.712733</td>\n",
       "      <td>3.874524</td>\n",
       "      <td>0.261019</td>\n",
       "      <td>0.004911</td>\n",
       "      <td>1.137695</td>\n",
       "      <td>0.035842</td>\n",
       "      <td>0.330697</td>\n",
       "      <td>0.321492</td>\n",
       "    </tr>\n",
       "    <tr>\n",
       "      <th>std</th>\n",
       "      <td>932.996726</td>\n",
       "      <td>42.841120</td>\n",
       "      <td>33.517734</td>\n",
       "      <td>30.310417</td>\n",
       "      <td>4.293865</td>\n",
       "      <td>0.272615</td>\n",
       "      <td>8.958111</td>\n",
       "      <td>0.774190</td>\n",
       "      <td>4.392677</td>\n",
       "      <td>3.806904</td>\n",
       "    </tr>\n",
       "    <tr>\n",
       "      <th>min</th>\n",
       "      <td>1.000000</td>\n",
       "      <td>0.000000</td>\n",
       "      <td>0.000000</td>\n",
       "      <td>0.000000</td>\n",
       "      <td>0.000000</td>\n",
       "      <td>0.000000</td>\n",
       "      <td>0.000000</td>\n",
       "      <td>0.000000</td>\n",
       "      <td>0.000000</td>\n",
       "      <td>0.000000</td>\n",
       "    </tr>\n",
       "    <tr>\n",
       "      <th>25%</th>\n",
       "      <td>823.000000</td>\n",
       "      <td>70.281120</td>\n",
       "      <td>0.000000</td>\n",
       "      <td>0.000000</td>\n",
       "      <td>0.000000</td>\n",
       "      <td>0.000000</td>\n",
       "      <td>0.000000</td>\n",
       "      <td>0.000000</td>\n",
       "      <td>0.000000</td>\n",
       "      <td>0.000000</td>\n",
       "    </tr>\n",
       "    <tr>\n",
       "      <th>50%</th>\n",
       "      <td>1619.000000</td>\n",
       "      <td>100.114563</td>\n",
       "      <td>0.000000</td>\n",
       "      <td>0.000000</td>\n",
       "      <td>0.000000</td>\n",
       "      <td>0.000000</td>\n",
       "      <td>0.000000</td>\n",
       "      <td>0.000000</td>\n",
       "      <td>0.000000</td>\n",
       "      <td>0.000000</td>\n",
       "    </tr>\n",
       "    <tr>\n",
       "      <th>75%</th>\n",
       "      <td>2434.000000</td>\n",
       "      <td>125.798405</td>\n",
       "      <td>23.162880</td>\n",
       "      <td>0.000000</td>\n",
       "      <td>0.000000</td>\n",
       "      <td>0.000000</td>\n",
       "      <td>0.000000</td>\n",
       "      <td>0.000000</td>\n",
       "      <td>0.000000</td>\n",
       "      <td>0.000000</td>\n",
       "    </tr>\n",
       "    <tr>\n",
       "      <th>max</th>\n",
       "      <td>3241.000000</td>\n",
       "      <td>330.314424</td>\n",
       "      <td>282.780152</td>\n",
       "      <td>385.008668</td>\n",
       "      <td>113.231044</td>\n",
       "      <td>15.132000</td>\n",
       "      <td>180.454575</td>\n",
       "      <td>32.847674</td>\n",
       "      <td>102.762401</td>\n",
       "      <td>90.053604</td>\n",
       "    </tr>\n",
       "  </tbody>\n",
       "</table>\n",
       "</div>"
      ],
      "text/plain": [
       "               key       wire_1       wire_2       wire_3       wire_4  \\\n",
       "count  3081.000000  3081.000000  3081.000000  3081.000000  3081.000000   \n",
       "mean   1623.426485   100.044411    17.712733     3.874524     0.261019   \n",
       "std     932.996726    42.841120    33.517734    30.310417     4.293865   \n",
       "min       1.000000     0.000000     0.000000     0.000000     0.000000   \n",
       "25%     823.000000    70.281120     0.000000     0.000000     0.000000   \n",
       "50%    1619.000000   100.114563     0.000000     0.000000     0.000000   \n",
       "75%    2434.000000   125.798405    23.162880     0.000000     0.000000   \n",
       "max    3241.000000   330.314424   282.780152   385.008668   113.231044   \n",
       "\n",
       "            wire_5       wire_6       wire_7       wire_8       wire_9  \n",
       "count  3081.000000  3081.000000  3081.000000  3081.000000  3081.000000  \n",
       "mean      0.004911     1.137695     0.035842     0.330697     0.321492  \n",
       "std       0.272615     8.958111     0.774190     4.392677     3.806904  \n",
       "min       0.000000     0.000000     0.000000     0.000000     0.000000  \n",
       "25%       0.000000     0.000000     0.000000     0.000000     0.000000  \n",
       "50%       0.000000     0.000000     0.000000     0.000000     0.000000  \n",
       "75%       0.000000     0.000000     0.000000     0.000000     0.000000  \n",
       "max      15.132000   180.454575    32.847674   102.762401    90.053604  "
      ]
     },
     "execution_count": 58,
     "metadata": {},
     "output_type": "execute_result"
    }
   ],
   "source": [
    "df_wire.describe()"
   ]
  },
  {
   "cell_type": "markdown",
   "metadata": {},
   "source": [
    "**Посмотрим на распределение в виде boxplot-диаграмм**"
   ]
  },
  {
   "cell_type": "code",
   "execution_count": 59,
   "metadata": {},
   "outputs": [
    {
     "data": {
      "image/png": "[encoded data removed]",
      "text/plain": [
       "<Figure size 1008x2520 with 9 Axes>"
      ]
     },
     "metadata": {
      "needs_background": "light"
     },
     "output_type": "display_data"
    }
   ],
   "source": [
    "wire_col_list = df_wire.columns.to_list()[1:] # сформируем список столбцов начиная от bulk_1\n",
    "boxplot_col_printer(df=df_wire, col_list=wire_col_list)     "
   ]
  },
  {
   "cell_type": "markdown",
   "metadata": {},
   "source": [
    "**Посмотрим на распределение в виде гистаграмм**"
   ]
  },
  {
   "cell_type": "code",
   "execution_count": 60,
   "metadata": {},
   "outputs": [
    {
     "data": {
      "image/png": "[encoded data removed]",
      "text/plain": [
       "<Figure size 1008x2160 with 9 Axes>"
      ]
     },
     "metadata": {
      "needs_background": "light"
     },
     "output_type": "display_data"
    }
   ],
   "source": [
    "hist_col_printer(df=df_wire, col_number=wire_col_list) "
   ]
  },
  {
   "cell_type": "markdown",
   "metadata": {},
   "source": [
    "**Выводы**\n",
    "\n",
    "1. Распределение значений присыпок для каждого вида имеет свой вид. пожалуй, только wire_1 тяготеют к нормальному распределению. Остальные значения очень ситуативно распределены.\n",
    "2. Возможно имеет смысл убрать выбросы в wire_3 и wire_4, но пока оставим как есть"
   ]
  },
  {
   "cell_type": "markdown",
   "metadata": {},
   "source": [
    "# 5. Подытог по проведенным работам<a id=\"5.\"></a>\n",
    "- В разделе 1 приведено краткое описание технологического процесса, описание проекта, данных, решения и рекомендации озвученные на встрече в zoom 13.09.22 и т.п\n",
    "- В разжеле 2 проведен первичный (предварительный) анализ данных и принтяы решения по дальнейшей предобработке\n",
    "- В разделе 3 проведена предобработка данных в соответствии решениями, принятыми в п.2. Проделанные действия приведеный в чек-листе ниже.\n",
    "- В разделе 4 проведен исследовательский анализ данных. Изучены распределения (рассмотрены графики типа \"ящик с усами\" и гистограммы), приведены статистические описния данных (функция describe) и сделаны выводы о необходиости дальнейших действий\n",
    "\n",
    "## 5.1. Чек-лист по разделу 3<a id=\"5.1.\"></a>\n",
    "**1. Данные об электродах**\n",
    "- [x] Переименование столбцов\n",
    "    - \"Начало нагрева дугой\" -> \"arc_start_time\"\n",
    "    - \"Конец нагрева дугой\" -> \"arc_end_time\"\n",
    "    - \"Активаная мощность\" -> \"arc_active_power\"\n",
    "- [x]  Удалить столбец \"Реактивная мощность\", т.к. на нагрев она не влияет\n",
    "- [x] Просуммировать мощность по каждой партии\n",
    "- [x] Как вариант (опционально), можно создать новый столбец work = (end_time - start_time)\\*vactive_power и просуммировать значения по ключу из данного столбца\n",
    "- [x] Замены пропусков не требуется\n",
    "\n",
    "**2. Данные о подаче сыпучих материалов (объем)**\n",
    "- [x] Переименовать столбцы (\"Bulk 1\" -> \"bulk_1\" и т.д.)\n",
    "- [x] Заполнить пропуски нулями. (если значение отсутствует, значит присадку не дабавляли, значит значение д.б. 0)\n",
    "\n",
    "**3. Данные о продувке сплава газом**\n",
    "- [x] Переименовать столбец (\"Газ 1\" -> \"gas\")\n",
    "- [x] Суммирования значений по партии (ключу) не требуется\n",
    "- [x] Замены пропусков не требуется\n",
    "\n",
    "**4. Результаты измерения температуры (целевой признак)**\n",
    "- [x] Поскольку в конечном итоге необходимо \"развернуть\" таблицу, так чтобы первое и последние значения температуры были в одной строке, преобразуем таблицу сразу и дальнейшие манипуляции со начениями будем проводить уже в таблице где для одной партии (ключа) только одна строка, а партии указаны в столбцах\n",
    "- [x] Удалим записи с пропущенным значением в первой (при наличии)\n",
    "- [x] Удалим записи с одинаковым значением для первой и последней партии\n",
    "- [x] Удалим записи где только один раз встречается значение температуры\n",
    "- [x] Удалим промежуточные записи между первой и последней партиями\n",
    "\n",
    "## 5.2. Дальнейший план работ<a id=\"5.2.\"></a>\n",
    "\n",
    "Следующим этапом работ необходимо выполнить следующие шаги:\n",
    "- [x] Проверить на сультиколлинеарность\n",
    "- [x] Объединить (inner join) предобработанные датасеты по столбцу key и проверить результат (оценить форму полученного датасета, список столбцов, удостовериться в отсутствии пропусков)\n",
    "- [x] Разделить полученную выборку на train и test. Тестовая выборка д.б. 20% от изначальной.\n",
    "- [x] Найти лучшие гиперпараметры для модейлей LinearRegression, RandomForesRegressor, LightGBM на тренировочной выборке при помощи [optuna](https://optuna.readthedocs.io/en/stable/reference/index.html) (аналог GridSearchCV и RandoSearchCV)\n",
    "- [x] Найти наиболее значимые параметры\n",
    "- [x] Спрогнозировать при помощи лучшей модели целевое значение на тестовой выборке и оценить результат.\n",
    "- [x] Сделать выводы "
   ]
  },
  {
   "cell_type": "markdown",
   "metadata": {},
   "source": [
    "# 6. Подготовка и финальная проверка датасета<a id=\"6.\"></a>"
   ]
  },
  {
   "cell_type": "markdown",
   "metadata": {},
   "source": [
    "# 6.1. Объединение датасетов<a id=\"6.1.\"></a>"
   ]
  },
  {
   "cell_type": "code",
   "execution_count": 61,
   "metadata": {},
   "outputs": [],
   "source": [
    "df_merged = df_arc.merge(df_bulk, how = 'inner', on = 'key' )\\\n",
    "    .merge(df_gas, how='inner', on = 'key')\\\n",
    "    .merge(df_temp_shot, how='inner', on = 'key')\\\n",
    "    .merge(df_wire, how='inner', on = 'key')"
   ]
  },
  {
   "cell_type": "code",
   "execution_count": 62,
   "metadata": {},
   "outputs": [
    {
     "name": "stdout",
     "output_type": "stream",
     "text": [
      "Размер датасета после объединения: (2293, 29)\n",
      "Список столбцов исходных датасетов идентичен списку результируещего датасета: True\n"
     ]
    }
   ],
   "source": [
    "collist1 = df_arc.columns.to_list()\n",
    "collist2 = df_bulk.columns.to_list()[1:]\n",
    "collist3 = df_gas.columns.to_list()[1:]\n",
    "collist4 = df_temp_shot.columns.to_list()[1:]\n",
    "collist5 = df_wire.columns.to_list()[1:]\n",
    "totlal_col_list = collist1 + collist2 + collist3 + collist4 + collist5\n",
    "\n",
    "print('Размер датасета после объединения:', df_merged.shape)\n",
    "print('Список столбцов исходных датасетов идентичен списку результируещего датасета:', set(totlal_col_list)==set(df_merged.columns.to_list()))"
   ]
  },
  {
   "cell_type": "code",
   "execution_count": 63,
   "metadata": {},
   "outputs": [
    {
     "data": {
      "text/plain": [
       "Index(['key', 'work', 'bulk_1', 'bulk_2', 'bulk_3', 'bulk_4', 'bulk_5',\n",
       "       'bulk_6', 'bulk_7', 'bulk_8', 'bulk_9', 'bulk_10', 'bulk_11', 'bulk_12',\n",
       "       'bulk_13', 'bulk_14', 'bulk_15', 'gas', 'first_party_temp',\n",
       "       'last_party_temp', 'wire_1', 'wire_2', 'wire_3', 'wire_4', 'wire_5',\n",
       "       'wire_6', 'wire_7', 'wire_8', 'wire_9'],\n",
       "      dtype='object')"
      ]
     },
     "execution_count": 63,
     "metadata": {},
     "output_type": "execute_result"
    }
   ],
   "source": [
    "df_merged.columns"
   ]
  },
  {
   "cell_type": "code",
   "execution_count": 64,
   "metadata": {},
   "outputs": [
    {
     "name": "stdout",
     "output_type": "stream",
     "text": [
      "Размер целевого признака (2293,)\n",
      "Размер датасета без целевого призанка и номера партии (2293, 27)\n"
     ]
    }
   ],
   "source": [
    "y = df_merged['last_party_temp']\n",
    "X = df_merged.drop(columns=['last_party_temp', 'key'])\n",
    "print('Размер целевого признака', y.shape)\n",
    "print('Размер датасета без целевого призанка и номера партии', X.shape)"
   ]
  },
  {
   "cell_type": "markdown",
   "metadata": {},
   "source": [
    "# 6.2. Проверка на мультиколлинеарность<a id=\"6.2.\"></a>"
   ]
  },
  {
   "cell_type": "code",
   "execution_count": 65,
   "metadata": {
    "scrolled": true
   },
   "outputs": [
    {
     "data": {
      "image/png": "[encoded data removed]",
      "text/plain": [
       "<Figure size 1440x1440 with 2 Axes>"
      ]
     },
     "metadata": {
      "needs_background": "light"
     },
     "output_type": "display_data"
    }
   ],
   "source": [
    "figure(figsize=(20, 20)) # dpi=200\n",
    "sns.heatmap(X.corr(), cmap=\"YlGnBu\", annot=True )\n",
    "plt.show()"
   ]
  },
  {
   "cell_type": "markdown",
   "metadata": {},
   "source": [
    "Видно, что есть признаки с высокой сколлерированностью. Для некоторых линейных моделей это чувствительно, для некоторых - не собо. Н всякий случай дропнем bulk_2, bulk_7, bulk_9"
   ]
  },
  {
   "cell_type": "code",
   "execution_count": 66,
   "metadata": {},
   "outputs": [],
   "source": [
    "X = X.drop(columns=['bulk_2','bulk_7','bulk_9'])"
   ]
  },
  {
   "cell_type": "markdown",
   "metadata": {},
   "source": [
    "## 6.3. Разделение на тренировочную и тестовую выборку<a id=\"6.3.\"></a>"
   ]
  },
  {
   "cell_type": "code",
   "execution_count": 67,
   "metadata": {},
   "outputs": [],
   "source": [
    "X_train, X_test, y_train, y_test = train_test_split(X, y, test_size = 0.2, random_state = 12092022)"
   ]
  },
  {
   "cell_type": "code",
   "execution_count": 68,
   "metadata": {},
   "outputs": [
    {
     "name": "stdout",
     "output_type": "stream",
     "text": [
      "Размеры X_train = (1834, 24), y_train = (1834,), X_test = (459, 24),  y_test = (459,)\n"
     ]
    }
   ],
   "source": [
    "print(f'Размеры X_train = {X_train.shape}, y_train = {y_train.shape}, X_test = {X_test.shape},  y_test = {y_test.shape}')"
   ]
  },
  {
   "cell_type": "markdown",
   "metadata": {},
   "source": [
    "# 7. Машинное обучение<a id=\"7.\"></a>"
   ]
  },
  {
   "cell_type": "markdown",
   "metadata": {},
   "source": [
    "В рамках данного проекта воспользуемся альтернативным оптимизатором гиперпараметров Optuna. Optuna надходит лучшие гиеперпараметры модели за меньшее время, хотя и с чуть меньшим качеством по сравнению с randomSearch и gridsearch."
   ]
  },
  {
   "cell_type": "markdown",
   "metadata": {},
   "source": [
    "## 7.1. LightGBM<a id=\"7.1.\"></a>"
   ]
  },
  {
   "cell_type": "code",
   "execution_count": 69,
   "metadata": {},
   "outputs": [
    {
     "name": "stderr",
     "output_type": "stream",
     "text": [
      "C:\\ProgramData\\Anaconda3\\lib\\site-packages\\ipykernel_launcher.py:10: ExperimentalWarning: OptunaSearchCV is experimental (supported from v0.17.0). The interface can change in the future.\n",
      "  # Remove the CWD from sys.path while we load stuff.\n",
      "\u001b[32m[I 2022-09-24 18:16:18,561]\u001b[0m A new study created in memory with name: no-name-14427d2f-1a4d-427a-a9d1-996663e278b4\u001b[0m\n",
      "\u001b[32m[I 2022-09-24 18:17:02,468]\u001b[0m Trial 0 finished with value: -6.030458877727829 and parameters: {'n_estimators': 1090, 'max_depth': 98, 'learning_rate': 0.004013988038408687}. Best is trial 0 with value: -6.030458877727829.\u001b[0m\n",
      "\u001b[32m[I 2022-09-24 18:17:43,794]\u001b[0m Trial 1 finished with value: -6.160452245827375 and parameters: {'n_estimators': 920, 'max_depth': 94, 'learning_rate': 0.0020536422565676977}. Best is trial 0 with value: -6.030458877727829.\u001b[0m\n"
     ]
    },
    {
     "data": {
      "text/plain": [
       "OptunaSearchCV(cv=10, enable_pruning=False, error_score=nan,\n",
       "               estimator=LGBMRegressor(boosting_type='gbdt', class_weight=None,\n",
       "                                       colsample_bytree=1.0,\n",
       "                                       importance_type='split',\n",
       "                                       learning_rate=0.1, max_depth=-1,\n",
       "                                       min_child_samples=20,\n",
       "                                       min_child_weight=0.001,\n",
       "                                       min_split_gain=0.0, n_estimators=100,\n",
       "                                       n_jobs=-1, num_leaves=31, objective=None,\n",
       "                                       random_state=None, reg_alpha=0.0,\n",
       "                                       re...\n",
       "               max_iter=1000, n_jobs=1, n_trials=100,\n",
       "               param_distributions={'learning_rate': LogUniformDistribution(high=0.01, low=0.001),\n",
       "                                    'max_depth': IntUniformDistribution(high=120, low=80, step=1),\n",
       "                                    'n_estimators': IntUniformDistribution(high=1100, low=900, step=5)},\n",
       "               random_state=12092022, refit=True, return_train_score=False,\n",
       "               scoring='neg_mean_absolute_error', study=None, subsample=1.0,\n",
       "               timeout=60, verbose=0)"
      ]
     },
     "execution_count": 69,
     "metadata": {},
     "output_type": "execute_result"
    }
   ],
   "source": [
    "lgb = LGBMRegressor()\n",
    "\n",
    "# Зададим параметры для OPTUNA\n",
    "param_distributions_lgb_optuna = {\n",
    "    'n_estimators': optuna.distributions.IntUniformDistribution(900,1100,5), # 990 # .IntUniformDistribution(10,1000,10\n",
    "    'max_depth': optuna.distributions.IntUniformDistribution(80,120,1), # 88 # .IntUniformDistribution(2,100,1)\n",
    "    'learning_rate': optuna.distributions.LogUniformDistribution(0.001, 0.01) # 0.003 # .LogUniformDistribution(0.0001, 0.1)\n",
    "    }\n",
    "\n",
    "opt_search_lightgbm = optuna.integration.OptunaSearchCV(lgb, param_distributions_lgb_optuna, cv=10 , n_trials=100, scoring='neg_mean_absolute_error', timeout=60, random_state=12092022)\n",
    "\n",
    "opt_search_lightgbm.fit(X_train, y_train)"
   ]
  },
  {
   "cell_type": "code",
   "execution_count": 70,
   "metadata": {},
   "outputs": [
    {
     "name": "stdout",
     "output_type": "stream",
     "text": [
      "Лучшее значение метрики для LightGBM: 6.030458877727829\n"
     ]
    }
   ],
   "source": [
    "print('Лучшее значение метрики для LightGBM:', abs(opt_search_lightgbm.best_score_))"
   ]
  },
  {
   "cell_type": "markdown",
   "metadata": {},
   "source": [
    "Добавим в табличку, чтоб потом сравнить"
   ]
  },
  {
   "cell_type": "code",
   "execution_count": 71,
   "metadata": {},
   "outputs": [],
   "source": [
    "best_model = pd.DataFrame(index = ['LightGBM', 'RandomForest', 'ElasticNet'])\n",
    "best_model.at['LightGBM','score'] = abs(opt_search_lightgbm.best_score_)"
   ]
  },
  {
   "cell_type": "markdown",
   "metadata": {},
   "source": [
    "## 7.2. RandomForest<a id=\"7.2.\"></a>"
   ]
  },
  {
   "cell_type": "code",
   "execution_count": 72,
   "metadata": {},
   "outputs": [
    {
     "name": "stderr",
     "output_type": "stream",
     "text": [
      "C:\\ProgramData\\Anaconda3\\lib\\site-packages\\optuna\\distributions.py:563: UserWarning: The distribution is specified by [1, 100] and step=5, but the range is not divisible by `step`. It will be replaced by [1, 96].\n",
      "  low=low, old_high=old_high, high=high, step=step\n",
      "C:\\ProgramData\\Anaconda3\\lib\\site-packages\\ipykernel_launcher.py:21: ExperimentalWarning: OptunaSearchCV is experimental (supported from v0.17.0). The interface can change in the future.\n",
      "\u001b[32m[I 2022-09-24 18:17:48,221]\u001b[0m A new study created in memory with name: no-name-58056601-c3cb-4e69-a63a-a41c597065e0\u001b[0m\n",
      "\u001b[32m[I 2022-09-24 18:18:14,910]\u001b[0m Trial 0 finished with value: -6.663680616279713 and parameters: {'n_estimators': 790, 'max_depth': 52, 'min_samples_split': 20, 'min_samples_leaf': 11, 'max_features': 'sqrt', 'bootstrap': True}. Best is trial 0 with value: -6.663680616279713.\u001b[0m\n",
      "\u001b[32m[I 2022-09-24 18:18:31,293]\u001b[0m Trial 1 finished with value: -7.093825589681418 and parameters: {'n_estimators': 735, 'max_depth': 78, 'min_samples_split': 10, 'min_samples_leaf': 61, 'max_features': 'sqrt', 'bootstrap': True}. Best is trial 0 with value: -6.663680616279713.\u001b[0m\n",
      "\u001b[32m[I 2022-09-24 18:18:52,595]\u001b[0m Trial 2 finished with value: -6.654685873801054 and parameters: {'n_estimators': 785, 'max_depth': 72, 'min_samples_split': 10, 'min_samples_leaf': 11, 'max_features': 'sqrt', 'bootstrap': True}. Best is trial 2 with value: -6.654685873801054.\u001b[0m\n",
      "\u001b[32m[I 2022-09-24 18:19:13,374]\u001b[0m Trial 3 finished with value: -6.741329416678793 and parameters: {'n_estimators': 780, 'max_depth': 72, 'min_samples_split': 30, 'min_samples_leaf': 21, 'max_features': 'sqrt', 'bootstrap': False}. Best is trial 2 with value: -6.654685873801054.\u001b[0m\n",
      "\u001b[32m[I 2022-09-24 18:19:28,190]\u001b[0m Trial 4 finished with value: -7.074012995814369 and parameters: {'n_estimators': 690, 'max_depth': 64, 'min_samples_split': 25, 'min_samples_leaf': 56, 'max_features': 'log2', 'bootstrap': True}. Best is trial 2 with value: -6.654685873801054.\u001b[0m\n",
      "\u001b[32m[I 2022-09-24 18:19:41,158]\u001b[0m Trial 5 finished with value: -7.1381462258997574 and parameters: {'n_estimators': 655, 'max_depth': 52, 'min_samples_split': 10, 'min_samples_leaf': 96, 'max_features': 'log2', 'bootstrap': False}. Best is trial 2 with value: -6.654685873801054.\u001b[0m\n",
      "\u001b[32m[I 2022-09-24 18:19:54,046]\u001b[0m Trial 6 finished with value: -7.232756483729544 and parameters: {'n_estimators': 630, 'max_depth': 34, 'min_samples_split': 30, 'min_samples_leaf': 96, 'max_features': 'sqrt', 'bootstrap': True}. Best is trial 2 with value: -6.654685873801054.\u001b[0m\n",
      "\u001b[32m[I 2022-09-24 18:20:06,813]\u001b[0m Trial 7 finished with value: -7.170626166707416 and parameters: {'n_estimators': 610, 'max_depth': 50, 'min_samples_split': 25, 'min_samples_leaf': 76, 'max_features': 'log2', 'bootstrap': True}. Best is trial 2 with value: -6.654685873801054.\u001b[0m\n",
      "\u001b[32m[I 2022-09-24 18:20:28,064]\u001b[0m Trial 8 finished with value: -6.471242122450742 and parameters: {'n_estimators': 620, 'max_depth': 74, 'min_samples_split': 5, 'min_samples_leaf': 6, 'max_features': 'sqrt', 'bootstrap': False}. Best is trial 8 with value: -6.471242122450742.\u001b[0m\n",
      "\u001b[32m[I 2022-09-24 18:20:45,451]\u001b[0m Trial 9 finished with value: -6.876841727614885 and parameters: {'n_estimators': 780, 'max_depth': 46, 'min_samples_split': 20, 'min_samples_leaf': 36, 'max_features': 'log2', 'bootstrap': False}. Best is trial 8 with value: -6.471242122450742.\u001b[0m\n",
      "\u001b[32m[I 2022-09-24 18:20:58,170]\u001b[0m Trial 10 finished with value: -6.89067402529095 and parameters: {'n_estimators': 675, 'max_depth': 62, 'min_samples_split': 5, 'min_samples_leaf': 36, 'max_features': 'sqrt', 'bootstrap': False}. Best is trial 8 with value: -6.471242122450742.\u001b[0m\n",
      "\u001b[32m[I 2022-09-24 18:21:29,164]\u001b[0m Trial 11 finished with value: -6.27460616912987 and parameters: {'n_estimators': 730, 'max_depth': 80, 'min_samples_split': 5, 'min_samples_leaf': 1, 'max_features': 'sqrt', 'bootstrap': False}. Best is trial 11 with value: -6.27460616912987.\u001b[0m\n",
      "\u001b[32m[I 2022-09-24 18:22:00,623]\u001b[0m Trial 12 finished with value: -6.284713623771676 and parameters: {'n_estimators': 740, 'max_depth': 80, 'min_samples_split': 5, 'min_samples_leaf': 1, 'max_features': 'sqrt', 'bootstrap': False}. Best is trial 11 with value: -6.27460616912987.\u001b[0m\n",
      "\u001b[32m[I 2022-09-24 18:22:31,886]\u001b[0m Trial 13 finished with value: -6.284620818470746 and parameters: {'n_estimators': 735, 'max_depth': 80, 'min_samples_split': 5, 'min_samples_leaf': 1, 'max_features': 'sqrt', 'bootstrap': False}. Best is trial 11 with value: -6.27460616912987.\u001b[0m\n",
      "\u001b[32m[I 2022-09-24 18:22:47,104]\u001b[0m Trial 14 finished with value: -6.799441873893551 and parameters: {'n_estimators': 730, 'max_depth': 64, 'min_samples_split': 15, 'min_samples_leaf': 26, 'max_features': 'sqrt', 'bootstrap': False}. Best is trial 11 with value: -6.27460616912987.\u001b[0m\n",
      "\u001b[32m[I 2022-09-24 18:23:02,089]\u001b[0m Trial 15 finished with value: -6.73554309631476 and parameters: {'n_estimators': 715, 'max_depth': 30, 'min_samples_split': 15, 'min_samples_leaf': 21, 'max_features': 'sqrt', 'bootstrap': False}. Best is trial 11 with value: -6.27460616912987.\u001b[0m\n"
     ]
    },
    {
     "data": {
      "text/plain": [
       "OptunaSearchCV(cv=10, enable_pruning=False, error_score=nan,\n",
       "               estimator=RandomForestRegressor(bootstrap=True, ccp_alpha=0.0,\n",
       "                                               criterion='mse', max_depth=None,\n",
       "                                               max_features='auto',\n",
       "                                               max_leaf_nodes=None,\n",
       "                                               max_samples=None,\n",
       "                                               min_impurity_decrease=0.0,\n",
       "                                               min_impurity_split=None,\n",
       "                                               min_samples_leaf=1,\n",
       "                                               min_samples_split=2,\n",
       "                                               min_weight_fraction_leaf=0.0,\n",
       "                                               n_estimators=100, n_jobs=N...\n",
       "                                    'max_features': CategoricalDistribution(choices=('sqrt', 'log2')),\n",
       "                                    'min_samples_leaf': IntUniformDistribution(high=96, low=1, step=5),\n",
       "                                    'min_samples_split': IntUniformDistribution(high=30, low=5, step=5),\n",
       "                                    'n_estimators': IntUniformDistribution(high=800, low=600, step=5)},\n",
       "               random_state=12092022, refit=True, return_train_score=False,\n",
       "               scoring='neg_mean_absolute_error', study=None, subsample=1.0,\n",
       "               timeout=300, verbose=0)"
      ]
     },
     "execution_count": 72,
     "metadata": {},
     "output_type": "execute_result"
    }
   ],
   "source": [
    "random_forest_model = RandomForestRegressor()\n",
    "\n",
    "# здесь закоментированы параметры при которых поиск лучшей модели дал лучше результат, просто на всякий случай\n",
    "'''\n",
    "param_distributions_randomforest_optuna = {\n",
    "    'n_estimators': optuna.distributions.IntUniformDistribution(10,1000,10),\n",
    "    'max_depth': optuna.distributions.IntUniformDistribution(2,40,1),\n",
    "    'min_samples_split': optuna.distributions.IntUniformDistribution(20,60,5),\n",
    "    'min_samples_leaf': optuna.distributions.IntUniformDistribution(1, 201, 10),\n",
    "    'max_features': optuna.distributions.CategoricalDistribution(['sqrt','log2']),\n",
    "    'bootstrap' : optuna.distributions.CategoricalDistribution([True, False])}\n",
    "'''\n",
    "param_distributions_randomforest_optuna = {\n",
    "    'n_estimators': optuna.distributions.IntUniformDistribution(600,800,5),\n",
    "    'max_depth': optuna.distributions.IntUniformDistribution(30,80,2),\n",
    "    'min_samples_split': optuna.distributions.IntUniformDistribution(5,30,5),\n",
    "    'min_samples_leaf': optuna.distributions.IntUniformDistribution(1, 100, 5),\n",
    "    'max_features': optuna.distributions.CategoricalDistribution(['sqrt','log2']),\n",
    "    'bootstrap' : optuna.distributions.CategoricalDistribution([True, False])}\n",
    "\n",
    "opt_search_forest = optuna.integration.OptunaSearchCV(random_forest_model, param_distributions_randomforest_optuna, cv=10 , n_trials=100, scoring='neg_mean_absolute_error', timeout=300, random_state=12092022)\n",
    "opt_search_forest.fit(X_train, y_train)"
   ]
  },
  {
   "cell_type": "code",
   "execution_count": 73,
   "metadata": {},
   "outputs": [
    {
     "name": "stdout",
     "output_type": "stream",
     "text": [
      "Лучшее значение метрики для Случайного леса: 6.27460616912987\n"
     ]
    }
   ],
   "source": [
    "print('Лучшее значение метрики для Случайного леса:', abs(opt_search_forest.best_score_))"
   ]
  },
  {
   "cell_type": "code",
   "execution_count": 74,
   "metadata": {},
   "outputs": [],
   "source": [
    "# так же добавим в табличку лучший результат\n",
    "best_model.at['RandomForest','score'] = abs(opt_search_forest.best_score_)"
   ]
  },
  {
   "cell_type": "markdown",
   "metadata": {},
   "source": [
    "### 7.2.1. Важность параметров<a id=\"7.2.1.\"></a>"
   ]
  },
  {
   "cell_type": "markdown",
   "metadata": {},
   "source": [
    "Есть несколько вариантов поиска наиболее значимых параметров. В данном члучае воспользуемся возможностью sklearn предоставленной для модели \"Случайный лес\".  Для это, определим лучшие парметры найденные через Optuna и передадим их в randomforest. После обучения randomforest определим наиболее значимые параметры."
   ]
  },
  {
   "cell_type": "code",
   "execution_count": 75,
   "metadata": {},
   "outputs": [
    {
     "name": "stdout",
     "output_type": "stream",
     "text": [
      "{'n_estimators': 730, 'max_depth': 80, 'min_samples_split': 5, 'min_samples_leaf': 1, 'max_features': 'sqrt', 'bootstrap': False}\n"
     ]
    }
   ],
   "source": [
    "print(opt_search_forest.best_params_)"
   ]
  },
  {
   "cell_type": "code",
   "execution_count": 76,
   "metadata": {},
   "outputs": [
    {
     "data": {
      "text/plain": [
       "730"
      ]
     },
     "execution_count": 76,
     "metadata": {},
     "output_type": "execute_result"
    }
   ],
   "source": [
    "opt_search_forest.best_params_['n_estimators']"
   ]
  },
  {
   "cell_type": "code",
   "execution_count": 77,
   "metadata": {},
   "outputs": [],
   "source": [
    "random_forest_model_2 = RandomForestRegressor(n_estimators = opt_search_forest.best_params_['n_estimators'],\n",
    "                                            max_depth = opt_search_forest.best_params_['max_depth'],\n",
    "                                            min_samples_split = opt_search_forest.best_params_['min_samples_split'],\n",
    "                                            min_samples_leaf = opt_search_forest.best_params_['min_samples_leaf'],\n",
    "                                            max_features = opt_search_forest.best_params_['max_features'],\n",
    "                                            bootstrap = opt_search_forest.best_params_['bootstrap']\n",
    "                                           )"
   ]
  },
  {
   "cell_type": "code",
   "execution_count": 78,
   "metadata": {},
   "outputs": [
    {
     "data": {
      "text/plain": [
       "RandomForestRegressor(bootstrap=False, ccp_alpha=0.0, criterion='mse',\n",
       "                      max_depth=80, max_features='sqrt', max_leaf_nodes=None,\n",
       "                      max_samples=None, min_impurity_decrease=0.0,\n",
       "                      min_impurity_split=None, min_samples_leaf=1,\n",
       "                      min_samples_split=5, min_weight_fraction_leaf=0.0,\n",
       "                      n_estimators=730, n_jobs=None, oob_score=False,\n",
       "                      random_state=None, verbose=0, warm_start=False)"
      ]
     },
     "execution_count": 78,
     "metadata": {},
     "output_type": "execute_result"
    }
   ],
   "source": [
    "random_forest_model_2.fit(X_train, y_train)"
   ]
  },
  {
   "cell_type": "code",
   "execution_count": 79,
   "metadata": {},
   "outputs": [
    {
     "data": {
      "text/plain": [
       "<matplotlib.axes._subplots.AxesSubplot at 0x2566f67a908>"
      ]
     },
     "execution_count": 79,
     "metadata": {},
     "output_type": "execute_result"
    },
    {
     "data": {
      "image/png": "[encoded data removed]",
      "text/plain": [
       "<Figure size 720x576 with 1 Axes>"
      ]
     },
     "metadata": {
      "needs_background": "light"
     },
     "output_type": "display_data"
    }
   ],
   "source": [
    "feature_importance = pd.DataFrame(data = {'importance': random_forest_model_2.feature_importances_}, index = X_train.columns  ).sort_values(by='importance', ascending=True)\n",
    "feature_importance.plot(y='importance', kind='barh', figsize = (10,8))"
   ]
  },
  {
   "cell_type": "markdown",
   "metadata": {},
   "source": [
    "## 7.2. ElasticNet<a id=\"7.2.\"></a>"
   ]
  },
  {
   "cell_type": "code",
   "execution_count": 80,
   "metadata": {},
   "outputs": [],
   "source": [
    "# не забываем про стандаритизацию!\n",
    "scaler = StandardScaler()\n",
    "X_train_scaled = scaler.fit_transform(X_train)\n",
    "X_test_scaled = scaler.transform(X_test)"
   ]
  },
  {
   "cell_type": "code",
   "execution_count": 81,
   "metadata": {},
   "outputs": [
    {
     "name": "stderr",
     "output_type": "stream",
     "text": [
      "C:\\ProgramData\\Anaconda3\\lib\\site-packages\\ipykernel_launcher.py:9: ExperimentalWarning: OptunaSearchCV is experimental (supported from v0.17.0). The interface can change in the future.\n",
      "  if __name__ == '__main__':\n",
      "\u001b[32m[I 2022-09-24 18:23:09,602]\u001b[0m A new study created in memory with name: no-name-77f19630-2fab-41fe-878c-dbfed83e8cd1\u001b[0m\n",
      "\u001b[32m[I 2022-09-24 18:23:09,679]\u001b[0m Trial 0 finished with value: -6.599687379665966 and parameters: {'l1_ratio': 0.9549111928788645, 'alpha': 0.0833442517769575}. Best is trial 0 with value: -6.599687379665966.\u001b[0m\n",
      "\u001b[32m[I 2022-09-24 18:23:09,751]\u001b[0m Trial 1 finished with value: -6.629953308248533 and parameters: {'l1_ratio': 0.643218466569315, 'alpha': 0.017136181876807103}. Best is trial 0 with value: -6.599687379665966.\u001b[0m\n",
      "\u001b[32m[I 2022-09-24 18:23:09,796]\u001b[0m Trial 2 finished with value: -6.601624073508704 and parameters: {'l1_ratio': 0.4107428932786371, 'alpha': 0.04217446517960462}. Best is trial 0 with value: -6.599687379665966.\u001b[0m\n",
      "\u001b[32m[I 2022-09-24 18:23:09,838]\u001b[0m Trial 3 finished with value: -6.611939094077018 and parameters: {'l1_ratio': 0.5302711457659421, 'alpha': 0.02982125601082767}. Best is trial 0 with value: -6.599687379665966.\u001b[0m\n",
      "\u001b[32m[I 2022-09-24 18:23:09,882]\u001b[0m Trial 4 finished with value: -6.866806615902361 and parameters: {'l1_ratio': 0.7108681562803575, 'alpha': 0.8146063283134026}. Best is trial 0 with value: -6.599687379665966.\u001b[0m\n",
      "\u001b[32m[I 2022-09-24 18:23:09,925]\u001b[0m Trial 5 finished with value: -6.63867004065047 and parameters: {'l1_ratio': 0.3447442964897982, 'alpha': 0.19582922027907146}. Best is trial 0 with value: -6.599687379665966.\u001b[0m\n",
      "\u001b[32m[I 2022-09-24 18:23:09,964]\u001b[0m Trial 6 finished with value: -6.629694022488996 and parameters: {'l1_ratio': 0.15242186877647587, 'alpha': 0.010647668257811977}. Best is trial 0 with value: -6.599687379665966.\u001b[0m\n",
      "\u001b[32m[I 2022-09-24 18:23:10,008]\u001b[0m Trial 7 finished with value: -6.617756100887645 and parameters: {'l1_ratio': 0.7095003988639983, 'alpha': 0.029883541371481435}. Best is trial 0 with value: -6.599687379665966.\u001b[0m\n",
      "\u001b[32m[I 2022-09-24 18:23:10,046]\u001b[0m Trial 8 finished with value: -6.649888711536692 and parameters: {'l1_ratio': 0.9198874099189107, 'alpha': 0.4675608656855348}. Best is trial 0 with value: -6.599687379665966.\u001b[0m\n",
      "\u001b[32m[I 2022-09-24 18:23:10,083]\u001b[0m Trial 9 finished with value: -6.623134584312879 and parameters: {'l1_ratio': 0.3651573619121975, 'alpha': 0.016926807673502693}. Best is trial 0 with value: -6.599687379665966.\u001b[0m\n",
      "\u001b[32m[I 2022-09-24 18:23:10,120]\u001b[0m Trial 10 finished with value: -6.592207554895962 and parameters: {'l1_ratio': 0.9837197551490393, 'alpha': 0.10553319992762125}. Best is trial 10 with value: -6.592207554895962.\u001b[0m\n",
      "\u001b[32m[I 2022-09-24 18:23:10,154]\u001b[0m Trial 11 finished with value: -6.586783184306495 and parameters: {'l1_ratio': 0.9413349334733976, 'alpha': 0.10631163874854721}. Best is trial 11 with value: -6.586783184306495.\u001b[0m\n",
      "\u001b[32m[I 2022-09-24 18:23:10,193]\u001b[0m Trial 12 finished with value: -6.5722558388851455 and parameters: {'l1_ratio': 0.8465570618262754, 'alpha': 0.14606613800086105}. Best is trial 12 with value: -6.5722558388851455.\u001b[0m\n",
      "\u001b[32m[I 2022-09-24 18:23:10,231]\u001b[0m Trial 13 finished with value: -6.5653995219002805 and parameters: {'l1_ratio': 0.8441695154546265, 'alpha': 0.22579427158021692}. Best is trial 13 with value: -6.5653995219002805.\u001b[0m\n",
      "\u001b[32m[I 2022-09-24 18:23:10,266]\u001b[0m Trial 14 finished with value: -6.587992669086913 and parameters: {'l1_ratio': 0.8118791369578209, 'alpha': 0.28194628880033346}. Best is trial 13 with value: -6.5653995219002805.\u001b[0m\n",
      "\u001b[32m[I 2022-09-24 18:23:10,298]\u001b[0m Trial 15 finished with value: -6.566647713972792 and parameters: {'l1_ratio': 0.8368791640464269, 'alpha': 0.23273501924202167}. Best is trial 13 with value: -6.5653995219002805.\u001b[0m\n",
      "\u001b[32m[I 2022-09-24 18:23:10,334]\u001b[0m Trial 16 finished with value: -6.628127096978709 and parameters: {'l1_ratio': 0.7963491238027371, 'alpha': 0.3487970108782562}. Best is trial 13 with value: -6.5653995219002805.\u001b[0m\n",
      "\u001b[32m[I 2022-09-24 18:23:10,369]\u001b[0m Trial 17 finished with value: -6.854377744730229 and parameters: {'l1_ratio': 0.5682708419508282, 'alpha': 0.7323235798691236}. Best is trial 13 with value: -6.5653995219002805.\u001b[0m\n",
      "\u001b[32m[I 2022-09-24 18:23:10,403]\u001b[0m Trial 18 finished with value: -6.585542180491045 and parameters: {'l1_ratio': 0.7303446583142745, 'alpha': 0.2250793875836425}. Best is trial 13 with value: -6.5653995219002805.\u001b[0m\n",
      "\u001b[32m[I 2022-09-24 18:23:10,438]\u001b[0m Trial 19 finished with value: -6.6607570739981625 and parameters: {'l1_ratio': 0.8579552900257899, 'alpha': 0.4545330545255826}. Best is trial 13 with value: -6.5653995219002805.\u001b[0m\n",
      "\u001b[32m[I 2022-09-24 18:23:10,471]\u001b[0m Trial 20 finished with value: -6.593793116800387 and parameters: {'l1_ratio': 0.5765719454235724, 'alpha': 0.06549481889792906}. Best is trial 13 with value: -6.5653995219002805.\u001b[0m\n",
      "\u001b[32m[I 2022-09-24 18:23:10,504]\u001b[0m Trial 21 finished with value: -6.571235990034927 and parameters: {'l1_ratio': 0.8527475378697712, 'alpha': 0.14987180146469706}. Best is trial 13 with value: -6.5653995219002805.\u001b[0m\n",
      "\u001b[32m[I 2022-09-24 18:23:10,537]\u001b[0m Trial 22 finished with value: -6.567597194566038 and parameters: {'l1_ratio': 0.8829364007397212, 'alpha': 0.16132473926816907}. Best is trial 13 with value: -6.5653995219002805.\u001b[0m\n",
      "\u001b[32m[I 2022-09-24 18:23:10,570]\u001b[0m Trial 23 finished with value: -6.578713118837446 and parameters: {'l1_ratio': 0.7466517832823373, 'alpha': 0.17197848039788982}. Best is trial 13 with value: -6.5653995219002805.\u001b[0m\n",
      "\u001b[32m[I 2022-09-24 18:23:10,604]\u001b[0m Trial 24 finished with value: -6.672182828249229 and parameters: {'l1_ratio': 0.6509852521562894, 'alpha': 0.37447837098657893}. Best is trial 13 with value: -6.5653995219002805.\u001b[0m\n",
      "\u001b[32m[I 2022-09-24 18:23:10,638]\u001b[0m Trial 25 finished with value: -6.555349064166309 and parameters: {'l1_ratio': 0.8961054667350238, 'alpha': 0.24529817779632956}. Best is trial 25 with value: -6.555349064166309.\u001b[0m\n",
      "\u001b[32m[I 2022-09-24 18:23:10,671]\u001b[0m Trial 26 finished with value: -6.691168288260563 and parameters: {'l1_ratio': 0.9921992052788333, 'alpha': 0.6058851307837242}. Best is trial 25 with value: -6.555349064166309.\u001b[0m\n",
      "\u001b[32m[I 2022-09-24 18:23:10,703]\u001b[0m Trial 27 finished with value: -6.588803398532643 and parameters: {'l1_ratio': 0.7676457763843707, 'alpha': 0.2677282927370299}. Best is trial 25 with value: -6.555349064166309.\u001b[0m\n",
      "\u001b[32m[I 2022-09-24 18:23:10,737]\u001b[0m Trial 28 finished with value: -6.599184653204148 and parameters: {'l1_ratio': 0.898952900054568, 'alpha': 0.07345705139222543}. Best is trial 25 with value: -6.555349064166309.\u001b[0m\n",
      "\u001b[32m[I 2022-09-24 18:23:10,779]\u001b[0m Trial 29 finished with value: -6.855016422239956 and parameters: {'l1_ratio': 0.11015296189790885, 'alpha': 0.5471738887764126}. Best is trial 25 with value: -6.555349064166309.\u001b[0m\n",
      "\u001b[32m[I 2022-09-24 18:23:10,818]\u001b[0m Trial 30 finished with value: -6.638587105617068 and parameters: {'l1_ratio': 0.6356931138735021, 'alpha': 0.3069791831701016}. Best is trial 25 with value: -6.555349064166309.\u001b[0m\n",
      "\u001b[32m[I 2022-09-24 18:23:10,860]\u001b[0m Trial 31 finished with value: -6.578345511003718 and parameters: {'l1_ratio': 0.8996775242392263, 'alpha': 0.12155894917737167}. Best is trial 25 with value: -6.555349064166309.\u001b[0m\n",
      "\u001b[32m[I 2022-09-24 18:23:10,899]\u001b[0m Trial 32 finished with value: -6.5678420357538005 and parameters: {'l1_ratio': 0.8291433594140507, 'alpha': 0.22116065091275522}. Best is trial 25 with value: -6.555349064166309.\u001b[0m\n",
      "\u001b[32m[I 2022-09-24 18:23:10,938]\u001b[0m Trial 33 finished with value: -6.603671081765751 and parameters: {'l1_ratio': 0.8957054502775529, 'alpha': 0.06453697258927703}. Best is trial 25 with value: -6.555349064166309.\u001b[0m\n",
      "\u001b[32m[I 2022-09-24 18:23:10,972]\u001b[0m Trial 34 finished with value: -6.575014565775065 and parameters: {'l1_ratio': 0.9511728143732403, 'alpha': 0.13726407358270862}. Best is trial 25 with value: -6.555349064166309.\u001b[0m\n",
      "\u001b[32m[I 2022-09-24 18:23:11,006]\u001b[0m Trial 35 finished with value: -6.59230332623724 and parameters: {'l1_ratio': 0.6658918183929657, 'alpha': 0.1977652666409414}. Best is trial 25 with value: -6.555349064166309.\u001b[0m\n",
      "\u001b[32m[I 2022-09-24 18:23:11,040]\u001b[0m Trial 36 finished with value: -6.9236533739921295 and parameters: {'l1_ratio': 0.799618187133222, 'alpha': 0.9606452038779539}. Best is trial 25 with value: -6.555349064166309.\u001b[0m\n",
      "\u001b[32m[I 2022-09-24 18:23:11,074]\u001b[0m Trial 37 finished with value: -6.599508071656478 and parameters: {'l1_ratio': 0.4513642504760668, 'alpha': 0.04747494291115837}. Best is trial 25 with value: -6.555349064166309.\u001b[0m\n",
      "\u001b[32m[I 2022-09-24 18:23:11,111]\u001b[0m Trial 38 finished with value: -6.593068984866695 and parameters: {'l1_ratio': 0.5040848889250141, 'alpha': 0.0968771940026425}. Best is trial 25 with value: -6.555349064166309.\u001b[0m\n",
      "\u001b[32m[I 2022-09-24 18:23:11,148]\u001b[0m Trial 39 finished with value: -6.667731920132349 and parameters: {'l1_ratio': 0.2332765203255131, 'alpha': 0.22183287408794217}. Best is trial 25 with value: -6.555349064166309.\u001b[0m\n",
      "\u001b[32m[I 2022-09-24 18:23:11,182]\u001b[0m Trial 40 finished with value: -6.680595372681634 and parameters: {'l1_ratio': 0.7033899276594991, 'alpha': 0.41548003521478194}. Best is trial 25 with value: -6.555349064166309.\u001b[0m\n",
      "\u001b[32m[I 2022-09-24 18:23:11,217]\u001b[0m Trial 41 finished with value: -6.56382482964887 and parameters: {'l1_ratio': 0.8526167014435235, 'alpha': 0.240001649417245}. Best is trial 25 with value: -6.555349064166309.\u001b[0m\n",
      "\u001b[32m[I 2022-09-24 18:23:11,251]\u001b[0m Trial 42 finished with value: -6.5844068136879015 and parameters: {'l1_ratio': 0.7817079330860022, 'alpha': 0.2650646348528122}. Best is trial 25 with value: -6.555349064166309.\u001b[0m\n",
      "\u001b[32m[I 2022-09-24 18:23:11,286]\u001b[0m Trial 43 finished with value: -6.566657138957197 and parameters: {'l1_ratio': 0.8639084388349112, 'alpha': 0.17363821420568806}. Best is trial 25 with value: -6.555349064166309.\u001b[0m\n",
      "\u001b[32m[I 2022-09-24 18:23:11,320]\u001b[0m Trial 44 finished with value: -6.561413779126189 and parameters: {'l1_ratio': 0.9524656059172811, 'alpha': 0.17928806909248762}. Best is trial 25 with value: -6.555349064166309.\u001b[0m\n",
      "\u001b[32m[I 2022-09-24 18:23:11,359]\u001b[0m Trial 45 finished with value: -6.5785257076789705 and parameters: {'l1_ratio': 0.9372581493180421, 'alpha': 0.3012565543857364}. Best is trial 25 with value: -6.555349064166309.\u001b[0m\n",
      "\u001b[32m[I 2022-09-24 18:23:11,401]\u001b[0m Trial 46 finished with value: -6.588326902752821 and parameters: {'l1_ratio': 0.9863458498900556, 'alpha': 0.11504239120998071}. Best is trial 25 with value: -6.555349064166309.\u001b[0m\n",
      "\u001b[32m[I 2022-09-24 18:23:11,445]\u001b[0m Trial 47 finished with value: -6.59842036441519 and parameters: {'l1_ratio': 0.9519334664739273, 'alpha': 0.08523794625021508}. Best is trial 25 with value: -6.555349064166309.\u001b[0m\n",
      "\u001b[32m[I 2022-09-24 18:23:11,482]\u001b[0m Trial 48 finished with value: -6.596607491733023 and parameters: {'l1_ratio': 0.9262572571594818, 'alpha': 0.3443788209174698}. Best is trial 25 with value: -6.555349064166309.\u001b[0m\n",
      "\u001b[32m[I 2022-09-24 18:23:11,520]\u001b[0m Trial 49 finished with value: -6.569574985269068 and parameters: {'l1_ratio': 0.8199716302205454, 'alpha': 0.1935055275389123}. Best is trial 25 with value: -6.555349064166309.\u001b[0m\n",
      "\u001b[32m[I 2022-09-24 18:23:11,551]\u001b[0m Trial 50 finished with value: -6.581768906426601 and parameters: {'l1_ratio': 0.7645091017344573, 'alpha': 0.24670440243283903}. Best is trial 25 with value: -6.555349064166309.\u001b[0m\n",
      "\u001b[32m[I 2022-09-24 18:23:11,582]\u001b[0m Trial 51 finished with value: -6.56754680892162 and parameters: {'l1_ratio': 0.8583741154889168, 'alpha': 0.17037858496738575}. Best is trial 25 with value: -6.555349064166309.\u001b[0m\n",
      "\u001b[32m[I 2022-09-24 18:23:11,614]\u001b[0m Trial 52 finished with value: -6.572402442096168 and parameters: {'l1_ratio': 0.8825361765362668, 'alpha': 0.14034669020354634}. Best is trial 25 with value: -6.555349064166309.\u001b[0m\n",
      "\u001b[32m[I 2022-09-24 18:23:11,649]\u001b[0m Trial 53 finished with value: -6.568541730351515 and parameters: {'l1_ratio': 0.8325862436593511, 'alpha': 0.18382141309738056}. Best is trial 25 with value: -6.555349064166309.\u001b[0m\n",
      "\u001b[32m[I 2022-09-24 18:23:11,680]\u001b[0m Trial 54 finished with value: -6.648896759767153 and parameters: {'l1_ratio': 0.693752662420574, 'alpha': 0.3493552266869837}. Best is trial 25 with value: -6.555349064166309.\u001b[0m\n",
      "\u001b[32m[I 2022-09-24 18:23:11,713]\u001b[0m Trial 55 finished with value: -6.5620389711226155 and parameters: {'l1_ratio': 0.8667439075328265, 'alpha': 0.22044029075119864}. Best is trial 25 with value: -6.555349064166309.\u001b[0m\n",
      "\u001b[32m[I 2022-09-24 18:23:11,744]\u001b[0m Trial 56 finished with value: -6.676693432066346 and parameters: {'l1_ratio': 0.970524681734846, 'alpha': 0.5608136835062076}. Best is trial 25 with value: -6.555349064166309.\u001b[0m\n",
      "\u001b[32m[I 2022-09-24 18:23:11,773]\u001b[0m Trial 57 finished with value: -6.550707067868177 and parameters: {'l1_ratio': 0.9288803093073252, 'alpha': 0.23515925973696733}. Best is trial 57 with value: -6.550707067868177.\u001b[0m\n",
      "\u001b[32m[I 2022-09-24 18:23:11,803]\u001b[0m Trial 58 finished with value: -6.6543377930966745 and parameters: {'l1_ratio': 0.9176937272769301, 'alpha': 0.4764846885160144}. Best is trial 57 with value: -6.550707067868177.\u001b[0m\n",
      "\u001b[32m[I 2022-09-24 18:23:11,837]\u001b[0m Trial 59 finished with value: -6.56601058106236 and parameters: {'l1_ratio': 0.9987874852614714, 'alpha': 0.3022972545301239}. Best is trial 57 with value: -6.550707067868177.\u001b[0m\n",
      "\u001b[32m[I 2022-09-24 18:23:11,870]\u001b[0m Trial 60 finished with value: -6.636064513558 and parameters: {'l1_ratio': 0.7412923936369354, 'alpha': 0.014997522750519628}. Best is trial 57 with value: -6.550707067868177.\u001b[0m\n",
      "\u001b[32m[I 2022-09-24 18:23:11,903]\u001b[0m Trial 61 finished with value: -6.563523568881811 and parameters: {'l1_ratio': 0.9958063904576914, 'alpha': 0.29203307238616283}. Best is trial 57 with value: -6.550707067868177.\u001b[0m\n",
      "\u001b[32m[I 2022-09-24 18:23:11,940]\u001b[0m Trial 62 finished with value: -6.55074949803668 and parameters: {'l1_ratio': 0.9643673967010725, 'alpha': 0.21414649765517438}. Best is trial 57 with value: -6.550707067868177.\u001b[0m\n",
      "\u001b[32m[I 2022-09-24 18:23:11,970]\u001b[0m Trial 63 finished with value: -6.613852276197898 and parameters: {'l1_ratio': 0.9586188636472515, 'alpha': 0.4067028955920407}. Best is trial 57 with value: -6.550707067868177.\u001b[0m\n",
      "\u001b[32m[I 2022-09-24 18:23:11,999]\u001b[0m Trial 64 finished with value: -6.556165249018389 and parameters: {'l1_ratio': 0.9217680341668169, 'alpha': 0.20882816076146732}. Best is trial 57 with value: -6.550707067868177.\u001b[0m\n",
      "\u001b[32m[I 2022-09-24 18:23:12,028]\u001b[0m Trial 65 finished with value: -6.556970537501225 and parameters: {'l1_ratio': 0.9133195543675057, 'alpha': 0.2094327860209421}. Best is trial 57 with value: -6.550707067868177.\u001b[0m\n",
      "\u001b[32m[I 2022-09-24 18:23:12,056]\u001b[0m Trial 66 finished with value: -6.574908882102823 and parameters: {'l1_ratio': 0.922147262439383, 'alpha': 0.1330495011016843}. Best is trial 57 with value: -6.550707067868177.\u001b[0m\n",
      "\u001b[32m[I 2022-09-24 18:23:12,084]\u001b[0m Trial 67 finished with value: -6.559426396465805 and parameters: {'l1_ratio': 0.9046377711271436, 'alpha': 0.19955634253474905}. Best is trial 57 with value: -6.550707067868177.\u001b[0m\n",
      "\u001b[32m[I 2022-09-24 18:23:12,111]\u001b[0m Trial 68 finished with value: -6.567210032439428 and parameters: {'l1_ratio': 0.9081525155116613, 'alpha': 0.15918797965851506}. Best is trial 57 with value: -6.550707067868177.\u001b[0m\n",
      "\u001b[32m[I 2022-09-24 18:23:12,140]\u001b[0m Trial 69 finished with value: -6.553241852800888 and parameters: {'l1_ratio': 0.961617312394571, 'alpha': 0.20625955064783527}. Best is trial 57 with value: -6.550707067868177.\u001b[0m\n",
      "\u001b[32m[I 2022-09-24 18:23:12,168]\u001b[0m Trial 70 finished with value: -6.553176130731309 and parameters: {'l1_ratio': 0.9690539847623377, 'alpha': 0.204893829164178}. Best is trial 57 with value: -6.550707067868177.\u001b[0m\n",
      "\u001b[32m[I 2022-09-24 18:23:12,199]\u001b[0m Trial 71 finished with value: -6.554110921691084 and parameters: {'l1_ratio': 0.9657176216919656, 'alpha': 0.20243673469026233}. Best is trial 57 with value: -6.550707067868177.\u001b[0m\n",
      "\u001b[32m[I 2022-09-24 18:23:12,227]\u001b[0m Trial 72 finished with value: -6.559042667196186 and parameters: {'l1_ratio': 0.9367185374717563, 'alpha': 0.26738489056314746}. Best is trial 57 with value: -6.550707067868177.\u001b[0m\n",
      "\u001b[32m[I 2022-09-24 18:23:12,255]\u001b[0m Trial 73 finished with value: -6.58086645683977 and parameters: {'l1_ratio': 0.9625875710517645, 'alpha': 0.12506815086606618}. Best is trial 57 with value: -6.550707067868177.\u001b[0m\n",
      "\u001b[32m[I 2022-09-24 18:23:12,284]\u001b[0m Trial 74 finished with value: -6.570822033394483 and parameters: {'l1_ratio': 0.9715774306256697, 'alpha': 0.1531328565861575}. Best is trial 57 with value: -6.550707067868177.\u001b[0m\n",
      "\u001b[32m[I 2022-09-24 18:23:12,312]\u001b[0m Trial 75 finished with value: -6.589220431286195 and parameters: {'l1_ratio': 0.9265957957026163, 'alpha': 0.09862269093272787}. Best is trial 57 with value: -6.550707067868177.\u001b[0m\n",
      "\u001b[32m[I 2022-09-24 18:23:12,340]\u001b[0m Trial 76 finished with value: -6.561199786230534 and parameters: {'l1_ratio': 0.8820210435570962, 'alpha': 0.2050250452084122}. Best is trial 57 with value: -6.550707067868177.\u001b[0m\n",
      "\u001b[32m[I 2022-09-24 18:23:12,370]\u001b[0m Trial 77 finished with value: -6.576788650957634 and parameters: {'l1_ratio': 0.999784095311982, 'alpha': 0.3342762241779943}. Best is trial 57 with value: -6.550707067868177.\u001b[0m\n",
      "\u001b[32m[I 2022-09-24 18:23:12,397]\u001b[0m Trial 78 finished with value: -6.542661019514509 and parameters: {'l1_ratio': 0.9688921941009417, 'alpha': 0.2512856810705395}. Best is trial 78 with value: -6.542661019514509.\u001b[0m\n",
      "\u001b[32m[I 2022-09-24 18:23:12,423]\u001b[0m Trial 79 finished with value: -6.540508435788849 and parameters: {'l1_ratio': 0.9747425066215678, 'alpha': 0.24768026091967024}. Best is trial 79 with value: -6.540508435788849.\u001b[0m\n",
      "\u001b[32m[I 2022-09-24 18:23:12,451]\u001b[0m Trial 80 finished with value: -6.540952817015684 and parameters: {'l1_ratio': 0.975735496358447, 'alpha': 0.24522782393676995}. Best is trial 79 with value: -6.540508435788849.\u001b[0m\n",
      "\u001b[32m[I 2022-09-24 18:23:12,480]\u001b[0m Trial 81 finished with value: -6.540888831506058 and parameters: {'l1_ratio': 0.9724192651122209, 'alpha': 0.24792416706257156}. Best is trial 79 with value: -6.540508435788849.\u001b[0m\n",
      "\u001b[32m[I 2022-09-24 18:23:12,507]\u001b[0m Trial 82 finished with value: -6.54171937186125 and parameters: {'l1_ratio': 0.9750589497471641, 'alpha': 0.2426335348416766}. Best is trial 79 with value: -6.540508435788849.\u001b[0m\n",
      "\u001b[32m[I 2022-09-24 18:23:12,534]\u001b[0m Trial 83 finished with value: -6.551397446056174 and parameters: {'l1_ratio': 0.9756900187950464, 'alpha': 0.26400193813833356}. Best is trial 79 with value: -6.540508435788849.\u001b[0m\n",
      "\u001b[32m[I 2022-09-24 18:23:12,559]\u001b[0m Trial 84 finished with value: -6.6844253816203265 and parameters: {'l1_ratio': 0.26559932133815856, 'alpha': 0.26351318316621647}. Best is trial 79 with value: -6.540508435788849.\u001b[0m\n",
      "\u001b[32m[I 2022-09-24 18:23:12,587]\u001b[0m Trial 85 finished with value: -6.598593030604709 and parameters: {'l1_ratio': 0.9847718636648883, 'alpha': 0.38370634320153546}. Best is trial 79 with value: -6.540508435788849.\u001b[0m\n",
      "\u001b[32m[I 2022-09-24 18:23:12,615]\u001b[0m Trial 86 finished with value: -6.584109452356278 and parameters: {'l1_ratio': 0.9440331825664576, 'alpha': 0.3214107365255168}. Best is trial 79 with value: -6.540508435788849.\u001b[0m\n",
      "\u001b[32m[I 2022-09-24 18:23:12,644]\u001b[0m Trial 87 finished with value: -6.641547504798301 and parameters: {'l1_ratio': 0.9786615336076805, 'alpha': 0.487393045280022}. Best is trial 79 with value: -6.540508435788849.\u001b[0m\n",
      "\u001b[32m[I 2022-09-24 18:23:12,676]\u001b[0m Trial 88 finished with value: -6.5567862516526745 and parameters: {'l1_ratio': 0.8883931607405365, 'alpha': 0.2464887368286888}. Best is trial 79 with value: -6.540508435788849.\u001b[0m\n",
      "\u001b[32m[I 2022-09-24 18:23:12,705]\u001b[0m Trial 89 finished with value: -6.568588801720243 and parameters: {'l1_ratio': 0.9424632143279237, 'alpha': 0.2822572634339455}. Best is trial 79 with value: -6.540508435788849.\u001b[0m\n",
      "\u001b[32m[I 2022-09-24 18:23:12,733]\u001b[0m Trial 90 finished with value: -6.540734611149823 and parameters: {'l1_ratio': 0.9780055491387315, 'alpha': 0.24450076514064822}. Best is trial 79 with value: -6.540508435788849.\u001b[0m\n",
      "\u001b[32m[I 2022-09-24 18:23:12,762]\u001b[0m Trial 91 finished with value: -6.541419320346918 and parameters: {'l1_ratio': 0.9805265505630353, 'alpha': 0.24034465944743647}. Best is trial 79 with value: -6.540508435788849.\u001b[0m\n",
      "\u001b[32m[I 2022-09-24 18:23:12,791]\u001b[0m Trial 92 finished with value: -6.5395961971126555 and parameters: {'l1_ratio': 0.9796971857678913, 'alpha': 0.24756274427823913}. Best is trial 92 with value: -6.5395961971126555.\u001b[0m\n",
      "\u001b[32m[I 2022-09-24 18:23:12,820]\u001b[0m Trial 93 finished with value: -6.54757422317976 and parameters: {'l1_ratio': 0.9421530315599149, 'alpha': 0.24077613838676987}. Best is trial 92 with value: -6.5395961971126555.\u001b[0m\n",
      "\u001b[32m[I 2022-09-24 18:23:12,852]\u001b[0m Trial 94 finished with value: -6.547683935565503 and parameters: {'l1_ratio': 0.9395789430512764, 'alpha': 0.24312472319008116}. Best is trial 92 with value: -6.5395961971126555.\u001b[0m\n",
      "\u001b[32m[I 2022-09-24 18:23:12,882]\u001b[0m Trial 95 finished with value: -6.588476528235844 and parameters: {'l1_ratio': 0.9999483697053313, 'alpha': 0.36623648737110065}. Best is trial 92 with value: -6.5395961971126555.\u001b[0m\n",
      "\u001b[32m[I 2022-09-24 18:23:12,912]\u001b[0m Trial 96 finished with value: -6.585796799132514 and parameters: {'l1_ratio': 0.9430901820562636, 'alpha': 0.32549341810099786}. Best is trial 92 with value: -6.5395961971126555.\u001b[0m\n",
      "\u001b[32m[I 2022-09-24 18:23:12,943]\u001b[0m Trial 97 finished with value: -6.645341028904983 and parameters: {'l1_ratio': 0.8914997609979309, 'alpha': 0.4400445084416614}. Best is trial 92 with value: -6.5395961971126555.\u001b[0m\n",
      "\u001b[32m[I 2022-09-24 18:23:12,973]\u001b[0m Trial 98 finished with value: -6.565068707771948 and parameters: {'l1_ratio': 0.8767159439027477, 'alpha': 0.17759063706815806}. Best is trial 92 with value: -6.5395961971126555.\u001b[0m\n",
      "\u001b[32m[I 2022-09-24 18:23:13,001]\u001b[0m Trial 99 finished with value: -6.5414108615272 and parameters: {'l1_ratio': 0.9826605019100462, 'alpha': 0.23918449453354182}. Best is trial 92 with value: -6.5395961971126555.\u001b[0m\n"
     ]
    },
    {
     "data": {
      "text/plain": [
       "OptunaSearchCV(cv=10, enable_pruning=False, error_score=nan,\n",
       "               estimator=ElasticNet(alpha=1.0, copy_X=True, fit_intercept=True,\n",
       "                                    l1_ratio=0.5, max_iter=1000,\n",
       "                                    normalize=False, positive=False,\n",
       "                                    precompute=False, random_state=None,\n",
       "                                    selection='cyclic', tol=0.0001,\n",
       "                                    warm_start=False),\n",
       "               max_iter=1000, n_jobs=1, n_trials=100,\n",
       "               param_distributions={'alpha': LogUniformDistribution(high=1.0, low=0.01),\n",
       "                                    'l1_ratio': UniformDistribution(high=1.0, low=0.1)},\n",
       "               random_state=12092022, refit=True, return_train_score=False,\n",
       "               scoring='neg_mean_absolute_error', study=None, subsample=1.0,\n",
       "               timeout=60, verbose=0)"
      ]
     },
     "execution_count": 81,
     "metadata": {},
     "output_type": "execute_result"
    }
   ],
   "source": [
    "elastic_net = ElasticNet()\n",
    "\n",
    "# Зададим параметры для OPTUNA\n",
    "param_distributions_elastic_net_optuna = {\n",
    "    'l1_ratio': optuna.distributions.UniformDistribution(0.1, 1),\n",
    "    'alpha': optuna.distributions.LogUniformDistribution(0.01, 1) \n",
    "    }\n",
    "\n",
    "opt_search_elastic_net = optuna.integration.OptunaSearchCV(elastic_net, param_distributions_elastic_net_optuna, cv=10 , n_trials=100, scoring='neg_mean_absolute_error', timeout=60, random_state=12092022)\n",
    "\n",
    "opt_search_elastic_net.fit(X_train_scaled, y_train)"
   ]
  },
  {
   "cell_type": "code",
   "execution_count": 82,
   "metadata": {},
   "outputs": [],
   "source": [
    "# так же добавим в табличку лучший результат\n",
    "best_model.at['ElasticNet','score'] = abs(opt_search_elastic_net.best_score_)"
   ]
  },
  {
   "cell_type": "markdown",
   "metadata": {},
   "source": [
    "# 8. Итоговый результат и выводы<a id=\"8.\"></a>"
   ]
  },
  {
   "cell_type": "markdown",
   "metadata": {},
   "source": [
    "# 8.1. Итоговый рейтинг<a id=\"8.1.\"></a>"
   ]
  },
  {
   "cell_type": "markdown",
   "metadata": {},
   "source": [
    "Сравним результаты."
   ]
  },
  {
   "cell_type": "code",
   "execution_count": 83,
   "metadata": {},
   "outputs": [
    {
     "data": {
      "text/html": [
       "<div>\n",
       "<style scoped>\n",
       "    .dataframe tbody tr th:only-of-type {\n",
       "        vertical-align: middle;\n",
       "    }\n",
       "\n",
       "    .dataframe tbody tr th {\n",
       "        vertical-align: top;\n",
       "    }\n",
       "\n",
       "    .dataframe thead th {\n",
       "        text-align: right;\n",
       "    }\n",
       "</style>\n",
       "<table border=\"1\" class=\"dataframe\">\n",
       "  <thead>\n",
       "    <tr style=\"text-align: right;\">\n",
       "      <th></th>\n",
       "      <th>score</th>\n",
       "    </tr>\n",
       "  </thead>\n",
       "  <tbody>\n",
       "    <tr>\n",
       "      <th>LightGBM</th>\n",
       "      <td>6.030459</td>\n",
       "    </tr>\n",
       "    <tr>\n",
       "      <th>RandomForest</th>\n",
       "      <td>6.274606</td>\n",
       "    </tr>\n",
       "    <tr>\n",
       "      <th>ElasticNet</th>\n",
       "      <td>6.539596</td>\n",
       "    </tr>\n",
       "  </tbody>\n",
       "</table>\n",
       "</div>"
      ],
      "text/plain": [
       "                 score\n",
       "LightGBM      6.030459\n",
       "RandomForest  6.274606\n",
       "ElasticNet    6.539596"
      ]
     },
     "execution_count": 83,
     "metadata": {},
     "output_type": "execute_result"
    }
   ],
   "source": [
    "# если дропнуть bulk_2, bulk_7, bulk_9\n",
    "best_model.sort_values('score')"
   ]
  },
  {
   "cell_type": "markdown",
   "metadata": {},
   "source": [
    "Как видно лидирует модель LightGBM. Отлично. Посмотрим что она покажет на отложенной тестовой выборке."
   ]
  },
  {
   "cell_type": "code",
   "execution_count": 84,
   "metadata": {},
   "outputs": [
    {
     "name": "stdout",
     "output_type": "stream",
     "text": [
      "MAE для LightGBM = 6.606191093771819\n"
     ]
    }
   ],
   "source": [
    "opt_search_lightgbm_prediction = opt_search_lightgbm.best_estimator_.predict(X_test)\n",
    "opt_search_lightgbm_prediction_score = mean_absolute_error(y_test, opt_search_lightgbm_prediction)\n",
    "print('MAE для LightGBM =', opt_search_lightgbm_prediction_score)"
   ]
  },
  {
   "cell_type": "markdown",
   "metadata": {},
   "source": [
    "Кхм, результат похуже, но в целом в необхоимый диапазон укаладывается."
   ]
  },
  {
   "cell_type": "markdown",
   "metadata": {},
   "source": [
    "Но, заглянем в дргуни модели. интересно же.."
   ]
  },
  {
   "cell_type": "code",
   "execution_count": 85,
   "metadata": {},
   "outputs": [
    {
     "name": "stdout",
     "output_type": "stream",
     "text": [
      "MAE для RandomForest =  6.762555336695836\n"
     ]
    }
   ],
   "source": [
    "opt_search_forest_prediction = opt_search_forest.best_estimator_.predict(X_test)\n",
    "opt_search_forest_prediction_score = mean_absolute_error(y_test, opt_search_forest_prediction)\n",
    "print('MAE для RandomForest = ', opt_search_forest_prediction_score)"
   ]
  },
  {
   "cell_type": "code",
   "execution_count": 86,
   "metadata": {},
   "outputs": [
    {
     "name": "stdout",
     "output_type": "stream",
     "text": [
      "MAE для ElasticNet =  6.742262669006228\n"
     ]
    }
   ],
   "source": [
    "opt_search_elastic_net_prediction = opt_search_elastic_net.best_estimator_.predict(X_test_scaled)\n",
    "opt_search_elastic_net_prediction_score = mean_absolute_error(y_test, opt_search_elastic_net_prediction)\n",
    "print('MAE для ElasticNet = ', opt_search_elastic_net_prediction_score)"
   ]
  },
  {
   "cell_type": "markdown",
   "metadata": {},
   "source": [
    "\"Штош\", рейтинг моделей на тестовой выборке остался тем же, а ElasticNet все еще попадает в необходимый диапазон. Но тут важно отметить, что если дать Optun-е больше времни на поиск гиперпараметров, то результат можно еще улчшить. Но в целях экономии времени на прогон кода при проверке задания было принято решение пожертвовать качеством в пользу времени. Такое бывает, крутая но бесконечно-долгая модель думаю интересна только возможно в научных целях. \n"
   ]
  },
  {
   "cell_type": "markdown",
   "metadata": {},
   "source": [
    "<div class=\"alert alert-block alert-info\">\n",
    "<b>Комментарий студента:</b> Николй, спасибо за подробные комментарии. Очень много действительно дельных идей, к размышлению над которыми вернусь когда все сдам). Отчет приведен после выводов. \n",
    "</div>"
   ]
  },
  {
   "cell_type": "markdown",
   "metadata": {},
   "source": [
    "# 8.2. Выводы<a id=\"8.2.\"></a>"
   ]
  },
  {
   "cell_type": "markdown",
   "metadata": {},
   "source": [
    "В рамках настоящего проекта \n",
    "\n",
    "**Проделана следующая работа**:\n",
    "1. Проведена очистка данных\n",
    "2. Проведен предварительный анализ данных на аномалии, пропуски, выбросы\n",
    "3. Исходные данные при необходимости сгруппированы по партиям и объединены в единую таблицу с общим набором признаков\n",
    "4. Проведена проверка на мультиколлинеарность\n",
    "5. На тренироваочной выборке обучено три модели и выбрана лучшая\n",
    "6. На тестовой выборке сделан прогноз при помощи лучшей модели. Необхоимый по условиям задания порог достигнут.\n",
    "7. Опциональным шагом на стестовой выборке так же сдлан прогноз с использованием других моделей\n",
    "8. Определены наиболее значимые признаки\n",
    "\n",
    "**Сделаны следующие выводы**\n",
    "1. Модель на базе градиентного бустинга дала лучшие результаты. MAE на тестовой выборке составила 6.60\n",
    "2. К наиболее значимым признакам датасета можно отнести:\n",
    "    1. энергетические параметры, что логично, т.к. при помощи электрической мощности производится нагрев\n",
    "    2. первичную температуру, что в целом выглядит странно, т.к. в предварительной оценке скоррлированности данных парамтров значение было не высоким (0.37)\n",
    "    3. проволочные материалы wire_1\n",
    "    4. присадки 12,14,15 (что вероятно можно объяснить особенностями протекния химической реакции, но за неимением названий присадок что-то говорить наверняка сложно)\n",
    "    5. газ\n",
    "3. Ряд признаков скоррелирован друг сдругом, что вероятно смогли бы объяснить технологи. Здесь надо отмтетиь что в данной верисии проекта остался вариант с удаленными высокскоррелированными признаками, но для градиантного бустинга это никак не повлияло на результат, для линейной модели немного улучшило, что с одной стороны логично (т.к. линейные модели чувствительны к скоррелированности), с другой Elastic_Net это позволяет обходить, но, видимо, на эксперимент надо было потратить больше времени), а вот для Случайного леса даже ухудшило. Общий вывод по данному пункту - все ситуативно.\n",
    "4. Optuna при ограниченных временных ресурсах дает вполне приличные результаты. При этом, стоит отметить, что если дать время на обучение градиентного бустинга порядка 10 минут и раскомментировать параметры, результат будет на несколько десятых лучше. Но с учетом того что необходимсый порог достигнут, приоритет отдан в пользу быстродействия."
   ]
  },
  {
   "cell_type": "markdown",
   "metadata": {},
   "source": [
    "----\n",
    "----\n",
    "----"
   ]
  },
  {
   "cell_type": "markdown",
   "metadata": {},
   "source": [
    "# Отчет"
   ]
  },
  {
   "cell_type": "markdown",
   "metadata": {},
   "source": [
    "# 1. Введение\n",
    "Чтобы оптимизировать производственные расходы, металлургический комбинат ООО «Так закаляем сталь» решил уменьшить потребление электроэнергии на этапе обработки стали. В рамках проекта необходимо построить модель, которая предскажет температуру стали и определить наиболее влияющие на температуру параметры. \n",
    "\n",
    "# 2. Описание этапа обработки\n",
    "\n",
    "Сталь обрабатывают в металлическом ковше вместимостью около 100 тонн. Чтобы ковш выдерживал высокие температуры, изнутри его облицовывают огнеупорным кирпичом. Расплавленную сталь заливают в ковш и подогревают до нужной температуры графитовыми электродами. Они установлены в крышке ковша. \n",
    "\n",
    "Из сплава выводится сера (десульфурация), добавлением примесей корректируется химический состав и отбираются пробы. Сталь легируют — изменяют её состав — подавая куски сплава из бункера для сыпучих материалов или проволоку через специальный трайб-аппарат (англ. tribe, «масса»).\n",
    "\n",
    "Перед тем как первый раз ввести легирующие добавки, измеряют температуру стали и производят её химический анализ. Потом температуру на несколько минут повышают, добавляют легирующие материалы и продувают сплав инертным газом. Затем его перемешивают и снова проводят измерения. Такой цикл повторяется до достижения целевого химического состава и оптимальной температуры плавки.\n",
    "\n",
    "Тогда расплавленная сталь отправляется на доводку металла или поступает в машину непрерывной разливки. Оттуда готовый продукт выходит в виде заготовок-слябов (англ. *slab*, «плита»).\n",
    "\n",
    "\n",
    "# 3. Цели и задачи проекта\n",
    "Обеспечение возможности прогнозирования температуры плавления позволит бизнесу иметь возможность управлять процессом выплавки стали, что обеспечит:\n",
    "1. Экономию на энергоресурсах и затрачиваемых материалах\n",
    "2. Понизить амортизацию ковша (и возможно, другого оборудования), что позволит \n",
    "\t1. уменьшить количество ремонтных работ за период времени (экономия на ремонте)\n",
    "\t2. снизить время простоя ковша (уменьшение упущенной выгоды)\n",
    "\t \n",
    "# 4. Описание решения (что было сделано)\n",
    "\n",
    "В рамках настоящего проекта Проделана следующая работа:\n",
    "1. Проведена очистка данных\n",
    "2. Проведен предварительный анализ данных на аномалии, пропуски, выбросы\n",
    "3. Исходные данные при необходимости сгруппированы по партиям и объединены в единую таблицу с общим набором признаков\n",
    "4. Проведена проверка на мультиколлинеарность\n",
    "5. На тренировочной выборке обучено три модели и выбрана лучшая\n",
    "6. На тестовой выборке сделан прогноз при помощи лучшей модели. Необходимый по условиям задания порог достигнут.\n",
    "7. Опциональным шагом на тестовой выборке так же сделан прогноз с использованием других моделей\n",
    "8. Определены наиболее значимые признаки\n",
    "\n",
    "\n",
    "# 5. Результат решения (модель, параметры, метрика) \n",
    "## 5.1. Результат\n",
    "Результатом решения поставленной задачи является модель основанная на принципе градиентного бустинга (LightGBM), с  гиперпараметрами, подобранными при помощи фреймворка Optuna. \n",
    "\n",
    "## 5.2. Параметры модели\n",
    "Наилучшими параметрами оказались:\n",
    "```json\n",
    "{\n",
    "  'n_estimators': 1090, \n",
    "  'max_depth': 98, \n",
    "  'learning_rate': 0.004013988038408687\n",
    "}\n",
    "```\n",
    "\n",
    "## 5.3. Метрика\n",
    "В качестве метрики модели использовалось среднее абсолютная ошибка Mean Absolute Error \n",
    "$$\n",
    "MAE = \\frac{1}{N}\\sum_{i=1}^n|y_i-\\hat{y_i}|\n",
    "$$\n",
    "Основное достоинство данной метрики в ее \"читаемости\". Она интуитивно понятна любому человеку - насколько в данному случае градусов в среднем ошибается модель с прогнозом. Зная необходимое значение температуры данная метрика является, пожалуй наиболее удобной.\n",
    "\n",
    "# 6. Параметры датасета, важность признаков.\n",
    "## 6.1. Исходные данные\n",
    "В качестве исходных данных были предоставлены следующие данные:\n",
    "- data_arc.csv — данные об электродах;\n",
    "- data_bulk.csv — данные о подаче сыпучих материалов (объём); \n",
    "- data_bulk_time.csv — данные о подаче сыпучих материалов (время); \n",
    "- data_gas.csv — данные о продувке сплава газом;\n",
    "- data_temp.csv — результаты измерения температуры;\n",
    "- data_wire.csv — данные о проволочных материалах (объём);\n",
    "- data_wire_time.csv — данные о проволочных материалах (время).\n",
    "\n",
    "## 6.2. Предподготовка данных\n",
    "По каждому из исходных файлов были проведены следующие действия (чекбоксы можно считать заполненными):\n",
    "\n",
    "### 6.2.1. Данные об электродах (data_arc.csv)\n",
    "- [ ] Переименование столбцов\n",
    "    - \"Начало нагрева дугой\" -> \"arc_start_time\"\n",
    "    - \"Конец нагрева дугой\" -> \"arc_end_time\"\n",
    "    - \"Активаная мощность\" -> \"arc_active_power\"\n",
    "- [ ]  Удалить столбец \"Реактивная мощность\", т.к. на нагрев она не влияет\n",
    "- [ ] Просуммировать мощность по каждой партии\n",
    "- [ ] Как вариант (опционально), можно создать новый столбец work = (end_time - start_time)\\*vactive_power и просуммировать значения по ключу из данного столбца\n",
    "- [ ] Замены пропусков не требуется\n",
    "\n",
    "### 6.2.2. Данные о подаче сыпучих материалов (объем) (data_bulk.csv) \n",
    "- [ ] Переименовать столбцы (\"Bulk 1\" -> \"bulk_1\" и т.д.)\n",
    "- [ ] Заполнить пропуски нулями. (если значение отсутствует, значит присадку не дабавляли, значит значение д.б. 0)\n",
    "\n",
    "### 6.2.3. Данные о продувке сплава газом (data_gas.csv)\n",
    "- [ ] Переименовать столбец (\"Газ 1\" -> \"gas\")\n",
    "- [ ] Суммирования значений по партии (ключу) не требуется\n",
    "- [ ] Замены пропусков не требуется\n",
    "\n",
    "### 6.2.4. Результаты измерения температуры (целевой признак) (data_temp.csv)\n",
    "- [ ] Поскольку в конечном итоге необходимо \"развернуть\" таблицу, так чтобы первое и последние значения температуры были в одной строке, преобразуем таблицу сразу и дальнейшие манипуляции со начениями будем проводить уже в таблице где для одной партии (ключа) только одна строка, а партии указаны в столбцах\n",
    "- [ ] Удалим записи с пропущенным значением в первой (при наличии)\n",
    "- [ ] Удалим записи с одинаковым значением для первой и последней партии\n",
    "- [ ] Удалим записи где только один раз встречается значение температуры\n",
    "- [ ] Удалим промежуточные записи между первой и последней партиями\n",
    "\n",
    "### 6.2.5.Данные о проволочных материалах (объём) (data_wire.csv)\n",
    "- [ ] Переименовать столбцы \"Wire 1\"-> \"wire_1\"  и т.д.\n",
    "- [ ] Заполнить пропуски нулями.\n",
    "\n",
    "\n",
    "## 6.3. Важность признаков. Параметры подготовленного датасета\n",
    "Для получения датасета, предназначенного для обучения модели после предобработки данны, проведенных на предыдущем шаге все датасеты были объединены в один и получен  список признаков приведенный на рис. 1. \n",
    "\n",
    "На данном рисунке приведены параметры датасета, отсортированные в порядке значимости при обучении модели типа \"Случайный лес\".\n",
    "\n",
    "Рис.1 Список признаков, проранжированный в порядке важности при обучении модели.\n",
    "![[Pasted image 20220924220209.png]]\n",
    "\n",
    "\n",
    "# 7. Основные выводы\n",
    "Основные факторы, влияющие на температуру это первоначальная температура и энергетические характеристики (электрическая мощность). Управляя ими можно в значительной степени управлять энергоэффективностью сталелитейного производства.\n",
    "\n",
    "# 8. Заключение\n",
    "- **Какие пункты плана были выполнены, а какие — нет (поясните почему)?**\n",
    "В рамках данного отчета были даны ответы на следующие вопросы были выполнены все пункты изначально намеченного плана. К нюансам реализации можно отнести предобработку датсета data_temp.csv, т.к. в процессе было принято решение о изменении порядка операций: сперва перевод в \"горизонтальный\" вид, затем уже работа в пределах строк. В качестве альтернативного подхода, можно было бы применить оконные функции (если через SQL) или rolling если оставаться в рамках Panads\n",
    "\n",
    "-  **Какие трудности возникли и как вы их преодолели?**\n",
    "Особых трудностей в процессе не было. Задача в целом типовая, но достаточно объемная. Просто пришлось достаточно много \"повозиться\"\n",
    "\n",
    "- **Какие ключевые шаги в решении задачи выделили?**\n",
    "Сточки зрения выполненных работ к ключевым шагам можно отнести очистку и объединение данных, в первую очередь (анализ не включаю, т.к. принципиально ничего значимого он не дал, разве что понимание и уверенность что с ними все ок). Обучение модели, тестирование и выводы так же можно считать ключевыми шагами в работе.\n",
    "С точки зрения бизнеса самым важным является перечень наиболее значимых параметров. Это то, на что влияя бизнес может снижать свои расходы и издержки.\n",
    "\n",
    "- **Какая ваша итоговая модель и какое у неё качество?**\n",
    "Итоговая модель - LightGBM с метрикой качества MAE = 6.6. Более подробно см. п.5"
   ]
  }
 ],
 "metadata": {
  "ExecuteTimeLog": [
   {
    "duration": 656,
    "start_time": "2022-09-23T09:14:31.494Z"
   },
   {
    "duration": 123,
    "start_time": "2022-09-23T09:14:32.151Z"
   },
   {
    "duration": 197,
    "start_time": "2022-09-23T09:14:51.735Z"
   },
   {
    "duration": 23,
    "start_time": "2022-09-23T09:22:03.421Z"
   },
   {
    "duration": 7,
    "start_time": "2022-09-23T09:22:04.145Z"
   },
   {
    "duration": 16,
    "start_time": "2022-09-23T09:24:16.994Z"
   },
   {
    "duration": 8,
    "start_time": "2022-09-23T09:24:18.116Z"
   },
   {
    "duration": 1363,
    "start_time": "2022-09-24T17:54:50.155Z"
   },
   {
    "duration": 0,
    "start_time": "2022-09-24T17:54:51.520Z"
   },
   {
    "duration": 3275,
    "start_time": "2022-09-24T17:54:59.142Z"
   },
   {
    "duration": 203,
    "start_time": "2022-09-24T17:55:07.094Z"
   },
   {
    "duration": 22,
    "start_time": "2022-09-24T17:55:13.505Z"
   },
   {
    "duration": 7,
    "start_time": "2022-09-24T17:55:14.869Z"
   },
   {
    "duration": 26,
    "start_time": "2022-09-24T17:55:24.200Z"
   },
   {
    "duration": 5,
    "start_time": "2022-09-24T17:55:25.093Z"
   },
   {
    "duration": 14,
    "start_time": "2022-09-24T17:55:34.803Z"
   },
   {
    "duration": 8,
    "start_time": "2022-09-24T17:55:35.407Z"
   },
   {
    "duration": 20,
    "start_time": "2022-09-24T17:55:40.928Z"
   },
   {
    "duration": 8,
    "start_time": "2022-09-24T17:55:41.296Z"
   }
  ],
  "kernelspec": {
   "display_name": "Python 3 (ipykernel)",
   "language": "python",
   "name": "python3"
  },
  "language_info": {
   "codemirror_mode": {
    "name": "ipython",
    "version": 3
   },
   "file_extension": ".py",
   "mimetype": "text/x-python",
   "name": "python",
   "nbconvert_exporter": "python",
   "pygments_lexer": "ipython3",
   "version": "3.9.5"
  },
  "toc": {
   "base_numbering": 1,
   "nav_menu": {},
   "number_sections": true,
   "sideBar": true,
   "skip_h1_title": true,
   "title_cell": "Table of Contents",
   "title_sidebar": "Contents",
   "toc_cell": false,
   "toc_position": {},
   "toc_section_display": true,
   "toc_window_display": false
  }
 },
 "nbformat": 4,
 "nbformat_minor": 4
}
