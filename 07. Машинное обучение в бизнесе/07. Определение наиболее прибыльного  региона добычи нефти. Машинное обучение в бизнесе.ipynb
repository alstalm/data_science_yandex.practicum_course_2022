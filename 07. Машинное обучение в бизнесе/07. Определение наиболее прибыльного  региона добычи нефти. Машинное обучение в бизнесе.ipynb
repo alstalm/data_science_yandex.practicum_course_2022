{
 "cells": [
  {
   "cell_type": "markdown",
   "metadata": {},
   "source": [
    "# Определение наиболее прибыльного региона добычи нефти"
   ]
  },
  {
   "cell_type": "code",
   "execution_count": 1,
   "metadata": {},
   "outputs": [],
   "source": [
    "import pandas as pd\n",
    "from sklearn.model_selection import train_test_split, StratifiedKFold, RandomizedSearchCV\n",
    "from sklearn.linear_model import LinearRegression\n",
    "from sklearn.preprocessing import StandardScaler\n",
    "from sklearn.metrics import mean_squared_error\n",
    "import os\n",
    "import numpy as np\n",
    "from scipy import stats as st"
   ]
  },
  {
   "cell_type": "markdown",
   "metadata": {
    "pycharm": {
     "name": "#%% md\n"
    }
   },
   "source": [
    "# Оглавление"
   ]
  },
  {
   "cell_type": "markdown",
   "metadata": {
    "jupyter": {
     "outputs_hidden": false
    },
    "pycharm": {
     "name": "#%% md\n"
    }
   },
   "source": [
    "- [1. Введение](#1.)\n",
    "- [1.1. Описание данных](#1.1.)\n",
    "- [1.2. Описание проекта](#1.2.)\n",
    "- [1.3. Условия задачи](#1.3.)\n",
    "- [1.4. Исследование и подготовка данных](#1.4.)\n",
    "- [2. Машинное обучение](#2.)\n",
    "- [2.1. Прогнозирование объём запасов в скважинах региона 1](#2.1.)\n",
    "- [2.2. Прогнозирование объём запасов в скважинах региона 2](#2.2.)\n",
    "- [2.3. Прогнозирование объём запасов в скважинах региона 3](#2.3.)\n",
    "- [2.4. Анализ результатов по всем регионам](#2.4.)\n",
    "- [2.4.1. Регион 1](#2.4.1.)\n",
    "- [2.4.2. Регион 2](#2.4.2.)\n",
    "- [2.4.3. Регион 3](#2.4.3.)\n",
    "- [2.4.4. Выводы](#2.4.4.)\n",
    "- [3. Расчет прибыли](#3.)\n",
    "- [3.1. Средний запас сырья](#3.1.)\n",
    "- [3.2. Достаточный объём сырья для безубыточной разработки новой скважины](#3.2.)\n",
    "- [3.3. Количество скважин для безубыточной добычи (дополнительный пункт. не из задания)](#3.3.)\n",
    "- [4. Риски и прибыль для каждого региона](#4.)\n",
    "- [4.1. Функции для проведения bootstrap и расчета прибыли](#4.1.)\n",
    "- [4.1.1. Функция расчета прибыли](#4.1.1.)\n",
    "- [4.1.2. Функция для проведения bootstrap](#4.1.2.)\n",
    "- [4.2. Bootstrap](#4.2.)\n",
    "- [4.3. Средняя прибыль](#4.3.)\n",
    "- [4.4. Доверительный интервал](#4.4.)\n",
    "- [4.5. Вероятность убытка](#4.5.)\n",
    "- [5. Выводы](#5.)"
   ]
  },
  {
   "cell_type": "markdown",
   "metadata": {
    "pycharm": {
     "name": "#%% md\n"
    }
   },
   "source": [
    "# 1. Введение\n",
    "<a id=\"1.\"></a>"
   ]
  },
  {
   "cell_type": "markdown",
   "metadata": {
    "pycharm": {
     "name": "#%% md\n"
    }
   },
   "source": [
    "## 1.1. Описание данных\n",
    "<a id=\"1.1.\"></a>\n",
    "\n",
    "**Признаки**\n",
    "- id — уникальный идентификатор скважины;\n",
    "- f0, f1, f2 — три признака точек (неважно, что они означают, но сами признаки значимы);\n",
    "- product — объём запасов в скважине (тыс. баррелей).\n"
   ]
  },
  {
   "cell_type": "markdown",
   "metadata": {
    "pycharm": {
     "name": "#%% md\n"
    }
   },
   "source": [
    "# 1.2. Описание проекта\n",
    "<a id=\"1.2.\"></a>\n",
    "Допустим, вы работаете в добывающей компании «ГлавРосГосНефть». Нужно решить, где бурить новую скважину.\n",
    "Шаги для выбора локации обычно такие:\n",
    "- В избранном регионе собирают характеристики для скважин: качество нефти и объём её запасов;\n",
    "- Строят модель для предсказания объёма запасов в новых скважинах;\n",
    "- Выбирают скважины с самыми высокими оценками значений;\n",
    "- Определяют регион с максимальной суммарной прибылью отобранных скважин.\n",
    "Вам предоставлены пробы нефти в трёх регионах. Характеристики для каждой скважины в регионе уже известны. Постройте модель для определения региона, где добыча принесёт наибольшую прибыль. Проанализируйте возможную прибыль и риски техникой Bootstrap.\n"
   ]
  },
  {
   "cell_type": "markdown",
   "metadata": {
    "pycharm": {
     "name": "#%% md\n"
    }
   },
   "source": [
    "# 1.3. Условия задачи\n",
    "<a id=\"1.3.\"></a>\n",
    "- Для обучения модели подходит только линейная регрессия (остальные — недостаточно предсказуемые).\n",
    "- При разведке региона исследуют 500 точек, из которых с помощью машинного обучения выбирают 200 лучших для разработки.\n",
    "- Бюджет на разработку скважин в регионе — 10 млрд рублей.\n",
    "- При нынешних ценах один баррель сырья приносит 450 рублей дохода. Доход с каждой единицы продукта составляет 450 тыс. рублей, поскольку объём указан в тысячах баррелей.\n",
    "- После оценки рисков нужно оставить лишь те регионы, в которых вероятность убытков меньше 2.5%. Среди них выбирают регион с наибольшей средней прибылью.\n",
    "Данные синтетические: детали контрактов и характеристики месторождений не разглашаются.\n"
   ]
  },
  {
   "cell_type": "code",
   "execution_count": 2,
   "metadata": {
    "collapsed": false,
    "jupyter": {
     "outputs_hidden": false
    },
    "pycharm": {
     "name": "#%%\n"
    }
   },
   "outputs": [],
   "source": [
    "path10 = 'geo_data_0.csv'\n",
    "path11 = 'geo_data_1.csv'\n",
    "path12 = 'geo_data_2.csv'\n",
    "path20 = '/datasets/geo_data_0.csv'\n",
    "path21 = '/datasets/geo_data_1.csv'\n",
    "path22 = '/datasets/geo_data_2.csv'\n",
    "if os.path.exists(path10) and os.path.exists(path11) and os.path.exists(path12):\n",
    "    df_0 = pd.read_csv(path10)\n",
    "    df_1 = pd.read_csv(path11)\n",
    "    df_2 = pd.read_csv(path12)\n",
    "else:\n",
    "    df_0 = pd.read_csv(path20)\n",
    "    df_1 = pd.read_csv(path21)\n",
    "    df_2 = pd.read_csv(path22)"
   ]
  },
  {
   "cell_type": "markdown",
   "metadata": {
    "pycharm": {
     "name": "#%% md\n"
    }
   },
   "source": [
    "# 1.4. Исследование и подготовка данных\n",
    "<a id=\"1.4.\"></a>"
   ]
  },
  {
   "cell_type": "code",
   "execution_count": 3,
   "metadata": {
    "collapsed": false,
    "jupyter": {
     "outputs_hidden": false
    },
    "pycharm": {
     "name": "#%%\n"
    }
   },
   "outputs": [
    {
     "data": {
      "text/html": [
       "<div>\n",
       "<style scoped>\n",
       "    .dataframe tbody tr th:only-of-type {\n",
       "        vertical-align: middle;\n",
       "    }\n",
       "\n",
       "    .dataframe tbody tr th {\n",
       "        vertical-align: top;\n",
       "    }\n",
       "\n",
       "    .dataframe thead th {\n",
       "        text-align: right;\n",
       "    }\n",
       "</style>\n",
       "<table border=\"1\" class=\"dataframe\">\n",
       "  <thead>\n",
       "    <tr style=\"text-align: right;\">\n",
       "      <th></th>\n",
       "      <th>id</th>\n",
       "      <th>f0</th>\n",
       "      <th>f1</th>\n",
       "      <th>f2</th>\n",
       "      <th>product</th>\n",
       "    </tr>\n",
       "  </thead>\n",
       "  <tbody>\n",
       "    <tr>\n",
       "      <th>0</th>\n",
       "      <td>txEyH</td>\n",
       "      <td>0.705745</td>\n",
       "      <td>-0.497823</td>\n",
       "      <td>1.22117</td>\n",
       "      <td>105.280062</td>\n",
       "    </tr>\n",
       "    <tr>\n",
       "      <th>1</th>\n",
       "      <td>2acmU</td>\n",
       "      <td>1.334711</td>\n",
       "      <td>-0.340164</td>\n",
       "      <td>4.36508</td>\n",
       "      <td>73.037750</td>\n",
       "    </tr>\n",
       "  </tbody>\n",
       "</table>\n",
       "</div>"
      ],
      "text/plain": [
       "      id        f0        f1       f2     product\n",
       "0  txEyH  0.705745 -0.497823  1.22117  105.280062\n",
       "1  2acmU  1.334711 -0.340164  4.36508   73.037750"
      ]
     },
     "metadata": {},
     "output_type": "display_data"
    },
    {
     "name": "stdout",
     "output_type": "stream",
     "text": [
      "<class 'pandas.core.frame.DataFrame'>\n",
      "RangeIndex: 100000 entries, 0 to 99999\n",
      "Data columns (total 5 columns):\n",
      " #   Column   Non-Null Count   Dtype  \n",
      "---  ------   --------------   -----  \n",
      " 0   id       100000 non-null  object \n",
      " 1   f0       100000 non-null  float64\n",
      " 2   f1       100000 non-null  float64\n",
      " 3   f2       100000 non-null  float64\n",
      " 4   product  100000 non-null  float64\n",
      "dtypes: float64(4), object(1)\n",
      "memory usage: 3.8+ MB\n"
     ]
    },
    {
     "data": {
      "text/plain": [
       "None"
      ]
     },
     "metadata": {},
     "output_type": "display_data"
    },
    {
     "name": "stdout",
     "output_type": "stream",
     "text": [
      "Количество задублированных записей в df_0: 0\n",
      "____________________________________________________________\n"
     ]
    },
    {
     "data": {
      "text/html": [
       "<div>\n",
       "<style scoped>\n",
       "    .dataframe tbody tr th:only-of-type {\n",
       "        vertical-align: middle;\n",
       "    }\n",
       "\n",
       "    .dataframe tbody tr th {\n",
       "        vertical-align: top;\n",
       "    }\n",
       "\n",
       "    .dataframe thead th {\n",
       "        text-align: right;\n",
       "    }\n",
       "</style>\n",
       "<table border=\"1\" class=\"dataframe\">\n",
       "  <thead>\n",
       "    <tr style=\"text-align: right;\">\n",
       "      <th></th>\n",
       "      <th>id</th>\n",
       "      <th>f0</th>\n",
       "      <th>f1</th>\n",
       "      <th>f2</th>\n",
       "      <th>product</th>\n",
       "    </tr>\n",
       "  </thead>\n",
       "  <tbody>\n",
       "    <tr>\n",
       "      <th>0</th>\n",
       "      <td>kBEdx</td>\n",
       "      <td>-15.001348</td>\n",
       "      <td>-8.276000</td>\n",
       "      <td>-0.005876</td>\n",
       "      <td>3.179103</td>\n",
       "    </tr>\n",
       "    <tr>\n",
       "      <th>1</th>\n",
       "      <td>62mP7</td>\n",
       "      <td>14.272088</td>\n",
       "      <td>-3.475083</td>\n",
       "      <td>0.999183</td>\n",
       "      <td>26.953261</td>\n",
       "    </tr>\n",
       "  </tbody>\n",
       "</table>\n",
       "</div>"
      ],
      "text/plain": [
       "      id         f0        f1        f2    product\n",
       "0  kBEdx -15.001348 -8.276000 -0.005876   3.179103\n",
       "1  62mP7  14.272088 -3.475083  0.999183  26.953261"
      ]
     },
     "metadata": {},
     "output_type": "display_data"
    },
    {
     "name": "stdout",
     "output_type": "stream",
     "text": [
      "<class 'pandas.core.frame.DataFrame'>\n",
      "RangeIndex: 100000 entries, 0 to 99999\n",
      "Data columns (total 5 columns):\n",
      " #   Column   Non-Null Count   Dtype  \n",
      "---  ------   --------------   -----  \n",
      " 0   id       100000 non-null  object \n",
      " 1   f0       100000 non-null  float64\n",
      " 2   f1       100000 non-null  float64\n",
      " 3   f2       100000 non-null  float64\n",
      " 4   product  100000 non-null  float64\n",
      "dtypes: float64(4), object(1)\n",
      "memory usage: 3.8+ MB\n"
     ]
    },
    {
     "data": {
      "text/plain": [
       "None"
      ]
     },
     "metadata": {},
     "output_type": "display_data"
    },
    {
     "name": "stdout",
     "output_type": "stream",
     "text": [
      "Количество задублированных записей в df_1: 0\n",
      "____________________________________________________________\n"
     ]
    },
    {
     "data": {
      "text/html": [
       "<div>\n",
       "<style scoped>\n",
       "    .dataframe tbody tr th:only-of-type {\n",
       "        vertical-align: middle;\n",
       "    }\n",
       "\n",
       "    .dataframe tbody tr th {\n",
       "        vertical-align: top;\n",
       "    }\n",
       "\n",
       "    .dataframe thead th {\n",
       "        text-align: right;\n",
       "    }\n",
       "</style>\n",
       "<table border=\"1\" class=\"dataframe\">\n",
       "  <thead>\n",
       "    <tr style=\"text-align: right;\">\n",
       "      <th></th>\n",
       "      <th>id</th>\n",
       "      <th>f0</th>\n",
       "      <th>f1</th>\n",
       "      <th>f2</th>\n",
       "      <th>product</th>\n",
       "    </tr>\n",
       "  </thead>\n",
       "  <tbody>\n",
       "    <tr>\n",
       "      <th>0</th>\n",
       "      <td>fwXo0</td>\n",
       "      <td>-1.146987</td>\n",
       "      <td>0.963328</td>\n",
       "      <td>-0.828965</td>\n",
       "      <td>27.758673</td>\n",
       "    </tr>\n",
       "    <tr>\n",
       "      <th>1</th>\n",
       "      <td>WJtFt</td>\n",
       "      <td>0.262778</td>\n",
       "      <td>0.269839</td>\n",
       "      <td>-2.530187</td>\n",
       "      <td>56.069697</td>\n",
       "    </tr>\n",
       "  </tbody>\n",
       "</table>\n",
       "</div>"
      ],
      "text/plain": [
       "      id        f0        f1        f2    product\n",
       "0  fwXo0 -1.146987  0.963328 -0.828965  27.758673\n",
       "1  WJtFt  0.262778  0.269839 -2.530187  56.069697"
      ]
     },
     "metadata": {},
     "output_type": "display_data"
    },
    {
     "name": "stdout",
     "output_type": "stream",
     "text": [
      "<class 'pandas.core.frame.DataFrame'>\n",
      "RangeIndex: 100000 entries, 0 to 99999\n",
      "Data columns (total 5 columns):\n",
      " #   Column   Non-Null Count   Dtype  \n",
      "---  ------   --------------   -----  \n",
      " 0   id       100000 non-null  object \n",
      " 1   f0       100000 non-null  float64\n",
      " 2   f1       100000 non-null  float64\n",
      " 3   f2       100000 non-null  float64\n",
      " 4   product  100000 non-null  float64\n",
      "dtypes: float64(4), object(1)\n",
      "memory usage: 3.8+ MB\n"
     ]
    },
    {
     "data": {
      "text/plain": [
       "None"
      ]
     },
     "metadata": {},
     "output_type": "display_data"
    },
    {
     "name": "stdout",
     "output_type": "stream",
     "text": [
      "Количество задублированных записей в df_2: 0\n",
      "____________________________________________________________\n"
     ]
    }
   ],
   "source": [
    "display(df_0.head(2))\n",
    "display(df_0.info())\n",
    "print('Количество задублированных записей в df_0:', df_0.duplicated().sum())\n",
    "print('_'*60)\n",
    "display(df_1.head(2))\n",
    "display(df_1.info())\n",
    "print('Количество задублированных записей в df_1:', df_1.duplicated().sum())\n",
    "print('_'*60)\n",
    "display(df_2.head(2))\n",
    "display(df_2.info())\n",
    "print('Количество задублированных записей в df_2:', df_2.duplicated().sum())\n",
    "print('_'*60)"
   ]
  },
  {
   "cell_type": "markdown",
   "metadata": {
    "pycharm": {
     "name": "#%% md\n"
    }
   },
   "source": [
    "во всех датасетах наблюдается:\n",
    "1. отсутсвие пропусков\n",
    "2. отсутсвие задублированных записей\n",
    "3. корректность типов данных\n",
    "\n",
    "**вывод:** данные валидные. идем дальше."
   ]
  },
  {
   "cell_type": "markdown",
   "metadata": {
    "pycharm": {
     "name": "#%% md\n"
    }
   },
   "source": [
    "В соответствии с заданием для обучения модели необходимо использовать линейную регрессию. Это значит, что возможно имеет смысл провести масштабирование данных.\n",
    "Для этого необходимо:\n",
    "1. Разбить данные на фичи и целевой признак\n",
    "2. Разбить данные на обучающую и валидационную выборки\n",
    "3. Провести масштабирование данных. Применим для этих целей StandardScaller.\n",
    "\n",
    "прим. Модель необходимо опробовать как с учетом шага 3, так и без него."
   ]
  },
  {
   "cell_type": "markdown",
   "metadata": {
    "pycharm": {
     "name": "#%% md\n"
    }
   },
   "source": []
  },
  {
   "cell_type": "code",
   "execution_count": 4,
   "metadata": {
    "collapsed": false,
    "jupyter": {
     "outputs_hidden": false
    },
    "pycharm": {
     "name": "#%%\n"
    }
   },
   "outputs": [],
   "source": [
    "# шаги 1,2\n",
    "X_0_train, X_0_valid, y_0_train, y_0_valid = train_test_split(df_0.drop(columns=['product', 'id'], axis = 1), df_0.loc[:,'product'], random_state=42,  test_size=0.25)\n",
    "X_1_train, X_1_valid, y_1_train, y_1_valid = train_test_split(df_1.drop(columns=['product', 'id'], axis = 1), df_1['product'], random_state=42, test_size=0.25)\n",
    "X_2_train, X_2_valid, y_2_train, y_2_valid = train_test_split(df_2.drop(columns=['product', 'id'], axis = 1), df_2['product'], random_state=42, test_size=0.25)\n",
    "# шаг 3\n",
    "scaler = StandardScaler()\n",
    "scaler.fit(X_0_train)\n",
    "X_0_train_scaled = scaler.transform(X_0_train)\n",
    "X_0_valid_scaled = scaler.transform(X_0_valid)\n",
    "\n",
    "scaler.fit(X_1_train)\n",
    "X_1_train_scaled = scaler.transform(X_1_train)\n",
    "X_1_valid_scaled = scaler.transform(X_1_valid)\n",
    "\n",
    "scaler.fit(X_2_train)\n",
    "X_2_train_scaled = scaler.transform(X_2_train)\n",
    "X_2_valid_scaled = scaler.transform(X_2_valid)"
   ]
  },
  {
   "cell_type": "markdown",
   "metadata": {
    "pycharm": {
     "name": "#%% md\n"
    }
   },
   "source": [
    "# 2. Машинное обучение\n",
    "<a id=\"2.\"></a>"
   ]
  },
  {
   "cell_type": "markdown",
   "metadata": {
    "pycharm": {
     "name": "#%% md\n"
    }
   },
   "source": [
    "## 2.1. Прогнозирование объём запасов в скважинах региона 1\n",
    "<a id=\"2.1.\"></a>"
   ]
  },
  {
   "cell_type": "code",
   "execution_count": 5,
   "metadata": {
    "collapsed": false,
    "jupyter": {
     "outputs_hidden": false
    },
    "pycharm": {
     "name": "#%%\n"
    }
   },
   "outputs": [
    {
     "name": "stdout",
     "output_type": "stream",
     "text": [
      "best_params: {'normalize': True, 'fit_intercept': True, 'copy_X': True}\n",
      "для региона 1 RMSE = 37.75660035026169\n"
     ]
    }
   ],
   "source": [
    "param_distributions_linreg = {\n",
    "    'fit_intercept': [True, False],\n",
    "    'normalize': [True, False],\n",
    "    'copy_X': [True, False]}\n",
    "\n",
    "linreg_model_0 = LinearRegression(n_jobs=-1)\n",
    "#alpha_range = np.logspace(0.6, 2, 20)\n",
    "\n",
    "randomsearch = RandomizedSearchCV(estimator=linreg_model_0, cv=5, param_distributions=param_distributions_linreg, random_state=42, n_iter=8, scoring='neg_root_mean_squared_error')\n",
    "randomsearch.fit(X_0_train_scaled, y_0_train)\n",
    "\n",
    "predicted_valid_0 = randomsearch.predict(X_0_valid_scaled)\n",
    "mse_0 = mean_squared_error(y_0_valid, predicted_valid_0)\n",
    "rmse_0 = mean_squared_error(y_0_valid, predicted_valid_0, squared=False)\n",
    "\n",
    "print('best_params:', randomsearch.best_params_)\n",
    "print(\"для региона 1 RMSE =\", rmse_0)"
   ]
  },
  {
   "cell_type": "markdown",
   "metadata": {
    "pycharm": {
     "name": "#%% md\n"
    }
   },
   "source": [
    "## 2.2. Прогнозирование объём запасов в скважинах региона 2\n",
    "<a id=\"2.2.\"></a>"
   ]
  },
  {
   "cell_type": "code",
   "execution_count": 6,
   "metadata": {
    "collapsed": false,
    "jupyter": {
     "outputs_hidden": false
    },
    "pycharm": {
     "name": "#%%\n"
    }
   },
   "outputs": [
    {
     "name": "stdout",
     "output_type": "stream",
     "text": [
      "для региона 2 RMSE = 0.890280100102883\n"
     ]
    }
   ],
   "source": [
    "model_1 = LinearRegression(normalize=True, fit_intercept=True, copy_X=True)\n",
    "model_1.fit(X_1_train_scaled, y_1_train)\n",
    "\n",
    "predicted_valid_1 = model_1.predict(X_1_valid_scaled)\n",
    "rmse_1 = mean_squared_error(y_1_valid, predicted_valid_1, squared=False)\n",
    "\n",
    "print('для региона 2 RMSE =', rmse_1)"
   ]
  },
  {
   "cell_type": "markdown",
   "metadata": {
    "pycharm": {
     "name": "#%% md\n"
    }
   },
   "source": [
    "## 2.3. Прогнозирование объём запасов в скважинах региона 3\n",
    "<a id=\"2.3.\"></a>"
   ]
  },
  {
   "cell_type": "code",
   "execution_count": 7,
   "metadata": {
    "collapsed": false,
    "jupyter": {
     "outputs_hidden": false
    },
    "pycharm": {
     "name": "#%%\n"
    }
   },
   "outputs": [
    {
     "name": "stdout",
     "output_type": "stream",
     "text": [
      "для региона 3 RMSE = 40.145872311342174\n"
     ]
    }
   ],
   "source": [
    "model_2 = LinearRegression(normalize=True, fit_intercept=True, copy_X=True)\n",
    "model_2.fit(X_2_train_scaled, y_2_train)\n",
    "\n",
    "predicted_valid_2 = model_2.predict(X_2_valid_scaled)\n",
    "rmse_2 = mean_squared_error(y_2_valid, predicted_valid_2, squared=False)\n",
    "\n",
    "print('для региона 3 RMSE =', rmse_2)"
   ]
  },
  {
   "cell_type": "markdown",
   "metadata": {
    "pycharm": {
     "name": "#%% md\n"
    }
   },
   "source": [
    "Изучим полученные результаты"
   ]
  },
  {
   "cell_type": "markdown",
   "metadata": {
    "pycharm": {
     "name": "#%% md\n"
    }
   },
   "source": [
    "## 2.4. Анализ результатов по всем регионам\n",
    "<a id=\"2.4.\"></a>"
   ]
  },
  {
   "cell_type": "markdown",
   "metadata": {
    "pycharm": {
     "name": "#%% md\n"
    }
   },
   "source": [
    "Объединим по каждому региону истинные и спрогнозированные значения в один датафрейм и оценим визуально"
   ]
  },
  {
   "cell_type": "markdown",
   "metadata": {
    "pycharm": {
     "name": "#%% md\n"
    }
   },
   "source": [
    "## 2.4.1. Регион 1\n",
    "<a id=\"2.4.1.\"></a>"
   ]
  },
  {
   "cell_type": "code",
   "execution_count": 8,
   "metadata": {
    "collapsed": false,
    "jupyter": {
     "outputs_hidden": false
    },
    "pycharm": {
     "name": "#%%\n"
    }
   },
   "outputs": [
    {
     "data": {
      "text/html": [
       "<div>\n",
       "<style scoped>\n",
       "    .dataframe tbody tr th:only-of-type {\n",
       "        vertical-align: middle;\n",
       "    }\n",
       "\n",
       "    .dataframe tbody tr th {\n",
       "        vertical-align: top;\n",
       "    }\n",
       "\n",
       "    .dataframe thead th {\n",
       "        text-align: right;\n",
       "    }\n",
       "</style>\n",
       "<table border=\"1\" class=\"dataframe\">\n",
       "  <thead>\n",
       "    <tr style=\"text-align: right;\">\n",
       "      <th></th>\n",
       "      <th>true</th>\n",
       "      <th>predicted</th>\n",
       "    </tr>\n",
       "  </thead>\n",
       "  <tbody>\n",
       "    <tr>\n",
       "      <th>0</th>\n",
       "      <td>122.073350</td>\n",
       "      <td>101.901017</td>\n",
       "    </tr>\n",
       "    <tr>\n",
       "      <th>1</th>\n",
       "      <td>48.738540</td>\n",
       "      <td>78.217774</td>\n",
       "    </tr>\n",
       "    <tr>\n",
       "      <th>2</th>\n",
       "      <td>131.338088</td>\n",
       "      <td>115.266901</td>\n",
       "    </tr>\n",
       "    <tr>\n",
       "      <th>3</th>\n",
       "      <td>88.327757</td>\n",
       "      <td>105.618618</td>\n",
       "    </tr>\n",
       "    <tr>\n",
       "      <th>4</th>\n",
       "      <td>36.959266</td>\n",
       "      <td>97.980185</td>\n",
       "    </tr>\n",
       "    <tr>\n",
       "      <th>5</th>\n",
       "      <td>93.988227</td>\n",
       "      <td>80.915367</td>\n",
       "    </tr>\n",
       "    <tr>\n",
       "      <th>6</th>\n",
       "      <td>31.768403</td>\n",
       "      <td>81.485852</td>\n",
       "    </tr>\n",
       "    <tr>\n",
       "      <th>7</th>\n",
       "      <td>74.856619</td>\n",
       "      <td>94.663975</td>\n",
       "    </tr>\n",
       "    <tr>\n",
       "      <th>8</th>\n",
       "      <td>99.380950</td>\n",
       "      <td>81.526376</td>\n",
       "    </tr>\n",
       "    <tr>\n",
       "      <th>9</th>\n",
       "      <td>108.728916</td>\n",
       "      <td>99.389740</td>\n",
       "    </tr>\n",
       "  </tbody>\n",
       "</table>\n",
       "</div>"
      ],
      "text/plain": [
       "         true   predicted\n",
       "0  122.073350  101.901017\n",
       "1   48.738540   78.217774\n",
       "2  131.338088  115.266901\n",
       "3   88.327757  105.618618\n",
       "4   36.959266   97.980185\n",
       "5   93.988227   80.915367\n",
       "6   31.768403   81.485852\n",
       "7   74.856619   94.663975\n",
       "8   99.380950   81.526376\n",
       "9  108.728916   99.389740"
      ]
     },
     "execution_count": 8,
     "metadata": {},
     "output_type": "execute_result"
    }
   ],
   "source": [
    "true_predict_values_region_1 = pd.concat([y_0_valid.reset_index(drop=True), pd.DataFrame(predicted_valid_0)], axis = 1).rename(columns={'product': 'true', 0: 'predicted'})\n",
    "true_predict_values_region_1.head(10)"
   ]
  },
  {
   "cell_type": "markdown",
   "metadata": {
    "pycharm": {
     "name": "#%% md\n"
    }
   },
   "source": [
    "## 2.4.2. Регион 2\n",
    "<a id=\"2.4.2.\"></a>"
   ]
  },
  {
   "cell_type": "code",
   "execution_count": 9,
   "metadata": {
    "collapsed": false,
    "jupyter": {
     "outputs_hidden": false
    },
    "pycharm": {
     "name": "#%%\n"
    }
   },
   "outputs": [
    {
     "data": {
      "text/html": [
       "<div>\n",
       "<style scoped>\n",
       "    .dataframe tbody tr th:only-of-type {\n",
       "        vertical-align: middle;\n",
       "    }\n",
       "\n",
       "    .dataframe tbody tr th {\n",
       "        vertical-align: top;\n",
       "    }\n",
       "\n",
       "    .dataframe thead th {\n",
       "        text-align: right;\n",
       "    }\n",
       "</style>\n",
       "<table border=\"1\" class=\"dataframe\">\n",
       "  <thead>\n",
       "    <tr style=\"text-align: right;\">\n",
       "      <th></th>\n",
       "      <th>true</th>\n",
       "      <th>predicted</th>\n",
       "    </tr>\n",
       "  </thead>\n",
       "  <tbody>\n",
       "    <tr>\n",
       "      <th>0</th>\n",
       "      <td>0.000000</td>\n",
       "      <td>0.844738</td>\n",
       "    </tr>\n",
       "    <tr>\n",
       "      <th>1</th>\n",
       "      <td>53.906522</td>\n",
       "      <td>52.921612</td>\n",
       "    </tr>\n",
       "    <tr>\n",
       "      <th>2</th>\n",
       "      <td>134.766305</td>\n",
       "      <td>135.110385</td>\n",
       "    </tr>\n",
       "    <tr>\n",
       "      <th>3</th>\n",
       "      <td>107.813044</td>\n",
       "      <td>109.494863</td>\n",
       "    </tr>\n",
       "    <tr>\n",
       "      <th>4</th>\n",
       "      <td>0.000000</td>\n",
       "      <td>-0.047292</td>\n",
       "    </tr>\n",
       "    <tr>\n",
       "      <th>5</th>\n",
       "      <td>134.766305</td>\n",
       "      <td>136.356564</td>\n",
       "    </tr>\n",
       "    <tr>\n",
       "      <th>6</th>\n",
       "      <td>3.179103</td>\n",
       "      <td>2.660889</td>\n",
       "    </tr>\n",
       "    <tr>\n",
       "      <th>7</th>\n",
       "      <td>26.953261</td>\n",
       "      <td>26.796211</td>\n",
       "    </tr>\n",
       "    <tr>\n",
       "      <th>8</th>\n",
       "      <td>30.132364</td>\n",
       "      <td>30.318322</td>\n",
       "    </tr>\n",
       "    <tr>\n",
       "      <th>9</th>\n",
       "      <td>80.859783</td>\n",
       "      <td>81.733141</td>\n",
       "    </tr>\n",
       "  </tbody>\n",
       "</table>\n",
       "</div>"
      ],
      "text/plain": [
       "         true   predicted\n",
       "0    0.000000    0.844738\n",
       "1   53.906522   52.921612\n",
       "2  134.766305  135.110385\n",
       "3  107.813044  109.494863\n",
       "4    0.000000   -0.047292\n",
       "5  134.766305  136.356564\n",
       "6    3.179103    2.660889\n",
       "7   26.953261   26.796211\n",
       "8   30.132364   30.318322\n",
       "9   80.859783   81.733141"
      ]
     },
     "execution_count": 9,
     "metadata": {},
     "output_type": "execute_result"
    }
   ],
   "source": [
    "true_predict_values_region_2 = pd.concat([y_1_valid.reset_index(drop=True), pd.DataFrame(predicted_valid_1)], axis = 1).rename(columns={'product': 'true', 0: 'predicted'})\n",
    "true_predict_values_region_2.head(10)"
   ]
  },
  {
   "cell_type": "markdown",
   "metadata": {
    "pycharm": {
     "name": "#%% md\n"
    }
   },
   "source": [
    "## 2.4.3. Регион 3\n",
    "<a id=\"2.4.3.\"></a>"
   ]
  },
  {
   "cell_type": "code",
   "execution_count": 10,
   "metadata": {
    "collapsed": false,
    "jupyter": {
     "outputs_hidden": false
    },
    "pycharm": {
     "name": "#%%\n"
    }
   },
   "outputs": [
    {
     "data": {
      "text/html": [
       "<div>\n",
       "<style scoped>\n",
       "    .dataframe tbody tr th:only-of-type {\n",
       "        vertical-align: middle;\n",
       "    }\n",
       "\n",
       "    .dataframe tbody tr th {\n",
       "        vertical-align: top;\n",
       "    }\n",
       "\n",
       "    .dataframe thead th {\n",
       "        text-align: right;\n",
       "    }\n",
       "</style>\n",
       "<table border=\"1\" class=\"dataframe\">\n",
       "  <thead>\n",
       "    <tr style=\"text-align: right;\">\n",
       "      <th></th>\n",
       "      <th>true</th>\n",
       "      <th>predicted</th>\n",
       "    </tr>\n",
       "  </thead>\n",
       "  <tbody>\n",
       "    <tr>\n",
       "      <th>0</th>\n",
       "      <td>117.441301</td>\n",
       "      <td>98.301916</td>\n",
       "    </tr>\n",
       "    <tr>\n",
       "      <th>1</th>\n",
       "      <td>47.841249</td>\n",
       "      <td>101.592461</td>\n",
       "    </tr>\n",
       "    <tr>\n",
       "      <th>2</th>\n",
       "      <td>45.883483</td>\n",
       "      <td>52.449099</td>\n",
       "    </tr>\n",
       "    <tr>\n",
       "      <th>3</th>\n",
       "      <td>139.014608</td>\n",
       "      <td>109.922127</td>\n",
       "    </tr>\n",
       "    <tr>\n",
       "      <th>4</th>\n",
       "      <td>84.004276</td>\n",
       "      <td>72.411847</td>\n",
       "    </tr>\n",
       "    <tr>\n",
       "      <th>5</th>\n",
       "      <td>60.527247</td>\n",
       "      <td>104.142542</td>\n",
       "    </tr>\n",
       "    <tr>\n",
       "      <th>6</th>\n",
       "      <td>61.429286</td>\n",
       "      <td>64.127656</td>\n",
       "    </tr>\n",
       "    <tr>\n",
       "      <th>7</th>\n",
       "      <td>60.632764</td>\n",
       "      <td>91.918582</td>\n",
       "    </tr>\n",
       "    <tr>\n",
       "      <th>8</th>\n",
       "      <td>135.749821</td>\n",
       "      <td>104.937986</td>\n",
       "    </tr>\n",
       "    <tr>\n",
       "      <th>9</th>\n",
       "      <td>104.381643</td>\n",
       "      <td>92.218485</td>\n",
       "    </tr>\n",
       "  </tbody>\n",
       "</table>\n",
       "</div>"
      ],
      "text/plain": [
       "         true   predicted\n",
       "0  117.441301   98.301916\n",
       "1   47.841249  101.592461\n",
       "2   45.883483   52.449099\n",
       "3  139.014608  109.922127\n",
       "4   84.004276   72.411847\n",
       "5   60.527247  104.142542\n",
       "6   61.429286   64.127656\n",
       "7   60.632764   91.918582\n",
       "8  135.749821  104.937986\n",
       "9  104.381643   92.218485"
      ]
     },
     "execution_count": 10,
     "metadata": {},
     "output_type": "execute_result"
    }
   ],
   "source": [
    "true_predict_values_region_3 = pd.concat([y_2_valid.reset_index(drop=True), pd.DataFrame(predicted_valid_2)], axis = 1).rename(columns={'product': 'true', 0: 'predicted'})\n",
    "true_predict_values_region_3.head(10)"
   ]
  },
  {
   "cell_type": "markdown",
   "metadata": {
    "pycharm": {
     "name": "#%% md\n"
    }
   },
   "source": [
    "## 2.4.4. Выводы\n",
    "<a id=\"2.4.4.\"></a>"
   ]
  },
  {
   "cell_type": "markdown",
   "metadata": {
    "pycharm": {
     "name": "#%% md\n"
    }
   },
   "source": [
    "На втором датасете даже визуально наблюдается высокая точность прогнозов при этом видно, что присутствуют отрицательные значения. Заменим их на 0."
   ]
  },
  {
   "cell_type": "code",
   "execution_count": 11,
   "metadata": {
    "collapsed": false,
    "jupyter": {
     "outputs_hidden": false
    },
    "pycharm": {
     "name": "#%%\n"
    }
   },
   "outputs": [
    {
     "data": {
      "text/html": [
       "<div>\n",
       "<style scoped>\n",
       "    .dataframe tbody tr th:only-of-type {\n",
       "        vertical-align: middle;\n",
       "    }\n",
       "\n",
       "    .dataframe tbody tr th {\n",
       "        vertical-align: top;\n",
       "    }\n",
       "\n",
       "    .dataframe thead th {\n",
       "        text-align: right;\n",
       "    }\n",
       "</style>\n",
       "<table border=\"1\" class=\"dataframe\">\n",
       "  <thead>\n",
       "    <tr style=\"text-align: right;\">\n",
       "      <th></th>\n",
       "      <th>true</th>\n",
       "      <th>predicted</th>\n",
       "    </tr>\n",
       "  </thead>\n",
       "  <tbody>\n",
       "    <tr>\n",
       "      <th>0</th>\n",
       "      <td>0.000000</td>\n",
       "      <td>0.844738</td>\n",
       "    </tr>\n",
       "    <tr>\n",
       "      <th>1</th>\n",
       "      <td>53.906522</td>\n",
       "      <td>52.921612</td>\n",
       "    </tr>\n",
       "    <tr>\n",
       "      <th>2</th>\n",
       "      <td>134.766305</td>\n",
       "      <td>135.110385</td>\n",
       "    </tr>\n",
       "    <tr>\n",
       "      <th>3</th>\n",
       "      <td>107.813044</td>\n",
       "      <td>109.494863</td>\n",
       "    </tr>\n",
       "    <tr>\n",
       "      <th>4</th>\n",
       "      <td>0.000000</td>\n",
       "      <td>0.000000</td>\n",
       "    </tr>\n",
       "  </tbody>\n",
       "</table>\n",
       "</div>"
      ],
      "text/plain": [
       "         true   predicted\n",
       "0    0.000000    0.844738\n",
       "1   53.906522   52.921612\n",
       "2  134.766305  135.110385\n",
       "3  107.813044  109.494863\n",
       "4    0.000000    0.000000"
      ]
     },
     "execution_count": 11,
     "metadata": {},
     "output_type": "execute_result"
    }
   ],
   "source": [
    "true_predict_values_region_2.loc[true_predict_values_region_2['predicted'] < 0, 'predicted'] = 0\n",
    "true_predict_values_region_2.head()"
   ]
  },
  {
   "cell_type": "markdown",
   "metadata": {
    "pycharm": {
     "name": "#%% md\n"
    }
   },
   "source": [
    "## 3. Расчет прибыли\n",
    "<a id=\"3.\"></a>"
   ]
  },
  {
   "cell_type": "markdown",
   "metadata": {},
   "source": [
    "## 3.1. Средний запас сырья\n",
    "<a id=\"3.1.\"></a>"
   ]
  },
  {
   "cell_type": "markdown",
   "metadata": {},
   "source": [
    "Вероятно в задании в п.2.4  имеется ввиду средний запас сырья **в регионе**.\n",
    "Если так, расчитаем для каждого региона спрогнозированное и рельное среднее значение запасов."
   ]
  },
  {
   "cell_type": "code",
   "execution_count": 12,
   "metadata": {
    "collapsed": false,
    "jupyter": {
     "outputs_hidden": false
    },
    "pycharm": {
     "name": "#%%\n"
    }
   },
   "outputs": [
    {
     "data": {
      "text/plain": [
       "true         92.325956\n",
       "predicted    92.398800\n",
       "dtype: float64"
      ]
     },
     "metadata": {},
     "output_type": "display_data"
    },
    {
     "data": {
      "text/plain": [
       "true         68.725381\n",
       "predicted    68.723322\n",
       "dtype: float64"
      ]
     },
     "metadata": {},
     "output_type": "display_data"
    },
    {
     "data": {
      "text/plain": [
       "true         95.150999\n",
       "predicted    94.771024\n",
       "dtype: float64"
      ]
     },
     "metadata": {},
     "output_type": "display_data"
    }
   ],
   "source": [
    "display(true_predict_values_region_1.mean())\n",
    "display(true_predict_values_region_2.mean())\n",
    "display(true_predict_values_region_3.mean())"
   ]
  },
  {
   "cell_type": "markdown",
   "metadata": {},
   "source": [
    "Несмотря на достаточно большое значение RMSE среднее спрогнозированных и истинных значений выглядят очень похожими. Оценим расхождение в процентном соотнощении."
   ]
  },
  {
   "cell_type": "code",
   "execution_count": 13,
   "metadata": {
    "collapsed": false,
    "jupyter": {
     "outputs_hidden": false
    },
    "pycharm": {
     "name": "#%%\n"
    }
   },
   "outputs": [
    {
     "name": "stdout",
     "output_type": "stream",
     "text": [
      "ошибка среднего значения для региона 1 составляет 0.079 %\n",
      "ошибка среднего значения для региона 2 составляет 0.003 %\n",
      "ошибка среднего значения для региона 3 составляет 0.553 %\n"
     ]
    }
   ],
   "source": [
    "print('ошибка среднего значения для региона 1 составляет',\n",
    "      abs(round((true_predict_values_region_1.mean()['true'] - true_predict_values_region_1.mean()['predicted']) / true_predict_values_region_1.mean()['true'] * 100, 3)), '%')\n",
    "print('ошибка среднего значения для региона 2 составляет',\n",
    "      abs(round((true_predict_values_region_2.mean()['true'] - true_predict_values_region_2.mean()['predicted']) / true_predict_values_region_2.mean()['true'] * 100, 3)), '%')\n",
    "print('ошибка среднего значения для региона 3 составляет',\n",
    "      abs(round((true_predict_values_region_3.mean()['true'] - true_predict_values_region_3.mean()['predicted']) / true_predict_values_region_2.mean()['true'] * 100, 3)), '%')"
   ]
  },
  {
   "cell_type": "markdown",
   "metadata": {},
   "source": [
    "**Вывод:** видно, что если прогнозировать среднее значение по региону, то чтоность достаточно высокая. Отлично. Переходим к расчету прибыли."
   ]
  },
  {
   "cell_type": "markdown",
   "metadata": {
    "pycharm": {
     "name": "#%% md\n"
    }
   },
   "source": [
    "## 3.2. Достаточный объём сырья для безубыточной разработки новой скважины\n",
    "<a id=\"3.2.\"></a>"
   ]
  },
  {
   "cell_type": "markdown",
   "metadata": {
    "pycharm": {
     "name": "#%% md\n"
    }
   },
   "source": [
    "На разработку 200 скважин в регионе по условию необходимо затратить 10 млрд рублей (10000 млн). Следовательно, разработка одной скважины обходится в 10000 млн / 200 шт.=  50 млн/шт.\n",
    "При стоимости одного берреля в 450 р, в среднем одна скважина должна принести минимум 50 млн / 450 = 111111 баррелей. Округляя в большую сторону получим, что для безубыточной деятельности объем запасов одной средний скважины должен быть 111.2 тыс баррелей. Как видно, это выше, чем средний запас сырья по каждому из регионов (см. п.2.5.)"
   ]
  },
  {
   "cell_type": "markdown",
   "metadata": {
    "pycharm": {
     "name": "#%% md\n"
    }
   },
   "source": [
    "**Вывод:** средний запас сырья в регионе ниже чем расчетное количество для безубыточного производства. При таких ценах надо отбирать лучшие скважины."
   ]
  },
  {
   "cell_type": "markdown",
   "metadata": {
    "pycharm": {
     "name": "#%% md\n"
    }
   },
   "source": [
    "## 3.3. Количество скважин для безубыточной добычи (дополнительный пункт. не из задания)\n",
    "<a id=\"3.3.\"></a>"
   ]
  },
  {
   "cell_type": "markdown",
   "metadata": {
    "pycharm": {
     "name": "#%% md\n"
    }
   },
   "source": [
    "В п.3.2. мы посчитали объем нефти в скважине для безубыточной добычи. При этом средний объем скважины ниже этого количества. В соответствии с описанием из каждых 500 берут 200, т.е лучшие 40%. Это 60-й процентиль. Посмотрим какой объем сырья соответствует 60-му процентилю."
   ]
  },
  {
   "cell_type": "code",
   "execution_count": 14,
   "metadata": {
    "collapsed": false,
    "jupyter": {
     "outputs_hidden": false
    },
    "pycharm": {
     "name": "#%%\n"
    }
   },
   "outputs": [
    {
     "name": "stdout",
     "output_type": "stream",
     "text": [
      "худшая из топ-200 скважин в первом регионе даст 106.29224770845815 тыс баррелей\n",
      "худшая из топ-200 скважин во втором регионе даст 84.03888567782631 тыс баррелей\n",
      "худшая из топ-200 скважин в третьем регионе даст 108.8077022306724 тыс баррелей\n"
     ]
    }
   ],
   "source": [
    "print('худшая из топ-200 скважин в первом регионе даст',  true_predict_values_region_1['true'].quantile(0.6), 'тыс баррелей')\n",
    "print('худшая из топ-200 скважин во втором регионе даст', true_predict_values_region_2['true'].quantile(0.6), 'тыс баррелей')\n",
    "print('худшая из топ-200 скважин в третьем регионе даст', true_predict_values_region_3['true'].quantile(0.6), 'тыс баррелей')"
   ]
  },
  {
   "cell_type": "markdown",
   "metadata": {
    "pycharm": {
     "name": "#%% md\n"
    }
   },
   "source": [
    "Похоже что не все скважины из топ-200 будут безубыточными. Найдем реальное количество безубыточных скважин."
   ]
  },
  {
   "cell_type": "code",
   "execution_count": 15,
   "metadata": {
    "collapsed": false,
    "jupyter": {
     "outputs_hidden": false
    },
    "pycharm": {
     "name": "#%%\n"
    }
   },
   "outputs": [
    {
     "name": "stdout",
     "output_type": "stream",
     "text": [
      "в первом регионе необходимо взять 181.84 скважин\n",
      "во втором регионе необходимо взять 82.5 скважин\n",
      "в третьем регионе необходимо взять 190.36 скважин\n"
     ]
    }
   ],
   "source": [
    "print('в первом регионе необходимо взять', (100 - st.percentileofscore(true_predict_values_region_1['true'], 111.2)) * 5, 'скважин')\n",
    "print('во втором регионе необходимо взять', (100 - st.percentileofscore(true_predict_values_region_2['true'], 111.2)) * 5, 'скважин')\n",
    "print('в третьем регионе необходимо взять', (100 - st.percentileofscore(true_predict_values_region_3['true'], 111.2)) * 5, 'скважин')"
   ]
  },
  {
   "cell_type": "markdown",
   "metadata": {
    "pycharm": {
     "name": "#%% md\n"
    }
   },
   "source": [
    "Таким образом, я бы внес предложение о количестве разрабатываемых скважин в каждом регионе. Как видно, если брать 200, то некоторые скважины даже в \"хороших\" регионах будут убыточными. При этом даже во втором регионе \"развернув\" 82 скважины можно получить прибыль."
   ]
  },
  {
   "cell_type": "markdown",
   "metadata": {
    "pycharm": {
     "name": "#%% md\n"
    }
   },
   "source": [
    "# 4. Риски и прибыль для каждого региона\n",
    "<a id=\"4.\"></a>"
   ]
  },
  {
   "cell_type": "markdown",
   "metadata": {
    "pycharm": {
     "name": "#%% md\n"
    }
   },
   "source": [
    "## 4.1. Функции для проведения bootstrap и расчета прибыли\n",
    "<a id=\"4.1.\"></a>"
   ]
  },
  {
   "cell_type": "markdown",
   "metadata": {
    "pycharm": {
     "name": "#%% md\n"
    }
   },
   "source": [
    "## 4.1.1. Функция расчета прибыли\n",
    "<a id=\"4.1.1.\"></a>"
   ]
  },
  {
   "cell_type": "markdown",
   "metadata": {
    "pycharm": {
     "name": "#%% md\n"
    }
   },
   "source": [
    "Как мы определили в п.3.2 разработка одной скважины в среднем обходится 50 млн. руб. Тогда расчет прибыли можно провести двумя способами:\n",
    "1. Провести расчет прибыли с каждоой скважины как  \"объем запасов скважины\" * 450.000 - 50.000.000. Затем просуммировать выбранные скважины.\n",
    "2. Посчитать суммарное значение сырья как \"суммарный объем запасов со всех скважин\" * 450.000 - 10e9\n",
    "\n",
    "Воспользуемся вторым способом:\n"
   ]
  },
  {
   "cell_type": "code",
   "execution_count": 16,
   "metadata": {
    "collapsed": false,
    "jupyter": {
     "outputs_hidden": false
    },
    "pycharm": {
     "name": "#%%\n"
    }
   },
   "outputs": [
    {
     "data": {
      "text/plain": [
       "'\\ndef profit_counter(product:pd.Series, count:int = 200, income:int = 450000):\\n    \"\"\"\\n    функция возвращает суммарную прибыль для заданного \"count\" числа наибольших значений\\n    :param product: рассчитываемая выборка\\n    :param count: отсортированнаое по убыванию число скважин\\n    :param income: доход от одной скважины (р.)\\n    :return:\\n    \"\"\"\\n    product_sorted = product.sort_values(ascending=False)\\n    top_count_product = product_sorted[:count]\\n\\n    return int(top_count_product.sum()* income - 10e9)\\n'"
      ]
     },
     "execution_count": 16,
     "metadata": {},
     "output_type": "execute_result"
    }
   ],
   "source": [
    "'''\n",
    "def profit_counter(product:pd.Series, count:int = 200, income:int = 450000):\n",
    "    \"\"\"\n",
    "    функция возвращает суммарную прибыль для заданного \"count\" числа наибольших значений\n",
    "    :param product: рассчитываемая выборка\n",
    "    :param count: отсортированнаое по убыванию число скважин\n",
    "    :param income: доход от одной скважины (р.)\n",
    "    :return:\n",
    "    \"\"\"\n",
    "    product_sorted = product.sort_values(ascending=False)\n",
    "    top_count_product = product_sorted[:count]\n",
    "\n",
    "    return int(top_count_product.sum()* income - 10e9)\n",
    "'''"
   ]
  },
  {
   "cell_type": "code",
   "execution_count": 17,
   "metadata": {},
   "outputs": [],
   "source": [
    "def profit_counter(true_subsample, predicted_subsample, count:int = 200, income:int = 450000):\n",
    "    \"\"\"\n",
    "    функция сперва формирует лучшие \"count\" число (топ-200) из спрогнозированной выборки, \n",
    "    затем формирует выборку из соответствующиих им истинных значений\n",
    "    и для каждой из полученных выборок (топ-200 спрогнозированных, топ-200 истинных) \n",
    "    возвращает суммарную прибыль \n",
    "    :param true_subsample: выборка истинных (500) значений\n",
    "    :predicted_subsample: выборка спрогнозированных (500) значений\n",
    "    :param count: отсортированное по убыванию число скважин\n",
    "    :param income: доход от одной скважины (р.)\n",
    "    :return:\n",
    "    \"\"\"\n",
    "    \n",
    "    predicted_sorted = predicted_subsample.sort_values(ascending=False)\n",
    "    top_count_predicted = predicted_sorted[:count]   \n",
    "    top_count_true = true_subsample[top_count_predicted.index.unique()]\n",
    "    #print('top_count_true =', len(top_count_true))\n",
    "    predicted_profit = int(top_count_predicted.sum()* income - 10e9)\n",
    "    true_profit = int(top_count_true.sum()* income - 10e9)\n",
    "    \n",
    "    return true_profit, predicted_profit"
   ]
  },
  {
   "cell_type": "markdown",
   "metadata": {
    "pycharm": {
     "name": "#%% md\n"
    }
   },
   "source": [
    "## 4.1.2. Функция для проведения bootstrap\n",
    "<a id=\"4.1.2.\"></a>"
   ]
  },
  {
   "cell_type": "code",
   "execution_count": 18,
   "metadata": {
    "collapsed": false,
    "jupyter": {
     "outputs_hidden": false
    },
    "pycharm": {
     "name": "#%%\n"
    }
   },
   "outputs": [],
   "source": [
    "def bootstraper(series_true:pd.Series, series_predict:pd.Series, repeat:int=1000, sample_size:int = 500):\n",
    "    \"\"\"\n",
    "    данная  функция:\n",
    "     1. принимает на вход два столбца (формат Series) с реальными и спрогнозированными значеними объема запасов нефти\n",
    "     2. заданное число раз формирует выборку заднного размера\n",
    "     3. для каждой выборки вызывает функцию profit_counter, которая  расчитывает суммарную прибыль лучших 200 скважин\n",
    "    :param series_true: реальные значения объёмов запасов в скважинах\n",
    "    :param series_predict: спрогнозированные значения объёмов запасов в скважинах\n",
    "    :param repeat: число выборок\n",
    "    :param sample_size: размер выбокри\n",
    "    :return:\n",
    "    \"\"\"\n",
    "    profit_values_true = []\n",
    "    profit_values_predicted = []\n",
    "    state = np.random.RandomState(12345)\n",
    "    for i in range(repeat):\n",
    "        # отбираем sample_size (т.е. 500) скважин и сохраняем реальные ..\n",
    "        true_subsample = series_true.sample(n=sample_size, replace=True, random_state=state)\n",
    "        # .. и предсказанные значения\n",
    "        predicted_subsample = series_predict[true_subsample.index]\n",
    "        # расчитываем  реальную прибыль с топ-200\n",
    "        #profit_true = profit_counter(true_subsample)\n",
    "        # .. и предсказанную\n",
    "        #profit_predicted = profit_counter(predicted_subsample)\n",
    "        # добавляем в списки\n",
    "        \n",
    "        # новая строка кода\n",
    "        profit_true, profit_predicted = profit_counter(true_subsample, predicted_subsample)\n",
    "        \n",
    "        profit_values_true.append(profit_true)\n",
    "        profit_values_predicted.append(profit_predicted)\n",
    "        # перенесем это в Series формат\n",
    "    profit_values_true = pd.Series(profit_values_true)\n",
    "    profit_values_predicted = pd.Series(profit_values_predicted)\n",
    "\n",
    "    return profit_values_true, profit_values_predicted"
   ]
  },
  {
   "cell_type": "markdown",
   "metadata": {
    "pycharm": {
     "name": "#%% md\n"
    }
   },
   "source": [
    "## 4.2. Bootstrap\n",
    "<a id=\"4.2.\"></a>"
   ]
  },
  {
   "cell_type": "code",
   "execution_count": 19,
   "metadata": {
    "collapsed": false,
    "jupyter": {
     "outputs_hidden": false
    },
    "pycharm": {
     "name": "#%%\n"
    }
   },
   "outputs": [],
   "source": [
    "# суммарный реальный и спрогнозированный доход с лучших 200 из 500 скважин полученных бутстрепом\n",
    "profit_values_true_1, profit_values_predicted_1 = bootstraper(true_predict_values_region_1['true'], true_predict_values_region_1['predicted'], repeat=2)\n",
    "profit_values_true_2, profit_values_predicted_2 = bootstraper(true_predict_values_region_2['true'], true_predict_values_region_2['predicted'], repeat=1000)\n",
    "profit_values_true_3, profit_values_predicted_3 = bootstraper(true_predict_values_region_3['true'], true_predict_values_region_3['predicted'], repeat=1000)"
   ]
  },
  {
   "cell_type": "markdown",
   "metadata": {
    "pycharm": {
     "name": "#%% md\n"
    }
   },
   "source": [
    "## 4.3. Средняя прибыль\n",
    "<a id=\"4.3.\"></a>"
   ]
  },
  {
   "cell_type": "code",
   "execution_count": 20,
   "metadata": {
    "collapsed": false,
    "jupyter": {
     "outputs_hidden": false
    },
    "pycharm": {
     "name": "#%%\n"
    }
   },
   "outputs": [
    {
     "name": "stdout",
     "output_type": "stream",
     "text": [
      "средняя прибыль на основе реальных значений суммарной доходности для топ-200 скважин региона 1 составляет: 422620856.0\n",
      "средняя прибыль на основе спрогнозированных значений суммарной доходности для топ-200 скважин региона 1 составляет: 141304058.5\n",
      "________________________________________\n",
      "средняя прибыль на основе реальных значений суммарной доходности для топ-200 скважин региона 2 составляет: 433149284.51\n",
      "средняя прибыль на основе спрогнозированных значений суммарной доходности для топ-200 скважин региона 2 составляет: 430373476.863\n",
      "________________________________________\n",
      "средняя прибыль на основе реальных значений суммарной доходности для топ-200 скважин региона 3 составляет: 377557884.235\n",
      "средняя прибыль на основе спрогнозированных значений суммарной доходности для топ-200 скважин региона 3 составляет: 266394474.666\n",
      "________________________________________\n"
     ]
    }
   ],
   "source": [
    "print('средняя прибыль на основе реальных значений суммарной доходности для топ-200 скважин региона 1 составляет:', profit_values_true_1.mean())\n",
    "print('средняя прибыль на основе спрогнозированных значений суммарной доходности для топ-200 скважин региона 1 составляет:', profit_values_predicted_1.mean())\n",
    "print('_'*40)\n",
    "print('средняя прибыль на основе реальных значений суммарной доходности для топ-200 скважин региона 2 составляет:', profit_values_true_2.mean())\n",
    "print('средняя прибыль на основе спрогнозированных значений суммарной доходности для топ-200 скважин региона 2 составляет:', profit_values_predicted_2.mean())\n",
    "print('_'*40)\n",
    "print('средняя прибыль на основе реальных значений суммарной доходности для топ-200 скважин региона 3 составляет:', profit_values_true_3.mean())\n",
    "print('средняя прибыль на основе спрогнозированных значений суммарной доходности для топ-200 скважин региона 3 составляет:', profit_values_predicted_3.mean())\n",
    "print('_'*40)"
   ]
  },
  {
   "cell_type": "markdown",
   "metadata": {
    "pycharm": {
     "name": "#%% md\n"
    }
   },
   "source": [
    "## 4.4. Доверительный интервал\n",
    "<a id=\"4.4.\"></a>"
   ]
  },
  {
   "cell_type": "code",
   "execution_count": 21,
   "metadata": {
    "collapsed": false,
    "jupyter": {
     "outputs_hidden": false
    },
    "pycharm": {
     "name": "#%%\n"
    }
   },
   "outputs": [],
   "source": [
    "def confidence_interval_computer_old(df, alpha=0.95):\n",
    "    interval_values = st.t.interval(alpha=alpha, df=len(df)-1, loc=df.mean(), scale=df.sem())\n",
    "    return int(interval_values[0]), int(interval_values[1])"
   ]
  },
  {
   "cell_type": "code",
   "execution_count": 22,
   "metadata": {},
   "outputs": [],
   "source": [
    "def confidence_interval_computer(df, alpha=0.95):\n",
    "    interval_values_low = df.quantile(0.025)\n",
    "    interval_values_up = df.quantile(0.975)\n",
    "    return int(interval_values_low), int(interval_values_up)"
   ]
  },
  {
   "cell_type": "code",
   "execution_count": 23,
   "metadata": {
    "collapsed": false,
    "jupyter": {
     "outputs_hidden": false
    },
    "pycharm": {
     "name": "#%%\n"
    }
   },
   "outputs": [
    {
     "name": "stdout",
     "output_type": "stream",
     "text": [
      "95% доверительный интервал истинных значений суммарной прибыли для топ-200 скважин региона 1 составляет: (281719891, 563521820)\n",
      "95% доверительный интервал спрогнозированных значений суммарной прибыли для топ-200 скважин региона 1 составляет: (6875756, 275732360)\n"
     ]
    }
   ],
   "source": [
    "print('95% доверительный интервал истинных значений суммарной прибыли для топ-200 скважин региона 1 составляет:', confidence_interval_computer(profit_values_true_1))\n",
    "print('95% доверительный интервал спрогнозированных значений суммарной прибыли для топ-200 скважин региона 1 составляет:', confidence_interval_computer(profit_values_predicted_1))"
   ]
  },
  {
   "cell_type": "code",
   "execution_count": 24,
   "metadata": {},
   "outputs": [
    {
     "name": "stdout",
     "output_type": "stream",
     "text": [
      "95% доверительный интервал истинных значений суммарной прибыли для топ-200 скважин региона 1 составляет (предудущий вариант функции): (-1461922834, 2307164546)\n",
      "95% доверительный интервал спрогнозированных значений суммарной прибыли для топ-200 скважин региона 1 составляет (предудущий вариант функции): (-1656668072, 1939276189)\n"
     ]
    }
   ],
   "source": [
    "print('95% доверительный интервал истинных значений суммарной прибыли для топ-200 скважин региона 1 составляет (предудущий вариант функции):', confidence_interval_computer_old(profit_values_true_1))\n",
    "print('95% доверительный интервал спрогнозированных значений суммарной прибыли для топ-200 скважин региона 1 составляет (предудущий вариант функции):', confidence_interval_computer_old(profit_values_predicted_1))"
   ]
  },
  {
   "cell_type": "code",
   "execution_count": 25,
   "metadata": {
    "collapsed": false,
    "jupyter": {
     "outputs_hidden": false
    },
    "pycharm": {
     "name": "#%%\n"
    }
   },
   "outputs": [
    {
     "name": "stdout",
     "output_type": "stream",
     "text": [
      "95% доверительный интервал истинных значений суммарной прибыли для топ-200 скважин региона 2 составляет: (16846174, 815972525)\n",
      "95% доверительный интервал спрогнозированных значений суммарной прибыли для топ-200 скважин региона 2 составляет: (17347696, 823513320)\n"
     ]
    }
   ],
   "source": [
    "print('95% доверительный интервал истинных значений суммарной прибыли для топ-200 скважин региона 2 составляет:', confidence_interval_computer(profit_values_true_2))\n",
    "print('95% доверительный интервал спрогнозированных значений суммарной прибыли для топ-200 скважин региона 2 составляет:', confidence_interval_computer(profit_values_predicted_2))"
   ]
  },
  {
   "cell_type": "code",
   "execution_count": 26,
   "metadata": {
    "collapsed": false,
    "jupyter": {
     "outputs_hidden": false
    },
    "pycharm": {
     "name": "#%%\n"
    }
   },
   "outputs": [
    {
     "name": "stdout",
     "output_type": "stream",
     "text": [
      "95% доверительный интервал истинных значений суммарной прибыли для топ-200 скважин региона 3 составляет: (-170780417, 901772131)\n",
      "95% доверительный интервал спрогнозированных значений суммарной прибыли для топ-200 скважин региона 3 составляет: (92354027, 465626446)\n"
     ]
    }
   ],
   "source": [
    "print('95% доверительный интервал истинных значений суммарной прибыли для топ-200 скважин региона 3 составляет:', confidence_interval_computer(profit_values_true_3))\n",
    "print('95% доверительный интервал спрогнозированных значений суммарной прибыли для топ-200 скважин региона 3 составляет:', confidence_interval_computer(profit_values_predicted_3))"
   ]
  },
  {
   "cell_type": "markdown",
   "metadata": {
    "pycharm": {
     "name": "#%% md\n"
    }
   },
   "source": [
    "**Вывод:** получился такой рейтинг средних значений:\n",
    "1. 2-й регион 639 млн\n",
    "2. 1-й регион 615 млн\n",
    "3. 3-й регион 587 млн"
   ]
  },
  {
   "cell_type": "markdown",
   "metadata": {},
   "source": [
    "## 4.5. Вероятность убытка\n",
    "<a id=\"4.5.\"></a>"
   ]
  },
  {
   "cell_type": "markdown",
   "metadata": {
    "pycharm": {
     "name": "#%% md\n"
    }
   },
   "source": [
    "Определим для себя что считать убытком: Убыток - это отрицательная прибыль. В связи с чем подготовим функцию расчета убытка."
   ]
  },
  {
   "cell_type": "code",
   "execution_count": 27,
   "metadata": {
    "collapsed": false,
    "jupyter": {
     "outputs_hidden": false
    },
    "pycharm": {
     "name": "#%%\n"
    }
   },
   "outputs": [],
   "source": [
    "def loss_probability_counter(df):\n",
    "    \"\"\"\n",
    "    Функция оценивает полученную прибыль от топ-200 скважин по каждому из значений бутсреп-выборки и подсчитывает соотноешение убыточных вариантов топ-200 к общему числу выборки\n",
    "    :param df:\n",
    "    :param mean_value:\n",
    "    :return:\n",
    "    \"\"\"\n",
    "    counter = 0\n",
    "    for i  in range(len(df)):\n",
    "        if df[i] < 0:\n",
    "            counter += 1\n",
    "    return counter/len(df)"
   ]
  },
  {
   "cell_type": "markdown",
   "metadata": {},
   "source": [
    "Вероятность убытка будем считать не по спрогнозированным значениям, а по реальным"
   ]
  },
  {
   "cell_type": "code",
   "execution_count": 28,
   "metadata": {
    "collapsed": false,
    "jupyter": {
     "outputs_hidden": false
    },
    "pycharm": {
     "name": "#%%\n"
    }
   },
   "outputs": [
    {
     "name": "stdout",
     "output_type": "stream",
     "text": [
      "вероятность убытка в регионе 1: 0.0\n",
      "вероятность убытка в регионе 2: 0.019\n",
      "вероятность убытка в регионе 3: 0.074\n"
     ]
    }
   ],
   "source": [
    "print('вероятность убытка в регионе 1:', loss_probability_counter(profit_values_true_1))\n",
    "print('вероятность убытка в регионе 2:', loss_probability_counter(profit_values_true_2))\n",
    "print('вероятность убытка в регионе 3:', loss_probability_counter(profit_values_true_3))"
   ]
  },
  {
   "cell_type": "markdown",
   "metadata": {
    "pycharm": {
     "name": "#%% md\n"
    }
   },
   "source": [
    "# 5. Выводы\n",
    "<a id=\"5.\"></a>"
   ]
  },
  {
   "cell_type": "markdown",
   "metadata": {
    "pycharm": {
     "name": "#%% md\n"
    }
   },
   "source": [
    "Полученные данные по регионам сведены в таблицу 1.\n",
    "\n",
    "| рейтинг   | регион | среднее значение | диапазон 95% возможных значений (доверитальный интервал) | вероятность убытка |\n",
    "|---------|--------|------------------|----------------------------------------------------------|--------------------|\n",
    "|1| 2-й    | 433 млн          | 16 - 815                                                 | 0%                 |\n",
    "|2| 1-й    | 422 млн          | 281 - 563                                                | 1,9%               |\n",
    "|3| 3-й    | 377  млн         | -170 - 901                                                | 7.4%               |\n",
    "\n",
    "Требованию по вероятности убытков меньше 2.5% удовлетворяет только 2-й регион. Он же и лидер по прибыли. Он же и самый честный по предсказаниям.\n",
    "\n",
    "**Выводы:**\n",
    "1. Наибольшую прибыль с минимальными рисками можно получить в 2-м регионе\n",
    "2. В качестве рекомендаций по увеличинию прибыли и снижению рисокв можно было бы предложить делать выборку не в 200 из 500 скважин, а 181 в первом, 82 - во втором, 190 - в третьем."
   ]
  }
 ],
 "metadata": {
  "ExecuteTimeLog": [
   {
    "duration": 10,
    "start_time": "2022-05-29T12:03:41.016Z"
   },
   {
    "duration": 8,
    "start_time": "2022-05-29T12:18:16.484Z"
   },
   {
    "duration": 9,
    "start_time": "2022-05-29T12:35:07.142Z"
   },
   {
    "duration": 3,
    "start_time": "2022-05-29T12:35:08.810Z"
   },
   {
    "duration": 868,
    "start_time": "2022-05-30T07:18:23.205Z"
   },
   {
    "duration": 1832,
    "start_time": "2022-05-30T07:18:27.027Z"
   },
   {
    "duration": 251,
    "start_time": "2022-05-30T07:18:28.861Z"
   },
   {
    "duration": 75,
    "start_time": "2022-05-30T07:18:29.114Z"
   },
   {
    "duration": 5004,
    "start_time": "2022-05-30T07:18:30.241Z"
   },
   {
    "duration": 106,
    "start_time": "2022-05-30T07:18:35.248Z"
   },
   {
    "duration": 189,
    "start_time": "2022-05-30T07:18:35.356Z"
   },
   {
    "duration": 106,
    "start_time": "2022-05-30T07:18:35.548Z"
   },
   {
    "duration": 10,
    "start_time": "2022-05-30T07:18:35.741Z"
   },
   {
    "duration": 9,
    "start_time": "2022-05-30T07:18:35.752Z"
   },
   {
    "duration": 12,
    "start_time": "2022-05-30T07:18:35.762Z"
   },
   {
    "duration": 16,
    "start_time": "2022-05-30T07:18:35.776Z"
   },
   {
    "duration": 15,
    "start_time": "2022-05-30T07:18:36.197Z"
   },
   {
    "duration": 11,
    "start_time": "2022-05-30T07:18:49.950Z"
   },
   {
    "duration": 6,
    "start_time": "2022-05-30T07:18:50.823Z"
   },
   {
    "duration": 5,
    "start_time": "2022-05-30T07:18:52.993Z"
   },
   {
    "duration": 5,
    "start_time": "2022-05-30T07:18:54.989Z"
   },
   {
    "duration": 4,
    "start_time": "2022-05-30T07:21:20.678Z"
   },
   {
    "duration": 5,
    "start_time": "2022-05-30T07:21:22.978Z"
   },
   {
    "duration": 1457,
    "start_time": "2022-05-30T07:21:34.674Z"
   },
   {
    "duration": 4,
    "start_time": "2022-05-30T07:22:32.782Z"
   },
   {
    "duration": 5,
    "start_time": "2022-05-30T07:22:58.182Z"
   },
   {
    "duration": 2154,
    "start_time": "2022-05-30T07:23:00.507Z"
   },
   {
    "duration": 5,
    "start_time": "2022-05-30T07:25:36.637Z"
   },
   {
    "duration": 4,
    "start_time": "2022-05-30T07:25:40.987Z"
   },
   {
    "duration": 2827,
    "start_time": "2022-05-30T07:25:43.146Z"
   },
   {
    "duration": 922,
    "start_time": "2022-05-30T12:02:09.586Z"
   },
   {
    "duration": 1818,
    "start_time": "2022-05-30T12:02:11.861Z"
   },
   {
    "duration": 295,
    "start_time": "2022-05-30T12:02:13.682Z"
   },
   {
    "duration": 73,
    "start_time": "2022-05-30T12:02:13.979Z"
   },
   {
    "duration": 3873,
    "start_time": "2022-05-30T12:02:32.801Z"
   },
   {
    "duration": 87,
    "start_time": "2022-05-30T12:02:36.677Z"
   },
   {
    "duration": 111,
    "start_time": "2022-05-30T12:02:36.766Z"
   },
   {
    "duration": 178,
    "start_time": "2022-05-30T12:02:36.884Z"
   },
   {
    "duration": 33,
    "start_time": "2022-05-30T12:02:37.069Z"
   },
   {
    "duration": 32,
    "start_time": "2022-05-30T12:02:37.104Z"
   },
   {
    "duration": 58,
    "start_time": "2022-05-30T12:02:37.137Z"
   },
   {
    "duration": 17,
    "start_time": "2022-05-30T12:02:37.198Z"
   },
   {
    "duration": 19,
    "start_time": "2022-05-30T12:02:37.217Z"
   },
   {
    "duration": 15,
    "start_time": "2022-05-30T12:02:42.954Z"
   },
   {
    "duration": 6,
    "start_time": "2022-05-30T12:02:46.804Z"
   },
   {
    "duration": 4,
    "start_time": "2022-05-30T12:02:48.170Z"
   },
   {
    "duration": 5,
    "start_time": "2022-05-30T12:02:48.374Z"
   },
   {
    "duration": 5,
    "start_time": "2022-05-30T12:09:46.294Z"
   },
   {
    "duration": 5,
    "start_time": "2022-05-30T12:09:49.725Z"
   },
   {
    "duration": 3264,
    "start_time": "2022-05-30T12:09:52.311Z"
   },
   {
    "duration": 16,
    "start_time": "2022-05-30T12:14:09.974Z"
   },
   {
    "duration": 6,
    "start_time": "2022-05-30T12:14:14.326Z"
   },
   {
    "duration": 5,
    "start_time": "2022-05-30T12:14:17.490Z"
   },
   {
    "duration": 3927,
    "start_time": "2022-05-30T12:14:18.735Z"
   },
   {
    "duration": 124,
    "start_time": "2022-05-30T12:14:50.078Z"
   },
   {
    "duration": 5,
    "start_time": "2022-05-30T12:15:05.516Z"
   },
   {
    "duration": 7,
    "start_time": "2022-05-30T12:15:06.965Z"
   },
   {
    "duration": 3877,
    "start_time": "2022-05-30T12:15:08.092Z"
   },
   {
    "duration": 13,
    "start_time": "2022-05-30T12:18:12.505Z"
   },
   {
    "duration": 8,
    "start_time": "2022-05-30T12:18:58.037Z"
   },
   {
    "duration": 6,
    "start_time": "2022-05-30T12:18:59.806Z"
   },
   {
    "duration": 12,
    "start_time": "2022-05-30T12:19:01.510Z"
   },
   {
    "duration": 4,
    "start_time": "2022-05-30T12:28:35.392Z"
   },
   {
    "duration": 5,
    "start_time": "2022-05-30T12:28:37.111Z"
   },
   {
    "duration": 11,
    "start_time": "2022-05-30T12:28:39.185Z"
   },
   {
    "duration": 11,
    "start_time": "2022-05-30T12:29:11.686Z"
   },
   {
    "duration": 5,
    "start_time": "2022-05-30T12:41:48.943Z"
   },
   {
    "duration": 7,
    "start_time": "2022-05-30T12:41:54.105Z"
   },
   {
    "duration": 116,
    "start_time": "2022-05-30T12:41:57.424Z"
   },
   {
    "duration": 5,
    "start_time": "2022-05-30T12:45:52.417Z"
   },
   {
    "duration": 5,
    "start_time": "2022-05-30T12:45:56.112Z"
   },
   {
    "duration": 11,
    "start_time": "2022-05-30T12:46:00.043Z"
   },
   {
    "duration": 4,
    "start_time": "2022-05-30T12:46:32.900Z"
   },
   {
    "duration": 4,
    "start_time": "2022-05-30T12:48:45.169Z"
   },
   {
    "duration": 6,
    "start_time": "2022-05-30T12:48:49.788Z"
   },
   {
    "duration": 8,
    "start_time": "2022-05-30T12:48:53.441Z"
   },
   {
    "duration": 4,
    "start_time": "2022-05-30T12:49:39.250Z"
   },
   {
    "duration": 5,
    "start_time": "2022-05-30T12:49:52.263Z"
   },
   {
    "duration": 9,
    "start_time": "2022-05-30T12:49:54.178Z"
   },
   {
    "duration": 9,
    "start_time": "2022-05-30T13:08:58.085Z"
   },
   {
    "duration": 10,
    "start_time": "2022-05-30T13:09:28.539Z"
   },
   {
    "duration": 10,
    "start_time": "2022-05-30T13:09:44.910Z"
   },
   {
    "duration": 8,
    "start_time": "2022-05-30T13:09:50.103Z"
   },
   {
    "duration": 6,
    "start_time": "2022-05-30T13:09:58.839Z"
   },
   {
    "duration": 9,
    "start_time": "2022-05-30T13:10:09.076Z"
   },
   {
    "duration": 8,
    "start_time": "2022-05-30T13:10:17.789Z"
   },
   {
    "duration": 8,
    "start_time": "2022-05-30T13:10:45.976Z"
   },
   {
    "duration": 6,
    "start_time": "2022-05-30T13:11:08.729Z"
   }
  ],
  "kernelspec": {
   "display_name": "Python 3",
   "language": "python",
   "name": "python3"
  },
  "language_info": {
   "codemirror_mode": {
    "name": "ipython",
    "version": 3
   },
   "file_extension": ".py",
   "mimetype": "text/x-python",
   "name": "python",
   "nbconvert_exporter": "python",
   "pygments_lexer": "ipython3",
   "version": "3.7.6"
  },
  "toc": {
   "base_numbering": 1,
   "nav_menu": {},
   "number_sections": true,
   "sideBar": true,
   "skip_h1_title": true,
   "title_cell": "Table of Contents",
   "title_sidebar": "Contents",
   "toc_cell": false,
   "toc_position": {},
   "toc_section_display": true,
   "toc_window_display": false
  }
 },
 "nbformat": 4,
 "nbformat_minor": 4
}
