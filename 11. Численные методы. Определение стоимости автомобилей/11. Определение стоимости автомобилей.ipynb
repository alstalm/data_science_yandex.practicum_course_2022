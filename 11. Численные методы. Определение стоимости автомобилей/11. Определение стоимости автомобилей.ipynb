{
 "cells": [
  {
   "cell_type": "markdown",
   "metadata": {
    "pycharm": {
     "name": "#%% md\n"
    }
   },
   "source": [
    "# Определение стоимости автомобилей\n"
   ]
  },
  {
   "cell_type": "markdown",
   "metadata": {
    "pycharm": {
     "name": "#%% md\n"
    }
   },
   "source": [
    "# Оглавление\n",
    "\n",
    "- [1. Введение](#1.)\n",
    "- [1.1. Формулировка задачи](#1.1)\n",
    "- [1.2. Описание данных](#1.2)\n",
    "- [2. Подготовка данных](#2)\n",
    "- [2.1. Первое знакомство с данными](2.1)\n",
    "- [2.2. Обработка данных](#2.2)\n",
    "- [3. Машинное обучение](#3)\n",
    "- [3.1. LightGBM](#3.1)\n",
    "- [3.2. ElasticNetCV](#3.2)\n",
    "- [4. Выводы](#4)"
   ]
  },
  {
   "cell_type": "code",
   "execution_count": 29,
   "metadata": {},
   "outputs": [],
   "source": [
    "import pandas as pd\n",
    "from matplotlib import pyplot as plt\n",
    "from sklearn.preprocessing import StandardScaler\n",
    "import os\n",
    "from lightgbm import LGBMRegressor\n",
    "from sklearn.metrics import mean_squared_error\n",
    "from  sklearn.model_selection import train_test_split\n",
    "from sklearn.linear_model import ElasticNetCV\n",
    "import optuna\n",
    "import warnings"
   ]
  },
  {
   "cell_type": "markdown",
   "metadata": {
    "pycharm": {
     "name": "#%% md\n"
    }
   },
   "source": [
    "# 1. Введение <a id=\"1.\"></a>"
   ]
  },
  {
   "cell_type": "markdown",
   "metadata": {
    "pycharm": {
     "name": "#%% md\n"
    }
   },
   "source": [
    "## 1.1. Формулировка задачи\n",
    "<a id=\"1.1\"></a>\n",
    "\n",
    "Сервис по продаже автомобилей с пробегом «Не бит, не крашен» разрабатывает приложение для привлечения новых клиентов. В нём можно быстро узнать рыночную стоимость своего автомобиля. В вашем распоряжении исторические данные: технические характеристики, комплектации и цены автомобилей. Вам нужно построить модель для определения стоимости.\n",
    "Заказчику важны:\n",
    "•\tкачество предсказания;\n",
    "•\tскорость предсказания;\n",
    "•\tвремя обучения.\n",
    "\n",
    "•\tДля оценки качества моделей необходимо использовать метрику RMSE.\n",
    "•\tЗначение RMSE должно быть меньше 2500.\n",
    "•\tОбучить несколько моделей, в т.ч. LightGBM.\n",
    "•\tНеобходимо контролировать время обучения и предсказания модели\n",
    "•\tПоскольку модель градиентного бустинга может обучаться долго, допускается использовать и менть у неё только два-три параметра.\n",
    "\n",
    "Прим:\n",
    "•\tЕсли перестанет работать Jupyter Notebook, допускается удалять лишние переменные оператором del:\n"
   ]
  },
  {
   "cell_type": "markdown",
   "metadata": {
    "pycharm": {
     "name": "#%% md\n"
    }
   },
   "source": [
    "## 1.2. Описание данных\n",
    "<a id=\"1.2\"></a>\n",
    "\n",
    "**Признаки**\n",
    "- DateCrawled — дата скачивания анкеты из базы\n",
    "- VehicleType — тип автомобильного кузова\n",
    "- RegistrationYear — год регистрации автомобиля\n",
    "- Gearbox — тип коробки передач\n",
    "- Power — мощность (л. с.)\n",
    "- Model — модель автомобиля\n",
    "- Kilometer — пробег (км)\n",
    "- RegistrationMonth — месяц регистрации автомобиля\n",
    "- FuelType — тип топлива\n",
    "- Brand — марка автомобиля\n",
    "- NotRepaired — была машина в ремонте или нет\n",
    "- DateCreated — дата создания анкеты\n",
    "- NumberOfPictures — количество фотографий автомобиля\n",
    "- PostalCode — почтовый индекс владельца анкеты (пользователя)\n",
    "- LastSeen — дата последней активности пользователя\n",
    "\n",
    "**Целевой признак**\n",
    "- Price — цена (евро)\n"
   ]
  },
  {
   "cell_type": "markdown",
   "metadata": {
    "pycharm": {
     "name": "#%% md\n"
    }
   },
   "source": [
    "# 2. Подготовка данных <a id=\"2\"></a>"
   ]
  },
  {
   "cell_type": "markdown",
   "metadata": {
    "pycharm": {
     "name": "#%% md\n"
    }
   },
   "source": [
    "## 2.1. Первое знакомство с данными <a id=\"2.1\"></a>"
   ]
  },
  {
   "cell_type": "code",
   "execution_count": 2,
   "metadata": {
    "jupyter": {
     "outputs_hidden": false
    },
    "pycharm": {
     "name": "#%%\n"
    }
   },
   "outputs": [],
   "source": [
    "path1 = 'autos.csv'\n",
    "path2 = 'datasets/autos.csv'\n",
    "\n",
    "if os.path.exists(path1):\n",
    "    df = pd.read_csv(path1)\n",
    "elif os.path.exists(path2):\n",
    "    df = pd.read_csv(path1)\n",
    "else: print('Путь к файлу не найден')"
   ]
  },
  {
   "cell_type": "code",
   "execution_count": 3,
   "metadata": {
    "jupyter": {
     "outputs_hidden": false
    },
    "pycharm": {
     "name": "#%%\n"
    }
   },
   "outputs": [
    {
     "name": "stdout",
     "output_type": "stream",
     "text": [
      "<class 'pandas.core.frame.DataFrame'>\n",
      "RangeIndex: 354369 entries, 0 to 354368\n",
      "Data columns (total 16 columns):\n",
      " #   Column             Non-Null Count   Dtype \n",
      "---  ------             --------------   ----- \n",
      " 0   DateCrawled        354369 non-null  object\n",
      " 1   Price              354369 non-null  int64 \n",
      " 2   VehicleType        316879 non-null  object\n",
      " 3   RegistrationYear   354369 non-null  int64 \n",
      " 4   Gearbox            334536 non-null  object\n",
      " 5   Power              354369 non-null  int64 \n",
      " 6   Model              334664 non-null  object\n",
      " 7   Kilometer          354369 non-null  int64 \n",
      " 8   RegistrationMonth  354369 non-null  int64 \n",
      " 9   FuelType           321474 non-null  object\n",
      " 10  Brand              354369 non-null  object\n",
      " 11  NotRepaired        283215 non-null  object\n",
      " 12  DateCreated        354369 non-null  object\n",
      " 13  NumberOfPictures   354369 non-null  int64 \n",
      " 14  PostalCode         354369 non-null  int64 \n",
      " 15  LastSeen           354369 non-null  object\n",
      "dtypes: int64(7), object(9)\n",
      "memory usage: 43.3+ MB\n",
      "None\n"
     ]
    },
    {
     "data": {
      "text/html": [
       "<div>\n",
       "<style scoped>\n",
       "    .dataframe tbody tr th:only-of-type {\n",
       "        vertical-align: middle;\n",
       "    }\n",
       "\n",
       "    .dataframe tbody tr th {\n",
       "        vertical-align: top;\n",
       "    }\n",
       "\n",
       "    .dataframe thead th {\n",
       "        text-align: right;\n",
       "    }\n",
       "</style>\n",
       "<table border=\"1\" class=\"dataframe\">\n",
       "  <thead>\n",
       "    <tr style=\"text-align: right;\">\n",
       "      <th></th>\n",
       "      <th>DateCrawled</th>\n",
       "      <th>Price</th>\n",
       "      <th>VehicleType</th>\n",
       "      <th>RegistrationYear</th>\n",
       "      <th>Gearbox</th>\n",
       "      <th>Power</th>\n",
       "      <th>Model</th>\n",
       "      <th>Kilometer</th>\n",
       "      <th>RegistrationMonth</th>\n",
       "      <th>FuelType</th>\n",
       "      <th>Brand</th>\n",
       "      <th>NotRepaired</th>\n",
       "      <th>DateCreated</th>\n",
       "      <th>NumberOfPictures</th>\n",
       "      <th>PostalCode</th>\n",
       "      <th>LastSeen</th>\n",
       "    </tr>\n",
       "  </thead>\n",
       "  <tbody>\n",
       "    <tr>\n",
       "      <th>0</th>\n",
       "      <td>2016-03-24 11:52:17</td>\n",
       "      <td>480</td>\n",
       "      <td>NaN</td>\n",
       "      <td>1993</td>\n",
       "      <td>manual</td>\n",
       "      <td>0</td>\n",
       "      <td>golf</td>\n",
       "      <td>150000</td>\n",
       "      <td>0</td>\n",
       "      <td>petrol</td>\n",
       "      <td>volkswagen</td>\n",
       "      <td>NaN</td>\n",
       "      <td>2016-03-24 00:00:00</td>\n",
       "      <td>0</td>\n",
       "      <td>70435</td>\n",
       "      <td>2016-04-07 03:16:57</td>\n",
       "    </tr>\n",
       "    <tr>\n",
       "      <th>1</th>\n",
       "      <td>2016-03-24 10:58:45</td>\n",
       "      <td>18300</td>\n",
       "      <td>coupe</td>\n",
       "      <td>2011</td>\n",
       "      <td>manual</td>\n",
       "      <td>190</td>\n",
       "      <td>NaN</td>\n",
       "      <td>125000</td>\n",
       "      <td>5</td>\n",
       "      <td>gasoline</td>\n",
       "      <td>audi</td>\n",
       "      <td>yes</td>\n",
       "      <td>2016-03-24 00:00:00</td>\n",
       "      <td>0</td>\n",
       "      <td>66954</td>\n",
       "      <td>2016-04-07 01:46:50</td>\n",
       "    </tr>\n",
       "    <tr>\n",
       "      <th>2</th>\n",
       "      <td>2016-03-14 12:52:21</td>\n",
       "      <td>9800</td>\n",
       "      <td>suv</td>\n",
       "      <td>2004</td>\n",
       "      <td>auto</td>\n",
       "      <td>163</td>\n",
       "      <td>grand</td>\n",
       "      <td>125000</td>\n",
       "      <td>8</td>\n",
       "      <td>gasoline</td>\n",
       "      <td>jeep</td>\n",
       "      <td>NaN</td>\n",
       "      <td>2016-03-14 00:00:00</td>\n",
       "      <td>0</td>\n",
       "      <td>90480</td>\n",
       "      <td>2016-04-05 12:47:46</td>\n",
       "    </tr>\n",
       "  </tbody>\n",
       "</table>\n",
       "</div>"
      ],
      "text/plain": [
       "           DateCrawled  Price VehicleType  RegistrationYear Gearbox  Power  \\\n",
       "0  2016-03-24 11:52:17    480         NaN              1993  manual      0   \n",
       "1  2016-03-24 10:58:45  18300       coupe              2011  manual    190   \n",
       "2  2016-03-14 12:52:21   9800         suv              2004    auto    163   \n",
       "\n",
       "   Model  Kilometer  RegistrationMonth  FuelType       Brand NotRepaired  \\\n",
       "0   golf     150000                  0    petrol  volkswagen         NaN   \n",
       "1    NaN     125000                  5  gasoline        audi         yes   \n",
       "2  grand     125000                  8  gasoline        jeep         NaN   \n",
       "\n",
       "           DateCreated  NumberOfPictures  PostalCode             LastSeen  \n",
       "0  2016-03-24 00:00:00                 0       70435  2016-04-07 03:16:57  \n",
       "1  2016-03-24 00:00:00                 0       66954  2016-04-07 01:46:50  \n",
       "2  2016-03-14 00:00:00                 0       90480  2016-04-05 12:47:46  "
      ]
     },
     "metadata": {},
     "output_type": "display_data"
    },
    {
     "name": "stdout",
     "output_type": "stream",
     "text": [
      "исходное количество записей в датасете: 354369\n"
     ]
    }
   ],
   "source": [
    "print(df.info())\n",
    "display(df.head(3))\n",
    "initioal_length = len(df)\n",
    "print('исходное количество записей в датасете:',initioal_length)"
   ]
  },
  {
   "cell_type": "code",
   "execution_count": 4,
   "metadata": {
    "jupyter": {
     "outputs_hidden": false
    },
    "pycharm": {
     "name": "#%%\n"
    }
   },
   "outputs": [
    {
     "name": "stdout",
     "output_type": "stream",
     "text": [
      "всего явных дубликатов 4\n"
     ]
    }
   ],
   "source": [
    "# проврим наличие дубликатов\n",
    "print('всего явных дубликатов', df.duplicated().sum())"
   ]
  },
  {
   "cell_type": "markdown",
   "metadata": {
    "pycharm": {
     "name": "#%% md\n"
    }
   },
   "source": [
    "Посмотрим на гистограммы"
   ]
  },
  {
   "cell_type": "code",
   "execution_count": 5,
   "metadata": {
    "jupyter": {
     "outputs_hidden": false
    },
    "pycharm": {
     "name": "#%%\n"
    }
   },
   "outputs": [
    {
     "data": {
      "image/png": "[encoded data removed]",
      "text/plain": [
       "<Figure size 1152x288 with 1 Axes>"
      ]
     },
     "metadata": {
      "needs_background": "light"
     },
     "output_type": "display_data"
    }
   ],
   "source": [
    "ax = df['RegistrationYear'].plot(kind='hist', bins=3000, figsize = (16,4), title = 'Год регистрации автомобиля)')\n",
    "plt.xlim(1950,2030)\n",
    "ax.set(xlabel= 'Год регистрации автомобиля)', ylabel = 'Частота')\n",
    "plt.show()"
   ]
  },
  {
   "cell_type": "code",
   "execution_count": 6,
   "metadata": {
    "jupyter": {
     "outputs_hidden": false
    },
    "pycharm": {
     "name": "#%%\n"
    }
   },
   "outputs": [
    {
     "data": {
      "image/png": "[encoded data removed]",
      "text/plain": [
       "<Figure size 1152x288 with 1 Axes>"
      ]
     },
     "metadata": {
      "needs_background": "light"
     },
     "output_type": "display_data"
    }
   ],
   "source": [
    "ax = df['Kilometer'].plot(kind='hist', bins=20, figsize = (16,4), title = 'Пробег')\n",
    "plt.xlim(0,200000)\n",
    "ax.set(xlabel= 'Пробег (км.)', ylabel = 'Частота')\n",
    "plt.show()"
   ]
  },
  {
   "cell_type": "code",
   "execution_count": 7,
   "metadata": {
    "jupyter": {
     "outputs_hidden": false
    },
    "pycharm": {
     "name": "#%%\n"
    }
   },
   "outputs": [
    {
     "data": {
      "image/png": "[encoded data removed]",
      "text/plain": [
       "<Figure size 1152x288 with 1 Axes>"
      ]
     },
     "metadata": {
      "needs_background": "light"
     },
     "output_type": "display_data"
    }
   ],
   "source": [
    "ax = df['Power'].plot(kind='hist', bins=2000, figsize = (16,4), title =  'Мощность')\n",
    "plt.xlim(0,200)\n",
    "ax.set(xlabel= 'Мощность (л.с.)', ylabel = 'Частота')\n",
    "plt.show()"
   ]
  },
  {
   "cell_type": "code",
   "execution_count": 8,
   "metadata": {
    "jupyter": {
     "outputs_hidden": false
    },
    "pycharm": {
     "name": "#%%\n"
    }
   },
   "outputs": [
    {
     "data": {
      "image/png": "[encoded data removed]",
      "text/plain": [
       "<Figure size 1152x288 with 1 Axes>"
      ]
     },
     "metadata": {
      "needs_background": "light"
     },
     "output_type": "display_data"
    }
   ],
   "source": [
    "ax = df['Price'].plot(kind='hist', bins=2000, figsize = (16,4), title =  'Цена (целевой признак)')\n",
    "plt.xlim(0,2000)\n",
    "ax.set(xlabel= 'Цена', ylabel = 'Частота')\n",
    "plt.show()"
   ]
  },
  {
   "cell_type": "markdown",
   "metadata": {
    "pycharm": {
     "name": "#%% md\n"
    }
   },
   "source": [
    "Предварительный вывод по гистограммам: Похоже, что еть записи с нулевой мощностью и нулевой ценой. Необходимо посмотреть внимательнее на них. По пробугу и году регистрации вроде все ок."
   ]
  },
  {
   "cell_type": "markdown",
   "metadata": {},
   "source": [
    "**Сравним даты**"
   ]
  },
  {
   "cell_type": "code",
   "execution_count": 9,
   "metadata": {},
   "outputs": [
    {
     "data": {
      "text/html": [
       "<div>\n",
       "<style scoped>\n",
       "    .dataframe tbody tr th:only-of-type {\n",
       "        vertical-align: middle;\n",
       "    }\n",
       "\n",
       "    .dataframe tbody tr th {\n",
       "        vertical-align: top;\n",
       "    }\n",
       "\n",
       "    .dataframe thead th {\n",
       "        text-align: right;\n",
       "    }\n",
       "</style>\n",
       "<table border=\"1\" class=\"dataframe\">\n",
       "  <thead>\n",
       "    <tr style=\"text-align: right;\">\n",
       "      <th></th>\n",
       "      <th>DateCrawled</th>\n",
       "      <th>DateCrawled_year</th>\n",
       "      <th>DateCrawled_month</th>\n",
       "    </tr>\n",
       "  </thead>\n",
       "  <tbody>\n",
       "    <tr>\n",
       "      <th>0</th>\n",
       "      <td>2016-03-24 11:52:17</td>\n",
       "      <td>2016</td>\n",
       "      <td>3</td>\n",
       "    </tr>\n",
       "    <tr>\n",
       "      <th>1</th>\n",
       "      <td>2016-03-24 10:58:45</td>\n",
       "      <td>2016</td>\n",
       "      <td>3</td>\n",
       "    </tr>\n",
       "    <tr>\n",
       "      <th>2</th>\n",
       "      <td>2016-03-14 12:52:21</td>\n",
       "      <td>2016</td>\n",
       "      <td>3</td>\n",
       "    </tr>\n",
       "    <tr>\n",
       "      <th>3</th>\n",
       "      <td>2016-03-17 16:54:04</td>\n",
       "      <td>2016</td>\n",
       "      <td>3</td>\n",
       "    </tr>\n",
       "    <tr>\n",
       "      <th>4</th>\n",
       "      <td>2016-03-31 17:25:20</td>\n",
       "      <td>2016</td>\n",
       "      <td>3</td>\n",
       "    </tr>\n",
       "  </tbody>\n",
       "</table>\n",
       "</div>"
      ],
      "text/plain": [
       "          DateCrawled  DateCrawled_year  DateCrawled_month\n",
       "0 2016-03-24 11:52:17              2016                  3\n",
       "1 2016-03-24 10:58:45              2016                  3\n",
       "2 2016-03-14 12:52:21              2016                  3\n",
       "3 2016-03-17 16:54:04              2016                  3\n",
       "4 2016-03-31 17:25:20              2016                  3"
      ]
     },
     "metadata": {},
     "output_type": "display_data"
    },
    {
     "name": "stdout",
     "output_type": "stream",
     "text": [
      "получилось норм.\n"
     ]
    }
   ],
   "source": [
    "# преобразуем DateCrawled в формат даты\n",
    "df['DateCrawled'] = pd.to_datetime(df['DateCrawled'])\n",
    "# вытащим из него значение года\n",
    "df['DateCrawled_year'] = df['DateCrawled'].dt.year.astype(int)\n",
    "# и месяца\n",
    "df['DateCrawled_month'] = df['DateCrawled'].dt.month.astype(int)\n",
    "# проверим как получилось\n",
    "display(df[['DateCrawled', 'DateCrawled_year', 'DateCrawled_month']].head())\n",
    "print('получилось норм.')"
   ]
  },
  {
   "cell_type": "code",
   "execution_count": 10,
   "metadata": {},
   "outputs": [
    {
     "name": "stdout",
     "output_type": "stream",
     "text": [
      "Количетво записей, где скачивание анкеты из базы раньше, чем год регистрации автомобиля = 19759\n"
     ]
    }
   ],
   "source": [
    "df_wrong_date = df[(df['DateCrawled_year'] < df['RegistrationYear']) | ((df['DateCrawled_year'] == df['RegistrationYear']) & (df['DateCrawled_month'] < df['RegistrationMonth']) )]\n",
    "print('Количетво записей, где скачивание анкеты из базы раньше, чем год регистрации автомобиля =', len(df_wrong_date))"
   ]
  },
  {
   "cell_type": "markdown",
   "metadata": {},
   "source": [
    "Посмотрим на эти записи"
   ]
  },
  {
   "cell_type": "code",
   "execution_count": 11,
   "metadata": {},
   "outputs": [
    {
     "data": {
      "text/html": [
       "<div>\n",
       "<style scoped>\n",
       "    .dataframe tbody tr th:only-of-type {\n",
       "        vertical-align: middle;\n",
       "    }\n",
       "\n",
       "    .dataframe tbody tr th {\n",
       "        vertical-align: top;\n",
       "    }\n",
       "\n",
       "    .dataframe thead th {\n",
       "        text-align: right;\n",
       "    }\n",
       "</style>\n",
       "<table border=\"1\" class=\"dataframe\">\n",
       "  <thead>\n",
       "    <tr style=\"text-align: right;\">\n",
       "      <th></th>\n",
       "      <th>DateCrawled</th>\n",
       "      <th>Price</th>\n",
       "      <th>VehicleType</th>\n",
       "      <th>RegistrationYear</th>\n",
       "      <th>Gearbox</th>\n",
       "      <th>Power</th>\n",
       "      <th>Model</th>\n",
       "      <th>Kilometer</th>\n",
       "      <th>RegistrationMonth</th>\n",
       "      <th>FuelType</th>\n",
       "      <th>Brand</th>\n",
       "      <th>NotRepaired</th>\n",
       "      <th>DateCreated</th>\n",
       "      <th>NumberOfPictures</th>\n",
       "      <th>PostalCode</th>\n",
       "      <th>LastSeen</th>\n",
       "      <th>DateCrawled_year</th>\n",
       "      <th>DateCrawled_month</th>\n",
       "    </tr>\n",
       "  </thead>\n",
       "  <tbody>\n",
       "    <tr>\n",
       "      <th>22</th>\n",
       "      <td>2016-03-23 14:52:51</td>\n",
       "      <td>2900</td>\n",
       "      <td>NaN</td>\n",
       "      <td>2018</td>\n",
       "      <td>manual</td>\n",
       "      <td>90</td>\n",
       "      <td>meriva</td>\n",
       "      <td>150000</td>\n",
       "      <td>5</td>\n",
       "      <td>petrol</td>\n",
       "      <td>opel</td>\n",
       "      <td>no</td>\n",
       "      <td>2016-03-23 00:00:00</td>\n",
       "      <td>0</td>\n",
       "      <td>49716</td>\n",
       "      <td>2016-03-31 01:16:33</td>\n",
       "      <td>2016</td>\n",
       "      <td>3</td>\n",
       "    </tr>\n",
       "    <tr>\n",
       "      <th>26</th>\n",
       "      <td>2016-03-10 19:38:18</td>\n",
       "      <td>5555</td>\n",
       "      <td>NaN</td>\n",
       "      <td>2017</td>\n",
       "      <td>manual</td>\n",
       "      <td>125</td>\n",
       "      <td>c4</td>\n",
       "      <td>125000</td>\n",
       "      <td>4</td>\n",
       "      <td>NaN</td>\n",
       "      <td>citroen</td>\n",
       "      <td>no</td>\n",
       "      <td>2016-03-10 00:00:00</td>\n",
       "      <td>0</td>\n",
       "      <td>31139</td>\n",
       "      <td>2016-03-16 09:16:46</td>\n",
       "      <td>2016</td>\n",
       "      <td>3</td>\n",
       "    </tr>\n",
       "    <tr>\n",
       "      <th>31</th>\n",
       "      <td>2016-03-29 16:57:02</td>\n",
       "      <td>899</td>\n",
       "      <td>NaN</td>\n",
       "      <td>2016</td>\n",
       "      <td>manual</td>\n",
       "      <td>60</td>\n",
       "      <td>clio</td>\n",
       "      <td>150000</td>\n",
       "      <td>6</td>\n",
       "      <td>petrol</td>\n",
       "      <td>renault</td>\n",
       "      <td>NaN</td>\n",
       "      <td>2016-03-29 00:00:00</td>\n",
       "      <td>0</td>\n",
       "      <td>37075</td>\n",
       "      <td>2016-03-29 17:43:07</td>\n",
       "      <td>2016</td>\n",
       "      <td>3</td>\n",
       "    </tr>\n",
       "    <tr>\n",
       "      <th>35</th>\n",
       "      <td>2016-03-08 07:54:46</td>\n",
       "      <td>350</td>\n",
       "      <td>NaN</td>\n",
       "      <td>2016</td>\n",
       "      <td>manual</td>\n",
       "      <td>75</td>\n",
       "      <td>golf</td>\n",
       "      <td>150000</td>\n",
       "      <td>4</td>\n",
       "      <td>petrol</td>\n",
       "      <td>volkswagen</td>\n",
       "      <td>no</td>\n",
       "      <td>2016-03-08 00:00:00</td>\n",
       "      <td>0</td>\n",
       "      <td>19386</td>\n",
       "      <td>2016-03-08 09:44:50</td>\n",
       "      <td>2016</td>\n",
       "      <td>3</td>\n",
       "    </tr>\n",
       "    <tr>\n",
       "      <th>48</th>\n",
       "      <td>2016-03-25 14:40:12</td>\n",
       "      <td>7750</td>\n",
       "      <td>NaN</td>\n",
       "      <td>2017</td>\n",
       "      <td>manual</td>\n",
       "      <td>80</td>\n",
       "      <td>golf</td>\n",
       "      <td>100000</td>\n",
       "      <td>1</td>\n",
       "      <td>petrol</td>\n",
       "      <td>volkswagen</td>\n",
       "      <td>NaN</td>\n",
       "      <td>2016-03-25 00:00:00</td>\n",
       "      <td>0</td>\n",
       "      <td>48499</td>\n",
       "      <td>2016-03-31 21:47:44</td>\n",
       "      <td>2016</td>\n",
       "      <td>3</td>\n",
       "    </tr>\n",
       "  </tbody>\n",
       "</table>\n",
       "</div>"
      ],
      "text/plain": [
       "           DateCrawled  Price VehicleType  RegistrationYear Gearbox  Power  \\\n",
       "22 2016-03-23 14:52:51   2900         NaN              2018  manual     90   \n",
       "26 2016-03-10 19:38:18   5555         NaN              2017  manual    125   \n",
       "31 2016-03-29 16:57:02    899         NaN              2016  manual     60   \n",
       "35 2016-03-08 07:54:46    350         NaN              2016  manual     75   \n",
       "48 2016-03-25 14:40:12   7750         NaN              2017  manual     80   \n",
       "\n",
       "     Model  Kilometer  RegistrationMonth FuelType       Brand NotRepaired  \\\n",
       "22  meriva     150000                  5   petrol        opel          no   \n",
       "26      c4     125000                  4      NaN     citroen          no   \n",
       "31    clio     150000                  6   petrol     renault         NaN   \n",
       "35    golf     150000                  4   petrol  volkswagen          no   \n",
       "48    golf     100000                  1   petrol  volkswagen         NaN   \n",
       "\n",
       "            DateCreated  NumberOfPictures  PostalCode             LastSeen  \\\n",
       "22  2016-03-23 00:00:00                 0       49716  2016-03-31 01:16:33   \n",
       "26  2016-03-10 00:00:00                 0       31139  2016-03-16 09:16:46   \n",
       "31  2016-03-29 00:00:00                 0       37075  2016-03-29 17:43:07   \n",
       "35  2016-03-08 00:00:00                 0       19386  2016-03-08 09:44:50   \n",
       "48  2016-03-25 00:00:00                 0       48499  2016-03-31 21:47:44   \n",
       "\n",
       "    DateCrawled_year  DateCrawled_month  \n",
       "22              2016                  3  \n",
       "26              2016                  3  \n",
       "31              2016                  3  \n",
       "35              2016                  3  \n",
       "48              2016                  3  "
      ]
     },
     "execution_count": 11,
     "metadata": {},
     "output_type": "execute_result"
    }
   ],
   "source": [
    "df_wrong_date.head()"
   ]
  },
  {
   "cell_type": "markdown",
   "metadata": {},
   "source": [
    "Похоже, что-то не так именно с годом регистрации, а не с датой скачивания с базы. Например Opel Meriva, судя по данным из википедии, выпускался до 2017, а в датасете указан 2018 год регистрации. Может конечно быть и так, что машина год в салоне стояла или выпущена в декабре 2017, а продана в январе 2018, но за неимением информации на сей счет и в целях гарантирования валидности данных исключим эти записи из датасета. (на общем фоне уменьшение не будет критичным)   "
   ]
  },
  {
   "cell_type": "markdown",
   "metadata": {
    "pycharm": {
     "name": "#%% md\n"
    }
   },
   "source": [
    "**Посчитаем нулевые значения и посмотрим на данные с ними**"
   ]
  },
  {
   "cell_type": "code",
   "execution_count": 12,
   "metadata": {
    "jupyter": {
     "outputs_hidden": false
    },
    "pycharm": {
     "name": "#%%\n"
    }
   },
   "outputs": [
    {
     "name": "stdout",
     "output_type": "stream",
     "text": [
      "Количество записей с нулевым значением мощности составляет: 40225\n",
      "пример таких записей\n"
     ]
    },
    {
     "data": {
      "text/html": [
       "<div>\n",
       "<style scoped>\n",
       "    .dataframe tbody tr th:only-of-type {\n",
       "        vertical-align: middle;\n",
       "    }\n",
       "\n",
       "    .dataframe tbody tr th {\n",
       "        vertical-align: top;\n",
       "    }\n",
       "\n",
       "    .dataframe thead th {\n",
       "        text-align: right;\n",
       "    }\n",
       "</style>\n",
       "<table border=\"1\" class=\"dataframe\">\n",
       "  <thead>\n",
       "    <tr style=\"text-align: right;\">\n",
       "      <th></th>\n",
       "      <th>DateCrawled</th>\n",
       "      <th>Price</th>\n",
       "      <th>VehicleType</th>\n",
       "      <th>RegistrationYear</th>\n",
       "      <th>Gearbox</th>\n",
       "      <th>Power</th>\n",
       "      <th>Model</th>\n",
       "      <th>Kilometer</th>\n",
       "      <th>RegistrationMonth</th>\n",
       "      <th>FuelType</th>\n",
       "      <th>Brand</th>\n",
       "      <th>NotRepaired</th>\n",
       "      <th>DateCreated</th>\n",
       "      <th>NumberOfPictures</th>\n",
       "      <th>PostalCode</th>\n",
       "      <th>LastSeen</th>\n",
       "      <th>DateCrawled_year</th>\n",
       "      <th>DateCrawled_month</th>\n",
       "    </tr>\n",
       "  </thead>\n",
       "  <tbody>\n",
       "    <tr>\n",
       "      <th>0</th>\n",
       "      <td>2016-03-24 11:52:17</td>\n",
       "      <td>480</td>\n",
       "      <td>NaN</td>\n",
       "      <td>1993</td>\n",
       "      <td>manual</td>\n",
       "      <td>0</td>\n",
       "      <td>golf</td>\n",
       "      <td>150000</td>\n",
       "      <td>0</td>\n",
       "      <td>petrol</td>\n",
       "      <td>volkswagen</td>\n",
       "      <td>NaN</td>\n",
       "      <td>2016-03-24 00:00:00</td>\n",
       "      <td>0</td>\n",
       "      <td>70435</td>\n",
       "      <td>2016-04-07 03:16:57</td>\n",
       "      <td>2016</td>\n",
       "      <td>3</td>\n",
       "    </tr>\n",
       "    <tr>\n",
       "      <th>15</th>\n",
       "      <td>2016-03-11 21:39:15</td>\n",
       "      <td>450</td>\n",
       "      <td>small</td>\n",
       "      <td>1910</td>\n",
       "      <td>NaN</td>\n",
       "      <td>0</td>\n",
       "      <td>ka</td>\n",
       "      <td>5000</td>\n",
       "      <td>0</td>\n",
       "      <td>petrol</td>\n",
       "      <td>ford</td>\n",
       "      <td>NaN</td>\n",
       "      <td>2016-03-11 00:00:00</td>\n",
       "      <td>0</td>\n",
       "      <td>24148</td>\n",
       "      <td>2016-03-19 08:46:47</td>\n",
       "      <td>2016</td>\n",
       "      <td>3</td>\n",
       "    </tr>\n",
       "    <tr>\n",
       "      <th>32</th>\n",
       "      <td>2016-03-15 20:59:01</td>\n",
       "      <td>245</td>\n",
       "      <td>sedan</td>\n",
       "      <td>1994</td>\n",
       "      <td>NaN</td>\n",
       "      <td>0</td>\n",
       "      <td>golf</td>\n",
       "      <td>150000</td>\n",
       "      <td>2</td>\n",
       "      <td>petrol</td>\n",
       "      <td>volkswagen</td>\n",
       "      <td>no</td>\n",
       "      <td>2016-03-15 00:00:00</td>\n",
       "      <td>0</td>\n",
       "      <td>44145</td>\n",
       "      <td>2016-03-17 18:17:43</td>\n",
       "      <td>2016</td>\n",
       "      <td>3</td>\n",
       "    </tr>\n",
       "    <tr>\n",
       "      <th>37</th>\n",
       "      <td>2016-03-28 17:50:15</td>\n",
       "      <td>1500</td>\n",
       "      <td>NaN</td>\n",
       "      <td>2016</td>\n",
       "      <td>NaN</td>\n",
       "      <td>0</td>\n",
       "      <td>kangoo</td>\n",
       "      <td>150000</td>\n",
       "      <td>1</td>\n",
       "      <td>gasoline</td>\n",
       "      <td>renault</td>\n",
       "      <td>no</td>\n",
       "      <td>2016-03-28 00:00:00</td>\n",
       "      <td>0</td>\n",
       "      <td>46483</td>\n",
       "      <td>2016-03-30 09:18:02</td>\n",
       "      <td>2016</td>\n",
       "      <td>3</td>\n",
       "    </tr>\n",
       "    <tr>\n",
       "      <th>40</th>\n",
       "      <td>2016-03-26 22:06:17</td>\n",
       "      <td>0</td>\n",
       "      <td>NaN</td>\n",
       "      <td>1990</td>\n",
       "      <td>NaN</td>\n",
       "      <td>0</td>\n",
       "      <td>corsa</td>\n",
       "      <td>150000</td>\n",
       "      <td>1</td>\n",
       "      <td>petrol</td>\n",
       "      <td>opel</td>\n",
       "      <td>NaN</td>\n",
       "      <td>2016-03-26 00:00:00</td>\n",
       "      <td>0</td>\n",
       "      <td>56412</td>\n",
       "      <td>2016-03-27 17:43:34</td>\n",
       "      <td>2016</td>\n",
       "      <td>3</td>\n",
       "    </tr>\n",
       "  </tbody>\n",
       "</table>\n",
       "</div>"
      ],
      "text/plain": [
       "           DateCrawled  Price VehicleType  RegistrationYear Gearbox  Power  \\\n",
       "0  2016-03-24 11:52:17    480         NaN              1993  manual      0   \n",
       "15 2016-03-11 21:39:15    450       small              1910     NaN      0   \n",
       "32 2016-03-15 20:59:01    245       sedan              1994     NaN      0   \n",
       "37 2016-03-28 17:50:15   1500         NaN              2016     NaN      0   \n",
       "40 2016-03-26 22:06:17      0         NaN              1990     NaN      0   \n",
       "\n",
       "     Model  Kilometer  RegistrationMonth  FuelType       Brand NotRepaired  \\\n",
       "0     golf     150000                  0    petrol  volkswagen         NaN   \n",
       "15      ka       5000                  0    petrol        ford         NaN   \n",
       "32    golf     150000                  2    petrol  volkswagen          no   \n",
       "37  kangoo     150000                  1  gasoline     renault          no   \n",
       "40   corsa     150000                  1    petrol        opel         NaN   \n",
       "\n",
       "            DateCreated  NumberOfPictures  PostalCode             LastSeen  \\\n",
       "0   2016-03-24 00:00:00                 0       70435  2016-04-07 03:16:57   \n",
       "15  2016-03-11 00:00:00                 0       24148  2016-03-19 08:46:47   \n",
       "32  2016-03-15 00:00:00                 0       44145  2016-03-17 18:17:43   \n",
       "37  2016-03-28 00:00:00                 0       46483  2016-03-30 09:18:02   \n",
       "40  2016-03-26 00:00:00                 0       56412  2016-03-27 17:43:34   \n",
       "\n",
       "    DateCrawled_year  DateCrawled_month  \n",
       "0               2016                  3  \n",
       "15              2016                  3  \n",
       "32              2016                  3  \n",
       "37              2016                  3  \n",
       "40              2016                  3  "
      ]
     },
     "metadata": {},
     "output_type": "display_data"
    },
    {
     "name": "stdout",
     "output_type": "stream",
     "text": [
      "Количество записей с нулевым значением цены составляет: 10772\n",
      "пример таких записей\n"
     ]
    },
    {
     "data": {
      "text/html": [
       "<div>\n",
       "<style scoped>\n",
       "    .dataframe tbody tr th:only-of-type {\n",
       "        vertical-align: middle;\n",
       "    }\n",
       "\n",
       "    .dataframe tbody tr th {\n",
       "        vertical-align: top;\n",
       "    }\n",
       "\n",
       "    .dataframe thead th {\n",
       "        text-align: right;\n",
       "    }\n",
       "</style>\n",
       "<table border=\"1\" class=\"dataframe\">\n",
       "  <thead>\n",
       "    <tr style=\"text-align: right;\">\n",
       "      <th></th>\n",
       "      <th>DateCrawled</th>\n",
       "      <th>Price</th>\n",
       "      <th>VehicleType</th>\n",
       "      <th>RegistrationYear</th>\n",
       "      <th>Gearbox</th>\n",
       "      <th>Power</th>\n",
       "      <th>Model</th>\n",
       "      <th>Kilometer</th>\n",
       "      <th>RegistrationMonth</th>\n",
       "      <th>FuelType</th>\n",
       "      <th>Brand</th>\n",
       "      <th>NotRepaired</th>\n",
       "      <th>DateCreated</th>\n",
       "      <th>NumberOfPictures</th>\n",
       "      <th>PostalCode</th>\n",
       "      <th>LastSeen</th>\n",
       "      <th>DateCrawled_year</th>\n",
       "      <th>DateCrawled_month</th>\n",
       "    </tr>\n",
       "  </thead>\n",
       "  <tbody>\n",
       "    <tr>\n",
       "      <th>7</th>\n",
       "      <td>2016-03-21 18:54:38</td>\n",
       "      <td>0</td>\n",
       "      <td>sedan</td>\n",
       "      <td>1980</td>\n",
       "      <td>manual</td>\n",
       "      <td>50</td>\n",
       "      <td>other</td>\n",
       "      <td>40000</td>\n",
       "      <td>7</td>\n",
       "      <td>petrol</td>\n",
       "      <td>volkswagen</td>\n",
       "      <td>no</td>\n",
       "      <td>2016-03-21 00:00:00</td>\n",
       "      <td>0</td>\n",
       "      <td>19348</td>\n",
       "      <td>2016-03-25 16:47:58</td>\n",
       "      <td>2016</td>\n",
       "      <td>3</td>\n",
       "    </tr>\n",
       "    <tr>\n",
       "      <th>40</th>\n",
       "      <td>2016-03-26 22:06:17</td>\n",
       "      <td>0</td>\n",
       "      <td>NaN</td>\n",
       "      <td>1990</td>\n",
       "      <td>NaN</td>\n",
       "      <td>0</td>\n",
       "      <td>corsa</td>\n",
       "      <td>150000</td>\n",
       "      <td>1</td>\n",
       "      <td>petrol</td>\n",
       "      <td>opel</td>\n",
       "      <td>NaN</td>\n",
       "      <td>2016-03-26 00:00:00</td>\n",
       "      <td>0</td>\n",
       "      <td>56412</td>\n",
       "      <td>2016-03-27 17:43:34</td>\n",
       "      <td>2016</td>\n",
       "      <td>3</td>\n",
       "    </tr>\n",
       "    <tr>\n",
       "      <th>111</th>\n",
       "      <td>2016-03-19 18:40:12</td>\n",
       "      <td>0</td>\n",
       "      <td>NaN</td>\n",
       "      <td>2017</td>\n",
       "      <td>manual</td>\n",
       "      <td>0</td>\n",
       "      <td>golf</td>\n",
       "      <td>5000</td>\n",
       "      <td>12</td>\n",
       "      <td>petrol</td>\n",
       "      <td>volkswagen</td>\n",
       "      <td>NaN</td>\n",
       "      <td>2016-03-19 00:00:00</td>\n",
       "      <td>0</td>\n",
       "      <td>21698</td>\n",
       "      <td>2016-04-01 08:47:05</td>\n",
       "      <td>2016</td>\n",
       "      <td>3</td>\n",
       "    </tr>\n",
       "    <tr>\n",
       "      <th>115</th>\n",
       "      <td>2016-03-20 18:53:27</td>\n",
       "      <td>0</td>\n",
       "      <td>small</td>\n",
       "      <td>1999</td>\n",
       "      <td>NaN</td>\n",
       "      <td>0</td>\n",
       "      <td>NaN</td>\n",
       "      <td>5000</td>\n",
       "      <td>0</td>\n",
       "      <td>petrol</td>\n",
       "      <td>volkswagen</td>\n",
       "      <td>NaN</td>\n",
       "      <td>2016-03-20 00:00:00</td>\n",
       "      <td>0</td>\n",
       "      <td>37520</td>\n",
       "      <td>2016-04-07 02:45:22</td>\n",
       "      <td>2016</td>\n",
       "      <td>3</td>\n",
       "    </tr>\n",
       "    <tr>\n",
       "      <th>152</th>\n",
       "      <td>2016-03-11 18:55:53</td>\n",
       "      <td>0</td>\n",
       "      <td>bus</td>\n",
       "      <td>2004</td>\n",
       "      <td>manual</td>\n",
       "      <td>101</td>\n",
       "      <td>meriva</td>\n",
       "      <td>150000</td>\n",
       "      <td>10</td>\n",
       "      <td>lpg</td>\n",
       "      <td>opel</td>\n",
       "      <td>yes</td>\n",
       "      <td>2016-03-11 00:00:00</td>\n",
       "      <td>0</td>\n",
       "      <td>27432</td>\n",
       "      <td>2016-03-12 23:47:10</td>\n",
       "      <td>2016</td>\n",
       "      <td>3</td>\n",
       "    </tr>\n",
       "  </tbody>\n",
       "</table>\n",
       "</div>"
      ],
      "text/plain": [
       "            DateCrawled  Price VehicleType  RegistrationYear Gearbox  Power  \\\n",
       "7   2016-03-21 18:54:38      0       sedan              1980  manual     50   \n",
       "40  2016-03-26 22:06:17      0         NaN              1990     NaN      0   \n",
       "111 2016-03-19 18:40:12      0         NaN              2017  manual      0   \n",
       "115 2016-03-20 18:53:27      0       small              1999     NaN      0   \n",
       "152 2016-03-11 18:55:53      0         bus              2004  manual    101   \n",
       "\n",
       "      Model  Kilometer  RegistrationMonth FuelType       Brand NotRepaired  \\\n",
       "7     other      40000                  7   petrol  volkswagen          no   \n",
       "40    corsa     150000                  1   petrol        opel         NaN   \n",
       "111    golf       5000                 12   petrol  volkswagen         NaN   \n",
       "115     NaN       5000                  0   petrol  volkswagen         NaN   \n",
       "152  meriva     150000                 10      lpg        opel         yes   \n",
       "\n",
       "             DateCreated  NumberOfPictures  PostalCode             LastSeen  \\\n",
       "7    2016-03-21 00:00:00                 0       19348  2016-03-25 16:47:58   \n",
       "40   2016-03-26 00:00:00                 0       56412  2016-03-27 17:43:34   \n",
       "111  2016-03-19 00:00:00                 0       21698  2016-04-01 08:47:05   \n",
       "115  2016-03-20 00:00:00                 0       37520  2016-04-07 02:45:22   \n",
       "152  2016-03-11 00:00:00                 0       27432  2016-03-12 23:47:10   \n",
       "\n",
       "     DateCrawled_year  DateCrawled_month  \n",
       "7                2016                  3  \n",
       "40               2016                  3  \n",
       "111              2016                  3  \n",
       "115              2016                  3  \n",
       "152              2016                  3  "
      ]
     },
     "metadata": {},
     "output_type": "display_data"
    }
   ],
   "source": [
    "print('Количество записей с нулевым значением мощности составляет:', df.loc[df['Power']==0,'Power'].count())\n",
    "print('пример таких записей')\n",
    "display(df[df['Power']==0].head())\n",
    "\n",
    "print('Количество записей с нулевым значением цены составляет:', df.loc[df['Price']==0,'Price'].count())\n",
    "print('пример таких записей')\n",
    "display(df[df['Price']==0].head())"
   ]
  },
  {
   "cell_type": "markdown",
   "metadata": {},
   "source": [
    "Посмотрим на категориальные признаки."
   ]
  },
  {
   "cell_type": "code",
   "execution_count": 13,
   "metadata": {
    "jupyter": {
     "outputs_hidden": false
    },
    "pycharm": {
     "name": "#%%\n"
    }
   },
   "outputs": [
    {
     "name": "stdout",
     "output_type": "stream",
     "text": [
      "Уникальные значения параметра Vehicletype: [nan, 'coupe', 'suv', 'small', 'sedan', 'convertible', 'bus', 'wagon', 'other']\n",
      "Уникальные значения параметра Gearbox: ['manual', 'auto', nan]\n",
      "Уникальные значения параметра FuelType: ['petrol', 'gasoline', nan, 'lpg', 'other', 'hybrid', 'cng', 'electric']\n",
      "Уникальные значения параметра Brand: ['volkswagen', 'audi', 'jeep', 'skoda', 'bmw', 'peugeot', 'ford', 'mazda', 'nissan', 'renault', 'mercedes_benz', 'opel', 'seat', 'citroen', 'honda', 'fiat', 'mini', 'smart', 'hyundai', 'sonstige_autos', 'alfa_romeo', 'subaru', 'volvo', 'mitsubishi', 'kia', 'suzuki', 'lancia', 'toyota', 'chevrolet', 'dacia', 'daihatsu', 'trabant', 'saab', 'chrysler', 'jaguar', 'daewoo', 'porsche', 'rover', 'land_rover', 'lada']\n",
      "Уникальные значения параметра NotRepaired: [nan, 'yes', 'no']\n"
     ]
    }
   ],
   "source": [
    "print('Уникальные значения параметра Vehicletype:', df['VehicleType'].unique().tolist())\n",
    "print('Уникальные значения параметра Gearbox:', df['Gearbox'].unique().tolist())\n",
    "print('Уникальные значения параметра FuelType:', df['FuelType'].unique().tolist())\n",
    "print('Уникальные значения параметра Brand:', df['Brand'].unique().tolist())\n",
    "print('Уникальные значения параметра NotRepaired:', df['NotRepaired'].unique().tolist())"
   ]
  },
  {
   "cell_type": "markdown",
   "metadata": {
    "pycharm": {
     "name": "#%% md\n"
    }
   },
   "source": [
    "Выводы:\n",
    "\n",
    "1. В типе топлива нет \"дизель\", но есть 'petrol' и 'gasoline', что переводится как \"бензин\" в зависимости от страны (Англия или США). Вряд ли датасет был собран из баз разных стран, а дизель, все же, везде переводится как \"diesel\". В общем много вопросов к датасету, но пожалуй не будем с этим ничего делать.\n",
    "2. Скрытых дубликатов в марках автомобилей нет (но зато есть lada =), и судя по марке trabant - это все же Европейская база."
   ]
  },
  {
   "cell_type": "markdown",
   "metadata": {
    "pycharm": {
     "name": "#%% md\n"
    }
   },
   "source": [
    "### Подытог\n",
    "Наблюдения:\n",
    "\n",
    "1. В следующих столбцах данных присутствуют пропуски:\n",
    "    1. VehicleType\n",
    "    2. Gearbox\n",
    "    3. Model\n",
    "    4. FuelType\n",
    "    5. NotRepaired\n",
    "   При этом, это пропуски в категориальных параметрах\n",
    "2. Столбцы с датами (проведем следующую декомпозицию):\n",
    "    1. Ненужные столбцы: DateCrawled (дата скачивания анкеты из базы), DateCreated (дата создания анкеты), LastSeen (дата последней активности пользователя), RegistrationMonth (месяц регистрации автомобиля) - вряд ли они влияют на цену автомобиля, поэтому просто удалим их.\n",
    "    2. столбец RegistrationYear - оставим типа int, т.к. в общем случае чем старше, тем дешевле.\n",
    "3. найдено 4 полных дубликата.\n",
    "4. Параметры названы с заглавной буквы\n",
    "5. Присутствуют записи с нулевым значением цены и мощности\n",
    "6. присутствует некорая неясность с категориальными переменными\n",
    "7. Присутствуют ошибки в параметре \"Год регистрации\"\n",
    "8. Присутствуют категориальные параметры:\n",
    "    1. VehicleType\n",
    "    2. Gearbox\n",
    "    3. Model\n",
    "    4. FuelType\n",
    "    5. Brand\n",
    "    6. NotRepaired\n",
    "    7. PostalCode\n",
    "\n",
    "Выводы:\n",
    "1. Заполнить пропуски значением \"was_nan\" (поскуольку данные категориальные мы не можем заполнить медианным значением, а самым частотным - воможно не \"честныый\" подход, т.к. возможно, сами пропуски имеют значимость. в идеале это надо протестировать, но в рамках учебного задания опустим это действие)\n",
    "2. Столбцы с датами:\n",
    "    1. DateCrawled, DateCreated, LastSeen\n",
    "    2. Разбить на сезоны столбец RegistrationMonth и после удалить\n",
    "3. Удалить дубликаты строк\n",
    "4. Привести названия параметров к нижнему регистру\n",
    "5. Записи с нулевым значением:\n",
    "    - с нулевым значением цены - удалим, т.к. вероятно это ошибка, и если мы сервис спрогнозирует клиенту цену \"0 руб 0 коп.\" вряд ли клиент посчитает этот сервис хорошим..\n",
    "    - с нулевым значением мощности.. так же удалим, т.к. для одинаковых моделей и годов выпуска могут быть различные двигатели и это может прям существенно влиять на цену (более мощный двигатель может добавить до 60% от стоимости). А поскольку никаких других зацепок как получить мощность у нас нет, наиболле лучшим для прогноза будет просто \"грохнуть\" эти записи (к тому же тема данного модуля - знакомство с градиентным бустингом, надо помнить..=)\n",
    "6. Категориальне переменные не меняем\n",
    "7. Удалить записи с невалидным годом регистрации\n",
    "8. Для XGBost Создать датасет с OHE-обработкой, и подготовить список категориальных признаков для LightGBM и CatBoost"
   ]
  },
  {
   "cell_type": "markdown",
   "metadata": {},
   "source": [
    "### 2.2.1. удаление записей с невалидным годом регистрации"
   ]
  },
  {
   "cell_type": "markdown",
   "metadata": {},
   "source": [
    "Сперва посмотрим на размер датфареймов"
   ]
  },
  {
   "cell_type": "code",
   "execution_count": 14,
   "metadata": {},
   "outputs": [
    {
     "name": "stdout",
     "output_type": "stream",
     "text": [
      "размер исходного датафрейма (354369, 18)\n",
      "длина датафрейма с невалидными датами регистрации 19759\n",
      "длина исходногг датафрейма - невалидные значения  334610\n"
     ]
    }
   ],
   "source": [
    "print('размер исходного датафрейма', df.shape)\n",
    "print('длина датафрейма с невалидными датами регистрации', len(df_wrong_date))\n",
    "print('длина исходногг датафрейма - невалидные значения ', len(df) - len(df_wrong_date))"
   ]
  },
  {
   "cell_type": "code",
   "execution_count": 15,
   "metadata": {},
   "outputs": [
    {
     "name": "stdout",
     "output_type": "stream",
     "text": [
      "после удаления записей с невалидными датами регистрации размер датафрейма стал:  (334610, 18) \n",
      "размер сходится удалили корректно\n"
     ]
    }
   ],
   "source": [
    "df = df.drop(df_wrong_date.index, axis=0)\n",
    "print('после удаления записей с невалидными датами регистрации размер датафрейма стал: ',df.shape, '\\nразмер сходится удалили корректно')"
   ]
  },
  {
   "cell_type": "markdown",
   "metadata": {
    "pycharm": {
     "name": "#%% md\n"
    }
   },
   "source": [
    "### 2.2.2. Заполнение пропусков"
   ]
  },
  {
   "cell_type": "code",
   "execution_count": 16,
   "metadata": {
    "jupyter": {
     "outputs_hidden": false
    },
    "pycharm": {
     "name": "#%%\n"
    }
   },
   "outputs": [
    {
     "name": "stdout",
     "output_type": "stream",
     "text": [
      "<class 'pandas.core.frame.DataFrame'>\n",
      "Int64Index: 334610 entries, 0 to 354368\n",
      "Data columns (total 18 columns):\n",
      " #   Column             Non-Null Count   Dtype         \n",
      "---  ------             --------------   -----         \n",
      " 0   DateCrawled        334610 non-null  datetime64[ns]\n",
      " 1   Price              334610 non-null  int64         \n",
      " 2   VehicleType        334610 non-null  object        \n",
      " 3   RegistrationYear   334610 non-null  int64         \n",
      " 4   Gearbox            334610 non-null  object        \n",
      " 5   Power              334610 non-null  int64         \n",
      " 6   Model              334610 non-null  object        \n",
      " 7   Kilometer          334610 non-null  int64         \n",
      " 8   RegistrationMonth  334610 non-null  int64         \n",
      " 9   FuelType           334610 non-null  object        \n",
      " 10  Brand              334610 non-null  object        \n",
      " 11  NotRepaired        334610 non-null  object        \n",
      " 12  DateCreated        334610 non-null  object        \n",
      " 13  NumberOfPictures   334610 non-null  int64         \n",
      " 14  PostalCode         334610 non-null  int64         \n",
      " 15  LastSeen           334610 non-null  object        \n",
      " 16  DateCrawled_year   334610 non-null  int32         \n",
      " 17  DateCrawled_month  334610 non-null  int32         \n",
      "dtypes: datetime64[ns](1), int32(2), int64(7), object(8)\n",
      "memory usage: 46.0+ MB\n"
     ]
    }
   ],
   "source": [
    "to_fill_in_columns_list = ['VehicleType', 'Gearbox', 'Model', 'FuelType', 'NotRepaired']\n",
    "\n",
    "for col in to_fill_in_columns_list:\n",
    "    df[col].fillna(value = 'was_nan', inplace=True)\n",
    "# проверим как заполнилось\n",
    "df.info()"
   ]
  },
  {
   "cell_type": "markdown",
   "metadata": {
    "pycharm": {
     "name": "#%% md\n"
    }
   },
   "source": [
    "Пропуски заполнились"
   ]
  },
  {
   "cell_type": "markdown",
   "metadata": {
    "pycharm": {
     "name": "#%% md\n"
    }
   },
   "source": [
    "### 2.2.3. Удаление столбцов"
   ]
  },
  {
   "cell_type": "code",
   "execution_count": 17,
   "metadata": {
    "jupyter": {
     "outputs_hidden": false
    },
    "pycharm": {
     "name": "#%%\n"
    }
   },
   "outputs": [
    {
     "name": "stdout",
     "output_type": "stream",
     "text": [
      "<class 'pandas.core.frame.DataFrame'>\n",
      "Int64Index: 334610 entries, 0 to 354368\n",
      "Data columns (total 14 columns):\n",
      " #   Column             Non-Null Count   Dtype \n",
      "---  ------             --------------   ----- \n",
      " 0   Price              334610 non-null  int64 \n",
      " 1   VehicleType        334610 non-null  object\n",
      " 2   RegistrationYear   334610 non-null  int64 \n",
      " 3   Gearbox            334610 non-null  object\n",
      " 4   Power              334610 non-null  int64 \n",
      " 5   Model              334610 non-null  object\n",
      " 6   Kilometer          334610 non-null  int64 \n",
      " 7   FuelType           334610 non-null  object\n",
      " 8   Brand              334610 non-null  object\n",
      " 9   NotRepaired        334610 non-null  object\n",
      " 10  NumberOfPictures   334610 non-null  int64 \n",
      " 11  PostalCode         334610 non-null  int64 \n",
      " 12  DateCrawled_year   334610 non-null  int32 \n",
      " 13  DateCrawled_month  334610 non-null  int32 \n",
      "dtypes: int32(2), int64(6), object(6)\n",
      "memory usage: 35.7+ MB\n",
      "None\n"
     ]
    }
   ],
   "source": [
    "to_drop_column_list = ['DateCrawled', 'DateCreated', 'LastSeen', 'RegistrationMonth']\n",
    "\n",
    "df.drop(columns=to_drop_column_list, axis=1, inplace=True)\n",
    "print(df.info())"
   ]
  },
  {
   "cell_type": "markdown",
   "metadata": {
    "pycharm": {
     "name": "#%% md\n"
    }
   },
   "source": [
    "### 2.2.4. Удаление дубликатов"
   ]
  },
  {
   "cell_type": "code",
   "execution_count": 18,
   "metadata": {
    "jupyter": {
     "outputs_hidden": false
    },
    "pycharm": {
     "name": "#%%\n"
    }
   },
   "outputs": [],
   "source": [
    "df.drop_duplicates(inplace=True)"
   ]
  },
  {
   "cell_type": "markdown",
   "metadata": {
    "pycharm": {
     "name": "#%% md\n"
    }
   },
   "source": [
    "### 2.2.5. Переименование столбцов"
   ]
  },
  {
   "cell_type": "code",
   "execution_count": 19,
   "metadata": {
    "jupyter": {
     "outputs_hidden": false
    },
    "pycharm": {
     "name": "#%%\n"
    }
   },
   "outputs": [
    {
     "name": "stdout",
     "output_type": "stream",
     "text": [
      "новые названия столбцов: Index(['price', 'vehicletype', 'registrationyear', 'gearbox', 'power', 'model',\n",
      "       'kilometer', 'fueltype', 'brand', 'notrepaired', 'numberofpictures',\n",
      "       'postalcode', 'datecrawled_year', 'datecrawled_month'],\n",
      "      dtype='object')\n"
     ]
    }
   ],
   "source": [
    "df.columns = df.columns.str.lower()\n",
    "print('новые названия столбцов:',df.columns)"
   ]
  },
  {
   "cell_type": "markdown",
   "metadata": {
    "pycharm": {
     "name": "#%% md\n"
    }
   },
   "source": [
    "### 2.2.6. Удаление записей с нулевыми значениямми"
   ]
  },
  {
   "cell_type": "code",
   "execution_count": 20,
   "metadata": {
    "jupyter": {
     "outputs_hidden": false
    },
    "pycharm": {
     "name": "#%%\n"
    }
   },
   "outputs": [
    {
     "name": "stdout",
     "output_type": "stream",
     "text": [
      "кол-во записей с нулевым значением мощности 0\n",
      "кол-во записей с нулевым значением цены 0\n"
     ]
    }
   ],
   "source": [
    "df = df.dropna(subset=['power', 'price']).reset_index(drop=True)\n",
    "# проверка\n",
    "print('кол-во записей с нулевым значением мощности', df[df['power'].isna()]['power'].count())\n",
    "print('кол-во записей с нулевым значением цены', df[df['price'].isna()]['price'].count())"
   ]
  },
  {
   "cell_type": "code",
   "execution_count": 21,
   "metadata": {
    "jupyter": {
     "outputs_hidden": false
    },
    "pycharm": {
     "name": "#%%\n"
    }
   },
   "outputs": [
    {
     "name": "stdout",
     "output_type": "stream",
     "text": [
      "после удаления заисей датасет уменьшился на 11.37%\n"
     ]
    }
   ],
   "source": [
    "len_after_drop = len(df)\n",
    "decreased = (initioal_length-len_after_drop)/initioal_length\n",
    "print('после удаления заисей датасет уменьшился на {:.2%}'.format(decreased))"
   ]
  },
  {
   "cell_type": "markdown",
   "metadata": {
    "pycharm": {
     "name": "#%% md\n"
    }
   },
   "source": [
    "### 2.2.7. Обработка категориальных параметров"
   ]
  },
  {
   "cell_type": "code",
   "execution_count": 22,
   "metadata": {
    "jupyter": {
     "outputs_hidden": false
    },
    "pycharm": {
     "name": "#%%\n"
    }
   },
   "outputs": [
    {
     "name": "stdout",
     "output_type": "stream",
     "text": [
      "размер текущего датафрейма: (314084, 14)\n",
      "размер датафрейма с только OHE параметрами: (314084, 309)\n",
      "размер датафрейма с колличественными парметрами: (314084, 7)\n"
     ]
    }
   ],
   "source": [
    "print('размер текущего датафрейма:', df.shape)\n",
    "cat_params_list = ['vehicletype', 'gearbox', 'model', 'fueltype', 'brand', 'notrepaired', 'postalcode']\n",
    "\n",
    "numeric_params_list = list(set(df.columns) - set(cat_params_list))\n",
    "df_ohe = pd.get_dummies(df[cat_params_list], drop_first=True)\n",
    "\n",
    "print('размер датафрейма с только OHE параметрами:', df_ohe.shape)\n",
    "print('размер датафрейма с колличественными парметрами:', df[numeric_params_list].shape)"
   ]
  },
  {
   "cell_type": "code",
   "execution_count": 23,
   "metadata": {
    "jupyter": {
     "outputs_hidden": false
    },
    "pycharm": {
     "name": "#%%\n"
    }
   },
   "outputs": [
    {
     "name": "stdout",
     "output_type": "stream",
     "text": [
      "размер датафрейма с колличественными  и OHE парметрами: (314084, 316)\n"
     ]
    }
   ],
   "source": [
    "df_ohe_full = pd.concat([df[numeric_params_list], df_ohe], axis=1)\n",
    "print('размер датафрейма с колличественными  и OHE парметрами:', df_ohe_full.shape)"
   ]
  },
  {
   "cell_type": "markdown",
   "metadata": {
    "pycharm": {
     "name": "#%% md\n"
    }
   },
   "source": [
    "# 3. Машинное обучение <a id=\"3\"></a>"
   ]
  },
  {
   "cell_type": "code",
   "execution_count": 24,
   "metadata": {
    "jupyter": {
     "outputs_hidden": false
    },
    "pycharm": {
     "name": "#%%\n"
    }
   },
   "outputs": [
    {
     "name": "stdout",
     "output_type": "stream",
     "text": [
      "размер целевого признака (314084,)\n",
      "размер параметров (314084, 13)\n"
     ]
    }
   ],
   "source": [
    "target = df['price']\n",
    "features = df.drop(columns=['price'], axis=1)\n",
    "print('размер целевого признака', target.shape)\n",
    "print('размер параметров', features.shape)"
   ]
  },
  {
   "cell_type": "code",
   "execution_count": 25,
   "metadata": {
    "jupyter": {
     "outputs_hidden": false
    },
    "pycharm": {
     "name": "#%%\n"
    }
   },
   "outputs": [
    {
     "name": "stdout",
     "output_type": "stream",
     "text": [
      "<class 'pandas.core.frame.DataFrame'>\n",
      "RangeIndex: 314084 entries, 0 to 314083\n",
      "Data columns (total 13 columns):\n",
      " #   Column             Non-Null Count   Dtype   \n",
      "---  ------             --------------   -----   \n",
      " 0   vehicletype        314084 non-null  category\n",
      " 1   registrationyear   314084 non-null  int64   \n",
      " 2   gearbox            314084 non-null  category\n",
      " 3   power              314084 non-null  int64   \n",
      " 4   model              314084 non-null  category\n",
      " 5   kilometer          314084 non-null  int64   \n",
      " 6   fueltype           314084 non-null  category\n",
      " 7   brand              314084 non-null  category\n",
      " 8   notrepaired        314084 non-null  category\n",
      " 9   numberofpictures   314084 non-null  int64   \n",
      " 10  postalcode         314084 non-null  category\n",
      " 11  datecrawled_year   314084 non-null  int32   \n",
      " 12  datecrawled_month  314084 non-null  int32   \n",
      "dtypes: category(7), int32(2), int64(4)\n",
      "memory usage: 15.1 MB\n"
     ]
    }
   ],
   "source": [
    "features_cat = features.copy()\n",
    "for feature in cat_params_list:\n",
    "    features_cat[feature] = features_cat[feature].astype('category')\n",
    "features_cat.info()"
   ]
  },
  {
   "cell_type": "code",
   "execution_count": 26,
   "metadata": {
    "jupyter": {
     "outputs_hidden": false
    },
    "pycharm": {
     "name": "#%%\n"
    }
   },
   "outputs": [],
   "source": [
    "X_train_cat, X_valid_cat, y_train, y_valid = train_test_split(features_cat, target, test_size=0.25, random_state=12345)"
   ]
  },
  {
   "cell_type": "markdown",
   "metadata": {
    "pycharm": {
     "name": "#%% md\n"
    }
   },
   "source": [
    "## 3.1. LightGBM  <a id=\"3.1\"></a>"
   ]
  },
  {
   "cell_type": "code",
   "execution_count": 41,
   "metadata": {},
   "outputs": [],
   "source": [
    "# Отключим ворнинги\n",
    "warnings.filterwarnings('ignore')"
   ]
  },
  {
   "cell_type": "code",
   "execution_count": 27,
   "metadata": {
    "jupyter": {
     "outputs_hidden": false
    },
    "pycharm": {
     "name": "#%%\n"
    }
   },
   "outputs": [],
   "source": [
    "lgb = LGBMRegressor()"
   ]
  },
  {
   "cell_type": "code",
   "execution_count": 42,
   "metadata": {
    "jupyter": {
     "outputs_hidden": false
    },
    "pycharm": {
     "name": "#%%\n"
    }
   },
   "outputs": [],
   "source": [
    "param_distributions_lgb_optuna = {\n",
    "    'n_estimators': optuna.distributions.IntUniformDistribution(10,1000,10),\n",
    "    'max_depth': optuna.distributions.IntUniformDistribution(2,40,1),\n",
    "    'learning_rate': optuna.distributions.CategoricalDistribution([0.003, 0.005, 0.01, 0.05, 0.1 ]) #LogUniformDistribution(1e-3,1e-1)  #.CategoricalDistribution([0.003, 0.005, 0.01, 0.015, 0.02, 0.025, 0.05, 0.1 ]) #IntUniformDistribution(0.02, 0.1, 0.01)\n",
    "    }\n",
    "\n",
    "opt_search_lgb = optuna.integration.OptunaSearchCV(lgb, param_distributions_lgb_optuna, cv=10 , n_trials=100, scoring='neg_root_mean_squared_error', timeout=300, random_state=42)"
   ]
  },
  {
   "cell_type": "code",
   "execution_count": 32,
   "metadata": {
    "pycharm": {
     "name": "#%%\n"
    }
   },
   "outputs": [
    {
     "name": "stderr",
     "output_type": "stream",
     "text": [
      "\u001b[32m[I 2022-07-13 21:41:26,534]\u001b[0m A new study created in memory with name: no-name-99252072-59f8-45d5-a108-98c14be89b71\u001b[0m\n",
      "\u001b[32m[I 2022-07-13 21:43:44,349]\u001b[0m Trial 0 finished with value: -1800.8000174676101 and parameters: {'n_estimators': 460, 'max_depth': 34, 'learning_rate': 0.01}. Best is trial 0 with value: -1800.8000174676101.\u001b[0m\n",
      "\u001b[32m[I 2022-07-13 21:44:40,222]\u001b[0m Trial 1 finished with value: -2166.3005291135314 and parameters: {'n_estimators': 170, 'max_depth': 8, 'learning_rate': 0.01}. Best is trial 0 with value: -1800.8000174676101.\u001b[0m\n",
      "\u001b[32m[I 2022-07-13 21:46:42,308]\u001b[0m Trial 2 finished with value: -2075.7262202969573 and parameters: {'n_estimators': 390, 'max_depth': 20, 'learning_rate': 0.005}. Best is trial 0 with value: -1800.8000174676101.\u001b[0m\n"
     ]
    },
    {
     "name": "stdout",
     "output_type": "stream",
     "text": [
      "Wall time: 5min 33s\n"
     ]
    }
   ],
   "source": [
    "%%time\n",
    "opt_search_lgb.fit(X_train_cat, y_train)\n",
    "opt_search_prediction = opt_search_lgb.best_estimator_.predict(X_valid_cat)\n",
    "opt_search_prediction_score = mean_squared_error(y_valid, opt_search_prediction, squared=False)"
   ]
  },
  {
   "cell_type": "code",
   "execution_count": 33,
   "metadata": {},
   "outputs": [
    {
     "name": "stdout",
     "output_type": "stream",
     "text": [
      "rmse =  1776.6348147394913\n"
     ]
    }
   ],
   "source": [
    "print('rmse = ', opt_search_prediction_score)"
   ]
  },
  {
   "cell_type": "markdown",
   "metadata": {
    "pycharm": {
     "name": "#%% md\n"
    }
   },
   "source": [
    "## 3.2. ElasticNetCV <a id=\"3.2\"></a>"
   ]
  },
  {
   "cell_type": "markdown",
   "metadata": {
    "pycharm": {
     "name": "#%% md\n"
    }
   },
   "source": [
    "В качестве альтернативной модели применим ElasticNetCV модель."
   ]
  },
  {
   "cell_type": "code",
   "execution_count": 34,
   "metadata": {
    "jupyter": {
     "outputs_hidden": false
    },
    "pycharm": {
     "name": "#%%\n"
    }
   },
   "outputs": [
    {
     "name": "stdout",
     "output_type": "stream",
     "text": [
      "размер целевого признака (в этот раз с ним ничего не делаем, просто проверяем) (314084,)\n",
      "размер параметров (314084, 315)\n"
     ]
    }
   ],
   "source": [
    "# проведем One Hot Encoding\n",
    "features_ohe = df_ohe_full.drop(columns=['price'], axis=1)\n",
    "print('размер целевого признака (в этот раз с ним ничего не делаем, просто проверяем)', target.shape)\n",
    "print('размер параметров', features_ohe.shape)"
   ]
  },
  {
   "cell_type": "code",
   "execution_count": 35,
   "metadata": {
    "jupyter": {
     "outputs_hidden": false
    },
    "pycharm": {
     "name": "#%%\n"
    }
   },
   "outputs": [],
   "source": [
    "# инициализируем \"шкалятор\"\n",
    "scaler = StandardScaler()\n",
    "# отшкалируем\n",
    "features_ohe_scaled = scaler.fit_transform(features_ohe)"
   ]
  },
  {
   "cell_type": "code",
   "execution_count": 36,
   "metadata": {
    "jupyter": {
     "outputs_hidden": false
    },
    "pycharm": {
     "name": "#%%\n"
    }
   },
   "outputs": [],
   "source": [
    "X_train_ohe, X_valid_ohe, y_train, y_valid = train_test_split(features_ohe_scaled, target, test_size=0.25, random_state=12345)"
   ]
  },
  {
   "cell_type": "code",
   "execution_count": 37,
   "metadata": {
    "jupyter": {
     "outputs_hidden": false
    },
    "pycharm": {
     "name": "#%%\n"
    }
   },
   "outputs": [],
   "source": [
    "# Инициализируем модель\n",
    "lin_reg_model = ElasticNetCV()\n",
    "# Зададим параметры\n",
    "param_distributions_linear_optuna = {\n",
    "    'l1_ratio': optuna.distributions.CategoricalDistribution([0.1, 0.3, 0.5, 0.7, 0.8 , 0.9, 0.95, 0.97, 0.99, 0.1 ]), #IntUniformDistribution(0.3,1,0.02),\n",
    "    'eps': optuna.distributions.LogUniformDistribution(1e-4,1e-2),\n",
    "    'n_alphas': optuna.distributions.IntUniformDistribution(60, 100, 20)\n",
    "}\n",
    "\n",
    "opt_search_lin = optuna.integration.OptunaSearchCV(lin_reg_model, param_distributions_linear_optuna, cv=10 , n_trials=100, scoring='neg_root_mean_squared_error', timeout=500, random_state=42)"
   ]
  },
  {
   "cell_type": "code",
   "execution_count": 38,
   "metadata": {
    "pycharm": {
     "name": "#%%\n"
    }
   },
   "outputs": [
    {
     "name": "stderr",
     "output_type": "stream",
     "text": [
      "\u001b[32m[I 2022-07-13 21:47:08,900]\u001b[0m A new study created in memory with name: no-name-6b4b1750-aaa8-4ba7-bcf5-cfd02a36bf10\u001b[0m\n",
      "\u001b[32m[I 2022-07-13 21:51:21,767]\u001b[0m Trial 0 finished with value: -3579.6202253662495 and parameters: {'l1_ratio': 0.3, 'eps': 0.000499039964389544, 'n_alphas': 100}. Best is trial 0 with value: -3579.6202253662495.\u001b[0m\n",
      "\u001b[32m[I 2022-07-13 21:54:43,820]\u001b[0m Trial 1 finished with value: -3405.4693164312716 and parameters: {'l1_ratio': 0.9, 'eps': 0.005871593369961947, 'n_alphas': 60}. Best is trial 1 with value: -3405.4693164312716.\u001b[0m\n",
      "\u001b[32m[I 2022-07-13 21:58:01,851]\u001b[0m Trial 2 finished with value: -3983.6151276050527 and parameters: {'l1_ratio': 0.5, 'eps': 0.0032643372542738316, 'n_alphas': 60}. Best is trial 1 with value: -3405.4693164312716.\u001b[0m\n"
     ]
    },
    {
     "name": "stdout",
     "output_type": "stream",
     "text": [
      "Wall time: 11min 15s\n"
     ]
    }
   ],
   "source": [
    "%%time\n",
    "opt_search_lin.fit(X_train_ohe, y_train)\n",
    "opt_search_lin_prediction = opt_search_lin.best_estimator_.predict(X_valid_ohe)\n",
    "opt_search_lin_prediction_score = mean_squared_error(y_valid, opt_search_lin_prediction, squared=False)"
   ]
  },
  {
   "cell_type": "code",
   "execution_count": 39,
   "metadata": {},
   "outputs": [
    {
     "name": "stdout",
     "output_type": "stream",
     "text": [
      "rmse =  3394.968360687557\n"
     ]
    }
   ],
   "source": [
    "print('rmse = ', opt_search_lin_prediction_score)"
   ]
  },
  {
   "cell_type": "markdown",
   "metadata": {
    "pycharm": {
     "name": "#%% md\n"
    }
   },
   "source": [
    "Вывод: градиентный бустинг справлся значительно лучше при это за более кроткое (хоть и принудительно отведенное время)"
   ]
  },
  {
   "cell_type": "markdown",
   "metadata": {
    "pycharm": {
     "name": "#%% md\n"
    }
   },
   "source": [
    "# 4. Выводы\n",
    "<a id=\"4\"></a>"
   ]
  },
  {
   "cell_type": "markdown",
   "metadata": {
    "pycharm": {
     "name": "#%% md\n"
    }
   },
   "source": [
    "В рамках настоящего проекта были проведены\n",
    "- исследовательский анализ данных\n",
    "- предварительная очистка данных\n",
    "- предобработка данных\n",
    "- обучена модель градиентного бустинга LightGBM и линйная модель ElasticNetCV\n",
    "- сделаны прогнозы на отложенной валидационной выборке и посчитано значение метрики RMSE\n",
    "\n",
    "В процессе исследовательского анализа данных были обнаружены различные аномалии, такие как:\n",
    "- пропуски\n",
    "- нулевые значения\n",
    "- дубли записей\n",
    "\n",
    "Пропуски были заменены на отдельные значения, в явном виде определющие исходное пустое значение ('was_nan')\n",
    "Записи с нулевыми значениями и дубли были удалены.\n",
    "В процессе предварительной подготовки данных исходный объем сократился на 6,6%, что на объеме в более чем 300 тыс. записей можно считать несущественной потерей.\n",
    "\n",
    "Предсказание значений было сделано при помощи фреймворка Optuna, позволившей достичь требуемого результата (RMSE<2500) за время порядка 6 и 9 мин (для первой и второй моделей), что для моделей типа градиентный бустинг и линейнй регресии с более чем 300 параметров и объема данных в более чем 300 тыс строк можно считать прекрасным резульатом.\n",
    "Для обоих моделей время обучения было предварительно ограничено средствами фреймворка и проведено измерение magic-команды %%time.\n",
    "\n",
    "Полученны следующие результаты:\n",
    "\n",
    "| Модель  | Время обучения | RMSE | RMSE после удаления записей с невалидным годом регистрации|Комментарий|\n",
    "|---------|----------------|------|------|-----|\n",
    "| LightGBM | 5 мин 37 сек   | 1859 | 1776| почище данные - лучше score|\n",
    "| ElasticNetCV        | 8 мин 50 сек   | 3451 | 3394 |score чуть чуть получше. более чистые данные погоды не сделали|\n",
    "\n",
    "прим:\n",
    "1. с учетом возможности ограничения времени обучения средствами optuna, затраченное на обучение время насит скорее сравнительный харакетер (за какое время какой результат был получен)\n",
    "2. указанное в таблице время в зависимости от запуска может колебаться в некоторых пределах\n",
    "\n",
    "**Итог:** порог RMSE в 2500 с помощью градиентного бустинга пройден (получен результат в 1819), а линейная модель в данном случае показала ошибку в два раза больше (3500)"
   ]
  }
 ],
 "metadata": {
  "kernelspec": {
   "display_name": "Python 3",
   "language": "python",
   "name": "python3"
  },
  "language_info": {
   "codemirror_mode": {
    "name": "ipython",
    "version": 3
   },
   "file_extension": ".py",
   "mimetype": "text/x-python",
   "name": "python",
   "nbconvert_exporter": "python",
   "pygments_lexer": "ipython3",
   "version": "3.7.6"
  },
  "toc": {
   "base_numbering": 1,
   "nav_menu": {},
   "number_sections": true,
   "sideBar": true,
   "skip_h1_title": true,
   "title_cell": "Table of Contents",
   "title_sidebar": "Contents",
   "toc_cell": false,
   "toc_position": {},
   "toc_section_display": true,
   "toc_window_display": false
  }
 },
 "nbformat": 4,
 "nbformat_minor": 4
}
