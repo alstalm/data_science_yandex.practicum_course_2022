{
 "cells": [
  {
   "cell_type": "markdown",
   "metadata": {},
   "source": [
    "# Предсказание коэффициента восстановления золота из золотосодержащей руды"
   ]
  },
  {
   "cell_type": "code",
   "execution_count": 1,
   "metadata": {},
   "outputs": [],
   "source": [
    "import pandas as pd\n",
    "import numpy as np\n",
    "import os\n",
    "from sklearn.metrics import mean_absolute_error\n",
    "import matplotlib.pyplot as plt\n",
    "from sklearn.dummy import  DummyRegressor\n",
    "from sklearn.model_selection import train_test_split\n",
    "from sklearn.model_selection import RandomizedSearchCV\n",
    "from sklearn.linear_model import LinearRegression\n",
    "from sklearn.ensemble import RandomForestRegressor\n",
    "from sklearn.model_selection import StratifiedKFold\n",
    "import optuna\n",
    "from sklearn.metrics import make_scorer"
   ]
  },
  {
   "cell_type": "markdown",
   "metadata": {
    "pycharm": {
     "name": "#%% md\n"
    }
   },
   "source": [
    "# 1. Подготовка данных"
   ]
  },
  {
   "cell_type": "markdown",
   "metadata": {
    "pycharm": {
     "name": "#%% md\n"
    }
   },
   "source": [
    "## 1.1. Первое знакомство с данными"
   ]
  },
  {
   "cell_type": "code",
   "execution_count": 2,
   "metadata": {
    "collapsed": false,
    "jupyter": {
     "outputs_hidden": false
    },
    "pycharm": {
     "name": "#%%\n"
    }
   },
   "outputs": [],
   "source": [
    "path10 = 'gold_recovery_full_new.csv'\n",
    "path11 = 'gold_recovery_test_new.csv'\n",
    "path12 = 'gold_recovery_train_new.csv'\n",
    "\n",
    "path20 = '/datasets/gold_recovery_full_new.csv'\n",
    "path21 = '/datasets/gold_recovery_test_new.csv'\n",
    "path22 = '/datasets/gold_recovery_train_new.csv'\n",
    "\n",
    "if os.path.exists(path10):\n",
    "    df_full = pd.read_csv(path10)\n",
    "    df_test = pd.read_csv(path11)\n",
    "    df_train = pd.read_csv(path12)\n",
    "elif os.path.exists(path20):\n",
    "    df_full = pd.read_csv(path20)\n",
    "    df_test = pd.read_csv(path21)\n",
    "    df_train = pd.read_csv(path22)\n",
    "else:\n",
    "    print('файлы не найдены')"
   ]
  },
  {
   "cell_type": "code",
   "execution_count": 3,
   "metadata": {
    "collapsed": false,
    "jupyter": {
     "outputs_hidden": false
    },
    "pycharm": {
     "name": "#%%\n"
    }
   },
   "outputs": [
    {
     "data": {
      "text/html": [
       "<div>\n",
       "<style scoped>\n",
       "    .dataframe tbody tr th:only-of-type {\n",
       "        vertical-align: middle;\n",
       "    }\n",
       "\n",
       "    .dataframe tbody tr th {\n",
       "        vertical-align: top;\n",
       "    }\n",
       "\n",
       "    .dataframe thead th {\n",
       "        text-align: right;\n",
       "    }\n",
       "</style>\n",
       "<table border=\"1\" class=\"dataframe\">\n",
       "  <thead>\n",
       "    <tr style=\"text-align: right;\">\n",
       "      <th></th>\n",
       "      <th>date</th>\n",
       "      <th>final.output.concentrate_ag</th>\n",
       "      <th>final.output.concentrate_pb</th>\n",
       "      <th>final.output.concentrate_sol</th>\n",
       "      <th>final.output.concentrate_au</th>\n",
       "      <th>final.output.recovery</th>\n",
       "      <th>final.output.tail_ag</th>\n",
       "      <th>final.output.tail_pb</th>\n",
       "      <th>final.output.tail_sol</th>\n",
       "      <th>final.output.tail_au</th>\n",
       "      <th>...</th>\n",
       "      <th>secondary_cleaner.state.floatbank4_a_air</th>\n",
       "      <th>secondary_cleaner.state.floatbank4_a_level</th>\n",
       "      <th>secondary_cleaner.state.floatbank4_b_air</th>\n",
       "      <th>secondary_cleaner.state.floatbank4_b_level</th>\n",
       "      <th>secondary_cleaner.state.floatbank5_a_air</th>\n",
       "      <th>secondary_cleaner.state.floatbank5_a_level</th>\n",
       "      <th>secondary_cleaner.state.floatbank5_b_air</th>\n",
       "      <th>secondary_cleaner.state.floatbank5_b_level</th>\n",
       "      <th>secondary_cleaner.state.floatbank6_a_air</th>\n",
       "      <th>secondary_cleaner.state.floatbank6_a_level</th>\n",
       "    </tr>\n",
       "  </thead>\n",
       "  <tbody>\n",
       "    <tr>\n",
       "      <th>0</th>\n",
       "      <td>2016-01-15 00:00:00</td>\n",
       "      <td>6.055403</td>\n",
       "      <td>9.889648</td>\n",
       "      <td>5.507324</td>\n",
       "      <td>42.192020</td>\n",
       "      <td>70.541216</td>\n",
       "      <td>10.411962</td>\n",
       "      <td>0.895447</td>\n",
       "      <td>16.904297</td>\n",
       "      <td>2.143149</td>\n",
       "      <td>...</td>\n",
       "      <td>14.016835</td>\n",
       "      <td>-502.488007</td>\n",
       "      <td>12.099931</td>\n",
       "      <td>-504.715942</td>\n",
       "      <td>9.925633</td>\n",
       "      <td>-498.310211</td>\n",
       "      <td>8.079666</td>\n",
       "      <td>-500.470978</td>\n",
       "      <td>14.151341</td>\n",
       "      <td>-605.841980</td>\n",
       "    </tr>\n",
       "    <tr>\n",
       "      <th>1</th>\n",
       "      <td>2016-01-15 01:00:00</td>\n",
       "      <td>6.029369</td>\n",
       "      <td>9.968944</td>\n",
       "      <td>5.257781</td>\n",
       "      <td>42.701629</td>\n",
       "      <td>69.266198</td>\n",
       "      <td>10.462676</td>\n",
       "      <td>0.927452</td>\n",
       "      <td>16.634514</td>\n",
       "      <td>2.224930</td>\n",
       "      <td>...</td>\n",
       "      <td>13.992281</td>\n",
       "      <td>-505.503262</td>\n",
       "      <td>11.950531</td>\n",
       "      <td>-501.331529</td>\n",
       "      <td>10.039245</td>\n",
       "      <td>-500.169983</td>\n",
       "      <td>7.984757</td>\n",
       "      <td>-500.582168</td>\n",
       "      <td>13.998353</td>\n",
       "      <td>-599.787184</td>\n",
       "    </tr>\n",
       "    <tr>\n",
       "      <th>2</th>\n",
       "      <td>2016-01-15 02:00:00</td>\n",
       "      <td>6.055926</td>\n",
       "      <td>10.213995</td>\n",
       "      <td>5.383759</td>\n",
       "      <td>42.657501</td>\n",
       "      <td>68.116445</td>\n",
       "      <td>10.507046</td>\n",
       "      <td>0.953716</td>\n",
       "      <td>16.208849</td>\n",
       "      <td>2.257889</td>\n",
       "      <td>...</td>\n",
       "      <td>14.015015</td>\n",
       "      <td>-502.520901</td>\n",
       "      <td>11.912783</td>\n",
       "      <td>-501.133383</td>\n",
       "      <td>10.070913</td>\n",
       "      <td>-500.129135</td>\n",
       "      <td>8.013877</td>\n",
       "      <td>-500.517572</td>\n",
       "      <td>14.028663</td>\n",
       "      <td>-601.427363</td>\n",
       "    </tr>\n",
       "    <tr>\n",
       "      <th>3</th>\n",
       "      <td>2016-01-15 03:00:00</td>\n",
       "      <td>6.047977</td>\n",
       "      <td>9.977019</td>\n",
       "      <td>4.858634</td>\n",
       "      <td>42.689819</td>\n",
       "      <td>68.347543</td>\n",
       "      <td>10.422762</td>\n",
       "      <td>0.883763</td>\n",
       "      <td>16.532835</td>\n",
       "      <td>2.146849</td>\n",
       "      <td>...</td>\n",
       "      <td>14.036510</td>\n",
       "      <td>-500.857308</td>\n",
       "      <td>11.999550</td>\n",
       "      <td>-501.193686</td>\n",
       "      <td>9.970366</td>\n",
       "      <td>-499.201640</td>\n",
       "      <td>7.977324</td>\n",
       "      <td>-500.255908</td>\n",
       "      <td>14.005551</td>\n",
       "      <td>-599.996129</td>\n",
       "    </tr>\n",
       "    <tr>\n",
       "      <th>4</th>\n",
       "      <td>2016-01-15 04:00:00</td>\n",
       "      <td>6.148599</td>\n",
       "      <td>10.142511</td>\n",
       "      <td>4.939416</td>\n",
       "      <td>42.774141</td>\n",
       "      <td>66.927016</td>\n",
       "      <td>10.360302</td>\n",
       "      <td>0.792826</td>\n",
       "      <td>16.525686</td>\n",
       "      <td>2.055292</td>\n",
       "      <td>...</td>\n",
       "      <td>14.027298</td>\n",
       "      <td>-499.838632</td>\n",
       "      <td>11.953070</td>\n",
       "      <td>-501.053894</td>\n",
       "      <td>9.925709</td>\n",
       "      <td>-501.686727</td>\n",
       "      <td>7.894242</td>\n",
       "      <td>-500.356035</td>\n",
       "      <td>13.996647</td>\n",
       "      <td>-601.496691</td>\n",
       "    </tr>\n",
       "  </tbody>\n",
       "</table>\n",
       "<p>5 rows × 87 columns</p>\n",
       "</div>"
      ],
      "text/plain": [
       "                  date  final.output.concentrate_ag  \\\n",
       "0  2016-01-15 00:00:00                     6.055403   \n",
       "1  2016-01-15 01:00:00                     6.029369   \n",
       "2  2016-01-15 02:00:00                     6.055926   \n",
       "3  2016-01-15 03:00:00                     6.047977   \n",
       "4  2016-01-15 04:00:00                     6.148599   \n",
       "\n",
       "   final.output.concentrate_pb  final.output.concentrate_sol  \\\n",
       "0                     9.889648                      5.507324   \n",
       "1                     9.968944                      5.257781   \n",
       "2                    10.213995                      5.383759   \n",
       "3                     9.977019                      4.858634   \n",
       "4                    10.142511                      4.939416   \n",
       "\n",
       "   final.output.concentrate_au  final.output.recovery  final.output.tail_ag  \\\n",
       "0                    42.192020              70.541216             10.411962   \n",
       "1                    42.701629              69.266198             10.462676   \n",
       "2                    42.657501              68.116445             10.507046   \n",
       "3                    42.689819              68.347543             10.422762   \n",
       "4                    42.774141              66.927016             10.360302   \n",
       "\n",
       "   final.output.tail_pb  final.output.tail_sol  final.output.tail_au  ...  \\\n",
       "0              0.895447              16.904297              2.143149  ...   \n",
       "1              0.927452              16.634514              2.224930  ...   \n",
       "2              0.953716              16.208849              2.257889  ...   \n",
       "3              0.883763              16.532835              2.146849  ...   \n",
       "4              0.792826              16.525686              2.055292  ...   \n",
       "\n",
       "   secondary_cleaner.state.floatbank4_a_air  \\\n",
       "0                                 14.016835   \n",
       "1                                 13.992281   \n",
       "2                                 14.015015   \n",
       "3                                 14.036510   \n",
       "4                                 14.027298   \n",
       "\n",
       "   secondary_cleaner.state.floatbank4_a_level  \\\n",
       "0                                 -502.488007   \n",
       "1                                 -505.503262   \n",
       "2                                 -502.520901   \n",
       "3                                 -500.857308   \n",
       "4                                 -499.838632   \n",
       "\n",
       "   secondary_cleaner.state.floatbank4_b_air  \\\n",
       "0                                 12.099931   \n",
       "1                                 11.950531   \n",
       "2                                 11.912783   \n",
       "3                                 11.999550   \n",
       "4                                 11.953070   \n",
       "\n",
       "   secondary_cleaner.state.floatbank4_b_level  \\\n",
       "0                                 -504.715942   \n",
       "1                                 -501.331529   \n",
       "2                                 -501.133383   \n",
       "3                                 -501.193686   \n",
       "4                                 -501.053894   \n",
       "\n",
       "   secondary_cleaner.state.floatbank5_a_air  \\\n",
       "0                                  9.925633   \n",
       "1                                 10.039245   \n",
       "2                                 10.070913   \n",
       "3                                  9.970366   \n",
       "4                                  9.925709   \n",
       "\n",
       "   secondary_cleaner.state.floatbank5_a_level  \\\n",
       "0                                 -498.310211   \n",
       "1                                 -500.169983   \n",
       "2                                 -500.129135   \n",
       "3                                 -499.201640   \n",
       "4                                 -501.686727   \n",
       "\n",
       "   secondary_cleaner.state.floatbank5_b_air  \\\n",
       "0                                  8.079666   \n",
       "1                                  7.984757   \n",
       "2                                  8.013877   \n",
       "3                                  7.977324   \n",
       "4                                  7.894242   \n",
       "\n",
       "   secondary_cleaner.state.floatbank5_b_level  \\\n",
       "0                                 -500.470978   \n",
       "1                                 -500.582168   \n",
       "2                                 -500.517572   \n",
       "3                                 -500.255908   \n",
       "4                                 -500.356035   \n",
       "\n",
       "   secondary_cleaner.state.floatbank6_a_air  \\\n",
       "0                                 14.151341   \n",
       "1                                 13.998353   \n",
       "2                                 14.028663   \n",
       "3                                 14.005551   \n",
       "4                                 13.996647   \n",
       "\n",
       "   secondary_cleaner.state.floatbank6_a_level  \n",
       "0                                 -605.841980  \n",
       "1                                 -599.787184  \n",
       "2                                 -601.427363  \n",
       "3                                 -599.996129  \n",
       "4                                 -601.496691  \n",
       "\n",
       "[5 rows x 87 columns]"
      ]
     },
     "metadata": {},
     "output_type": "display_data"
    },
    {
     "name": "stdout",
     "output_type": "stream",
     "text": [
      "<class 'pandas.core.frame.DataFrame'>\n",
      "RangeIndex: 19439 entries, 0 to 19438\n",
      "Data columns (total 87 columns):\n",
      " #   Column                                              Non-Null Count  Dtype  \n",
      "---  ------                                              --------------  -----  \n",
      " 0   date                                                19439 non-null  object \n",
      " 1   final.output.concentrate_ag                         19438 non-null  float64\n",
      " 2   final.output.concentrate_pb                         19438 non-null  float64\n",
      " 3   final.output.concentrate_sol                        19228 non-null  float64\n",
      " 4   final.output.concentrate_au                         19439 non-null  float64\n",
      " 5   final.output.recovery                               19439 non-null  float64\n",
      " 6   final.output.tail_ag                                19438 non-null  float64\n",
      " 7   final.output.tail_pb                                19338 non-null  float64\n",
      " 8   final.output.tail_sol                               19433 non-null  float64\n",
      " 9   final.output.tail_au                                19439 non-null  float64\n",
      " 10  primary_cleaner.input.sulfate                       19415 non-null  float64\n",
      " 11  primary_cleaner.input.depressant                    19402 non-null  float64\n",
      " 12  primary_cleaner.input.feed_size                     19439 non-null  float64\n",
      " 13  primary_cleaner.input.xanthate                      19335 non-null  float64\n",
      " 14  primary_cleaner.output.concentrate_ag               19439 non-null  float64\n",
      " 15  primary_cleaner.output.concentrate_pb               19323 non-null  float64\n",
      " 16  primary_cleaner.output.concentrate_sol              19069 non-null  float64\n",
      " 17  primary_cleaner.output.concentrate_au               19439 non-null  float64\n",
      " 18  primary_cleaner.output.tail_ag                      19435 non-null  float64\n",
      " 19  primary_cleaner.output.tail_pb                      19418 non-null  float64\n",
      " 20  primary_cleaner.output.tail_sol                     19377 non-null  float64\n",
      " 21  primary_cleaner.output.tail_au                      19439 non-null  float64\n",
      " 22  primary_cleaner.state.floatbank8_a_air              19435 non-null  float64\n",
      " 23  primary_cleaner.state.floatbank8_a_level            19438 non-null  float64\n",
      " 24  primary_cleaner.state.floatbank8_b_air              19435 non-null  float64\n",
      " 25  primary_cleaner.state.floatbank8_b_level            19438 non-null  float64\n",
      " 26  primary_cleaner.state.floatbank8_c_air              19437 non-null  float64\n",
      " 27  primary_cleaner.state.floatbank8_c_level            19438 non-null  float64\n",
      " 28  primary_cleaner.state.floatbank8_d_air              19436 non-null  float64\n",
      " 29  primary_cleaner.state.floatbank8_d_level            19438 non-null  float64\n",
      " 30  rougher.calculation.sulfate_to_au_concentrate       19437 non-null  float64\n",
      " 31  rougher.calculation.floatbank10_sulfate_to_au_feed  19437 non-null  float64\n",
      " 32  rougher.calculation.floatbank11_sulfate_to_au_feed  19437 non-null  float64\n",
      " 33  rougher.calculation.au_pb_ratio                     19439 non-null  float64\n",
      " 34  rougher.input.feed_ag                               19439 non-null  float64\n",
      " 35  rougher.input.feed_pb                               19339 non-null  float64\n",
      " 36  rougher.input.feed_rate                             19428 non-null  float64\n",
      " 37  rougher.input.feed_size                             19294 non-null  float64\n",
      " 38  rougher.input.feed_sol                              19340 non-null  float64\n",
      " 39  rougher.input.feed_au                               19439 non-null  float64\n",
      " 40  rougher.input.floatbank10_sulfate                   19405 non-null  float64\n",
      " 41  rougher.input.floatbank10_xanthate                  19431 non-null  float64\n",
      " 42  rougher.input.floatbank11_sulfate                   19395 non-null  float64\n",
      " 43  rougher.input.floatbank11_xanthate                  18986 non-null  float64\n",
      " 44  rougher.output.concentrate_ag                       19439 non-null  float64\n",
      " 45  rougher.output.concentrate_pb                       19439 non-null  float64\n",
      " 46  rougher.output.concentrate_sol                      19416 non-null  float64\n",
      " 47  rougher.output.concentrate_au                       19439 non-null  float64\n",
      " 48  rougher.output.recovery                             19439 non-null  float64\n",
      " 49  rougher.output.tail_ag                              19438 non-null  float64\n",
      " 50  rougher.output.tail_pb                              19439 non-null  float64\n",
      " 51  rougher.output.tail_sol                             19439 non-null  float64\n",
      " 52  rougher.output.tail_au                              19439 non-null  float64\n",
      " 53  rougher.state.floatbank10_a_air                     19438 non-null  float64\n",
      " 54  rougher.state.floatbank10_a_level                   19438 non-null  float64\n",
      " 55  rougher.state.floatbank10_b_air                     19438 non-null  float64\n",
      " 56  rougher.state.floatbank10_b_level                   19438 non-null  float64\n",
      " 57  rougher.state.floatbank10_c_air                     19438 non-null  float64\n",
      " 58  rougher.state.floatbank10_c_level                   19438 non-null  float64\n",
      " 59  rougher.state.floatbank10_d_air                     19439 non-null  float64\n",
      " 60  rougher.state.floatbank10_d_level                   19439 non-null  float64\n",
      " 61  rougher.state.floatbank10_e_air                     19003 non-null  float64\n",
      " 62  rougher.state.floatbank10_e_level                   19439 non-null  float64\n",
      " 63  rougher.state.floatbank10_f_air                     19439 non-null  float64\n",
      " 64  rougher.state.floatbank10_f_level                   19439 non-null  float64\n",
      " 65  secondary_cleaner.output.tail_ag                    19437 non-null  float64\n",
      " 66  secondary_cleaner.output.tail_pb                    19427 non-null  float64\n",
      " 67  secondary_cleaner.output.tail_sol                   17691 non-null  float64\n",
      " 68  secondary_cleaner.output.tail_au                    19439 non-null  float64\n",
      " 69  secondary_cleaner.state.floatbank2_a_air            19219 non-null  float64\n",
      " 70  secondary_cleaner.state.floatbank2_a_level          19438 non-null  float64\n",
      " 71  secondary_cleaner.state.floatbank2_b_air            19416 non-null  float64\n",
      " 72  secondary_cleaner.state.floatbank2_b_level          19438 non-null  float64\n",
      " 73  secondary_cleaner.state.floatbank3_a_air            19426 non-null  float64\n",
      " 74  secondary_cleaner.state.floatbank3_a_level          19438 non-null  float64\n",
      " 75  secondary_cleaner.state.floatbank3_b_air            19438 non-null  float64\n",
      " 76  secondary_cleaner.state.floatbank3_b_level          19438 non-null  float64\n",
      " 77  secondary_cleaner.state.floatbank4_a_air            19433 non-null  float64\n",
      " 78  secondary_cleaner.state.floatbank4_a_level          19438 non-null  float64\n",
      " 79  secondary_cleaner.state.floatbank4_b_air            19438 non-null  float64\n",
      " 80  secondary_cleaner.state.floatbank4_b_level          19438 non-null  float64\n",
      " 81  secondary_cleaner.state.floatbank5_a_air            19438 non-null  float64\n",
      " 82  secondary_cleaner.state.floatbank5_a_level          19438 non-null  float64\n",
      " 83  secondary_cleaner.state.floatbank5_b_air            19438 non-null  float64\n",
      " 84  secondary_cleaner.state.floatbank5_b_level          19438 non-null  float64\n",
      " 85  secondary_cleaner.state.floatbank6_a_air            19437 non-null  float64\n",
      " 86  secondary_cleaner.state.floatbank6_a_level          19438 non-null  float64\n",
      "dtypes: float64(86), object(1)\n",
      "memory usage: 12.9+ MB\n",
      "None\n"
     ]
    }
   ],
   "source": [
    "display(df_full.head())\n",
    "print(df_full.info())"
   ]
  },
  {
   "cell_type": "code",
   "execution_count": 4,
   "metadata": {
    "collapsed": false,
    "jupyter": {
     "outputs_hidden": false
    },
    "pycharm": {
     "name": "#%%\n"
    }
   },
   "outputs": [
    {
     "data": {
      "text/html": [
       "<div>\n",
       "<style scoped>\n",
       "    .dataframe tbody tr th:only-of-type {\n",
       "        vertical-align: middle;\n",
       "    }\n",
       "\n",
       "    .dataframe tbody tr th {\n",
       "        vertical-align: top;\n",
       "    }\n",
       "\n",
       "    .dataframe thead th {\n",
       "        text-align: right;\n",
       "    }\n",
       "</style>\n",
       "<table border=\"1\" class=\"dataframe\">\n",
       "  <thead>\n",
       "    <tr style=\"text-align: right;\">\n",
       "      <th></th>\n",
       "      <th>date</th>\n",
       "      <th>primary_cleaner.input.sulfate</th>\n",
       "      <th>primary_cleaner.input.depressant</th>\n",
       "      <th>primary_cleaner.input.feed_size</th>\n",
       "      <th>primary_cleaner.input.xanthate</th>\n",
       "      <th>primary_cleaner.state.floatbank8_a_air</th>\n",
       "      <th>primary_cleaner.state.floatbank8_a_level</th>\n",
       "      <th>primary_cleaner.state.floatbank8_b_air</th>\n",
       "      <th>primary_cleaner.state.floatbank8_b_level</th>\n",
       "      <th>primary_cleaner.state.floatbank8_c_air</th>\n",
       "      <th>...</th>\n",
       "      <th>secondary_cleaner.state.floatbank4_a_air</th>\n",
       "      <th>secondary_cleaner.state.floatbank4_a_level</th>\n",
       "      <th>secondary_cleaner.state.floatbank4_b_air</th>\n",
       "      <th>secondary_cleaner.state.floatbank4_b_level</th>\n",
       "      <th>secondary_cleaner.state.floatbank5_a_air</th>\n",
       "      <th>secondary_cleaner.state.floatbank5_a_level</th>\n",
       "      <th>secondary_cleaner.state.floatbank5_b_air</th>\n",
       "      <th>secondary_cleaner.state.floatbank5_b_level</th>\n",
       "      <th>secondary_cleaner.state.floatbank6_a_air</th>\n",
       "      <th>secondary_cleaner.state.floatbank6_a_level</th>\n",
       "    </tr>\n",
       "  </thead>\n",
       "  <tbody>\n",
       "    <tr>\n",
       "      <th>0</th>\n",
       "      <td>2016-09-01 00:59:59</td>\n",
       "      <td>210.800909</td>\n",
       "      <td>14.993118</td>\n",
       "      <td>8.080000</td>\n",
       "      <td>1.005021</td>\n",
       "      <td>1398.981301</td>\n",
       "      <td>-500.225577</td>\n",
       "      <td>1399.144926</td>\n",
       "      <td>-499.919735</td>\n",
       "      <td>1400.102998</td>\n",
       "      <td>...</td>\n",
       "      <td>12.023554</td>\n",
       "      <td>-497.795834</td>\n",
       "      <td>8.016656</td>\n",
       "      <td>-501.289139</td>\n",
       "      <td>7.946562</td>\n",
       "      <td>-432.317850</td>\n",
       "      <td>4.872511</td>\n",
       "      <td>-500.037437</td>\n",
       "      <td>26.705889</td>\n",
       "      <td>-499.709414</td>\n",
       "    </tr>\n",
       "    <tr>\n",
       "      <th>1</th>\n",
       "      <td>2016-09-01 01:59:59</td>\n",
       "      <td>215.392455</td>\n",
       "      <td>14.987471</td>\n",
       "      <td>8.080000</td>\n",
       "      <td>0.990469</td>\n",
       "      <td>1398.777912</td>\n",
       "      <td>-500.057435</td>\n",
       "      <td>1398.055362</td>\n",
       "      <td>-499.778182</td>\n",
       "      <td>1396.151033</td>\n",
       "      <td>...</td>\n",
       "      <td>12.058140</td>\n",
       "      <td>-498.695773</td>\n",
       "      <td>8.130979</td>\n",
       "      <td>-499.634209</td>\n",
       "      <td>7.958270</td>\n",
       "      <td>-525.839648</td>\n",
       "      <td>4.878850</td>\n",
       "      <td>-500.162375</td>\n",
       "      <td>25.019940</td>\n",
       "      <td>-499.819438</td>\n",
       "    </tr>\n",
       "    <tr>\n",
       "      <th>2</th>\n",
       "      <td>2016-09-01 02:59:59</td>\n",
       "      <td>215.259946</td>\n",
       "      <td>12.884934</td>\n",
       "      <td>7.786667</td>\n",
       "      <td>0.996043</td>\n",
       "      <td>1398.493666</td>\n",
       "      <td>-500.868360</td>\n",
       "      <td>1398.860436</td>\n",
       "      <td>-499.764529</td>\n",
       "      <td>1398.075709</td>\n",
       "      <td>...</td>\n",
       "      <td>11.962366</td>\n",
       "      <td>-498.767484</td>\n",
       "      <td>8.096893</td>\n",
       "      <td>-500.827423</td>\n",
       "      <td>8.071056</td>\n",
       "      <td>-500.801673</td>\n",
       "      <td>4.905125</td>\n",
       "      <td>-499.828510</td>\n",
       "      <td>24.994862</td>\n",
       "      <td>-500.622559</td>\n",
       "    </tr>\n",
       "    <tr>\n",
       "      <th>3</th>\n",
       "      <td>2016-09-01 03:59:59</td>\n",
       "      <td>215.336236</td>\n",
       "      <td>12.006805</td>\n",
       "      <td>7.640000</td>\n",
       "      <td>0.863514</td>\n",
       "      <td>1399.618111</td>\n",
       "      <td>-498.863574</td>\n",
       "      <td>1397.440120</td>\n",
       "      <td>-499.211024</td>\n",
       "      <td>1400.129303</td>\n",
       "      <td>...</td>\n",
       "      <td>12.033091</td>\n",
       "      <td>-498.350935</td>\n",
       "      <td>8.074946</td>\n",
       "      <td>-499.474407</td>\n",
       "      <td>7.897085</td>\n",
       "      <td>-500.868509</td>\n",
       "      <td>4.931400</td>\n",
       "      <td>-499.963623</td>\n",
       "      <td>24.948919</td>\n",
       "      <td>-498.709987</td>\n",
       "    </tr>\n",
       "    <tr>\n",
       "      <th>4</th>\n",
       "      <td>2016-09-01 04:59:59</td>\n",
       "      <td>199.099327</td>\n",
       "      <td>10.682530</td>\n",
       "      <td>7.530000</td>\n",
       "      <td>0.805575</td>\n",
       "      <td>1401.268123</td>\n",
       "      <td>-500.808305</td>\n",
       "      <td>1398.128818</td>\n",
       "      <td>-499.504543</td>\n",
       "      <td>1402.172226</td>\n",
       "      <td>...</td>\n",
       "      <td>12.025367</td>\n",
       "      <td>-500.786497</td>\n",
       "      <td>8.054678</td>\n",
       "      <td>-500.397500</td>\n",
       "      <td>8.107890</td>\n",
       "      <td>-509.526725</td>\n",
       "      <td>4.957674</td>\n",
       "      <td>-500.360026</td>\n",
       "      <td>25.003331</td>\n",
       "      <td>-500.856333</td>\n",
       "    </tr>\n",
       "  </tbody>\n",
       "</table>\n",
       "<p>5 rows × 53 columns</p>\n",
       "</div>"
      ],
      "text/plain": [
       "                  date  primary_cleaner.input.sulfate  \\\n",
       "0  2016-09-01 00:59:59                     210.800909   \n",
       "1  2016-09-01 01:59:59                     215.392455   \n",
       "2  2016-09-01 02:59:59                     215.259946   \n",
       "3  2016-09-01 03:59:59                     215.336236   \n",
       "4  2016-09-01 04:59:59                     199.099327   \n",
       "\n",
       "   primary_cleaner.input.depressant  primary_cleaner.input.feed_size  \\\n",
       "0                         14.993118                         8.080000   \n",
       "1                         14.987471                         8.080000   \n",
       "2                         12.884934                         7.786667   \n",
       "3                         12.006805                         7.640000   \n",
       "4                         10.682530                         7.530000   \n",
       "\n",
       "   primary_cleaner.input.xanthate  primary_cleaner.state.floatbank8_a_air  \\\n",
       "0                        1.005021                             1398.981301   \n",
       "1                        0.990469                             1398.777912   \n",
       "2                        0.996043                             1398.493666   \n",
       "3                        0.863514                             1399.618111   \n",
       "4                        0.805575                             1401.268123   \n",
       "\n",
       "   primary_cleaner.state.floatbank8_a_level  \\\n",
       "0                               -500.225577   \n",
       "1                               -500.057435   \n",
       "2                               -500.868360   \n",
       "3                               -498.863574   \n",
       "4                               -500.808305   \n",
       "\n",
       "   primary_cleaner.state.floatbank8_b_air  \\\n",
       "0                             1399.144926   \n",
       "1                             1398.055362   \n",
       "2                             1398.860436   \n",
       "3                             1397.440120   \n",
       "4                             1398.128818   \n",
       "\n",
       "   primary_cleaner.state.floatbank8_b_level  \\\n",
       "0                               -499.919735   \n",
       "1                               -499.778182   \n",
       "2                               -499.764529   \n",
       "3                               -499.211024   \n",
       "4                               -499.504543   \n",
       "\n",
       "   primary_cleaner.state.floatbank8_c_air  ...  \\\n",
       "0                             1400.102998  ...   \n",
       "1                             1396.151033  ...   \n",
       "2                             1398.075709  ...   \n",
       "3                             1400.129303  ...   \n",
       "4                             1402.172226  ...   \n",
       "\n",
       "   secondary_cleaner.state.floatbank4_a_air  \\\n",
       "0                                 12.023554   \n",
       "1                                 12.058140   \n",
       "2                                 11.962366   \n",
       "3                                 12.033091   \n",
       "4                                 12.025367   \n",
       "\n",
       "   secondary_cleaner.state.floatbank4_a_level  \\\n",
       "0                                 -497.795834   \n",
       "1                                 -498.695773   \n",
       "2                                 -498.767484   \n",
       "3                                 -498.350935   \n",
       "4                                 -500.786497   \n",
       "\n",
       "   secondary_cleaner.state.floatbank4_b_air  \\\n",
       "0                                  8.016656   \n",
       "1                                  8.130979   \n",
       "2                                  8.096893   \n",
       "3                                  8.074946   \n",
       "4                                  8.054678   \n",
       "\n",
       "   secondary_cleaner.state.floatbank4_b_level  \\\n",
       "0                                 -501.289139   \n",
       "1                                 -499.634209   \n",
       "2                                 -500.827423   \n",
       "3                                 -499.474407   \n",
       "4                                 -500.397500   \n",
       "\n",
       "   secondary_cleaner.state.floatbank5_a_air  \\\n",
       "0                                  7.946562   \n",
       "1                                  7.958270   \n",
       "2                                  8.071056   \n",
       "3                                  7.897085   \n",
       "4                                  8.107890   \n",
       "\n",
       "   secondary_cleaner.state.floatbank5_a_level  \\\n",
       "0                                 -432.317850   \n",
       "1                                 -525.839648   \n",
       "2                                 -500.801673   \n",
       "3                                 -500.868509   \n",
       "4                                 -509.526725   \n",
       "\n",
       "   secondary_cleaner.state.floatbank5_b_air  \\\n",
       "0                                  4.872511   \n",
       "1                                  4.878850   \n",
       "2                                  4.905125   \n",
       "3                                  4.931400   \n",
       "4                                  4.957674   \n",
       "\n",
       "   secondary_cleaner.state.floatbank5_b_level  \\\n",
       "0                                 -500.037437   \n",
       "1                                 -500.162375   \n",
       "2                                 -499.828510   \n",
       "3                                 -499.963623   \n",
       "4                                 -500.360026   \n",
       "\n",
       "   secondary_cleaner.state.floatbank6_a_air  \\\n",
       "0                                 26.705889   \n",
       "1                                 25.019940   \n",
       "2                                 24.994862   \n",
       "3                                 24.948919   \n",
       "4                                 25.003331   \n",
       "\n",
       "   secondary_cleaner.state.floatbank6_a_level  \n",
       "0                                 -499.709414  \n",
       "1                                 -499.819438  \n",
       "2                                 -500.622559  \n",
       "3                                 -498.709987  \n",
       "4                                 -500.856333  \n",
       "\n",
       "[5 rows x 53 columns]"
      ]
     },
     "metadata": {},
     "output_type": "display_data"
    },
    {
     "name": "stdout",
     "output_type": "stream",
     "text": [
      "<class 'pandas.core.frame.DataFrame'>\n",
      "RangeIndex: 5290 entries, 0 to 5289\n",
      "Data columns (total 53 columns):\n",
      " #   Column                                      Non-Null Count  Dtype  \n",
      "---  ------                                      --------------  -----  \n",
      " 0   date                                        5290 non-null   object \n",
      " 1   primary_cleaner.input.sulfate               5286 non-null   float64\n",
      " 2   primary_cleaner.input.depressant            5285 non-null   float64\n",
      " 3   primary_cleaner.input.feed_size             5290 non-null   float64\n",
      " 4   primary_cleaner.input.xanthate              5286 non-null   float64\n",
      " 5   primary_cleaner.state.floatbank8_a_air      5290 non-null   float64\n",
      " 6   primary_cleaner.state.floatbank8_a_level    5290 non-null   float64\n",
      " 7   primary_cleaner.state.floatbank8_b_air      5290 non-null   float64\n",
      " 8   primary_cleaner.state.floatbank8_b_level    5290 non-null   float64\n",
      " 9   primary_cleaner.state.floatbank8_c_air      5290 non-null   float64\n",
      " 10  primary_cleaner.state.floatbank8_c_level    5290 non-null   float64\n",
      " 11  primary_cleaner.state.floatbank8_d_air      5290 non-null   float64\n",
      " 12  primary_cleaner.state.floatbank8_d_level    5290 non-null   float64\n",
      " 13  rougher.input.feed_ag                       5290 non-null   float64\n",
      " 14  rougher.input.feed_pb                       5290 non-null   float64\n",
      " 15  rougher.input.feed_rate                     5287 non-null   float64\n",
      " 16  rougher.input.feed_size                     5289 non-null   float64\n",
      " 17  rougher.input.feed_sol                      5269 non-null   float64\n",
      " 18  rougher.input.feed_au                       5290 non-null   float64\n",
      " 19  rougher.input.floatbank10_sulfate           5285 non-null   float64\n",
      " 20  rougher.input.floatbank10_xanthate          5290 non-null   float64\n",
      " 21  rougher.input.floatbank11_sulfate           5282 non-null   float64\n",
      " 22  rougher.input.floatbank11_xanthate          5265 non-null   float64\n",
      " 23  rougher.state.floatbank10_a_air             5290 non-null   float64\n",
      " 24  rougher.state.floatbank10_a_level           5290 non-null   float64\n",
      " 25  rougher.state.floatbank10_b_air             5290 non-null   float64\n",
      " 26  rougher.state.floatbank10_b_level           5290 non-null   float64\n",
      " 27  rougher.state.floatbank10_c_air             5290 non-null   float64\n",
      " 28  rougher.state.floatbank10_c_level           5290 non-null   float64\n",
      " 29  rougher.state.floatbank10_d_air             5290 non-null   float64\n",
      " 30  rougher.state.floatbank10_d_level           5290 non-null   float64\n",
      " 31  rougher.state.floatbank10_e_air             5290 non-null   float64\n",
      " 32  rougher.state.floatbank10_e_level           5290 non-null   float64\n",
      " 33  rougher.state.floatbank10_f_air             5290 non-null   float64\n",
      " 34  rougher.state.floatbank10_f_level           5290 non-null   float64\n",
      " 35  secondary_cleaner.state.floatbank2_a_air    5287 non-null   float64\n",
      " 36  secondary_cleaner.state.floatbank2_a_level  5290 non-null   float64\n",
      " 37  secondary_cleaner.state.floatbank2_b_air    5288 non-null   float64\n",
      " 38  secondary_cleaner.state.floatbank2_b_level  5290 non-null   float64\n",
      " 39  secondary_cleaner.state.floatbank3_a_air    5281 non-null   float64\n",
      " 40  secondary_cleaner.state.floatbank3_a_level  5290 non-null   float64\n",
      " 41  secondary_cleaner.state.floatbank3_b_air    5290 non-null   float64\n",
      " 42  secondary_cleaner.state.floatbank3_b_level  5290 non-null   float64\n",
      " 43  secondary_cleaner.state.floatbank4_a_air    5290 non-null   float64\n",
      " 44  secondary_cleaner.state.floatbank4_a_level  5290 non-null   float64\n",
      " 45  secondary_cleaner.state.floatbank4_b_air    5290 non-null   float64\n",
      " 46  secondary_cleaner.state.floatbank4_b_level  5290 non-null   float64\n",
      " 47  secondary_cleaner.state.floatbank5_a_air    5290 non-null   float64\n",
      " 48  secondary_cleaner.state.floatbank5_a_level  5290 non-null   float64\n",
      " 49  secondary_cleaner.state.floatbank5_b_air    5290 non-null   float64\n",
      " 50  secondary_cleaner.state.floatbank5_b_level  5290 non-null   float64\n",
      " 51  secondary_cleaner.state.floatbank6_a_air    5290 non-null   float64\n",
      " 52  secondary_cleaner.state.floatbank6_a_level  5290 non-null   float64\n",
      "dtypes: float64(52), object(1)\n",
      "memory usage: 2.1+ MB\n",
      "None\n"
     ]
    }
   ],
   "source": [
    "display(df_test.head())\n",
    "print(df_test.info())"
   ]
  },
  {
   "cell_type": "code",
   "execution_count": 5,
   "metadata": {
    "collapsed": false,
    "jupyter": {
     "outputs_hidden": false
    },
    "pycharm": {
     "name": "#%%\n"
    }
   },
   "outputs": [
    {
     "data": {
      "text/html": [
       "<div>\n",
       "<style scoped>\n",
       "    .dataframe tbody tr th:only-of-type {\n",
       "        vertical-align: middle;\n",
       "    }\n",
       "\n",
       "    .dataframe tbody tr th {\n",
       "        vertical-align: top;\n",
       "    }\n",
       "\n",
       "    .dataframe thead th {\n",
       "        text-align: right;\n",
       "    }\n",
       "</style>\n",
       "<table border=\"1\" class=\"dataframe\">\n",
       "  <thead>\n",
       "    <tr style=\"text-align: right;\">\n",
       "      <th></th>\n",
       "      <th>date</th>\n",
       "      <th>final.output.concentrate_ag</th>\n",
       "      <th>final.output.concentrate_pb</th>\n",
       "      <th>final.output.concentrate_sol</th>\n",
       "      <th>final.output.concentrate_au</th>\n",
       "      <th>final.output.recovery</th>\n",
       "      <th>final.output.tail_ag</th>\n",
       "      <th>final.output.tail_pb</th>\n",
       "      <th>final.output.tail_sol</th>\n",
       "      <th>final.output.tail_au</th>\n",
       "      <th>...</th>\n",
       "      <th>secondary_cleaner.state.floatbank4_a_air</th>\n",
       "      <th>secondary_cleaner.state.floatbank4_a_level</th>\n",
       "      <th>secondary_cleaner.state.floatbank4_b_air</th>\n",
       "      <th>secondary_cleaner.state.floatbank4_b_level</th>\n",
       "      <th>secondary_cleaner.state.floatbank5_a_air</th>\n",
       "      <th>secondary_cleaner.state.floatbank5_a_level</th>\n",
       "      <th>secondary_cleaner.state.floatbank5_b_air</th>\n",
       "      <th>secondary_cleaner.state.floatbank5_b_level</th>\n",
       "      <th>secondary_cleaner.state.floatbank6_a_air</th>\n",
       "      <th>secondary_cleaner.state.floatbank6_a_level</th>\n",
       "    </tr>\n",
       "  </thead>\n",
       "  <tbody>\n",
       "    <tr>\n",
       "      <th>0</th>\n",
       "      <td>2016-01-15 00:00:00</td>\n",
       "      <td>6.055403</td>\n",
       "      <td>9.889648</td>\n",
       "      <td>5.507324</td>\n",
       "      <td>42.192020</td>\n",
       "      <td>70.541216</td>\n",
       "      <td>10.411962</td>\n",
       "      <td>0.895447</td>\n",
       "      <td>16.904297</td>\n",
       "      <td>2.143149</td>\n",
       "      <td>...</td>\n",
       "      <td>14.016835</td>\n",
       "      <td>-502.488007</td>\n",
       "      <td>12.099931</td>\n",
       "      <td>-504.715942</td>\n",
       "      <td>9.925633</td>\n",
       "      <td>-498.310211</td>\n",
       "      <td>8.079666</td>\n",
       "      <td>-500.470978</td>\n",
       "      <td>14.151341</td>\n",
       "      <td>-605.841980</td>\n",
       "    </tr>\n",
       "    <tr>\n",
       "      <th>1</th>\n",
       "      <td>2016-01-15 01:00:00</td>\n",
       "      <td>6.029369</td>\n",
       "      <td>9.968944</td>\n",
       "      <td>5.257781</td>\n",
       "      <td>42.701629</td>\n",
       "      <td>69.266198</td>\n",
       "      <td>10.462676</td>\n",
       "      <td>0.927452</td>\n",
       "      <td>16.634514</td>\n",
       "      <td>2.224930</td>\n",
       "      <td>...</td>\n",
       "      <td>13.992281</td>\n",
       "      <td>-505.503262</td>\n",
       "      <td>11.950531</td>\n",
       "      <td>-501.331529</td>\n",
       "      <td>10.039245</td>\n",
       "      <td>-500.169983</td>\n",
       "      <td>7.984757</td>\n",
       "      <td>-500.582168</td>\n",
       "      <td>13.998353</td>\n",
       "      <td>-599.787184</td>\n",
       "    </tr>\n",
       "    <tr>\n",
       "      <th>2</th>\n",
       "      <td>2016-01-15 02:00:00</td>\n",
       "      <td>6.055926</td>\n",
       "      <td>10.213995</td>\n",
       "      <td>5.383759</td>\n",
       "      <td>42.657501</td>\n",
       "      <td>68.116445</td>\n",
       "      <td>10.507046</td>\n",
       "      <td>0.953716</td>\n",
       "      <td>16.208849</td>\n",
       "      <td>2.257889</td>\n",
       "      <td>...</td>\n",
       "      <td>14.015015</td>\n",
       "      <td>-502.520901</td>\n",
       "      <td>11.912783</td>\n",
       "      <td>-501.133383</td>\n",
       "      <td>10.070913</td>\n",
       "      <td>-500.129135</td>\n",
       "      <td>8.013877</td>\n",
       "      <td>-500.517572</td>\n",
       "      <td>14.028663</td>\n",
       "      <td>-601.427363</td>\n",
       "    </tr>\n",
       "    <tr>\n",
       "      <th>3</th>\n",
       "      <td>2016-01-15 03:00:00</td>\n",
       "      <td>6.047977</td>\n",
       "      <td>9.977019</td>\n",
       "      <td>4.858634</td>\n",
       "      <td>42.689819</td>\n",
       "      <td>68.347543</td>\n",
       "      <td>10.422762</td>\n",
       "      <td>0.883763</td>\n",
       "      <td>16.532835</td>\n",
       "      <td>2.146849</td>\n",
       "      <td>...</td>\n",
       "      <td>14.036510</td>\n",
       "      <td>-500.857308</td>\n",
       "      <td>11.999550</td>\n",
       "      <td>-501.193686</td>\n",
       "      <td>9.970366</td>\n",
       "      <td>-499.201640</td>\n",
       "      <td>7.977324</td>\n",
       "      <td>-500.255908</td>\n",
       "      <td>14.005551</td>\n",
       "      <td>-599.996129</td>\n",
       "    </tr>\n",
       "    <tr>\n",
       "      <th>4</th>\n",
       "      <td>2016-01-15 04:00:00</td>\n",
       "      <td>6.148599</td>\n",
       "      <td>10.142511</td>\n",
       "      <td>4.939416</td>\n",
       "      <td>42.774141</td>\n",
       "      <td>66.927016</td>\n",
       "      <td>10.360302</td>\n",
       "      <td>0.792826</td>\n",
       "      <td>16.525686</td>\n",
       "      <td>2.055292</td>\n",
       "      <td>...</td>\n",
       "      <td>14.027298</td>\n",
       "      <td>-499.838632</td>\n",
       "      <td>11.953070</td>\n",
       "      <td>-501.053894</td>\n",
       "      <td>9.925709</td>\n",
       "      <td>-501.686727</td>\n",
       "      <td>7.894242</td>\n",
       "      <td>-500.356035</td>\n",
       "      <td>13.996647</td>\n",
       "      <td>-601.496691</td>\n",
       "    </tr>\n",
       "  </tbody>\n",
       "</table>\n",
       "<p>5 rows × 87 columns</p>\n",
       "</div>"
      ],
      "text/plain": [
       "                  date  final.output.concentrate_ag  \\\n",
       "0  2016-01-15 00:00:00                     6.055403   \n",
       "1  2016-01-15 01:00:00                     6.029369   \n",
       "2  2016-01-15 02:00:00                     6.055926   \n",
       "3  2016-01-15 03:00:00                     6.047977   \n",
       "4  2016-01-15 04:00:00                     6.148599   \n",
       "\n",
       "   final.output.concentrate_pb  final.output.concentrate_sol  \\\n",
       "0                     9.889648                      5.507324   \n",
       "1                     9.968944                      5.257781   \n",
       "2                    10.213995                      5.383759   \n",
       "3                     9.977019                      4.858634   \n",
       "4                    10.142511                      4.939416   \n",
       "\n",
       "   final.output.concentrate_au  final.output.recovery  final.output.tail_ag  \\\n",
       "0                    42.192020              70.541216             10.411962   \n",
       "1                    42.701629              69.266198             10.462676   \n",
       "2                    42.657501              68.116445             10.507046   \n",
       "3                    42.689819              68.347543             10.422762   \n",
       "4                    42.774141              66.927016             10.360302   \n",
       "\n",
       "   final.output.tail_pb  final.output.tail_sol  final.output.tail_au  ...  \\\n",
       "0              0.895447              16.904297              2.143149  ...   \n",
       "1              0.927452              16.634514              2.224930  ...   \n",
       "2              0.953716              16.208849              2.257889  ...   \n",
       "3              0.883763              16.532835              2.146849  ...   \n",
       "4              0.792826              16.525686              2.055292  ...   \n",
       "\n",
       "   secondary_cleaner.state.floatbank4_a_air  \\\n",
       "0                                 14.016835   \n",
       "1                                 13.992281   \n",
       "2                                 14.015015   \n",
       "3                                 14.036510   \n",
       "4                                 14.027298   \n",
       "\n",
       "   secondary_cleaner.state.floatbank4_a_level  \\\n",
       "0                                 -502.488007   \n",
       "1                                 -505.503262   \n",
       "2                                 -502.520901   \n",
       "3                                 -500.857308   \n",
       "4                                 -499.838632   \n",
       "\n",
       "   secondary_cleaner.state.floatbank4_b_air  \\\n",
       "0                                 12.099931   \n",
       "1                                 11.950531   \n",
       "2                                 11.912783   \n",
       "3                                 11.999550   \n",
       "4                                 11.953070   \n",
       "\n",
       "   secondary_cleaner.state.floatbank4_b_level  \\\n",
       "0                                 -504.715942   \n",
       "1                                 -501.331529   \n",
       "2                                 -501.133383   \n",
       "3                                 -501.193686   \n",
       "4                                 -501.053894   \n",
       "\n",
       "   secondary_cleaner.state.floatbank5_a_air  \\\n",
       "0                                  9.925633   \n",
       "1                                 10.039245   \n",
       "2                                 10.070913   \n",
       "3                                  9.970366   \n",
       "4                                  9.925709   \n",
       "\n",
       "   secondary_cleaner.state.floatbank5_a_level  \\\n",
       "0                                 -498.310211   \n",
       "1                                 -500.169983   \n",
       "2                                 -500.129135   \n",
       "3                                 -499.201640   \n",
       "4                                 -501.686727   \n",
       "\n",
       "   secondary_cleaner.state.floatbank5_b_air  \\\n",
       "0                                  8.079666   \n",
       "1                                  7.984757   \n",
       "2                                  8.013877   \n",
       "3                                  7.977324   \n",
       "4                                  7.894242   \n",
       "\n",
       "   secondary_cleaner.state.floatbank5_b_level  \\\n",
       "0                                 -500.470978   \n",
       "1                                 -500.582168   \n",
       "2                                 -500.517572   \n",
       "3                                 -500.255908   \n",
       "4                                 -500.356035   \n",
       "\n",
       "   secondary_cleaner.state.floatbank6_a_air  \\\n",
       "0                                 14.151341   \n",
       "1                                 13.998353   \n",
       "2                                 14.028663   \n",
       "3                                 14.005551   \n",
       "4                                 13.996647   \n",
       "\n",
       "   secondary_cleaner.state.floatbank6_a_level  \n",
       "0                                 -605.841980  \n",
       "1                                 -599.787184  \n",
       "2                                 -601.427363  \n",
       "3                                 -599.996129  \n",
       "4                                 -601.496691  \n",
       "\n",
       "[5 rows x 87 columns]"
      ]
     },
     "metadata": {},
     "output_type": "display_data"
    },
    {
     "name": "stdout",
     "output_type": "stream",
     "text": [
      "<class 'pandas.core.frame.DataFrame'>\n",
      "RangeIndex: 14149 entries, 0 to 14148\n",
      "Data columns (total 87 columns):\n",
      " #   Column                                              Non-Null Count  Dtype  \n",
      "---  ------                                              --------------  -----  \n",
      " 0   date                                                14149 non-null  object \n",
      " 1   final.output.concentrate_ag                         14148 non-null  float64\n",
      " 2   final.output.concentrate_pb                         14148 non-null  float64\n",
      " 3   final.output.concentrate_sol                        13938 non-null  float64\n",
      " 4   final.output.concentrate_au                         14149 non-null  float64\n",
      " 5   final.output.recovery                               14149 non-null  float64\n",
      " 6   final.output.tail_ag                                14149 non-null  float64\n",
      " 7   final.output.tail_pb                                14049 non-null  float64\n",
      " 8   final.output.tail_sol                               14144 non-null  float64\n",
      " 9   final.output.tail_au                                14149 non-null  float64\n",
      " 10  primary_cleaner.input.sulfate                       14129 non-null  float64\n",
      " 11  primary_cleaner.input.depressant                    14117 non-null  float64\n",
      " 12  primary_cleaner.input.feed_size                     14149 non-null  float64\n",
      " 13  primary_cleaner.input.xanthate                      14049 non-null  float64\n",
      " 14  primary_cleaner.output.concentrate_ag               14149 non-null  float64\n",
      " 15  primary_cleaner.output.concentrate_pb               14063 non-null  float64\n",
      " 16  primary_cleaner.output.concentrate_sol              13863 non-null  float64\n",
      " 17  primary_cleaner.output.concentrate_au               14149 non-null  float64\n",
      " 18  primary_cleaner.output.tail_ag                      14148 non-null  float64\n",
      " 19  primary_cleaner.output.tail_pb                      14134 non-null  float64\n",
      " 20  primary_cleaner.output.tail_sol                     14103 non-null  float64\n",
      " 21  primary_cleaner.output.tail_au                      14149 non-null  float64\n",
      " 22  primary_cleaner.state.floatbank8_a_air              14145 non-null  float64\n",
      " 23  primary_cleaner.state.floatbank8_a_level            14148 non-null  float64\n",
      " 24  primary_cleaner.state.floatbank8_b_air              14145 non-null  float64\n",
      " 25  primary_cleaner.state.floatbank8_b_level            14148 non-null  float64\n",
      " 26  primary_cleaner.state.floatbank8_c_air              14147 non-null  float64\n",
      " 27  primary_cleaner.state.floatbank8_c_level            14148 non-null  float64\n",
      " 28  primary_cleaner.state.floatbank8_d_air              14146 non-null  float64\n",
      " 29  primary_cleaner.state.floatbank8_d_level            14148 non-null  float64\n",
      " 30  rougher.calculation.sulfate_to_au_concentrate       14148 non-null  float64\n",
      " 31  rougher.calculation.floatbank10_sulfate_to_au_feed  14148 non-null  float64\n",
      " 32  rougher.calculation.floatbank11_sulfate_to_au_feed  14148 non-null  float64\n",
      " 33  rougher.calculation.au_pb_ratio                     14149 non-null  float64\n",
      " 34  rougher.input.feed_ag                               14149 non-null  float64\n",
      " 35  rougher.input.feed_pb                               14049 non-null  float64\n",
      " 36  rougher.input.feed_rate                             14141 non-null  float64\n",
      " 37  rougher.input.feed_size                             14005 non-null  float64\n",
      " 38  rougher.input.feed_sol                              14071 non-null  float64\n",
      " 39  rougher.input.feed_au                               14149 non-null  float64\n",
      " 40  rougher.input.floatbank10_sulfate                   14120 non-null  float64\n",
      " 41  rougher.input.floatbank10_xanthate                  14141 non-null  float64\n",
      " 42  rougher.input.floatbank11_sulfate                   14113 non-null  float64\n",
      " 43  rougher.input.floatbank11_xanthate                  13721 non-null  float64\n",
      " 44  rougher.output.concentrate_ag                       14149 non-null  float64\n",
      " 45  rougher.output.concentrate_pb                       14149 non-null  float64\n",
      " 46  rougher.output.concentrate_sol                      14127 non-null  float64\n",
      " 47  rougher.output.concentrate_au                       14149 non-null  float64\n",
      " 48  rougher.output.recovery                             14149 non-null  float64\n",
      " 49  rougher.output.tail_ag                              14148 non-null  float64\n",
      " 50  rougher.output.tail_pb                              14149 non-null  float64\n",
      " 51  rougher.output.tail_sol                             14149 non-null  float64\n",
      " 52  rougher.output.tail_au                              14149 non-null  float64\n",
      " 53  rougher.state.floatbank10_a_air                     14148 non-null  float64\n",
      " 54  rougher.state.floatbank10_a_level                   14148 non-null  float64\n",
      " 55  rougher.state.floatbank10_b_air                     14148 non-null  float64\n",
      " 56  rougher.state.floatbank10_b_level                   14148 non-null  float64\n",
      " 57  rougher.state.floatbank10_c_air                     14148 non-null  float64\n",
      " 58  rougher.state.floatbank10_c_level                   14148 non-null  float64\n",
      " 59  rougher.state.floatbank10_d_air                     14149 non-null  float64\n",
      " 60  rougher.state.floatbank10_d_level                   14149 non-null  float64\n",
      " 61  rougher.state.floatbank10_e_air                     13713 non-null  float64\n",
      " 62  rougher.state.floatbank10_e_level                   14149 non-null  float64\n",
      " 63  rougher.state.floatbank10_f_air                     14149 non-null  float64\n",
      " 64  rougher.state.floatbank10_f_level                   14149 non-null  float64\n",
      " 65  secondary_cleaner.output.tail_ag                    14147 non-null  float64\n",
      " 66  secondary_cleaner.output.tail_pb                    14139 non-null  float64\n",
      " 67  secondary_cleaner.output.tail_sol                   12544 non-null  float64\n",
      " 68  secondary_cleaner.output.tail_au                    14149 non-null  float64\n",
      " 69  secondary_cleaner.state.floatbank2_a_air            13932 non-null  float64\n",
      " 70  secondary_cleaner.state.floatbank2_a_level          14148 non-null  float64\n",
      " 71  secondary_cleaner.state.floatbank2_b_air            14128 non-null  float64\n",
      " 72  secondary_cleaner.state.floatbank2_b_level          14148 non-null  float64\n",
      " 73  secondary_cleaner.state.floatbank3_a_air            14145 non-null  float64\n",
      " 74  secondary_cleaner.state.floatbank3_a_level          14148 non-null  float64\n",
      " 75  secondary_cleaner.state.floatbank3_b_air            14148 non-null  float64\n",
      " 76  secondary_cleaner.state.floatbank3_b_level          14148 non-null  float64\n",
      " 77  secondary_cleaner.state.floatbank4_a_air            14143 non-null  float64\n",
      " 78  secondary_cleaner.state.floatbank4_a_level          14148 non-null  float64\n",
      " 79  secondary_cleaner.state.floatbank4_b_air            14148 non-null  float64\n",
      " 80  secondary_cleaner.state.floatbank4_b_level          14148 non-null  float64\n",
      " 81  secondary_cleaner.state.floatbank5_a_air            14148 non-null  float64\n",
      " 82  secondary_cleaner.state.floatbank5_a_level          14148 non-null  float64\n",
      " 83  secondary_cleaner.state.floatbank5_b_air            14148 non-null  float64\n",
      " 84  secondary_cleaner.state.floatbank5_b_level          14148 non-null  float64\n",
      " 85  secondary_cleaner.state.floatbank6_a_air            14147 non-null  float64\n",
      " 86  secondary_cleaner.state.floatbank6_a_level          14148 non-null  float64\n",
      "dtypes: float64(86), object(1)\n",
      "memory usage: 9.4+ MB\n",
      "None\n"
     ]
    }
   ],
   "source": [
    "display(df_train.head())\n",
    "print(df_train.info())"
   ]
  },
  {
   "cell_type": "markdown",
   "metadata": {
    "pycharm": {
     "name": "#%% md\n"
    }
   },
   "source": [
    "**Вывод:**\n",
    "- df_full и df_train содержат по 86 столбцов, а df_test - 52. Придется из df_train убирать \"лишние\" столбцы\n",
    "- В данных есть пропуски - придется заполнять\n",
    "- тип данных в основном float64, кроме параметра date, тип которого object - необходимо заметить тип и сделаем его индексом"
   ]
  },
  {
   "cell_type": "markdown",
   "metadata": {
    "jupyter": {
     "outputs_hidden": false
    },
    "pycharm": {
     "name": "#%% md\n"
    }
   },
   "source": [
    "## 1.2. Проверка корректности расчета эффективности обогащения"
   ]
  },
  {
   "cell_type": "markdown",
   "metadata": {
    "pycharm": {
     "name": "#%% md\n"
    }
   },
   "source": [
    "Исходя из предоставленного описания:\n",
    "C — доля золота в концентрате после флотации/очистки;\n",
    "F — доля золота в сырье/концентрате до флотации/очистки;\n",
    "T — доля золота в отвальных хвостах после флотации/очистки.\n",
    "можно предположить, что с параметрами датасета это свзяно следующим образом:\n",
    "С = rougher.output.concentrate_au\n",
    "F = rougher.input.feed_au\n",
    "T = rougher.output.tail_au"
   ]
  },
  {
   "cell_type": "code",
   "execution_count": 6,
   "metadata": {
    "pycharm": {
     "name": "#%%\n"
    }
   },
   "outputs": [],
   "source": [
    "# Подготовим функцию для расчета\n",
    "def recovery_calculator(row):\n",
    "    c = row['rougher.output.concentrate_au']\n",
    "    f = row['rougher.input.feed_au']\n",
    "    t = row['rougher.output.tail_au']\n",
    "    result = (c * (f - t))/(f * (c - t))*100\n",
    "    return result"
   ]
  },
  {
   "cell_type": "code",
   "execution_count": 7,
   "metadata": {
    "pycharm": {
     "name": "#%%\n"
    }
   },
   "outputs": [
    {
     "data": {
      "text/html": [
       "<div>\n",
       "<style scoped>\n",
       "    .dataframe tbody tr th:only-of-type {\n",
       "        vertical-align: middle;\n",
       "    }\n",
       "\n",
       "    .dataframe tbody tr th {\n",
       "        vertical-align: top;\n",
       "    }\n",
       "\n",
       "    .dataframe thead th {\n",
       "        text-align: right;\n",
       "    }\n",
       "</style>\n",
       "<table border=\"1\" class=\"dataframe\">\n",
       "  <thead>\n",
       "    <tr style=\"text-align: right;\">\n",
       "      <th></th>\n",
       "      <th>calculated_rougher.output.recovery</th>\n",
       "      <th>rougher.output.recovery</th>\n",
       "    </tr>\n",
       "  </thead>\n",
       "  <tbody>\n",
       "    <tr>\n",
       "      <th>0</th>\n",
       "      <td>87.107763</td>\n",
       "      <td>87.107763</td>\n",
       "    </tr>\n",
       "    <tr>\n",
       "      <th>1</th>\n",
       "      <td>86.843261</td>\n",
       "      <td>86.843261</td>\n",
       "    </tr>\n",
       "    <tr>\n",
       "      <th>2</th>\n",
       "      <td>86.842308</td>\n",
       "      <td>86.842308</td>\n",
       "    </tr>\n",
       "    <tr>\n",
       "      <th>3</th>\n",
       "      <td>87.226430</td>\n",
       "      <td>87.226430</td>\n",
       "    </tr>\n",
       "    <tr>\n",
       "      <th>4</th>\n",
       "      <td>86.688794</td>\n",
       "      <td>86.688794</td>\n",
       "    </tr>\n",
       "  </tbody>\n",
       "</table>\n",
       "</div>"
      ],
      "text/plain": [
       "   calculated_rougher.output.recovery  rougher.output.recovery\n",
       "0                           87.107763                87.107763\n",
       "1                           86.843261                86.843261\n",
       "2                           86.842308                86.842308\n",
       "3                           87.226430                87.226430\n",
       "4                           86.688794                86.688794"
      ]
     },
     "execution_count": 7,
     "metadata": {},
     "output_type": "execute_result"
    }
   ],
   "source": [
    "# Выполним расчет\n",
    "df_train['calculated_rougher.output.recovery'] = df_train.apply(recovery_calculator, axis=1)\n",
    "# и оценим полученный рузльтат визуально\n",
    "df_train[['calculated_rougher.output.recovery','rougher.output.recovery']].head()"
   ]
  },
  {
   "cell_type": "markdown",
   "metadata": {
    "pycharm": {
     "name": "#%% md\n"
    }
   },
   "source": [
    "На первый взгляд один в один. Но посчитаем через MAE"
   ]
  },
  {
   "cell_type": "code",
   "execution_count": 8,
   "metadata": {
    "pycharm": {
     "name": "#%%\n"
    }
   },
   "outputs": [
    {
     "name": "stdout",
     "output_type": "stream",
     "text": [
      "MAE =  9.682896147825551e-15\n"
     ]
    }
   ],
   "source": [
    "mae = mean_absolute_error(df_train['rougher.output.recovery'], df_train['calculated_rougher.output.recovery'])\n",
    "print('MAE = ', mae)"
   ]
  },
  {
   "cell_type": "markdown",
   "metadata": {
    "pycharm": {
     "name": "#%% md\n"
    }
   },
   "source": [
    "Как видно, результат очень точный!"
   ]
  },
  {
   "cell_type": "markdown",
   "metadata": {
    "pycharm": {
     "name": "#%% md\n"
    }
   },
   "source": [
    "Удалим столбец с расчитанным значением 'rougher.output.recovery' за ненадобностью"
   ]
  },
  {
   "cell_type": "code",
   "execution_count": 9,
   "metadata": {
    "pycharm": {
     "name": "#%%\n"
    }
   },
   "outputs": [],
   "source": [
    "df_train = df_train.drop(columns='calculated_rougher.output.recovery')"
   ]
  },
  {
   "cell_type": "markdown",
   "metadata": {
    "pycharm": {
     "name": "#%% md\n"
    }
   },
   "source": [
    "## 1.3. Признаки, недоступные в тестовой выборке"
   ]
  },
  {
   "cell_type": "code",
   "execution_count": 10,
   "metadata": {
    "pycharm": {
     "name": "#%%\n"
    }
   },
   "outputs": [
    {
     "name": "stdout",
     "output_type": "stream",
     "text": [
      "количество столбцов в тренировочной выборке =  87\n",
      "количество столбцов в тестовой выборке =  53\n",
      "список признаков, недоступных в тествой выборке:\n",
      " ['final.output.concentrate_ag', 'final.output.concentrate_au', 'final.output.concentrate_pb', 'final.output.concentrate_sol', 'final.output.recovery', 'final.output.tail_ag', 'final.output.tail_au', 'final.output.tail_pb', 'final.output.tail_sol', 'primary_cleaner.output.concentrate_ag', 'primary_cleaner.output.concentrate_au', 'primary_cleaner.output.concentrate_pb', 'primary_cleaner.output.concentrate_sol', 'primary_cleaner.output.tail_ag', 'primary_cleaner.output.tail_au', 'primary_cleaner.output.tail_pb', 'primary_cleaner.output.tail_sol', 'rougher.calculation.au_pb_ratio', 'rougher.calculation.floatbank10_sulfate_to_au_feed', 'rougher.calculation.floatbank11_sulfate_to_au_feed', 'rougher.calculation.sulfate_to_au_concentrate', 'rougher.output.concentrate_ag', 'rougher.output.concentrate_au', 'rougher.output.concentrate_pb', 'rougher.output.concentrate_sol', 'rougher.output.recovery', 'rougher.output.tail_ag', 'rougher.output.tail_au', 'rougher.output.tail_pb', 'rougher.output.tail_sol', 'secondary_cleaner.output.tail_ag', 'secondary_cleaner.output.tail_au', 'secondary_cleaner.output.tail_pb', 'secondary_cleaner.output.tail_sol']\n"
     ]
    }
   ],
   "source": [
    "train_params = df_train.columns\n",
    "test_params = df_test.columns\n",
    "diff_train_test_params = sorted(list(set(train_params) - set(test_params) ))\n",
    "print('количество столбцов в тренировочной выборке = ', len(train_params))\n",
    "print('количество столбцов в тестовой выборке = ', len(test_params))\n",
    "print('список признаков, недоступных в тествой выборке:\\n', diff_train_test_params)"
   ]
  },
  {
   "cell_type": "markdown",
   "metadata": {
    "pycharm": {
     "name": "#%% md\n"
    }
   },
   "source": [
    "Недоступны:\n",
    "1. оба целевых признака (`final.output.recovery`, `final.output.recovery`)\n",
    "2. расчётные характеристики параметров сырья (`rougher.calculation...`)\n",
    "3. параметры продукта флотации (`rougher.output.concentrate_..`)\n",
    "5. параметры продукта первичной очистки (`primary_cleaner.output.concentrate_..`)\n",
    "6. параметры продукта вторичной очистки (`final.output.concentrate_..`)\n",
    "12. отвальные хвосты флотации (`rougher.output.tail_..`)\n",
    "13. отвальные хвосты первичной очистки (`primary_cleaner.output.tail_...`)\n",
    "14. отвальные хвосты вторичной очистки (`secondary_cleaner.output.tail_`)\n",
    "15. отвальные хвосты финальные (общие) (`final.output.tail_..`)\n",
    "\n",
    "иными словами в тестовой выборке отсутствуют\n",
    "1. параметры продукта после каждой стадии\n",
    "2. отвальные хвосты после каждой стадии, в т.ч. общие\n",
    "3. расчетные харакетристики сырья\n",
    "4. целевые параметры процесса\n",
    "\n",
    "а присутствуют:\n",
    "1. все входные пармстры для флотации и первичной очистки (`input`)\n",
    "2. параметры состояния на каждом этапе (`state`)\n",
    "\n",
    "вывод:\n",
    "1. необходимо в тестовую выборку добавить оба целевых признака"
   ]
  },
  {
   "cell_type": "markdown",
   "metadata": {
    "pycharm": {
     "name": "#%% md\n"
    }
   },
   "source": [
    "## 1.4. Предобработка данных"
   ]
  },
  {
   "cell_type": "markdown",
   "metadata": {
    "pycharm": {
     "name": "#%% md\n"
    }
   },
   "source": [
    "Заменим тип даты на соответствующий и установим даты в качестве индекса"
   ]
  },
  {
   "cell_type": "code",
   "execution_count": 11,
   "metadata": {
    "pycharm": {
     "name": "#%%\n"
    }
   },
   "outputs": [],
   "source": [
    "# изменим тип\n",
    "df_full['date'] = pd.to_datetime(df_full['date'], format='%Y-%m-%d %H:%M:%S')\n",
    "df_test['date'] = pd.to_datetime(df_test['date'], format='%Y-%m-%d %H:%M:%S')\n",
    "df_train['date'] = pd.to_datetime(df_train['date'], format='%Y-%m-%d %H:%M:%S')\n",
    "\n",
    "# сделаем индексом\n",
    "df_full.set_index('date', inplace=True)\n",
    "df_test.set_index('date', inplace=True)\n",
    "df_train.set_index('date', inplace=True)"
   ]
  },
  {
   "cell_type": "markdown",
   "metadata": {
    "pycharm": {
     "name": "#%% md\n"
    }
   },
   "source": [
    "### 1.4.1. Заполнение пропусков"
   ]
  },
  {
   "cell_type": "code",
   "execution_count": 12,
   "metadata": {
    "pycharm": {
     "name": "#%%\n"
    }
   },
   "outputs": [
    {
     "name": "stdout",
     "output_type": "stream",
     "text": [
      "в выборках присутствуют короткие промежутки отсуствующих значений\n"
     ]
    },
    {
     "data": {
      "text/plain": [
       "date\n",
       "2017-12-17 05:59:59    27.448429\n",
       "2017-12-17 06:59:59    25.267509\n",
       "2017-12-17 07:59:59    26.176558\n",
       "2017-12-17 08:59:59    21.214718\n",
       "2017-12-17 09:59:59          NaN\n",
       "2017-12-17 10:59:59          NaN\n",
       "2017-12-17 11:59:59    32.263823\n",
       "2017-12-17 12:59:59    35.105592\n",
       "2017-12-17 13:59:59    37.677373\n",
       "2017-12-17 14:59:59    38.550045\n",
       "Name: rougher.input.feed_sol, dtype: float64"
      ]
     },
     "metadata": {},
     "output_type": "display_data"
    },
    {
     "name": "stdout",
     "output_type": "stream",
     "text": [
      "так же присутствуют средне долгие промежутки отсуствующих значений\n"
     ]
    },
    {
     "data": {
      "text/plain": [
       "date\n",
       "2017-12-16 02:59:59    7.202016\n",
       "2017-12-16 03:59:59    7.194959\n",
       "2017-12-16 04:59:59    7.007955\n",
       "2017-12-16 05:59:59    3.558781\n",
       "2017-12-16 23:59:59         NaN\n",
       "2017-12-17 00:59:59         NaN\n",
       "2017-12-17 01:59:59         NaN\n",
       "2017-12-17 02:59:59         NaN\n",
       "2017-12-17 03:59:59         NaN\n",
       "2017-12-17 04:59:59         NaN\n",
       "2017-12-17 05:59:59         NaN\n",
       "2017-12-17 06:59:59         NaN\n",
       "2017-12-17 07:59:59         NaN\n",
       "2017-12-17 08:59:59    2.045122\n",
       "2017-12-17 09:59:59    4.619273\n",
       "2017-12-17 10:59:59    5.514070\n",
       "2017-12-17 11:59:59    5.323963\n",
       "Name: rougher.input.floatbank11_xanthate, dtype: float64"
      ]
     },
     "metadata": {},
     "output_type": "display_data"
    },
    {
     "name": "stdout",
     "output_type": "stream",
     "text": [
      "и совсем длинные периоды\n"
     ]
    },
    {
     "data": {
      "text/plain": [
       "date\n",
       "2017-02-27 18:59:59    4.044859\n",
       "2017-02-27 19:59:59    3.410875\n",
       "2017-02-28 14:59:59         NaN\n",
       "2017-02-28 15:59:59         NaN\n",
       "2017-02-28 16:59:59         NaN\n",
       "                         ...   \n",
       "2017-03-12 05:59:59         NaN\n",
       "2017-03-12 06:59:59    0.023120\n",
       "2017-03-12 07:59:59         NaN\n",
       "2017-03-12 08:59:59         NaN\n",
       "2017-03-12 09:59:59         NaN\n",
       "Name: rougher.input.floatbank11_xanthate, Length: 276, dtype: float64"
      ]
     },
     "metadata": {},
     "output_type": "display_data"
    }
   ],
   "source": [
    "print('в выборках присутствуют короткие промежутки отсуствующих значений')\n",
    "display(df_full.loc[( ('2017-12-17 05:00:00' < df_full.index) & (df_full.index < '2017-12-17 15:00:00')), 'rougher.input.feed_sol'])\n",
    "\n",
    "print('так же присутствуют средне долгие промежутки отсуствующих значений')\n",
    "display(df_full.loc[(('2017-12-16 02:00:00' < df_full.index) & (df_full.index < '2017-12-17 12:00:00') ), 'rougher.input.floatbank11_xanthate'])\n",
    "\n",
    "print('и совсем длинные периоды')\n",
    "display(df_full.loc[( ('2017-02-27 17:59:59' < df_full.index) & (df_full.index < '2017-03-12 10:59:59')), 'rougher.input.floatbank11_xanthate'])"
   ]
  },
  {
   "cell_type": "markdown",
   "metadata": {
    "pycharm": {
     "name": "#%% md\n"
    }
   },
   "source": [
    "Можно заметить, что значения в предыдущих и последующих записях отличаются незначительно. Поэтому для заполненжия пропусков применим заполенение средним по n значениям. С учетом того, что встречаются разрывы различной продолжительности будем заполнеять средним по возрастанию. Напишем для этого функцию.\n"
   ]
  },
  {
   "cell_type": "code",
   "execution_count": 13,
   "metadata": {
    "pycharm": {
     "name": "#%%\n"
    }
   },
   "outputs": [],
   "source": [
    "def empty_values_replacer(df, empty_values_range=10):\n",
    "    \"\"\"\n",
    "    Данная функция заполняет пропуски средним окна из n значений. Размер окна перебирается итеративно по возрастанию.\n",
    "    \"\"\"\n",
    "    col_list = df.columns\n",
    "    for i in range(2, empty_values_range):\n",
    "        for col in col_list:\n",
    "            try:\n",
    "                df.loc[df[col].isna(), col] = df[col].rolling(f'{i}h').mean()[df[df[col].isna()].index].copy()\n",
    "            except Exception as e:\n",
    "                print(f'column = {col}, exception = {e}')\n",
    "    return df"
   ]
  },
  {
   "cell_type": "code",
   "execution_count": 14,
   "metadata": {
    "pycharm": {
     "name": "#%%\n"
    }
   },
   "outputs": [],
   "source": [
    "df_full = empty_values_replacer(df_full, 25)"
   ]
  },
  {
   "cell_type": "markdown",
   "metadata": {
    "pycharm": {
     "name": "#%% md\n"
    }
   },
   "source": [
    "Оценим изменения"
   ]
  },
  {
   "cell_type": "code",
   "execution_count": 15,
   "metadata": {
    "pycharm": {
     "name": "#%%\n"
    }
   },
   "outputs": [
    {
     "name": "stdout",
     "output_type": "stream",
     "text": [
      "<class 'pandas.core.frame.DataFrame'>\n",
      "DatetimeIndex: 19439 entries, 2016-01-15 00:00:00 to 2018-08-18 10:59:59\n",
      "Data columns (total 86 columns):\n",
      " #   Column                                              Non-Null Count  Dtype  \n",
      "---  ------                                              --------------  -----  \n",
      " 0   final.output.concentrate_ag                         19439 non-null  float64\n",
      " 1   final.output.concentrate_pb                         19439 non-null  float64\n",
      " 2   final.output.concentrate_sol                        19429 non-null  float64\n",
      " 3   final.output.concentrate_au                         19439 non-null  float64\n",
      " 4   final.output.recovery                               19439 non-null  float64\n",
      " 5   final.output.tail_ag                                19439 non-null  float64\n",
      " 6   final.output.tail_pb                                19439 non-null  float64\n",
      " 7   final.output.tail_sol                               19439 non-null  float64\n",
      " 8   final.output.tail_au                                19439 non-null  float64\n",
      " 9   primary_cleaner.input.sulfate                       19439 non-null  float64\n",
      " 10  primary_cleaner.input.depressant                    19437 non-null  float64\n",
      " 11  primary_cleaner.input.feed_size                     19439 non-null  float64\n",
      " 12  primary_cleaner.input.xanthate                      19439 non-null  float64\n",
      " 13  primary_cleaner.output.concentrate_ag               19439 non-null  float64\n",
      " 14  primary_cleaner.output.concentrate_pb               19439 non-null  float64\n",
      " 15  primary_cleaner.output.concentrate_sol              19438 non-null  float64\n",
      " 16  primary_cleaner.output.concentrate_au               19439 non-null  float64\n",
      " 17  primary_cleaner.output.tail_ag                      19439 non-null  float64\n",
      " 18  primary_cleaner.output.tail_pb                      19439 non-null  float64\n",
      " 19  primary_cleaner.output.tail_sol                     19438 non-null  float64\n",
      " 20  primary_cleaner.output.tail_au                      19439 non-null  float64\n",
      " 21  primary_cleaner.state.floatbank8_a_air              19439 non-null  float64\n",
      " 22  primary_cleaner.state.floatbank8_a_level            19439 non-null  float64\n",
      " 23  primary_cleaner.state.floatbank8_b_air              19439 non-null  float64\n",
      " 24  primary_cleaner.state.floatbank8_b_level            19439 non-null  float64\n",
      " 25  primary_cleaner.state.floatbank8_c_air              19439 non-null  float64\n",
      " 26  primary_cleaner.state.floatbank8_c_level            19439 non-null  float64\n",
      " 27  primary_cleaner.state.floatbank8_d_air              19439 non-null  float64\n",
      " 28  primary_cleaner.state.floatbank8_d_level            19439 non-null  float64\n",
      " 29  rougher.calculation.sulfate_to_au_concentrate       19439 non-null  float64\n",
      " 30  rougher.calculation.floatbank10_sulfate_to_au_feed  19439 non-null  float64\n",
      " 31  rougher.calculation.floatbank11_sulfate_to_au_feed  19439 non-null  float64\n",
      " 32  rougher.calculation.au_pb_ratio                     19439 non-null  float64\n",
      " 33  rougher.input.feed_ag                               19439 non-null  float64\n",
      " 34  rougher.input.feed_pb                               19438 non-null  float64\n",
      " 35  rougher.input.feed_rate                             19439 non-null  float64\n",
      " 36  rougher.input.feed_size                             19368 non-null  float64\n",
      " 37  rougher.input.feed_sol                              19438 non-null  float64\n",
      " 38  rougher.input.feed_au                               19439 non-null  float64\n",
      " 39  rougher.input.floatbank10_sulfate                   19439 non-null  float64\n",
      " 40  rougher.input.floatbank10_xanthate                  19439 non-null  float64\n",
      " 41  rougher.input.floatbank11_sulfate                   19439 non-null  float64\n",
      " 42  rougher.input.floatbank11_xanthate                  19256 non-null  float64\n",
      " 43  rougher.output.concentrate_ag                       19439 non-null  float64\n",
      " 44  rougher.output.concentrate_pb                       19439 non-null  float64\n",
      " 45  rougher.output.concentrate_sol                      19437 non-null  float64\n",
      " 46  rougher.output.concentrate_au                       19439 non-null  float64\n",
      " 47  rougher.output.recovery                             19439 non-null  float64\n",
      " 48  rougher.output.tail_ag                              19439 non-null  float64\n",
      " 49  rougher.output.tail_pb                              19439 non-null  float64\n",
      " 50  rougher.output.tail_sol                             19439 non-null  float64\n",
      " 51  rougher.output.tail_au                              19439 non-null  float64\n",
      " 52  rougher.state.floatbank10_a_air                     19439 non-null  float64\n",
      " 53  rougher.state.floatbank10_a_level                   19439 non-null  float64\n",
      " 54  rougher.state.floatbank10_b_air                     19439 non-null  float64\n",
      " 55  rougher.state.floatbank10_b_level                   19439 non-null  float64\n",
      " 56  rougher.state.floatbank10_c_air                     19439 non-null  float64\n",
      " 57  rougher.state.floatbank10_c_level                   19439 non-null  float64\n",
      " 58  rougher.state.floatbank10_d_air                     19439 non-null  float64\n",
      " 59  rougher.state.floatbank10_d_level                   19439 non-null  float64\n",
      " 60  rougher.state.floatbank10_e_air                     19274 non-null  float64\n",
      " 61  rougher.state.floatbank10_e_level                   19439 non-null  float64\n",
      " 62  rougher.state.floatbank10_f_air                     19439 non-null  float64\n",
      " 63  rougher.state.floatbank10_f_level                   19439 non-null  float64\n",
      " 64  secondary_cleaner.output.tail_ag                    19438 non-null  float64\n",
      " 65  secondary_cleaner.output.tail_pb                    19438 non-null  float64\n",
      " 66  secondary_cleaner.output.tail_sol                   19419 non-null  float64\n",
      " 67  secondary_cleaner.output.tail_au                    19439 non-null  float64\n",
      " 68  secondary_cleaner.state.floatbank2_a_air            19439 non-null  float64\n",
      " 69  secondary_cleaner.state.floatbank2_a_level          19439 non-null  float64\n",
      " 70  secondary_cleaner.state.floatbank2_b_air            19439 non-null  float64\n",
      " 71  secondary_cleaner.state.floatbank2_b_level          19439 non-null  float64\n",
      " 72  secondary_cleaner.state.floatbank3_a_air            19439 non-null  float64\n",
      " 73  secondary_cleaner.state.floatbank3_a_level          19439 non-null  float64\n",
      " 74  secondary_cleaner.state.floatbank3_b_air            19439 non-null  float64\n",
      " 75  secondary_cleaner.state.floatbank3_b_level          19439 non-null  float64\n",
      " 76  secondary_cleaner.state.floatbank4_a_air            19439 non-null  float64\n",
      " 77  secondary_cleaner.state.floatbank4_a_level          19439 non-null  float64\n",
      " 78  secondary_cleaner.state.floatbank4_b_air            19439 non-null  float64\n",
      " 79  secondary_cleaner.state.floatbank4_b_level          19439 non-null  float64\n",
      " 80  secondary_cleaner.state.floatbank5_a_air            19439 non-null  float64\n",
      " 81  secondary_cleaner.state.floatbank5_a_level          19439 non-null  float64\n",
      " 82  secondary_cleaner.state.floatbank5_b_air            19439 non-null  float64\n",
      " 83  secondary_cleaner.state.floatbank5_b_level          19439 non-null  float64\n",
      " 84  secondary_cleaner.state.floatbank6_a_air            19439 non-null  float64\n",
      " 85  secondary_cleaner.state.floatbank6_a_level          19439 non-null  float64\n",
      "dtypes: float64(86)\n",
      "memory usage: 13.5 MB\n"
     ]
    }
   ],
   "source": [
    "df_full.info()"
   ]
  },
  {
   "cell_type": "markdown",
   "metadata": {
    "pycharm": {
     "name": "#%% md\n"
    }
   },
   "source": [
    "Как видно, пропуски уменьшились, но все еще присутствуют. Покаоставим их."
   ]
  },
  {
   "cell_type": "markdown",
   "metadata": {
    "pycharm": {
     "name": "#%% md\n"
    }
   },
   "source": [
    "Заполним пропуски в тестовой выбоке. Но сперва убедимся что тестовая вобрка (df_test) является частью исходных данных (df_full)"
   ]
  },
  {
   "cell_type": "code",
   "execution_count": 16,
   "metadata": {
    "pycharm": {
     "name": "#%%\n"
    }
   },
   "outputs": [],
   "source": [
    "# объединим тестовую и полную выборку чтобы сравнить значения\n",
    "df_full_train_joined =  df_full.join(df_train, lsuffix='_full', rsuffix='_train')"
   ]
  },
  {
   "cell_type": "code",
   "execution_count": 17,
   "metadata": {
    "pycharm": {
     "name": "#%%\n"
    }
   },
   "outputs": [
    {
     "name": "stdout",
     "output_type": "stream",
     "text": [
      "в тренировочной выборке нет соответсвющих полной выборке записей в количестве  5290 шт.\n",
      "при этом\n",
      "в полной вборке выборке \"не хватает\"  0 записей\n",
      "при этом\n",
      "для непустых записей из тренировочной выборки не совпадает 2 записей\n",
      "и это\n"
     ]
    },
    {
     "data": {
      "text/html": [
       "<div>\n",
       "<style scoped>\n",
       "    .dataframe tbody tr th:only-of-type {\n",
       "        vertical-align: middle;\n",
       "    }\n",
       "\n",
       "    .dataframe tbody tr th {\n",
       "        vertical-align: top;\n",
       "    }\n",
       "\n",
       "    .dataframe thead th {\n",
       "        text-align: right;\n",
       "    }\n",
       "</style>\n",
       "<table border=\"1\" class=\"dataframe\">\n",
       "  <thead>\n",
       "    <tr style=\"text-align: right;\">\n",
       "      <th></th>\n",
       "      <th>rougher.output.recovery_full</th>\n",
       "      <th>rougher.output.recovery_train</th>\n",
       "    </tr>\n",
       "    <tr>\n",
       "      <th>date</th>\n",
       "      <th></th>\n",
       "      <th></th>\n",
       "    </tr>\n",
       "  </thead>\n",
       "  <tbody>\n",
       "    <tr>\n",
       "      <th>2018-06-29 10:59:59</th>\n",
       "      <td>37.792299</td>\n",
       "      <td>37.792299</td>\n",
       "    </tr>\n",
       "    <tr>\n",
       "      <th>2018-07-17 15:59:59</th>\n",
       "      <td>91.924340</td>\n",
       "      <td>91.924340</td>\n",
       "    </tr>\n",
       "  </tbody>\n",
       "</table>\n",
       "</div>"
      ],
      "text/plain": [
       "                     rougher.output.recovery_full  \\\n",
       "date                                                \n",
       "2018-06-29 10:59:59                     37.792299   \n",
       "2018-07-17 15:59:59                     91.924340   \n",
       "\n",
       "                     rougher.output.recovery_train  \n",
       "date                                                \n",
       "2018-06-29 10:59:59                      37.792299  \n",
       "2018-07-17 15:59:59                      91.924340  "
      ]
     },
     "metadata": {},
     "output_type": "display_data"
    },
    {
     "name": "stdout",
     "output_type": "stream",
     "text": [
      "что по сути одно и тоже, и разница, видимо, в долях\n"
     ]
    }
   ],
   "source": [
    "print('в тренировочной выборке нет соответсвющих полной выборке записей в количестве ', len(df_full_train_joined.loc[df_full_train_joined['rougher.output.recovery_train'].isna(),['rougher.output.recovery_full', 'rougher.output.recovery_train']]),'шт.')\n",
    "print('при этом')\n",
    "print('в полной вборке выборке \"не хватает\" ', len(df_full_train_joined.loc[df_full_train_joined['rougher.output.recovery_full'].isna(),['rougher.output.recovery_full', 'rougher.output.recovery_train']]),'записей')\n",
    "print('при этом')\n",
    "print('для непустых записей из тренировочной выборки не совпадает' , len(df_full_train_joined.loc[(~df_full_train_joined['rougher.output.recovery_train'].isna() &\n",
    "                                                                                                   (df_full_train_joined['rougher.output.recovery_full']!=df_full_train_joined['rougher.output.recovery_train']))\n",
    ",['rougher.output.recovery_full', 'rougher.output.recovery_train']]), 'записей')\n",
    "print('и это')\n",
    "display(df_full_train_joined.loc[(~df_full_train_joined['rougher.output.recovery_train'].isna() &\n",
    "                                  (df_full_train_joined['rougher.output.recovery_full']!=df_full_train_joined['rougher.output.recovery_train']))\n",
    ",['rougher.output.recovery_full', 'rougher.output.recovery_train']]  )\n",
    "print('что по сути одно и тоже, и разница, видимо, в долях')"
   ]
  },
  {
   "cell_type": "markdown",
   "metadata": {
    "pycharm": {
     "name": "#%% md\n"
    }
   },
   "source": [
    "как видно из п. 1.1.\n",
    "в df_full - 19439 записи\n",
    "в df_train - 14149 записи\n",
    "\n",
    "проверим сперва епоявидись ли после объединения пустые записи относящиеся к тренировочной и к тестовой выборкам"
   ]
  },
  {
   "cell_type": "markdown",
   "metadata": {
    "pycharm": {
     "name": "#%% md\n"
    }
   },
   "source": [
    "Получается, полная выбока перекрывает собой тренировочную и тестовую выбоки. А, поскольку, пропуски (хоть и частично) в df_full мы уже заполнили, затянем их в тестовую выборку. Подготовим для этого функцию."
   ]
  },
  {
   "cell_type": "code",
   "execution_count": 18,
   "metadata": {
    "pycharm": {
     "name": "#%%\n"
    }
   },
   "outputs": [],
   "source": [
    "def value_replacer(df1, df2):\n",
    "    \"\"\"\n",
    "    данная функция по каждоиму столбцу датафрейма df1 заполняет в нем пропуски значениями из df2.\n",
    "    если пропуски в обоих - заполняет пропусками\n",
    "    \"\"\"\n",
    "    col_list = df1.columns\n",
    "    for col in col_list:\n",
    "        try:\n",
    "            df1.loc[df1[col].isna(), col] = df2.loc[df1[col].isna().index,col]\n",
    "        except Exception as e:\n",
    "            print(e)\n",
    "    return df1"
   ]
  },
  {
   "cell_type": "code",
   "execution_count": 19,
   "metadata": {
    "pycharm": {
     "name": "#%%\n"
    }
   },
   "outputs": [],
   "source": [
    "df_test = value_replacer(df_test, df_full)\n",
    "df_train = value_replacer(df_train, df_full)"
   ]
  },
  {
   "cell_type": "code",
   "execution_count": 20,
   "metadata": {
    "pycharm": {
     "name": "#%%\n"
    }
   },
   "outputs": [
    {
     "name": "stdout",
     "output_type": "stream",
     "text": [
      "<class 'pandas.core.frame.DataFrame'>\n",
      "DatetimeIndex: 14149 entries, 2016-01-15 00:00:00 to 2018-08-18 10:59:59\n",
      "Data columns (total 86 columns):\n",
      " #   Column                                              Non-Null Count  Dtype  \n",
      "---  ------                                              --------------  -----  \n",
      " 0   final.output.concentrate_ag                         14149 non-null  float64\n",
      " 1   final.output.concentrate_pb                         14149 non-null  float64\n",
      " 2   final.output.concentrate_sol                        14139 non-null  float64\n",
      " 3   final.output.concentrate_au                         14149 non-null  float64\n",
      " 4   final.output.recovery                               14149 non-null  float64\n",
      " 5   final.output.tail_ag                                14149 non-null  float64\n",
      " 6   final.output.tail_pb                                14149 non-null  float64\n",
      " 7   final.output.tail_sol                               14149 non-null  float64\n",
      " 8   final.output.tail_au                                14149 non-null  float64\n",
      " 9   primary_cleaner.input.sulfate                       14149 non-null  float64\n",
      " 10  primary_cleaner.input.depressant                    14148 non-null  float64\n",
      " 11  primary_cleaner.input.feed_size                     14149 non-null  float64\n",
      " 12  primary_cleaner.input.xanthate                      14149 non-null  float64\n",
      " 13  primary_cleaner.output.concentrate_ag               14149 non-null  float64\n",
      " 14  primary_cleaner.output.concentrate_pb               14149 non-null  float64\n",
      " 15  primary_cleaner.output.concentrate_sol              14148 non-null  float64\n",
      " 16  primary_cleaner.output.concentrate_au               14149 non-null  float64\n",
      " 17  primary_cleaner.output.tail_ag                      14149 non-null  float64\n",
      " 18  primary_cleaner.output.tail_pb                      14149 non-null  float64\n",
      " 19  primary_cleaner.output.tail_sol                     14148 non-null  float64\n",
      " 20  primary_cleaner.output.tail_au                      14149 non-null  float64\n",
      " 21  primary_cleaner.state.floatbank8_a_air              14149 non-null  float64\n",
      " 22  primary_cleaner.state.floatbank8_a_level            14149 non-null  float64\n",
      " 23  primary_cleaner.state.floatbank8_b_air              14149 non-null  float64\n",
      " 24  primary_cleaner.state.floatbank8_b_level            14149 non-null  float64\n",
      " 25  primary_cleaner.state.floatbank8_c_air              14149 non-null  float64\n",
      " 26  primary_cleaner.state.floatbank8_c_level            14149 non-null  float64\n",
      " 27  primary_cleaner.state.floatbank8_d_air              14149 non-null  float64\n",
      " 28  primary_cleaner.state.floatbank8_d_level            14149 non-null  float64\n",
      " 29  rougher.calculation.sulfate_to_au_concentrate       14149 non-null  float64\n",
      " 30  rougher.calculation.floatbank10_sulfate_to_au_feed  14149 non-null  float64\n",
      " 31  rougher.calculation.floatbank11_sulfate_to_au_feed  14149 non-null  float64\n",
      " 32  rougher.calculation.au_pb_ratio                     14149 non-null  float64\n",
      " 33  rougher.input.feed_ag                               14149 non-null  float64\n",
      " 34  rougher.input.feed_pb                               14148 non-null  float64\n",
      " 35  rougher.input.feed_rate                             14149 non-null  float64\n",
      " 36  rougher.input.feed_size                             14078 non-null  float64\n",
      " 37  rougher.input.feed_sol                              14148 non-null  float64\n",
      " 38  rougher.input.feed_au                               14149 non-null  float64\n",
      " 39  rougher.input.floatbank10_sulfate                   14149 non-null  float64\n",
      " 40  rougher.input.floatbank10_xanthate                  14149 non-null  float64\n",
      " 41  rougher.input.floatbank11_sulfate                   14149 non-null  float64\n",
      " 42  rougher.input.floatbank11_xanthate                  13966 non-null  float64\n",
      " 43  rougher.output.concentrate_ag                       14149 non-null  float64\n",
      " 44  rougher.output.concentrate_pb                       14149 non-null  float64\n",
      " 45  rougher.output.concentrate_sol                      14147 non-null  float64\n",
      " 46  rougher.output.concentrate_au                       14149 non-null  float64\n",
      " 47  rougher.output.recovery                             14149 non-null  float64\n",
      " 48  rougher.output.tail_ag                              14149 non-null  float64\n",
      " 49  rougher.output.tail_pb                              14149 non-null  float64\n",
      " 50  rougher.output.tail_sol                             14149 non-null  float64\n",
      " 51  rougher.output.tail_au                              14149 non-null  float64\n",
      " 52  rougher.state.floatbank10_a_air                     14149 non-null  float64\n",
      " 53  rougher.state.floatbank10_a_level                   14149 non-null  float64\n",
      " 54  rougher.state.floatbank10_b_air                     14149 non-null  float64\n",
      " 55  rougher.state.floatbank10_b_level                   14149 non-null  float64\n",
      " 56  rougher.state.floatbank10_c_air                     14149 non-null  float64\n",
      " 57  rougher.state.floatbank10_c_level                   14149 non-null  float64\n",
      " 58  rougher.state.floatbank10_d_air                     14149 non-null  float64\n",
      " 59  rougher.state.floatbank10_d_level                   14149 non-null  float64\n",
      " 60  rougher.state.floatbank10_e_air                     13984 non-null  float64\n",
      " 61  rougher.state.floatbank10_e_level                   14149 non-null  float64\n",
      " 62  rougher.state.floatbank10_f_air                     14149 non-null  float64\n",
      " 63  rougher.state.floatbank10_f_level                   14149 non-null  float64\n",
      " 64  secondary_cleaner.output.tail_ag                    14148 non-null  float64\n",
      " 65  secondary_cleaner.output.tail_pb                    14148 non-null  float64\n",
      " 66  secondary_cleaner.output.tail_sol                   14138 non-null  float64\n",
      " 67  secondary_cleaner.output.tail_au                    14149 non-null  float64\n",
      " 68  secondary_cleaner.state.floatbank2_a_air            14149 non-null  float64\n",
      " 69  secondary_cleaner.state.floatbank2_a_level          14149 non-null  float64\n",
      " 70  secondary_cleaner.state.floatbank2_b_air            14149 non-null  float64\n",
      " 71  secondary_cleaner.state.floatbank2_b_level          14149 non-null  float64\n",
      " 72  secondary_cleaner.state.floatbank3_a_air            14149 non-null  float64\n",
      " 73  secondary_cleaner.state.floatbank3_a_level          14149 non-null  float64\n",
      " 74  secondary_cleaner.state.floatbank3_b_air            14149 non-null  float64\n",
      " 75  secondary_cleaner.state.floatbank3_b_level          14149 non-null  float64\n",
      " 76  secondary_cleaner.state.floatbank4_a_air            14149 non-null  float64\n",
      " 77  secondary_cleaner.state.floatbank4_a_level          14149 non-null  float64\n",
      " 78  secondary_cleaner.state.floatbank4_b_air            14149 non-null  float64\n",
      " 79  secondary_cleaner.state.floatbank4_b_level          14149 non-null  float64\n",
      " 80  secondary_cleaner.state.floatbank5_a_air            14149 non-null  float64\n",
      " 81  secondary_cleaner.state.floatbank5_a_level          14149 non-null  float64\n",
      " 82  secondary_cleaner.state.floatbank5_b_air            14149 non-null  float64\n",
      " 83  secondary_cleaner.state.floatbank5_b_level          14149 non-null  float64\n",
      " 84  secondary_cleaner.state.floatbank6_a_air            14149 non-null  float64\n",
      " 85  secondary_cleaner.state.floatbank6_a_level          14149 non-null  float64\n",
      "dtypes: float64(86)\n",
      "memory usage: 10.0 MB\n"
     ]
    },
    {
     "data": {
      "text/plain": [
       "None"
      ]
     },
     "metadata": {},
     "output_type": "display_data"
    },
    {
     "name": "stdout",
     "output_type": "stream",
     "text": [
      "<class 'pandas.core.frame.DataFrame'>\n",
      "DatetimeIndex: 5290 entries, 2016-09-01 00:59:59 to 2017-12-31 23:59:59\n",
      "Data columns (total 52 columns):\n",
      " #   Column                                      Non-Null Count  Dtype  \n",
      "---  ------                                      --------------  -----  \n",
      " 0   primary_cleaner.input.sulfate               5290 non-null   float64\n",
      " 1   primary_cleaner.input.depressant            5289 non-null   float64\n",
      " 2   primary_cleaner.input.feed_size             5290 non-null   float64\n",
      " 3   primary_cleaner.input.xanthate              5290 non-null   float64\n",
      " 4   primary_cleaner.state.floatbank8_a_air      5290 non-null   float64\n",
      " 5   primary_cleaner.state.floatbank8_a_level    5290 non-null   float64\n",
      " 6   primary_cleaner.state.floatbank8_b_air      5290 non-null   float64\n",
      " 7   primary_cleaner.state.floatbank8_b_level    5290 non-null   float64\n",
      " 8   primary_cleaner.state.floatbank8_c_air      5290 non-null   float64\n",
      " 9   primary_cleaner.state.floatbank8_c_level    5290 non-null   float64\n",
      " 10  primary_cleaner.state.floatbank8_d_air      5290 non-null   float64\n",
      " 11  primary_cleaner.state.floatbank8_d_level    5290 non-null   float64\n",
      " 12  rougher.input.feed_ag                       5290 non-null   float64\n",
      " 13  rougher.input.feed_pb                       5290 non-null   float64\n",
      " 14  rougher.input.feed_rate                     5290 non-null   float64\n",
      " 15  rougher.input.feed_size                     5290 non-null   float64\n",
      " 16  rougher.input.feed_sol                      5290 non-null   float64\n",
      " 17  rougher.input.feed_au                       5290 non-null   float64\n",
      " 18  rougher.input.floatbank10_sulfate           5290 non-null   float64\n",
      " 19  rougher.input.floatbank10_xanthate          5290 non-null   float64\n",
      " 20  rougher.input.floatbank11_sulfate           5290 non-null   float64\n",
      " 21  rougher.input.floatbank11_xanthate          5290 non-null   float64\n",
      " 22  rougher.state.floatbank10_a_air             5290 non-null   float64\n",
      " 23  rougher.state.floatbank10_a_level           5290 non-null   float64\n",
      " 24  rougher.state.floatbank10_b_air             5290 non-null   float64\n",
      " 25  rougher.state.floatbank10_b_level           5290 non-null   float64\n",
      " 26  rougher.state.floatbank10_c_air             5290 non-null   float64\n",
      " 27  rougher.state.floatbank10_c_level           5290 non-null   float64\n",
      " 28  rougher.state.floatbank10_d_air             5290 non-null   float64\n",
      " 29  rougher.state.floatbank10_d_level           5290 non-null   float64\n",
      " 30  rougher.state.floatbank10_e_air             5290 non-null   float64\n",
      " 31  rougher.state.floatbank10_e_level           5290 non-null   float64\n",
      " 32  rougher.state.floatbank10_f_air             5290 non-null   float64\n",
      " 33  rougher.state.floatbank10_f_level           5290 non-null   float64\n",
      " 34  secondary_cleaner.state.floatbank2_a_air    5290 non-null   float64\n",
      " 35  secondary_cleaner.state.floatbank2_a_level  5290 non-null   float64\n",
      " 36  secondary_cleaner.state.floatbank2_b_air    5290 non-null   float64\n",
      " 37  secondary_cleaner.state.floatbank2_b_level  5290 non-null   float64\n",
      " 38  secondary_cleaner.state.floatbank3_a_air    5290 non-null   float64\n",
      " 39  secondary_cleaner.state.floatbank3_a_level  5290 non-null   float64\n",
      " 40  secondary_cleaner.state.floatbank3_b_air    5290 non-null   float64\n",
      " 41  secondary_cleaner.state.floatbank3_b_level  5290 non-null   float64\n",
      " 42  secondary_cleaner.state.floatbank4_a_air    5290 non-null   float64\n",
      " 43  secondary_cleaner.state.floatbank4_a_level  5290 non-null   float64\n",
      " 44  secondary_cleaner.state.floatbank4_b_air    5290 non-null   float64\n",
      " 45  secondary_cleaner.state.floatbank4_b_level  5290 non-null   float64\n",
      " 46  secondary_cleaner.state.floatbank5_a_air    5290 non-null   float64\n",
      " 47  secondary_cleaner.state.floatbank5_a_level  5290 non-null   float64\n",
      " 48  secondary_cleaner.state.floatbank5_b_air    5290 non-null   float64\n",
      " 49  secondary_cleaner.state.floatbank5_b_level  5290 non-null   float64\n",
      " 50  secondary_cleaner.state.floatbank6_a_air    5290 non-null   float64\n",
      " 51  secondary_cleaner.state.floatbank6_a_level  5290 non-null   float64\n",
      "dtypes: float64(52)\n",
      "memory usage: 2.3 MB\n"
     ]
    },
    {
     "data": {
      "text/plain": [
       "None"
      ]
     },
     "metadata": {},
     "output_type": "display_data"
    }
   ],
   "source": [
    "display(df_train.info())\n",
    "display(df_test.info())"
   ]
  },
  {
   "cell_type": "markdown",
   "metadata": {
    "pycharm": {
     "name": "#%% md\n"
    }
   },
   "source": [
    "Как видно, от пропусков в тестовом датасете избавились, а вот в тренировочном они еще остались. Удалим строки с пропусками из тренировочного датасета."
   ]
  },
  {
   "cell_type": "code",
   "execution_count": 21,
   "metadata": {
    "pycharm": {
     "name": "#%%\n"
    }
   },
   "outputs": [
    {
     "name": "stdout",
     "output_type": "stream",
     "text": [
      "<class 'pandas.core.frame.DataFrame'>\n",
      "DatetimeIndex: 13714 entries, 2016-01-15 00:00:00 to 2018-08-18 10:59:59\n",
      "Data columns (total 86 columns):\n",
      " #   Column                                              Non-Null Count  Dtype  \n",
      "---  ------                                              --------------  -----  \n",
      " 0   final.output.concentrate_ag                         13714 non-null  float64\n",
      " 1   final.output.concentrate_pb                         13714 non-null  float64\n",
      " 2   final.output.concentrate_sol                        13714 non-null  float64\n",
      " 3   final.output.concentrate_au                         13714 non-null  float64\n",
      " 4   final.output.recovery                               13714 non-null  float64\n",
      " 5   final.output.tail_ag                                13714 non-null  float64\n",
      " 6   final.output.tail_pb                                13714 non-null  float64\n",
      " 7   final.output.tail_sol                               13714 non-null  float64\n",
      " 8   final.output.tail_au                                13714 non-null  float64\n",
      " 9   primary_cleaner.input.sulfate                       13714 non-null  float64\n",
      " 10  primary_cleaner.input.depressant                    13714 non-null  float64\n",
      " 11  primary_cleaner.input.feed_size                     13714 non-null  float64\n",
      " 12  primary_cleaner.input.xanthate                      13714 non-null  float64\n",
      " 13  primary_cleaner.output.concentrate_ag               13714 non-null  float64\n",
      " 14  primary_cleaner.output.concentrate_pb               13714 non-null  float64\n",
      " 15  primary_cleaner.output.concentrate_sol              13714 non-null  float64\n",
      " 16  primary_cleaner.output.concentrate_au               13714 non-null  float64\n",
      " 17  primary_cleaner.output.tail_ag                      13714 non-null  float64\n",
      " 18  primary_cleaner.output.tail_pb                      13714 non-null  float64\n",
      " 19  primary_cleaner.output.tail_sol                     13714 non-null  float64\n",
      " 20  primary_cleaner.output.tail_au                      13714 non-null  float64\n",
      " 21  primary_cleaner.state.floatbank8_a_air              13714 non-null  float64\n",
      " 22  primary_cleaner.state.floatbank8_a_level            13714 non-null  float64\n",
      " 23  primary_cleaner.state.floatbank8_b_air              13714 non-null  float64\n",
      " 24  primary_cleaner.state.floatbank8_b_level            13714 non-null  float64\n",
      " 25  primary_cleaner.state.floatbank8_c_air              13714 non-null  float64\n",
      " 26  primary_cleaner.state.floatbank8_c_level            13714 non-null  float64\n",
      " 27  primary_cleaner.state.floatbank8_d_air              13714 non-null  float64\n",
      " 28  primary_cleaner.state.floatbank8_d_level            13714 non-null  float64\n",
      " 29  rougher.calculation.sulfate_to_au_concentrate       13714 non-null  float64\n",
      " 30  rougher.calculation.floatbank10_sulfate_to_au_feed  13714 non-null  float64\n",
      " 31  rougher.calculation.floatbank11_sulfate_to_au_feed  13714 non-null  float64\n",
      " 32  rougher.calculation.au_pb_ratio                     13714 non-null  float64\n",
      " 33  rougher.input.feed_ag                               13714 non-null  float64\n",
      " 34  rougher.input.feed_pb                               13714 non-null  float64\n",
      " 35  rougher.input.feed_rate                             13714 non-null  float64\n",
      " 36  rougher.input.feed_size                             13714 non-null  float64\n",
      " 37  rougher.input.feed_sol                              13714 non-null  float64\n",
      " 38  rougher.input.feed_au                               13714 non-null  float64\n",
      " 39  rougher.input.floatbank10_sulfate                   13714 non-null  float64\n",
      " 40  rougher.input.floatbank10_xanthate                  13714 non-null  float64\n",
      " 41  rougher.input.floatbank11_sulfate                   13714 non-null  float64\n",
      " 42  rougher.input.floatbank11_xanthate                  13714 non-null  float64\n",
      " 43  rougher.output.concentrate_ag                       13714 non-null  float64\n",
      " 44  rougher.output.concentrate_pb                       13714 non-null  float64\n",
      " 45  rougher.output.concentrate_sol                      13714 non-null  float64\n",
      " 46  rougher.output.concentrate_au                       13714 non-null  float64\n",
      " 47  rougher.output.recovery                             13714 non-null  float64\n",
      " 48  rougher.output.tail_ag                              13714 non-null  float64\n",
      " 49  rougher.output.tail_pb                              13714 non-null  float64\n",
      " 50  rougher.output.tail_sol                             13714 non-null  float64\n",
      " 51  rougher.output.tail_au                              13714 non-null  float64\n",
      " 52  rougher.state.floatbank10_a_air                     13714 non-null  float64\n",
      " 53  rougher.state.floatbank10_a_level                   13714 non-null  float64\n",
      " 54  rougher.state.floatbank10_b_air                     13714 non-null  float64\n",
      " 55  rougher.state.floatbank10_b_level                   13714 non-null  float64\n",
      " 56  rougher.state.floatbank10_c_air                     13714 non-null  float64\n",
      " 57  rougher.state.floatbank10_c_level                   13714 non-null  float64\n",
      " 58  rougher.state.floatbank10_d_air                     13714 non-null  float64\n",
      " 59  rougher.state.floatbank10_d_level                   13714 non-null  float64\n",
      " 60  rougher.state.floatbank10_e_air                     13714 non-null  float64\n",
      " 61  rougher.state.floatbank10_e_level                   13714 non-null  float64\n",
      " 62  rougher.state.floatbank10_f_air                     13714 non-null  float64\n",
      " 63  rougher.state.floatbank10_f_level                   13714 non-null  float64\n",
      " 64  secondary_cleaner.output.tail_ag                    13714 non-null  float64\n",
      " 65  secondary_cleaner.output.tail_pb                    13714 non-null  float64\n",
      " 66  secondary_cleaner.output.tail_sol                   13714 non-null  float64\n",
      " 67  secondary_cleaner.output.tail_au                    13714 non-null  float64\n",
      " 68  secondary_cleaner.state.floatbank2_a_air            13714 non-null  float64\n",
      " 69  secondary_cleaner.state.floatbank2_a_level          13714 non-null  float64\n",
      " 70  secondary_cleaner.state.floatbank2_b_air            13714 non-null  float64\n",
      " 71  secondary_cleaner.state.floatbank2_b_level          13714 non-null  float64\n",
      " 72  secondary_cleaner.state.floatbank3_a_air            13714 non-null  float64\n",
      " 73  secondary_cleaner.state.floatbank3_a_level          13714 non-null  float64\n",
      " 74  secondary_cleaner.state.floatbank3_b_air            13714 non-null  float64\n",
      " 75  secondary_cleaner.state.floatbank3_b_level          13714 non-null  float64\n",
      " 76  secondary_cleaner.state.floatbank4_a_air            13714 non-null  float64\n",
      " 77  secondary_cleaner.state.floatbank4_a_level          13714 non-null  float64\n",
      " 78  secondary_cleaner.state.floatbank4_b_air            13714 non-null  float64\n",
      " 79  secondary_cleaner.state.floatbank4_b_level          13714 non-null  float64\n",
      " 80  secondary_cleaner.state.floatbank5_a_air            13714 non-null  float64\n",
      " 81  secondary_cleaner.state.floatbank5_a_level          13714 non-null  float64\n",
      " 82  secondary_cleaner.state.floatbank5_b_air            13714 non-null  float64\n",
      " 83  secondary_cleaner.state.floatbank5_b_level          13714 non-null  float64\n",
      " 84  secondary_cleaner.state.floatbank6_a_air            13714 non-null  float64\n",
      " 85  secondary_cleaner.state.floatbank6_a_level          13714 non-null  float64\n",
      "dtypes: float64(86)\n",
      "memory usage: 9.1 MB\n"
     ]
    }
   ],
   "source": [
    "df_train = df_train.dropna()\n",
    "df_train.info()"
   ]
  },
  {
   "cell_type": "markdown",
   "metadata": {
    "pycharm": {
     "name": "#%% md\n"
    }
   },
   "source": [
    "Было 14149 записей, стало - 13897. 152 записи удалено. На фоне 14 тыс это порядка 1%. Уменьшение незначительное."
   ]
  },
  {
   "cell_type": "markdown",
   "metadata": {
    "pycharm": {
     "name": "#%% md\n"
    }
   },
   "source": [
    "**Подытог:** в тренировочной и тестовой выборках от пропусков избавислись."
   ]
  },
  {
   "cell_type": "markdown",
   "metadata": {
    "pycharm": {
     "name": "#%% md\n"
    }
   },
   "source": [
    "### 1.4.2. Анализ данных"
   ]
  },
  {
   "cell_type": "markdown",
   "metadata": {
    "pycharm": {
     "name": "#%% md\n"
    }
   },
   "source": [
    "#### 1.4.2.1. Изменение концентрации на различных этапах очистки"
   ]
  },
  {
   "cell_type": "markdown",
   "metadata": {
    "pycharm": {
     "name": "#%% md\n"
    }
   },
   "source": [
    "#### 1.4.2.1.1. Среднее значение"
   ]
  },
  {
   "cell_type": "markdown",
   "metadata": {
    "pycharm": {
     "name": "#%% md\n"
    }
   },
   "source": [
    "Посмотрим на среднее значение концентарций на каждо этапе"
   ]
  },
  {
   "cell_type": "code",
   "execution_count": 22,
   "metadata": {
    "pycharm": {
     "name": "#%%\n"
    }
   },
   "outputs": [],
   "source": [
    "phase_en = ['rougher.output.','primary_cleaner.output.','final.output.']\n",
    "phase_ru = ['флотация', 'первичная очистка', 'финальные характеристики']\n",
    "phase_en_ru = list(zip(phase_en, phase_ru))\n",
    "concentrates = [ 'concentrate_au', 'concentrate_ag', 'concentrate_pb', 'concentrate_sol']\n",
    "titles =  ['Aurum', 'Argentum', 'Plumbum', 'Sol' ]"
   ]
  },
  {
   "cell_type": "code",
   "execution_count": 23,
   "metadata": {
    "pycharm": {
     "name": "#%%\n"
    }
   },
   "outputs": [
    {
     "data": {
      "image/png": "[encoded data removed]",
      "text/plain": [
       "<Figure size 1080x360 with 4 Axes>"
      ]
     },
     "metadata": {
      "needs_background": "light"
     },
     "output_type": "display_data"
    }
   ],
   "source": [
    "def barplot_concentration_printer(phase:list, concentrates:list,  titles:list, suptitle:str):\n",
    "    \"\"\"\n",
    "    Функция отображает горизонтальные графики типа barplot для заданного элемента на трех стадиях очистки\n",
    "    \"\"\"\n",
    "    fig, axes = plt.subplots(nrows=1, ncols=4, figsize=(15,5))\n",
    "    fig.suptitle(suptitle, fontsize = 15)\n",
    "    for concentrate, title, ax in zip(concentrates, titles, axes.ravel()):\n",
    "        df_train[[phase[0][0] + concentrate, phase_en_ru[1][0] + concentrate, phase_en_ru[2][0] + concentrate]]\\\n",
    "            .rename(columns={phase_en_ru[0][0]  + concentrate:phase_en_ru[0][1],phase_en_ru[1][0]  + concentrate:phase_en_ru[1][1],phase_en_ru[2][0]  + concentrate:phase_en_ru[2][1]}).mean().plot(kind='bar', ax=ax, title = title)\n",
    "    plt.show()\n",
    "\n",
    "barplot_concentration_printer(phase_en_ru, concentrates, titles, 'Средняя концентрация на различных этапах очистки')"
   ]
  },
  {
   "cell_type": "markdown",
   "metadata": {
    "pycharm": {
     "name": "#%% md\n"
    }
   },
   "source": [
    "Среднее значение повторяет медианное (что очевидно, поскольку распрпделения тяготеют к нормальной форме) и дополнительной информации при анализе изменений не дают."
   ]
  },
  {
   "cell_type": "markdown",
   "metadata": {
    "pycharm": {
     "name": "#%% md\n"
    }
   },
   "source": [
    "**Выводы:**\n",
    "по итогу:\n",
    "1. Концентрация золота возрастает более чем в 2 раза\n",
    "2. Концентрация серебра падает более чем в 2 раза\n",
    "3. Концентрация свинца так незначительно растет (примерно на четверть)\n",
    "4. (опциональный пункт) Концентрация (солей?) падает примерно в 3 раза."
   ]
  },
  {
   "cell_type": "markdown",
   "metadata": {
    "pycharm": {
     "name": "#%% md\n"
    }
   },
   "source": [
    "#### 1.4.2.1.2. Ящик с усами"
   ]
  },
  {
   "cell_type": "markdown",
   "metadata": {
    "pycharm": {
     "name": "#%% md\n"
    }
   },
   "source": [
    "Изучим распределения через диаграмму \"ящик сусами\". Возможно появятся подбробонсти"
   ]
  },
  {
   "cell_type": "code",
   "execution_count": 24,
   "metadata": {
    "pycharm": {
     "name": "#%%\n"
    }
   },
   "outputs": [],
   "source": [
    "def boxplot_concentration_printer(df:pd.DataFrame, phase:list, concentrate:str,  title:str):\n",
    "    \"\"\"\n",
    "    Функция отображает вертикальные графики типа boxplot для заданного элемента на трех стадиях очистки\n",
    "    \"\"\"\n",
    "    fig, axes = plt.subplots(nrows=len(phase), ncols=1, figsize=(14,5))\n",
    "    fig.suptitle(title, fontsize = 15)\n",
    "    for i , ax in zip(phase, axes.ravel()):\n",
    "        df.rename(columns={str(i[0]+concentrate):str(i[1])}).boxplot(column=[str(i[1])], vert=False, ax=ax)\n",
    "    plt.show()"
   ]
  },
  {
   "cell_type": "code",
   "execution_count": 25,
   "metadata": {
    "pycharm": {
     "name": "#%%\n"
    }
   },
   "outputs": [
    {
     "data": {
      "image/png": "[encoded data removed]",
      "text/plain": [
       "<Figure size 1008x360 with 3 Axes>"
      ]
     },
     "metadata": {
      "needs_background": "light"
     },
     "output_type": "display_data"
    }
   ],
   "source": [
    "boxplot_concentration_printer(df_train, phase_en_ru, 'concentrate_au', 'Реаспределение концентарции на различных этапах очистки. Золото')"
   ]
  },
  {
   "cell_type": "code",
   "execution_count": 26,
   "metadata": {
    "pycharm": {
     "name": "#%%\n"
    }
   },
   "outputs": [
    {
     "data": {
      "image/png": "[encoded data removed]",
      "text/plain": [
       "<Figure size 1008x360 with 3 Axes>"
      ]
     },
     "metadata": {
      "needs_background": "light"
     },
     "output_type": "display_data"
    }
   ],
   "source": [
    "boxplot_concentration_printer(df_train, phase_en_ru, 'concentrate_ag', 'Реаспределение концентарции на различных этапах очистки. Серебро')"
   ]
  },
  {
   "cell_type": "code",
   "execution_count": 27,
   "metadata": {
    "pycharm": {
     "name": "#%%\n"
    }
   },
   "outputs": [
    {
     "data": {
      "image/png": "[encoded data removed]",
      "text/plain": [
       "<Figure size 1008x360 with 3 Axes>"
      ]
     },
     "metadata": {
      "needs_background": "light"
     },
     "output_type": "display_data"
    }
   ],
   "source": [
    "boxplot_concentration_printer(df_train, phase_en_ru, 'concentrate_pb', 'Реаспределение концентарции на различных этапах очистки. Свинец')"
   ]
  },
  {
   "cell_type": "markdown",
   "metadata": {
    "pycharm": {
     "name": "#%% md\n"
    }
   },
   "source": [
    "**Выводы:**\n",
    "\n",
    "1. Концентрация золота возрастает\n",
    "2. Концентрация серебра падает\n",
    "3. Концентрация свинца так незначительно растет\n",
    "4. распрпделения носят нормальный характер без ярко-выраженных скосов с примерно симметричным количеством выбросов, как следствие медианное значение близко к ранее найденному среднему\n",
    "\n",
    "тем не менее выбросы диапазон выбросов сверху распрпделения становится все короче, а снизу - все длиннее. Выглядит как-будто концентрация достигает своего максимума."
   ]
  },
  {
   "cell_type": "markdown",
   "metadata": {},
   "source": [
    "#### 1.4.2.2. Распределение размеров гранул сырья на обучающей и тестовой выборках"
   ]
  },
  {
   "cell_type": "code",
   "execution_count": 28,
   "metadata": {
    "pycharm": {
     "name": "#%%\n"
    }
   },
   "outputs": [
    {
     "data": {
      "image/png": "[encoded data removed]",
      "text/plain": [
       "<Figure size 1440x576 with 2 Axes>"
      ]
     },
     "metadata": {
      "needs_background": "light"
     },
     "output_type": "display_data"
    }
   ],
   "source": [
    "fig, axes = plt.subplots(nrows=2, ncols=1, figsize=(20,8))\n",
    "fig.suptitle('Реаспределение размеров гранул сырья на различных этапах очистки. Золото', fontsize = 15)\n",
    "\n",
    "df_test.rename(columns={'rougher.input.feed_size':'размер гранул сырья'}).boxplot(column=['размер гранул сырья'], vert=False, ax=axes[0])\n",
    "df_train.rename(columns={'rougher.input.feed_size':'размер гранул сырья'}).boxplot(column=['размер гранул сырья'], vert=False, ax=axes[1])\n",
    "axes[0].set_xlim(0, 500)\n",
    "axes[1].set_xlim(0, 500)\n",
    "axes[0].title.set_text('Тестовая выборка')\n",
    "axes[1].title.set_text('Тренировочная выборка')"
   ]
  },
  {
   "cell_type": "markdown",
   "metadata": {
    "pycharm": {
     "name": "#%% md\n"
    }
   },
   "source": [
    "Или, тоже самое, но в виде гистограммы"
   ]
  },
  {
   "cell_type": "code",
   "execution_count": 29,
   "metadata": {
    "pycharm": {
     "name": "#%%\n"
    }
   },
   "outputs": [
    {
     "data": {
      "image/png": "[encoded data removed]",
      "text/plain": [
       "<Figure size 1440x432 with 2 Axes>"
      ]
     },
     "metadata": {
      "needs_background": "light"
     },
     "output_type": "display_data"
    }
   ],
   "source": [
    "fig, axes = plt.subplots(nrows=1, ncols=2, figsize=(20,6))\n",
    "fig.suptitle('Реаспределение концентарции на различных этапах очистки. Золото', fontsize = 15)\n",
    "\n",
    "df_test['rougher.input.feed_size'].rename('размер гранул сырья').plot(kind = 'hist', ax=axes[0], bins = 100, grid=True)\n",
    "df_train['rougher.input.feed_size'].rename('размер гранул сырья').plot(kind = 'hist', ax=axes[1], bins = 100, grid=True)\n",
    "axes[0].set_xlim(0, 500)\n",
    "axes[1].set_xlim(0, 500)\n",
    "axes[0].title.set_text('Тестовая выборка')\n",
    "axes[1].title.set_text('Тренировочная выборка')"
   ]
  },
  {
   "cell_type": "markdown",
   "metadata": {
    "pycharm": {
     "name": "#%% md\n"
    }
   },
   "source": [
    "На гистограмме так же заметно что:\n",
    "1. Тестовая выборка имеет более явное смещение вправо, в то время как тренировочная выглядит более нормально\n",
    "2. Медианное значение так же на гистограме больше на тренировочной выборке чем на тестовой"
   ]
  },
  {
   "cell_type": "code",
   "execution_count": 30,
   "metadata": {
    "pycharm": {
     "name": "#%%\n"
    }
   },
   "outputs": [
    {
     "name": "stdout",
     "output_type": "stream",
     "text": [
      "Средний размер гранул сырья на тренировочной выборке = 59.66896895895133\n",
      "Средний размер гранул сырья на тестовой выборке = 55.95275402889511\n",
      "Относительная разница в размере сосатвляет 6.23 %\n"
     ]
    }
   ],
   "source": [
    "print('Средний размер гранул сырья на тренировочной выборке =', df_train['rougher.input.feed_size'].mean())\n",
    "print('Средний размер гранул сырья на тестовой выборке =', df_test['rougher.input.feed_size'].mean())\n",
    "print('Относительная разница в размере сосатвляет', round((df_train['rougher.input.feed_size'].mean()-df_test['rougher.input.feed_size'].mean())/df_train['rougher.input.feed_size'].mean()*100, 2), '%')"
   ]
  },
  {
   "cell_type": "markdown",
   "metadata": {
    "pycharm": {
     "name": "#%% md\n"
    }
   },
   "source": [
    "Примем это как есть, ничего делать с этим не будем.."
   ]
  },
  {
   "cell_type": "markdown",
   "metadata": {
    "pycharm": {
     "name": "#%% md\n"
    }
   },
   "source": [
    "#### 1.4.2.3. Суммарная концентрация всех веществ на разных стадиях: (сырье, черновой и финальный концентраты)"
   ]
  },
  {
   "cell_type": "code",
   "execution_count": 31,
   "metadata": {
    "pycharm": {
     "name": "#%%\n"
    }
   },
   "outputs": [],
   "source": [
    "def concentrate_printer_4elem(df, descs, concs, phases):\n",
    "    for desc, phase in zip(descs, phases) :\n",
    "        print(desc, round(df[[phase + concs[0], phase + concs[1], phase + concs[2], phase + concs[3]]].sum().sum(), 2))\n",
    "\n",
    "def concentrate_printer_3elem(df, descs, concs, phases):\n",
    "    for desc, phase in zip(descs, phases) :\n",
    "        print(desc, round(df[[phase + concs[0], phase + concs[1], phase + concs[2]]].sum().sum(), 2))"
   ]
  },
  {
   "cell_type": "code",
   "execution_count": 32,
   "metadata": {
    "pycharm": {
     "name": "#%%\n"
    }
   },
   "outputs": [],
   "source": [
    "descriptions = ['суммарная концентрация веществ на стадии флотации =', 'суммарная концентрация веществ на стадии первичной очистки =', 'суммарная концентрация веществ финального продукта =']\n",
    "concentrates_4elem = [ 'concentrate_au', 'concentrate_ag', 'concentrate_pb', 'concentrate_sol']\n",
    "concentrates_3elem = [ 'concentrate_au', 'concentrate_ag', 'concentrate_pb']"
   ]
  },
  {
   "cell_type": "markdown",
   "metadata": {
    "pycharm": {
     "name": "#%% md\n"
    }
   },
   "source": [
    "##### 1.4.2.3.1 С выбросами"
   ]
  },
  {
   "cell_type": "code",
   "execution_count": 33,
   "metadata": {
    "pycharm": {
     "name": "#%%\n"
    }
   },
   "outputs": [
    {
     "name": "stdout",
     "output_type": "stream",
     "text": [
      "c учетом солей\n",
      "суммарная концентрация веществ на стадии флотации = 922311.91\n",
      "суммарная концентрация веществ на стадии первичной очистки = 824672.12\n",
      "суммарная концентрация веществ финального продукта = 939032.37\n",
      "\n",
      "без учета солей\n",
      "суммарная концентрация веществ на стадии флотации = 533863.82\n",
      "суммарная концентрация веществ на стадии первичной очистки = 687845.91\n",
      "суммарная концентрация веществ финального продукта = 813784.95\n"
     ]
    }
   ],
   "source": [
    "print('c учетом солей')\n",
    "concentrate_printer_4elem(df_train, descriptions, concentrates_4elem, phase_en)\n",
    "print()\n",
    "print('без учета солей')\n",
    "concentrate_printer_3elem(df_train, descriptions, concentrates_3elem, phase_en)"
   ]
  },
  {
   "cell_type": "markdown",
   "metadata": {
    "pycharm": {
     "name": "#%% md\n"
    }
   },
   "source": [
    "##### 1.4.2.3.1 Без выбросов"
   ]
  },
  {
   "cell_type": "code",
   "execution_count": 34,
   "metadata": {
    "pycharm": {
     "name": "#%%\n"
    }
   },
   "outputs": [],
   "source": [
    "def outliers_cutter(df, phases, concs, koef=1.5):\n",
    "    \"\"\"\n",
    "    Данная функция для каждого значения концентрации на каждой из стадий делает срез по диапазону Q1-1.5*IQR - Q3+1.5*IQR\n",
    "    \"\"\"\n",
    "    df = df.copy()\n",
    "    for phase in phases:\n",
    "        for conc in concs:\n",
    "\n",
    "            Q1 = df[phase + conc].quantile(0.25)\n",
    "            Q3 = df[phase + conc].quantile(0.75)\n",
    "            IQR = Q3 - Q1\n",
    "            df = df[(df[phase + conc] > Q1-koef*IQR ) & (df[phase + conc] < Q3+koef*IQR)]\n",
    "\n",
    "    return df"
   ]
  },
  {
   "cell_type": "code",
   "execution_count": 35,
   "metadata": {
    "pycharm": {
     "name": "#%%\n"
    }
   },
   "outputs": [],
   "source": [
    "df_train_cuted = outliers_cutter(df_train, phase_en, concentrates)"
   ]
  },
  {
   "cell_type": "code",
   "execution_count": 36,
   "metadata": {
    "pycharm": {
     "name": "#%%\n"
    }
   },
   "outputs": [
    {
     "name": "stdout",
     "output_type": "stream",
     "text": [
      "суммарная концентрация веществ на стадии флотации = 691200.81\n",
      "суммарная концентрация веществ на стадии первичной очистки = 614247.23\n",
      "суммарная концентрация веществ финального продукта = 689620.0\n",
      "\n",
      "суммарная концентрация веществ на стадии флотации = 397851.25\n",
      "суммарная концентрация веществ на стадии первичной очистки = 514000.26\n",
      "суммарная концентрация веществ финального продукта = 598564.08\n"
     ]
    }
   ],
   "source": [
    "concentrate_printer_4elem(df_train_cuted, descriptions, concentrates_4elem, phase_en)\n",
    "print()\n",
    "concentrate_printer_3elem(df_train_cuted, descriptions, concentrates_3elem, phase_en)"
   ]
  },
  {
   "cell_type": "markdown",
   "metadata": {
    "pycharm": {
     "name": "#%% md\n"
    }
   },
   "source": [
    "Разница прям, существенная! Оценим изменения на графиках"
   ]
  },
  {
   "cell_type": "markdown",
   "metadata": {
    "pycharm": {
     "name": "#%% md\n"
    }
   },
   "source": [
    "Оценим распрпделение без выбросов на примере концентрации Золота. (Было)"
   ]
  },
  {
   "cell_type": "code",
   "execution_count": 37,
   "metadata": {
    "pycharm": {
     "name": "#%%\n"
    }
   },
   "outputs": [
    {
     "data": {
      "image/png": "[encoded data removed]",
      "text/plain": [
       "<Figure size 1008x360 with 3 Axes>"
      ]
     },
     "metadata": {
      "needs_background": "light"
     },
     "output_type": "display_data"
    }
   ],
   "source": [
    "boxplot_concentration_printer(df_train, phase_en_ru, 'concentrate_au', 'Реаспределение концентарции на различных этапах очистки. Золото')"
   ]
  },
  {
   "cell_type": "markdown",
   "metadata": {
    "pycharm": {
     "name": "#%% md\n"
    }
   },
   "source": [
    "Стало"
   ]
  },
  {
   "cell_type": "code",
   "execution_count": 38,
   "metadata": {
    "pycharm": {
     "name": "#%%\n"
    }
   },
   "outputs": [
    {
     "data": {
      "image/png": "[encoded data removed]",
      "text/plain": [
       "<Figure size 1008x360 with 3 Axes>"
      ]
     },
     "metadata": {
      "needs_background": "light"
     },
     "output_type": "display_data"
    }
   ],
   "source": [
    "boxplot_concentration_printer(df_train_cuted, phase_en_ru, 'concentrate_au', 'Реаспределение концентарции на различных этапах очистки. Золото')"
   ]
  },
  {
   "cell_type": "markdown",
   "metadata": {
    "pycharm": {
     "name": "#%% md\n"
    }
   },
   "source": [
    "Длинные хвосты выбросов стали заметно короче. Стрижка прошла удачно =)"
   ]
  },
  {
   "cell_type": "markdown",
   "metadata": {
    "pycharm": {
     "name": "#%% md\n"
    }
   },
   "source": [
    "**Выводы:**\n",
    "1. Не учитывая соли (?) видно, что суммарная концентрация металлов выросла примерно на 60%\n",
    "2. Учитывая соли (?) видно, что суммарная концентрация на этапе первичной очистки проседает, затем приходит в прежнее состояние. (вероятно за счет повышения концентрации металлов)\n",
    "3. По рассчитанным значениям средней концентрациям на разлиных стадиях видно что концентрация Золота вырастает примерно в два раза\n",
    "4. Очистка выборки от выбросов существенно изменяет значения концентрации в т.ч.и суммарные"
   ]
  },
  {
   "cell_type": "markdown",
   "metadata": {
    "pycharm": {
     "name": "#%% md\n"
    }
   },
   "source": [
    "~\"штош\",  видимо имеет смысл очистить тренировочную выборку от выбросов и обучать модель уже без них~"
   ]
  },
  {
   "cell_type": "code",
   "execution_count": 39,
   "metadata": {
    "pycharm": {
     "name": "#%%\n"
    }
   },
   "outputs": [],
   "source": [
    "# сохраним изначальную версию тренировочной выборки в df_train_init\n",
    "df_train_init = df_train.copy()\n",
    "# и отфильтруем записи с выбросоми\n",
    "df_train = outliers_cutter(df_train, phase_en, concentrates, koef=1.5)"
   ]
  },
  {
   "cell_type": "code",
   "execution_count": 40,
   "metadata": {},
   "outputs": [
    {
     "name": "stdout",
     "output_type": "stream",
     "text": [
      "пересечение между множеством столбцов тестовой выборки и параметров на \"стрижку выбросов\" составляет: set()\n",
      "т.е. пересекающихся значений\n",
      "(просто иллюстрация для проверки) а вот для множеств 1,2,3 и 3,4,5 общим является: {3}\n"
     ]
    }
   ],
   "source": [
    "params_to_cut = []\n",
    "for p in phase_en:\n",
    "    for c in concentrates:\n",
    "        params_to_cut.append(p+c)\n",
    "print('пересечение между множеством столбцов тестовой выборки и параметров на \"стрижку выбросов\" составляет:', set(params_to_cut) & set(df_test.columns))\n",
    "print('т.е. пересекающихся значений' )\n",
    "print('(просто иллюстрация для проверки) а вот для множеств 1,2,3 и 3,4,5 общим является:', set([1,2,3]) & set([3,4,5]))"
   ]
  },
  {
   "cell_type": "markdown",
   "metadata": {
    "pycharm": {
     "name": "#%% md\n"
    }
   },
   "source": [
    "### 1.4.3. Приведение к единому виду (удаление из тренировочной выборки столбцов, отсутствующих в тестовой выборке)"
   ]
  },
  {
   "cell_type": "markdown",
   "metadata": {},
   "source": [
    "В соответствии с описанием задания и п.1.3. тестовая выборка не содержит ряд параметров, в т.ч. целевых признаков. Так же сказано, что \"Некоторые параметры недоступны, потому что замеряются и/или рассчитываются значительно позже.\". К сожалению, в задании не сказано какой набор данных будет поступать в \"боевых\" условиях. Поэтому считаем, что они будут соответствовать параметрам из тестового датасета. В связи с чем обогащать его параметрами из полного набора не будем, т.к. он получен, видимо, позже. Для того чтобы модель можно было обучить необходимо привести в соответствие набр параметров в тестовой и тренировочной выборках. В связи с чем удалим из тренировочной выборки параметры, отсутствующие в тестовой."
   ]
  },
  {
   "cell_type": "code",
   "execution_count": 41,
   "metadata": {
    "pycharm": {
     "name": "#%%\n"
    }
   },
   "outputs": [],
   "source": [
    "# для обеспечения валидации модели добавим в тестовую выборку целевые параметры из полной выборки\n",
    "df_test['rougher.output.recovery'] = df_full.loc[df_test.index,'rougher.output.recovery']\n",
    "df_test['final.output.recovery'] = df_full.loc[df_test.index,'final.output.recovery']\n",
    "\n",
    "# подготовим список параметров для обоих выборок\n",
    "train_params = df_train.columns\n",
    "test_params = df_test.columns\n",
    "# получим параметры, отсутствующие в тестовой\n",
    "params_to_drop_from_test = sorted(list(set(train_params) - set(test_params) ))"
   ]
  },
  {
   "cell_type": "markdown",
   "metadata": {
    "pycharm": {
     "name": "#%% md\n"
    }
   },
   "source": [
    "Воспользуемся ранее подготовленным списком разности столбцов между тренировочной и тестовой выборкой - diff_train_test_params"
   ]
  },
  {
   "cell_type": "code",
   "execution_count": 42,
   "metadata": {
    "pycharm": {
     "name": "#%%\n"
    }
   },
   "outputs": [],
   "source": [
    "df_train = df_train.drop(columns=params_to_drop_from_test)\n",
    "df_train_init = df_train_init.drop(columns=params_to_drop_from_test)"
   ]
  },
  {
   "cell_type": "markdown",
   "metadata": {
    "pycharm": {
     "name": "#%% md\n"
    }
   },
   "source": [
    "Проверим соответствие множеств столбцов в тестовой и тренировочной выборках"
   ]
  },
  {
   "cell_type": "code",
   "execution_count": 43,
   "metadata": {
    "pycharm": {
     "name": "#%%\n"
    }
   },
   "outputs": [
    {
     "name": "stdout",
     "output_type": "stream",
     "text": [
      "столбцы в тренировочной и тестовой выборках соответствую друг другу =  True\n",
      "столбцы в изначальной тренировочной и тестовой выборках соответствую друг другу =  True\n"
     ]
    }
   ],
   "source": [
    "print('столбцы в тренировочной и тестовой выборках соответствую друг другу = ', set(df_train.columns) == set(df_test.columns))\n",
    "print('столбцы в изначальной тренировочной и тестовой выборках соответствую друг другу = ', set(df_train_init.columns) == set(df_test.columns))"
   ]
  },
  {
   "cell_type": "markdown",
   "metadata": {
    "pycharm": {
     "name": "#%% md\n"
    }
   },
   "source": [
    "# 2. Машинное обучение"
   ]
  },
  {
   "cell_type": "code",
   "execution_count": 44,
   "metadata": {
    "pycharm": {
     "name": "#%%\n"
    }
   },
   "outputs": [],
   "source": [
    "def smape(true:pd.Series, predict:np.array):\n",
    "    \"\"\"\n",
    "    Данная функция считает метрику sMAPE на основании двух вектоов\n",
    "\n",
    "    \"\"\"\n",
    "\n",
    "    true = true.reset_index(drop=True).rename('true') #\n",
    "    predicted = pd.Series(predict, name='predicted')\n",
    "    df = pd.concat([true, predicted], axis = 1)\n",
    "    df['diff'] = df['true'] - df['predicted']\n",
    "    df['sum'] = df['true'].abs() + df['predicted'].abs()\n",
    "    result = round(np.mean(df['diff'].abs() / (df['sum']/2))*100, 2)\n",
    "    return result\n",
    "\n",
    "def overal_smape(smape_rougher, smape_final):\n",
    "    \"\"\"\n",
    "    Данная функция рассчитывает итоговое значение sMAPE\n",
    "    \"\"\"\n",
    "    return smape_rougher*0.25 + smape_final*0.75"
   ]
  },
  {
   "cell_type": "markdown",
   "metadata": {
    "pycharm": {
     "name": "#%% md\n"
    }
   },
   "source": [
    "## 2.2. Подготовка параметров для прогнозирования rougher.output.recovery"
   ]
  },
  {
   "cell_type": "markdown",
   "metadata": {
    "pycharm": {
     "name": "#%% md\n"
    }
   },
   "source": [
    "Предположительно, эффективность обогащения чернового концентрата (rougher.output.recovery) имеет смысл прогнозировать на этапе флотации, т.к. на последующих этапах мы уже ее по идее знаем. Исходя из этого составим список параметров для обучения модели и целевой парметр."
   ]
  },
  {
   "cell_type": "code",
   "execution_count": 45,
   "metadata": {
    "pycharm": {
     "name": "#%%\n"
    }
   },
   "outputs": [],
   "source": [
    "rougher_params_list = ['rougher.state.floatbank10_a_air', 'rougher.state.floatbank10_b_air', 'rougher.state.floatbank10_c_air', 'rougher.state.floatbank10_d_air', 'rougher.state.floatbank10_e_air', 'rougher.state.floatbank10_f_air', 'rougher.state.floatbank10_a_level', 'rougher.state.floatbank10_b_level', 'rougher.state.floatbank10_c_level', 'rougher.state.floatbank10_d_level', 'rougher.state.floatbank10_e_level', 'rougher.state.floatbank10_f_level']\n",
    "\n",
    "rougher_target = 'rougher.output.recovery'"
   ]
  },
  {
   "cell_type": "code",
   "execution_count": 46,
   "metadata": {},
   "outputs": [
    {
     "name": "stdout",
     "output_type": "stream",
     "text": [
      "(12342, 12)\n",
      "(1372, 12)\n",
      "(12342,)\n",
      "(1372,)\n"
     ]
    }
   ],
   "source": [
    "# разобъем изначальную тренировочную выборку для прогнозирования черногвого концентрата\n",
    "X_rougher_train_init, X_rougher_valid_init, y_rougher_train_init, y_rougher_valid_init = train_test_split(df_train_init[rougher_params_list], df_train_init[rougher_target], test_size=0.1 )\n",
    "print(X_rougher_train_init.shape)\n",
    "print(X_rougher_valid_init.shape)\n",
    "print(y_rougher_train_init.shape)\n",
    "print(y_rougher_valid_init.shape)"
   ]
  },
  {
   "cell_type": "code",
   "execution_count": 47,
   "metadata": {
    "pycharm": {
     "name": "#%%\n"
    }
   },
   "outputs": [
    {
     "name": "stdout",
     "output_type": "stream",
     "text": [
      "(8938, 12)\n",
      "(994, 12)\n",
      "(8938,)\n",
      "(994,)\n"
     ]
    }
   ],
   "source": [
    "# разобъем отфильтрованную тренировочную выборку для прогнозирования черногвого концентрата\n",
    "X_rougher_train, X_rougher_valid, y_rougher_train, y_rougher_valid = train_test_split(df_train[rougher_params_list], df_train[rougher_target], test_size=0.1 )\n",
    "print(X_rougher_train.shape)\n",
    "print(X_rougher_valid.shape)\n",
    "print(y_rougher_train.shape)\n",
    "print(y_rougher_valid.shape)"
   ]
  },
  {
   "cell_type": "markdown",
   "metadata": {
    "pycharm": {
     "name": "#%% md\n"
    }
   },
   "source": [
    "## 2.3. Подготовка параметров для прогнозирования final.output.recovery"
   ]
  },
  {
   "cell_type": "markdown",
   "metadata": {
    "pycharm": {
     "name": "#%% md\n"
    }
   },
   "source": [
    "Предположительно на выходные параметры должны влиять состояние на последней стадии очистки, но есть вероятность что влияют все параметры. Чтобы решить дилемму создадим два варианта списка параметров"
   ]
  },
  {
   "cell_type": "code",
   "execution_count": 48,
   "metadata": {
    "pycharm": {
     "name": "#%%\n"
    }
   },
   "outputs": [],
   "source": [
    "#final_params_list_1 = ['secondary_cleaner.state.floatbank2_a_air', 'secondary_cleaner.state.floatbank2_a_level', 'secondary_cleaner.state.floatbank2_b_air', 'secondary_cleaner.state.floatbank2_b_level', 'secondary_cleaner.state.floatbank3_a_air', 'secondary_cleaner.state.floatbank3_a_level', 'secondary_cleaner.state.floatbank3_b_air', 'secondary_cleaner.state.floatbank3_b_level', 'secondary_cleaner.state.floatbank4_a_air', 'secondary_cleaner.state.floatbank4_a_level', 'secondary_cleaner.state.floatbank4_b_air', 'secondary_cleaner.state.floatbank4_b_level', 'secondary_cleaner.state.floatbank5_a_air', 'secondary_cleaner.state.floatbank5_a_level', 'secondary_cleaner.state.floatbank5_b_air', 'secondary_cleaner.state.floatbank5_b_level', 'secondary_cleaner.state.floatbank6_a_air', 'secondary_cleaner.state.floatbank6_a_level']\n",
    "\n",
    "final_params_list_2 = df_train.drop(columns=['final.output.recovery', 'rougher.output.recovery'], axis=1).columns\n",
    "\n",
    "final_target = 'final.output.recovery'"
   ]
  },
  {
   "cell_type": "code",
   "execution_count": 49,
   "metadata": {},
   "outputs": [
    {
     "name": "stdout",
     "output_type": "stream",
     "text": [
      "(12342, 52)\n",
      "(1372, 52)\n",
      "(12342,)\n",
      "(1372,)\n"
     ]
    }
   ],
   "source": [
    "# разобъем изначальную тренировочную выборку для прогнозирования финального концентрата\n",
    "X_final_train_init, X_final_valid_init, y_final_train_init, y_final_valid_init = train_test_split(df_train_init[final_params_list_2], df_train_init[final_target], test_size=0.1 )\n",
    "print(X_final_train_init.shape)\n",
    "print(X_final_valid_init.shape)\n",
    "print(y_final_train_init.shape)\n",
    "print(y_final_valid_init.shape)"
   ]
  },
  {
   "cell_type": "code",
   "execution_count": 50,
   "metadata": {
    "pycharm": {
     "name": "#%%\n"
    }
   },
   "outputs": [
    {
     "name": "stdout",
     "output_type": "stream",
     "text": [
      "(8938, 52)\n",
      "(994, 52)\n",
      "(8938,)\n",
      "(994,)\n"
     ]
    }
   ],
   "source": [
    "# разобъем отфильтрованную тренировочную выборку финального концентрата\n",
    "X_final_train, X_final_valid, y_final_train, y_final_valid = train_test_split(df_train[final_params_list_2], df_train[final_target] , test_size = 0.1)\n",
    "print(X_final_train.shape)\n",
    "print(X_final_valid.shape)\n",
    "print(y_final_train.shape)\n",
    "print(y_final_valid.shape)"
   ]
  },
  {
   "cell_type": "markdown",
   "metadata": {
    "pycharm": {
     "name": "#%% md\n"
    }
   },
   "source": [
    "## 2.3. Зададим baseline"
   ]
  },
  {
   "cell_type": "markdown",
   "metadata": {
    "pycharm": {
     "name": "#%% md\n"
    }
   },
   "source": [
    "### 2.3.1 Прогноз эффективности обогащения чернового концентрата (rougher.output.recovery)"
   ]
  },
  {
   "cell_type": "code",
   "execution_count": 51,
   "metadata": {
    "pycharm": {
     "name": "#%%\n"
    }
   },
   "outputs": [],
   "source": [
    "model = DummyRegressor()\n",
    "\n",
    "model.fit(X_rougher_train_init, y_rougher_train_init)\n",
    "rougher_prediction_valid_baseline = model.predict(X_rougher_valid_init)\n",
    "rougher_prediction_test_baseline = model.predict(df_test[rougher_params_list])"
   ]
  },
  {
   "cell_type": "code",
   "execution_count": 52,
   "metadata": {
    "pycharm": {
     "name": "#%%\n"
    }
   },
   "outputs": [
    {
     "name": "stdout",
     "output_type": "stream",
     "text": [
      "sMAPE_rougher на валидационной выборке =  12.17\n",
      "sMAPE_rougher на тестовой выборке =  10.35\n"
     ]
    }
   ],
   "source": [
    "smape_rougher_baseline_valid = smape(y_rougher_valid_init, rougher_prediction_valid_baseline)\n",
    "print('sMAPE_rougher на валидационной выборке = ',smape_rougher_baseline_valid )\n",
    "\n",
    "smape_rougher_baseline_test = smape(df_test[rougher_target], rougher_prediction_test_baseline)\n",
    "print('sMAPE_rougher на тестовой выборке = ',smape_rougher_baseline_test )"
   ]
  },
  {
   "cell_type": "markdown",
   "metadata": {
    "pycharm": {
     "name": "#%% md\n"
    }
   },
   "source": [
    "### 2.3.2 Прогноз эффективности обогащения финального концентрата (final.output.recovery)"
   ]
  },
  {
   "cell_type": "code",
   "execution_count": 53,
   "metadata": {
    "pycharm": {
     "name": "#%%\n"
    }
   },
   "outputs": [
    {
     "name": "stdout",
     "output_type": "stream",
     "text": [
      "sMAPE_final на валидационной выборке =  10.93\n",
      "sMAPE_final на тестовой выборке =  10.26\n"
     ]
    }
   ],
   "source": [
    "model.fit(X_final_train_init, y_final_train_init)\n",
    "final_prediction_valid_baseline = model.predict(X_final_valid_init)\n",
    "final_prediction_test_baseline = model.predict(df_test[final_params_list_2])\n",
    "\n",
    "smape_final_baseline_valid = smape(y_final_valid_init, final_prediction_valid_baseline)\n",
    "print('sMAPE_final на валидационной выборке = ', smape_final_baseline_valid)\n",
    "\n",
    "smape_final_baseline_test = smape(df_test[final_target], final_prediction_test_baseline)\n",
    "print('sMAPE_final на тестовой выборке = ', smape_final_baseline_test)"
   ]
  },
  {
   "cell_type": "markdown",
   "metadata": {
    "pycharm": {
     "name": "#%% md\n"
    }
   },
   "source": [
    "### 2.3.3 Расчет итоговой метрики"
   ]
  },
  {
   "cell_type": "code",
   "execution_count": 54,
   "metadata": {
    "pycharm": {
     "name": "#%%\n"
    }
   },
   "outputs": [
    {
     "name": "stdout",
     "output_type": "stream",
     "text": [
      "итоговое sMAPE на валидационной выборке =  11.24\n",
      "итоговое sMAPE на тестовой выборке =  10.2825\n"
     ]
    }
   ],
   "source": [
    "print('итоговое sMAPE на валидационной выборке = ',  overal_smape(smape_rougher_baseline_valid, smape_final_baseline_valid))\n",
    "print('итоговое sMAPE на тестовой выборке = ',  overal_smape(smape_rougher_baseline_test, smape_final_baseline_test))"
   ]
  },
  {
   "cell_type": "markdown",
   "metadata": {},
   "source": [
    "Итого, полуичили baseline для валидационной и тестовой выборок для \"дамми\"-модели на тренировочных данных без фильтрации от выбросов "
   ]
  },
  {
   "cell_type": "markdown",
   "metadata": {
    "pycharm": {
     "name": "#%% md\n"
    }
   },
   "source": [
    "Baseline получен. Есть к чему стремиться. Посмотрим что дадут другие модели"
   ]
  },
  {
   "cell_type": "markdown",
   "metadata": {
    "pycharm": {
     "name": "#%% md\n"
    }
   },
   "source": [
    "## 2.4. Случайный лес"
   ]
  },
  {
   "cell_type": "code",
   "execution_count": 55,
   "metadata": {
    "pycharm": {
     "name": "#%%\n"
    }
   },
   "outputs": [],
   "source": [
    "# определим естиматор\n",
    "random_forest_model = RandomForestRegressor(random_state=42, n_jobs=-1)"
   ]
  },
  {
   "cell_type": "code",
   "execution_count": 56,
   "metadata": {
    "pycharm": {
     "name": "#%%\n"
    }
   },
   "outputs": [],
   "source": [
    "custom_scorer = make_scorer(smape, greater_is_better=False)\n",
    "\n",
    "# зададим распрпделение параметров для optuna\n",
    "param_distributions_randomforest_optuna = {\n",
    "    'n_estimators': optuna.distributions.IntUniformDistribution(10,1000,10),\n",
    "    'max_depth': optuna.distributions.IntUniformDistribution(2,40,1),\n",
    "    'min_samples_split': optuna.distributions.IntUniformDistribution(20,60,5),\n",
    "    'min_samples_leaf': optuna.distributions.IntUniformDistribution(1, 201, 10),\n",
    "    'max_features': optuna.distributions.CategoricalDistribution(['sqrt','log2']),\n",
    "    'bootstrap' : optuna.distributions.CategoricalDistribution([True, False])}"
   ]
  },
  {
   "cell_type": "markdown",
   "metadata": {
    "pycharm": {
     "name": "#%% md\n"
    }
   },
   "source": [
    "### 2.3.1 Прогноз эффективности обогащения чернового концентрата (rougher.output.recovery)"
   ]
  },
  {
   "cell_type": "code",
   "execution_count": 57,
   "metadata": {
    "pycharm": {
     "name": "#%%\n"
    }
   },
   "outputs": [
    {
     "name": "stderr",
     "output_type": "stream",
     "text": [
      "C:\\ProgramData\\Anaconda3\\lib\\site-packages\\ipykernel_launcher.py:7: ExperimentalWarning: OptunaSearchCV is experimental (supported from v0.17.0). The interface can change in the future.\n",
      "  import sys\n"
     ]
    }
   ],
   "source": [
    "opt_search_rougher = optuna.integration.OptunaSearchCV(estimator=random_forest_model, \n",
    "                                                       param_distributions=param_distributions_randomforest_optuna, \n",
    "                                                       cv=15 , \n",
    "                                                       n_trials=100, \n",
    "                                                       scoring=custom_scorer, \n",
    "                                                       timeout=600, \n",
    "                                                       random_state=42)"
   ]
  },
  {
   "cell_type": "code",
   "execution_count": 58,
   "metadata": {
    "pycharm": {
     "name": "#%%\n"
    }
   },
   "outputs": [
    {
     "name": "stderr",
     "output_type": "stream",
     "text": [
      "\u001b[32m[I 2022-06-13 10:28:10,310]\u001b[0m A new study created in memory with name: no-name-1e6d4a1d-8295-482b-83c1-b5147e832743\u001b[0m\n",
      "\u001b[32m[I 2022-06-13 10:28:56,432]\u001b[0m Trial 0 finished with value: -4.178 and parameters: {'n_estimators': 460, 'max_depth': 34, 'min_samples_split': 20, 'min_samples_leaf': 61, 'max_features': 'sqrt', 'bootstrap': True}. Best is trial 0 with value: -4.178.\u001b[0m\n",
      "\u001b[32m[I 2022-06-13 10:29:15,623]\u001b[0m Trial 1 finished with value: -4.450666666666666 and parameters: {'n_estimators': 180, 'max_depth': 14, 'min_samples_split': 35, 'min_samples_leaf': 201, 'max_features': 'sqrt', 'bootstrap': False}. Best is trial 0 with value: -4.178.\u001b[0m\n",
      "\u001b[32m[I 2022-06-13 10:30:10,191]\u001b[0m Trial 2 finished with value: -4.617333333333335 and parameters: {'n_estimators': 860, 'max_depth': 39, 'min_samples_split': 40, 'min_samples_leaf': 191, 'max_features': 'log2', 'bootstrap': True}. Best is trial 0 with value: -4.178.\u001b[0m\n",
      "\u001b[32m[I 2022-06-13 10:31:05,701]\u001b[0m Trial 3 finished with value: -4.172000000000001 and parameters: {'n_estimators': 460, 'max_depth': 33, 'min_samples_split': 55, 'min_samples_leaf': 101, 'max_features': 'log2', 'bootstrap': False}. Best is trial 3 with value: -4.172000000000001.\u001b[0m\n",
      "\u001b[32m[I 2022-06-13 10:31:37,455]\u001b[0m Trial 4 finished with value: -3.7373333333333334 and parameters: {'n_estimators': 220, 'max_depth': 16, 'min_samples_split': 50, 'min_samples_leaf': 1, 'max_features': 'log2', 'bootstrap': True}. Best is trial 4 with value: -3.7373333333333334.\u001b[0m\n",
      "\u001b[32m[I 2022-06-13 10:31:59,165]\u001b[0m Trial 5 finished with value: -4.626666666666667 and parameters: {'n_estimators': 260, 'max_depth': 26, 'min_samples_split': 60, 'min_samples_leaf': 191, 'max_features': 'log2', 'bootstrap': True}. Best is trial 4 with value: -3.7373333333333334.\u001b[0m\n",
      "\u001b[32m[I 2022-06-13 10:33:12,117]\u001b[0m Trial 6 finished with value: -4.323333333333333 and parameters: {'n_estimators': 840, 'max_depth': 36, 'min_samples_split': 55, 'min_samples_leaf': 91, 'max_features': 'sqrt', 'bootstrap': True}. Best is trial 4 with value: -3.7373333333333334.\u001b[0m\n",
      "\u001b[32m[I 2022-06-13 10:33:24,643]\u001b[0m Trial 7 finished with value: -4.456 and parameters: {'n_estimators': 110, 'max_depth': 20, 'min_samples_split': 25, 'min_samples_leaf': 201, 'max_features': 'sqrt', 'bootstrap': False}. Best is trial 4 with value: -3.7373333333333334.\u001b[0m\n",
      "\u001b[32m[I 2022-06-13 10:34:19,484]\u001b[0m Trial 8 finished with value: -4.596 and parameters: {'n_estimators': 840, 'max_depth': 15, 'min_samples_split': 55, 'min_samples_leaf': 181, 'max_features': 'log2', 'bootstrap': True}. Best is trial 4 with value: -3.7373333333333334.\u001b[0m\n",
      "\u001b[32m[I 2022-06-13 10:34:32,801]\u001b[0m Trial 9 finished with value: -4.382666666666666 and parameters: {'n_estimators': 160, 'max_depth': 6, 'min_samples_split': 30, 'min_samples_leaf': 71, 'max_features': 'sqrt', 'bootstrap': True}. Best is trial 4 with value: -3.7373333333333334.\u001b[0m\n",
      "\u001b[32m[I 2022-06-13 10:35:37,983]\u001b[0m Trial 10 finished with value: -4.204 and parameters: {'n_estimators': 630, 'max_depth': 6, 'min_samples_split': 45, 'min_samples_leaf': 11, 'max_features': 'log2', 'bootstrap': False}. Best is trial 4 with value: -3.7373333333333334.\u001b[0m\n",
      "\u001b[32m[I 2022-06-13 10:37:02,319]\u001b[0m Trial 11 finished with value: -3.6300000000000003 and parameters: {'n_estimators': 410, 'max_depth': 28, 'min_samples_split': 50, 'min_samples_leaf': 1, 'max_features': 'log2', 'bootstrap': False}. Best is trial 11 with value: -3.6300000000000003.\u001b[0m\n",
      "\u001b[32m[I 2022-06-13 10:38:05,978]\u001b[0m Trial 12 finished with value: -3.622666666666666 and parameters: {'n_estimators': 300, 'max_depth': 26, 'min_samples_split': 45, 'min_samples_leaf': 1, 'max_features': 'log2', 'bootstrap': False}. Best is trial 12 with value: -3.622666666666666.\u001b[0m\n",
      "\u001b[32m[I 2022-06-13 10:39:01,536]\u001b[0m Trial 13 finished with value: -3.829333333333333 and parameters: {'n_estimators': 350, 'max_depth': 27, 'min_samples_split': 45, 'min_samples_leaf': 31, 'max_features': 'log2', 'bootstrap': False}. Best is trial 12 with value: -3.622666666666666.\u001b[0m\n"
     ]
    },
    {
     "name": "stdout",
     "output_type": "stream",
     "text": [
      "sMAPE_rougher =  3.87\n"
     ]
    }
   ],
   "source": [
    "opt_search_rougher.fit(X_rougher_train, y_rougher_train)\n",
    "opt_search_rougher_prediction = opt_search_rougher.best_estimator_.predict(X_rougher_valid)\n",
    "smape_opt_search_rougher_prediction = smape(y_rougher_valid, opt_search_rougher_prediction)\n",
    "print('sMAPE_rougher = ', smape_opt_search_rougher_prediction)"
   ]
  },
  {
   "cell_type": "markdown",
   "metadata": {
    "pycharm": {
     "name": "#%% md\n"
    }
   },
   "source": [
    "На всякий случай, попробуем случайный лес с ранее найденными значеними парметров.."
   ]
  },
  {
   "cell_type": "code",
   "execution_count": 59,
   "metadata": {
    "pycharm": {
     "name": "#%%\n"
    }
   },
   "outputs": [],
   "source": [
    "#{'n_estimators': 540, 'max_depth': 34, 'min_samples_split': 25, 'min_samples_leaf': 61, 'max_features': 'log2', 'bootstrap': False}\n",
    "#random_forest_model_rougher = RandomForestRegressor(random_state=42, n_jobs=-1, n_estimators=220, max_depth=16, min_samples_split=50, min_samples_leaf=1, max_features='log2', bootstrap=False )\n",
    "#random_forest_model_rougher.fit(X_rougher_train, y_rougher_train)\n",
    "#random_forest_model_rougher_prediction = random_forest_model_rougher.predict(X_rougher_valid)\n",
    "#smape_random_forest_model_rougher_prediction = smape(y_rougher_valid, random_forest_model_rougher_prediction)\n",
    "#print('sMAPE_rougher (валидационная выборка) = ', smape_random_forest_model_rougher_prediction)"
   ]
  },
  {
   "cell_type": "markdown",
   "metadata": {
    "pycharm": {
     "name": "#%% md\n"
    }
   },
   "source": [
    "### 2.4.2 Прогноз эффективности обогащения финального концентрата (final.output.recovery)"
   ]
  },
  {
   "cell_type": "markdown",
   "metadata": {
    "pycharm": {
     "name": "#%% md\n"
    }
   },
   "source": [
    "#### 2.4.2.1. RandomizedSearchCV"
   ]
  },
  {
   "cell_type": "markdown",
   "metadata": {
    "pycharm": {
     "name": "#%% md\n"
    }
   },
   "source": [
    "В данном пункте воспользуемся старым добрым рандом-серчем"
   ]
  },
  {
   "cell_type": "code",
   "execution_count": 60,
   "metadata": {
    "pycharm": {
     "name": "#%%\n"
    }
   },
   "outputs": [],
   "source": [
    "# отбой. пока не запускаем его. ибо без толку\n",
    "#from sklearn.model_selection import RandomizedSearchCV"
   ]
  },
  {
   "cell_type": "code",
   "execution_count": 61,
   "metadata": {
    "pycharm": {
     "name": "#%%\n"
    }
   },
   "outputs": [],
   "source": [
    "#cv = StratifiedKFold(n_splits=5, shuffle=True, random_state=42)\n",
    "#randomsearch_randomforest_final = RandomizedSearchCV(estimator=random_forest_model, param_distributions=param_distributions_randomforest, cv=5, n_iter= 10,  scoring=custom_scorer, n_jobs=-1, random_state=42)"
   ]
  },
  {
   "cell_type": "code",
   "execution_count": 62,
   "metadata": {
    "pycharm": {
     "name": "#%%\n"
    }
   },
   "outputs": [],
   "source": [
    "#randomsearch_randomforest_final.fit(X_final_train, y_final_train)\n",
    "#randomsearch_randomforest_final_prediction = randomsearch_randomforest_final.predict(X_final_valid)\n",
    "#smape_opt_search_final_prediction = smape(y_final_valid, randomsearch_randomforest_final_prediction)\n",
    "#print('sMAPE_final (валидационная выборка) = ', smape_opt_search_final_prediction)"
   ]
  },
  {
   "cell_type": "markdown",
   "metadata": {
    "pycharm": {
     "name": "#%% md\n"
    }
   },
   "source": [
    "не плохо. но посмотрим, как подберет OptunaSearchCV\n"
   ]
  },
  {
   "cell_type": "markdown",
   "metadata": {
    "pycharm": {
     "name": "#%% md\n"
    }
   },
   "source": [
    "#### 2.4.2.2. OptunaSearchCV"
   ]
  },
  {
   "cell_type": "code",
   "execution_count": 63,
   "metadata": {
    "pycharm": {
     "name": "#%%\n"
    }
   },
   "outputs": [
    {
     "name": "stderr",
     "output_type": "stream",
     "text": [
      "C:\\ProgramData\\Anaconda3\\lib\\site-packages\\ipykernel_launcher.py:1: ExperimentalWarning: OptunaSearchCV is experimental (supported from v0.17.0). The interface can change in the future.\n",
      "  \"\"\"Entry point for launching an IPython kernel.\n"
     ]
    }
   ],
   "source": [
    "opt_search_final = optuna.integration.OptunaSearchCV(random_forest_model, param_distributions_randomforest_optuna, 10 , n_trials=100, scoring=custom_scorer, timeout=600, random_state=42)"
   ]
  },
  {
   "cell_type": "code",
   "execution_count": 64,
   "metadata": {
    "pycharm": {
     "name": "#%%\n"
    }
   },
   "outputs": [
    {
     "name": "stderr",
     "output_type": "stream",
     "text": [
      "\u001b[32m[I 2022-06-13 10:39:06,248]\u001b[0m A new study created in memory with name: no-name-4c35635f-e15b-47c8-b1b5-1b9775b7e0fc\u001b[0m\n",
      "\u001b[32m[I 2022-06-13 10:39:51,631]\u001b[0m Trial 0 finished with value: -5.989 and parameters: {'n_estimators': 460, 'max_depth': 34, 'min_samples_split': 20, 'min_samples_leaf': 61, 'max_features': 'sqrt', 'bootstrap': True}. Best is trial 0 with value: -5.989.\u001b[0m\n",
      "\u001b[32m[I 2022-06-13 10:40:13,771]\u001b[0m Trial 1 finished with value: -6.422 and parameters: {'n_estimators': 180, 'max_depth': 14, 'min_samples_split': 35, 'min_samples_leaf': 201, 'max_features': 'sqrt', 'bootstrap': False}. Best is trial 0 with value: -5.989.\u001b[0m\n",
      "\u001b[32m[I 2022-06-13 10:41:02,688]\u001b[0m Trial 2 finished with value: -6.736 and parameters: {'n_estimators': 860, 'max_depth': 39, 'min_samples_split': 40, 'min_samples_leaf': 191, 'max_features': 'log2', 'bootstrap': True}. Best is trial 0 with value: -5.989.\u001b[0m\n",
      "\u001b[32m[I 2022-06-13 10:41:52,454]\u001b[0m Trial 3 finished with value: -6.090000000000001 and parameters: {'n_estimators': 460, 'max_depth': 33, 'min_samples_split': 55, 'min_samples_leaf': 101, 'max_features': 'log2', 'bootstrap': False}. Best is trial 0 with value: -5.989.\u001b[0m\n",
      "\u001b[32m[I 2022-06-13 10:42:17,200]\u001b[0m Trial 4 finished with value: -5.285 and parameters: {'n_estimators': 220, 'max_depth': 16, 'min_samples_split': 50, 'min_samples_leaf': 1, 'max_features': 'log2', 'bootstrap': True}. Best is trial 4 with value: -5.285.\u001b[0m\n",
      "\u001b[32m[I 2022-06-13 10:42:32,687]\u001b[0m Trial 5 finished with value: -6.728999999999999 and parameters: {'n_estimators': 260, 'max_depth': 26, 'min_samples_split': 60, 'min_samples_leaf': 191, 'max_features': 'log2', 'bootstrap': True}. Best is trial 4 with value: -5.285.\u001b[0m\n",
      "\u001b[32m[I 2022-06-13 10:43:44,484]\u001b[0m Trial 6 finished with value: -6.220000000000001 and parameters: {'n_estimators': 840, 'max_depth': 36, 'min_samples_split': 55, 'min_samples_leaf': 91, 'max_features': 'sqrt', 'bootstrap': True}. Best is trial 4 with value: -5.285.\u001b[0m\n",
      "\u001b[32m[I 2022-06-13 10:43:58,741]\u001b[0m Trial 7 finished with value: -6.425 and parameters: {'n_estimators': 110, 'max_depth': 20, 'min_samples_split': 25, 'min_samples_leaf': 201, 'max_features': 'sqrt', 'bootstrap': False}. Best is trial 4 with value: -5.285.\u001b[0m\n",
      "\u001b[32m[I 2022-06-13 10:44:45,193]\u001b[0m Trial 8 finished with value: -6.707000000000001 and parameters: {'n_estimators': 840, 'max_depth': 15, 'min_samples_split': 55, 'min_samples_leaf': 181, 'max_features': 'log2', 'bootstrap': True}. Best is trial 4 with value: -5.285.\u001b[0m\n",
      "\u001b[32m[I 2022-06-13 10:44:59,876]\u001b[0m Trial 9 finished with value: -6.336 and parameters: {'n_estimators': 160, 'max_depth': 6, 'min_samples_split': 30, 'min_samples_leaf': 71, 'max_features': 'sqrt', 'bootstrap': True}. Best is trial 4 with value: -5.285.\u001b[0m\n",
      "\u001b[32m[I 2022-06-13 10:45:59,178]\u001b[0m Trial 10 finished with value: -6.1339999999999995 and parameters: {'n_estimators': 630, 'max_depth': 6, 'min_samples_split': 45, 'min_samples_leaf': 11, 'max_features': 'log2', 'bootstrap': False}. Best is trial 4 with value: -5.285.\u001b[0m\n",
      "\u001b[32m[I 2022-06-13 10:47:10,536]\u001b[0m Trial 11 finished with value: -4.874 and parameters: {'n_estimators': 410, 'max_depth': 28, 'min_samples_split': 20, 'min_samples_leaf': 1, 'max_features': 'sqrt', 'bootstrap': True}. Best is trial 11 with value: -4.874.\u001b[0m\n",
      "\u001b[32m[I 2022-06-13 10:47:58,241]\u001b[0m Trial 12 finished with value: -5.1259999999999994 and parameters: {'n_estimators': 300, 'max_depth': 26, 'min_samples_split': 45, 'min_samples_leaf': 1, 'max_features': 'sqrt', 'bootstrap': True}. Best is trial 11 with value: -4.874.\u001b[0m\n",
      "\u001b[32m[I 2022-06-13 10:48:39,582]\u001b[0m Trial 13 finished with value: -5.622999999999999 and parameters: {'n_estimators': 350, 'max_depth': 27, 'min_samples_split': 40, 'min_samples_leaf': 31, 'max_features': 'sqrt', 'bootstrap': True}. Best is trial 11 with value: -4.874.\u001b[0m\n",
      "\u001b[32m[I 2022-06-13 10:49:30,036]\u001b[0m Trial 14 finished with value: -6.51 and parameters: {'n_estimators': 630, 'max_depth': 27, 'min_samples_split': 20, 'min_samples_leaf': 151, 'max_features': 'sqrt', 'bootstrap': True}. Best is trial 11 with value: -4.874.\u001b[0m\n"
     ]
    },
    {
     "name": "stdout",
     "output_type": "stream",
     "text": [
      "sMAPE_final =  4.65\n"
     ]
    }
   ],
   "source": [
    "opt_search_final.fit(X_final_train, y_final_train)\n",
    "opt_search_final_prediction = opt_search_final.best_estimator_.predict(X_final_valid)\n",
    "smape_opt_search_final_prediction = smape(y_final_valid, opt_search_final_prediction)\n",
    "print('sMAPE_final = ', smape_opt_search_final_prediction)"
   ]
  },
  {
   "cell_type": "markdown",
   "metadata": {
    "pycharm": {
     "name": "#%% md\n"
    }
   },
   "source": [
    "#### 2.4.3. Итоговые расчеты"
   ]
  },
  {
   "cell_type": "markdown",
   "metadata": {
    "pycharm": {
     "name": "#%% md\n"
    }
   },
   "source": [
    "#### 2.4.3.1. Итоговая метрика на валидационной выборке"
   ]
  },
  {
   "cell_type": "code",
   "execution_count": 65,
   "metadata": {
    "pycharm": {
     "name": "#%%\n"
    }
   },
   "outputs": [
    {
     "name": "stdout",
     "output_type": "stream",
     "text": [
      "итоговое значение sMAPE на двух целевых параметрах =  4.455\n"
     ]
    }
   ],
   "source": [
    "print('итоговое значение sMAPE на двух целевых параметрах = ', overal_smape(smape_rougher = smape_opt_search_rougher_prediction, smape_final = smape_opt_search_final_prediction))"
   ]
  },
  {
   "cell_type": "markdown",
   "metadata": {
    "pycharm": {
     "name": "#%% md\n"
    }
   },
   "source": [
    "Хороший результат. Напомним, что через dummy - регрессор без фильтрации итоговое значение было 11,28."
   ]
  },
  {
   "cell_type": "markdown",
   "metadata": {
    "pycharm": {
     "name": "#%% md\n"
    }
   },
   "source": [
    "#### 2.4.3.2. Итоговая метрика на тестовой выборке"
   ]
  },
  {
   "cell_type": "code",
   "execution_count": 66,
   "metadata": {
    "pycharm": {
     "name": "#%%\n"
    }
   },
   "outputs": [
    {
     "name": "stdout",
     "output_type": "stream",
     "text": [
      "sMAPE_rougher на тестовой выборке =  10.8\n"
     ]
    }
   ],
   "source": [
    "random_forest_model_rougher_prediction_test = opt_search_rougher.best_estimator_.predict(df_test[rougher_params_list])\n",
    "smape_random_forest_model_rougher_prediction_test = smape(df_test[rougher_target], random_forest_model_rougher_prediction_test)\n",
    "print('sMAPE_rougher на тестовой выборке = ', smape_random_forest_model_rougher_prediction_test)"
   ]
  },
  {
   "cell_type": "code",
   "execution_count": 67,
   "metadata": {},
   "outputs": [],
   "source": [
    "df_test.fillna(0, inplace = True)"
   ]
  },
  {
   "cell_type": "code",
   "execution_count": 68,
   "metadata": {
    "pycharm": {
     "name": "#%%\n"
    }
   },
   "outputs": [
    {
     "name": "stdout",
     "output_type": "stream",
     "text": [
      "sMAPE_final на тестовой выборке =  9.26\n"
     ]
    }
   ],
   "source": [
    "random_forest_model_final_prediction_test = opt_search_final.best_estimator_.predict(df_test[final_params_list_2])\n",
    "smape_random_forest_model_final_prediction_test = smape(df_test[final_target], random_forest_model_final_prediction_test)\n",
    "print('sMAPE_final на тестовой выборке = ', smape_random_forest_model_final_prediction_test)"
   ]
  },
  {
   "cell_type": "code",
   "execution_count": 69,
   "metadata": {
    "pycharm": {
     "name": "#%%\n"
    }
   },
   "outputs": [
    {
     "name": "stdout",
     "output_type": "stream",
     "text": [
      "итоговое значение sMAPE на двх целевых параметрах (тестовая выборка)=  9.645\n"
     ]
    }
   ],
   "source": [
    "print('итоговое значение sMAPE на двх целевых параметрах (тестовая выборка)= ', overal_smape(smape_rougher = smape_random_forest_model_rougher_prediction_test, smape_final = smape_random_forest_model_final_prediction_test))"
   ]
  },
  {
   "cell_type": "markdown",
   "metadata": {
    "pycharm": {
     "name": "#%% md\n"
    }
   },
   "source": [
    "Ну, хотя бы baseline побили. Напомним, что через dummy - регрессор без фильтрации итоговое значение было = 10.29. Но с тестовыми данными явно беда."
   ]
  },
  {
   "cell_type": "markdown",
   "metadata": {
    "pycharm": {
     "name": "#%% md\n"
    }
   },
   "source": [
    "## 2.5. Линейная регрессия"
   ]
  },
  {
   "cell_type": "markdown",
   "metadata": {},
   "source": [
    "## 2.5.1. На исходной выборке (без фильтрации по выбросам)"
   ]
  },
  {
   "cell_type": "code",
   "execution_count": 70,
   "metadata": {
    "pycharm": {
     "name": "#%%\n"
    }
   },
   "outputs": [
    {
     "name": "stdout",
     "output_type": "stream",
     "text": [
      "sMAPE_rougher на линейной модели. (валидационная выборка) =  11.17\n",
      "sMAPE_rougher на линейной модели. (тестовая выборка) =  11.45\n"
     ]
    }
   ],
   "source": [
    "linreg_model = LinearRegression(n_jobs=-1)\n",
    "linreg_model.fit(X_rougher_train_init, y_rougher_train_init)\n",
    "linreg_model_rougher_prediction_valid_init = linreg_model.predict(X_rougher_valid_init)\n",
    "smape_linreg_model_rougher_prediction_valid_score = smape(y_rougher_valid_init, linreg_model_rougher_prediction_valid_init)\n",
    "print('sMAPE_rougher на линейной модели. (валидационная выборка) = ', smape_linreg_model_rougher_prediction_valid_score)\n",
    "\n",
    "linreg_model_rougher_prediction_test = linreg_model.predict(df_test[rougher_params_list])\n",
    "smape_linreg_model_rougher_prediction_test_score = smape(df_test[rougher_target], linreg_model_rougher_prediction_test)\n",
    "print('sMAPE_rougher на линейной модели. (тестовая выборка) = ', smape_linreg_model_rougher_prediction_test_score)"
   ]
  },
  {
   "cell_type": "code",
   "execution_count": 71,
   "metadata": {
    "pycharm": {
     "name": "#%%\n"
    }
   },
   "outputs": [
    {
     "name": "stdout",
     "output_type": "stream",
     "text": [
      "sMAPE_final на линейной модели. (валидационная выборка) =  9.0\n",
      "sMAPE_final на линейной модели. (тестовая выборка) =  10.07\n"
     ]
    }
   ],
   "source": [
    "linreg_model = LinearRegression(n_jobs=-1)\n",
    "linreg_model.fit(X_final_train_init, y_final_train_init)\n",
    "\n",
    "linreg_model_final_prediction_valid_init = linreg_model.predict(X_final_valid_init)\n",
    "smape_linreg_model_final_prediction_valid_score = smape(y_final_valid_init, linreg_model_final_prediction_valid_init)\n",
    "print('sMAPE_final на линейной модели. (валидационная выборка) = ', smape_linreg_model_final_prediction_valid_score)\n",
    "\n",
    "linreg_model_final_prediction_test_init = linreg_model.predict(df_test[final_params_list_2])\n",
    "smape_linreg_model_final_prediction_test_score = smape(df_test[final_target], linreg_model_final_prediction_test_init)\n",
    "print('sMAPE_final на линейной модели. (тестовая выборка) = ', smape_linreg_model_final_prediction_test_score)"
   ]
  },
  {
   "cell_type": "code",
   "execution_count": 72,
   "metadata": {
    "pycharm": {
     "name": "#%%\n"
    }
   },
   "outputs": [
    {
     "name": "stdout",
     "output_type": "stream",
     "text": [
      "итоговое значение sMAPE на валидационной выборке =  9.5425\n",
      "итоговое значение sMAPE на тестовой выборке =  10.415\n"
     ]
    }
   ],
   "source": [
    "print('итоговое значение sMAPE на валидационной выборке = ', overal_smape(smape_rougher = smape_linreg_model_rougher_prediction_valid_score, smape_final = smape_linreg_model_final_prediction_valid_score))\n",
    "\n",
    "print('итоговое значение sMAPE на тестовой выборке = ', overal_smape(smape_rougher = smape_linreg_model_rougher_prediction_test_score, smape_final = smape_linreg_model_final_prediction_test_score))"
   ]
  },
  {
   "cell_type": "markdown",
   "metadata": {},
   "source": [
    "## 2.5.1. На отфильтрованной выборке"
   ]
  },
  {
   "cell_type": "code",
   "execution_count": 73,
   "metadata": {},
   "outputs": [
    {
     "name": "stdout",
     "output_type": "stream",
     "text": [
      "sMAPE_rougher на линейной модели. (валидационная выборка) =  5.41\n",
      "sMAPE_rougher на линейной модели. (тестовая выборка) =  10.29\n"
     ]
    }
   ],
   "source": [
    "linreg_model = LinearRegression(n_jobs=-1)\n",
    "linreg_model.fit(X_rougher_train, y_rougher_train)\n",
    "linreg_model_rougher_prediction_valid = linreg_model.predict(X_rougher_valid)\n",
    "smape_linreg_model_rougher_prediction_valid_score = smape(y_rougher_valid, linreg_model_rougher_prediction_valid)\n",
    "print('sMAPE_rougher на линейной модели. (валидационная выборка) = ', smape_linreg_model_rougher_prediction_valid_score)\n",
    "\n",
    "linreg_model_rougher_prediction_test = linreg_model.predict(df_test[rougher_params_list])\n",
    "smape_linreg_model_rougher_prediction_test_score = smape(df_test[rougher_target], linreg_model_rougher_prediction_test)\n",
    "print('sMAPE_rougher на линейной модели. (тестовая выборка) = ', smape_linreg_model_rougher_prediction_test_score)"
   ]
  },
  {
   "cell_type": "code",
   "execution_count": 74,
   "metadata": {},
   "outputs": [
    {
     "name": "stdout",
     "output_type": "stream",
     "text": [
      "sMAPE_final на линейной модели. (валидационная выборка) =  6.61\n",
      "sMAPE_final на линейной модели. (тестовая выборка) =  9.75\n"
     ]
    }
   ],
   "source": [
    "linreg_model = LinearRegression(n_jobs=-1)\n",
    "linreg_model.fit(X_final_train, y_final_train)\n",
    "\n",
    "linreg_model_final_prediction_valid = linreg_model.predict(X_final_valid)\n",
    "smape_linreg_model_final_prediction_valid_score = smape(y_final_valid, linreg_model_final_prediction_valid)\n",
    "print('sMAPE_final на линейной модели. (валидационная выборка) = ', smape_linreg_model_final_prediction_valid_score)\n",
    "\n",
    "linreg_model_final_prediction_test = linreg_model.predict(df_test[final_params_list_2])\n",
    "smape_linreg_model_final_prediction_test_score = smape(df_test[final_target], linreg_model_final_prediction_test)\n",
    "print('sMAPE_final на линейной модели. (тестовая выборка) = ', smape_linreg_model_final_prediction_test_score)"
   ]
  },
  {
   "cell_type": "code",
   "execution_count": 75,
   "metadata": {},
   "outputs": [
    {
     "name": "stdout",
     "output_type": "stream",
     "text": [
      "итоговое значение sMAPE на валидационной выборке =  6.3100000000000005\n",
      "итоговое значение sMAPE на тестовой выборке =  9.885\n"
     ]
    }
   ],
   "source": [
    "print('итоговое значение sMAPE на валидационной выборке = ', overal_smape(smape_rougher = smape_linreg_model_rougher_prediction_valid_score, smape_final = smape_linreg_model_final_prediction_valid_score))\n",
    "\n",
    "print('итоговое значение sMAPE на тестовой выборке = ', overal_smape(smape_rougher = smape_linreg_model_rougher_prediction_test_score, smape_final = smape_linreg_model_final_prediction_test_score))"
   ]
  },
  {
   "cell_type": "markdown",
   "metadata": {
    "pycharm": {
     "name": "#%% md\n"
    }
   },
   "source": [
    "Линейная регрессия справилась лучше"
   ]
  },
  {
   "cell_type": "markdown",
   "metadata": {
    "pycharm": {
     "name": "#%% md\n"
    }
   },
   "source": [
    "# 3. Заключение"
   ]
  },
  {
   "cell_type": "markdown",
   "metadata": {
    "pycharm": {
     "name": "#%% md\n"
    }
   },
   "source": [
    "В настоящем проекте проведена следующая работа и сделаны следующие выводы:\n",
    "1. **Проведена предварительная обработка данных в т.ч. заполнение пропусков:** пропуски были заполнены средним из соседних значений, заполнены пропуски до 25-ти значений поряд. Пропуски больше чем 25 значений были удалены. \n",
    "2. **Проведена валидация признака rougher.output.recovery:** Приведенное в исходных данных значение было успешно валидировано. Разница в расчетных и предоставленных значениях исчезающе мала.\n",
    "3. **Проведены пнализ данных и исследования:**\n",
    "    1. **различия состава параметров в тестовой и тренировочной выборках:**\n",
    "        - в тестовой выборке отсутствуют\n",
    "            - параметры продукта после каждой стадии\n",
    "            - отвальные хвосты после каждой стадии, в т.ч. общие\n",
    "            - расчетные харакетристики сырья\n",
    "            - целевые параметры процесса\n",
    "        - в тестовой выборке присутствуют:\n",
    "            - все входные параметры для флотации и первичной очистки (input)\n",
    "            - параметры состояния на каждом этапе (state)\n",
    "    2. **изменения концентрации металлов на различных этапах очистки:** \n",
    "        - Концентрация золота возрастает\n",
    "        - Концентрация серебра падает\n",
    "        - Концентрация свинца незначительно растет\n",
    "        - распределения носят нормальный характер без ярко-выраженных скосов с примерно симметричным количеством выбросов, как следствие медианное значение близко к ранее найденному среднему\n",
    "    3. **распределения размеров гранул сырья на обучающей и тестовой выборках:** В тестовой и тренировочной выборках относительная разница в среднего размера гранул сырья составляет 6.23% \n",
    "    4. **суммарная концентрация всех веществ на разных стадиях:** в сырье, в черновом и финальном концентратах\n",
    "\t\t- c учетом солей\n",
    "            - суммарная концентрация веществ на стадии флотации = 922311.91\n",
    "            - суммарная концентрация веществ на стадии первичной очистки = 824672.12\n",
    "            - суммарная концентрация веществ финального продукта = 939032.37\n",
    "\t\t- без учета солей\n",
    "            - суммарная концентрация веществ на стадии флотации = 533863.82\n",
    "            - суммарная концентрация веществ на стадии первичной очистки = 687845.91\n",
    "            - суммарная концентрация веществ финального продукта = 813784.95\n",
    "4. **Подготовлена \"кастомная\" функция для оценки промежуточных и итоговой sMAPE**\n",
    "5. **Построен baseline на dummy-моделе**\n",
    "6. **Обучена модель randomforestRegressor с использованием optuna и модель LinearRegression.** Линейная регрессия за счет отсутствия возможности более тонкой настройки дала несколько хуже результаты, но тем не менее все равно примемлемые. \n",
    "7. **Тестовая выборка отличается от тренировчной, в результате чего обученные на валидационной выборке модели дают успешные предсказания и плохо работают на тестовой. Более подробно см таблицу 1.**"
   ]
  },
  {
   "cell_type": "markdown",
   "metadata": {},
   "source": [
    "таблица 1. Результаты моделей на четырех типах выборок \n",
    "1. исходная - без обработки. кросс-валидация = 10 фолдов, размер тестовой выборки 25%\n",
    "2. отфильтрованная от выбросов в значенияхпараметров output. кросс-валидация = 10 фолдов, размер тестовой выборки 25%\n",
    "3. исходная - без обработки. кросс-валидация = 15 фолдов, размер тестовой выборки 10%\n",
    "4. отфильтрованная от выбросов в значенияхпараметров output. кросс-валидация = 15 фолдов, размер тестовой выборки 10\n",
    "\n",
    "|sMAPE итоговое значение|без выбросов (cv=10, test_size=0.25)|исходная выборка (cv=10, test_size=0.25)|без выбросов (cv=15, test_size=0.1)|исходная выборка (cv=15, test_size=0.1)|\n",
    "|---|---|---|---|---|\n",
    "|DummyRegressor  (валидационная выборка)|-|11,28|-|11,28|\n",
    "|DummyRegressor (тестовая выборка)|-|10,29|-|10,29|\n",
    "|RandomForestRegressor (валидационная выборка)|4,59|-|4,45|-|\n",
    "|RandomForestRegressor (тестовая выборка)|9,45|-|9,64|-|\n",
    "|LinearRegression (валидационная выборка)|6,79|7,75|6,31|9,54|\n",
    "|LinearRegression (тестовая выборка)|9,82|10,24|9,88|10,415|\n"
   ]
  },
  {
   "cell_type": "markdown",
   "metadata": {},
   "source": [
    "Из таблицы видно что:\n",
    "1. наилучший результат получился на валидационной выборке для случайного леса. \n",
    "2. на тестовой выборке стаблильно для всех моделей результат хуже\n",
    "3. RandomForestRegressor обученный на обработанных данных на тестовой выборке дает результат лучше чем DummyRegressor на необработанных.\n",
    "4. увеличение размера кросс-валидации и уменьшение тестовой выборки не влияет на результат (в целом +- то же самое)\n",
    "\n",
    "исходя из этого можно сделать вывод что предварительная обработка данных имеет смысл."
   ]
  }
 ],
 "metadata": {
  "ExecuteTimeLog": [
   {
    "duration": 43,
    "start_time": "2022-06-06T22:12:39.163Z"
   }
  ],
  "kernelspec": {
   "display_name": "Python 3",
   "language": "python",
   "name": "python3"
  },
  "language_info": {
   "codemirror_mode": {
    "name": "ipython",
    "version": 3
   },
   "file_extension": ".py",
   "mimetype": "text/x-python",
   "name": "python",
   "nbconvert_exporter": "python",
   "pygments_lexer": "ipython3",
   "version": "3.7.6"
  },
  "toc": {
   "base_numbering": 1,
   "nav_menu": {},
   "number_sections": true,
   "sideBar": true,
   "skip_h1_title": true,
   "title_cell": "Table of Contents",
   "title_sidebar": "Contents",
   "toc_cell": false,
   "toc_position": {},
   "toc_section_display": true,
   "toc_window_display": false
  }
 },
 "nbformat": 4,
 "nbformat_minor": 4
}
