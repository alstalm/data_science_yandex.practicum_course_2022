{
 "cells": [
  {
   "cell_type": "markdown",
   "metadata": {},
   "source": [
    "# Защита персональных данных клиентов"
   ]
  },
  {
   "cell_type": "markdown",
   "metadata": {
    "toc": true
   },
   "source": [
    "# Оглавление\n",
    "\n",
    "- [1. Введение](#1)\n",
    "- [1.1. Формулировка хадачи](#1.1)\n",
    "- [1.2. Описание данных](#1.2)\n",
    "- [2. Решение](#2)\n",
    "- [2.1. Аналитическое доказательство. Умножение матриц](#2.1)\n",
    "- [2.2. Практическое доказательство](#2.2)\n",
    "- [2.2.1. Загрузка данных](#2.2.1)\n",
    "- [2.2.2. Прогнозирование на исходной матрице признаков](#2.2.2)\n",
    "- [2.2.3. Прогнозирование на матрице признаков, умноженной на обратимую матрицу](#2.2.3)\n",
    "- [2.2.4. Прогнозирование на матрице признаков, умноженной на НЕобратимую матрицу](#2.2.4)\n",
    "- [3. Выводы](#3)"
   ]
  },
  {
   "cell_type": "markdown",
   "metadata": {},
   "source": [
    "# 1 Введение\n",
    "<a id=\"1\"></a>"
   ]
  },
  {
   "cell_type": "markdown",
   "metadata": {},
   "source": [
    "# 1.1. Формулировка задачи\n",
    "<a id=\"1.1\"></a>"
   ]
  },
  {
   "cell_type": "markdown",
   "metadata": {},
   "source": [
    "Необходимо защитить данные клиентов страховой компании «Хоть потоп» и разработайть такой метод преобразования данных, чтобы по ним было сложно восстановить персональную информацию. Обоснуйте корректность его работы.\n",
    "\n",
    "Нужно защитить данные, чтобы при преобразовании качество моделей машинного обучения не ухудшилось. Подбирать наилучшую модель не требуется."
   ]
  },
  {
   "cell_type": "markdown",
   "metadata": {},
   "source": [
    "## 1.2. Описание данных\n",
    "<a id=\"1.2\"></a>"
   ]
  },
  {
   "cell_type": "markdown",
   "metadata": {},
   "source": [
    "Набор данных находится в файле /datasets/insurance.csv. Скачать датасет.\n",
    "- Признаки: пол, возраст и зарплата застрахованного, количество членов его семьи.\n",
    "- Целевой признак: количество страховых выплат клиенту за последние 5 лет."
   ]
  },
  {
   "cell_type": "markdown",
   "metadata": {},
   "source": [
    "# 2. Решение\n",
    "<a id=\"2\"></a>"
   ]
  },
  {
   "cell_type": "markdown",
   "metadata": {},
   "source": [
    "Для выполнения задачи предложим следующее решение: умножим исходную матрицу признаков на обратимую матрицу. Для функции потерь принятой равной $w = (X^T X)^{-1} X^T y$ значение результата должно сохраниться прежним."
   ]
  },
  {
   "cell_type": "markdown",
   "metadata": {},
   "source": [
    "## 2.1. Аналитическое доказательство. Умножение матриц <a id=\"2.1\"></a>"
   ]
  },
  {
   "cell_type": "markdown",
   "metadata": {},
   "source": [
    "**Обозначения:**\n",
    "\n",
    "- $X$ — матрица признаков (нулевой столбец состоит из единиц)\n",
    "- $y$ — вектор целевого признака\n",
    "- $P$ — матрица, на которую умножаются признаки\n",
    "- $w$ — вектор весов линейной регрессии (нулевой элемент равен сдвигу). Вектор весов находится по формуле $w = (X^T X)^{-1} X^T y$\n",
    "- $a$ - ветокр предсказаний. находится по формуле $a = Xw$\n",
    "\n",
    "задача обучения - найти $w$ при котором среднеквадратичная ошибка будет минимальной.  $w = \\arg\\min_w MSE(Xw, y)$\n",
    "\n",
    "**Свойства матриц:**\n",
    "$$\n",
    "(AB)^T=B^TA^T   \\\\\n",
    "(AB)^{-1}=B^{-1}A^{-1} \\\\\n",
    "AA^{-1}=A^{-1}A=E \\\\\n",
    "AE=EA=A \\\\\n",
    "$$\n"
   ]
  },
  {
   "cell_type": "markdown",
   "metadata": {},
   "source": [
    "**Сформулируем гепотезу:** \n",
    "\n",
    "При умножении матрицы признаков на обратимую матрицу вектор предсказний для модели машинного обучения на базе линейной регрессии останется прежним. \n",
    "\n",
    "**Сформулируем задачу:**  \n",
    "**Дано:** \n",
    "1. Вектор предсказаний без умножения матрицы признаков $a_1 = Xw_1 + w_0$, где $X$ - матрица признаков\n",
    "2. Вектор предсказаний с умноженем матрицы признаков $a_2 = XPw_2 + w_0$, где $X$ - матрица признаков, $P$ - обратимая матрица (определитель д.б. > 0)\n",
    "3. Вектор весов линейной регрессии для матрицы без умножения матрицы признаков $w_1 = (X^T X)^{-1} X^T y$\n",
    "4. Вектор весов линейной регрессии для матрицы с умножением матрицы признаков $w_2 = ((XP)^T XP)^{-1} (XP)^T y$\n",
    "\n",
    "**Доказать:** $a_1 = a_2$\n",
    "\n",
    "**Решение**\n",
    "\n",
    "$$\n",
    "1. Преобразуем \\: вектор \\: весов \\: w_2:\\\\\n",
    "w_2 = ((XP)^T XP)^{-1} (XP)^T y =>\\\\\n",
    "      (P^T X^T  XP)^{-1} P^T X^T y =>\\\\\n",
    "      (X^T X)^{-1} (P^T P)^{-1} P^T X^T y =>\\\\\n",
    "      (X^T X)^{-1} P^{-1} (P^T)^{-1}  P^T X^T  y =>\\\\\n",
    "      (X^T X)^{-1} P^{-1} E X^T  y =>\\\\\n",
    "      (X^T X)^{-1} P^{-1} X^T y\\\\\n",
    "\\\\\n",
    "2. Выразим \\: a_2 \\: через \\: w_2:\\\\\n",
    "a_2 = XPw_2 + w_0 =>\\\\\n",
    "a_2 = XP (X^T X)^{-1} P^{-1} X^T y + w_0 =>\\\\\n",
    "a_2 = X  (X^T X)^{-1} E X^T y + w_0 =>\\\\\n",
    "a_2 = X  (X^T X)^{-1} X^T y + w_0 =>\\\\\n",
    "\\\\\n",
    "3. Выразим \\: a_1 \\: через \\: w_1:\\\\\n",
    "a_1 = Xw_1 + w_0 =>\\\\\n",
    "a_1 = X (X^T X)^{-1} X^T y + w_0\n",
    "\\\\\n",
    "4. Таким \\: образом\\\\ \n",
    "a_1 = a_2\\\\ \n",
    "Ч.Т.Д.\n",
    "$$"
   ]
  },
  {
   "cell_type": "markdown",
   "metadata": {},
   "source": [
    "## 2.2. Практическое доказательство\n",
    "<a id=\"2.2\"></a>"
   ]
  },
  {
   "cell_type": "markdown",
   "metadata": {},
   "source": [
    "## 2.2.1. Загрузка данных\n",
    "<a id=\"2.2.1\"></a>"
   ]
  },
  {
   "cell_type": "code",
   "execution_count": 15,
   "metadata": {},
   "outputs": [],
   "source": [
    "import pandas as pd\n",
    "import numpy as np\n",
    "from sklearn.linear_model import LinearRegression\n",
    "from sklearn.model_selection import train_test_split\n",
    "import os\n",
    "from sklearn.preprocessing import StandardScaler\n",
    "from sklearn.metrics import r2_score"
   ]
  },
  {
   "cell_type": "code",
   "execution_count": 2,
   "metadata": {},
   "outputs": [],
   "source": [
    "path1 = 'insurance.csv'\n",
    "path2 = '/datasets/insurance.csv'\n",
    "if os.path.exists(path1):\n",
    "    df = pd.read_csv(path1)\n",
    "elif os.path.exists(path2):\n",
    "    df = pd.read_csv(path2)\n",
    "else: print('файл не найден')"
   ]
  },
  {
   "cell_type": "code",
   "execution_count": 3,
   "metadata": {},
   "outputs": [
    {
     "data": {
      "text/html": [
       "<div>\n",
       "<style scoped>\n",
       "    .dataframe tbody tr th:only-of-type {\n",
       "        vertical-align: middle;\n",
       "    }\n",
       "\n",
       "    .dataframe tbody tr th {\n",
       "        vertical-align: top;\n",
       "    }\n",
       "\n",
       "    .dataframe thead th {\n",
       "        text-align: right;\n",
       "    }\n",
       "</style>\n",
       "<table border=\"1\" class=\"dataframe\">\n",
       "  <thead>\n",
       "    <tr style=\"text-align: right;\">\n",
       "      <th></th>\n",
       "      <th>Пол</th>\n",
       "      <th>Возраст</th>\n",
       "      <th>Зарплата</th>\n",
       "      <th>Члены семьи</th>\n",
       "      <th>Страховые выплаты</th>\n",
       "    </tr>\n",
       "  </thead>\n",
       "  <tbody>\n",
       "    <tr>\n",
       "      <th>0</th>\n",
       "      <td>1</td>\n",
       "      <td>41.0</td>\n",
       "      <td>49600.0</td>\n",
       "      <td>1</td>\n",
       "      <td>0</td>\n",
       "    </tr>\n",
       "    <tr>\n",
       "      <th>1</th>\n",
       "      <td>0</td>\n",
       "      <td>46.0</td>\n",
       "      <td>38000.0</td>\n",
       "      <td>1</td>\n",
       "      <td>1</td>\n",
       "    </tr>\n",
       "    <tr>\n",
       "      <th>2</th>\n",
       "      <td>0</td>\n",
       "      <td>29.0</td>\n",
       "      <td>21000.0</td>\n",
       "      <td>0</td>\n",
       "      <td>0</td>\n",
       "    </tr>\n",
       "    <tr>\n",
       "      <th>3</th>\n",
       "      <td>0</td>\n",
       "      <td>21.0</td>\n",
       "      <td>41700.0</td>\n",
       "      <td>2</td>\n",
       "      <td>0</td>\n",
       "    </tr>\n",
       "    <tr>\n",
       "      <th>4</th>\n",
       "      <td>1</td>\n",
       "      <td>28.0</td>\n",
       "      <td>26100.0</td>\n",
       "      <td>0</td>\n",
       "      <td>0</td>\n",
       "    </tr>\n",
       "  </tbody>\n",
       "</table>\n",
       "</div>"
      ],
      "text/plain": [
       "   Пол  Возраст  Зарплата  Члены семьи  Страховые выплаты\n",
       "0    1     41.0   49600.0            1                  0\n",
       "1    0     46.0   38000.0            1                  1\n",
       "2    0     29.0   21000.0            0                  0\n",
       "3    0     21.0   41700.0            2                  0\n",
       "4    1     28.0   26100.0            0                  0"
      ]
     },
     "metadata": {},
     "output_type": "display_data"
    },
    {
     "name": "stdout",
     "output_type": "stream",
     "text": [
      "<class 'pandas.core.frame.DataFrame'>\n",
      "RangeIndex: 5000 entries, 0 to 4999\n",
      "Data columns (total 5 columns):\n",
      " #   Column             Non-Null Count  Dtype  \n",
      "---  ------             --------------  -----  \n",
      " 0   Пол                5000 non-null   int64  \n",
      " 1   Возраст            5000 non-null   float64\n",
      " 2   Зарплата           5000 non-null   float64\n",
      " 3   Члены семьи        5000 non-null   int64  \n",
      " 4   Страховые выплаты  5000 non-null   int64  \n",
      "dtypes: float64(2), int64(3)\n",
      "memory usage: 195.4 KB\n",
      "None\n",
      "Список возможных значений в целевом признаке: [0 1 2 3 5 4]\n"
     ]
    }
   ],
   "source": [
    "display(df.head())\n",
    "print(df.info())\n",
    "print('Список возможных значений в целевом признаке:', df['Страховые выплаты'].unique())"
   ]
  },
  {
   "cell_type": "markdown",
   "metadata": {},
   "source": [
    "## 2.2.2. Прогнозирование на исходной матрице признаков\n",
    "<a id=\"2.2.2\"></a>"
   ]
  },
  {
   "cell_type": "code",
   "execution_count": 4,
   "metadata": {},
   "outputs": [
    {
     "name": "stdout",
     "output_type": "stream",
     "text": [
      "(3750, 4)\n",
      "(1250, 4)\n",
      "(3750,)\n",
      "(1250,)\n"
     ]
    }
   ],
   "source": [
    "features = df.drop(columns=['Страховые выплаты'])\n",
    "target = df['Страховые выплаты']\n",
    "scaler = StandardScaler()\n",
    "features_scaled = scaler.fit_transform(features)\n",
    "#features_scaled = features # эту строчку удалить потом\n",
    "\n",
    "X_train, X_test, y_train, y_test = train_test_split(features_scaled, target, random_state = 2)\n",
    "print(X_train.shape)\n",
    "print(X_test.shape)\n",
    "print(y_train.shape)\n",
    "print(y_test.shape)"
   ]
  },
  {
   "cell_type": "code",
   "execution_count": 14,
   "metadata": {},
   "outputs": [
    {
     "name": "stdout",
     "output_type": "stream",
     "text": [
      "r2 = 0.4049827646604208\n"
     ]
    }
   ],
   "source": [
    "model = LinearRegression()\n",
    "model.fit(X_train, y_train)\n",
    "prediction_1 = model.predict(X_test)\n",
    "r2_score_1 = r2_score(y_test, prediction_1)\n",
    "print('r2 =',r2_score_1)"
   ]
  },
  {
   "cell_type": "markdown",
   "metadata": {},
   "source": [
    "## 2.2.3. Прогнозирование на матрице признаков, умноженной на обратимую матрицу \n",
    "<a id=\"2.2.3\"></a>"
   ]
  },
  {
   "cell_type": "code",
   "execution_count": 6,
   "metadata": {},
   "outputs": [
    {
     "name": "stdout",
     "output_type": "stream",
     "text": [
      "Проверим, равен ли определитель матрицы нулю: False\n",
      "(3750, 4)\n",
      "(1250, 4)\n",
      "(3750,)\n",
      "(1250,)\n"
     ]
    }
   ],
   "source": [
    "# зафиксируем random_state \n",
    "np.random.seed(1)\n",
    "# создадим обратимую матрицу размерностью 4x4\n",
    "P = np.random.rand(4,4)\n",
    "\n",
    "print('Проверим, равен ли определитель матрицы нулю:', np.linalg.det(P)==0)\n",
    "\n",
    "# умножим ранее отмасштмабированные признаки на обратимую матрицу\n",
    "features_scaled_mutiplied = features_scaled.dot(P)\n",
    "target = df['Страховые выплаты']\n",
    "\n",
    "X_train_multi, X_test_multi, y_train_multi, y_test_multi = train_test_split(features_scaled_mutiplied, target, random_state = 2)\n",
    "\n",
    "print(X_train_multi.shape)\n",
    "print(X_test_multi.shape)\n",
    "print(y_train_multi.shape)\n",
    "print(y_test_multi.shape)"
   ]
  },
  {
   "cell_type": "code",
   "execution_count": 13,
   "metadata": {},
   "outputs": [
    {
     "name": "stdout",
     "output_type": "stream",
     "text": [
      "r2 = 0.40498276466042094\n"
     ]
    }
   ],
   "source": [
    "model.fit(X_train_multi, y_train_multi)\n",
    "prediction_2 = model.predict(X_test_multi)\n",
    "\n",
    "r2_score_2 = r2_score(y_test_multi, prediction_2)\n",
    "print('r2 =',r2_score_2)"
   ]
  },
  {
   "attachments": {},
   "cell_type": "markdown",
   "metadata": {},
   "source": [
    "**Вывод** результат при умножении на обратимую матрицу не отличается от результа без умножения"
   ]
  },
  {
   "cell_type": "markdown",
   "metadata": {},
   "source": [
    "## 2.2.4. Прогнозирование на матрице признаков, умноженной на НЕобратимую матрицу \n",
    "<a id=\"2.2.4\"></a>"
   ]
  },
  {
   "cell_type": "code",
   "execution_count": 10,
   "metadata": {},
   "outputs": [
    {
     "name": "stdout",
     "output_type": "stream",
     "text": [
      "Проверим, равен ли определитель матрицы нулю: True\n",
      "(3750, 4)\n",
      "(1250, 4)\n",
      "(3750,)\n",
      "(1250,)\n"
     ]
    }
   ],
   "source": [
    "# создадим необратимую матрицу\n",
    "sing_matrix = np.array([[0,1,1,1],[1,1,1,1],[1,1,1,1],[1,1,1,1]])\n",
    "#B_inv = np.linalg.inv(B) \n",
    "\n",
    "print('Проверим, равен ли определитель матрицы нулю:', np.linalg.det(sing_matrix)==0)\n",
    "\n",
    "# умножим ранее отмасштмабированные признаки на НЕобратимую матрицу\n",
    "features_scaled_mutiplied_sing = features_scaled.dot(sing_matrix)\n",
    "target = df['Страховые выплаты']\n",
    "\n",
    "X_train_multi_sing, X_test_multi_sing, y_train_multi_sing, y_test_multi_sing = train_test_split(features_scaled_mutiplied_sing, target, random_state = 2)\n",
    "\n",
    "print(X_train_multi_sing.shape)\n",
    "print(X_test_multi_sing.shape)\n",
    "print(y_train_multi_sing.shape)\n",
    "print(y_test_multi_sing.shape)"
   ]
  },
  {
   "cell_type": "code",
   "execution_count": 12,
   "metadata": {},
   "outputs": [
    {
     "name": "stdout",
     "output_type": "stream",
     "text": [
      "r2 = 0.12984892573149442\n"
     ]
    }
   ],
   "source": [
    "model.fit(X_train_multi_sing, y_train_multi_sing)\n",
    "prediction_3 = model.predict(X_test_multi_sing)\n",
    "\n",
    "r2_score_3 = r2_score(y_test_multi_sing, prediction_3)\n",
    "print('r2 =',r2_score_3)"
   ]
  },
  {
   "cell_type": "markdown",
   "metadata": {},
   "source": [
    "## 3. Выводы\n",
    "<a id=\"3\"></a>"
   ]
  },
  {
   "attachments": {},
   "cell_type": "markdown",
   "metadata": {},
   "source": [
    "В рамаках данного проекта было доказано аналитически и эмпирически, что при прогнозировании при помощи линейной регрессии при умножении исходных признаков на обратимую матрицу вектор предсказаний остается неизменным. И наоборот, при умножении на сингулярную матрицу (не обратимую) вектор предсказаний отличается. В случае домножения матрицы признаков на случайную обратимую матрицу можно обеспечить защиту данных."
   ]
  },
  {
   "cell_type": "markdown",
   "metadata": {},
   "source": [
    "## Чек-лист проверки"
   ]
  },
  {
   "cell_type": "markdown",
   "metadata": {},
   "source": [
    "Поставьте 'x' в выполненных пунктах. Далее нажмите Shift+Enter."
   ]
  },
  {
   "cell_type": "markdown",
   "metadata": {},
   "source": [
    "- [ ]  Jupyter Notebook открыт\n",
    "- [ ]  Весь код выполняется без ошибок\n",
    "- [ ]  Ячейки с кодом расположены в порядке исполнения\n",
    "- [ ]  Выполнен шаг 1: данные загружены\n",
    "- [ ]  Выполнен шаг 2: получен ответ на вопрос об умножении матриц\n",
    "    - [ ]  Указан правильный вариант ответа\n",
    "    - [ ]  Вариант обоснован\n",
    "- [ ]  Выполнен шаг 3: предложен алгоритм преобразования\n",
    "    - [ ]  Алгоритм описан\n",
    "    - [ ]  Алгоритм обоснован\n",
    "- [ ]  Выполнен шаг 4: алгоритм проверен\n",
    "    - [ ]  Алгоритм реализован\n",
    "    - [ ]  Проведено сравнение качества моделей до и после преобразования"
   ]
  }
 ],
 "metadata": {
  "ExecuteTimeLog": [
   {
    "duration": 1167,
    "start_time": "2022-06-25T16:37:20.480Z"
   },
   {
    "duration": 74,
    "start_time": "2022-06-25T16:37:21.649Z"
   },
   {
    "duration": 23,
    "start_time": "2022-06-25T16:37:21.725Z"
   },
   {
    "duration": 27,
    "start_time": "2022-06-25T16:37:21.750Z"
   },
   {
    "duration": 5,
    "start_time": "2022-06-25T16:37:21.780Z"
   },
   {
    "duration": 8,
    "start_time": "2022-06-25T16:37:21.787Z"
   },
   {
    "duration": 7,
    "start_time": "2022-06-25T16:37:21.796Z"
   },
   {
    "duration": 16,
    "start_time": "2022-06-25T16:37:21.804Z"
   },
   {
    "duration": 6,
    "start_time": "2022-06-25T16:37:21.822Z"
   },
   {
    "duration": 105,
    "start_time": "2022-06-25T16:54:33.214Z"
   },
   {
    "duration": 5,
    "start_time": "2022-06-25T16:54:40.198Z"
   },
   {
    "duration": 4,
    "start_time": "2022-06-25T16:54:47.700Z"
   },
   {
    "duration": 92,
    "start_time": "2022-06-25T16:54:47.706Z"
   },
   {
    "duration": 17,
    "start_time": "2022-06-25T16:54:47.800Z"
   },
   {
    "duration": 11,
    "start_time": "2022-06-25T16:54:47.818Z"
   },
   {
    "duration": 5,
    "start_time": "2022-06-25T16:54:49.801Z"
   },
   {
    "duration": 5,
    "start_time": "2022-06-25T16:54:51.915Z"
   },
   {
    "duration": 5,
    "start_time": "2022-06-25T16:55:48.555Z"
   },
   {
    "duration": 1269,
    "start_time": "2022-06-25T16:56:06.799Z"
   },
   {
    "duration": 66,
    "start_time": "2022-06-25T16:56:08.072Z"
   },
   {
    "duration": 38,
    "start_time": "2022-06-25T16:56:08.140Z"
   },
   {
    "duration": 13,
    "start_time": "2022-06-25T16:56:08.185Z"
   },
   {
    "duration": 8,
    "start_time": "2022-06-25T16:56:08.201Z"
   },
   {
    "duration": 8,
    "start_time": "2022-06-25T16:56:08.211Z"
   },
   {
    "duration": 8,
    "start_time": "2022-06-25T16:56:08.221Z"
   },
   {
    "duration": 10,
    "start_time": "2022-06-25T16:56:08.230Z"
   },
   {
    "duration": 44,
    "start_time": "2022-06-25T16:56:08.242Z"
   },
   {
    "duration": 13,
    "start_time": "2022-06-25T16:56:08.288Z"
   },
   {
    "duration": 1146,
    "start_time": "2022-06-25T16:56:34.546Z"
   },
   {
    "duration": 67,
    "start_time": "2022-06-25T16:56:35.694Z"
   },
   {
    "duration": 28,
    "start_time": "2022-06-25T16:56:35.763Z"
   },
   {
    "duration": 14,
    "start_time": "2022-06-25T16:56:35.792Z"
   },
   {
    "duration": 9,
    "start_time": "2022-06-25T16:56:35.808Z"
   },
   {
    "duration": 7,
    "start_time": "2022-06-25T16:56:35.818Z"
   },
   {
    "duration": 7,
    "start_time": "2022-06-25T16:56:35.826Z"
   },
   {
    "duration": 19,
    "start_time": "2022-06-25T16:56:35.834Z"
   },
   {
    "duration": 22,
    "start_time": "2022-06-25T16:56:35.855Z"
   },
   {
    "duration": 21,
    "start_time": "2022-06-25T16:56:35.879Z"
   },
   {
    "duration": 1138,
    "start_time": "2022-06-25T16:56:56.155Z"
   },
   {
    "duration": 59,
    "start_time": "2022-06-25T16:56:57.296Z"
   },
   {
    "duration": 29,
    "start_time": "2022-06-25T16:56:57.357Z"
   },
   {
    "duration": 13,
    "start_time": "2022-06-25T16:56:57.388Z"
   },
   {
    "duration": 8,
    "start_time": "2022-06-25T16:56:57.403Z"
   },
   {
    "duration": 8,
    "start_time": "2022-06-25T16:56:57.412Z"
   },
   {
    "duration": 5,
    "start_time": "2022-06-25T16:56:57.421Z"
   },
   {
    "duration": 6,
    "start_time": "2022-06-25T16:56:57.428Z"
   },
   {
    "duration": 35,
    "start_time": "2022-06-25T16:56:57.436Z"
   },
   {
    "duration": 20,
    "start_time": "2022-06-25T16:56:57.474Z"
   },
   {
    "duration": 105,
    "start_time": "2022-06-25T17:42:43.026Z"
   }
  ],
  "kernelspec": {
   "display_name": "Python 3",
   "language": "python",
   "name": "python3"
  },
  "language_info": {
   "codemirror_mode": {
    "name": "ipython",
    "version": 3
   },
   "file_extension": ".py",
   "mimetype": "text/x-python",
   "name": "python",
   "nbconvert_exporter": "python",
   "pygments_lexer": "ipython3",
   "version": "3.10.4"
  },
  "toc": {
   "base_numbering": 1,
   "nav_menu": {},
   "number_sections": true,
   "sideBar": true,
   "skip_h1_title": true,
   "title_cell": "Содержание",
   "title_sidebar": "Contents",
   "toc_cell": true,
   "toc_position": {},
   "toc_section_display": true,
   "toc_window_display": true
  },
  "vscode": {
   "interpreter": {
    "hash": "0bf3a1cd1c4c29a04bc938f690371d31331373ccb63747ebc28ee3cc71b338c6"
   }
  }
 },
 "nbformat": 4,
 "nbformat_minor": 4
}
