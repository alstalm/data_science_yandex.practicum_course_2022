{
 "cells": [
  {
   "cell_type": "markdown",
   "metadata": {},
   "source": [
    "# Исследование надежности заемщиков."
   ]
  },
  {
   "cell_type": "markdown",
   "metadata": {},
   "source": [
    "### Краткое описание"
   ]
  },
  {
   "cell_type": "markdown",
   "metadata": {},
   "source": [
    "В данной работе проведена предварительная обработка и очистка данных (см.[Предобработка данных](#step_2)) , категоризация таких параметров, как цель дохода ([Категоризация дохода](#step_2.6)) и цель кредита ([Категоризация целей кредита](#step_2.7)), а так же получены ответы и сделаны предварительные выводы по ряду вопросов ([Ответы на вопросы.](#step_3))"
   ]
  },
  {
   "cell_type": "markdown",
   "metadata": {},
   "source": [
    "### Оглавление"
   ]
  },
  {
   "cell_type": "markdown",
   "metadata": {},
   "source": [
    "1. [Обзор данных](#step_1)\n",
    "2. [Предобработка данных¶](#step_2)\n",
    "    * [Проверка данных на аномалии и исправления](#step_2.2)\n",
    "    * [Заполнение пропусков](#step_2.1)\n",
    "    * [Изменение типов данных](#step_2.3)\n",
    "    * [Удаление дубликатов](#step_2.4)\n",
    "    * [Формирование дополнительных датафреймов словарей, декомпозиция исходного датафрейма](#step_2.5)\n",
    "    * [Категоризация дохода](#step_2.6)\n",
    "    * [Категоризация целей кредита](#step_2.7)\n",
    "3. [Ответы на вопросы.](#step_3)\n",
    "    * [Вопрос 1: Есть ли зависимость между количеством детей и возвратом кредита в срок?](#step_3.1)\n",
    "    * [Вопрос 2: Есть ли зависимость между семейным положением и возвратом кредита в срок?](#step_3.2)\n",
    "    * [Вопрос 3: Есть ли зависимость между уровнем дохода и возвратом кредита в срок?](#step_3.3)\n",
    "    * [Вопрос 4: Как разные цели кредита влияют на его возврат в срок?](#step_3.4)\n",
    "4. [Общий вывод](#step_4)"
   ]
  },
  {
   "cell_type": "markdown",
   "metadata": {},
   "source": [
    "<a id=\"step_1\"></a>\n",
    "### Шаг 1. Обзор данных "
   ]
  },
  {
   "cell_type": "code",
   "execution_count": 1,
   "metadata": {},
   "outputs": [],
   "source": [
    "import pandas as pd\n",
    "import numpy as np\n",
    "import seaborn as sns\n",
    "from matplotlib import pyplot as plt\n",
    "import os"
   ]
  },
  {
   "cell_type": "code",
   "execution_count": 2,
   "metadata": {
    "scrolled": true
   },
   "outputs": [
    {
     "data": {
      "text/html": [
       "<div>\n",
       "<style scoped>\n",
       "    .dataframe tbody tr th:only-of-type {\n",
       "        vertical-align: middle;\n",
       "    }\n",
       "\n",
       "    .dataframe tbody tr th {\n",
       "        vertical-align: top;\n",
       "    }\n",
       "\n",
       "    .dataframe thead th {\n",
       "        text-align: right;\n",
       "    }\n",
       "</style>\n",
       "<table border=\"1\" class=\"dataframe\">\n",
       "  <thead>\n",
       "    <tr style=\"text-align: right;\">\n",
       "      <th></th>\n",
       "      <th>children</th>\n",
       "      <th>days_employed</th>\n",
       "      <th>dob_years</th>\n",
       "      <th>education</th>\n",
       "      <th>education_id</th>\n",
       "      <th>family_status</th>\n",
       "      <th>family_status_id</th>\n",
       "      <th>gender</th>\n",
       "      <th>income_type</th>\n",
       "      <th>debt</th>\n",
       "      <th>total_income</th>\n",
       "      <th>purpose</th>\n",
       "    </tr>\n",
       "  </thead>\n",
       "  <tbody>\n",
       "    <tr>\n",
       "      <td>0</td>\n",
       "      <td>1</td>\n",
       "      <td>-8437.673028</td>\n",
       "      <td>42</td>\n",
       "      <td>высшее</td>\n",
       "      <td>0</td>\n",
       "      <td>женат / замужем</td>\n",
       "      <td>0</td>\n",
       "      <td>F</td>\n",
       "      <td>сотрудник</td>\n",
       "      <td>0</td>\n",
       "      <td>253875.639453</td>\n",
       "      <td>покупка жилья</td>\n",
       "    </tr>\n",
       "    <tr>\n",
       "      <td>1</td>\n",
       "      <td>1</td>\n",
       "      <td>-4024.803754</td>\n",
       "      <td>36</td>\n",
       "      <td>среднее</td>\n",
       "      <td>1</td>\n",
       "      <td>женат / замужем</td>\n",
       "      <td>0</td>\n",
       "      <td>F</td>\n",
       "      <td>сотрудник</td>\n",
       "      <td>0</td>\n",
       "      <td>112080.014102</td>\n",
       "      <td>приобретение автомобиля</td>\n",
       "    </tr>\n",
       "    <tr>\n",
       "      <td>2</td>\n",
       "      <td>0</td>\n",
       "      <td>-5623.422610</td>\n",
       "      <td>33</td>\n",
       "      <td>Среднее</td>\n",
       "      <td>1</td>\n",
       "      <td>женат / замужем</td>\n",
       "      <td>0</td>\n",
       "      <td>M</td>\n",
       "      <td>сотрудник</td>\n",
       "      <td>0</td>\n",
       "      <td>145885.952297</td>\n",
       "      <td>покупка жилья</td>\n",
       "    </tr>\n",
       "    <tr>\n",
       "      <td>3</td>\n",
       "      <td>3</td>\n",
       "      <td>-4124.747207</td>\n",
       "      <td>32</td>\n",
       "      <td>среднее</td>\n",
       "      <td>1</td>\n",
       "      <td>женат / замужем</td>\n",
       "      <td>0</td>\n",
       "      <td>M</td>\n",
       "      <td>сотрудник</td>\n",
       "      <td>0</td>\n",
       "      <td>267628.550329</td>\n",
       "      <td>дополнительное образование</td>\n",
       "    </tr>\n",
       "    <tr>\n",
       "      <td>4</td>\n",
       "      <td>0</td>\n",
       "      <td>340266.072047</td>\n",
       "      <td>53</td>\n",
       "      <td>среднее</td>\n",
       "      <td>1</td>\n",
       "      <td>гражданский брак</td>\n",
       "      <td>1</td>\n",
       "      <td>F</td>\n",
       "      <td>пенсионер</td>\n",
       "      <td>0</td>\n",
       "      <td>158616.077870</td>\n",
       "      <td>сыграть свадьбу</td>\n",
       "    </tr>\n",
       "  </tbody>\n",
       "</table>\n",
       "</div>"
      ],
      "text/plain": [
       "   children  days_employed  dob_years education  education_id  \\\n",
       "0         1   -8437.673028         42    высшее             0   \n",
       "1         1   -4024.803754         36   среднее             1   \n",
       "2         0   -5623.422610         33   Среднее             1   \n",
       "3         3   -4124.747207         32   среднее             1   \n",
       "4         0  340266.072047         53   среднее             1   \n",
       "\n",
       "      family_status  family_status_id gender income_type  debt   total_income  \\\n",
       "0   женат / замужем                 0      F   сотрудник     0  253875.639453   \n",
       "1   женат / замужем                 0      F   сотрудник     0  112080.014102   \n",
       "2   женат / замужем                 0      M   сотрудник     0  145885.952297   \n",
       "3   женат / замужем                 0      M   сотрудник     0  267628.550329   \n",
       "4  гражданский брак                 1      F   пенсионер     0  158616.077870   \n",
       "\n",
       "                      purpose  \n",
       "0               покупка жилья  \n",
       "1     приобретение автомобиля  \n",
       "2               покупка жилья  \n",
       "3  дополнительное образование  \n",
       "4             сыграть свадьбу  "
      ]
     },
     "execution_count": 2,
     "metadata": {},
     "output_type": "execute_result"
    }
   ],
   "source": [
    "pth = '/datasets/data.csv' \n",
    "\n",
    "if os.path.exists(pth):\n",
    "    df = pd.read_csv(pth)\n",
    "else:\n",
    "    print('path to file is wrong')  \n",
    "          \n",
    "df.head()"
   ]
  },
  {
   "cell_type": "code",
   "execution_count": 3,
   "metadata": {},
   "outputs": [
    {
     "name": "stdout",
     "output_type": "stream",
     "text": [
      "<class 'pandas.core.frame.DataFrame'>\n",
      "RangeIndex: 21525 entries, 0 to 21524\n",
      "Data columns (total 12 columns):\n",
      "children            21525 non-null int64\n",
      "days_employed       19351 non-null float64\n",
      "dob_years           21525 non-null int64\n",
      "education           21525 non-null object\n",
      "education_id        21525 non-null int64\n",
      "family_status       21525 non-null object\n",
      "family_status_id    21525 non-null int64\n",
      "gender              21525 non-null object\n",
      "income_type         21525 non-null object\n",
      "debt                21525 non-null int64\n",
      "total_income        19351 non-null float64\n",
      "purpose             21525 non-null object\n",
      "dtypes: float64(2), int64(5), object(5)\n",
      "memory usage: 2.0+ MB\n"
     ]
    }
   ],
   "source": [
    "df.info()"
   ]
  },
  {
   "cell_type": "markdown",
   "metadata": {},
   "source": [
    "посмотрим на описательную статистику и заметим отрицательные значения в столбцах 'children' и 'days_employed'"
   ]
  },
  {
   "cell_type": "code",
   "execution_count": 4,
   "metadata": {},
   "outputs": [
    {
     "data": {
      "text/html": [
       "<div>\n",
       "<style scoped>\n",
       "    .dataframe tbody tr th:only-of-type {\n",
       "        vertical-align: middle;\n",
       "    }\n",
       "\n",
       "    .dataframe tbody tr th {\n",
       "        vertical-align: top;\n",
       "    }\n",
       "\n",
       "    .dataframe thead th {\n",
       "        text-align: right;\n",
       "    }\n",
       "</style>\n",
       "<table border=\"1\" class=\"dataframe\">\n",
       "  <thead>\n",
       "    <tr style=\"text-align: right;\">\n",
       "      <th></th>\n",
       "      <th>children</th>\n",
       "      <th>days_employed</th>\n",
       "      <th>dob_years</th>\n",
       "      <th>education_id</th>\n",
       "      <th>family_status_id</th>\n",
       "      <th>debt</th>\n",
       "      <th>total_income</th>\n",
       "    </tr>\n",
       "  </thead>\n",
       "  <tbody>\n",
       "    <tr>\n",
       "      <td>count</td>\n",
       "      <td>21525.000000</td>\n",
       "      <td>19351.000000</td>\n",
       "      <td>21525.000000</td>\n",
       "      <td>21525.000000</td>\n",
       "      <td>21525.000000</td>\n",
       "      <td>21525.000000</td>\n",
       "      <td>1.935100e+04</td>\n",
       "    </tr>\n",
       "    <tr>\n",
       "      <td>mean</td>\n",
       "      <td>0.538908</td>\n",
       "      <td>63046.497661</td>\n",
       "      <td>43.293380</td>\n",
       "      <td>0.817236</td>\n",
       "      <td>0.972544</td>\n",
       "      <td>0.080883</td>\n",
       "      <td>1.674223e+05</td>\n",
       "    </tr>\n",
       "    <tr>\n",
       "      <td>std</td>\n",
       "      <td>1.381587</td>\n",
       "      <td>140827.311974</td>\n",
       "      <td>12.574584</td>\n",
       "      <td>0.548138</td>\n",
       "      <td>1.420324</td>\n",
       "      <td>0.272661</td>\n",
       "      <td>1.029716e+05</td>\n",
       "    </tr>\n",
       "    <tr>\n",
       "      <td>min</td>\n",
       "      <td>-1.000000</td>\n",
       "      <td>-18388.949901</td>\n",
       "      <td>0.000000</td>\n",
       "      <td>0.000000</td>\n",
       "      <td>0.000000</td>\n",
       "      <td>0.000000</td>\n",
       "      <td>2.066726e+04</td>\n",
       "    </tr>\n",
       "    <tr>\n",
       "      <td>25%</td>\n",
       "      <td>0.000000</td>\n",
       "      <td>-2747.423625</td>\n",
       "      <td>33.000000</td>\n",
       "      <td>1.000000</td>\n",
       "      <td>0.000000</td>\n",
       "      <td>0.000000</td>\n",
       "      <td>1.030532e+05</td>\n",
       "    </tr>\n",
       "    <tr>\n",
       "      <td>50%</td>\n",
       "      <td>0.000000</td>\n",
       "      <td>-1203.369529</td>\n",
       "      <td>42.000000</td>\n",
       "      <td>1.000000</td>\n",
       "      <td>0.000000</td>\n",
       "      <td>0.000000</td>\n",
       "      <td>1.450179e+05</td>\n",
       "    </tr>\n",
       "    <tr>\n",
       "      <td>75%</td>\n",
       "      <td>1.000000</td>\n",
       "      <td>-291.095954</td>\n",
       "      <td>53.000000</td>\n",
       "      <td>1.000000</td>\n",
       "      <td>1.000000</td>\n",
       "      <td>0.000000</td>\n",
       "      <td>2.034351e+05</td>\n",
       "    </tr>\n",
       "    <tr>\n",
       "      <td>max</td>\n",
       "      <td>20.000000</td>\n",
       "      <td>401755.400475</td>\n",
       "      <td>75.000000</td>\n",
       "      <td>4.000000</td>\n",
       "      <td>4.000000</td>\n",
       "      <td>1.000000</td>\n",
       "      <td>2.265604e+06</td>\n",
       "    </tr>\n",
       "  </tbody>\n",
       "</table>\n",
       "</div>"
      ],
      "text/plain": [
       "           children  days_employed     dob_years  education_id  \\\n",
       "count  21525.000000   19351.000000  21525.000000  21525.000000   \n",
       "mean       0.538908   63046.497661     43.293380      0.817236   \n",
       "std        1.381587  140827.311974     12.574584      0.548138   \n",
       "min       -1.000000  -18388.949901      0.000000      0.000000   \n",
       "25%        0.000000   -2747.423625     33.000000      1.000000   \n",
       "50%        0.000000   -1203.369529     42.000000      1.000000   \n",
       "75%        1.000000    -291.095954     53.000000      1.000000   \n",
       "max       20.000000  401755.400475     75.000000      4.000000   \n",
       "\n",
       "       family_status_id          debt  total_income  \n",
       "count      21525.000000  21525.000000  1.935100e+04  \n",
       "mean           0.972544      0.080883  1.674223e+05  \n",
       "std            1.420324      0.272661  1.029716e+05  \n",
       "min            0.000000      0.000000  2.066726e+04  \n",
       "25%            0.000000      0.000000  1.030532e+05  \n",
       "50%            0.000000      0.000000  1.450179e+05  \n",
       "75%            1.000000      0.000000  2.034351e+05  \n",
       "max            4.000000      1.000000  2.265604e+06  "
      ]
     },
     "execution_count": 4,
     "metadata": {},
     "output_type": "execute_result"
    }
   ],
   "source": [
    "df.describe()"
   ]
  },
  {
   "cell_type": "markdown",
   "metadata": {},
   "source": [
    "в связи с чем, для корректного расчета медиан, сперва необходимо привести к адекватному значению. поэтому далее будет пункт не по порядку"
   ]
  },
  {
   "cell_type": "markdown",
   "metadata": {},
   "source": [
    "<a id=\"step_2\"></a>\n",
    "## Шаг 2 Предобработка данных"
   ]
  },
  {
   "cell_type": "markdown",
   "metadata": {},
   "source": [
    "<a id=\"step_2.2\"></a>\n",
    "### Шаг 2.2 Проверка данных на аномалии и исправления."
   ]
  },
  {
   "cell_type": "markdown",
   "metadata": {},
   "source": [
    "Итак, что мы видим:\n",
    "1. в столбцах '*children*' и '*days_employed*' встречается отрицательное значение, что явно ошибка\n",
    "2. значение 20 в столбце '*children*' вроде не то чтобы \"ок\".. будем \"посмотреть\"\n",
    "3. в столбце 'dob_years' (возраст клиента в годах) - встречается 0, что так же не ок.\n",
    "4. со столбцами *'education_id'*,\t*'family_status_id'* и\t*'debt'*\tна первый взгляд вроде все порядке. значения лежат от 0 до 4 для *'education_id'* и\t*'family_status_id'* и от 0 до 1 для *'debt'*\n",
    "5. *'total_income'* отрицательных значений не принимает (и на том спасибо:)\n",
    "\n"
   ]
  },
  {
   "cell_type": "markdown",
   "metadata": {},
   "source": [
    "Оценим масштабы трагедии по п.1-3 "
   ]
  },
  {
   "cell_type": "code",
   "execution_count": 5,
   "metadata": {},
   "outputs": [
    {
     "name": "stdout",
     "output_type": "stream",
     "text": [
      "число записей, где количество детей в семье < 0 составляет: 47\n",
      "число записей, где общий трудовой стаж в днях < 0 составляет: 15906\n"
     ]
    }
   ],
   "source": [
    "# п.1 из шага 2.2 (подсчет количества)\n",
    "print('число записей, где количество детей в семье < 0 составляет:' , len(df[df['children']<0]))\n",
    "print('число записей, где общий трудовой стаж в днях < 0 составляет:' , len(df[df['days_employed']<0]))"
   ]
  },
  {
   "cell_type": "markdown",
   "metadata": {},
   "source": [
    "посмотрим на этих \"антиподов\" (может просто они все из Австралии, кстати..)"
   ]
  },
  {
   "cell_type": "code",
   "execution_count": 6,
   "metadata": {},
   "outputs": [
    {
     "data": {
      "text/html": [
       "<div>\n",
       "<style scoped>\n",
       "    .dataframe tbody tr th:only-of-type {\n",
       "        vertical-align: middle;\n",
       "    }\n",
       "\n",
       "    .dataframe tbody tr th {\n",
       "        vertical-align: top;\n",
       "    }\n",
       "\n",
       "    .dataframe thead th {\n",
       "        text-align: right;\n",
       "    }\n",
       "</style>\n",
       "<table border=\"1\" class=\"dataframe\">\n",
       "  <thead>\n",
       "    <tr style=\"text-align: right;\">\n",
       "      <th></th>\n",
       "      <th>children</th>\n",
       "      <th>days_employed</th>\n",
       "      <th>dob_years</th>\n",
       "      <th>education</th>\n",
       "      <th>education_id</th>\n",
       "      <th>family_status</th>\n",
       "      <th>family_status_id</th>\n",
       "      <th>gender</th>\n",
       "      <th>income_type</th>\n",
       "      <th>debt</th>\n",
       "      <th>total_income</th>\n",
       "      <th>purpose</th>\n",
       "    </tr>\n",
       "  </thead>\n",
       "  <tbody>\n",
       "    <tr>\n",
       "      <td>291</td>\n",
       "      <td>-1</td>\n",
       "      <td>-4417.703588</td>\n",
       "      <td>46</td>\n",
       "      <td>среднее</td>\n",
       "      <td>1</td>\n",
       "      <td>гражданский брак</td>\n",
       "      <td>1</td>\n",
       "      <td>F</td>\n",
       "      <td>сотрудник</td>\n",
       "      <td>0</td>\n",
       "      <td>102816.346412</td>\n",
       "      <td>профильное образование</td>\n",
       "    </tr>\n",
       "    <tr>\n",
       "      <td>705</td>\n",
       "      <td>-1</td>\n",
       "      <td>-902.084528</td>\n",
       "      <td>50</td>\n",
       "      <td>среднее</td>\n",
       "      <td>1</td>\n",
       "      <td>женат / замужем</td>\n",
       "      <td>0</td>\n",
       "      <td>F</td>\n",
       "      <td>госслужащий</td>\n",
       "      <td>0</td>\n",
       "      <td>137882.899271</td>\n",
       "      <td>приобретение автомобиля</td>\n",
       "    </tr>\n",
       "  </tbody>\n",
       "</table>\n",
       "</div>"
      ],
      "text/plain": [
       "     children  days_employed  dob_years education  education_id  \\\n",
       "291        -1   -4417.703588         46   среднее             1   \n",
       "705        -1    -902.084528         50   среднее             1   \n",
       "\n",
       "        family_status  family_status_id gender  income_type  debt  \\\n",
       "291  гражданский брак                 1      F    сотрудник     0   \n",
       "705   женат / замужем                 0      F  госслужащий     0   \n",
       "\n",
       "      total_income                  purpose  \n",
       "291  102816.346412   профильное образование  \n",
       "705  137882.899271  приобретение автомобиля  "
      ]
     },
     "metadata": {},
     "output_type": "display_data"
    },
    {
     "name": "stdout",
     "output_type": "stream",
     "text": [
      "----------------------------------------\n"
     ]
    },
    {
     "data": {
      "text/html": [
       "<div>\n",
       "<style scoped>\n",
       "    .dataframe tbody tr th:only-of-type {\n",
       "        vertical-align: middle;\n",
       "    }\n",
       "\n",
       "    .dataframe tbody tr th {\n",
       "        vertical-align: top;\n",
       "    }\n",
       "\n",
       "    .dataframe thead th {\n",
       "        text-align: right;\n",
       "    }\n",
       "</style>\n",
       "<table border=\"1\" class=\"dataframe\">\n",
       "  <thead>\n",
       "    <tr style=\"text-align: right;\">\n",
       "      <th></th>\n",
       "      <th>children</th>\n",
       "      <th>days_employed</th>\n",
       "      <th>dob_years</th>\n",
       "      <th>education</th>\n",
       "      <th>education_id</th>\n",
       "      <th>family_status</th>\n",
       "      <th>family_status_id</th>\n",
       "      <th>gender</th>\n",
       "      <th>income_type</th>\n",
       "      <th>debt</th>\n",
       "      <th>total_income</th>\n",
       "      <th>purpose</th>\n",
       "    </tr>\n",
       "  </thead>\n",
       "  <tbody>\n",
       "    <tr>\n",
       "      <td>0</td>\n",
       "      <td>1</td>\n",
       "      <td>-8437.673028</td>\n",
       "      <td>42</td>\n",
       "      <td>высшее</td>\n",
       "      <td>0</td>\n",
       "      <td>женат / замужем</td>\n",
       "      <td>0</td>\n",
       "      <td>F</td>\n",
       "      <td>сотрудник</td>\n",
       "      <td>0</td>\n",
       "      <td>253875.639453</td>\n",
       "      <td>покупка жилья</td>\n",
       "    </tr>\n",
       "    <tr>\n",
       "      <td>1</td>\n",
       "      <td>1</td>\n",
       "      <td>-4024.803754</td>\n",
       "      <td>36</td>\n",
       "      <td>среднее</td>\n",
       "      <td>1</td>\n",
       "      <td>женат / замужем</td>\n",
       "      <td>0</td>\n",
       "      <td>F</td>\n",
       "      <td>сотрудник</td>\n",
       "      <td>0</td>\n",
       "      <td>112080.014102</td>\n",
       "      <td>приобретение автомобиля</td>\n",
       "    </tr>\n",
       "  </tbody>\n",
       "</table>\n",
       "</div>"
      ],
      "text/plain": [
       "   children  days_employed  dob_years education  education_id  \\\n",
       "0         1   -8437.673028         42    высшее             0   \n",
       "1         1   -4024.803754         36   среднее             1   \n",
       "\n",
       "     family_status  family_status_id gender income_type  debt   total_income  \\\n",
       "0  женат / замужем                 0      F   сотрудник     0  253875.639453   \n",
       "1  женат / замужем                 0      F   сотрудник     0  112080.014102   \n",
       "\n",
       "                   purpose  \n",
       "0            покупка жилья  \n",
       "1  приобретение автомобиля  "
      ]
     },
     "metadata": {},
     "output_type": "display_data"
    }
   ],
   "source": [
    "# п.1 из шага 2.2 (просмотр фрагмента таблицы)\n",
    "display(df[df['children']<0].head(2))\n",
    "print('-'*40)\n",
    "display(df[df['days_employed']<0].head(2))"
   ]
  },
  {
   "cell_type": "markdown",
   "metadata": {},
   "source": [
    "выглядит как будто кто-то вбивал руками значения в строчку, а потом это как-то \"странно\" распарсилось. По хорошему бы уточнить с чем это могло бы быть связано, но имеем что имеем, поэтому тут видимо ничего не остается ничего, кроме как взять модуль от значения. Ну не удалять же из датасета в 21525 значений 15906 из них... очень похоже что знак \"тире\" как \"минус\" был воспринят. То же самое и про столбец 'children' видимо..\n"
   ]
  },
  {
   "cell_type": "code",
   "execution_count": 7,
   "metadata": {},
   "outputs": [
    {
     "data": {
      "text/html": [
       "<div>\n",
       "<style scoped>\n",
       "    .dataframe tbody tr th:only-of-type {\n",
       "        vertical-align: middle;\n",
       "    }\n",
       "\n",
       "    .dataframe tbody tr th {\n",
       "        vertical-align: top;\n",
       "    }\n",
       "\n",
       "    .dataframe thead th {\n",
       "        text-align: right;\n",
       "    }\n",
       "</style>\n",
       "<table border=\"1\" class=\"dataframe\">\n",
       "  <thead>\n",
       "    <tr style=\"text-align: right;\">\n",
       "      <th></th>\n",
       "      <th>children</th>\n",
       "      <th>days_employed</th>\n",
       "    </tr>\n",
       "  </thead>\n",
       "  <tbody>\n",
       "    <tr>\n",
       "      <td>count</td>\n",
       "      <td>21525.000000</td>\n",
       "      <td>19351.000000</td>\n",
       "    </tr>\n",
       "    <tr>\n",
       "      <td>mean</td>\n",
       "      <td>0.538908</td>\n",
       "      <td>63046.497661</td>\n",
       "    </tr>\n",
       "    <tr>\n",
       "      <td>std</td>\n",
       "      <td>1.381587</td>\n",
       "      <td>140827.311974</td>\n",
       "    </tr>\n",
       "    <tr>\n",
       "      <td>min</td>\n",
       "      <td>-1.000000</td>\n",
       "      <td>-18388.949901</td>\n",
       "    </tr>\n",
       "    <tr>\n",
       "      <td>25%</td>\n",
       "      <td>0.000000</td>\n",
       "      <td>-2747.423625</td>\n",
       "    </tr>\n",
       "    <tr>\n",
       "      <td>50%</td>\n",
       "      <td>0.000000</td>\n",
       "      <td>-1203.369529</td>\n",
       "    </tr>\n",
       "    <tr>\n",
       "      <td>75%</td>\n",
       "      <td>1.000000</td>\n",
       "      <td>-291.095954</td>\n",
       "    </tr>\n",
       "    <tr>\n",
       "      <td>max</td>\n",
       "      <td>20.000000</td>\n",
       "      <td>401755.400475</td>\n",
       "    </tr>\n",
       "  </tbody>\n",
       "</table>\n",
       "</div>"
      ],
      "text/plain": [
       "           children  days_employed\n",
       "count  21525.000000   19351.000000\n",
       "mean       0.538908   63046.497661\n",
       "std        1.381587  140827.311974\n",
       "min       -1.000000  -18388.949901\n",
       "25%        0.000000   -2747.423625\n",
       "50%        0.000000   -1203.369529\n",
       "75%        1.000000    -291.095954\n",
       "max       20.000000  401755.400475"
      ]
     },
     "execution_count": 7,
     "metadata": {},
     "output_type": "execute_result"
    }
   ],
   "source": [
    "df[['children','days_employed']].describe()"
   ]
  },
  {
   "cell_type": "code",
   "execution_count": 8,
   "metadata": {},
   "outputs": [
    {
     "data": {
      "text/plain": [
       " 5         9\n",
       " 4        41\n",
       "-1        47\n",
       " 20       76\n",
       " 3       330\n",
       " 2      2055\n",
       " 1      4818\n",
       " 0     14149\n",
       "Name: children, dtype: int64"
      ]
     },
     "execution_count": 8,
     "metadata": {},
     "output_type": "execute_result"
    }
   ],
   "source": [
    "df['children'].value_counts().sort_values()"
   ]
  },
  {
   "cell_type": "code",
   "execution_count": 9,
   "metadata": {},
   "outputs": [
    {
     "name": "stdout",
     "output_type": "stream",
     "text": [
      "число записей, где количество детей в семье = 20 составляет: 76\n"
     ]
    }
   ],
   "source": [
    "# п.2 из шага 2.2\n",
    "print('число записей, где количество детей в семье = 20 составляет:' , len(df[df['children']==20]))"
   ]
  },
  {
   "cell_type": "markdown",
   "metadata": {},
   "source": [
    "посмотрим что с возрастом в принципе. какие значения встречаются. (в данном случае и понятнее и наглядне будет barplot)"
   ]
  },
  {
   "cell_type": "code",
   "execution_count": 10,
   "metadata": {},
   "outputs": [
    {
     "data": {
      "image/png": "[encoded data removed]",
      "text/plain": [
       "<Figure size 1152x288 with 1 Axes>"
      ]
     },
     "metadata": {
      "needs_background": "light"
     },
     "output_type": "display_data"
    }
   ],
   "source": [
    "# п.3 из шага 2.2\n",
    "ages = df['dob_years'].value_counts()\n",
    "plt.figure(figsize=(16,4))\n",
    "ax = sns.barplot(x=ages.index, y=ages)\n",
    "ax.set(xlabel='возраст', ylabel='количество записей в выборке (шт.)')\n",
    "ax.set_title(\"Распределение количества записей для каждого значения возраста\")\n",
    "plt.show()"
   ]
  },
  {
   "cell_type": "code",
   "execution_count": 11,
   "metadata": {},
   "outputs": [
    {
     "name": "stdout",
     "output_type": "stream",
     "text": [
      "а если точнее, то число записей, где \"возраст клиента в годах\" = 0 составляет: 101\n"
     ]
    }
   ],
   "source": [
    "print('а если точнее, то число записей, где \"возраст клиента в годах\" = 0 составляет:' , len(df[df['dob_years']==0]))"
   ]
  },
  {
   "cell_type": "markdown",
   "metadata": {},
   "source": [
    "Принимаемся за исправления!"
   ]
  },
  {
   "cell_type": "code",
   "execution_count": 12,
   "metadata": {},
   "outputs": [],
   "source": [
    "# п.1 из шага 2.2 - взятие модуля от числа\n",
    "df_abs = df.copy() # в этот раз обойдемся без функции. просто создадим новую переменную где не будет отрицательных значений\n",
    "df_abs['children'] = df['children'].abs()\n",
    "df_abs['days_employed'] = df['days_employed'].abs()"
   ]
  },
  {
   "cell_type": "markdown",
   "metadata": {},
   "source": [
    "Проверим как прошло преобразование"
   ]
  },
  {
   "cell_type": "code",
   "execution_count": 13,
   "metadata": {},
   "outputs": [
    {
     "name": "stdout",
     "output_type": "stream",
     "text": [
      "число записей, где количество детей в семье = -1 составляет: 0\n",
      "число записей, где общий трудовой стаж в днях < 0 составляет: 0\n"
     ]
    }
   ],
   "source": [
    "print('число записей, где количество детей в семье = -1 составляет:' , len(df_abs[df_abs['children']<0]))\n",
    "print('число записей, где общий трудовой стаж в днях < 0 составляет:' , len(df_abs[df_abs['days_employed']<0]))"
   ]
  },
  {
   "cell_type": "markdown",
   "metadata": {},
   "source": [
    "Так же надо что-то сделать с 20 детьми и 0 лет. \n",
    "Решение что с этим делать - зависит от контекста. Если есть возможность перезапросить данные - надо опросить сделать корректную выгрузку (если не сам выгружаешь). \n",
    "Если есть только то, что есть и иного не будет, то надо смотреть на score модели в случае замены на медиану или при удалении записей. \n",
    "С учетом небольшого количества параметров и относительно небольшого количества невалидных записей, предварительно считаю что пока достаточно их дропнуть. Данные будут более честными, а для обучения модели оставшегося вполне хватит.\n",
    "Итак:"
   ]
  },
  {
   "cell_type": "code",
   "execution_count": 14,
   "metadata": {},
   "outputs": [
    {
     "name": "stdout",
     "output_type": "stream",
     "text": [
      "количество записей, где возрост 0 лет: 0\n",
      "количество записей, где 20 детей: 0\n",
      "текущее количество записей: 21349\n"
     ]
    }
   ],
   "source": [
    "# п.2,3 из шага 2.2 - исключение записей с 0 лет и 20 детей из датасета\n",
    "df_abs_reduced = df_abs[df_abs['dob_years']!=0] \n",
    "df_abs_reduced = df_abs_reduced[df_abs_reduced['children']!=20]\n",
    "print('количество записей, где возрост 0 лет:', len(df_abs_reduced[df_abs_reduced['dob_years']==0]))\n",
    "print('количество записей, где 20 детей:', len(df_abs_reduced[df_abs_reduced['children']==20]))\n",
    "print('текущее количество записей:', len(df_abs_reduced))"
   ]
  },
  {
   "cell_type": "markdown",
   "metadata": {},
   "source": [
    "отлично, идем дальше!"
   ]
  },
  {
   "cell_type": "markdown",
   "metadata": {},
   "source": [
    "<a id=\"step_2.1\"></a>\n",
    "### Шаг 2.1 Заполнение пропусков"
   ]
  },
  {
   "cell_type": "markdown",
   "metadata": {},
   "source": [
    "Посмотрим на датасет перед заполнением пропусков. Все столбцы кроме 'days_employed' и 'total_income' содержат по 21349 не пустых значений.\n",
    "Столбцы 'days_employed' и 'total_income' содеражт по 19194."
   ]
  },
  {
   "cell_type": "code",
   "execution_count": 15,
   "metadata": {},
   "outputs": [
    {
     "name": "stdout",
     "output_type": "stream",
     "text": [
      "<class 'pandas.core.frame.DataFrame'>\n",
      "Int64Index: 21349 entries, 0 to 21524\n",
      "Data columns (total 12 columns):\n",
      "children            21349 non-null int64\n",
      "days_employed       19194 non-null float64\n",
      "dob_years           21349 non-null int64\n",
      "education           21349 non-null object\n",
      "education_id        21349 non-null int64\n",
      "family_status       21349 non-null object\n",
      "family_status_id    21349 non-null int64\n",
      "gender              21349 non-null object\n",
      "income_type         21349 non-null object\n",
      "debt                21349 non-null int64\n",
      "total_income        19194 non-null float64\n",
      "purpose             21349 non-null object\n",
      "dtypes: float64(2), int64(5), object(5)\n",
      "memory usage: 2.1+ MB\n"
     ]
    }
   ],
   "source": [
    "df_abs_reduced.info()"
   ]
  },
  {
   "cell_type": "code",
   "execution_count": 16,
   "metadata": {},
   "outputs": [
    {
     "name": "stdout",
     "output_type": "stream",
     "text": [
      "количество записей, где total_income не заполнен и при этом заполнен days_employed =  0\n"
     ]
    }
   ],
   "source": [
    "print('количество записей, где total_income не заполнен и при этом заполнен days_employed = ',\n",
    "      len(df_abs_reduced[(df_abs_reduced['total_income'].isna()) & \n",
    "                         (~df_abs_reduced['days_employed'].isna())]\n",
    "         )\n",
    "     )"
   ]
  },
  {
   "cell_type": "markdown",
   "metadata": {},
   "source": [
    "т.е., видимо, если не известен общий трудовой стаж (days_employed), то и ежемесячный доход является неизвестным значением, что логично если имеется ввиду средний ежемесячный доход, а не на текущем месте работы. \n",
    "С другой стороны, эти значения могут поступать из какого-то одного источника в котором по данному заемщику нет информации.\n",
    "В любом случае выгляд как будто эти данные как-то между собой связаны (или через источник или через формулу)"
   ]
  },
  {
   "cell_type": "markdown",
   "metadata": {},
   "source": [
    "посчитаем пропуски"
   ]
  },
  {
   "cell_type": "code",
   "execution_count": 17,
   "metadata": {},
   "outputs": [
    {
     "name": "stdout",
     "output_type": "stream",
     "text": [
      "Доля пропусков от общего числа всех записей составляет 10.1%\n"
     ]
    }
   ],
   "source": [
    "proportion_of_total_missing_values = len(df_abs_reduced[df_abs_reduced['total_income'].isna()])/len(df_abs_reduced)\n",
    "print(f'Доля пропусков от общего числа всех записей составляет {proportion_of_total_missing_values:.1%}')"
   ]
  },
  {
   "cell_type": "markdown",
   "metadata": {},
   "source": [
    "Заполним пропуски в полях 'total_income' и 'days_employed' медианным занченим. Попробуем заполнить с учетом 'income_type' и 'education_id', но посмотрим сперва на агрегатные значения при группировке по income_type и education_id"
   ]
  },
  {
   "cell_type": "code",
   "execution_count": 18,
   "metadata": {},
   "outputs": [
    {
     "data": {
      "text/html": [
       "<div>\n",
       "<style scoped>\n",
       "    .dataframe tbody tr th:only-of-type {\n",
       "        vertical-align: middle;\n",
       "    }\n",
       "\n",
       "    .dataframe tbody tr th {\n",
       "        vertical-align: top;\n",
       "    }\n",
       "\n",
       "    .dataframe thead th {\n",
       "        text-align: right;\n",
       "    }\n",
       "</style>\n",
       "<table border=\"1\" class=\"dataframe\">\n",
       "  <thead>\n",
       "    <tr style=\"text-align: right;\">\n",
       "      <th></th>\n",
       "      <th></th>\n",
       "      <th>median</th>\n",
       "      <th>mean</th>\n",
       "      <th>count</th>\n",
       "    </tr>\n",
       "    <tr>\n",
       "      <th>income_type</th>\n",
       "      <th>education_id</th>\n",
       "      <th></th>\n",
       "      <th></th>\n",
       "      <th></th>\n",
       "    </tr>\n",
       "  </thead>\n",
       "  <tbody>\n",
       "    <tr>\n",
       "      <td rowspan=\"2\" valign=\"top\">безработный</td>\n",
       "      <td>0</td>\n",
       "      <td>202722.511368</td>\n",
       "      <td>202722.511368</td>\n",
       "      <td>1</td>\n",
       "    </tr>\n",
       "    <tr>\n",
       "      <td>1</td>\n",
       "      <td>59956.991984</td>\n",
       "      <td>59956.991984</td>\n",
       "      <td>1</td>\n",
       "    </tr>\n",
       "    <tr>\n",
       "      <td>в декрете</td>\n",
       "      <td>1</td>\n",
       "      <td>53829.130729</td>\n",
       "      <td>53829.130729</td>\n",
       "      <td>1</td>\n",
       "    </tr>\n",
       "    <tr>\n",
       "      <td rowspan=\"5\" valign=\"top\">госслужащий</td>\n",
       "      <td>0</td>\n",
       "      <td>172511.107016</td>\n",
       "      <td>197612.178874</td>\n",
       "      <td>484</td>\n",
       "    </tr>\n",
       "    <tr>\n",
       "      <td>1</td>\n",
       "      <td>136803.501484</td>\n",
       "      <td>154016.630639</td>\n",
       "      <td>768</td>\n",
       "    </tr>\n",
       "    <tr>\n",
       "      <td>2</td>\n",
       "      <td>160592.345303</td>\n",
       "      <td>172476.953367</td>\n",
       "      <td>46</td>\n",
       "    </tr>\n",
       "    <tr>\n",
       "      <td>3</td>\n",
       "      <td>148339.290825</td>\n",
       "      <td>184056.353037</td>\n",
       "      <td>6</td>\n",
       "    </tr>\n",
       "    <tr>\n",
       "      <td>4</td>\n",
       "      <td>111392.231107</td>\n",
       "      <td>111392.231107</td>\n",
       "      <td>1</td>\n",
       "    </tr>\n",
       "    <tr>\n",
       "      <td rowspan=\"4\" valign=\"top\">компаньон</td>\n",
       "      <td>0</td>\n",
       "      <td>201785.400018</td>\n",
       "      <td>242783.907490</td>\n",
       "      <td>1584</td>\n",
       "    </tr>\n",
       "    <tr>\n",
       "      <td>1</td>\n",
       "      <td>159070.690289</td>\n",
       "      <td>179582.781409</td>\n",
       "      <td>2667</td>\n",
       "    </tr>\n",
       "    <tr>\n",
       "      <td>2</td>\n",
       "      <td>179937.527982</td>\n",
       "      <td>197896.757732</td>\n",
       "      <td>260</td>\n",
       "    </tr>\n",
       "    <tr>\n",
       "      <td>3</td>\n",
       "      <td>136798.905143</td>\n",
       "      <td>165057.030695</td>\n",
       "      <td>29</td>\n",
       "    </tr>\n",
       "    <tr>\n",
       "      <td rowspan=\"5\" valign=\"top\">пенсионер</td>\n",
       "      <td>0</td>\n",
       "      <td>144240.768611</td>\n",
       "      <td>170827.674567</td>\n",
       "      <td>516</td>\n",
       "    </tr>\n",
       "    <tr>\n",
       "      <td>1</td>\n",
       "      <td>114825.442148</td>\n",
       "      <td>131698.963945</td>\n",
       "      <td>2773</td>\n",
       "    </tr>\n",
       "    <tr>\n",
       "      <td>2</td>\n",
       "      <td>120136.896353</td>\n",
       "      <td>138312.108423</td>\n",
       "      <td>35</td>\n",
       "    </tr>\n",
       "    <tr>\n",
       "      <td>3</td>\n",
       "      <td>102598.653164</td>\n",
       "      <td>111314.924441</td>\n",
       "      <td>93</td>\n",
       "    </tr>\n",
       "    <tr>\n",
       "      <td>4</td>\n",
       "      <td>177088.845999</td>\n",
       "      <td>177088.845999</td>\n",
       "      <td>2</td>\n",
       "    </tr>\n",
       "    <tr>\n",
       "      <td>предприниматель</td>\n",
       "      <td>0</td>\n",
       "      <td>499163.144947</td>\n",
       "      <td>499163.144947</td>\n",
       "      <td>1</td>\n",
       "    </tr>\n",
       "    <tr>\n",
       "      <td rowspan=\"5\" valign=\"top\">сотрудник</td>\n",
       "      <td>0</td>\n",
       "      <td>166006.067124</td>\n",
       "      <td>191797.946100</td>\n",
       "      <td>2086</td>\n",
       "    </tr>\n",
       "    <tr>\n",
       "      <td>1</td>\n",
       "      <td>136525.031056</td>\n",
       "      <td>152589.186769</td>\n",
       "      <td>7373</td>\n",
       "    </tr>\n",
       "    <tr>\n",
       "      <td>2</td>\n",
       "      <td>151625.779994</td>\n",
       "      <td>174750.744232</td>\n",
       "      <td>330</td>\n",
       "    </tr>\n",
       "    <tr>\n",
       "      <td>3</td>\n",
       "      <td>125994.910603</td>\n",
       "      <td>137212.850187</td>\n",
       "      <td>133</td>\n",
       "    </tr>\n",
       "    <tr>\n",
       "      <td>4</td>\n",
       "      <td>198570.757322</td>\n",
       "      <td>194310.337215</td>\n",
       "      <td>3</td>\n",
       "    </tr>\n",
       "    <tr>\n",
       "      <td>студент</td>\n",
       "      <td>0</td>\n",
       "      <td>98201.625314</td>\n",
       "      <td>98201.625314</td>\n",
       "      <td>1</td>\n",
       "    </tr>\n",
       "  </tbody>\n",
       "</table>\n",
       "</div>"
      ],
      "text/plain": [
       "                                     median           mean  count\n",
       "income_type     education_id                                     \n",
       "безработный     0             202722.511368  202722.511368      1\n",
       "                1              59956.991984   59956.991984      1\n",
       "в декрете       1              53829.130729   53829.130729      1\n",
       "госслужащий     0             172511.107016  197612.178874    484\n",
       "                1             136803.501484  154016.630639    768\n",
       "                2             160592.345303  172476.953367     46\n",
       "                3             148339.290825  184056.353037      6\n",
       "                4             111392.231107  111392.231107      1\n",
       "компаньон       0             201785.400018  242783.907490   1584\n",
       "                1             159070.690289  179582.781409   2667\n",
       "                2             179937.527982  197896.757732    260\n",
       "                3             136798.905143  165057.030695     29\n",
       "пенсионер       0             144240.768611  170827.674567    516\n",
       "                1             114825.442148  131698.963945   2773\n",
       "                2             120136.896353  138312.108423     35\n",
       "                3             102598.653164  111314.924441     93\n",
       "                4             177088.845999  177088.845999      2\n",
       "предприниматель 0             499163.144947  499163.144947      1\n",
       "сотрудник       0             166006.067124  191797.946100   2086\n",
       "                1             136525.031056  152589.186769   7373\n",
       "                2             151625.779994  174750.744232    330\n",
       "                3             125994.910603  137212.850187    133\n",
       "                4             198570.757322  194310.337215      3\n",
       "студент         0              98201.625314   98201.625314      1"
      ]
     },
     "execution_count": 18,
     "metadata": {},
     "output_type": "execute_result"
    }
   ],
   "source": [
    "df_abs_reduced.groupby(by=['income_type','education_id'])['total_income'].agg(['median','mean','count']) #.sort_values( ascending=False)"
   ]
  },
  {
   "cell_type": "markdown",
   "metadata": {},
   "source": [
    "как видно, некоторые сочетания в датасете отсутствуют (например income_type = 'безработный' и education_id = 2). \n",
    "Некотороые сочетания встречаются по одному разу (что, конечно может не отражатть выборку с фильтрацией по данным параметрам)\n",
    "Но в целом при группировке по данным столбцам видно, что \"медиана\" и \"среднее\" отличаются. \n",
    "Поэтому будем заполнять проспуски медианным значеним с учетом значений 'income_type' и 'education_id'"
   ]
  },
  {
   "cell_type": "code",
   "execution_count": 19,
   "metadata": {},
   "outputs": [],
   "source": [
    "def change_nan_to_median(df:pd.DataFrame, columns_list:list)->pd.DataFrame:\n",
    "    \"\"\"\n",
    "    Данная функция принимает на вход датафрейм и список столбцов. Далее функция:\n",
    "    1. Для каждого столбца группирует датасет в цикле  по всем возможным сочетаниям значений столбцов 'income_type' и 'education_id'\n",
    "    2. Заполняет в сгруппированной выборке пропущенные значения медианным значением\n",
    "    \"\"\"\n",
    "    df_local = df.copy()\n",
    "    for column in columns_list:\n",
    "        for current_income_type in df_local['income_type'].unique().tolist():\n",
    "            for current_education_id in df_local['education_id'].unique().tolist():\n",
    "                try:\n",
    "                    med = df_local[(df_local['education_id']==current_education_id) & (df_local['income_type']==current_income_type)]\\\n",
    "                    .groupby(by=['income_type','education_id'])['total_income'].median()[0]\n",
    "                    df_local.loc[(df_local['education_id']==current_education_id) & (df_local['income_type']==current_income_type),column] = df_local.loc[(df_local['education_id']==current_education_id) & (df_local['income_type']==current_income_type), column].fillna(med)\n",
    "                except Exception as e:\n",
    "                    print(f'для column = {column},current_income_type = {current_income_type},current_education_id = {current_education_id} ошибка {e}')\n",
    "    return df_local"
   ]
  },
  {
   "cell_type": "code",
   "execution_count": 20,
   "metadata": {},
   "outputs": [
    {
     "name": "stdout",
     "output_type": "stream",
     "text": [
      "для column = total_income,current_income_type = компаньон,current_education_id = 4 ошибка index out of bounds\n",
      "для column = total_income,current_income_type = безработный,current_education_id = 2 ошибка index out of bounds\n",
      "для column = total_income,current_income_type = безработный,current_education_id = 3 ошибка index out of bounds\n",
      "для column = total_income,current_income_type = безработный,current_education_id = 4 ошибка index out of bounds\n",
      "для column = total_income,current_income_type = предприниматель,current_education_id = 1 ошибка index out of bounds\n",
      "для column = total_income,current_income_type = предприниматель,current_education_id = 2 ошибка index out of bounds\n",
      "для column = total_income,current_income_type = предприниматель,current_education_id = 3 ошибка index out of bounds\n",
      "для column = total_income,current_income_type = предприниматель,current_education_id = 4 ошибка index out of bounds\n",
      "для column = total_income,current_income_type = студент,current_education_id = 1 ошибка index out of bounds\n",
      "для column = total_income,current_income_type = студент,current_education_id = 2 ошибка index out of bounds\n",
      "для column = total_income,current_income_type = студент,current_education_id = 3 ошибка index out of bounds\n",
      "для column = total_income,current_income_type = студент,current_education_id = 4 ошибка index out of bounds\n",
      "для column = total_income,current_income_type = в декрете,current_education_id = 0 ошибка index out of bounds\n",
      "для column = total_income,current_income_type = в декрете,current_education_id = 2 ошибка index out of bounds\n",
      "для column = total_income,current_income_type = в декрете,current_education_id = 3 ошибка index out of bounds\n",
      "для column = total_income,current_income_type = в декрете,current_education_id = 4 ошибка index out of bounds\n",
      "для column = days_employed,current_income_type = компаньон,current_education_id = 4 ошибка index out of bounds\n",
      "для column = days_employed,current_income_type = безработный,current_education_id = 2 ошибка index out of bounds\n",
      "для column = days_employed,current_income_type = безработный,current_education_id = 3 ошибка index out of bounds\n",
      "для column = days_employed,current_income_type = безработный,current_education_id = 4 ошибка index out of bounds\n",
      "для column = days_employed,current_income_type = предприниматель,current_education_id = 1 ошибка index out of bounds\n",
      "для column = days_employed,current_income_type = предприниматель,current_education_id = 2 ошибка index out of bounds\n",
      "для column = days_employed,current_income_type = предприниматель,current_education_id = 3 ошибка index out of bounds\n",
      "для column = days_employed,current_income_type = предприниматель,current_education_id = 4 ошибка index out of bounds\n",
      "для column = days_employed,current_income_type = студент,current_education_id = 1 ошибка index out of bounds\n",
      "для column = days_employed,current_income_type = студент,current_education_id = 2 ошибка index out of bounds\n",
      "для column = days_employed,current_income_type = студент,current_education_id = 3 ошибка index out of bounds\n",
      "для column = days_employed,current_income_type = студент,current_education_id = 4 ошибка index out of bounds\n",
      "для column = days_employed,current_income_type = в декрете,current_education_id = 0 ошибка index out of bounds\n",
      "для column = days_employed,current_income_type = в декрете,current_education_id = 2 ошибка index out of bounds\n",
      "для column = days_employed,current_income_type = в декрете,current_education_id = 3 ошибка index out of bounds\n",
      "для column = days_employed,current_income_type = в декрете,current_education_id = 4 ошибка index out of bounds\n"
     ]
    }
   ],
   "source": [
    "columns_list = ['total_income','days_employed']\n",
    "df_wo_nan = change_nan_to_median(df_abs_reduced, columns_list) "
   ]
  },
  {
   "cell_type": "raw",
   "metadata": {},
   "source": [
    "Как видно exception сработал только там где нет указнного сочетания income_type и education_id (например income_type = безработный, education_id = 2)"
   ]
  },
  {
   "cell_type": "code",
   "execution_count": 21,
   "metadata": {},
   "outputs": [
    {
     "name": "stdout",
     "output_type": "stream",
     "text": [
      "количество пропусков в столбце 'total_income' =  0\n",
      "количество пропусков в столбце 'days_employed' =  0\n"
     ]
    }
   ],
   "source": [
    "# проверим как прошло преобразование\n",
    "print(f'количество пропусков в столбце \\'total_income\\' = ', len(df_wo_nan[df_wo_nan['total_income'].isna()]))\n",
    "print(f'количество пропусков в столбце \\'days_employed\\' = ', len(df_wo_nan[df_wo_nan['days_employed'].isna()]))"
   ]
  },
  {
   "cell_type": "code",
   "execution_count": 22,
   "metadata": {},
   "outputs": [
    {
     "name": "stdout",
     "output_type": "stream",
     "text": [
      "<class 'pandas.core.frame.DataFrame'>\n",
      "Int64Index: 21349 entries, 0 to 21524\n",
      "Data columns (total 12 columns):\n",
      "children            21349 non-null int64\n",
      "days_employed       21349 non-null float64\n",
      "dob_years           21349 non-null int64\n",
      "education           21349 non-null object\n",
      "education_id        21349 non-null int64\n",
      "family_status       21349 non-null object\n",
      "family_status_id    21349 non-null int64\n",
      "gender              21349 non-null object\n",
      "income_type         21349 non-null object\n",
      "debt                21349 non-null int64\n",
      "total_income        21349 non-null float64\n",
      "purpose             21349 non-null object\n",
      "dtypes: float64(2), int64(5), object(5)\n",
      "memory usage: 2.1+ MB\n"
     ]
    }
   ],
   "source": [
    "# просто info() на всякий случай\n",
    "df_wo_nan.info()"
   ]
  },
  {
   "cell_type": "markdown",
   "metadata": {},
   "source": [
    "С пропусками разобрались."
   ]
  },
  {
   "cell_type": "markdown",
   "metadata": {},
   "source": [
    "Ответим на вопрос \"**почему заполнить пропуски медианным значением — лучшее решение для количественных переменных**\" \n",
    "\n",
    "Вообще говоря  хороший вопрос. Ответа в теории курса я на него не получил, но искал. До модуля про статистику, думаю рановато спрашивать. Но предполагаю, что ответ примерно такой: \n",
    "1. \"Среднее\" чувствительно к выбросам (хотя мы этого еще не проходили) поэтому как минимум без очистки от выбросов оно не подходит.\n",
    "2. Мода могла бы подойти в случае нормального унимодального распределения (и это мы тоже не проходили), но т.к. мы не знаем какое распределение (а вдруг оно таковым не является) то остается вар.3\n",
    "3. Медиана. \n",
    "\n",
    "Есть еще и всякая экзотика из матстата, но там надо хорошо понимать структуру данных. \n",
    "Ну а на практике думаю самый надежный варинат - это подбор характеристики опытным путем. Провести эксперимент и определить."
   ]
  },
  {
   "cell_type": "markdown",
   "metadata": {},
   "source": [
    "<a id=\"step_2.3\"></a>\n",
    "### Шаг 2.3. Изменение типов данных."
   ]
  },
  {
   "cell_type": "markdown",
   "metadata": {},
   "source": [
    "Заменим вещественный тип данных в столбце total_income и days_employed  на целочисленный"
   ]
  },
  {
   "cell_type": "code",
   "execution_count": 23,
   "metadata": {},
   "outputs": [],
   "source": [
    "def mem_usage(pandas_obj):\n",
    "    usage_b = pandas_obj.memory_usage(deep=True).sum()\n",
    "    usage_mb = usage_b / 1024 ** 2 # преобразуем байты в мегабайты\n",
    "    return \"{:03.2f} MB\".format(usage_mb)"
   ]
  },
  {
   "cell_type": "code",
   "execution_count": 24,
   "metadata": {},
   "outputs": [
    {
     "name": "stdout",
     "output_type": "stream",
     "text": [
      "11.75 MB\n"
     ]
    }
   ],
   "source": [
    "df_wo_nan = df_wo_nan.copy()\n",
    "\n",
    "df_wo_nan['total_income'] = df_wo_nan['total_income'].astype(int) \n",
    "df_wo_nan['days_employed'] = df_wo_nan['days_employed'].astype(int)     \n",
    "mem_before = mem_usage(df_wo_nan)\n",
    "print(mem_before)"
   ]
  },
  {
   "cell_type": "code",
   "execution_count": 25,
   "metadata": {},
   "outputs": [
    {
     "name": "stdout",
     "output_type": "stream",
     "text": [
      "6.65 MB\n"
     ]
    }
   ],
   "source": [
    "df_wo_nan_low_mem = df_wo_nan.copy()\n",
    "df_wo_nan_low_mem['children'] = df_wo_nan_low_mem['children'].astype(np.int8)\n",
    "df_wo_nan_low_mem['dob_years'] = df_wo_nan_low_mem['dob_years'].astype(np.int8)\n",
    "df_wo_nan_low_mem['education_id'] = df_wo_nan_low_mem['education_id'].astype(np.int8)\n",
    "df_wo_nan_low_mem['family_status_id'] = df_wo_nan_low_mem['family_status_id'].astype(np.int8)\n",
    "df_wo_nan_low_mem['debt'] = df_wo_nan_low_mem['debt'].astype(np.int8) \n",
    "df_wo_nan_low_mem['family_status'] = df_wo_nan_low_mem['family_status'].astype('category')\n",
    "df_wo_nan_low_mem['education'] = df_wo_nan_low_mem['education'].astype('category')\n",
    "df_wo_nan_low_mem['total_income'] = df_wo_nan_low_mem['total_income'].astype(np.int32) \n",
    "df_wo_nan_low_mem['days_employed'] = df_wo_nan_low_mem['days_employed'].astype(np.int32)     \n",
    "mem_after = mem_usage(df_wo_nan_low_mem)\n",
    "print(mem_after)"
   ]
  },
  {
   "cell_type": "code",
   "execution_count": 26,
   "metadata": {},
   "outputs": [
    {
     "name": "stdout",
     "output_type": "stream",
     "text": [
      "дополительно поработав с типами данных удалось сэкономить: 43.4%\n"
     ]
    }
   ],
   "source": [
    "mem_before_int = float(mem_before.split(' ')[0])\n",
    "mem_after_int = float(mem_after.split(' ')[0])\n",
    "print('дополительно поработав с типами данных удалось сэкономить: {:.1%}'\n",
    "      .format((mem_before_int - mem_after_int) /mem_before_int ))"
   ]
  },
  {
   "cell_type": "markdown",
   "metadata": {},
   "source": [
    "'total_income' и 'days_employed' преобразовался. порядок. идем дальше!"
   ]
  },
  {
   "cell_type": "markdown",
   "metadata": {},
   "source": [
    "<a id=\"step_2.4\"></a>\n",
    "### Шаг 2.4. Удаление дубликатов."
   ]
  },
  {
   "cell_type": "markdown",
   "metadata": {},
   "source": [
    "Оценим количество дублей"
   ]
  },
  {
   "cell_type": "code",
   "execution_count": 27,
   "metadata": {},
   "outputs": [
    {
     "name": "stdout",
     "output_type": "stream",
     "text": [
      "из 21349 записей, задублировано 54:\n"
     ]
    }
   ],
   "source": [
    "print(f'из {len(df_wo_nan_low_mem)} записей, задублировано {df_wo_nan_low_mem.duplicated().sum()}:')"
   ]
  },
  {
   "cell_type": "markdown",
   "metadata": {},
   "source": [
    "Дропнем дубли"
   ]
  },
  {
   "cell_type": "code",
   "execution_count": 28,
   "metadata": {},
   "outputs": [
    {
     "name": "stdout",
     "output_type": "stream",
     "text": [
      "из 21349 записей, задублировано 0:\n"
     ]
    }
   ],
   "source": [
    "df_wo_nan_droped = df_wo_nan_low_mem.drop_duplicates().reset_index(drop=True)\n",
    "print(f'из {len(df_wo_nan)} записей, задублировано {df_wo_nan_droped.duplicated().sum()}:')"
   ]
  },
  {
   "cell_type": "markdown",
   "metadata": {},
   "source": [
    "Отлично. 21349 - 21295 = 54. идем дальше!"
   ]
  },
  {
   "cell_type": "markdown",
   "metadata": {},
   "source": [
    "посмотрим на неявные дубликаты"
   ]
  },
  {
   "cell_type": "code",
   "execution_count": 29,
   "metadata": {},
   "outputs": [
    {
     "data": {
      "text/html": [
       "<div>\n",
       "<style scoped>\n",
       "    .dataframe tbody tr th:only-of-type {\n",
       "        vertical-align: middle;\n",
       "    }\n",
       "\n",
       "    .dataframe tbody tr th {\n",
       "        vertical-align: top;\n",
       "    }\n",
       "\n",
       "    .dataframe thead th {\n",
       "        text-align: right;\n",
       "    }\n",
       "</style>\n",
       "<table border=\"1\" class=\"dataframe\">\n",
       "  <thead>\n",
       "    <tr style=\"text-align: right;\">\n",
       "      <th></th>\n",
       "      <th>education_id</th>\n",
       "      <th>education</th>\n",
       "    </tr>\n",
       "  </thead>\n",
       "  <tbody>\n",
       "    <tr>\n",
       "      <td>0</td>\n",
       "      <td>0</td>\n",
       "      <td>[Высшее, высшее, ВЫСШЕЕ]</td>\n",
       "    </tr>\n",
       "    <tr>\n",
       "      <td>1</td>\n",
       "      <td>1</td>\n",
       "      <td>[среднее, Среднее, СРЕДНЕЕ]</td>\n",
       "    </tr>\n",
       "    <tr>\n",
       "      <td>2</td>\n",
       "      <td>2</td>\n",
       "      <td>[неоконченное высшее, НЕОКОНЧЕННОЕ ВЫСШЕЕ, Нео...</td>\n",
       "    </tr>\n",
       "    <tr>\n",
       "      <td>3</td>\n",
       "      <td>3</td>\n",
       "      <td>[начальное, Начальное, НАЧАЛЬНОЕ]</td>\n",
       "    </tr>\n",
       "    <tr>\n",
       "      <td>4</td>\n",
       "      <td>4</td>\n",
       "      <td>[ученая степень, УЧЕНАЯ СТЕПЕНЬ, Ученая степень]</td>\n",
       "    </tr>\n",
       "  </tbody>\n",
       "</table>\n",
       "</div>"
      ],
      "text/plain": [
       "   education_id                                          education\n",
       "0             0                           [Высшее, высшее, ВЫСШЕЕ]\n",
       "1             1                        [среднее, Среднее, СРЕДНЕЕ]\n",
       "2             2  [неоконченное высшее, НЕОКОНЧЕННОЕ ВЫСШЕЕ, Нео...\n",
       "3             3                  [начальное, Начальное, НАЧАЛЬНОЕ]\n",
       "4             4   [ученая степень, УЧЕНАЯ СТЕПЕНЬ, Ученая степень]"
      ]
     },
     "execution_count": 29,
     "metadata": {},
     "output_type": "execute_result"
    }
   ],
   "source": [
    "df_wo_nan_droped.groupby('education_id')['education'].apply(lambda x: list(set(','.join(x).split(',')))).reset_index()"
   ]
  },
  {
   "cell_type": "markdown",
   "metadata": {},
   "source": [
    "Тут явно присутствуют неявные дубликаты.."
   ]
  },
  {
   "cell_type": "code",
   "execution_count": 30,
   "metadata": {},
   "outputs": [
    {
     "data": {
      "text/html": [
       "<div>\n",
       "<style scoped>\n",
       "    .dataframe tbody tr th:only-of-type {\n",
       "        vertical-align: middle;\n",
       "    }\n",
       "\n",
       "    .dataframe tbody tr th {\n",
       "        vertical-align: top;\n",
       "    }\n",
       "\n",
       "    .dataframe thead th {\n",
       "        text-align: right;\n",
       "    }\n",
       "</style>\n",
       "<table border=\"1\" class=\"dataframe\">\n",
       "  <thead>\n",
       "    <tr style=\"text-align: right;\">\n",
       "      <th></th>\n",
       "      <th>family_status_id</th>\n",
       "      <th>family_status</th>\n",
       "    </tr>\n",
       "  </thead>\n",
       "  <tbody>\n",
       "    <tr>\n",
       "      <td>0</td>\n",
       "      <td>0</td>\n",
       "      <td>[женат / замужем]</td>\n",
       "    </tr>\n",
       "    <tr>\n",
       "      <td>1</td>\n",
       "      <td>1</td>\n",
       "      <td>[гражданский брак]</td>\n",
       "    </tr>\n",
       "    <tr>\n",
       "      <td>2</td>\n",
       "      <td>2</td>\n",
       "      <td>[вдовец / вдова]</td>\n",
       "    </tr>\n",
       "    <tr>\n",
       "      <td>3</td>\n",
       "      <td>3</td>\n",
       "      <td>[в разводе]</td>\n",
       "    </tr>\n",
       "    <tr>\n",
       "      <td>4</td>\n",
       "      <td>4</td>\n",
       "      <td>[Не женат / не замужем]</td>\n",
       "    </tr>\n",
       "  </tbody>\n",
       "</table>\n",
       "</div>"
      ],
      "text/plain": [
       "   family_status_id            family_status\n",
       "0                 0        [женат / замужем]\n",
       "1                 1       [гражданский брак]\n",
       "2                 2         [вдовец / вдова]\n",
       "3                 3              [в разводе]\n",
       "4                 4  [Не женат / не замужем]"
      ]
     },
     "execution_count": 30,
     "metadata": {},
     "output_type": "execute_result"
    }
   ],
   "source": [
    "df_wo_nan_droped.groupby('family_status_id')['family_status'].apply(lambda x: list(set(','.join(x).split(',')))).reset_index()"
   ]
  },
  {
   "cell_type": "markdown",
   "metadata": {},
   "source": [
    "Зато тут они явно отсутствуют"
   ]
  },
  {
   "cell_type": "markdown",
   "metadata": {},
   "source": [
    "как видно есть проблемы с регистром. Если привести 'education' к lower_case то неявные дубликаты уйдут.\n",
    "\n",
    "так сделаем это!"
   ]
  },
  {
   "cell_type": "code",
   "execution_count": 31,
   "metadata": {},
   "outputs": [],
   "source": [
    "df_wo_nan_droped['education'] = df_wo_nan_droped['education'].str.lower()"
   ]
  },
  {
   "cell_type": "markdown",
   "metadata": {},
   "source": [
    "проверим"
   ]
  },
  {
   "cell_type": "code",
   "execution_count": 32,
   "metadata": {},
   "outputs": [
    {
     "data": {
      "text/html": [
       "<div>\n",
       "<style scoped>\n",
       "    .dataframe tbody tr th:only-of-type {\n",
       "        vertical-align: middle;\n",
       "    }\n",
       "\n",
       "    .dataframe tbody tr th {\n",
       "        vertical-align: top;\n",
       "    }\n",
       "\n",
       "    .dataframe thead th {\n",
       "        text-align: right;\n",
       "    }\n",
       "</style>\n",
       "<table border=\"1\" class=\"dataframe\">\n",
       "  <thead>\n",
       "    <tr style=\"text-align: right;\">\n",
       "      <th></th>\n",
       "      <th>education_id</th>\n",
       "      <th>education</th>\n",
       "    </tr>\n",
       "  </thead>\n",
       "  <tbody>\n",
       "    <tr>\n",
       "      <td>0</td>\n",
       "      <td>0</td>\n",
       "      <td>[высшее]</td>\n",
       "    </tr>\n",
       "    <tr>\n",
       "      <td>1</td>\n",
       "      <td>1</td>\n",
       "      <td>[среднее]</td>\n",
       "    </tr>\n",
       "    <tr>\n",
       "      <td>2</td>\n",
       "      <td>2</td>\n",
       "      <td>[неоконченное высшее]</td>\n",
       "    </tr>\n",
       "    <tr>\n",
       "      <td>3</td>\n",
       "      <td>3</td>\n",
       "      <td>[начальное]</td>\n",
       "    </tr>\n",
       "    <tr>\n",
       "      <td>4</td>\n",
       "      <td>4</td>\n",
       "      <td>[ученая степень]</td>\n",
       "    </tr>\n",
       "  </tbody>\n",
       "</table>\n",
       "</div>"
      ],
      "text/plain": [
       "   education_id              education\n",
       "0             0               [высшее]\n",
       "1             1              [среднее]\n",
       "2             2  [неоконченное высшее]\n",
       "3             3            [начальное]\n",
       "4             4       [ученая степень]"
      ]
     },
     "execution_count": 32,
     "metadata": {},
     "output_type": "execute_result"
    }
   ],
   "source": [
    "df_wo_nan_droped.groupby('education_id')['education'].apply(lambda x: list(set(','.join(x).split(',')))).reset_index()"
   ]
  },
  {
   "cell_type": "markdown",
   "metadata": {},
   "source": [
    "отлично! сработало. идем дальше!"
   ]
  },
  {
   "cell_type": "code",
   "execution_count": 33,
   "metadata": {},
   "outputs": [
    {
     "name": "stdout",
     "output_type": "stream",
     "text": [
      "в датаесте присутствуют следующие типзначения поля 'income_type':\n",
      " ['безработный', 'в декрете', 'госслужащий', 'компаньон', 'пенсионер', 'предприниматель', 'сотрудник', 'студент']\n"
     ]
    }
   ],
   "source": [
    "print('в датаесте присутствуют следующие типзначения поля \\'income_type\\':\\n',sorted(df_wo_nan_droped['income_type'].unique()))"
   ]
  },
  {
   "cell_type": "code",
   "execution_count": 34,
   "metadata": {},
   "outputs": [
    {
     "name": "stdout",
     "output_type": "stream",
     "text": [
      "в датаесте присутствуют следующие значения поля 'gender' :\n",
      " ['F', 'M', 'XNA']\n"
     ]
    }
   ],
   "source": [
    "print('в датаесте присутствуют следующие значения поля \\'gender\\' :\\n', sorted(df_wo_nan_droped['gender'].unique()))"
   ]
  },
  {
   "cell_type": "markdown",
   "metadata": {},
   "source": [
    "'XNA', конечно, странный пол, но видимо он неизвестен и пока просто будем это иеть ввиду, а не заменять на NaN (от которых мы избавлялись ранее)"
   ]
  },
  {
   "cell_type": "code",
   "execution_count": 35,
   "metadata": {},
   "outputs": [
    {
     "name": "stdout",
     "output_type": "stream",
     "text": [
      "в датаесте присутствуют следующие значения поля 'gender' :\n",
      " ['автомобили', 'автомобиль', 'высшее образование', 'дополнительное образование', 'жилье', 'заняться высшим образованием', 'заняться образованием', 'на покупку автомобиля', 'на покупку подержанного автомобиля', 'на покупку своего автомобиля', 'на проведение свадьбы', 'недвижимость', 'образование', 'операции с жильем', 'операции с коммерческой недвижимостью', 'операции с недвижимостью', 'операции со своей недвижимостью', 'покупка жилой недвижимости', 'покупка жилья', 'покупка жилья для сдачи', 'покупка жилья для семьи', 'покупка коммерческой недвижимости', 'покупка недвижимости', 'покупка своего жилья', 'получение высшего образования', 'получение дополнительного образования', 'получение образования', 'приобретение автомобиля', 'профильное образование', 'ремонт жилью', 'свадьба', 'свой автомобиль', 'сделка с автомобилем', 'сделка с подержанным автомобилем', 'строительство жилой недвижимости', 'строительство недвижимости', 'строительство собственной недвижимости', 'сыграть свадьбу']\n"
     ]
    }
   ],
   "source": [
    "print('в датаесте присутствуют следующие значения поля \\'gender\\' :\\n', sorted(df_wo_nan_droped['purpose'].unique()))"
   ]
  },
  {
   "cell_type": "markdown",
   "metadata": {},
   "source": [
    "тут кажется придется поработать, но об этом позже.."
   ]
  },
  {
   "cell_type": "markdown",
   "metadata": {},
   "source": [
    "в заднии есть вопросы:\n",
    "1. поясните, как выбирали метод для поиска и удаления дубликатов в данных;\n",
    "2. приведите возможные причины появления дубликатов\n"
   ]
  },
  {
   "cell_type": "markdown",
   "metadata": {},
   "source": [
    "ответы на них:\n",
    "\n",
    "1.  Там где есть картегория и ее идентификатор, там логично сделать что-то наподобие как в MySQL GROUP_CONCAT(DISTINCT ) и посмотреть все возможные варианты. Можно конечно и через словарь было, но pandas хоть и с лябмбдой все же быстрее.\n",
    "\n",
    "2. Там где нет идентификатора категории, там просто надо собрать все уникальные значения\n",
    "\n",
    "3. Удаление явных дубликатов- ну тут вроде очвидно. есть метод в пандасе. Можно конечно посмотреть на записи где различие только в одном столцбе, в двух и т.д. но это явно в данном случае из серии оверинжиниринга\n",
    "\n",
    "4. Неявные дубликаты где отличие в регистре удалять не стоит, достаточно просто все привести к lower_case\n",
    "\n",
    "5. причина дубликатов в данном случае думаю одна - ручной ввод. хотя тогда могли бы быть и синтаксические ошибки, но думаю их нет потому что, учебное задание. \n"
   ]
  },
  {
   "cell_type": "markdown",
   "metadata": {},
   "source": [
    "<a id=\"step_2.5\"></a>\n",
    "### Шаг 2.5. Формирование дополнительных датафреймов словарей, декомпозиция исходного датафрейма."
   ]
  },
  {
   "cell_type": "code",
   "execution_count": 36,
   "metadata": {},
   "outputs": [
    {
     "data": {
      "text/html": [
       "<div>\n",
       "<style scoped>\n",
       "    .dataframe tbody tr th:only-of-type {\n",
       "        vertical-align: middle;\n",
       "    }\n",
       "\n",
       "    .dataframe tbody tr th {\n",
       "        vertical-align: top;\n",
       "    }\n",
       "\n",
       "    .dataframe thead th {\n",
       "        text-align: right;\n",
       "    }\n",
       "</style>\n",
       "<table border=\"1\" class=\"dataframe\">\n",
       "  <thead>\n",
       "    <tr style=\"text-align: right;\">\n",
       "      <th></th>\n",
       "      <th>education_id</th>\n",
       "      <th>education</th>\n",
       "    </tr>\n",
       "  </thead>\n",
       "  <tbody>\n",
       "    <tr>\n",
       "      <td>0</td>\n",
       "      <td>0</td>\n",
       "      <td>высшее</td>\n",
       "    </tr>\n",
       "    <tr>\n",
       "      <td>1</td>\n",
       "      <td>1</td>\n",
       "      <td>среднее</td>\n",
       "    </tr>\n",
       "    <tr>\n",
       "      <td>2</td>\n",
       "      <td>2</td>\n",
       "      <td>неоконченное высшее</td>\n",
       "    </tr>\n",
       "    <tr>\n",
       "      <td>3</td>\n",
       "      <td>3</td>\n",
       "      <td>начальное</td>\n",
       "    </tr>\n",
       "    <tr>\n",
       "      <td>4</td>\n",
       "      <td>4</td>\n",
       "      <td>ученая степень</td>\n",
       "    </tr>\n",
       "  </tbody>\n",
       "</table>\n",
       "</div>"
      ],
      "text/plain": [
       "   education_id            education\n",
       "0             0               высшее\n",
       "1             1              среднее\n",
       "2             2  неоконченное высшее\n",
       "3             3            начальное\n",
       "4             4       ученая степень"
      ]
     },
     "metadata": {},
     "output_type": "display_data"
    },
    {
     "data": {
      "text/html": [
       "<div>\n",
       "<style scoped>\n",
       "    .dataframe tbody tr th:only-of-type {\n",
       "        vertical-align: middle;\n",
       "    }\n",
       "\n",
       "    .dataframe tbody tr th {\n",
       "        vertical-align: top;\n",
       "    }\n",
       "\n",
       "    .dataframe thead th {\n",
       "        text-align: right;\n",
       "    }\n",
       "</style>\n",
       "<table border=\"1\" class=\"dataframe\">\n",
       "  <thead>\n",
       "    <tr style=\"text-align: right;\">\n",
       "      <th></th>\n",
       "      <th>family_status_id</th>\n",
       "      <th>family_status</th>\n",
       "    </tr>\n",
       "  </thead>\n",
       "  <tbody>\n",
       "    <tr>\n",
       "      <td>0</td>\n",
       "      <td>0</td>\n",
       "      <td>женат / замужем</td>\n",
       "    </tr>\n",
       "    <tr>\n",
       "      <td>1</td>\n",
       "      <td>1</td>\n",
       "      <td>гражданский брак</td>\n",
       "    </tr>\n",
       "    <tr>\n",
       "      <td>2</td>\n",
       "      <td>2</td>\n",
       "      <td>вдовец / вдова</td>\n",
       "    </tr>\n",
       "    <tr>\n",
       "      <td>3</td>\n",
       "      <td>3</td>\n",
       "      <td>в разводе</td>\n",
       "    </tr>\n",
       "    <tr>\n",
       "      <td>4</td>\n",
       "      <td>4</td>\n",
       "      <td>Не женат / не замужем</td>\n",
       "    </tr>\n",
       "  </tbody>\n",
       "</table>\n",
       "</div>"
      ],
      "text/plain": [
       "   family_status_id          family_status\n",
       "0                 0        женат / замужем\n",
       "1                 1       гражданский брак\n",
       "2                 2         вдовец / вдова\n",
       "3                 3              в разводе\n",
       "4                 4  Не женат / не замужем"
      ]
     },
     "metadata": {},
     "output_type": "display_data"
    }
   ],
   "source": [
    "education_dict = df_wo_nan_droped[['education_id','education']].drop_duplicates().reset_index(drop=True)\n",
    "display(education_dict)\n",
    "family_status_dict = df_wo_nan_droped[['family_status_id','family_status']].drop_duplicates().reset_index(drop=True)\n",
    "display(family_status_dict)"
   ]
  },
  {
   "cell_type": "markdown",
   "metadata": {},
   "source": [
    "Удалим из исходного датафрейма столбцы 'education' и 'family_status'"
   ]
  },
  {
   "cell_type": "code",
   "execution_count": 37,
   "metadata": {},
   "outputs": [
    {
     "name": "stdout",
     "output_type": "stream",
     "text": [
      "проверим, дропнулись ли столбцы 'education','family_status' и выведем список столбцов:\n",
      " Index(['children', 'days_employed', 'dob_years', 'education_id',\n",
      "       'family_status_id', 'gender', 'income_type', 'debt', 'total_income',\n",
      "       'purpose'],\n",
      "      dtype='object')\n"
     ]
    }
   ],
   "source": [
    "df_wo_nan_droped_2 = df_wo_nan_droped.drop(['education','family_status'], axis = 1)\n",
    "print('проверим, дропнулись ли столбцы \\'education\\',\\'family_status\\' и выведем список столбцов:\\n', df_wo_nan_droped_2.columns)"
   ]
  },
  {
   "cell_type": "markdown",
   "metadata": {},
   "source": [
    "словари созданы, из исходника столбцы дропнулись. едем дальше!"
   ]
  },
  {
   "cell_type": "markdown",
   "metadata": {},
   "source": [
    "<a id=\"step_2.6\"></a>\n",
    "### Шаг 2.6. Категоризация дохода."
   ]
  },
  {
   "cell_type": "code",
   "execution_count": 38,
   "metadata": {},
   "outputs": [],
   "source": [
    "def income_categorizer(income):\n",
    "    if income <= 30000:\n",
    "        return 'E'\n",
    "    if income <= 50000:\n",
    "        return 'D'\n",
    "    if income <= 200000:\n",
    "        return 'C'\n",
    "    if income <= 1000000:\n",
    "        return 'B'\n",
    "    return 'A'\n",
    "\n",
    "df_wo_nan_droped['total_income_category'] = df_wo_nan_droped['total_income'].apply(income_categorizer)"
   ]
  },
  {
   "cell_type": "code",
   "execution_count": 39,
   "metadata": {},
   "outputs": [
    {
     "data": {
      "text/plain": [
       "count    2.129500e+04\n",
       "mean     1.654669e+05\n",
       "std      9.843444e+04\n",
       "min      2.066700e+04\n",
       "25%      1.075685e+05\n",
       "50%      1.435950e+05\n",
       "75%      1.982345e+05\n",
       "max      2.265604e+06\n",
       "Name: total_income, dtype: float64"
      ]
     },
     "execution_count": 39,
     "metadata": {},
     "output_type": "execute_result"
    }
   ],
   "source": [
    "df_wo_nan_droped['total_income'].describe()"
   ]
  },
  {
   "cell_type": "code",
   "execution_count": 40,
   "metadata": {},
   "outputs": [
    {
     "data": {
      "text/html": [
       "<div>\n",
       "<style scoped>\n",
       "    .dataframe tbody tr th:only-of-type {\n",
       "        vertical-align: middle;\n",
       "    }\n",
       "\n",
       "    .dataframe tbody tr th {\n",
       "        vertical-align: top;\n",
       "    }\n",
       "\n",
       "    .dataframe thead th {\n",
       "        text-align: right;\n",
       "    }\n",
       "</style>\n",
       "<table border=\"1\" class=\"dataframe\">\n",
       "  <thead>\n",
       "    <tr style=\"text-align: right;\">\n",
       "      <th></th>\n",
       "      <th>total_income_category</th>\n",
       "      <th>total_income</th>\n",
       "    </tr>\n",
       "  </thead>\n",
       "  <tbody>\n",
       "    <tr>\n",
       "      <td>928</td>\n",
       "      <td>E</td>\n",
       "      <td>29426</td>\n",
       "    </tr>\n",
       "    <tr>\n",
       "      <td>1174</td>\n",
       "      <td>E</td>\n",
       "      <td>29749</td>\n",
       "    </tr>\n",
       "  </tbody>\n",
       "</table>\n",
       "</div>"
      ],
      "text/plain": [
       "     total_income_category  total_income\n",
       "928                      E         29426\n",
       "1174                     E         29749"
      ]
     },
     "metadata": {},
     "output_type": "display_data"
    },
    {
     "data": {
      "text/html": [
       "<div>\n",
       "<style scoped>\n",
       "    .dataframe tbody tr th:only-of-type {\n",
       "        vertical-align: middle;\n",
       "    }\n",
       "\n",
       "    .dataframe tbody tr th {\n",
       "        vertical-align: top;\n",
       "    }\n",
       "\n",
       "    .dataframe thead th {\n",
       "        text-align: right;\n",
       "    }\n",
       "</style>\n",
       "<table border=\"1\" class=\"dataframe\">\n",
       "  <thead>\n",
       "    <tr style=\"text-align: right;\">\n",
       "      <th></th>\n",
       "      <th>total_income_category</th>\n",
       "      <th>total_income</th>\n",
       "    </tr>\n",
       "  </thead>\n",
       "  <tbody>\n",
       "    <tr>\n",
       "      <td>49</td>\n",
       "      <td>D</td>\n",
       "      <td>44591</td>\n",
       "    </tr>\n",
       "    <tr>\n",
       "      <td>71</td>\n",
       "      <td>D</td>\n",
       "      <td>43929</td>\n",
       "    </tr>\n",
       "  </tbody>\n",
       "</table>\n",
       "</div>"
      ],
      "text/plain": [
       "   total_income_category  total_income\n",
       "49                     D         44591\n",
       "71                     D         43929"
      ]
     },
     "metadata": {},
     "output_type": "display_data"
    },
    {
     "data": {
      "text/html": [
       "<div>\n",
       "<style scoped>\n",
       "    .dataframe tbody tr th:only-of-type {\n",
       "        vertical-align: middle;\n",
       "    }\n",
       "\n",
       "    .dataframe tbody tr th {\n",
       "        vertical-align: top;\n",
       "    }\n",
       "\n",
       "    .dataframe thead th {\n",
       "        text-align: right;\n",
       "    }\n",
       "</style>\n",
       "<table border=\"1\" class=\"dataframe\">\n",
       "  <thead>\n",
       "    <tr style=\"text-align: right;\">\n",
       "      <th></th>\n",
       "      <th>total_income_category</th>\n",
       "      <th>total_income</th>\n",
       "    </tr>\n",
       "  </thead>\n",
       "  <tbody>\n",
       "    <tr>\n",
       "      <td>1</td>\n",
       "      <td>C</td>\n",
       "      <td>112080</td>\n",
       "    </tr>\n",
       "    <tr>\n",
       "      <td>2</td>\n",
       "      <td>C</td>\n",
       "      <td>145885</td>\n",
       "    </tr>\n",
       "  </tbody>\n",
       "</table>\n",
       "</div>"
      ],
      "text/plain": [
       "  total_income_category  total_income\n",
       "1                     C        112080\n",
       "2                     C        145885"
      ]
     },
     "metadata": {},
     "output_type": "display_data"
    },
    {
     "data": {
      "text/html": [
       "<div>\n",
       "<style scoped>\n",
       "    .dataframe tbody tr th:only-of-type {\n",
       "        vertical-align: middle;\n",
       "    }\n",
       "\n",
       "    .dataframe tbody tr th {\n",
       "        vertical-align: top;\n",
       "    }\n",
       "\n",
       "    .dataframe thead th {\n",
       "        text-align: right;\n",
       "    }\n",
       "</style>\n",
       "<table border=\"1\" class=\"dataframe\">\n",
       "  <thead>\n",
       "    <tr style=\"text-align: right;\">\n",
       "      <th></th>\n",
       "      <th>total_income_category</th>\n",
       "      <th>total_income</th>\n",
       "    </tr>\n",
       "  </thead>\n",
       "  <tbody>\n",
       "    <tr>\n",
       "      <td>0</td>\n",
       "      <td>B</td>\n",
       "      <td>253875</td>\n",
       "    </tr>\n",
       "    <tr>\n",
       "      <td>3</td>\n",
       "      <td>B</td>\n",
       "      <td>267628</td>\n",
       "    </tr>\n",
       "  </tbody>\n",
       "</table>\n",
       "</div>"
      ],
      "text/plain": [
       "  total_income_category  total_income\n",
       "0                     B        253875\n",
       "3                     B        267628"
      ]
     },
     "metadata": {},
     "output_type": "display_data"
    },
    {
     "data": {
      "text/html": [
       "<div>\n",
       "<style scoped>\n",
       "    .dataframe tbody tr th:only-of-type {\n",
       "        vertical-align: middle;\n",
       "    }\n",
       "\n",
       "    .dataframe tbody tr th {\n",
       "        vertical-align: top;\n",
       "    }\n",
       "\n",
       "    .dataframe thead th {\n",
       "        text-align: right;\n",
       "    }\n",
       "</style>\n",
       "<table border=\"1\" class=\"dataframe\">\n",
       "  <thead>\n",
       "    <tr style=\"text-align: right;\">\n",
       "      <th></th>\n",
       "      <th>total_income_category</th>\n",
       "      <th>total_income</th>\n",
       "    </tr>\n",
       "  </thead>\n",
       "  <tbody>\n",
       "    <tr>\n",
       "      <td>1579</td>\n",
       "      <td>A</td>\n",
       "      <td>1089120</td>\n",
       "    </tr>\n",
       "    <tr>\n",
       "      <td>2210</td>\n",
       "      <td>A</td>\n",
       "      <td>1278622</td>\n",
       "    </tr>\n",
       "  </tbody>\n",
       "</table>\n",
       "</div>"
      ],
      "text/plain": [
       "     total_income_category  total_income\n",
       "1579                     A       1089120\n",
       "2210                     A       1278622"
      ]
     },
     "metadata": {},
     "output_type": "display_data"
    }
   ],
   "source": [
    "# выборочно проверим \n",
    "display(df_wo_nan_droped.loc[(df_wo_nan_droped['total_income']<=30000),['total_income_category','total_income']].head(2))\n",
    "\n",
    "display(df_wo_nan_droped.loc[(df_wo_nan_droped['total_income']>30000) & \n",
    "                             (df_wo_nan_droped['total_income']<=50000),['total_income_category','total_income']].head(2))\n",
    "\n",
    "display(df_wo_nan_droped.loc[(df_wo_nan_droped['total_income']>50000) & \n",
    "                             (df_wo_nan_droped['total_income']<=200000),['total_income_category','total_income']].head(2))\n",
    "\n",
    "display(df_wo_nan_droped.loc[(df_wo_nan_droped['total_income']>200000) & \n",
    "                             (df_wo_nan_droped['total_income']<=1000000),['total_income_category','total_income']].head(2))\n",
    "\n",
    "display(df_wo_nan_droped.loc[(df_wo_nan_droped['total_income']>1000000),['total_income_category','total_income']].head(2))"
   ]
  },
  {
   "cell_type": "markdown",
   "metadata": {},
   "source": [
    "функция работает. категории созданы. едем дальше!"
   ]
  },
  {
   "cell_type": "markdown",
   "metadata": {},
   "source": [
    "<a id=\"step_2.7\"></a>\n",
    "### Шаг 2.7. Категоризация целей кредита."
   ]
  },
  {
   "cell_type": "code",
   "execution_count": 41,
   "metadata": {},
   "outputs": [],
   "source": [
    "def purpose_categorizer(purpose):\n",
    "    if 'автомобил' in purpose:\n",
    "        return 'операции с автомобилем'\n",
    "    if 'образован' in purpose:\n",
    "        return 'получение образования'\n",
    "    if 'жиль' in purpose or 'недвижим' in purpose:\n",
    "        return 'операции с недвижимостью'\n",
    "    if 'свадьб' in purpose:\n",
    "        return 'проведение свадьбы'\n",
    "    return 'не определено'\n",
    "    \n",
    "df_wo_nan_droped['purpose_category'] = df_wo_nan_droped['purpose'].apply(purpose_categorizer)"
   ]
  },
  {
   "cell_type": "code",
   "execution_count": 42,
   "metadata": {},
   "outputs": [
    {
     "data": {
      "text/plain": [
       "purpose_category\n",
       "проведение свадьбы           2312\n",
       "получение образования        3981\n",
       "операции с автомобилем       4271\n",
       "операции с недвижимостью    10731\n",
       "Name: purpose_category, dtype: int64"
      ]
     },
     "metadata": {},
     "output_type": "display_data"
    },
    {
     "data": {
      "text/html": [
       "<div>\n",
       "<style scoped>\n",
       "    .dataframe tbody tr th:only-of-type {\n",
       "        vertical-align: middle;\n",
       "    }\n",
       "\n",
       "    .dataframe tbody tr th {\n",
       "        vertical-align: top;\n",
       "    }\n",
       "\n",
       "    .dataframe thead th {\n",
       "        text-align: right;\n",
       "    }\n",
       "</style>\n",
       "<table border=\"1\" class=\"dataframe\">\n",
       "  <thead>\n",
       "    <tr style=\"text-align: right;\">\n",
       "      <th></th>\n",
       "      <th>purpose</th>\n",
       "      <th>purpose_category</th>\n",
       "    </tr>\n",
       "  </thead>\n",
       "  <tbody>\n",
       "    <tr>\n",
       "      <td>0</td>\n",
       "      <td>покупка жилья</td>\n",
       "      <td>операции с недвижимостью</td>\n",
       "    </tr>\n",
       "    <tr>\n",
       "      <td>1</td>\n",
       "      <td>приобретение автомобиля</td>\n",
       "      <td>операции с автомобилем</td>\n",
       "    </tr>\n",
       "    <tr>\n",
       "      <td>2</td>\n",
       "      <td>покупка жилья</td>\n",
       "      <td>операции с недвижимостью</td>\n",
       "    </tr>\n",
       "    <tr>\n",
       "      <td>3</td>\n",
       "      <td>дополнительное образование</td>\n",
       "      <td>получение образования</td>\n",
       "    </tr>\n",
       "    <tr>\n",
       "      <td>4</td>\n",
       "      <td>сыграть свадьбу</td>\n",
       "      <td>проведение свадьбы</td>\n",
       "    </tr>\n",
       "  </tbody>\n",
       "</table>\n",
       "</div>"
      ],
      "text/plain": [
       "                      purpose          purpose_category\n",
       "0               покупка жилья  операции с недвижимостью\n",
       "1     приобретение автомобиля    операции с автомобилем\n",
       "2               покупка жилья  операции с недвижимостью\n",
       "3  дополнительное образование     получение образования\n",
       "4             сыграть свадьбу        проведение свадьбы"
      ]
     },
     "metadata": {},
     "output_type": "display_data"
    }
   ],
   "source": [
    "# проверим преобразование\n",
    "display(df_wo_nan_droped.groupby('purpose_category')['purpose_category'].count().sort_values())\n",
    "display(df_wo_nan_droped[['purpose','purpose_category']].head())"
   ]
  },
  {
   "cell_type": "markdown",
   "metadata": {},
   "source": [
    "функция работает. категории созданы. едем дальше!"
   ]
  },
  {
   "cell_type": "code",
   "execution_count": 43,
   "metadata": {},
   "outputs": [
    {
     "data": {
      "text/html": [
       "<div>\n",
       "<style scoped>\n",
       "    .dataframe tbody tr th:only-of-type {\n",
       "        vertical-align: middle;\n",
       "    }\n",
       "\n",
       "    .dataframe tbody tr th {\n",
       "        vertical-align: top;\n",
       "    }\n",
       "\n",
       "    .dataframe thead th {\n",
       "        text-align: right;\n",
       "    }\n",
       "</style>\n",
       "<table border=\"1\" class=\"dataframe\">\n",
       "  <thead>\n",
       "    <tr style=\"text-align: right;\">\n",
       "      <th></th>\n",
       "      <th>children</th>\n",
       "      <th>days_employed</th>\n",
       "      <th>dob_years</th>\n",
       "      <th>education</th>\n",
       "      <th>education_id</th>\n",
       "      <th>family_status</th>\n",
       "      <th>family_status_id</th>\n",
       "      <th>gender</th>\n",
       "      <th>income_type</th>\n",
       "      <th>debt</th>\n",
       "      <th>total_income</th>\n",
       "      <th>purpose</th>\n",
       "      <th>total_income_category</th>\n",
       "      <th>purpose_category</th>\n",
       "    </tr>\n",
       "  </thead>\n",
       "  <tbody>\n",
       "    <tr>\n",
       "      <td>0</td>\n",
       "      <td>1</td>\n",
       "      <td>8437</td>\n",
       "      <td>42</td>\n",
       "      <td>высшее</td>\n",
       "      <td>0</td>\n",
       "      <td>женат / замужем</td>\n",
       "      <td>0</td>\n",
       "      <td>F</td>\n",
       "      <td>сотрудник</td>\n",
       "      <td>0</td>\n",
       "      <td>253875</td>\n",
       "      <td>покупка жилья</td>\n",
       "      <td>B</td>\n",
       "      <td>операции с недвижимостью</td>\n",
       "    </tr>\n",
       "    <tr>\n",
       "      <td>1</td>\n",
       "      <td>1</td>\n",
       "      <td>4024</td>\n",
       "      <td>36</td>\n",
       "      <td>среднее</td>\n",
       "      <td>1</td>\n",
       "      <td>женат / замужем</td>\n",
       "      <td>0</td>\n",
       "      <td>F</td>\n",
       "      <td>сотрудник</td>\n",
       "      <td>0</td>\n",
       "      <td>112080</td>\n",
       "      <td>приобретение автомобиля</td>\n",
       "      <td>C</td>\n",
       "      <td>операции с автомобилем</td>\n",
       "    </tr>\n",
       "    <tr>\n",
       "      <td>2</td>\n",
       "      <td>0</td>\n",
       "      <td>5623</td>\n",
       "      <td>33</td>\n",
       "      <td>среднее</td>\n",
       "      <td>1</td>\n",
       "      <td>женат / замужем</td>\n",
       "      <td>0</td>\n",
       "      <td>M</td>\n",
       "      <td>сотрудник</td>\n",
       "      <td>0</td>\n",
       "      <td>145885</td>\n",
       "      <td>покупка жилья</td>\n",
       "      <td>C</td>\n",
       "      <td>операции с недвижимостью</td>\n",
       "    </tr>\n",
       "    <tr>\n",
       "      <td>3</td>\n",
       "      <td>3</td>\n",
       "      <td>4124</td>\n",
       "      <td>32</td>\n",
       "      <td>среднее</td>\n",
       "      <td>1</td>\n",
       "      <td>женат / замужем</td>\n",
       "      <td>0</td>\n",
       "      <td>M</td>\n",
       "      <td>сотрудник</td>\n",
       "      <td>0</td>\n",
       "      <td>267628</td>\n",
       "      <td>дополнительное образование</td>\n",
       "      <td>B</td>\n",
       "      <td>получение образования</td>\n",
       "    </tr>\n",
       "    <tr>\n",
       "      <td>4</td>\n",
       "      <td>0</td>\n",
       "      <td>340266</td>\n",
       "      <td>53</td>\n",
       "      <td>среднее</td>\n",
       "      <td>1</td>\n",
       "      <td>гражданский брак</td>\n",
       "      <td>1</td>\n",
       "      <td>F</td>\n",
       "      <td>пенсионер</td>\n",
       "      <td>0</td>\n",
       "      <td>158616</td>\n",
       "      <td>сыграть свадьбу</td>\n",
       "      <td>C</td>\n",
       "      <td>проведение свадьбы</td>\n",
       "    </tr>\n",
       "  </tbody>\n",
       "</table>\n",
       "</div>"
      ],
      "text/plain": [
       "   children  days_employed  dob_years education  education_id  \\\n",
       "0         1           8437         42    высшее             0   \n",
       "1         1           4024         36   среднее             1   \n",
       "2         0           5623         33   среднее             1   \n",
       "3         3           4124         32   среднее             1   \n",
       "4         0         340266         53   среднее             1   \n",
       "\n",
       "      family_status  family_status_id gender income_type  debt  total_income  \\\n",
       "0   женат / замужем                 0      F   сотрудник     0        253875   \n",
       "1   женат / замужем                 0      F   сотрудник     0        112080   \n",
       "2   женат / замужем                 0      M   сотрудник     0        145885   \n",
       "3   женат / замужем                 0      M   сотрудник     0        267628   \n",
       "4  гражданский брак                 1      F   пенсионер     0        158616   \n",
       "\n",
       "                      purpose total_income_category          purpose_category  \n",
       "0               покупка жилья                     B  операции с недвижимостью  \n",
       "1     приобретение автомобиля                     C    операции с автомобилем  \n",
       "2               покупка жилья                     C  операции с недвижимостью  \n",
       "3  дополнительное образование                     B     получение образования  \n",
       "4             сыграть свадьбу                     C        проведение свадьбы  "
      ]
     },
     "execution_count": 43,
     "metadata": {},
     "output_type": "execute_result"
    }
   ],
   "source": [
    "df_wo_nan_droped.head()"
   ]
  },
  {
   "cell_type": "markdown",
   "metadata": {},
   "source": [
    "<a id=\"step_3\"></a>\n",
    "### Ответы на вопросы."
   ]
  },
  {
   "cell_type": "markdown",
   "metadata": {},
   "source": [
    "<a id=\"step_3.1\"></a>\n",
    "##### Вопрос 1: Есть ли зависимость между количеством детей и возвратом кредита в срок?"
   ]
  },
  {
   "cell_type": "code",
   "execution_count": 44,
   "metadata": {},
   "outputs": [
    {
     "name": "stdout",
     "output_type": "stream",
     "text": [
      "доля тех должников у кого 0 детей от общего числа тех, у кого 0 детей: 7.5%\n",
      "доля тех должников у кого 1 детей от общего числа тех, у кого 1 детей: 9.1%\n",
      "доля тех должников у кого 2 детей от общего числа тех, у кого 2 детей: 9.5%\n",
      "доля тех должников у кого 3 детей от общего числа тех, у кого 3 детей: 8.2%\n",
      "доля тех должников у кого 4 детей от общего числа тех, у кого 4 детей: 9.8%\n",
      "доля тех должников у кого 5 детей от общего числа тех, у кого 5 детей: 0.0%\n"
     ]
    }
   ],
   "source": [
    "# решение 1\n",
    "for children_amount in sorted(df_wo_nan_droped['children'].unique().tolist()):\n",
    "    amount_of_debt_with_chlidren = len(df_wo_nan_droped[(df_wo_nan_droped['children']==children_amount) & (df_wo_nan_droped['debt']==1)]) \n",
    "    amount_of_debt_without_chlidren = len(df_wo_nan_droped[(df_wo_nan_droped['children']==children_amount) & (df_wo_nan_droped['debt']==0)])\n",
    "    share = amount_of_debt_with_chlidren /(amount_of_debt_with_chlidren + amount_of_debt_without_chlidren)\n",
    "    print(f'доля тех должников у кого {children_amount} детей от общего числа тех, у кого {children_amount} детей: {share:.1%}')"
   ]
  },
  {
   "cell_type": "code",
   "execution_count": 45,
   "metadata": {},
   "outputs": [
    {
     "data": {
      "text/html": [
       "<div>\n",
       "<style scoped>\n",
       "    .dataframe tbody tr th:only-of-type {\n",
       "        vertical-align: middle;\n",
       "    }\n",
       "\n",
       "    .dataframe tbody tr th {\n",
       "        vertical-align: top;\n",
       "    }\n",
       "\n",
       "    .dataframe thead th {\n",
       "        text-align: right;\n",
       "    }\n",
       "</style>\n",
       "<table border=\"1\" class=\"dataframe\">\n",
       "  <thead>\n",
       "    <tr style=\"text-align: right;\">\n",
       "      <th></th>\n",
       "      <th>children</th>\n",
       "      <th>mean</th>\n",
       "      <th>std</th>\n",
       "      <th>count</th>\n",
       "    </tr>\n",
       "  </thead>\n",
       "  <tbody>\n",
       "    <tr>\n",
       "      <td>0</td>\n",
       "      <td>0</td>\n",
       "      <td>0.075367</td>\n",
       "      <td>0.263992</td>\n",
       "      <td>14038</td>\n",
       "    </tr>\n",
       "    <tr>\n",
       "      <td>1</td>\n",
       "      <td>1</td>\n",
       "      <td>0.091322</td>\n",
       "      <td>0.288097</td>\n",
       "      <td>4840</td>\n",
       "    </tr>\n",
       "    <tr>\n",
       "      <td>2</td>\n",
       "      <td>2</td>\n",
       "      <td>0.095145</td>\n",
       "      <td>0.293487</td>\n",
       "      <td>2039</td>\n",
       "    </tr>\n",
       "    <tr>\n",
       "      <td>3</td>\n",
       "      <td>3</td>\n",
       "      <td>0.082317</td>\n",
       "      <td>0.275267</td>\n",
       "      <td>328</td>\n",
       "    </tr>\n",
       "    <tr>\n",
       "      <td>4</td>\n",
       "      <td>4</td>\n",
       "      <td>0.097561</td>\n",
       "      <td>0.300406</td>\n",
       "      <td>41</td>\n",
       "    </tr>\n",
       "    <tr>\n",
       "      <td>5</td>\n",
       "      <td>5</td>\n",
       "      <td>0.000000</td>\n",
       "      <td>0.000000</td>\n",
       "      <td>9</td>\n",
       "    </tr>\n",
       "  </tbody>\n",
       "</table>\n",
       "</div>"
      ],
      "text/plain": [
       "   children      mean       std  count\n",
       "0         0  0.075367  0.263992  14038\n",
       "1         1  0.091322  0.288097   4840\n",
       "2         2  0.095145  0.293487   2039\n",
       "3         3  0.082317  0.275267    328\n",
       "4         4  0.097561  0.300406     41\n",
       "5         5  0.000000  0.000000      9"
      ]
     },
     "execution_count": 45,
     "metadata": {},
     "output_type": "execute_result"
    }
   ],
   "source": [
    "# вариант решения 2. тот же ответ\n",
    "df_wo_nan_droped.groupby('children')['debt'].agg(['mean','std', 'count']).sort_values('children').reset_index()"
   ]
  },
  {
   "cell_type": "markdown",
   "metadata": {},
   "source": [
    "##### Вывод 1:"
   ]
  },
  {
   "cell_type": "markdown",
   "metadata": {},
   "source": [
    "1. Тема обширная и решать ее надо статистическими методами, а их еще не проходили\n",
    "2. Рост среднего количества должников с увеличением коли-ва детей в целом наблюдается (за исключением значения 3 и 5)\n",
    "2.1. При количестве 5 - выборка явно не репрезентативная, т.к. количество наблюдений мало, но возможно есть какая то в т.ч. скрытая закономерность (например с 5 детьми люди в целом реже берут кредиты)\n",
    "2.2 При оценке необходимо учитывать статистическую значимость. Для этого сделал расчет стандартного отклонения, но сейчас это за рамками темы модуля, так что просто пока это имеем ввиду"
   ]
  },
  {
   "cell_type": "markdown",
   "metadata": {},
   "source": [
    "<a id=\"step_3.2\"></a>\n",
    "##### Вопрос 2: Есть ли зависимость между семейным положением и возвратом кредита в срок?"
   ]
  },
  {
   "cell_type": "code",
   "execution_count": 46,
   "metadata": {},
   "outputs": [
    {
     "data": {
      "text/html": [
       "<div>\n",
       "<style scoped>\n",
       "    .dataframe tbody tr th:only-of-type {\n",
       "        vertical-align: middle;\n",
       "    }\n",
       "\n",
       "    .dataframe tbody tr th {\n",
       "        vertical-align: top;\n",
       "    }\n",
       "\n",
       "    .dataframe thead th {\n",
       "        text-align: right;\n",
       "    }\n",
       "</style>\n",
       "<table border=\"1\" class=\"dataframe\">\n",
       "  <thead>\n",
       "    <tr style=\"text-align: right;\">\n",
       "      <th></th>\n",
       "      <th>family_status</th>\n",
       "      <th>mean</th>\n",
       "      <th>std</th>\n",
       "      <th>count</th>\n",
       "    </tr>\n",
       "  </thead>\n",
       "  <tbody>\n",
       "    <tr>\n",
       "      <td>0</td>\n",
       "      <td>вдовец / вдова</td>\n",
       "      <td>0.065263</td>\n",
       "      <td>0.247120</td>\n",
       "      <td>950</td>\n",
       "    </tr>\n",
       "    <tr>\n",
       "      <td>1</td>\n",
       "      <td>в разводе</td>\n",
       "      <td>0.071006</td>\n",
       "      <td>0.256943</td>\n",
       "      <td>1183</td>\n",
       "    </tr>\n",
       "    <tr>\n",
       "      <td>2</td>\n",
       "      <td>женат / замужем</td>\n",
       "      <td>0.075447</td>\n",
       "      <td>0.264122</td>\n",
       "      <td>12247</td>\n",
       "    </tr>\n",
       "    <tr>\n",
       "      <td>3</td>\n",
       "      <td>гражданский брак</td>\n",
       "      <td>0.092736</td>\n",
       "      <td>0.290097</td>\n",
       "      <td>4130</td>\n",
       "    </tr>\n",
       "    <tr>\n",
       "      <td>4</td>\n",
       "      <td>Не женат / не замужем</td>\n",
       "      <td>0.097666</td>\n",
       "      <td>0.296916</td>\n",
       "      <td>2785</td>\n",
       "    </tr>\n",
       "  </tbody>\n",
       "</table>\n",
       "</div>"
      ],
      "text/plain": [
       "           family_status      mean       std  count\n",
       "0         вдовец / вдова  0.065263  0.247120    950\n",
       "1              в разводе  0.071006  0.256943   1183\n",
       "2        женат / замужем  0.075447  0.264122  12247\n",
       "3       гражданский брак  0.092736  0.290097   4130\n",
       "4  Не женат / не замужем  0.097666  0.296916   2785"
      ]
     },
     "execution_count": 46,
     "metadata": {},
     "output_type": "execute_result"
    }
   ],
   "source": [
    "# решим задачу проверенным однострочником\n",
    "df_wo_nan_droped.groupby('family_status')['debt'].agg(['mean','std', 'count']).sort_values('mean').reset_index()"
   ]
  },
  {
   "cell_type": "markdown",
   "metadata": {},
   "source": [
    "##### Вывод 2:"
   ]
  },
  {
   "cell_type": "markdown",
   "metadata": {},
   "source": [
    "1. Самые ненадежные - холостые и \"почти\" холостые \n",
    "2. Самые надежные у кого брак уже был (по той или иной причине)\n",
    "3. Те кто в браке - посередине"
   ]
  },
  {
   "cell_type": "markdown",
   "metadata": {},
   "source": [
    "<a id=\"step_3.3\"></a>\n",
    "##### Вопрос 3: Есть ли зависимость между уровнем дохода и возвратом кредита в срок?"
   ]
  },
  {
   "cell_type": "code",
   "execution_count": 47,
   "metadata": {},
   "outputs": [
    {
     "data": {
      "text/html": [
       "<div>\n",
       "<style scoped>\n",
       "    .dataframe tbody tr th:only-of-type {\n",
       "        vertical-align: middle;\n",
       "    }\n",
       "\n",
       "    .dataframe tbody tr th {\n",
       "        vertical-align: top;\n",
       "    }\n",
       "\n",
       "    .dataframe thead th {\n",
       "        text-align: right;\n",
       "    }\n",
       "</style>\n",
       "<table border=\"1\" class=\"dataframe\">\n",
       "  <thead>\n",
       "    <tr style=\"text-align: right;\">\n",
       "      <th></th>\n",
       "      <th>total_income_category</th>\n",
       "      <th>mean</th>\n",
       "      <th>std</th>\n",
       "      <th>count</th>\n",
       "    </tr>\n",
       "  </thead>\n",
       "  <tbody>\n",
       "    <tr>\n",
       "      <td>0</td>\n",
       "      <td>D</td>\n",
       "      <td>0.060345</td>\n",
       "      <td>0.238467</td>\n",
       "      <td>348</td>\n",
       "    </tr>\n",
       "    <tr>\n",
       "      <td>1</td>\n",
       "      <td>B</td>\n",
       "      <td>0.069691</td>\n",
       "      <td>0.254650</td>\n",
       "      <td>5180</td>\n",
       "    </tr>\n",
       "    <tr>\n",
       "      <td>2</td>\n",
       "      <td>A</td>\n",
       "      <td>0.080000</td>\n",
       "      <td>0.276887</td>\n",
       "      <td>25</td>\n",
       "    </tr>\n",
       "    <tr>\n",
       "      <td>3</td>\n",
       "      <td>C</td>\n",
       "      <td>0.085178</td>\n",
       "      <td>0.279155</td>\n",
       "      <td>15720</td>\n",
       "    </tr>\n",
       "    <tr>\n",
       "      <td>4</td>\n",
       "      <td>E</td>\n",
       "      <td>0.090909</td>\n",
       "      <td>0.294245</td>\n",
       "      <td>22</td>\n",
       "    </tr>\n",
       "  </tbody>\n",
       "</table>\n",
       "</div>"
      ],
      "text/plain": [
       "  total_income_category      mean       std  count\n",
       "0                     D  0.060345  0.238467    348\n",
       "1                     B  0.069691  0.254650   5180\n",
       "2                     A  0.080000  0.276887     25\n",
       "3                     C  0.085178  0.279155  15720\n",
       "4                     E  0.090909  0.294245     22"
      ]
     },
     "execution_count": 47,
     "metadata": {},
     "output_type": "execute_result"
    }
   ],
   "source": [
    "# решим задачу проверенным однострочником\n",
    "df_wo_nan_droped.groupby('total_income_category')['debt'].agg(['mean','std', 'count']).sort_values('mean').reset_index()"
   ]
  },
  {
   "cell_type": "markdown",
   "metadata": {},
   "source": [
    "##### Вывод 3:"
   ]
  },
  {
   "cell_type": "markdown",
   "metadata": {},
   "source": [
    "1. Судя по категориям, зависимости не наблюдается\n",
    "2. Возможно данный вопрос требует дополнительного изучения другими методами (которые еще не проходили)"
   ]
  },
  {
   "cell_type": "markdown",
   "metadata": {},
   "source": [
    "<a id=\"step_3.4\"></a>\n",
    "##### Вопрос 4: Как разные цели кредита влияют на его возврат в срок?"
   ]
  },
  {
   "cell_type": "code",
   "execution_count": 48,
   "metadata": {},
   "outputs": [
    {
     "data": {
      "text/html": [
       "<div>\n",
       "<style scoped>\n",
       "    .dataframe tbody tr th:only-of-type {\n",
       "        vertical-align: middle;\n",
       "    }\n",
       "\n",
       "    .dataframe tbody tr th {\n",
       "        vertical-align: top;\n",
       "    }\n",
       "\n",
       "    .dataframe thead th {\n",
       "        text-align: right;\n",
       "    }\n",
       "</style>\n",
       "<table border=\"1\" class=\"dataframe\">\n",
       "  <thead>\n",
       "    <tr style=\"text-align: right;\">\n",
       "      <th></th>\n",
       "      <th>purpose_category</th>\n",
       "      <th>mean</th>\n",
       "      <th>std</th>\n",
       "      <th>count</th>\n",
       "    </tr>\n",
       "  </thead>\n",
       "  <tbody>\n",
       "    <tr>\n",
       "      <td>0</td>\n",
       "      <td>операции с недвижимостью</td>\n",
       "      <td>0.072407</td>\n",
       "      <td>0.259173</td>\n",
       "      <td>10731</td>\n",
       "    </tr>\n",
       "    <tr>\n",
       "      <td>1</td>\n",
       "      <td>проведение свадьбы</td>\n",
       "      <td>0.078287</td>\n",
       "      <td>0.268681</td>\n",
       "      <td>2312</td>\n",
       "    </tr>\n",
       "    <tr>\n",
       "      <td>2</td>\n",
       "      <td>получение образования</td>\n",
       "      <td>0.092690</td>\n",
       "      <td>0.290034</td>\n",
       "      <td>3981</td>\n",
       "    </tr>\n",
       "    <tr>\n",
       "      <td>3</td>\n",
       "      <td>операции с автомобилем</td>\n",
       "      <td>0.093187</td>\n",
       "      <td>0.290728</td>\n",
       "      <td>4271</td>\n",
       "    </tr>\n",
       "  </tbody>\n",
       "</table>\n",
       "</div>"
      ],
      "text/plain": [
       "           purpose_category      mean       std  count\n",
       "0  операции с недвижимостью  0.072407  0.259173  10731\n",
       "1        проведение свадьбы  0.078287  0.268681   2312\n",
       "2     получение образования  0.092690  0.290034   3981\n",
       "3    операции с автомобилем  0.093187  0.290728   4271"
      ]
     },
     "execution_count": 48,
     "metadata": {},
     "output_type": "execute_result"
    }
   ],
   "source": [
    "# решим задачу проверенным однострочником\n",
    "df_wo_nan_droped.groupby('purpose_category')['debt'].agg(['mean','std', 'count']).sort_values('mean').reset_index()"
   ]
  },
  {
   "cell_type": "markdown",
   "metadata": {},
   "source": [
    "##### Вывод 4:"
   ]
  },
  {
   "cell_type": "markdown",
   "metadata": {},
   "source": [
    "1. Операции с недвижимостью и затем свадьбы - самые надежные (вероятно некоторые во время медового месяца пересматривают свои планы на жизнь..)\n",
    "2. Операции с автомобилем - самые ненадежные."
   ]
  },
  {
   "cell_type": "markdown",
   "metadata": {},
   "source": [
    "<a id=\"step_4\"></a>\n",
    "## Общий вывод:"
   ]
  },
  {
   "cell_type": "markdown",
   "metadata": {},
   "source": [
    "В процессе работы над данным проектом выполнена предобработка данных (проверка на аномалии и исправление, удаление и замена пропусков, удаление дубликатов), категоризованы статьи дохода и целей кредита и сделаны предварительные выводы о вероятности возврата кредита в срок в зависимости от попадании заемщика в различные категории: \n",
    "1. Рост среднего количества должников с увеличением количества детей в целом наблюдается\n",
    "2. Самые ненадежные - холостые или в гражданском браке, самые надежные - у кого брак в прошлом.\n",
    "3. Между уровнем дохода и вероятностью стать должником закономерности предварительно не наблюдается. \n",
    "4. Выявили наиболее и наименее рисковые категории цели кредитов. "
   ]
  },
  {
   "cell_type": "markdown",
   "metadata": {},
   "source": [
    "**Выводы:**\n",
    "\n",
    "1. Похоже что датасет несколько доработан до того чтобы стать учебным (сделана предварительная поготовка, чтоб было проще категоризовать и т.д. , изменены доходы (вероятно домножено на какой-то нелинейный коэффицинт)\n",
    "2. Где использовать pivot_table не очень понял, буду благодарен за комментарий/подсказку где бы он тут пригодился (после какого шага), но думаю принцип Оккама тут вполне можно применить: Зачем их делать, если можно без них... ну разве что в тренировочных целях..))\n",
    "3. Достаточно много времени съела перетосовка кода и комментариев когда понял, что сперва бы все же модуль взять, а потом уже медиану высчитывать.. тут вопрос: это было намеренно сделано чтоб заполнилось или случайно? \n",
    "4. Текстовые комментарии  тоже съедают много времени. Насколько они избыточны/полны/не полны ? Можно ли сократить их или такой объем - норм?"
   ]
  }
 ],
 "metadata": {
  "ExecuteTimeLog": [
   {
    "duration": 524,
    "start_time": "2022-02-23T07:01:05.676Z"
   },
   {
    "duration": 79,
    "start_time": "2022-02-23T07:02:06.666Z"
   },
   {
    "duration": 11,
    "start_time": "2022-02-23T07:02:23.622Z"
   },
   {
    "duration": 22,
    "start_time": "2022-02-23T07:04:27.244Z"
   },
   {
    "duration": 10,
    "start_time": "2022-02-23T07:06:23.595Z"
   },
   {
    "duration": 22,
    "start_time": "2022-02-23T07:06:37.980Z"
   },
   {
    "duration": 6,
    "start_time": "2022-02-23T07:07:54.237Z"
   },
   {
    "duration": 34,
    "start_time": "2022-02-23T07:08:01.045Z"
   },
   {
    "duration": 4,
    "start_time": "2022-02-23T07:08:38.200Z"
   },
   {
    "duration": 21,
    "start_time": "2022-02-23T07:08:39.354Z"
   },
   {
    "duration": 21,
    "start_time": "2022-02-23T07:09:04.173Z"
   },
   {
    "duration": 55,
    "start_time": "2022-02-23T07:09:33.709Z"
   },
   {
    "duration": 20,
    "start_time": "2022-02-23T07:09:38.988Z"
   },
   {
    "duration": 244,
    "start_time": "2022-02-23T07:10:25.010Z"
   },
   {
    "duration": 6,
    "start_time": "2022-02-23T07:11:35.302Z"
   },
   {
    "duration": 34,
    "start_time": "2022-02-23T07:16:15.179Z"
   },
   {
    "duration": 26,
    "start_time": "2022-02-23T07:16:41.598Z"
   },
   {
    "duration": 15,
    "start_time": "2022-02-23T07:16:51.336Z"
   },
   {
    "duration": 7,
    "start_time": "2022-02-23T07:17:40.981Z"
   },
   {
    "duration": 178,
    "start_time": "2022-02-23T07:18:42.113Z"
   },
   {
    "duration": 11,
    "start_time": "2022-02-23T07:18:45.515Z"
   },
   {
    "duration": 6,
    "start_time": "2022-02-23T07:20:12.913Z"
   },
   {
    "duration": 6,
    "start_time": "2022-02-23T07:20:17.972Z"
   },
   {
    "duration": 57,
    "start_time": "2022-02-23T07:23:28.035Z"
   },
   {
    "duration": 59,
    "start_time": "2022-02-23T07:23:34.740Z"
   },
   {
    "duration": 52,
    "start_time": "2022-02-23T07:23:37.216Z"
   },
   {
    "duration": 102,
    "start_time": "2022-02-23T07:23:53.703Z"
   },
   {
    "duration": 22,
    "start_time": "2022-02-23T07:24:09.640Z"
   },
   {
    "duration": 7,
    "start_time": "2022-02-23T07:24:18.226Z"
   },
   {
    "duration": 7,
    "start_time": "2022-02-23T07:24:28.439Z"
   },
   {
    "duration": 197,
    "start_time": "2022-02-23T07:30:39.098Z"
   },
   {
    "duration": 6,
    "start_time": "2022-02-23T07:42:37.397Z"
   },
   {
    "duration": 5,
    "start_time": "2022-02-23T07:42:42.860Z"
   },
   {
    "duration": 5,
    "start_time": "2022-02-23T07:42:47.223Z"
   },
   {
    "duration": 5,
    "start_time": "2022-02-23T07:43:05.935Z"
   },
   {
    "duration": 624,
    "start_time": "2022-02-23T08:09:12.706Z"
   },
   {
    "duration": 5,
    "start_time": "2022-02-23T08:09:46.283Z"
   },
   {
    "duration": 6,
    "start_time": "2022-02-23T08:10:27.774Z"
   },
   {
    "duration": 3,
    "start_time": "2022-02-23T08:16:31.811Z"
   },
   {
    "duration": 3,
    "start_time": "2022-02-23T08:18:47.849Z"
   },
   {
    "duration": 54,
    "start_time": "2022-02-23T08:18:48.378Z"
   },
   {
    "duration": 11,
    "start_time": "2022-02-23T08:18:49.021Z"
   },
   {
    "duration": 7,
    "start_time": "2022-02-23T08:18:49.531Z"
   },
   {
    "duration": 5,
    "start_time": "2022-02-23T08:18:51.110Z"
   },
   {
    "duration": 3,
    "start_time": "2022-02-23T08:18:52.558Z"
   },
   {
    "duration": 8,
    "start_time": "2022-02-23T08:18:56.770Z"
   },
   {
    "duration": 182,
    "start_time": "2022-02-23T08:19:01.191Z"
   },
   {
    "duration": 78,
    "start_time": "2022-02-23T08:19:37.158Z"
   },
   {
    "duration": 178,
    "start_time": "2022-02-23T08:19:42.383Z"
   },
   {
    "duration": 4,
    "start_time": "2022-02-23T08:20:42.358Z"
   },
   {
    "duration": 6,
    "start_time": "2022-02-23T08:20:45.277Z"
   },
   {
    "duration": 176,
    "start_time": "2022-02-23T08:20:46.188Z"
   },
   {
    "duration": 3,
    "start_time": "2022-02-23T08:21:04.270Z"
   },
   {
    "duration": 7,
    "start_time": "2022-02-23T08:21:04.829Z"
   },
   {
    "duration": 164,
    "start_time": "2022-02-23T08:21:05.223Z"
   },
   {
    "duration": 3,
    "start_time": "2022-02-23T08:21:50.864Z"
   },
   {
    "duration": 6,
    "start_time": "2022-02-23T08:21:51.339Z"
   },
   {
    "duration": 9,
    "start_time": "2022-02-23T08:21:51.770Z"
   },
   {
    "duration": 5,
    "start_time": "2022-02-23T08:21:57.975Z"
   },
   {
    "duration": 206,
    "start_time": "2022-02-23T08:22:20.540Z"
   },
   {
    "duration": 8,
    "start_time": "2022-02-23T08:22:21.123Z"
   },
   {
    "duration": 179,
    "start_time": "2022-02-23T08:22:29.398Z"
   },
   {
    "duration": 3,
    "start_time": "2022-02-23T08:22:38.827Z"
   },
   {
    "duration": 6,
    "start_time": "2022-02-23T08:22:40.459Z"
   },
   {
    "duration": 6,
    "start_time": "2022-02-23T08:22:41.099Z"
   },
   {
    "duration": 3,
    "start_time": "2022-02-23T08:22:48.629Z"
   },
   {
    "duration": 9,
    "start_time": "2022-02-23T08:22:49.328Z"
   },
   {
    "duration": 6,
    "start_time": "2022-02-23T08:22:49.739Z"
   },
   {
    "duration": 4,
    "start_time": "2022-02-23T08:22:56.771Z"
   },
   {
    "duration": 7,
    "start_time": "2022-02-23T08:22:57.127Z"
   },
   {
    "duration": 7,
    "start_time": "2022-02-23T08:28:30.515Z"
   },
   {
    "duration": 5,
    "start_time": "2022-02-23T08:28:38.539Z"
   },
   {
    "duration": 6,
    "start_time": "2022-02-23T08:28:44.410Z"
   },
   {
    "duration": 57,
    "start_time": "2022-02-23T08:28:51.000Z"
   },
   {
    "duration": 6,
    "start_time": "2022-02-23T08:28:56.384Z"
   },
   {
    "duration": 3,
    "start_time": "2022-02-23T08:43:01.679Z"
   },
   {
    "duration": 32,
    "start_time": "2022-02-23T08:43:37.803Z"
   },
   {
    "duration": 34,
    "start_time": "2022-02-23T08:51:38.755Z"
   },
   {
    "duration": 5,
    "start_time": "2022-02-23T09:07:16.837Z"
   },
   {
    "duration": 7,
    "start_time": "2022-02-23T09:08:38.118Z"
   },
   {
    "duration": 7,
    "start_time": "2022-02-23T09:09:32.515Z"
   },
   {
    "duration": 23,
    "start_time": "2022-02-23T09:09:58.021Z"
   },
   {
    "duration": 20,
    "start_time": "2022-02-23T09:10:59.388Z"
   },
   {
    "duration": 60,
    "start_time": "2022-02-23T09:13:00.749Z"
   },
   {
    "duration": 16,
    "start_time": "2022-02-23T09:13:20.756Z"
   },
   {
    "duration": 18,
    "start_time": "2022-02-23T09:13:27.211Z"
   },
   {
    "duration": 14,
    "start_time": "2022-02-23T09:13:32.687Z"
   },
   {
    "duration": 12,
    "start_time": "2022-02-23T09:18:35.297Z"
   },
   {
    "duration": 4,
    "start_time": "2022-02-23T09:22:19.709Z"
   },
   {
    "duration": 10,
    "start_time": "2022-02-23T09:26:11.415Z"
   },
   {
    "duration": 7,
    "start_time": "2022-02-23T09:26:12.708Z"
   },
   {
    "duration": 32,
    "start_time": "2022-02-23T09:26:14.413Z"
   },
   {
    "duration": 4,
    "start_time": "2022-02-23T09:26:17.719Z"
   },
   {
    "duration": 21,
    "start_time": "2022-02-23T09:26:24.062Z"
   },
   {
    "duration": 8,
    "start_time": "2022-02-23T09:26:27.571Z"
   },
   {
    "duration": 14,
    "start_time": "2022-02-23T09:26:37.714Z"
   },
   {
    "duration": 6,
    "start_time": "2022-02-23T09:26:44.037Z"
   },
   {
    "duration": 7,
    "start_time": "2022-02-23T09:27:25.399Z"
   },
   {
    "duration": 13,
    "start_time": "2022-02-23T11:57:00.096Z"
   },
   {
    "duration": 180,
    "start_time": "2022-02-23T12:00:53.522Z"
   },
   {
    "duration": 17,
    "start_time": "2022-02-23T12:01:02.691Z"
   },
   {
    "duration": 15,
    "start_time": "2022-02-23T12:01:26.168Z"
   },
   {
    "duration": 31,
    "start_time": "2022-02-23T12:01:44.753Z"
   },
   {
    "duration": 15,
    "start_time": "2022-02-23T12:04:06.289Z"
   },
   {
    "duration": 6,
    "start_time": "2022-02-23T12:07:51.416Z"
   },
   {
    "duration": 7,
    "start_time": "2022-02-23T12:08:05.888Z"
   },
   {
    "duration": 7,
    "start_time": "2022-02-23T12:08:22.575Z"
   },
   {
    "duration": 7,
    "start_time": "2022-02-23T12:10:44.312Z"
   },
   {
    "duration": 7,
    "start_time": "2022-02-23T12:11:13.661Z"
   },
   {
    "duration": 8,
    "start_time": "2022-02-23T12:11:52.436Z"
   },
   {
    "duration": 11,
    "start_time": "2022-02-23T12:12:21.635Z"
   },
   {
    "duration": 10,
    "start_time": "2022-02-23T12:13:07.143Z"
   },
   {
    "duration": 11,
    "start_time": "2022-02-23T12:13:41.089Z"
   },
   {
    "duration": 10,
    "start_time": "2022-02-23T12:13:47.233Z"
   },
   {
    "duration": 8,
    "start_time": "2022-02-23T12:14:35.071Z"
   },
   {
    "duration": 8,
    "start_time": "2022-02-23T12:15:19.101Z"
   },
   {
    "duration": 8,
    "start_time": "2022-02-23T12:15:27.921Z"
   },
   {
    "duration": 10,
    "start_time": "2022-02-23T12:16:10.402Z"
   },
   {
    "duration": 14,
    "start_time": "2022-02-23T12:18:04.130Z"
   },
   {
    "duration": 25,
    "start_time": "2022-02-23T12:19:42.891Z"
   },
   {
    "duration": 29,
    "start_time": "2022-02-23T12:21:34.268Z"
   },
   {
    "duration": 4,
    "start_time": "2022-02-23T12:50:36.194Z"
   },
   {
    "duration": 5286,
    "start_time": "2022-02-23T12:50:53.871Z"
   },
   {
    "duration": 4,
    "start_time": "2022-02-23T12:54:32.041Z"
   },
   {
    "duration": 4701,
    "start_time": "2022-02-23T12:54:35.665Z"
   },
   {
    "duration": 4,
    "start_time": "2022-02-23T12:55:45.313Z"
   },
   {
    "duration": 4347,
    "start_time": "2022-02-23T12:55:49.192Z"
   },
   {
    "duration": 4,
    "start_time": "2022-02-23T12:57:26.226Z"
   },
   {
    "duration": 4517,
    "start_time": "2022-02-23T12:57:41.322Z"
   },
   {
    "duration": 556,
    "start_time": "2022-02-23T12:58:56.975Z"
   },
   {
    "duration": 65,
    "start_time": "2022-02-23T12:58:57.929Z"
   },
   {
    "duration": 12,
    "start_time": "2022-02-23T12:58:58.816Z"
   },
   {
    "duration": 7,
    "start_time": "2022-02-23T12:59:01.436Z"
   },
   {
    "duration": 5,
    "start_time": "2022-02-23T12:59:04.188Z"
   },
   {
    "duration": 4,
    "start_time": "2022-02-23T13:01:12.519Z"
   },
   {
    "duration": 1176,
    "start_time": "2022-02-23T13:01:15.268Z"
   },
   {
    "duration": 462,
    "start_time": "2022-02-23T13:01:33.749Z"
   },
   {
    "duration": 5,
    "start_time": "2022-02-23T13:06:12.542Z"
   },
   {
    "duration": 604,
    "start_time": "2022-02-23T13:06:15.870Z"
   },
   {
    "duration": 5,
    "start_time": "2022-02-23T13:06:31.592Z"
   },
   {
    "duration": 647,
    "start_time": "2022-02-23T13:06:32.670Z"
   },
   {
    "duration": 4,
    "start_time": "2022-02-23T13:07:27.497Z"
   },
   {
    "duration": 667,
    "start_time": "2022-02-23T13:07:28.064Z"
   },
   {
    "duration": 4,
    "start_time": "2022-02-23T13:08:30.228Z"
   },
   {
    "duration": 616,
    "start_time": "2022-02-23T13:08:31.797Z"
   },
   {
    "duration": 5,
    "start_time": "2022-02-23T14:20:24.713Z"
   },
   {
    "duration": 626,
    "start_time": "2022-02-23T14:20:25.182Z"
   },
   {
    "duration": 4,
    "start_time": "2022-02-23T14:21:13.680Z"
   },
   {
    "duration": 566,
    "start_time": "2022-02-23T14:21:15.128Z"
   },
   {
    "duration": 556,
    "start_time": "2022-02-23T14:21:29.318Z"
   },
   {
    "duration": 3,
    "start_time": "2022-02-23T14:21:38.307Z"
   },
   {
    "duration": 514,
    "start_time": "2022-02-23T14:21:38.863Z"
   },
   {
    "duration": 4,
    "start_time": "2022-02-23T14:22:28.297Z"
   },
   {
    "duration": 654,
    "start_time": "2022-02-23T14:22:28.855Z"
   },
   {
    "duration": 4,
    "start_time": "2022-02-23T14:23:08.647Z"
   },
   {
    "duration": 610,
    "start_time": "2022-02-23T14:23:09.208Z"
   },
   {
    "duration": 4,
    "start_time": "2022-02-23T14:23:22.292Z"
   },
   {
    "duration": 595,
    "start_time": "2022-02-23T14:23:24.015Z"
   },
   {
    "duration": 6,
    "start_time": "2022-02-23T14:24:08.855Z"
   },
   {
    "duration": 199,
    "start_time": "2022-02-23T14:26:41.888Z"
   },
   {
    "duration": 5,
    "start_time": "2022-02-23T14:28:28.073Z"
   },
   {
    "duration": 56,
    "start_time": "2022-02-23T14:29:18.000Z"
   },
   {
    "duration": 5,
    "start_time": "2022-02-23T14:29:24.688Z"
   },
   {
    "duration": 4,
    "start_time": "2022-02-23T14:30:08.712Z"
   },
   {
    "duration": 5614,
    "start_time": "2022-02-23T14:32:14.769Z"
   },
   {
    "duration": 6,
    "start_time": "2022-02-23T14:32:46.624Z"
   },
   {
    "duration": 9,
    "start_time": "2022-02-23T14:33:30.418Z"
   },
   {
    "duration": 7,
    "start_time": "2022-02-23T14:34:18.463Z"
   },
   {
    "duration": 6,
    "start_time": "2022-02-23T14:34:25.467Z"
   },
   {
    "duration": 8,
    "start_time": "2022-02-23T14:34:46.696Z"
   },
   {
    "duration": 9,
    "start_time": "2022-02-23T14:36:15.786Z"
   },
   {
    "duration": 8,
    "start_time": "2022-02-23T14:36:32.913Z"
   },
   {
    "duration": 200,
    "start_time": "2022-02-23T14:38:45.068Z"
   },
   {
    "duration": 62,
    "start_time": "2022-02-23T14:39:30.059Z"
   },
   {
    "duration": 5,
    "start_time": "2022-02-23T14:40:24.588Z"
   },
   {
    "duration": 5,
    "start_time": "2022-02-23T14:41:04.706Z"
   },
   {
    "duration": 5,
    "start_time": "2022-02-23T14:41:10.904Z"
   },
   {
    "duration": 195,
    "start_time": "2022-02-23T14:41:58.607Z"
   },
   {
    "duration": 196,
    "start_time": "2022-02-23T14:45:39.107Z"
   },
   {
    "duration": 177,
    "start_time": "2022-02-23T14:45:45.465Z"
   },
   {
    "duration": 172,
    "start_time": "2022-02-23T14:46:26.970Z"
   },
   {
    "duration": 10,
    "start_time": "2022-02-23T14:46:42.609Z"
   },
   {
    "duration": 175,
    "start_time": "2022-02-23T14:47:33.451Z"
   },
   {
    "duration": 475,
    "start_time": "2022-02-23T14:47:36.804Z"
   },
   {
    "duration": 9,
    "start_time": "2022-02-23T14:47:54.121Z"
   },
   {
    "duration": 10,
    "start_time": "2022-02-23T14:48:02.840Z"
   },
   {
    "duration": 9,
    "start_time": "2022-02-23T14:48:38.449Z"
   },
   {
    "duration": 490,
    "start_time": "2022-02-23T14:49:38.605Z"
   },
   {
    "duration": 6380,
    "start_time": "2022-02-23T14:49:52.228Z"
   },
   {
    "duration": 691,
    "start_time": "2022-02-23T15:06:18.924Z"
   },
   {
    "duration": 190,
    "start_time": "2022-02-23T15:09:53.982Z"
   },
   {
    "duration": 102,
    "start_time": "2022-02-23T15:10:59.265Z"
   },
   {
    "duration": 95,
    "start_time": "2022-02-23T15:14:37.071Z"
   },
   {
    "duration": 65,
    "start_time": "2022-02-23T15:17:53.130Z"
   },
   {
    "duration": 168,
    "start_time": "2022-02-23T15:18:17.414Z"
   },
   {
    "duration": 446,
    "start_time": "2022-02-23T15:18:30.047Z"
   },
   {
    "duration": 8,
    "start_time": "2022-02-23T15:18:46.881Z"
   },
   {
    "duration": 155,
    "start_time": "2022-02-23T15:19:30.385Z"
   },
   {
    "duration": 144,
    "start_time": "2022-02-23T15:22:04.713Z"
   },
   {
    "duration": 175,
    "start_time": "2022-02-23T15:22:52.596Z"
   },
   {
    "duration": 172,
    "start_time": "2022-02-23T15:23:02.329Z"
   },
   {
    "duration": 8,
    "start_time": "2022-02-23T15:26:01.466Z"
   },
   {
    "duration": 15,
    "start_time": "2022-02-23T15:26:12.352Z"
   },
   {
    "duration": 205,
    "start_time": "2022-02-23T15:26:21.073Z"
   },
   {
    "duration": 209,
    "start_time": "2022-02-23T15:27:58.145Z"
   },
   {
    "duration": 7,
    "start_time": "2022-02-23T15:45:27.724Z"
   },
   {
    "duration": 10,
    "start_time": "2022-02-23T15:45:30.902Z"
   },
   {
    "duration": 7,
    "start_time": "2022-02-23T15:45:34.435Z"
   },
   {
    "duration": 7,
    "start_time": "2022-02-23T15:45:37.940Z"
   },
   {
    "duration": 13,
    "start_time": "2022-02-23T15:45:41.454Z"
   },
   {
    "duration": 13,
    "start_time": "2022-02-23T15:46:36.740Z"
   },
   {
    "duration": 32,
    "start_time": "2022-02-23T15:56:52.165Z"
   },
   {
    "duration": 598,
    "start_time": "2022-02-23T15:57:04.537Z"
   },
   {
    "duration": 64,
    "start_time": "2022-02-23T15:57:05.138Z"
   },
   {
    "duration": 13,
    "start_time": "2022-02-23T15:57:06.116Z"
   },
   {
    "duration": 32,
    "start_time": "2022-02-23T15:57:07.051Z"
   },
   {
    "duration": 5,
    "start_time": "2022-02-23T16:01:23.580Z"
   },
   {
    "duration": 6,
    "start_time": "2022-02-23T16:09:43.441Z"
   },
   {
    "duration": 13,
    "start_time": "2022-02-23T16:09:55.625Z"
   },
   {
    "duration": 7,
    "start_time": "2022-02-23T16:10:31.856Z"
   },
   {
    "duration": 18,
    "start_time": "2022-02-23T16:10:56.894Z"
   },
   {
    "duration": 65,
    "start_time": "2022-02-23T16:12:51.037Z"
   },
   {
    "duration": 700,
    "start_time": "2022-02-23T16:14:49.037Z"
   },
   {
    "duration": 85,
    "start_time": "2022-02-23T16:14:49.740Z"
   },
   {
    "duration": 12,
    "start_time": "2022-02-23T16:14:50.705Z"
   },
   {
    "duration": 32,
    "start_time": "2022-02-23T16:14:53.178Z"
   },
   {
    "duration": 6,
    "start_time": "2022-02-23T16:14:56.155Z"
   },
   {
    "duration": 13,
    "start_time": "2022-02-23T16:14:58.953Z"
   },
   {
    "duration": 7,
    "start_time": "2022-02-23T16:15:01.320Z"
   },
   {
    "duration": 15,
    "start_time": "2022-02-23T16:15:38.297Z"
   },
   {
    "duration": 238,
    "start_time": "2022-02-23T16:16:04.921Z"
   },
   {
    "duration": 8,
    "start_time": "2022-02-23T16:16:38.242Z"
   },
   {
    "duration": 164,
    "start_time": "2022-02-23T16:16:40.850Z"
   },
   {
    "duration": 8,
    "start_time": "2022-02-23T16:16:55.754Z"
   },
   {
    "duration": 7,
    "start_time": "2022-02-23T16:18:38.347Z"
   },
   {
    "duration": 7,
    "start_time": "2022-02-23T16:18:41.737Z"
   },
   {
    "duration": 6,
    "start_time": "2022-02-23T16:19:49.509Z"
   },
   {
    "duration": 8,
    "start_time": "2022-02-23T16:20:35.507Z"
   },
   {
    "duration": 5,
    "start_time": "2022-02-23T16:21:02.060Z"
   },
   {
    "duration": 220,
    "start_time": "2022-02-23T16:21:44.949Z"
   },
   {
    "duration": 6,
    "start_time": "2022-02-23T16:22:37.686Z"
   },
   {
    "duration": 6,
    "start_time": "2022-02-23T16:22:53.692Z"
   },
   {
    "duration": 8,
    "start_time": "2022-02-23T16:23:00.315Z"
   },
   {
    "duration": 4,
    "start_time": "2022-02-23T16:23:07.116Z"
   },
   {
    "duration": 219,
    "start_time": "2022-02-23T16:23:19.779Z"
   },
   {
    "duration": 419,
    "start_time": "2022-02-23T16:24:34.301Z"
   },
   {
    "duration": 4,
    "start_time": "2022-02-23T16:28:41.242Z"
   },
   {
    "duration": 4,
    "start_time": "2022-02-23T16:30:23.863Z"
   },
   {
    "duration": 11,
    "start_time": "2022-02-23T16:30:24.397Z"
   },
   {
    "duration": 11,
    "start_time": "2022-02-23T16:30:25.014Z"
   },
   {
    "duration": 170,
    "start_time": "2022-02-23T16:33:06.091Z"
   },
   {
    "duration": 795,
    "start_time": "2022-02-23T16:33:19.101Z"
   },
   {
    "duration": 697,
    "start_time": "2022-02-23T16:35:24.162Z"
   },
   {
    "duration": 14,
    "start_time": "2022-02-23T16:35:45.747Z"
   },
   {
    "duration": 182,
    "start_time": "2022-02-23T16:37:42.449Z"
   },
   {
    "duration": 1724,
    "start_time": "2022-02-23T16:38:18.843Z"
   },
   {
    "duration": 561,
    "start_time": "2022-02-23T16:38:48.299Z"
   },
   {
    "duration": 58,
    "start_time": "2022-02-23T16:38:48.862Z"
   },
   {
    "duration": 12,
    "start_time": "2022-02-23T16:38:49.582Z"
   },
   {
    "duration": 53,
    "start_time": "2022-02-23T16:38:50.432Z"
   },
   {
    "duration": 6,
    "start_time": "2022-02-23T16:38:53.808Z"
   },
   {
    "duration": 13,
    "start_time": "2022-02-23T16:39:00.194Z"
   },
   {
    "duration": 8,
    "start_time": "2022-02-23T16:39:14.506Z"
   },
   {
    "duration": 15,
    "start_time": "2022-02-23T16:39:16.488Z"
   },
   {
    "duration": 6,
    "start_time": "2022-02-23T16:39:19.389Z"
   },
   {
    "duration": 8,
    "start_time": "2022-02-23T16:39:30.564Z"
   },
   {
    "duration": 7,
    "start_time": "2022-02-23T16:39:33.469Z"
   },
   {
    "duration": 6,
    "start_time": "2022-02-23T16:39:36.383Z"
   },
   {
    "duration": 8,
    "start_time": "2022-02-23T16:39:41.091Z"
   },
   {
    "duration": 5,
    "start_time": "2022-02-23T16:39:47.199Z"
   },
   {
    "duration": 429,
    "start_time": "2022-02-23T16:39:50.331Z"
   },
   {
    "duration": 4,
    "start_time": "2022-02-23T16:39:55.137Z"
   },
   {
    "duration": 11,
    "start_time": "2022-02-23T16:39:58.538Z"
   },
   {
    "duration": 12,
    "start_time": "2022-02-23T16:40:01.998Z"
   },
   {
    "duration": 11,
    "start_time": "2022-02-23T16:40:13.840Z"
   },
   {
    "duration": 559,
    "start_time": "2022-02-23T16:41:45.748Z"
   },
   {
    "duration": 59,
    "start_time": "2022-02-23T16:41:46.309Z"
   },
   {
    "duration": 10,
    "start_time": "2022-02-23T16:41:46.370Z"
   },
   {
    "duration": 31,
    "start_time": "2022-02-23T16:41:46.404Z"
   },
   {
    "duration": 5,
    "start_time": "2022-02-23T16:41:49.960Z"
   },
   {
    "duration": 14,
    "start_time": "2022-02-23T16:41:51.661Z"
   },
   {
    "duration": 8,
    "start_time": "2022-02-23T16:41:51.957Z"
   },
   {
    "duration": 15,
    "start_time": "2022-02-23T16:41:53.717Z"
   },
   {
    "duration": 6,
    "start_time": "2022-02-23T16:41:56.786Z"
   },
   {
    "duration": 8,
    "start_time": "2022-02-23T16:41:57.577Z"
   },
   {
    "duration": 6,
    "start_time": "2022-02-23T16:42:01.109Z"
   },
   {
    "duration": 6,
    "start_time": "2022-02-23T16:42:03.271Z"
   },
   {
    "duration": 8,
    "start_time": "2022-02-23T16:42:04.108Z"
   },
   {
    "duration": 4,
    "start_time": "2022-02-23T16:42:05.910Z"
   },
   {
    "duration": 5,
    "start_time": "2022-02-23T16:42:25.080Z"
   },
   {
    "duration": 266,
    "start_time": "2022-02-23T16:42:26.513Z"
   },
   {
    "duration": 584,
    "start_time": "2022-02-23T16:43:38.158Z"
   },
   {
    "duration": 9,
    "start_time": "2022-02-23T16:43:42.470Z"
   },
   {
    "duration": 6,
    "start_time": "2022-02-23T16:43:45.847Z"
   },
   {
    "duration": 12,
    "start_time": "2022-02-23T16:43:49.302Z"
   },
   {
    "duration": 14,
    "start_time": "2022-02-23T16:44:09.146Z"
   },
   {
    "duration": 258,
    "start_time": "2022-02-23T16:45:17.387Z"
   },
   {
    "duration": 15,
    "start_time": "2022-02-23T16:45:27.145Z"
   },
   {
    "duration": 194,
    "start_time": "2022-02-23T16:45:50.440Z"
   },
   {
    "duration": 32,
    "start_time": "2022-02-23T16:46:11.679Z"
   },
   {
    "duration": 6,
    "start_time": "2022-02-23T16:47:49.490Z"
   },
   {
    "duration": 5,
    "start_time": "2022-02-23T16:48:28.678Z"
   },
   {
    "duration": 163,
    "start_time": "2022-02-23T16:59:53.021Z"
   },
   {
    "duration": 15,
    "start_time": "2022-02-23T17:00:02.778Z"
   },
   {
    "duration": 29,
    "start_time": "2022-02-23T17:00:04.292Z"
   },
   {
    "duration": 1313,
    "start_time": "2022-02-23T17:00:05.971Z"
   },
   {
    "duration": 4,
    "start_time": "2022-02-23T17:00:20.951Z"
   },
   {
    "duration": 8,
    "start_time": "2022-02-23T17:00:32.005Z"
   },
   {
    "duration": 176,
    "start_time": "2022-02-23T17:21:56.475Z"
   },
   {
    "duration": 11,
    "start_time": "2022-02-23T17:22:13.911Z"
   },
   {
    "duration": 908,
    "start_time": "2022-02-23T17:24:35.510Z"
   },
   {
    "duration": 9,
    "start_time": "2022-02-23T17:29:32.379Z"
   },
   {
    "duration": 179,
    "start_time": "2022-02-23T17:30:31.811Z"
   },
   {
    "duration": 186,
    "start_time": "2022-02-23T17:30:47.990Z"
   },
   {
    "duration": 231,
    "start_time": "2022-02-23T17:30:58.679Z"
   },
   {
    "duration": 5,
    "start_time": "2022-02-23T17:31:08.019Z"
   },
   {
    "duration": 56,
    "start_time": "2022-02-23T17:31:57.536Z"
   },
   {
    "duration": 59,
    "start_time": "2022-02-23T17:32:12.810Z"
   },
   {
    "duration": 19,
    "start_time": "2022-02-23T17:32:32.745Z"
   },
   {
    "duration": 194,
    "start_time": "2022-02-23T17:34:05.101Z"
   },
   {
    "duration": 185,
    "start_time": "2022-02-23T17:34:14.742Z"
   },
   {
    "duration": 177,
    "start_time": "2022-02-23T17:34:26.932Z"
   },
   {
    "duration": 10,
    "start_time": "2022-02-23T17:34:32.484Z"
   },
   {
    "duration": 16,
    "start_time": "2022-02-23T17:35:14.828Z"
   },
   {
    "duration": 13,
    "start_time": "2022-02-23T17:35:37.673Z"
   },
   {
    "duration": 54,
    "start_time": "2022-02-23T17:35:58.003Z"
   },
   {
    "duration": 23,
    "start_time": "2022-02-23T17:36:04.965Z"
   },
   {
    "duration": 15,
    "start_time": "2022-02-23T17:36:18.074Z"
   },
   {
    "duration": 26,
    "start_time": "2022-02-23T17:38:51.974Z"
   },
   {
    "duration": 17,
    "start_time": "2022-02-23T17:39:03.475Z"
   },
   {
    "duration": 24,
    "start_time": "2022-02-23T17:39:20.513Z"
   },
   {
    "duration": 96,
    "start_time": "2022-02-23T17:41:07.785Z"
   },
   {
    "duration": 21,
    "start_time": "2022-02-23T17:42:02.954Z"
   },
   {
    "duration": 10,
    "start_time": "2022-02-23T17:42:12.849Z"
   },
   {
    "duration": 18,
    "start_time": "2022-02-23T17:42:37.684Z"
   },
   {
    "duration": 59,
    "start_time": "2022-02-23T17:42:57.686Z"
   },
   {
    "duration": 1109,
    "start_time": "2022-02-24T06:37:41.577Z"
   },
   {
    "duration": 69,
    "start_time": "2022-02-24T06:37:42.689Z"
   },
   {
    "duration": 13,
    "start_time": "2022-02-24T06:37:42.760Z"
   },
   {
    "duration": 35,
    "start_time": "2022-02-24T06:37:44.969Z"
   },
   {
    "duration": 6,
    "start_time": "2022-02-24T06:37:53.368Z"
   },
   {
    "duration": 15,
    "start_time": "2022-02-24T06:38:00.466Z"
   },
   {
    "duration": 6,
    "start_time": "2022-02-24T06:38:10.911Z"
   },
   {
    "duration": 16,
    "start_time": "2022-02-24T06:38:11.946Z"
   },
   {
    "duration": 7,
    "start_time": "2022-02-24T06:38:24.039Z"
   },
   {
    "duration": 8,
    "start_time": "2022-02-24T06:38:27.279Z"
   },
   {
    "duration": 6,
    "start_time": "2022-02-24T06:59:13.437Z"
   },
   {
    "duration": 5,
    "start_time": "2022-02-24T06:59:18.130Z"
   },
   {
    "duration": 15,
    "start_time": "2022-02-24T07:10:18.292Z"
   },
   {
    "duration": 83,
    "start_time": "2022-02-24T07:19:44.892Z"
   },
   {
    "duration": 6703,
    "start_time": "2022-02-24T07:19:50.409Z"
   },
   {
    "duration": 6,
    "start_time": "2022-02-24T07:20:02.759Z"
   },
   {
    "duration": 6,
    "start_time": "2022-02-24T07:20:13.363Z"
   },
   {
    "duration": 233,
    "start_time": "2022-02-24T07:22:06.503Z"
   },
   {
    "duration": 264,
    "start_time": "2022-02-24T07:22:21.078Z"
   },
   {
    "duration": 5,
    "start_time": "2022-02-24T07:23:21.272Z"
   },
   {
    "duration": 7,
    "start_time": "2022-02-24T07:23:49.424Z"
   },
   {
    "duration": 8,
    "start_time": "2022-02-24T07:24:02.689Z"
   },
   {
    "duration": 7,
    "start_time": "2022-02-24T07:25:17.571Z"
   },
   {
    "duration": 7,
    "start_time": "2022-02-24T07:25:51.313Z"
   },
   {
    "duration": 7,
    "start_time": "2022-02-24T07:29:12.434Z"
   },
   {
    "duration": 582,
    "start_time": "2022-02-24T07:32:52.034Z"
   },
   {
    "duration": 6,
    "start_time": "2022-02-24T07:34:07.724Z"
   },
   {
    "duration": 9,
    "start_time": "2022-02-24T07:34:24.132Z"
   },
   {
    "duration": 6,
    "start_time": "2022-02-24T07:34:50.651Z"
   },
   {
    "duration": 9,
    "start_time": "2022-02-24T07:34:54.015Z"
   },
   {
    "duration": 5,
    "start_time": "2022-02-24T07:34:58.655Z"
   },
   {
    "duration": 285,
    "start_time": "2022-02-24T07:35:20.865Z"
   },
   {
    "duration": 784,
    "start_time": "2022-02-24T07:35:44.923Z"
   },
   {
    "duration": 1050,
    "start_time": "2022-02-24T08:13:13.882Z"
   },
   {
    "duration": 1121,
    "start_time": "2022-02-24T08:13:19.723Z"
   },
   {
    "duration": 418,
    "start_time": "2022-02-24T08:15:42.884Z"
   },
   {
    "duration": 470,
    "start_time": "2022-02-24T08:15:49.563Z"
   },
   {
    "duration": 780,
    "start_time": "2022-02-24T08:15:56.916Z"
   },
   {
    "duration": 3,
    "start_time": "2022-02-24T08:16:42.300Z"
   },
   {
    "duration": 971,
    "start_time": "2022-02-24T08:16:48.876Z"
   },
   {
    "duration": 992,
    "start_time": "2022-02-24T08:17:51.573Z"
   },
   {
    "duration": 7,
    "start_time": "2022-02-24T08:33:20.454Z"
   },
   {
    "duration": 1202,
    "start_time": "2022-02-24T08:34:11.975Z"
   },
   {
    "duration": 61,
    "start_time": "2022-02-24T08:34:13.179Z"
   },
   {
    "duration": 13,
    "start_time": "2022-02-24T08:34:13.242Z"
   },
   {
    "duration": 35,
    "start_time": "2022-02-24T08:34:16.423Z"
   },
   {
    "duration": 6,
    "start_time": "2022-02-24T08:34:20.982Z"
   },
   {
    "duration": 16,
    "start_time": "2022-02-24T08:34:25.155Z"
   },
   {
    "duration": 6,
    "start_time": "2022-02-24T08:34:34.443Z"
   },
   {
    "duration": 15,
    "start_time": "2022-02-24T08:34:37.191Z"
   },
   {
    "duration": 7,
    "start_time": "2022-02-24T08:34:52.706Z"
   },
   {
    "duration": 15,
    "start_time": "2022-02-24T08:34:56.630Z"
   },
   {
    "duration": 340,
    "start_time": "2022-02-24T08:35:00.123Z"
   },
   {
    "duration": 8,
    "start_time": "2022-02-24T08:37:19.016Z"
   },
   {
    "duration": 1185,
    "start_time": "2022-02-25T06:46:36.985Z"
   },
   {
    "duration": 63,
    "start_time": "2022-02-25T06:46:41.904Z"
   },
   {
    "duration": 12,
    "start_time": "2022-02-25T06:46:52.738Z"
   },
   {
    "duration": 34,
    "start_time": "2022-02-25T06:47:00.444Z"
   },
   {
    "duration": 3,
    "start_time": "2022-02-25T06:48:05.388Z"
   },
   {
    "duration": 8,
    "start_time": "2022-02-25T06:49:09.181Z"
   },
   {
    "duration": 8,
    "start_time": "2022-02-25T06:49:19.043Z"
   },
   {
    "duration": 7,
    "start_time": "2022-02-25T06:49:33.782Z"
   },
   {
    "duration": 20,
    "start_time": "2022-02-25T06:50:13.929Z"
   },
   {
    "duration": 22,
    "start_time": "2022-02-25T06:50:50.300Z"
   },
   {
    "duration": 25,
    "start_time": "2022-02-25T06:51:01.448Z"
   },
   {
    "duration": 27,
    "start_time": "2022-02-25T06:51:08.229Z"
   },
   {
    "duration": 23,
    "start_time": "2022-02-25T06:53:44.774Z"
   },
   {
    "duration": 6,
    "start_time": "2022-02-25T06:54:10.524Z"
   },
   {
    "duration": 331,
    "start_time": "2022-02-25T06:55:06.347Z"
   },
   {
    "duration": 289,
    "start_time": "2022-02-25T07:06:01.744Z"
   },
   {
    "duration": 955,
    "start_time": "2022-02-25T07:30:53.852Z"
   },
   {
    "duration": 1014,
    "start_time": "2022-02-25T07:31:28.818Z"
   },
   {
    "duration": 854,
    "start_time": "2022-02-25T17:03:29.714Z"
   },
   {
    "duration": 8,
    "start_time": "2022-02-25T17:04:30.573Z"
   },
   {
    "duration": 7,
    "start_time": "2022-02-25T17:10:04.526Z"
   },
   {
    "duration": 7,
    "start_time": "2022-02-25T17:11:10.990Z"
   },
   {
    "duration": 7,
    "start_time": "2022-02-25T17:13:17.118Z"
   },
   {
    "duration": 1119,
    "start_time": "2022-02-25T17:13:47.845Z"
   },
   {
    "duration": 69,
    "start_time": "2022-02-25T17:13:48.966Z"
   },
   {
    "duration": 12,
    "start_time": "2022-02-25T17:13:49.037Z"
   },
   {
    "duration": 33,
    "start_time": "2022-02-25T17:13:51.386Z"
   },
   {
    "duration": 9,
    "start_time": "2022-02-25T17:14:22.825Z"
   },
   {
    "duration": 27,
    "start_time": "2022-02-25T17:14:31.041Z"
   },
   {
    "duration": 6,
    "start_time": "2022-02-25T17:15:05.810Z"
   },
   {
    "duration": 840,
    "start_time": "2022-02-25T17:15:30.972Z"
   },
   {
    "duration": 6,
    "start_time": "2022-02-25T17:15:37.826Z"
   },
   {
    "duration": 7,
    "start_time": "2022-02-25T17:16:36.761Z"
   },
   {
    "duration": 8,
    "start_time": "2022-02-25T17:16:42.849Z"
   },
   {
    "duration": 7,
    "start_time": "2022-02-25T17:17:42.505Z"
   },
   {
    "duration": 6,
    "start_time": "2022-02-25T17:18:15.737Z"
   },
   {
    "duration": 7,
    "start_time": "2022-02-25T17:19:15.170Z"
   },
   {
    "duration": 6,
    "start_time": "2022-02-25T17:19:35.004Z"
   },
   {
    "duration": 13,
    "start_time": "2022-02-25T17:26:08.167Z"
   },
   {
    "duration": 1184,
    "start_time": "2022-02-26T06:58:03.580Z"
   },
   {
    "duration": 69,
    "start_time": "2022-02-26T06:58:04.766Z"
   },
   {
    "duration": 11,
    "start_time": "2022-02-26T06:58:04.837Z"
   },
   {
    "duration": 33,
    "start_time": "2022-02-26T06:58:05.601Z"
   },
   {
    "duration": 8,
    "start_time": "2022-02-26T06:59:39.626Z"
   },
   {
    "duration": 24,
    "start_time": "2022-02-26T07:00:16.292Z"
   },
   {
    "duration": 25,
    "start_time": "2022-02-26T07:02:19.617Z"
   },
   {
    "duration": 5,
    "start_time": "2022-02-26T07:02:35.406Z"
   },
   {
    "duration": 807,
    "start_time": "2022-02-26T07:02:39.459Z"
   },
   {
    "duration": 5,
    "start_time": "2022-02-26T07:03:10.886Z"
   },
   {
    "duration": 7,
    "start_time": "2022-02-26T07:03:16.092Z"
   },
   {
    "duration": 7,
    "start_time": "2022-02-26T07:03:18.843Z"
   },
   {
    "duration": 7,
    "start_time": "2022-02-26T07:04:19.493Z"
   },
   {
    "duration": 10,
    "start_time": "2022-02-26T07:09:21.214Z"
   },
   {
    "duration": 9,
    "start_time": "2022-02-26T07:09:54.651Z"
   },
   {
    "duration": 11,
    "start_time": "2022-02-26T07:11:16.686Z"
   },
   {
    "duration": 4,
    "start_time": "2022-02-26T07:11:46.889Z"
   },
   {
    "duration": 6,
    "start_time": "2022-02-26T07:12:14.856Z"
   },
   {
    "duration": 6,
    "start_time": "2022-02-26T07:14:09.458Z"
   },
   {
    "duration": 6,
    "start_time": "2022-02-26T07:14:20.786Z"
   },
   {
    "duration": 17,
    "start_time": "2022-02-26T07:15:11.523Z"
   },
   {
    "duration": 7,
    "start_time": "2022-02-26T07:15:17.631Z"
   },
   {
    "duration": 10,
    "start_time": "2022-02-26T07:16:26.553Z"
   },
   {
    "duration": 15,
    "start_time": "2022-02-26T07:17:02.739Z"
   },
   {
    "duration": 12,
    "start_time": "2022-02-26T07:17:13.529Z"
   },
   {
    "duration": 12,
    "start_time": "2022-02-26T07:17:45.120Z"
   },
   {
    "duration": 13,
    "start_time": "2022-02-26T07:17:48.224Z"
   },
   {
    "duration": 1125,
    "start_time": "2022-02-26T07:18:23.432Z"
   },
   {
    "duration": 60,
    "start_time": "2022-02-26T07:18:24.558Z"
   },
   {
    "duration": 12,
    "start_time": "2022-02-26T07:18:24.619Z"
   },
   {
    "duration": 35,
    "start_time": "2022-02-26T07:18:24.632Z"
   },
   {
    "duration": 8,
    "start_time": "2022-02-26T07:18:25.866Z"
   },
   {
    "duration": 28,
    "start_time": "2022-02-26T07:18:28.267Z"
   },
   {
    "duration": 5,
    "start_time": "2022-02-26T07:18:29.340Z"
   },
   {
    "duration": 850,
    "start_time": "2022-02-26T07:18:31.154Z"
   },
   {
    "duration": 5,
    "start_time": "2022-02-26T07:18:32.840Z"
   },
   {
    "duration": 7,
    "start_time": "2022-02-26T07:18:40.235Z"
   },
   {
    "duration": 6,
    "start_time": "2022-02-26T07:18:42.630Z"
   },
   {
    "duration": 14,
    "start_time": "2022-02-26T07:18:50.924Z"
   },
   {
    "duration": 13,
    "start_time": "2022-02-26T07:19:53.577Z"
   },
   {
    "duration": 6,
    "start_time": "2022-02-26T07:23:20.087Z"
   },
   {
    "duration": 6,
    "start_time": "2022-02-26T07:24:16.551Z"
   },
   {
    "duration": 12,
    "start_time": "2022-02-26T07:25:03.728Z"
   },
   {
    "duration": 12,
    "start_time": "2022-02-26T07:25:19.324Z"
   },
   {
    "duration": 263,
    "start_time": "2022-02-26T07:27:54.525Z"
   },
   {
    "duration": 8,
    "start_time": "2022-02-26T07:28:41.621Z"
   },
   {
    "duration": 8,
    "start_time": "2022-02-26T07:30:27.138Z"
   },
   {
    "duration": 9,
    "start_time": "2022-02-26T08:09:02.207Z"
   },
   {
    "duration": 10,
    "start_time": "2022-02-26T08:10:50.745Z"
   },
   {
    "duration": 174,
    "start_time": "2022-02-26T08:11:44.167Z"
   },
   {
    "duration": 204,
    "start_time": "2022-02-26T08:11:55.199Z"
   },
   {
    "duration": 182,
    "start_time": "2022-02-26T08:12:12.887Z"
   },
   {
    "duration": 11,
    "start_time": "2022-02-26T08:12:25.008Z"
   },
   {
    "duration": 10,
    "start_time": "2022-02-26T08:12:35.912Z"
   },
   {
    "duration": 11,
    "start_time": "2022-02-26T08:14:16.538Z"
   },
   {
    "duration": 9,
    "start_time": "2022-02-26T08:14:44.639Z"
   },
   {
    "duration": 10,
    "start_time": "2022-02-26T08:15:23.773Z"
   },
   {
    "duration": 18,
    "start_time": "2022-02-26T08:17:04.977Z"
   },
   {
    "duration": 60,
    "start_time": "2022-02-26T08:25:32.842Z"
   },
   {
    "duration": 188,
    "start_time": "2022-02-26T08:25:56.985Z"
   },
   {
    "duration": 17,
    "start_time": "2022-02-26T08:26:12.995Z"
   },
   {
    "duration": 18,
    "start_time": "2022-02-26T08:26:53.503Z"
   },
   {
    "duration": 11,
    "start_time": "2022-02-26T08:26:59.655Z"
   },
   {
    "duration": 10,
    "start_time": "2022-02-26T08:27:22.476Z"
   },
   {
    "duration": 15,
    "start_time": "2022-02-26T08:27:34.842Z"
   },
   {
    "duration": 68,
    "start_time": "2022-02-26T08:31:06.883Z"
   },
   {
    "duration": 316,
    "start_time": "2022-02-26T08:31:17.884Z"
   },
   {
    "duration": 154,
    "start_time": "2022-02-26T08:31:53.399Z"
   },
   {
    "duration": 155,
    "start_time": "2022-02-26T08:38:13.847Z"
   },
   {
    "duration": 10,
    "start_time": "2022-02-26T08:40:44.703Z"
   },
   {
    "duration": 9,
    "start_time": "2022-02-26T08:40:49.710Z"
   },
   {
    "duration": 4452,
    "start_time": "2022-02-26T08:40:57.182Z"
   },
   {
    "duration": 187,
    "start_time": "2022-02-26T08:42:30.121Z"
   },
   {
    "duration": 5,
    "start_time": "2022-02-26T08:42:43.423Z"
   },
   {
    "duration": 6,
    "start_time": "2022-02-26T08:43:03.913Z"
   },
   {
    "duration": 5,
    "start_time": "2022-02-26T08:43:29.496Z"
   },
   {
    "duration": 11,
    "start_time": "2022-02-26T08:43:55.007Z"
   },
   {
    "duration": 11,
    "start_time": "2022-02-26T08:44:09.542Z"
   },
   {
    "duration": 12,
    "start_time": "2022-02-26T08:44:28.461Z"
   },
   {
    "duration": 10,
    "start_time": "2022-02-26T08:44:32.070Z"
   },
   {
    "duration": 9,
    "start_time": "2022-02-26T08:44:34.794Z"
   },
   {
    "duration": 9,
    "start_time": "2022-02-26T08:45:35.584Z"
   },
   {
    "duration": 4803,
    "start_time": "2022-02-26T08:45:42.313Z"
   },
   {
    "duration": 201,
    "start_time": "2022-02-26T08:48:15.553Z"
   },
   {
    "duration": 172,
    "start_time": "2022-02-26T08:48:48.899Z"
   },
   {
    "duration": 10,
    "start_time": "2022-02-26T08:49:43.139Z"
   },
   {
    "duration": 231,
    "start_time": "2022-02-26T08:53:33.322Z"
   },
   {
    "duration": 242,
    "start_time": "2022-02-26T09:02:20.387Z"
   },
   {
    "duration": 1102,
    "start_time": "2022-02-26T09:27:26.153Z"
   },
   {
    "duration": 62,
    "start_time": "2022-02-26T09:27:27.256Z"
   },
   {
    "duration": 13,
    "start_time": "2022-02-26T09:27:27.320Z"
   },
   {
    "duration": 34,
    "start_time": "2022-02-26T09:27:27.598Z"
   },
   {
    "duration": 8,
    "start_time": "2022-02-26T09:27:30.372Z"
   },
   {
    "duration": 24,
    "start_time": "2022-02-26T09:27:31.075Z"
   },
   {
    "duration": 5,
    "start_time": "2022-02-26T09:27:33.255Z"
   },
   {
    "duration": 833,
    "start_time": "2022-02-26T09:27:33.965Z"
   },
   {
    "duration": 5,
    "start_time": "2022-02-26T09:27:36.518Z"
   },
   {
    "duration": 8,
    "start_time": "2022-02-26T09:27:36.919Z"
   },
   {
    "duration": 7,
    "start_time": "2022-02-26T09:27:38.721Z"
   },
   {
    "duration": 14,
    "start_time": "2022-02-26T09:27:40.429Z"
   },
   {
    "duration": 6,
    "start_time": "2022-02-26T09:27:42.532Z"
   },
   {
    "duration": 6,
    "start_time": "2022-02-26T09:27:44.669Z"
   },
   {
    "duration": 11,
    "start_time": "2022-02-26T09:27:46.612Z"
   },
   {
    "duration": 19,
    "start_time": "2022-02-26T09:27:47.607Z"
   },
   {
    "duration": 5,
    "start_time": "2022-02-26T09:27:53.124Z"
   },
   {
    "duration": 303,
    "start_time": "2022-02-26T09:28:36.194Z"
   },
   {
    "duration": 19,
    "start_time": "2022-02-26T09:28:47.340Z"
   },
   {
    "duration": 317,
    "start_time": "2022-02-26T09:29:50.495Z"
   },
   {
    "duration": 5,
    "start_time": "2022-02-26T09:30:53.912Z"
   },
   {
    "duration": 180,
    "start_time": "2022-02-26T09:35:39.625Z"
   },
   {
    "duration": 640,
    "start_time": "2022-02-26T09:35:51.258Z"
   },
   {
    "duration": 322,
    "start_time": "2022-02-26T09:36:18.606Z"
   },
   {
    "duration": 322,
    "start_time": "2022-02-26T09:36:46.447Z"
   },
   {
    "duration": 7,
    "start_time": "2022-02-26T09:37:08.400Z"
   },
   {
    "duration": 14,
    "start_time": "2022-02-26T09:37:22.056Z"
   },
   {
    "duration": 1072,
    "start_time": "2022-02-27T06:02:08.196Z"
   },
   {
    "duration": 61,
    "start_time": "2022-02-27T06:02:10.352Z"
   },
   {
    "duration": 12,
    "start_time": "2022-02-27T06:02:12.217Z"
   },
   {
    "duration": 32,
    "start_time": "2022-02-27T06:02:23.563Z"
   },
   {
    "duration": 8,
    "start_time": "2022-02-27T06:02:34.024Z"
   },
   {
    "duration": 23,
    "start_time": "2022-02-27T06:02:40.091Z"
   },
   {
    "duration": 5,
    "start_time": "2022-02-27T06:02:56.596Z"
   },
   {
    "duration": 789,
    "start_time": "2022-02-27T06:03:06.283Z"
   },
   {
    "duration": 5,
    "start_time": "2022-02-27T06:03:17.818Z"
   },
   {
    "duration": 7,
    "start_time": "2022-02-27T06:16:55.359Z"
   },
   {
    "duration": 7,
    "start_time": "2022-02-27T06:37:40.526Z"
   },
   {
    "duration": 5,
    "start_time": "2022-02-27T06:41:20.345Z"
   },
   {
    "duration": 6,
    "start_time": "2022-02-27T06:41:35.453Z"
   },
   {
    "duration": 10,
    "start_time": "2022-02-27T06:41:46.614Z"
   },
   {
    "duration": 16,
    "start_time": "2022-02-27T06:42:16.511Z"
   },
   {
    "duration": 11,
    "start_time": "2022-02-27T06:43:49.804Z"
   },
   {
    "duration": 10,
    "start_time": "2022-02-27T06:52:42.802Z"
   },
   {
    "duration": 5,
    "start_time": "2022-02-27T06:55:48.355Z"
   },
   {
    "duration": 6,
    "start_time": "2022-02-27T07:00:17.621Z"
   },
   {
    "duration": 530,
    "start_time": "2022-02-27T07:01:21.954Z"
   },
   {
    "duration": 5,
    "start_time": "2022-02-27T07:02:03.741Z"
   },
   {
    "duration": 5,
    "start_time": "2022-02-27T07:02:15.675Z"
   },
   {
    "duration": 533,
    "start_time": "2022-02-27T07:02:16.168Z"
   },
   {
    "duration": 5,
    "start_time": "2022-02-27T07:03:20.575Z"
   },
   {
    "duration": 553,
    "start_time": "2022-02-27T07:03:21.095Z"
   },
   {
    "duration": 7,
    "start_time": "2022-02-27T07:06:52.861Z"
   },
   {
    "duration": 11,
    "start_time": "2022-02-27T07:07:01.303Z"
   },
   {
    "duration": 14,
    "start_time": "2022-02-27T07:14:49.421Z"
   },
   {
    "duration": 180,
    "start_time": "2022-02-27T07:14:53.298Z"
   },
   {
    "duration": 261,
    "start_time": "2022-02-27T07:14:58.327Z"
   },
   {
    "duration": 18,
    "start_time": "2022-02-27T07:15:02.395Z"
   },
   {
    "duration": 15,
    "start_time": "2022-02-27T08:06:33.395Z"
   },
   {
    "duration": 33,
    "start_time": "2022-02-27T08:06:52.898Z"
   },
   {
    "duration": 204,
    "start_time": "2022-02-27T08:08:38.115Z"
   },
   {
    "duration": 249,
    "start_time": "2022-02-27T08:09:28.312Z"
   },
   {
    "duration": 36,
    "start_time": "2022-02-27T08:09:48.546Z"
   },
   {
    "duration": 17,
    "start_time": "2022-02-27T08:10:06.376Z"
   },
   {
    "duration": 11,
    "start_time": "2022-02-27T08:10:46.665Z"
   },
   {
    "duration": 253,
    "start_time": "2022-02-27T08:10:49.186Z"
   },
   {
    "duration": 19,
    "start_time": "2022-02-27T08:10:56.025Z"
   },
   {
    "duration": 5,
    "start_time": "2022-02-27T08:11:36.121Z"
   },
   {
    "duration": 19,
    "start_time": "2022-02-27T08:14:32.820Z"
   },
   {
    "duration": 4,
    "start_time": "2022-02-27T08:19:22.300Z"
   },
   {
    "duration": 5,
    "start_time": "2022-02-27T08:19:36.601Z"
   },
   {
    "duration": 18,
    "start_time": "2022-02-27T08:55:50.425Z"
   },
   {
    "duration": 205,
    "start_time": "2022-02-27T08:58:39.098Z"
   },
   {
    "duration": 5,
    "start_time": "2022-02-27T08:58:47.705Z"
   },
   {
    "duration": 6,
    "start_time": "2022-02-27T08:59:34.467Z"
   },
   {
    "duration": 62,
    "start_time": "2022-02-27T09:14:52.209Z"
   },
   {
    "duration": 58,
    "start_time": "2022-02-27T09:14:56.242Z"
   },
   {
    "duration": 57,
    "start_time": "2022-02-27T09:15:13.390Z"
   },
   {
    "duration": 255,
    "start_time": "2022-02-27T09:15:19.047Z"
   },
   {
    "duration": 3,
    "start_time": "2022-02-27T09:15:23.189Z"
   },
   {
    "duration": 49,
    "start_time": "2022-02-27T09:15:24.628Z"
   },
   {
    "duration": 18,
    "start_time": "2022-02-27T09:15:28.349Z"
   },
   {
    "duration": 21,
    "start_time": "2022-02-27T09:15:51.035Z"
   },
   {
    "duration": 50,
    "start_time": "2022-02-27T09:15:55.104Z"
   },
   {
    "duration": 3,
    "start_time": "2022-02-27T09:40:10.342Z"
   },
   {
    "duration": 16,
    "start_time": "2022-02-27T09:42:30.078Z"
   },
   {
    "duration": 194,
    "start_time": "2022-02-27T09:43:49.107Z"
   },
   {
    "duration": 189,
    "start_time": "2022-02-27T09:44:03.414Z"
   },
   {
    "duration": 19,
    "start_time": "2022-02-27T09:44:10.889Z"
   },
   {
    "duration": 6,
    "start_time": "2022-02-27T09:48:13.190Z"
   },
   {
    "duration": 6,
    "start_time": "2022-02-27T09:48:59.269Z"
   },
   {
    "duration": 6,
    "start_time": "2022-02-27T09:49:17.977Z"
   },
   {
    "duration": 5,
    "start_time": "2022-02-27T09:49:23.809Z"
   },
   {
    "duration": 4,
    "start_time": "2022-02-27T09:52:52.991Z"
   },
   {
    "duration": 18,
    "start_time": "2022-02-27T09:56:50.269Z"
   },
   {
    "duration": 10,
    "start_time": "2022-02-27T09:57:14.611Z"
   },
   {
    "duration": 9,
    "start_time": "2022-02-27T09:57:21.210Z"
   },
   {
    "duration": 9,
    "start_time": "2022-02-27T09:57:36.001Z"
   },
   {
    "duration": 222,
    "start_time": "2022-02-27T10:00:07.147Z"
   },
   {
    "duration": 9,
    "start_time": "2022-02-27T10:03:57.642Z"
   },
   {
    "duration": 30,
    "start_time": "2022-02-27T10:07:28.326Z"
   },
   {
    "duration": 34,
    "start_time": "2022-02-27T10:07:48.658Z"
   },
   {
    "duration": 4,
    "start_time": "2022-02-27T10:17:37.240Z"
   },
   {
    "duration": 3,
    "start_time": "2022-02-27T10:18:01.742Z"
   },
   {
    "duration": 963,
    "start_time": "2022-02-27T10:22:06.845Z"
   },
   {
    "duration": 10,
    "start_time": "2022-02-27T10:22:16.149Z"
   },
   {
    "duration": 13,
    "start_time": "2022-02-27T10:24:14.767Z"
   },
   {
    "duration": 19,
    "start_time": "2022-02-27T10:26:42.071Z"
   },
   {
    "duration": 11,
    "start_time": "2022-02-27T10:26:57.240Z"
   },
   {
    "duration": 15,
    "start_time": "2022-02-27T10:27:23.606Z"
   },
   {
    "duration": 12,
    "start_time": "2022-02-27T10:39:49.893Z"
   },
   {
    "duration": 181,
    "start_time": "2022-02-27T10:43:28.577Z"
   },
   {
    "duration": 173,
    "start_time": "2022-02-27T10:43:36.679Z"
   },
   {
    "duration": 216,
    "start_time": "2022-02-27T10:43:45.185Z"
   },
   {
    "duration": 181,
    "start_time": "2022-02-27T10:44:17.317Z"
   },
   {
    "duration": 197,
    "start_time": "2022-02-27T10:54:05.261Z"
   },
   {
    "duration": 178,
    "start_time": "2022-02-27T10:54:46.564Z"
   },
   {
    "duration": 180,
    "start_time": "2022-02-27T11:02:06.949Z"
   },
   {
    "duration": 6,
    "start_time": "2022-02-27T11:03:43.510Z"
   },
   {
    "duration": 4,
    "start_time": "2022-02-27T11:03:58.407Z"
   },
   {
    "duration": 14,
    "start_time": "2022-02-27T11:04:19.921Z"
   },
   {
    "duration": 37,
    "start_time": "2022-02-27T11:09:40.103Z"
   },
   {
    "duration": 36,
    "start_time": "2022-02-27T11:10:38.918Z"
   },
   {
    "duration": 224,
    "start_time": "2022-02-27T11:11:15.600Z"
   },
   {
    "duration": 6,
    "start_time": "2022-02-27T11:12:28.164Z"
   },
   {
    "duration": 7,
    "start_time": "2022-02-27T11:13:15.256Z"
   },
   {
    "duration": 8,
    "start_time": "2022-02-27T11:13:52.686Z"
   },
   {
    "duration": 199,
    "start_time": "2022-02-27T11:14:54.145Z"
   },
   {
    "duration": 12,
    "start_time": "2022-02-27T11:15:08.881Z"
   },
   {
    "duration": 13,
    "start_time": "2022-02-27T11:15:20.894Z"
   },
   {
    "duration": 69,
    "start_time": "2022-02-27T11:22:58.432Z"
   },
   {
    "duration": 17,
    "start_time": "2022-02-27T11:23:07.939Z"
   },
   {
    "duration": 203,
    "start_time": "2022-02-27T11:24:57.338Z"
   },
   {
    "duration": 297,
    "start_time": "2022-02-27T11:25:04.051Z"
   },
   {
    "duration": 199,
    "start_time": "2022-02-27T11:25:24.051Z"
   },
   {
    "duration": 30,
    "start_time": "2022-02-27T11:26:07.243Z"
   },
   {
    "duration": 24,
    "start_time": "2022-02-27T11:26:37.351Z"
   },
   {
    "duration": 24,
    "start_time": "2022-02-27T11:27:25.326Z"
   },
   {
    "duration": 892,
    "start_time": "2022-02-27T11:30:23.252Z"
   },
   {
    "duration": 138,
    "start_time": "2022-02-27T11:31:12.045Z"
   },
   {
    "duration": 157,
    "start_time": "2022-02-27T11:31:30.085Z"
   },
   {
    "duration": 224,
    "start_time": "2022-02-27T11:32:04.469Z"
   },
   {
    "duration": 11,
    "start_time": "2022-02-27T11:32:22.549Z"
   },
   {
    "duration": 5,
    "start_time": "2022-02-27T11:35:46.373Z"
   },
   {
    "duration": 18,
    "start_time": "2022-02-27T11:38:23.748Z"
   },
   {
    "duration": 26,
    "start_time": "2022-02-27T11:39:08.336Z"
   },
   {
    "duration": 13,
    "start_time": "2022-02-27T11:39:36.422Z"
   },
   {
    "duration": 11,
    "start_time": "2022-02-27T11:44:07.695Z"
   },
   {
    "duration": 70,
    "start_time": "2022-02-27T12:09:04.051Z"
   },
   {
    "duration": 10,
    "start_time": "2022-02-27T12:09:08.651Z"
   },
   {
    "duration": 9,
    "start_time": "2022-02-27T12:15:56.559Z"
   },
   {
    "duration": 10,
    "start_time": "2022-02-27T12:17:38.989Z"
   },
   {
    "duration": 13,
    "start_time": "2022-02-27T12:20:42.124Z"
   },
   {
    "duration": 9,
    "start_time": "2022-02-27T12:27:11.278Z"
   },
   {
    "duration": 12,
    "start_time": "2022-02-27T12:44:01.426Z"
   },
   {
    "duration": 11,
    "start_time": "2022-02-27T12:46:12.217Z"
   },
   {
    "duration": 10,
    "start_time": "2022-02-27T12:47:10.454Z"
   },
   {
    "duration": 10,
    "start_time": "2022-02-27T12:47:38.572Z"
   },
   {
    "duration": 10,
    "start_time": "2022-02-27T12:47:57.464Z"
   },
   {
    "duration": 190,
    "start_time": "2022-02-27T12:49:07.374Z"
   },
   {
    "duration": 171,
    "start_time": "2022-02-27T12:49:16.461Z"
   },
   {
    "duration": 200,
    "start_time": "2022-02-27T12:49:24.292Z"
   },
   {
    "duration": 5,
    "start_time": "2022-02-27T12:49:29.804Z"
   },
   {
    "duration": 4,
    "start_time": "2022-02-27T12:50:12.237Z"
   },
   {
    "duration": 26,
    "start_time": "2022-02-27T12:51:36.584Z"
   },
   {
    "duration": 11,
    "start_time": "2022-02-27T12:53:39.184Z"
   },
   {
    "duration": 12,
    "start_time": "2022-02-27T12:53:48.158Z"
   },
   {
    "duration": 13,
    "start_time": "2022-02-27T12:54:15.273Z"
   },
   {
    "duration": 3,
    "start_time": "2022-02-27T13:03:54.519Z"
   },
   {
    "duration": 6,
    "start_time": "2022-02-27T13:05:01.072Z"
   },
   {
    "duration": 14,
    "start_time": "2022-02-27T13:05:22.360Z"
   },
   {
    "duration": 13,
    "start_time": "2022-02-27T13:05:41.647Z"
   },
   {
    "duration": 13,
    "start_time": "2022-02-27T13:05:54.964Z"
   },
   {
    "duration": 15,
    "start_time": "2022-02-27T13:06:07.887Z"
   },
   {
    "duration": 14,
    "start_time": "2022-02-27T13:12:40.384Z"
   },
   {
    "duration": 15,
    "start_time": "2022-02-27T13:16:44.937Z"
   },
   {
    "duration": 1121,
    "start_time": "2022-02-27T13:29:47.143Z"
   },
   {
    "duration": 60,
    "start_time": "2022-02-27T13:29:48.266Z"
   },
   {
    "duration": 11,
    "start_time": "2022-02-27T13:29:48.328Z"
   },
   {
    "duration": 33,
    "start_time": "2022-02-27T13:29:48.341Z"
   },
   {
    "duration": 7,
    "start_time": "2022-02-27T13:29:48.376Z"
   },
   {
    "duration": 23,
    "start_time": "2022-02-27T13:29:48.384Z"
   },
   {
    "duration": 30,
    "start_time": "2022-02-27T13:29:48.408Z"
   },
   {
    "duration": 816,
    "start_time": "2022-02-27T13:29:48.441Z"
   },
   {
    "duration": 5,
    "start_time": "2022-02-27T13:29:49.258Z"
   },
   {
    "duration": 9,
    "start_time": "2022-02-27T13:29:49.265Z"
   },
   {
    "duration": 6,
    "start_time": "2022-02-27T13:29:49.276Z"
   },
   {
    "duration": 15,
    "start_time": "2022-02-27T13:29:49.284Z"
   },
   {
    "duration": 41,
    "start_time": "2022-02-27T13:29:49.301Z"
   },
   {
    "duration": 5,
    "start_time": "2022-02-27T13:29:49.344Z"
   },
   {
    "duration": 9,
    "start_time": "2022-02-27T13:29:49.351Z"
   },
   {
    "duration": 17,
    "start_time": "2022-02-27T13:29:49.361Z"
   },
   {
    "duration": 5,
    "start_time": "2022-02-27T13:29:49.380Z"
   },
   {
    "duration": 590,
    "start_time": "2022-02-27T13:29:49.387Z"
   },
   {
    "duration": 6,
    "start_time": "2022-02-27T13:29:49.978Z"
   },
   {
    "duration": 14,
    "start_time": "2022-02-27T13:29:49.985Z"
   },
   {
    "duration": 41,
    "start_time": "2022-02-27T13:29:50.000Z"
   },
   {
    "duration": 15,
    "start_time": "2022-02-27T13:29:50.043Z"
   },
   {
    "duration": 27,
    "start_time": "2022-02-27T13:29:50.061Z"
   },
   {
    "duration": 16,
    "start_time": "2022-02-27T13:29:50.090Z"
   },
   {
    "duration": 18,
    "start_time": "2022-02-27T13:29:50.137Z"
   },
   {
    "duration": 11,
    "start_time": "2022-02-27T13:29:50.157Z"
   },
   {
    "duration": 19,
    "start_time": "2022-02-27T13:29:50.170Z"
   },
   {
    "duration": 4,
    "start_time": "2022-02-27T13:29:50.191Z"
   },
   {
    "duration": 5,
    "start_time": "2022-02-27T13:29:50.197Z"
   },
   {
    "duration": 38,
    "start_time": "2022-02-27T13:29:50.204Z"
   },
   {
    "duration": 21,
    "start_time": "2022-02-27T13:29:50.244Z"
   },
   {
    "duration": 6,
    "start_time": "2022-02-27T13:29:50.266Z"
   },
   {
    "duration": 15,
    "start_time": "2022-02-27T13:29:50.274Z"
   },
   {
    "duration": 75,
    "start_time": "2022-02-27T13:29:50.291Z"
   },
   {
    "duration": 10,
    "start_time": "2022-02-27T13:29:50.368Z"
   },
   {
    "duration": 21,
    "start_time": "2022-02-27T13:29:50.380Z"
   },
   {
    "duration": 37,
    "start_time": "2022-02-27T13:29:50.402Z"
   },
   {
    "duration": 25,
    "start_time": "2022-02-27T13:29:50.440Z"
   },
   {
    "duration": 12,
    "start_time": "2022-02-27T13:29:50.467Z"
   },
   {
    "duration": 13,
    "start_time": "2022-02-27T13:29:50.480Z"
   },
   {
    "duration": 47,
    "start_time": "2022-02-27T13:29:50.495Z"
   },
   {
    "duration": 15,
    "start_time": "2022-02-27T13:29:50.543Z"
   },
   {
    "duration": 1221,
    "start_time": "2022-03-07T14:50:18.714Z"
   },
   {
    "duration": 65,
    "start_time": "2022-03-07T14:50:19.937Z"
   },
   {
    "duration": 14,
    "start_time": "2022-03-07T14:50:20.004Z"
   },
   {
    "duration": 41,
    "start_time": "2022-03-07T14:50:20.021Z"
   },
   {
    "duration": 10,
    "start_time": "2022-03-07T14:50:20.078Z"
   },
   {
    "duration": 31,
    "start_time": "2022-03-07T14:50:20.091Z"
   },
   {
    "duration": 6,
    "start_time": "2022-03-07T14:50:20.124Z"
   },
   {
    "duration": 978,
    "start_time": "2022-03-07T14:50:20.177Z"
   },
   {
    "duration": 6,
    "start_time": "2022-03-07T14:50:21.159Z"
   },
   {
    "duration": 9,
    "start_time": "2022-03-07T14:50:21.179Z"
   },
   {
    "duration": 29,
    "start_time": "2022-03-07T14:50:21.190Z"
   },
   {
    "duration": 24,
    "start_time": "2022-03-07T14:50:21.221Z"
   },
   {
    "duration": 31,
    "start_time": "2022-03-07T14:50:21.247Z"
   },
   {
    "duration": 6,
    "start_time": "2022-03-07T14:50:21.280Z"
   },
   {
    "duration": 8,
    "start_time": "2022-03-07T14:50:21.288Z"
   },
   {
    "duration": 21,
    "start_time": "2022-03-07T14:50:21.298Z"
   },
   {
    "duration": 6,
    "start_time": "2022-03-07T14:50:21.321Z"
   },
   {
    "duration": 664,
    "start_time": "2022-03-07T14:50:21.328Z"
   },
   {
    "duration": 6,
    "start_time": "2022-03-07T14:50:21.994Z"
   },
   {
    "duration": 15,
    "start_time": "2022-03-07T14:50:22.001Z"
   },
   {
    "duration": 15,
    "start_time": "2022-03-07T14:50:22.018Z"
   },
   {
    "duration": 55,
    "start_time": "2022-03-07T14:50:22.035Z"
   },
   {
    "duration": 31,
    "start_time": "2022-03-07T14:50:22.092Z"
   },
   {
    "duration": 51,
    "start_time": "2022-03-07T14:50:22.126Z"
   },
   {
    "duration": 18,
    "start_time": "2022-03-07T14:50:22.179Z"
   },
   {
    "duration": 12,
    "start_time": "2022-03-07T14:50:22.199Z"
   },
   {
    "duration": 21,
    "start_time": "2022-03-07T14:50:22.215Z"
   },
   {
    "duration": 5,
    "start_time": "2022-03-07T14:50:22.238Z"
   },
   {
    "duration": 5,
    "start_time": "2022-03-07T14:50:22.277Z"
   },
   {
    "duration": 10,
    "start_time": "2022-03-07T14:50:22.283Z"
   },
   {
    "duration": 23,
    "start_time": "2022-03-07T14:50:22.295Z"
   },
   {
    "duration": 6,
    "start_time": "2022-03-07T14:50:22.320Z"
   },
   {
    "duration": 55,
    "start_time": "2022-03-07T14:50:22.327Z"
   },
   {
    "duration": 42,
    "start_time": "2022-03-07T14:50:22.384Z"
   },
   {
    "duration": 10,
    "start_time": "2022-03-07T14:50:22.428Z"
   },
   {
    "duration": 19,
    "start_time": "2022-03-07T14:50:22.477Z"
   },
   {
    "duration": 13,
    "start_time": "2022-03-07T14:50:22.498Z"
   },
   {
    "duration": 33,
    "start_time": "2022-03-07T14:50:22.513Z"
   },
   {
    "duration": 39,
    "start_time": "2022-03-07T14:50:22.548Z"
   },
   {
    "duration": 16,
    "start_time": "2022-03-07T14:50:22.589Z"
   },
   {
    "duration": 14,
    "start_time": "2022-03-07T14:50:22.607Z"
   },
   {
    "duration": 55,
    "start_time": "2022-03-07T14:50:22.623Z"
   },
   {
    "duration": 92,
    "start_time": "2022-03-12T07:14:50.283Z"
   },
   {
    "duration": 311,
    "start_time": "2022-03-12T07:47:03.556Z"
   },
   {
    "duration": 3,
    "start_time": "2022-03-12T08:09:37.516Z"
   },
   {
    "duration": 98,
    "start_time": "2022-03-12T08:13:59.365Z"
   },
   {
    "duration": 79,
    "start_time": "2022-03-12T08:19:15.063Z"
   },
   {
    "duration": 1218,
    "start_time": "2022-03-12T08:34:35.706Z"
   },
   {
    "duration": 64,
    "start_time": "2022-03-12T08:34:36.926Z"
   },
   {
    "duration": 12,
    "start_time": "2022-03-12T08:34:36.993Z"
   },
   {
    "duration": 36,
    "start_time": "2022-03-12T08:34:37.007Z"
   },
   {
    "duration": 8,
    "start_time": "2022-03-12T08:34:37.044Z"
   },
   {
    "duration": 25,
    "start_time": "2022-03-12T08:34:37.077Z"
   },
   {
    "duration": 5,
    "start_time": "2022-03-12T08:34:37.104Z"
   },
   {
    "duration": 946,
    "start_time": "2022-03-12T08:34:37.110Z"
   },
   {
    "duration": 5,
    "start_time": "2022-03-12T08:34:38.059Z"
   },
   {
    "duration": 14,
    "start_time": "2022-03-12T08:34:38.066Z"
   },
   {
    "duration": 6,
    "start_time": "2022-03-12T08:34:38.082Z"
   },
   {
    "duration": 20,
    "start_time": "2022-03-12T08:34:38.090Z"
   },
   {
    "duration": 12,
    "start_time": "2022-03-12T08:34:38.112Z"
   },
   {
    "duration": 6,
    "start_time": "2022-03-12T08:34:38.126Z"
   },
   {
    "duration": 7,
    "start_time": "2022-03-12T08:34:38.134Z"
   },
   {
    "duration": 17,
    "start_time": "2022-03-12T08:34:38.178Z"
   },
   {
    "duration": 6,
    "start_time": "2022-03-12T08:34:38.197Z"
   },
   {
    "duration": 629,
    "start_time": "2022-03-12T08:34:38.205Z"
   },
   {
    "duration": 5,
    "start_time": "2022-03-12T08:34:38.836Z"
   },
   {
    "duration": 27,
    "start_time": "2022-03-12T08:34:38.843Z"
   },
   {
    "duration": 14,
    "start_time": "2022-03-12T08:34:38.876Z"
   },
   {
    "duration": 17,
    "start_time": "2022-03-12T08:34:38.892Z"
   },
   {
    "duration": 35,
    "start_time": "2022-03-12T08:34:38.910Z"
   },
   {
    "duration": 39,
    "start_time": "2022-03-12T08:34:38.946Z"
   },
   {
    "duration": 17,
    "start_time": "2022-03-12T08:34:38.986Z"
   },
   {
    "duration": 13,
    "start_time": "2022-03-12T08:34:39.005Z"
   },
   {
    "duration": 19,
    "start_time": "2022-03-12T08:34:39.022Z"
   },
   {
    "duration": 7,
    "start_time": "2022-03-12T08:34:39.043Z"
   },
   {
    "duration": 25,
    "start_time": "2022-03-12T08:34:39.052Z"
   },
   {
    "duration": 6,
    "start_time": "2022-03-12T08:34:39.079Z"
   },
   {
    "duration": 22,
    "start_time": "2022-03-12T08:34:39.086Z"
   },
   {
    "duration": 6,
    "start_time": "2022-03-12T08:34:39.110Z"
   },
   {
    "duration": 12,
    "start_time": "2022-03-12T08:34:39.117Z"
   },
   {
    "duration": 83,
    "start_time": "2022-03-12T08:34:39.131Z"
   },
   {
    "duration": 12,
    "start_time": "2022-03-12T08:34:39.215Z"
   },
   {
    "duration": 19,
    "start_time": "2022-03-12T08:34:39.229Z"
   },
   {
    "duration": 38,
    "start_time": "2022-03-12T08:34:39.250Z"
   },
   {
    "duration": 27,
    "start_time": "2022-03-12T08:34:39.290Z"
   },
   {
    "duration": 14,
    "start_time": "2022-03-12T08:34:39.319Z"
   },
   {
    "duration": 48,
    "start_time": "2022-03-12T08:34:39.334Z"
   },
   {
    "duration": 15,
    "start_time": "2022-03-12T08:34:39.383Z"
   },
   {
    "duration": 15,
    "start_time": "2022-03-12T08:34:39.400Z"
   },
   {
    "duration": 20,
    "start_time": "2022-03-12T08:43:27.720Z"
   },
   {
    "duration": 198,
    "start_time": "2022-03-12T08:45:09.850Z"
   },
   {
    "duration": 241,
    "start_time": "2022-03-12T08:45:52.314Z"
   },
   {
    "duration": 7,
    "start_time": "2022-03-12T08:46:39.050Z"
   },
   {
    "duration": 7,
    "start_time": "2022-03-12T08:47:22.815Z"
   },
   {
    "duration": 19,
    "start_time": "2022-03-12T08:49:29.331Z"
   },
   {
    "duration": 8,
    "start_time": "2022-03-12T08:49:30.177Z"
   },
   {
    "duration": 10,
    "start_time": "2022-03-12T08:50:09.769Z"
   },
   {
    "duration": 929,
    "start_time": "2022-03-12T08:59:43.641Z"
   },
   {
    "duration": 974,
    "start_time": "2022-03-12T09:01:21.018Z"
   },
   {
    "duration": 85,
    "start_time": "2022-03-12T09:03:05.510Z"
   },
   {
    "duration": 907,
    "start_time": "2022-03-12T09:03:09.316Z"
   },
   {
    "duration": 935,
    "start_time": "2022-03-12T09:04:37.186Z"
   },
   {
    "duration": 89,
    "start_time": "2022-03-12T09:06:08.969Z"
   },
   {
    "duration": 1065,
    "start_time": "2022-03-12T09:19:13.270Z"
   },
   {
    "duration": 366,
    "start_time": "2022-03-13T06:39:21.068Z"
   },
   {
    "duration": 177,
    "start_time": "2022-03-13T06:40:42.953Z"
   },
   {
    "duration": 1107,
    "start_time": "2022-03-13T06:41:04.999Z"
   },
   {
    "duration": 66,
    "start_time": "2022-03-13T06:41:06.108Z"
   },
   {
    "duration": 9,
    "start_time": "2022-03-13T06:41:06.176Z"
   },
   {
    "duration": 28,
    "start_time": "2022-03-13T06:41:06.186Z"
   },
   {
    "duration": 6,
    "start_time": "2022-03-13T06:41:06.215Z"
   },
   {
    "duration": 19,
    "start_time": "2022-03-13T06:41:06.222Z"
   },
   {
    "duration": 13,
    "start_time": "2022-03-13T06:41:06.242Z"
   },
   {
    "duration": 4,
    "start_time": "2022-03-13T06:41:06.258Z"
   },
   {
    "duration": 5,
    "start_time": "2022-03-13T06:41:06.264Z"
   },
   {
    "duration": 747,
    "start_time": "2022-03-13T06:41:06.270Z"
   },
   {
    "duration": 4,
    "start_time": "2022-03-13T06:41:07.019Z"
   },
   {
    "duration": 8,
    "start_time": "2022-03-13T06:41:07.025Z"
   },
   {
    "duration": 5,
    "start_time": "2022-03-13T06:41:07.035Z"
   },
   {
    "duration": 11,
    "start_time": "2022-03-13T06:41:07.041Z"
   },
   {
    "duration": 8,
    "start_time": "2022-03-13T06:41:07.054Z"
   },
   {
    "duration": 4,
    "start_time": "2022-03-13T06:41:07.064Z"
   },
   {
    "duration": 33,
    "start_time": "2022-03-13T06:41:07.069Z"
   },
   {
    "duration": 17,
    "start_time": "2022-03-13T06:41:07.103Z"
   },
   {
    "duration": 4,
    "start_time": "2022-03-13T06:41:07.122Z"
   },
   {
    "duration": 505,
    "start_time": "2022-03-13T06:41:07.128Z"
   },
   {
    "duration": 5,
    "start_time": "2022-03-13T06:41:07.635Z"
   },
   {
    "duration": 11,
    "start_time": "2022-03-13T06:41:07.641Z"
   },
   {
    "duration": 4,
    "start_time": "2022-03-13T06:41:07.655Z"
   },
   {
    "duration": 67,
    "start_time": "2022-03-13T06:41:07.661Z"
   },
   {
    "duration": 42,
    "start_time": "2022-03-13T06:41:07.730Z"
   },
   {
    "duration": 3,
    "start_time": "2022-03-13T06:41:07.774Z"
   },
   {
    "duration": 31,
    "start_time": "2022-03-13T06:41:07.779Z"
   },
   {
    "duration": 24,
    "start_time": "2022-03-13T06:41:07.811Z"
   },
   {
    "duration": 15,
    "start_time": "2022-03-13T06:41:07.836Z"
   },
   {
    "duration": 13,
    "start_time": "2022-03-13T06:41:07.852Z"
   },
   {
    "duration": 10,
    "start_time": "2022-03-13T06:41:07.866Z"
   },
   {
    "duration": 36,
    "start_time": "2022-03-13T06:41:07.877Z"
   },
   {
    "duration": 4,
    "start_time": "2022-03-13T06:41:07.914Z"
   },
   {
    "duration": 4,
    "start_time": "2022-03-13T06:41:07.919Z"
   },
   {
    "duration": 6,
    "start_time": "2022-03-13T06:41:07.924Z"
   },
   {
    "duration": 17,
    "start_time": "2022-03-13T06:41:07.931Z"
   },
   {
    "duration": 4,
    "start_time": "2022-03-13T06:41:07.949Z"
   },
   {
    "duration": 15,
    "start_time": "2022-03-13T06:41:07.955Z"
   },
   {
    "duration": 34,
    "start_time": "2022-03-13T06:41:07.971Z"
   },
   {
    "duration": 30,
    "start_time": "2022-03-13T06:41:08.007Z"
   },
   {
    "duration": 8,
    "start_time": "2022-03-13T06:41:08.038Z"
   },
   {
    "duration": 17,
    "start_time": "2022-03-13T06:41:08.047Z"
   },
   {
    "duration": 10,
    "start_time": "2022-03-13T06:41:08.065Z"
   },
   {
    "duration": 24,
    "start_time": "2022-03-13T06:41:08.101Z"
   },
   {
    "duration": 12,
    "start_time": "2022-03-13T06:41:08.127Z"
   },
   {
    "duration": 12,
    "start_time": "2022-03-13T06:41:08.140Z"
   },
   {
    "duration": 12,
    "start_time": "2022-03-13T06:41:08.154Z"
   },
   {
    "duration": 14,
    "start_time": "2022-03-13T06:41:08.202Z"
   }
  ],
  "kernelspec": {
   "display_name": "Python 3",
   "language": "python",
   "name": "python3"
  },
  "language_info": {
   "codemirror_mode": {
    "name": "ipython",
    "version": 3
   },
   "file_extension": ".py",
   "mimetype": "text/x-python",
   "name": "python",
   "nbconvert_exporter": "python",
   "pygments_lexer": "ipython3",
   "version": "3.7.6"
  },
  "toc": {
   "base_numbering": 1,
   "nav_menu": {},
   "number_sections": true,
   "sideBar": true,
   "skip_h1_title": true,
   "title_cell": "Table of Contents",
   "title_sidebar": "Contents",
   "toc_cell": false,
   "toc_position": {},
   "toc_section_display": true,
   "toc_window_display": true
  }
 },
 "nbformat": 4,
 "nbformat_minor": 5
}
