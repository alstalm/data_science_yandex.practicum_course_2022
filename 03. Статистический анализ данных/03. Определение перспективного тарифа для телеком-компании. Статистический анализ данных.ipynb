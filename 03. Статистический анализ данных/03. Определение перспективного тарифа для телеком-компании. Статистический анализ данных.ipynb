{
 "cells": [
  {
   "cell_type": "markdown",
   "metadata": {},
   "source": [
    "# Определение перспективного тарифа для телеком-компании"
   ]
  },
  {
   "cell_type": "markdown",
   "metadata": {},
   "source": [
    "# 1. Введение <a class=\"anchor\" id=\"1.\"></a>"
   ]
  },
  {
   "cell_type": "markdown",
   "metadata": {},
   "source": [
    "# 1.1. Содержание <a class=\"anchor\" id=\"1.1.\"></a>"
   ]
  },
  {
   "cell_type": "markdown",
   "metadata": {},
   "source": [
    "* [1. Введение](#1.)\n",
    "* [1.1. Содержание](#1.1.)\n",
    "* [1.2. Описание проекта ](#1.2.)\n",
    "* [1.3. Описние исходных данных](#1.3.)\n",
    "* [1.4. Описние тарифов](#1.4.)\n",
    "* [2. Подготовка данных](#2.)\n",
    "* [2.1. Визуальное ознакомление](#2.1.)\n",
    "* [2.2. Изменение типов](#2.2.)\n",
    "* [2.3. Контроль примененных изменений после изменения типов](#2.3.)\n",
    "* [2.4. Подготовка данных](#2.4.)\n",
    "* [2.4.1. Количество сделанных звонков и израсходованных минут разговора по месяцам](#2.4.1.)\n",
    "* [2.4.2. Количество отправленных сообщений по месяцам](#2.4.2.)\n",
    "* [2.4.3. Объем израсходованного интернет-трафика по месяцам](#2.4.3.)\n",
    "* [2.4.4. Помесячная выручка с каждого пользователя](#2.4.4.)\n",
    "* [3. Анализ данных](#3.)\n",
    "* [3.1. Сколько минут разговора требуется пользователям](#3.1.)\n",
    "* [3.1.1. Тариф «Смарт»](#3.1.1.)\n",
    "* [3.1.2. Тариф «Ультра»](#3.1.2.)\n",
    "* [3.2. Сколько сообщений  требуется пользователям](#3.2.)\n",
    "* [3.2.1. Тариф «Смарт»](#3.2.1.)\n",
    "* [3.2.2. Тариф «Ультра»](#3.2.2.)\n",
    "* [3.3. Какой объём интернет-трафика требуется пользователям](#3.3.)\n",
    "* [3.3.1. Тариф «Смарт»](#3.3.1.)\n",
    "* [3.3.2. Тариф «Ультра»](#3.3.2.)\n",
    "* [4. Проверка гипотез](#4.)\n",
    "* [4.1. Гипотеза о различии средней выручки пользователей тарифов «Ультра» и «Смарт»](#4.1.)\n",
    "* [4.2. Гипотеза о различии средней выручки пользователей из Москвы и других регионов](#4.2.)\n",
    "* [5. Общий вывод](#5.)"
   ]
  },
  {
   "cell_type": "markdown",
   "metadata": {},
   "source": [
    "## 1.2. Описание проекта <a class=\"anchor\" id=\"1.2.\"></a>\n",
    "\n",
    "«Мегалайн» — федерального оператора сотовой связи. Клиентам предлагают два тарифных плана: «Смарт» и «Ультра». Чтобы скорректировать рекламный бюджет, коммерческий департамент хочет понять, какой тариф приносит больше денег.\n",
    "Вам предстоит сделать предварительный анализ тарифов на небольшой выборке клиентов. В вашем распоряжении данные 500 пользователей «Мегалайна»: кто они, откуда, каким тарифом пользуются, сколько звонков и сообщений каждый отправил за 2018 год. Нужно проанализировать поведение клиентов и сделать вывод — какой тариф лучше."
   ]
  },
  {
   "cell_type": "markdown",
   "metadata": {},
   "source": [
    "# 1.3. Описние исходных данных <a class=\"anchor\" id=\"1.3.\"></a>"
   ]
  },
  {
   "cell_type": "markdown",
   "metadata": {},
   "source": [
    "Описание данных\n",
    "\n",
    "Таблица **users** (информация о пользователях):\n",
    "- user_id — уникальный идентификатор пользователя\n",
    "- first_name — имя пользователя\n",
    "- last_name — фамилия пользователя\n",
    "- age — возраст пользователя (годы)\n",
    "- reg_date — дата подключения тарифа (день, месяц, год)\n",
    "- churn_date — дата прекращения пользования тарифом (если значение пропущено, то тариф ещё действовал на момент выгрузки данных)\n",
    "- city — город проживания пользователя\n",
    "- tariff — название тарифного плана\n",
    "\n",
    "Таблица **calls** (информация о звонках):\n",
    "- id — уникальный номер звонка\n",
    "- call_date — дата звонка\n",
    "- duration — длительность звонка в минутах\n",
    "- user_id — идентификатор пользователя, сделавшего звонок\n",
    "\n",
    "Таблица **messages** (информация о сообщениях):\n",
    "- id — уникальный номер сообщения\n",
    "- message_date — дата сообщения\n",
    "- user_id — идентификатор пользователя, отправившего сообщение\n",
    "\n",
    "Таблица **internet** (информация об интернет-сессиях):\n",
    "- id — уникальный номер сессии\n",
    "- mb_used — объём потраченного за сессию интернет-трафика (в мегабайтах)\n",
    "- session_date — дата интернет-сессии\n",
    "- user_id — идентификатор пользователя\n",
    "\n",
    "Таблица **tariffs** (информация о тарифах):\n",
    "- tariff_name — название тарифа\n",
    "- rub_monthly_fee — ежемесячная абонентская плата в рублях\n",
    "- minutes_included — количество минут разговора в месяц, включённых в абонентскую плату\n",
    "- messages_included — количество сообщений в месяц, включённых в абонентскую плату\n",
    "- mb_per_month_included — объём интернет-трафика, включённого в абонентскую плату (в мегабайтах)\n",
    "- rub_per_minute — стоимость минуты разговора сверх тарифного пакета (например, если в тарифе 100 минут разговора в месяц, то со 101 минуты будет взиматься плата)\n",
    "- rub_per_message — стоимость отправки сообщения сверх тарифного пакета\n",
    "- rub_per_gb — стоимость дополнительного гигабайта интернет-трафика сверх тарифного пакета (1 гигабайт = 1024 мегабайта)"
   ]
  },
  {
   "cell_type": "markdown",
   "metadata": {},
   "source": [
    "# 1.4. Описние тарифов <a class=\"anchor\" id=\"1.4.\"></a> "
   ]
  },
  {
   "cell_type": "markdown",
   "metadata": {},
   "source": [
    "Тариф «**Смарт**»\n",
    "\n",
    "1. Ежемесячная плата: 550 рублей\n",
    "2. Включено 500 минут разговора, 50 сообщений и 15 Гб интернет-трафика\n",
    "3. Стоимость услуг сверх тарифного пакета:\n",
    "    - минута разговора: 3 рубля\n",
    "    - сообщение: 3 рубля\n",
    "    - 1 Гб интернет-трафика: 200 рублей\n",
    "\n",
    "Тариф «**Ультра**»\n",
    "1. Ежемесячная плата: 1950 рублей\n",
    "2. Включено 3000 минут разговора, 1000 сообщений и 30 Гб интернет-трафика\n",
    "3. Стоимость услуг сверх тарифного пакета:\n",
    "    - минута разговора: 1 рубль\n",
    "    - сообщение: 1 рубль\n",
    "    - 1 Гб интернет-трафика: 150 рублей\n",
    "\n",
    "**Примечание**:\n",
    "«Мегалайн» всегда округляет секунды до минут, а мегабайты — до гигабайт. Каждый звонок округляется отдельно: даже если он длился всего 1 секунду, будет засчитан как 1 минута.\n",
    "Для веб-трафика отдельные сессии не считаются. Вместо этого общая сумма за месяц округляется в бо́льшую сторону. Если абонент использует 1025 мегабайт в этом месяце, с него возьмут плату за 2 гигабайта."
   ]
  },
  {
   "cell_type": "markdown",
   "metadata": {},
   "source": [
    "# 2. Подготовка данных <a class=\"anchor\" id=\"2.\"></a> \n",
    "[наверх](#1.1.)"
   ]
  },
  {
   "cell_type": "markdown",
   "metadata": {},
   "source": [
    "## 2.1. Визуальное ознакомление <a class=\"anchor\" id=\"2.1.\"></a>"
   ]
  },
  {
   "cell_type": "code",
   "execution_count": 1,
   "metadata": {},
   "outputs": [],
   "source": [
    "import pandas as pd\n",
    "import numpy as np\n",
    "import math\n",
    "import matplotlib.pyplot as plt\n",
    "from scipy import stats as st"
   ]
  },
  {
   "cell_type": "markdown",
   "metadata": {},
   "source": [
    "**Посмотрим на информацию о датасетах**"
   ]
  },
  {
   "cell_type": "code",
   "execution_count": 2,
   "metadata": {},
   "outputs": [
    {
     "name": "stdout",
     "output_type": "stream",
     "text": [
      "calls_df\n"
     ]
    },
    {
     "data": {
      "text/html": [
       "<div>\n",
       "<style scoped>\n",
       "    .dataframe tbody tr th:only-of-type {\n",
       "        vertical-align: middle;\n",
       "    }\n",
       "\n",
       "    .dataframe tbody tr th {\n",
       "        vertical-align: top;\n",
       "    }\n",
       "\n",
       "    .dataframe thead th {\n",
       "        text-align: right;\n",
       "    }\n",
       "</style>\n",
       "<table border=\"1\" class=\"dataframe\">\n",
       "  <thead>\n",
       "    <tr style=\"text-align: right;\">\n",
       "      <th></th>\n",
       "      <th>id</th>\n",
       "      <th>call_date</th>\n",
       "      <th>duration</th>\n",
       "      <th>user_id</th>\n",
       "    </tr>\n",
       "  </thead>\n",
       "  <tbody>\n",
       "    <tr>\n",
       "      <th>0</th>\n",
       "      <td>1000_0</td>\n",
       "      <td>2018-07-25</td>\n",
       "      <td>0.0</td>\n",
       "      <td>1000</td>\n",
       "    </tr>\n",
       "    <tr>\n",
       "      <th>1</th>\n",
       "      <td>1000_1</td>\n",
       "      <td>2018-08-17</td>\n",
       "      <td>0.0</td>\n",
       "      <td>1000</td>\n",
       "    </tr>\n",
       "  </tbody>\n",
       "</table>\n",
       "</div>"
      ],
      "text/plain": [
       "       id   call_date  duration  user_id\n",
       "0  1000_0  2018-07-25       0.0     1000\n",
       "1  1000_1  2018-08-17       0.0     1000"
      ]
     },
     "metadata": {},
     "output_type": "display_data"
    },
    {
     "name": "stdout",
     "output_type": "stream",
     "text": [
      "<class 'pandas.core.frame.DataFrame'>\n",
      "RangeIndex: 202607 entries, 0 to 202606\n",
      "Data columns (total 4 columns):\n",
      " #   Column     Non-Null Count   Dtype  \n",
      "---  ------     --------------   -----  \n",
      " 0   id         202607 non-null  object \n",
      " 1   call_date  202607 non-null  object \n",
      " 2   duration   202607 non-null  float64\n",
      " 3   user_id    202607 non-null  int64  \n",
      "dtypes: float64(1), int64(1), object(2)\n",
      "memory usage: 6.2+ MB\n"
     ]
    },
    {
     "data": {
      "text/plain": [
       "None"
      ]
     },
     "metadata": {},
     "output_type": "display_data"
    },
    {
     "name": "stdout",
     "output_type": "stream",
     "text": [
      "internet_df\n"
     ]
    },
    {
     "data": {
      "text/html": [
       "<div>\n",
       "<style scoped>\n",
       "    .dataframe tbody tr th:only-of-type {\n",
       "        vertical-align: middle;\n",
       "    }\n",
       "\n",
       "    .dataframe tbody tr th {\n",
       "        vertical-align: top;\n",
       "    }\n",
       "\n",
       "    .dataframe thead th {\n",
       "        text-align: right;\n",
       "    }\n",
       "</style>\n",
       "<table border=\"1\" class=\"dataframe\">\n",
       "  <thead>\n",
       "    <tr style=\"text-align: right;\">\n",
       "      <th></th>\n",
       "      <th>id</th>\n",
       "      <th>mb_used</th>\n",
       "      <th>session_date</th>\n",
       "      <th>user_id</th>\n",
       "    </tr>\n",
       "  </thead>\n",
       "  <tbody>\n",
       "    <tr>\n",
       "      <th>0</th>\n",
       "      <td>1000_0</td>\n",
       "      <td>112.95</td>\n",
       "      <td>2018-11-25</td>\n",
       "      <td>1000</td>\n",
       "    </tr>\n",
       "    <tr>\n",
       "      <th>1</th>\n",
       "      <td>1000_1</td>\n",
       "      <td>1052.81</td>\n",
       "      <td>2018-09-07</td>\n",
       "      <td>1000</td>\n",
       "    </tr>\n",
       "  </tbody>\n",
       "</table>\n",
       "</div>"
      ],
      "text/plain": [
       "       id  mb_used session_date  user_id\n",
       "0  1000_0   112.95   2018-11-25     1000\n",
       "1  1000_1  1052.81   2018-09-07     1000"
      ]
     },
     "metadata": {},
     "output_type": "display_data"
    },
    {
     "name": "stdout",
     "output_type": "stream",
     "text": [
      "<class 'pandas.core.frame.DataFrame'>\n",
      "Int64Index: 149396 entries, 0 to 149395\n",
      "Data columns (total 4 columns):\n",
      " #   Column        Non-Null Count   Dtype  \n",
      "---  ------        --------------   -----  \n",
      " 0   id            149396 non-null  object \n",
      " 1   mb_used       149396 non-null  float64\n",
      " 2   session_date  149396 non-null  object \n",
      " 3   user_id       149396 non-null  int64  \n",
      "dtypes: float64(1), int64(1), object(2)\n",
      "memory usage: 5.7+ MB\n"
     ]
    },
    {
     "data": {
      "text/plain": [
       "None"
      ]
     },
     "metadata": {},
     "output_type": "display_data"
    },
    {
     "name": "stdout",
     "output_type": "stream",
     "text": [
      "messages_df\n"
     ]
    },
    {
     "data": {
      "text/html": [
       "<div>\n",
       "<style scoped>\n",
       "    .dataframe tbody tr th:only-of-type {\n",
       "        vertical-align: middle;\n",
       "    }\n",
       "\n",
       "    .dataframe tbody tr th {\n",
       "        vertical-align: top;\n",
       "    }\n",
       "\n",
       "    .dataframe thead th {\n",
       "        text-align: right;\n",
       "    }\n",
       "</style>\n",
       "<table border=\"1\" class=\"dataframe\">\n",
       "  <thead>\n",
       "    <tr style=\"text-align: right;\">\n",
       "      <th></th>\n",
       "      <th>id</th>\n",
       "      <th>message_date</th>\n",
       "      <th>user_id</th>\n",
       "    </tr>\n",
       "  </thead>\n",
       "  <tbody>\n",
       "    <tr>\n",
       "      <th>0</th>\n",
       "      <td>1000_0</td>\n",
       "      <td>2018-06-27</td>\n",
       "      <td>1000</td>\n",
       "    </tr>\n",
       "    <tr>\n",
       "      <th>1</th>\n",
       "      <td>1000_1</td>\n",
       "      <td>2018-10-08</td>\n",
       "      <td>1000</td>\n",
       "    </tr>\n",
       "  </tbody>\n",
       "</table>\n",
       "</div>"
      ],
      "text/plain": [
       "       id message_date  user_id\n",
       "0  1000_0   2018-06-27     1000\n",
       "1  1000_1   2018-10-08     1000"
      ]
     },
     "metadata": {},
     "output_type": "display_data"
    },
    {
     "name": "stdout",
     "output_type": "stream",
     "text": [
      "<class 'pandas.core.frame.DataFrame'>\n",
      "RangeIndex: 123036 entries, 0 to 123035\n",
      "Data columns (total 3 columns):\n",
      " #   Column        Non-Null Count   Dtype \n",
      "---  ------        --------------   ----- \n",
      " 0   id            123036 non-null  object\n",
      " 1   message_date  123036 non-null  object\n",
      " 2   user_id       123036 non-null  int64 \n",
      "dtypes: int64(1), object(2)\n",
      "memory usage: 2.8+ MB\n"
     ]
    },
    {
     "data": {
      "text/plain": [
       "None"
      ]
     },
     "metadata": {},
     "output_type": "display_data"
    },
    {
     "name": "stdout",
     "output_type": "stream",
     "text": [
      "tariffs_df\n"
     ]
    },
    {
     "data": {
      "text/html": [
       "<div>\n",
       "<style scoped>\n",
       "    .dataframe tbody tr th:only-of-type {\n",
       "        vertical-align: middle;\n",
       "    }\n",
       "\n",
       "    .dataframe tbody tr th {\n",
       "        vertical-align: top;\n",
       "    }\n",
       "\n",
       "    .dataframe thead th {\n",
       "        text-align: right;\n",
       "    }\n",
       "</style>\n",
       "<table border=\"1\" class=\"dataframe\">\n",
       "  <thead>\n",
       "    <tr style=\"text-align: right;\">\n",
       "      <th></th>\n",
       "      <th>messages_included</th>\n",
       "      <th>mb_per_month_included</th>\n",
       "      <th>minutes_included</th>\n",
       "      <th>rub_monthly_fee</th>\n",
       "      <th>rub_per_gb</th>\n",
       "      <th>rub_per_message</th>\n",
       "      <th>rub_per_minute</th>\n",
       "      <th>tariff_name</th>\n",
       "    </tr>\n",
       "  </thead>\n",
       "  <tbody>\n",
       "    <tr>\n",
       "      <th>0</th>\n",
       "      <td>50</td>\n",
       "      <td>15360</td>\n",
       "      <td>500</td>\n",
       "      <td>550</td>\n",
       "      <td>200</td>\n",
       "      <td>3</td>\n",
       "      <td>3</td>\n",
       "      <td>smart</td>\n",
       "    </tr>\n",
       "    <tr>\n",
       "      <th>1</th>\n",
       "      <td>1000</td>\n",
       "      <td>30720</td>\n",
       "      <td>3000</td>\n",
       "      <td>1950</td>\n",
       "      <td>150</td>\n",
       "      <td>1</td>\n",
       "      <td>1</td>\n",
       "      <td>ultra</td>\n",
       "    </tr>\n",
       "  </tbody>\n",
       "</table>\n",
       "</div>"
      ],
      "text/plain": [
       "   messages_included  mb_per_month_included  minutes_included  \\\n",
       "0                 50                  15360               500   \n",
       "1               1000                  30720              3000   \n",
       "\n",
       "   rub_monthly_fee  rub_per_gb  rub_per_message  rub_per_minute tariff_name  \n",
       "0              550         200                3               3       smart  \n",
       "1             1950         150                1               1       ultra  "
      ]
     },
     "metadata": {},
     "output_type": "display_data"
    },
    {
     "name": "stdout",
     "output_type": "stream",
     "text": [
      "<class 'pandas.core.frame.DataFrame'>\n",
      "RangeIndex: 2 entries, 0 to 1\n",
      "Data columns (total 8 columns):\n",
      " #   Column                 Non-Null Count  Dtype \n",
      "---  ------                 --------------  ----- \n",
      " 0   messages_included      2 non-null      int64 \n",
      " 1   mb_per_month_included  2 non-null      int64 \n",
      " 2   minutes_included       2 non-null      int64 \n",
      " 3   rub_monthly_fee        2 non-null      int64 \n",
      " 4   rub_per_gb             2 non-null      int64 \n",
      " 5   rub_per_message        2 non-null      int64 \n",
      " 6   rub_per_minute         2 non-null      int64 \n",
      " 7   tariff_name            2 non-null      object\n",
      "dtypes: int64(7), object(1)\n",
      "memory usage: 256.0+ bytes\n"
     ]
    },
    {
     "data": {
      "text/plain": [
       "None"
      ]
     },
     "metadata": {},
     "output_type": "display_data"
    },
    {
     "name": "stdout",
     "output_type": "stream",
     "text": [
      "users_df\n"
     ]
    },
    {
     "data": {
      "text/html": [
       "<div>\n",
       "<style scoped>\n",
       "    .dataframe tbody tr th:only-of-type {\n",
       "        vertical-align: middle;\n",
       "    }\n",
       "\n",
       "    .dataframe tbody tr th {\n",
       "        vertical-align: top;\n",
       "    }\n",
       "\n",
       "    .dataframe thead th {\n",
       "        text-align: right;\n",
       "    }\n",
       "</style>\n",
       "<table border=\"1\" class=\"dataframe\">\n",
       "  <thead>\n",
       "    <tr style=\"text-align: right;\">\n",
       "      <th></th>\n",
       "      <th>user_id</th>\n",
       "      <th>age</th>\n",
       "      <th>churn_date</th>\n",
       "      <th>city</th>\n",
       "      <th>first_name</th>\n",
       "      <th>last_name</th>\n",
       "      <th>reg_date</th>\n",
       "      <th>tariff</th>\n",
       "    </tr>\n",
       "  </thead>\n",
       "  <tbody>\n",
       "    <tr>\n",
       "      <th>0</th>\n",
       "      <td>1000</td>\n",
       "      <td>52</td>\n",
       "      <td>NaN</td>\n",
       "      <td>Краснодар</td>\n",
       "      <td>Рафаил</td>\n",
       "      <td>Верещагин</td>\n",
       "      <td>2018-05-25</td>\n",
       "      <td>ultra</td>\n",
       "    </tr>\n",
       "    <tr>\n",
       "      <th>1</th>\n",
       "      <td>1001</td>\n",
       "      <td>41</td>\n",
       "      <td>NaN</td>\n",
       "      <td>Москва</td>\n",
       "      <td>Иван</td>\n",
       "      <td>Ежов</td>\n",
       "      <td>2018-11-01</td>\n",
       "      <td>smart</td>\n",
       "    </tr>\n",
       "  </tbody>\n",
       "</table>\n",
       "</div>"
      ],
      "text/plain": [
       "   user_id  age churn_date       city first_name  last_name    reg_date tariff\n",
       "0     1000   52        NaN  Краснодар     Рафаил  Верещагин  2018-05-25  ultra\n",
       "1     1001   41        NaN     Москва       Иван       Ежов  2018-11-01  smart"
      ]
     },
     "metadata": {},
     "output_type": "display_data"
    },
    {
     "name": "stdout",
     "output_type": "stream",
     "text": [
      "<class 'pandas.core.frame.DataFrame'>\n",
      "RangeIndex: 500 entries, 0 to 499\n",
      "Data columns (total 8 columns):\n",
      " #   Column      Non-Null Count  Dtype \n",
      "---  ------      --------------  ----- \n",
      " 0   user_id     500 non-null    int64 \n",
      " 1   age         500 non-null    int64 \n",
      " 2   churn_date  38 non-null     object\n",
      " 3   city        500 non-null    object\n",
      " 4   first_name  500 non-null    object\n",
      " 5   last_name   500 non-null    object\n",
      " 6   reg_date    500 non-null    object\n",
      " 7   tariff      500 non-null    object\n",
      "dtypes: int64(2), object(6)\n",
      "memory usage: 31.4+ KB\n"
     ]
    },
    {
     "data": {
      "text/plain": [
       "None"
      ]
     },
     "metadata": {},
     "output_type": "display_data"
    }
   ],
   "source": [
    "try:\n",
    "    calls_df = pd.read_csv('/datasets/calls.csv')\n",
    "    internet_df = pd.read_csv('/datasets/internet.csv', index_col=0)\n",
    "    messages_df = pd.read_csv('/datasets/messages.csv')\n",
    "    tariffs_df = pd.read_csv('/datasets/tariffs.csv')\n",
    "    users_df = pd.read_csv('/datasets/users.csv')\n",
    "except:\n",
    "    calls_df = pd.read_csv('calls.csv')\n",
    "    internet_df = pd.read_csv('internet.csv', index_col=0)\n",
    "    messages_df = pd.read_csv('messages.csv')\n",
    "    tariffs_df = pd.read_csv('tariffs.csv')\n",
    "    users_df = pd.read_csv('users.csv')    \n",
    "\n",
    "print('calls_df')\n",
    "display(calls_df.head(2))\n",
    "display(calls_df.info())\n",
    "\n",
    "print('internet_df')\n",
    "display(internet_df.head(2))\n",
    "display(internet_df.info())\n",
    "\n",
    "print('messages_df')\n",
    "display(messages_df.head(2))\n",
    "display(messages_df.info())\n",
    "\n",
    "print('tariffs_df')\n",
    "display(tariffs_df.head(2))\n",
    "display(tariffs_df.info())\n",
    "\n",
    "print('users_df')\n",
    "display(users_df.head(2))\n",
    "display(users_df.info())"
   ]
  },
  {
   "cell_type": "markdown",
   "metadata": {},
   "source": [
    "Посмотрим, есть ли дубликаты"
   ]
  },
  {
   "cell_type": "code",
   "execution_count": 3,
   "metadata": {},
   "outputs": [
    {
     "name": "stdout",
     "output_type": "stream",
     "text": [
      "дубликатов в calls_df: 0\n",
      "дубликатов в internet_df: 0\n",
      "дубликатов в messages_df: 0\n",
      "дубликатов в tariffs_df: 0\n",
      "дубликатов в users_df: 0\n"
     ]
    }
   ],
   "source": [
    "print('дубликатов в calls_df:', calls_df.duplicated().sum())\n",
    "print('дубликатов в internet_df:', internet_df.duplicated().sum())\n",
    "print('дубликатов в messages_df:', messages_df.duplicated().sum())\n",
    "print('дубликатов в tariffs_df:', tariffs_df.duplicated().sum())\n",
    "print('дубликатов в users_df:', users_df.duplicated().sum())"
   ]
  },
  {
   "cell_type": "raw",
   "metadata": {},
   "source": [
    "Как видно, дубликатов нет."
   ]
  },
  {
   "cell_type": "markdown",
   "metadata": {},
   "source": [
    "Как видно из предварительного ознакомления с данными:\n",
    "1. Дублей строк нет\n",
    "2. Пропусков в данных нет, за исключением users_df.churn_date  где по понятным причинам, если не было оттока, то и даты нет. Других параметров, говорящих об оттоке нет. \n",
    "3. Есть некорректные типы\n",
    " - даты сохранены как object\n",
    " - id записей сохранены через знак '_'. В целях сокращения памяти уберем его и преобразуем в числовой тип\n",
    " \n",
    " **в связи с чем необходимо:**\n",
    " 1. изменить типы данных в столбах с датами\n",
    " 2. изменить id записей на числовой тип\n",
    " \n",
    " При изменении типов применим наиболее экономичные с точки зрезния занимаемого объема памяти типы."
   ]
  },
  {
   "cell_type": "markdown",
   "metadata": {},
   "source": [
    "# 2.2. Изменение типов <a class=\"anchor\" id=\"2.2.\"></a>"
   ]
  },
  {
   "cell_type": "code",
   "execution_count": 4,
   "metadata": {},
   "outputs": [],
   "source": [
    "# преобразование типов user_id\n",
    "calls_df_ = calls_df.copy()\n",
    "calls_df_['user_id'] = calls_df_['user_id'].astype(np.int16)\n",
    "calls_df_['id'] = calls_df_['id'].apply(lambda x: x.replace('_', '')).astype(np.int32)\n",
    "calls_df_['duration'] = calls_df_['duration'].astype(np.float64)\n",
    "calls_df_['call_date'] = pd.to_datetime(calls_df_['call_date'], format ='%Y-%m-%d')\n",
    "\n",
    "# преобразование типов internet_df\n",
    "internet_df_ = internet_df.copy()\n",
    "internet_df_['id'] = internet_df_['id'].apply(lambda x: x.replace('_', '')).astype(np.int32)\n",
    "internet_df_['mb_used'] = internet_df_['mb_used'].astype(np.float32)\n",
    "internet_df_['session_date'] = pd.to_datetime(internet_df_['session_date'],format ='%Y-%m-%d' )\n",
    "internet_df_['user_id'] = internet_df_['user_id'].astype(np.int16)\n",
    "\n",
    "# преобразование типов messages_df\n",
    "messages_df_ = messages_df.copy()\n",
    "messages_df_['id'] = messages_df_['id'].apply(lambda x: x.replace('_','')).astype(np.int32)\n",
    "messages_df_['message_date'] = pd.to_datetime(messages_df_['message_date'], format = '%Y-%m-%d')\n",
    "messages_df_['user_id'] = messages_df_['user_id'].astype(np.int16)\n",
    "\n",
    "# преобразование типов  tariffs_df \n",
    "tariffs_df_ = tariffs_df.copy()\n",
    "tariffs_df_['messages_included'] = tariffs_df_['messages_included'].astype(np.int16)\n",
    "tariffs_df_['mb_per_month_included'] = tariffs_df_['mb_per_month_included'].astype(np.int16)\n",
    "tariffs_df_['minutes_included'] = tariffs_df_['minutes_included'].astype(np.int16)\n",
    "tariffs_df_['rub_monthly_fee'] = tariffs_df_['rub_monthly_fee'].astype(np.int16)\n",
    "tariffs_df_['rub_per_gb'] = tariffs_df_['rub_per_gb'].astype(np.int16)\n",
    "tariffs_df_['rub_per_message'] = tariffs_df_['rub_per_message'].astype(np.int8)\n",
    "tariffs_df_['rub_per_minute'] = tariffs_df_['rub_per_minute'].astype(np.int8)\n",
    "\n",
    "# преобразование типов  users_df \n",
    "users_df_ = users_df.copy()\n",
    "users_df_['user_id'] = users_df_['user_id'].astype(np.int16)\n",
    "users_df_['age'] = users_df_['age'].astype(np.int8)\n",
    "users_df_['reg_date'] = pd.to_datetime(users_df_['reg_date'], format = '%Y-%m-%d')"
   ]
  },
  {
   "cell_type": "markdown",
   "metadata": {},
   "source": [
    "# 2.3. Контроль примененных изменений после изменения типов <a class=\"anchor\" id=\"2.3.\"></a>"
   ]
  },
  {
   "cell_type": "markdown",
   "metadata": {},
   "source": [
    "В связи с тем что, были применены \"экономичные\" типы данных, возможно, что после проведенных замен типов изменились и сами значения. Необходимо это проверить."
   ]
  },
  {
   "cell_type": "code",
   "execution_count": 5,
   "metadata": {},
   "outputs": [],
   "source": [
    "def meanchecker(df1, df2):\n",
    "    '''\n",
    "    данная функция делает попытку преобразовать значения столбца в числовой формат и если это возможно сравнивает сумму двух датафреймов.\n",
    "    При этом подавать на вход необходимо датафрейм до преобразования числовой формат и после.\n",
    "    Таким образом будет осуществлена проверка корректности выбранного типа данных. За занижено ли значение типа. например выбрано int16, а надо было int32\n",
    "    '''\n",
    "    for col in df2.columns:\n",
    "        try:\n",
    "            if round(pd.to_numeric(df1[col]).mean(), 2) == round(df2[col].mean(),2):\n",
    "                print(f'для {col}:   среднее совпадает')\n",
    "            else: \n",
    "                print(f'для {col}:   среднее НЕ совпадает')\n",
    "        except Exception as e:\n",
    "            print(f'для {col}:     {e}')"
   ]
  },
  {
   "cell_type": "code",
   "execution_count": 6,
   "metadata": {},
   "outputs": [
    {
     "name": "stdout",
     "output_type": "stream",
     "text": [
      "для id:     Unable to parse string \"1000_0\" at position 0\n",
      "для call_date:     Unable to parse string \"2018-07-25\" at position 0\n",
      "для duration:   среднее совпадает\n",
      "для user_id:   среднее совпадает\n"
     ]
    }
   ],
   "source": [
    "meanchecker(calls_df, calls_df_)"
   ]
  },
  {
   "cell_type": "code",
   "execution_count": 7,
   "metadata": {},
   "outputs": [
    {
     "name": "stdout",
     "output_type": "stream",
     "text": [
      "для id:     Unable to parse string \"1000_0\" at position 0\n",
      "для mb_used:   среднее совпадает\n",
      "для session_date:     Unable to parse string \"2018-11-25\" at position 0\n",
      "для user_id:   среднее совпадает\n"
     ]
    }
   ],
   "source": [
    "meanchecker(internet_df, internet_df_)"
   ]
  },
  {
   "cell_type": "code",
   "execution_count": 8,
   "metadata": {},
   "outputs": [
    {
     "name": "stdout",
     "output_type": "stream",
     "text": [
      "для id:     Unable to parse string \"1000_0\" at position 0\n",
      "для message_date:     Unable to parse string \"2018-06-27\" at position 0\n",
      "для user_id:   среднее совпадает\n"
     ]
    }
   ],
   "source": [
    "meanchecker(messages_df, messages_df_)"
   ]
  },
  {
   "cell_type": "code",
   "execution_count": 9,
   "metadata": {},
   "outputs": [
    {
     "name": "stdout",
     "output_type": "stream",
     "text": [
      "для messages_included:   среднее совпадает\n",
      "для mb_per_month_included:   среднее совпадает\n",
      "для minutes_included:   среднее совпадает\n",
      "для rub_monthly_fee:   среднее совпадает\n",
      "для rub_per_gb:   среднее совпадает\n",
      "для rub_per_message:   среднее совпадает\n",
      "для rub_per_minute:   среднее совпадает\n",
      "для tariff_name:     Unable to parse string \"smart\" at position 0\n"
     ]
    }
   ],
   "source": [
    "meanchecker(tariffs_df, tariffs_df_)"
   ]
  },
  {
   "cell_type": "code",
   "execution_count": 10,
   "metadata": {},
   "outputs": [
    {
     "name": "stdout",
     "output_type": "stream",
     "text": [
      "для user_id:   среднее совпадает\n",
      "для age:   среднее совпадает\n",
      "для churn_date:     Unable to parse string \"2018-10-05\" at position 19\n",
      "для city:     Unable to parse string \"Краснодар\" at position 0\n",
      "для first_name:     Unable to parse string \"Рафаил\" at position 0\n",
      "для last_name:     Unable to parse string \"Верещагин\" at position 0\n",
      "для reg_date:     Unable to parse string \"2018-05-25\" at position 0\n",
      "для tariff:     Unable to parse string \"ultra\" at position 0\n"
     ]
    }
   ],
   "source": [
    "meanchecker(users_df, users_df_)"
   ]
  },
  {
   "cell_type": "markdown",
   "metadata": {},
   "source": [
    "как видно, изменение типовы на числовые произошло корректно - среднее значение совпадает. Оставим пока датафреймы со скорректированными типами."
   ]
  },
  {
   "cell_type": "markdown",
   "metadata": {},
   "source": [
    "## 2.4. Подготовка данных  <a class=\"anchor\" id=\"2.4.\"></a>"
   ]
  },
  {
   "cell_type": "markdown",
   "metadata": {},
   "source": [
    "### 2.4.1. Количество сделанных звонков и израсходованных минут разговора по месяцам <a class=\"anchor\" id=\"2.4.1.\"></a>"
   ]
  },
  {
   "cell_type": "code",
   "execution_count": 11,
   "metadata": {},
   "outputs": [
    {
     "data": {
      "text/html": [
       "<div>\n",
       "<style scoped>\n",
       "    .dataframe tbody tr th:only-of-type {\n",
       "        vertical-align: middle;\n",
       "    }\n",
       "\n",
       "    .dataframe tbody tr th {\n",
       "        vertical-align: top;\n",
       "    }\n",
       "\n",
       "    .dataframe thead th {\n",
       "        text-align: right;\n",
       "    }\n",
       "</style>\n",
       "<table border=\"1\" class=\"dataframe\">\n",
       "  <thead>\n",
       "    <tr style=\"text-align: right;\">\n",
       "      <th>month</th>\n",
       "      <th>1</th>\n",
       "      <th>2</th>\n",
       "      <th>3</th>\n",
       "      <th>4</th>\n",
       "      <th>5</th>\n",
       "      <th>6</th>\n",
       "      <th>7</th>\n",
       "      <th>8</th>\n",
       "      <th>9</th>\n",
       "      <th>10</th>\n",
       "      <th>11</th>\n",
       "      <th>12</th>\n",
       "    </tr>\n",
       "    <tr>\n",
       "      <th>user_id</th>\n",
       "      <th></th>\n",
       "      <th></th>\n",
       "      <th></th>\n",
       "      <th></th>\n",
       "      <th></th>\n",
       "      <th></th>\n",
       "      <th></th>\n",
       "      <th></th>\n",
       "      <th></th>\n",
       "      <th></th>\n",
       "      <th></th>\n",
       "      <th></th>\n",
       "    </tr>\n",
       "  </thead>\n",
       "  <tbody>\n",
       "    <tr>\n",
       "      <th>1000</th>\n",
       "      <td>NaN</td>\n",
       "      <td>NaN</td>\n",
       "      <td>NaN</td>\n",
       "      <td>NaN</td>\n",
       "      <td>22.0</td>\n",
       "      <td>43.0</td>\n",
       "      <td>47.0</td>\n",
       "      <td>52.0</td>\n",
       "      <td>58.0</td>\n",
       "      <td>57.0</td>\n",
       "      <td>43.0</td>\n",
       "      <td>46.0</td>\n",
       "    </tr>\n",
       "    <tr>\n",
       "      <th>1001</th>\n",
       "      <td>NaN</td>\n",
       "      <td>NaN</td>\n",
       "      <td>NaN</td>\n",
       "      <td>NaN</td>\n",
       "      <td>NaN</td>\n",
       "      <td>NaN</td>\n",
       "      <td>NaN</td>\n",
       "      <td>NaN</td>\n",
       "      <td>NaN</td>\n",
       "      <td>NaN</td>\n",
       "      <td>59.0</td>\n",
       "      <td>63.0</td>\n",
       "    </tr>\n",
       "    <tr>\n",
       "      <th>1002</th>\n",
       "      <td>NaN</td>\n",
       "      <td>NaN</td>\n",
       "      <td>NaN</td>\n",
       "      <td>NaN</td>\n",
       "      <td>NaN</td>\n",
       "      <td>15.0</td>\n",
       "      <td>26.0</td>\n",
       "      <td>42.0</td>\n",
       "      <td>36.0</td>\n",
       "      <td>33.0</td>\n",
       "      <td>32.0</td>\n",
       "      <td>33.0</td>\n",
       "    </tr>\n",
       "    <tr>\n",
       "      <th>1003</th>\n",
       "      <td>NaN</td>\n",
       "      <td>NaN</td>\n",
       "      <td>NaN</td>\n",
       "      <td>NaN</td>\n",
       "      <td>NaN</td>\n",
       "      <td>NaN</td>\n",
       "      <td>NaN</td>\n",
       "      <td>55.0</td>\n",
       "      <td>134.0</td>\n",
       "      <td>108.0</td>\n",
       "      <td>115.0</td>\n",
       "      <td>108.0</td>\n",
       "    </tr>\n",
       "    <tr>\n",
       "      <th>1004</th>\n",
       "      <td>NaN</td>\n",
       "      <td>NaN</td>\n",
       "      <td>NaN</td>\n",
       "      <td>NaN</td>\n",
       "      <td>9.0</td>\n",
       "      <td>31.0</td>\n",
       "      <td>22.0</td>\n",
       "      <td>19.0</td>\n",
       "      <td>26.0</td>\n",
       "      <td>29.0</td>\n",
       "      <td>19.0</td>\n",
       "      <td>21.0</td>\n",
       "    </tr>\n",
       "  </tbody>\n",
       "</table>\n",
       "</div>"
      ],
      "text/plain": [
       "month    1   2   3   4     5     6     7     8      9      10     11     12\n",
       "user_id                                                                    \n",
       "1000    NaN NaN NaN NaN  22.0  43.0  47.0  52.0   58.0   57.0   43.0   46.0\n",
       "1001    NaN NaN NaN NaN   NaN   NaN   NaN   NaN    NaN    NaN   59.0   63.0\n",
       "1002    NaN NaN NaN NaN   NaN  15.0  26.0  42.0   36.0   33.0   32.0   33.0\n",
       "1003    NaN NaN NaN NaN   NaN   NaN   NaN  55.0  134.0  108.0  115.0  108.0\n",
       "1004    NaN NaN NaN NaN   9.0  31.0  22.0  19.0   26.0   29.0   19.0   21.0"
      ]
     },
     "metadata": {},
     "output_type": "display_data"
    },
    {
     "data": {
      "text/html": [
       "<div>\n",
       "<style scoped>\n",
       "    .dataframe tbody tr th:only-of-type {\n",
       "        vertical-align: middle;\n",
       "    }\n",
       "\n",
       "    .dataframe tbody tr th {\n",
       "        vertical-align: top;\n",
       "    }\n",
       "\n",
       "    .dataframe thead th {\n",
       "        text-align: right;\n",
       "    }\n",
       "</style>\n",
       "<table border=\"1\" class=\"dataframe\">\n",
       "  <thead>\n",
       "    <tr style=\"text-align: right;\">\n",
       "      <th>month</th>\n",
       "      <th>1</th>\n",
       "      <th>2</th>\n",
       "      <th>3</th>\n",
       "      <th>4</th>\n",
       "      <th>5</th>\n",
       "      <th>6</th>\n",
       "      <th>7</th>\n",
       "      <th>8</th>\n",
       "      <th>9</th>\n",
       "      <th>10</th>\n",
       "      <th>11</th>\n",
       "      <th>12</th>\n",
       "    </tr>\n",
       "    <tr>\n",
       "      <th>user_id</th>\n",
       "      <th></th>\n",
       "      <th></th>\n",
       "      <th></th>\n",
       "      <th></th>\n",
       "      <th></th>\n",
       "      <th></th>\n",
       "      <th></th>\n",
       "      <th></th>\n",
       "      <th></th>\n",
       "      <th></th>\n",
       "      <th></th>\n",
       "      <th></th>\n",
       "    </tr>\n",
       "  </thead>\n",
       "  <tbody>\n",
       "    <tr>\n",
       "      <th>1000</th>\n",
       "      <td>NaN</td>\n",
       "      <td>NaN</td>\n",
       "      <td>NaN</td>\n",
       "      <td>NaN</td>\n",
       "      <td>159.0</td>\n",
       "      <td>172.0</td>\n",
       "      <td>340.0</td>\n",
       "      <td>408.0</td>\n",
       "      <td>466.0</td>\n",
       "      <td>350.0</td>\n",
       "      <td>338.0</td>\n",
       "      <td>333.0</td>\n",
       "    </tr>\n",
       "    <tr>\n",
       "      <th>1001</th>\n",
       "      <td>NaN</td>\n",
       "      <td>NaN</td>\n",
       "      <td>NaN</td>\n",
       "      <td>NaN</td>\n",
       "      <td>NaN</td>\n",
       "      <td>NaN</td>\n",
       "      <td>NaN</td>\n",
       "      <td>NaN</td>\n",
       "      <td>NaN</td>\n",
       "      <td>NaN</td>\n",
       "      <td>430.0</td>\n",
       "      <td>414.0</td>\n",
       "    </tr>\n",
       "    <tr>\n",
       "      <th>1002</th>\n",
       "      <td>NaN</td>\n",
       "      <td>NaN</td>\n",
       "      <td>NaN</td>\n",
       "      <td>NaN</td>\n",
       "      <td>NaN</td>\n",
       "      <td>117.0</td>\n",
       "      <td>214.0</td>\n",
       "      <td>289.0</td>\n",
       "      <td>206.0</td>\n",
       "      <td>212.0</td>\n",
       "      <td>243.0</td>\n",
       "      <td>236.0</td>\n",
       "    </tr>\n",
       "    <tr>\n",
       "      <th>1003</th>\n",
       "      <td>NaN</td>\n",
       "      <td>NaN</td>\n",
       "      <td>NaN</td>\n",
       "      <td>NaN</td>\n",
       "      <td>NaN</td>\n",
       "      <td>NaN</td>\n",
       "      <td>NaN</td>\n",
       "      <td>380.0</td>\n",
       "      <td>961.0</td>\n",
       "      <td>855.0</td>\n",
       "      <td>824.0</td>\n",
       "      <td>802.0</td>\n",
       "    </tr>\n",
       "    <tr>\n",
       "      <th>1004</th>\n",
       "      <td>NaN</td>\n",
       "      <td>NaN</td>\n",
       "      <td>NaN</td>\n",
       "      <td>NaN</td>\n",
       "      <td>35.0</td>\n",
       "      <td>171.0</td>\n",
       "      <td>135.0</td>\n",
       "      <td>137.0</td>\n",
       "      <td>117.0</td>\n",
       "      <td>145.0</td>\n",
       "      <td>117.0</td>\n",
       "      <td>130.0</td>\n",
       "    </tr>\n",
       "  </tbody>\n",
       "</table>\n",
       "</div>"
      ],
      "text/plain": [
       "month    1   2   3   4      5      6      7      8      9      10     11  \\\n",
       "user_id                                                                    \n",
       "1000    NaN NaN NaN NaN  159.0  172.0  340.0  408.0  466.0  350.0  338.0   \n",
       "1001    NaN NaN NaN NaN    NaN    NaN    NaN    NaN    NaN    NaN  430.0   \n",
       "1002    NaN NaN NaN NaN    NaN  117.0  214.0  289.0  206.0  212.0  243.0   \n",
       "1003    NaN NaN NaN NaN    NaN    NaN    NaN  380.0  961.0  855.0  824.0   \n",
       "1004    NaN NaN NaN NaN   35.0  171.0  135.0  137.0  117.0  145.0  117.0   \n",
       "\n",
       "month       12  \n",
       "user_id         \n",
       "1000     333.0  \n",
       "1001     414.0  \n",
       "1002     236.0  \n",
       "1003     802.0  \n",
       "1004     130.0  "
      ]
     },
     "metadata": {},
     "output_type": "display_data"
    }
   ],
   "source": [
    "calls_df_['month'] = calls_df_['call_date'].dt.month\n",
    "calls_df_['duration_rounded'] = calls_df_['duration'].apply(math.ceil) # округляем каждую неполную минуту в большую сторону\n",
    "\n",
    "calls_count = calls_df_.pivot_table(index='user_id', columns ='month'  , values = 'duration', aggfunc = 'count')\n",
    "calls_sum = calls_df_.pivot_table(index='user_id', columns ='month'  , values = 'duration_rounded', aggfunc = 'sum')\n",
    "\n",
    "# выведем результаты \n",
    "display(calls_count.head())\n",
    "display(calls_sum.head())"
   ]
  },
  {
   "cell_type": "markdown",
   "metadata": {},
   "source": [
    "### 2.4.2. Количество отправленных сообщений по месяцам <a class=\"anchor\" id=\"2.4.2.\"></a>"
   ]
  },
  {
   "cell_type": "code",
   "execution_count": 12,
   "metadata": {},
   "outputs": [
    {
     "data": {
      "text/html": [
       "<div>\n",
       "<style scoped>\n",
       "    .dataframe tbody tr th:only-of-type {\n",
       "        vertical-align: middle;\n",
       "    }\n",
       "\n",
       "    .dataframe tbody tr th {\n",
       "        vertical-align: top;\n",
       "    }\n",
       "\n",
       "    .dataframe thead th {\n",
       "        text-align: right;\n",
       "    }\n",
       "</style>\n",
       "<table border=\"1\" class=\"dataframe\">\n",
       "  <thead>\n",
       "    <tr style=\"text-align: right;\">\n",
       "      <th>month</th>\n",
       "      <th>1</th>\n",
       "      <th>2</th>\n",
       "      <th>3</th>\n",
       "      <th>4</th>\n",
       "      <th>5</th>\n",
       "      <th>6</th>\n",
       "      <th>7</th>\n",
       "      <th>8</th>\n",
       "      <th>9</th>\n",
       "      <th>10</th>\n",
       "      <th>11</th>\n",
       "      <th>12</th>\n",
       "    </tr>\n",
       "    <tr>\n",
       "      <th>user_id</th>\n",
       "      <th></th>\n",
       "      <th></th>\n",
       "      <th></th>\n",
       "      <th></th>\n",
       "      <th></th>\n",
       "      <th></th>\n",
       "      <th></th>\n",
       "      <th></th>\n",
       "      <th></th>\n",
       "      <th></th>\n",
       "      <th></th>\n",
       "      <th></th>\n",
       "    </tr>\n",
       "  </thead>\n",
       "  <tbody>\n",
       "    <tr>\n",
       "      <th>1000</th>\n",
       "      <td>NaN</td>\n",
       "      <td>NaN</td>\n",
       "      <td>NaN</td>\n",
       "      <td>NaN</td>\n",
       "      <td>22.0</td>\n",
       "      <td>43.0</td>\n",
       "      <td>47.0</td>\n",
       "      <td>52.0</td>\n",
       "      <td>58.0</td>\n",
       "      <td>57.0</td>\n",
       "      <td>43.0</td>\n",
       "      <td>46.0</td>\n",
       "    </tr>\n",
       "    <tr>\n",
       "      <th>1001</th>\n",
       "      <td>NaN</td>\n",
       "      <td>NaN</td>\n",
       "      <td>NaN</td>\n",
       "      <td>NaN</td>\n",
       "      <td>NaN</td>\n",
       "      <td>NaN</td>\n",
       "      <td>NaN</td>\n",
       "      <td>NaN</td>\n",
       "      <td>NaN</td>\n",
       "      <td>NaN</td>\n",
       "      <td>59.0</td>\n",
       "      <td>63.0</td>\n",
       "    </tr>\n",
       "    <tr>\n",
       "      <th>1002</th>\n",
       "      <td>NaN</td>\n",
       "      <td>NaN</td>\n",
       "      <td>NaN</td>\n",
       "      <td>NaN</td>\n",
       "      <td>NaN</td>\n",
       "      <td>15.0</td>\n",
       "      <td>26.0</td>\n",
       "      <td>42.0</td>\n",
       "      <td>36.0</td>\n",
       "      <td>33.0</td>\n",
       "      <td>32.0</td>\n",
       "      <td>33.0</td>\n",
       "    </tr>\n",
       "    <tr>\n",
       "      <th>1003</th>\n",
       "      <td>NaN</td>\n",
       "      <td>NaN</td>\n",
       "      <td>NaN</td>\n",
       "      <td>NaN</td>\n",
       "      <td>NaN</td>\n",
       "      <td>NaN</td>\n",
       "      <td>NaN</td>\n",
       "      <td>55.0</td>\n",
       "      <td>134.0</td>\n",
       "      <td>108.0</td>\n",
       "      <td>115.0</td>\n",
       "      <td>108.0</td>\n",
       "    </tr>\n",
       "    <tr>\n",
       "      <th>1004</th>\n",
       "      <td>NaN</td>\n",
       "      <td>NaN</td>\n",
       "      <td>NaN</td>\n",
       "      <td>NaN</td>\n",
       "      <td>9.0</td>\n",
       "      <td>31.0</td>\n",
       "      <td>22.0</td>\n",
       "      <td>19.0</td>\n",
       "      <td>26.0</td>\n",
       "      <td>29.0</td>\n",
       "      <td>19.0</td>\n",
       "      <td>21.0</td>\n",
       "    </tr>\n",
       "  </tbody>\n",
       "</table>\n",
       "</div>"
      ],
      "text/plain": [
       "month    1   2   3   4     5     6     7     8      9      10     11     12\n",
       "user_id                                                                    \n",
       "1000    NaN NaN NaN NaN  22.0  43.0  47.0  52.0   58.0   57.0   43.0   46.0\n",
       "1001    NaN NaN NaN NaN   NaN   NaN   NaN   NaN    NaN    NaN   59.0   63.0\n",
       "1002    NaN NaN NaN NaN   NaN  15.0  26.0  42.0   36.0   33.0   32.0   33.0\n",
       "1003    NaN NaN NaN NaN   NaN   NaN   NaN  55.0  134.0  108.0  115.0  108.0\n",
       "1004    NaN NaN NaN NaN   9.0  31.0  22.0  19.0   26.0   29.0   19.0   21.0"
      ]
     },
     "execution_count": 12,
     "metadata": {},
     "output_type": "execute_result"
    }
   ],
   "source": [
    "messages_df_['month'] = messages_df_['message_date'].dt.month\n",
    "messages_count = calls_df_.pivot_table(index='user_id', columns ='month'  , values = 'id', aggfunc = 'count') \n",
    "messages_count.head()"
   ]
  },
  {
   "cell_type": "markdown",
   "metadata": {},
   "source": [
    "### 2.4.3. Объем израсходованного интернет-трафика по месяцам <a class=\"anchor\" id=\"2.4.3.\"></a>"
   ]
  },
  {
   "cell_type": "code",
   "execution_count": 13,
   "metadata": {},
   "outputs": [
    {
     "data": {
      "text/html": [
       "<div>\n",
       "<style scoped>\n",
       "    .dataframe tbody tr th:only-of-type {\n",
       "        vertical-align: middle;\n",
       "    }\n",
       "\n",
       "    .dataframe tbody tr th {\n",
       "        vertical-align: top;\n",
       "    }\n",
       "\n",
       "    .dataframe thead th {\n",
       "        text-align: right;\n",
       "    }\n",
       "</style>\n",
       "<table border=\"1\" class=\"dataframe\">\n",
       "  <thead>\n",
       "    <tr style=\"text-align: right;\">\n",
       "      <th>month</th>\n",
       "      <th>1</th>\n",
       "      <th>2</th>\n",
       "      <th>3</th>\n",
       "      <th>4</th>\n",
       "      <th>5</th>\n",
       "      <th>6</th>\n",
       "      <th>7</th>\n",
       "      <th>8</th>\n",
       "      <th>9</th>\n",
       "      <th>10</th>\n",
       "      <th>11</th>\n",
       "      <th>12</th>\n",
       "    </tr>\n",
       "    <tr>\n",
       "      <th>user_id</th>\n",
       "      <th></th>\n",
       "      <th></th>\n",
       "      <th></th>\n",
       "      <th></th>\n",
       "      <th></th>\n",
       "      <th></th>\n",
       "      <th></th>\n",
       "      <th></th>\n",
       "      <th></th>\n",
       "      <th></th>\n",
       "      <th></th>\n",
       "      <th></th>\n",
       "    </tr>\n",
       "  </thead>\n",
       "  <tbody>\n",
       "    <tr>\n",
       "      <th>1000</th>\n",
       "      <td>NaN</td>\n",
       "      <td>NaN</td>\n",
       "      <td>NaN</td>\n",
       "      <td>NaN</td>\n",
       "      <td>3.0</td>\n",
       "      <td>23.0</td>\n",
       "      <td>14.0</td>\n",
       "      <td>14.0</td>\n",
       "      <td>15.0</td>\n",
       "      <td>15.0</td>\n",
       "      <td>15.0</td>\n",
       "      <td>10.0</td>\n",
       "    </tr>\n",
       "    <tr>\n",
       "      <th>1001</th>\n",
       "      <td>NaN</td>\n",
       "      <td>NaN</td>\n",
       "      <td>NaN</td>\n",
       "      <td>NaN</td>\n",
       "      <td>NaN</td>\n",
       "      <td>NaN</td>\n",
       "      <td>NaN</td>\n",
       "      <td>NaN</td>\n",
       "      <td>NaN</td>\n",
       "      <td>NaN</td>\n",
       "      <td>18.0</td>\n",
       "      <td>14.0</td>\n",
       "    </tr>\n",
       "    <tr>\n",
       "      <th>1002</th>\n",
       "      <td>NaN</td>\n",
       "      <td>NaN</td>\n",
       "      <td>NaN</td>\n",
       "      <td>NaN</td>\n",
       "      <td>NaN</td>\n",
       "      <td>11.0</td>\n",
       "      <td>18.0</td>\n",
       "      <td>20.0</td>\n",
       "      <td>17.0</td>\n",
       "      <td>14.0</td>\n",
       "      <td>19.0</td>\n",
       "      <td>18.0</td>\n",
       "    </tr>\n",
       "    <tr>\n",
       "      <th>1003</th>\n",
       "      <td>NaN</td>\n",
       "      <td>NaN</td>\n",
       "      <td>NaN</td>\n",
       "      <td>NaN</td>\n",
       "      <td>NaN</td>\n",
       "      <td>NaN</td>\n",
       "      <td>NaN</td>\n",
       "      <td>9.0</td>\n",
       "      <td>13.0</td>\n",
       "      <td>15.0</td>\n",
       "      <td>12.0</td>\n",
       "      <td>10.0</td>\n",
       "    </tr>\n",
       "    <tr>\n",
       "      <th>1004</th>\n",
       "      <td>NaN</td>\n",
       "      <td>NaN</td>\n",
       "      <td>NaN</td>\n",
       "      <td>NaN</td>\n",
       "      <td>14.0</td>\n",
       "      <td>18.0</td>\n",
       "      <td>22.0</td>\n",
       "      <td>28.0</td>\n",
       "      <td>15.0</td>\n",
       "      <td>19.0</td>\n",
       "      <td>16.0</td>\n",
       "      <td>18.0</td>\n",
       "    </tr>\n",
       "  </tbody>\n",
       "</table>\n",
       "</div>"
      ],
      "text/plain": [
       "month    1   2   3   4     5     6     7     8     9     10    11    12\n",
       "user_id                                                                \n",
       "1000    NaN NaN NaN NaN   3.0  23.0  14.0  14.0  15.0  15.0  15.0  10.0\n",
       "1001    NaN NaN NaN NaN   NaN   NaN   NaN   NaN   NaN   NaN  18.0  14.0\n",
       "1002    NaN NaN NaN NaN   NaN  11.0  18.0  20.0  17.0  14.0  19.0  18.0\n",
       "1003    NaN NaN NaN NaN   NaN   NaN   NaN   9.0  13.0  15.0  12.0  10.0\n",
       "1004    NaN NaN NaN NaN  14.0  18.0  22.0  28.0  15.0  19.0  16.0  18.0"
      ]
     },
     "execution_count": 13,
     "metadata": {},
     "output_type": "execute_result"
    }
   ],
   "source": [
    "def month_traffic_counter(x):\n",
    "    '''\n",
    "    данная функция предназначена для суммирования мегабайт трафика и пересчета в гигабайты с округлением в большую сторону\n",
    "    '''\n",
    "    return math.ceil(sum(x)/1024)\n",
    "    \n",
    "internet_df_['month'] = internet_df_['session_date'].dt.month\n",
    "internet_sum = internet_df_.pivot_table(index='user_id', columns ='month', values = 'mb_used', aggfunc = month_traffic_counter)\n",
    "internet_sum.head()"
   ]
  },
  {
   "cell_type": "markdown",
   "metadata": {},
   "source": [
    "### 2.4.4. Помесячная выручка с каждого пользователя <a class=\"anchor\" id=\"2.4.4.\"></a>"
   ]
  },
  {
   "cell_type": "code",
   "execution_count": 14,
   "metadata": {},
   "outputs": [
    {
     "name": "stdout",
     "output_type": "stream",
     "text": [
      "calls_sum\n"
     ]
    },
    {
     "data": {
      "text/html": [
       "<div>\n",
       "<style scoped>\n",
       "    .dataframe tbody tr th:only-of-type {\n",
       "        vertical-align: middle;\n",
       "    }\n",
       "\n",
       "    .dataframe tbody tr th {\n",
       "        vertical-align: top;\n",
       "    }\n",
       "\n",
       "    .dataframe thead th {\n",
       "        text-align: right;\n",
       "    }\n",
       "</style>\n",
       "<table border=\"1\" class=\"dataframe\">\n",
       "  <thead>\n",
       "    <tr style=\"text-align: right;\">\n",
       "      <th></th>\n",
       "      <th>user_id</th>\n",
       "      <th>tariff</th>\n",
       "      <th>1</th>\n",
       "      <th>2</th>\n",
       "      <th>3</th>\n",
       "      <th>4</th>\n",
       "      <th>5</th>\n",
       "      <th>6</th>\n",
       "      <th>7</th>\n",
       "      <th>8</th>\n",
       "      <th>9</th>\n",
       "      <th>10</th>\n",
       "      <th>11</th>\n",
       "      <th>12</th>\n",
       "    </tr>\n",
       "  </thead>\n",
       "  <tbody>\n",
       "    <tr>\n",
       "      <th>0</th>\n",
       "      <td>1000</td>\n",
       "      <td>ultra</td>\n",
       "      <td>NaN</td>\n",
       "      <td>NaN</td>\n",
       "      <td>NaN</td>\n",
       "      <td>NaN</td>\n",
       "      <td>159.0</td>\n",
       "      <td>172.0</td>\n",
       "      <td>340.0</td>\n",
       "      <td>408.0</td>\n",
       "      <td>466.0</td>\n",
       "      <td>350.0</td>\n",
       "      <td>338.0</td>\n",
       "      <td>333.0</td>\n",
       "    </tr>\n",
       "    <tr>\n",
       "      <th>1</th>\n",
       "      <td>1001</td>\n",
       "      <td>smart</td>\n",
       "      <td>NaN</td>\n",
       "      <td>NaN</td>\n",
       "      <td>NaN</td>\n",
       "      <td>NaN</td>\n",
       "      <td>NaN</td>\n",
       "      <td>NaN</td>\n",
       "      <td>NaN</td>\n",
       "      <td>NaN</td>\n",
       "      <td>NaN</td>\n",
       "      <td>NaN</td>\n",
       "      <td>430.0</td>\n",
       "      <td>414.0</td>\n",
       "    </tr>\n",
       "    <tr>\n",
       "      <th>2</th>\n",
       "      <td>1002</td>\n",
       "      <td>smart</td>\n",
       "      <td>NaN</td>\n",
       "      <td>NaN</td>\n",
       "      <td>NaN</td>\n",
       "      <td>NaN</td>\n",
       "      <td>NaN</td>\n",
       "      <td>117.0</td>\n",
       "      <td>214.0</td>\n",
       "      <td>289.0</td>\n",
       "      <td>206.0</td>\n",
       "      <td>212.0</td>\n",
       "      <td>243.0</td>\n",
       "      <td>236.0</td>\n",
       "    </tr>\n",
       "    <tr>\n",
       "      <th>3</th>\n",
       "      <td>1003</td>\n",
       "      <td>ultra</td>\n",
       "      <td>NaN</td>\n",
       "      <td>NaN</td>\n",
       "      <td>NaN</td>\n",
       "      <td>NaN</td>\n",
       "      <td>NaN</td>\n",
       "      <td>NaN</td>\n",
       "      <td>NaN</td>\n",
       "      <td>380.0</td>\n",
       "      <td>961.0</td>\n",
       "      <td>855.0</td>\n",
       "      <td>824.0</td>\n",
       "      <td>802.0</td>\n",
       "    </tr>\n",
       "    <tr>\n",
       "      <th>4</th>\n",
       "      <td>1004</td>\n",
       "      <td>ultra</td>\n",
       "      <td>NaN</td>\n",
       "      <td>NaN</td>\n",
       "      <td>NaN</td>\n",
       "      <td>NaN</td>\n",
       "      <td>35.0</td>\n",
       "      <td>171.0</td>\n",
       "      <td>135.0</td>\n",
       "      <td>137.0</td>\n",
       "      <td>117.0</td>\n",
       "      <td>145.0</td>\n",
       "      <td>117.0</td>\n",
       "      <td>130.0</td>\n",
       "    </tr>\n",
       "  </tbody>\n",
       "</table>\n",
       "</div>"
      ],
      "text/plain": [
       "   user_id tariff   1   2   3   4      5      6      7      8      9     10  \\\n",
       "0     1000  ultra NaN NaN NaN NaN  159.0  172.0  340.0  408.0  466.0  350.0   \n",
       "1     1001  smart NaN NaN NaN NaN    NaN    NaN    NaN    NaN    NaN    NaN   \n",
       "2     1002  smart NaN NaN NaN NaN    NaN  117.0  214.0  289.0  206.0  212.0   \n",
       "3     1003  ultra NaN NaN NaN NaN    NaN    NaN    NaN  380.0  961.0  855.0   \n",
       "4     1004  ultra NaN NaN NaN NaN   35.0  171.0  135.0  137.0  117.0  145.0   \n",
       "\n",
       "      11     12  \n",
       "0  338.0  333.0  \n",
       "1  430.0  414.0  \n",
       "2  243.0  236.0  \n",
       "3  824.0  802.0  \n",
       "4  117.0  130.0  "
      ]
     },
     "metadata": {},
     "output_type": "display_data"
    },
    {
     "name": "stdout",
     "output_type": "stream",
     "text": [
      "calls_count\n"
     ]
    },
    {
     "data": {
      "text/html": [
       "<div>\n",
       "<style scoped>\n",
       "    .dataframe tbody tr th:only-of-type {\n",
       "        vertical-align: middle;\n",
       "    }\n",
       "\n",
       "    .dataframe tbody tr th {\n",
       "        vertical-align: top;\n",
       "    }\n",
       "\n",
       "    .dataframe thead th {\n",
       "        text-align: right;\n",
       "    }\n",
       "</style>\n",
       "<table border=\"1\" class=\"dataframe\">\n",
       "  <thead>\n",
       "    <tr style=\"text-align: right;\">\n",
       "      <th></th>\n",
       "      <th>user_id</th>\n",
       "      <th>tariff</th>\n",
       "      <th>1</th>\n",
       "      <th>2</th>\n",
       "      <th>3</th>\n",
       "      <th>4</th>\n",
       "      <th>5</th>\n",
       "      <th>6</th>\n",
       "      <th>7</th>\n",
       "      <th>8</th>\n",
       "      <th>9</th>\n",
       "      <th>10</th>\n",
       "      <th>11</th>\n",
       "      <th>12</th>\n",
       "    </tr>\n",
       "  </thead>\n",
       "  <tbody>\n",
       "    <tr>\n",
       "      <th>0</th>\n",
       "      <td>1000</td>\n",
       "      <td>ultra</td>\n",
       "      <td>NaN</td>\n",
       "      <td>NaN</td>\n",
       "      <td>NaN</td>\n",
       "      <td>NaN</td>\n",
       "      <td>22.0</td>\n",
       "      <td>43.0</td>\n",
       "      <td>47.0</td>\n",
       "      <td>52.0</td>\n",
       "      <td>58.0</td>\n",
       "      <td>57.0</td>\n",
       "      <td>43.0</td>\n",
       "      <td>46.0</td>\n",
       "    </tr>\n",
       "    <tr>\n",
       "      <th>1</th>\n",
       "      <td>1001</td>\n",
       "      <td>smart</td>\n",
       "      <td>NaN</td>\n",
       "      <td>NaN</td>\n",
       "      <td>NaN</td>\n",
       "      <td>NaN</td>\n",
       "      <td>NaN</td>\n",
       "      <td>NaN</td>\n",
       "      <td>NaN</td>\n",
       "      <td>NaN</td>\n",
       "      <td>NaN</td>\n",
       "      <td>NaN</td>\n",
       "      <td>59.0</td>\n",
       "      <td>63.0</td>\n",
       "    </tr>\n",
       "    <tr>\n",
       "      <th>2</th>\n",
       "      <td>1002</td>\n",
       "      <td>smart</td>\n",
       "      <td>NaN</td>\n",
       "      <td>NaN</td>\n",
       "      <td>NaN</td>\n",
       "      <td>NaN</td>\n",
       "      <td>NaN</td>\n",
       "      <td>15.0</td>\n",
       "      <td>26.0</td>\n",
       "      <td>42.0</td>\n",
       "      <td>36.0</td>\n",
       "      <td>33.0</td>\n",
       "      <td>32.0</td>\n",
       "      <td>33.0</td>\n",
       "    </tr>\n",
       "    <tr>\n",
       "      <th>3</th>\n",
       "      <td>1003</td>\n",
       "      <td>ultra</td>\n",
       "      <td>NaN</td>\n",
       "      <td>NaN</td>\n",
       "      <td>NaN</td>\n",
       "      <td>NaN</td>\n",
       "      <td>NaN</td>\n",
       "      <td>NaN</td>\n",
       "      <td>NaN</td>\n",
       "      <td>55.0</td>\n",
       "      <td>134.0</td>\n",
       "      <td>108.0</td>\n",
       "      <td>115.0</td>\n",
       "      <td>108.0</td>\n",
       "    </tr>\n",
       "    <tr>\n",
       "      <th>4</th>\n",
       "      <td>1004</td>\n",
       "      <td>ultra</td>\n",
       "      <td>NaN</td>\n",
       "      <td>NaN</td>\n",
       "      <td>NaN</td>\n",
       "      <td>NaN</td>\n",
       "      <td>9.0</td>\n",
       "      <td>31.0</td>\n",
       "      <td>22.0</td>\n",
       "      <td>19.0</td>\n",
       "      <td>26.0</td>\n",
       "      <td>29.0</td>\n",
       "      <td>19.0</td>\n",
       "      <td>21.0</td>\n",
       "    </tr>\n",
       "  </tbody>\n",
       "</table>\n",
       "</div>"
      ],
      "text/plain": [
       "   user_id tariff   1   2   3   4     5     6     7     8      9     10  \\\n",
       "0     1000  ultra NaN NaN NaN NaN  22.0  43.0  47.0  52.0   58.0   57.0   \n",
       "1     1001  smart NaN NaN NaN NaN   NaN   NaN   NaN   NaN    NaN    NaN   \n",
       "2     1002  smart NaN NaN NaN NaN   NaN  15.0  26.0  42.0   36.0   33.0   \n",
       "3     1003  ultra NaN NaN NaN NaN   NaN   NaN   NaN  55.0  134.0  108.0   \n",
       "4     1004  ultra NaN NaN NaN NaN   9.0  31.0  22.0  19.0   26.0   29.0   \n",
       "\n",
       "      11     12  \n",
       "0   43.0   46.0  \n",
       "1   59.0   63.0  \n",
       "2   32.0   33.0  \n",
       "3  115.0  108.0  \n",
       "4   19.0   21.0  "
      ]
     },
     "metadata": {},
     "output_type": "display_data"
    },
    {
     "name": "stdout",
     "output_type": "stream",
     "text": [
      "messages_count\n"
     ]
    },
    {
     "data": {
      "text/html": [
       "<div>\n",
       "<style scoped>\n",
       "    .dataframe tbody tr th:only-of-type {\n",
       "        vertical-align: middle;\n",
       "    }\n",
       "\n",
       "    .dataframe tbody tr th {\n",
       "        vertical-align: top;\n",
       "    }\n",
       "\n",
       "    .dataframe thead th {\n",
       "        text-align: right;\n",
       "    }\n",
       "</style>\n",
       "<table border=\"1\" class=\"dataframe\">\n",
       "  <thead>\n",
       "    <tr style=\"text-align: right;\">\n",
       "      <th></th>\n",
       "      <th>user_id</th>\n",
       "      <th>tariff</th>\n",
       "      <th>1</th>\n",
       "      <th>2</th>\n",
       "      <th>3</th>\n",
       "      <th>4</th>\n",
       "      <th>5</th>\n",
       "      <th>6</th>\n",
       "      <th>7</th>\n",
       "      <th>8</th>\n",
       "      <th>9</th>\n",
       "      <th>10</th>\n",
       "      <th>11</th>\n",
       "      <th>12</th>\n",
       "    </tr>\n",
       "  </thead>\n",
       "  <tbody>\n",
       "    <tr>\n",
       "      <th>0</th>\n",
       "      <td>1000</td>\n",
       "      <td>ultra</td>\n",
       "      <td>NaN</td>\n",
       "      <td>NaN</td>\n",
       "      <td>NaN</td>\n",
       "      <td>NaN</td>\n",
       "      <td>22.0</td>\n",
       "      <td>43.0</td>\n",
       "      <td>47.0</td>\n",
       "      <td>52.0</td>\n",
       "      <td>58.0</td>\n",
       "      <td>57.0</td>\n",
       "      <td>43.0</td>\n",
       "      <td>46.0</td>\n",
       "    </tr>\n",
       "    <tr>\n",
       "      <th>1</th>\n",
       "      <td>1001</td>\n",
       "      <td>smart</td>\n",
       "      <td>NaN</td>\n",
       "      <td>NaN</td>\n",
       "      <td>NaN</td>\n",
       "      <td>NaN</td>\n",
       "      <td>NaN</td>\n",
       "      <td>NaN</td>\n",
       "      <td>NaN</td>\n",
       "      <td>NaN</td>\n",
       "      <td>NaN</td>\n",
       "      <td>NaN</td>\n",
       "      <td>59.0</td>\n",
       "      <td>63.0</td>\n",
       "    </tr>\n",
       "    <tr>\n",
       "      <th>2</th>\n",
       "      <td>1002</td>\n",
       "      <td>smart</td>\n",
       "      <td>NaN</td>\n",
       "      <td>NaN</td>\n",
       "      <td>NaN</td>\n",
       "      <td>NaN</td>\n",
       "      <td>NaN</td>\n",
       "      <td>15.0</td>\n",
       "      <td>26.0</td>\n",
       "      <td>42.0</td>\n",
       "      <td>36.0</td>\n",
       "      <td>33.0</td>\n",
       "      <td>32.0</td>\n",
       "      <td>33.0</td>\n",
       "    </tr>\n",
       "    <tr>\n",
       "      <th>3</th>\n",
       "      <td>1003</td>\n",
       "      <td>ultra</td>\n",
       "      <td>NaN</td>\n",
       "      <td>NaN</td>\n",
       "      <td>NaN</td>\n",
       "      <td>NaN</td>\n",
       "      <td>NaN</td>\n",
       "      <td>NaN</td>\n",
       "      <td>NaN</td>\n",
       "      <td>55.0</td>\n",
       "      <td>134.0</td>\n",
       "      <td>108.0</td>\n",
       "      <td>115.0</td>\n",
       "      <td>108.0</td>\n",
       "    </tr>\n",
       "    <tr>\n",
       "      <th>4</th>\n",
       "      <td>1004</td>\n",
       "      <td>ultra</td>\n",
       "      <td>NaN</td>\n",
       "      <td>NaN</td>\n",
       "      <td>NaN</td>\n",
       "      <td>NaN</td>\n",
       "      <td>9.0</td>\n",
       "      <td>31.0</td>\n",
       "      <td>22.0</td>\n",
       "      <td>19.0</td>\n",
       "      <td>26.0</td>\n",
       "      <td>29.0</td>\n",
       "      <td>19.0</td>\n",
       "      <td>21.0</td>\n",
       "    </tr>\n",
       "  </tbody>\n",
       "</table>\n",
       "</div>"
      ],
      "text/plain": [
       "   user_id tariff   1   2   3   4     5     6     7     8      9     10  \\\n",
       "0     1000  ultra NaN NaN NaN NaN  22.0  43.0  47.0  52.0   58.0   57.0   \n",
       "1     1001  smart NaN NaN NaN NaN   NaN   NaN   NaN   NaN    NaN    NaN   \n",
       "2     1002  smart NaN NaN NaN NaN   NaN  15.0  26.0  42.0   36.0   33.0   \n",
       "3     1003  ultra NaN NaN NaN NaN   NaN   NaN   NaN  55.0  134.0  108.0   \n",
       "4     1004  ultra NaN NaN NaN NaN   9.0  31.0  22.0  19.0   26.0   29.0   \n",
       "\n",
       "      11     12  \n",
       "0   43.0   46.0  \n",
       "1   59.0   63.0  \n",
       "2   32.0   33.0  \n",
       "3  115.0  108.0  \n",
       "4   19.0   21.0  "
      ]
     },
     "metadata": {},
     "output_type": "display_data"
    },
    {
     "name": "stdout",
     "output_type": "stream",
     "text": [
      "internet_sum\n"
     ]
    },
    {
     "data": {
      "text/html": [
       "<div>\n",
       "<style scoped>\n",
       "    .dataframe tbody tr th:only-of-type {\n",
       "        vertical-align: middle;\n",
       "    }\n",
       "\n",
       "    .dataframe tbody tr th {\n",
       "        vertical-align: top;\n",
       "    }\n",
       "\n",
       "    .dataframe thead th {\n",
       "        text-align: right;\n",
       "    }\n",
       "</style>\n",
       "<table border=\"1\" class=\"dataframe\">\n",
       "  <thead>\n",
       "    <tr style=\"text-align: right;\">\n",
       "      <th></th>\n",
       "      <th>user_id</th>\n",
       "      <th>tariff</th>\n",
       "      <th>1</th>\n",
       "      <th>2</th>\n",
       "      <th>3</th>\n",
       "      <th>4</th>\n",
       "      <th>5</th>\n",
       "      <th>6</th>\n",
       "      <th>7</th>\n",
       "      <th>8</th>\n",
       "      <th>9</th>\n",
       "      <th>10</th>\n",
       "      <th>11</th>\n",
       "      <th>12</th>\n",
       "    </tr>\n",
       "  </thead>\n",
       "  <tbody>\n",
       "    <tr>\n",
       "      <th>0</th>\n",
       "      <td>1000</td>\n",
       "      <td>ultra</td>\n",
       "      <td>NaN</td>\n",
       "      <td>NaN</td>\n",
       "      <td>NaN</td>\n",
       "      <td>NaN</td>\n",
       "      <td>3.0</td>\n",
       "      <td>23.0</td>\n",
       "      <td>14.0</td>\n",
       "      <td>14.0</td>\n",
       "      <td>15.0</td>\n",
       "      <td>15.0</td>\n",
       "      <td>15.0</td>\n",
       "      <td>10.0</td>\n",
       "    </tr>\n",
       "    <tr>\n",
       "      <th>1</th>\n",
       "      <td>1001</td>\n",
       "      <td>smart</td>\n",
       "      <td>NaN</td>\n",
       "      <td>NaN</td>\n",
       "      <td>NaN</td>\n",
       "      <td>NaN</td>\n",
       "      <td>NaN</td>\n",
       "      <td>NaN</td>\n",
       "      <td>NaN</td>\n",
       "      <td>NaN</td>\n",
       "      <td>NaN</td>\n",
       "      <td>NaN</td>\n",
       "      <td>18.0</td>\n",
       "      <td>14.0</td>\n",
       "    </tr>\n",
       "    <tr>\n",
       "      <th>2</th>\n",
       "      <td>1002</td>\n",
       "      <td>smart</td>\n",
       "      <td>NaN</td>\n",
       "      <td>NaN</td>\n",
       "      <td>NaN</td>\n",
       "      <td>NaN</td>\n",
       "      <td>NaN</td>\n",
       "      <td>11.0</td>\n",
       "      <td>18.0</td>\n",
       "      <td>20.0</td>\n",
       "      <td>17.0</td>\n",
       "      <td>14.0</td>\n",
       "      <td>19.0</td>\n",
       "      <td>18.0</td>\n",
       "    </tr>\n",
       "    <tr>\n",
       "      <th>3</th>\n",
       "      <td>1003</td>\n",
       "      <td>ultra</td>\n",
       "      <td>NaN</td>\n",
       "      <td>NaN</td>\n",
       "      <td>NaN</td>\n",
       "      <td>NaN</td>\n",
       "      <td>NaN</td>\n",
       "      <td>NaN</td>\n",
       "      <td>NaN</td>\n",
       "      <td>9.0</td>\n",
       "      <td>13.0</td>\n",
       "      <td>15.0</td>\n",
       "      <td>12.0</td>\n",
       "      <td>10.0</td>\n",
       "    </tr>\n",
       "    <tr>\n",
       "      <th>4</th>\n",
       "      <td>1004</td>\n",
       "      <td>ultra</td>\n",
       "      <td>NaN</td>\n",
       "      <td>NaN</td>\n",
       "      <td>NaN</td>\n",
       "      <td>NaN</td>\n",
       "      <td>14.0</td>\n",
       "      <td>18.0</td>\n",
       "      <td>22.0</td>\n",
       "      <td>28.0</td>\n",
       "      <td>15.0</td>\n",
       "      <td>19.0</td>\n",
       "      <td>16.0</td>\n",
       "      <td>18.0</td>\n",
       "    </tr>\n",
       "  </tbody>\n",
       "</table>\n",
       "</div>"
      ],
      "text/plain": [
       "   user_id tariff   1   2   3   4     5     6     7     8     9    10    11  \\\n",
       "0     1000  ultra NaN NaN NaN NaN   3.0  23.0  14.0  14.0  15.0  15.0  15.0   \n",
       "1     1001  smart NaN NaN NaN NaN   NaN   NaN   NaN   NaN   NaN   NaN  18.0   \n",
       "2     1002  smart NaN NaN NaN NaN   NaN  11.0  18.0  20.0  17.0  14.0  19.0   \n",
       "3     1003  ultra NaN NaN NaN NaN   NaN   NaN   NaN   9.0  13.0  15.0  12.0   \n",
       "4     1004  ultra NaN NaN NaN NaN  14.0  18.0  22.0  28.0  15.0  19.0  16.0   \n",
       "\n",
       "     12  \n",
       "0  10.0  \n",
       "1  14.0  \n",
       "2  18.0  \n",
       "3  10.0  \n",
       "4  18.0  "
      ]
     },
     "metadata": {},
     "output_type": "display_data"
    }
   ],
   "source": [
    "# объединим полученные таблицы по user_id c тарифами\n",
    "calls_sum = users_df_[['user_id', 'tariff']].join(calls_sum, on ='user_id' )\n",
    "calls_count = users_df_[['user_id', 'tariff']].join(calls_count, on ='user_id' )\n",
    "messages_count = users_df_[['user_id', 'tariff']].join(messages_count, on ='user_id' )\n",
    "internet_sum = users_df_[['user_id', 'tariff']].join(internet_sum, on ='user_id' )\n",
    "print('calls_sum')\n",
    "display(calls_sum.head())\n",
    "print('calls_count')\n",
    "display(calls_count.head())\n",
    "print('messages_count')\n",
    "display(messages_count.head())\n",
    "print('internet_sum')\n",
    "display(internet_sum.head())"
   ]
  },
  {
   "cell_type": "code",
   "execution_count": 15,
   "metadata": {},
   "outputs": [],
   "source": [
    "# посчитаем помесячный дополнительный доход от звонков\n",
    "def income_cals_counter(row, col, smart_threshold, ultra_threshold ):\n",
    "    \n",
    "    if row['tariff'] == 'smart':\n",
    "        if row[col] <= smart_cals_threshold:\n",
    "            return 0\n",
    "        else:\n",
    "            return (row[col] - smart_cals_threshold)*3\n",
    "    if row['tariff'] == 'ultra':\n",
    "        if row[col] <= ultra_cals_threshold:\n",
    "            return 0\n",
    "        else:\n",
    "            return (row[col] - ultra_cals_threshold)*1 # явный рубль лучше неявного    \n",
    "\n",
    "smart_cals_threshold = 500\n",
    "ultra_cals_threshold = 3000\n",
    "\n",
    "for col in range(1,13):\n",
    "    newcol = str(col) + '_in' # от слова income - поступления\n",
    "    calls_sum[newcol] = calls_sum.apply(income_cals_counter, args =(col,smart_cals_threshold,ultra_cals_threshold,), axis = 1)"
   ]
  },
  {
   "cell_type": "code",
   "execution_count": 16,
   "metadata": {},
   "outputs": [],
   "source": [
    "# посчитаем помесячный дополнительный доход от сообщений\n",
    "def income_message_counter(row, col, smart_message_threshold, ultra_message_threshold):\n",
    "    \n",
    "    if row['tariff'] == 'smart':\n",
    "        if row[col] <= smart_message_threshold:\n",
    "            return 0\n",
    "        else:\n",
    "            return (row[col] - smart_message_threshold)*3\n",
    "    if row['tariff'] == 'ultra':\n",
    "        if row[col] <= ultra_message_threshold:\n",
    "            return 0\n",
    "        else:\n",
    "            return (row[col] - ultra_message_threshold)*1 # явный рубль лучше неявного    \n",
    "\n",
    "smart_message_threshold = 50\n",
    "ultra_message_threshold = 1000\n",
    "\n",
    "for col in range(1,13):\n",
    "    newcol = str(col) + '_in'\n",
    "    messages_count[newcol] = messages_count.apply(income_message_counter,\n",
    "                                                  args =(col,smart_message_threshold,ultra_message_threshold,),\n",
    "                                                  axis = 1)"
   ]
  },
  {
   "cell_type": "code",
   "execution_count": 17,
   "metadata": {},
   "outputs": [],
   "source": [
    "# посчитаем помесячный дополнительный доход от интернета\n",
    "def income_internet_counter(row, col, smart_internet_threshold, ultra_internet_threshold):\n",
    "    if row['tariff'] == 'smart':\n",
    "        if row[col] <= smart_internet_threshold:\n",
    "            return 0\n",
    "        else:\n",
    "            return (row[col] - smart_internet_threshold)*200\n",
    "    if row['tariff'] == 'ultra':\n",
    "        if row[col] <= ultra_internet_threshold:\n",
    "            return 0\n",
    "        else:\n",
    "            return (row[col] - ultra_internet_threshold)*150   \n",
    "\n",
    "smart_internet_threshold = 15\n",
    "ultra_internet_threshold = 30       \n",
    "for col in range(1,13):\n",
    "    newcol = str(col) + '_in'\n",
    "    internet_sum[newcol] = internet_sum.apply(income_internet_counter,\n",
    "                                              args =(col, smart_internet_threshold, ultra_internet_threshold),\n",
    "                                              axis = 1)"
   ]
  },
  {
   "cell_type": "code",
   "execution_count": 18,
   "metadata": {},
   "outputs": [
    {
     "name": "stdout",
     "output_type": "stream",
     "text": [
      "calls_sum\n"
     ]
    },
    {
     "data": {
      "text/html": [
       "<div>\n",
       "<style scoped>\n",
       "    .dataframe tbody tr th:only-of-type {\n",
       "        vertical-align: middle;\n",
       "    }\n",
       "\n",
       "    .dataframe tbody tr th {\n",
       "        vertical-align: top;\n",
       "    }\n",
       "\n",
       "    .dataframe thead th {\n",
       "        text-align: right;\n",
       "    }\n",
       "</style>\n",
       "<table border=\"1\" class=\"dataframe\">\n",
       "  <thead>\n",
       "    <tr style=\"text-align: right;\">\n",
       "      <th></th>\n",
       "      <th>user_id</th>\n",
       "      <th>tariff</th>\n",
       "      <th>1</th>\n",
       "      <th>2</th>\n",
       "      <th>3</th>\n",
       "      <th>4</th>\n",
       "      <th>5</th>\n",
       "      <th>6</th>\n",
       "      <th>7</th>\n",
       "      <th>8</th>\n",
       "      <th>...</th>\n",
       "      <th>3_in</th>\n",
       "      <th>4_in</th>\n",
       "      <th>5_in</th>\n",
       "      <th>6_in</th>\n",
       "      <th>7_in</th>\n",
       "      <th>8_in</th>\n",
       "      <th>9_in</th>\n",
       "      <th>10_in</th>\n",
       "      <th>11_in</th>\n",
       "      <th>12_in</th>\n",
       "    </tr>\n",
       "  </thead>\n",
       "  <tbody>\n",
       "    <tr>\n",
       "      <th>0</th>\n",
       "      <td>1000</td>\n",
       "      <td>ultra</td>\n",
       "      <td>NaN</td>\n",
       "      <td>NaN</td>\n",
       "      <td>NaN</td>\n",
       "      <td>NaN</td>\n",
       "      <td>159.0</td>\n",
       "      <td>172.0</td>\n",
       "      <td>340.0</td>\n",
       "      <td>408.0</td>\n",
       "      <td>...</td>\n",
       "      <td>NaN</td>\n",
       "      <td>NaN</td>\n",
       "      <td>0.0</td>\n",
       "      <td>0.0</td>\n",
       "      <td>0.0</td>\n",
       "      <td>0.0</td>\n",
       "      <td>0.0</td>\n",
       "      <td>0.0</td>\n",
       "      <td>0.0</td>\n",
       "      <td>0.0</td>\n",
       "    </tr>\n",
       "    <tr>\n",
       "      <th>1</th>\n",
       "      <td>1001</td>\n",
       "      <td>smart</td>\n",
       "      <td>NaN</td>\n",
       "      <td>NaN</td>\n",
       "      <td>NaN</td>\n",
       "      <td>NaN</td>\n",
       "      <td>NaN</td>\n",
       "      <td>NaN</td>\n",
       "      <td>NaN</td>\n",
       "      <td>NaN</td>\n",
       "      <td>...</td>\n",
       "      <td>NaN</td>\n",
       "      <td>NaN</td>\n",
       "      <td>NaN</td>\n",
       "      <td>NaN</td>\n",
       "      <td>NaN</td>\n",
       "      <td>NaN</td>\n",
       "      <td>NaN</td>\n",
       "      <td>NaN</td>\n",
       "      <td>0.0</td>\n",
       "      <td>0.0</td>\n",
       "    </tr>\n",
       "  </tbody>\n",
       "</table>\n",
       "<p>2 rows × 26 columns</p>\n",
       "</div>"
      ],
      "text/plain": [
       "   user_id tariff   1   2   3   4      5      6      7      8  ...  3_in  \\\n",
       "0     1000  ultra NaN NaN NaN NaN  159.0  172.0  340.0  408.0  ...   NaN   \n",
       "1     1001  smart NaN NaN NaN NaN    NaN    NaN    NaN    NaN  ...   NaN   \n",
       "\n",
       "   4_in  5_in  6_in  7_in  8_in  9_in  10_in  11_in  12_in  \n",
       "0   NaN   0.0   0.0   0.0   0.0   0.0    0.0    0.0    0.0  \n",
       "1   NaN   NaN   NaN   NaN   NaN   NaN    NaN    0.0    0.0  \n",
       "\n",
       "[2 rows x 26 columns]"
      ]
     },
     "metadata": {},
     "output_type": "display_data"
    },
    {
     "name": "stdout",
     "output_type": "stream",
     "text": [
      "messages_count\n"
     ]
    },
    {
     "data": {
      "text/html": [
       "<div>\n",
       "<style scoped>\n",
       "    .dataframe tbody tr th:only-of-type {\n",
       "        vertical-align: middle;\n",
       "    }\n",
       "\n",
       "    .dataframe tbody tr th {\n",
       "        vertical-align: top;\n",
       "    }\n",
       "\n",
       "    .dataframe thead th {\n",
       "        text-align: right;\n",
       "    }\n",
       "</style>\n",
       "<table border=\"1\" class=\"dataframe\">\n",
       "  <thead>\n",
       "    <tr style=\"text-align: right;\">\n",
       "      <th></th>\n",
       "      <th>user_id</th>\n",
       "      <th>tariff</th>\n",
       "      <th>1</th>\n",
       "      <th>2</th>\n",
       "      <th>3</th>\n",
       "      <th>4</th>\n",
       "      <th>5</th>\n",
       "      <th>6</th>\n",
       "      <th>7</th>\n",
       "      <th>8</th>\n",
       "      <th>...</th>\n",
       "      <th>3_in</th>\n",
       "      <th>4_in</th>\n",
       "      <th>5_in</th>\n",
       "      <th>6_in</th>\n",
       "      <th>7_in</th>\n",
       "      <th>8_in</th>\n",
       "      <th>9_in</th>\n",
       "      <th>10_in</th>\n",
       "      <th>11_in</th>\n",
       "      <th>12_in</th>\n",
       "    </tr>\n",
       "  </thead>\n",
       "  <tbody>\n",
       "    <tr>\n",
       "      <th>0</th>\n",
       "      <td>1000</td>\n",
       "      <td>ultra</td>\n",
       "      <td>NaN</td>\n",
       "      <td>NaN</td>\n",
       "      <td>NaN</td>\n",
       "      <td>NaN</td>\n",
       "      <td>22.0</td>\n",
       "      <td>43.0</td>\n",
       "      <td>47.0</td>\n",
       "      <td>52.0</td>\n",
       "      <td>...</td>\n",
       "      <td>NaN</td>\n",
       "      <td>NaN</td>\n",
       "      <td>0.0</td>\n",
       "      <td>0.0</td>\n",
       "      <td>0.0</td>\n",
       "      <td>0.0</td>\n",
       "      <td>0.0</td>\n",
       "      <td>0.0</td>\n",
       "      <td>0.0</td>\n",
       "      <td>0.0</td>\n",
       "    </tr>\n",
       "    <tr>\n",
       "      <th>1</th>\n",
       "      <td>1001</td>\n",
       "      <td>smart</td>\n",
       "      <td>NaN</td>\n",
       "      <td>NaN</td>\n",
       "      <td>NaN</td>\n",
       "      <td>NaN</td>\n",
       "      <td>NaN</td>\n",
       "      <td>NaN</td>\n",
       "      <td>NaN</td>\n",
       "      <td>NaN</td>\n",
       "      <td>...</td>\n",
       "      <td>NaN</td>\n",
       "      <td>NaN</td>\n",
       "      <td>NaN</td>\n",
       "      <td>NaN</td>\n",
       "      <td>NaN</td>\n",
       "      <td>NaN</td>\n",
       "      <td>NaN</td>\n",
       "      <td>NaN</td>\n",
       "      <td>27.0</td>\n",
       "      <td>39.0</td>\n",
       "    </tr>\n",
       "  </tbody>\n",
       "</table>\n",
       "<p>2 rows × 26 columns</p>\n",
       "</div>"
      ],
      "text/plain": [
       "   user_id tariff   1   2   3   4     5     6     7     8  ...  3_in  4_in  \\\n",
       "0     1000  ultra NaN NaN NaN NaN  22.0  43.0  47.0  52.0  ...   NaN   NaN   \n",
       "1     1001  smart NaN NaN NaN NaN   NaN   NaN   NaN   NaN  ...   NaN   NaN   \n",
       "\n",
       "   5_in  6_in  7_in  8_in  9_in  10_in  11_in  12_in  \n",
       "0   0.0   0.0   0.0   0.0   0.0    0.0    0.0    0.0  \n",
       "1   NaN   NaN   NaN   NaN   NaN    NaN   27.0   39.0  \n",
       "\n",
       "[2 rows x 26 columns]"
      ]
     },
     "metadata": {},
     "output_type": "display_data"
    },
    {
     "name": "stdout",
     "output_type": "stream",
     "text": [
      "internet_sum\n"
     ]
    },
    {
     "data": {
      "text/html": [
       "<div>\n",
       "<style scoped>\n",
       "    .dataframe tbody tr th:only-of-type {\n",
       "        vertical-align: middle;\n",
       "    }\n",
       "\n",
       "    .dataframe tbody tr th {\n",
       "        vertical-align: top;\n",
       "    }\n",
       "\n",
       "    .dataframe thead th {\n",
       "        text-align: right;\n",
       "    }\n",
       "</style>\n",
       "<table border=\"1\" class=\"dataframe\">\n",
       "  <thead>\n",
       "    <tr style=\"text-align: right;\">\n",
       "      <th></th>\n",
       "      <th>user_id</th>\n",
       "      <th>tariff</th>\n",
       "      <th>1</th>\n",
       "      <th>2</th>\n",
       "      <th>3</th>\n",
       "      <th>4</th>\n",
       "      <th>5</th>\n",
       "      <th>6</th>\n",
       "      <th>7</th>\n",
       "      <th>8</th>\n",
       "      <th>...</th>\n",
       "      <th>3_in</th>\n",
       "      <th>4_in</th>\n",
       "      <th>5_in</th>\n",
       "      <th>6_in</th>\n",
       "      <th>7_in</th>\n",
       "      <th>8_in</th>\n",
       "      <th>9_in</th>\n",
       "      <th>10_in</th>\n",
       "      <th>11_in</th>\n",
       "      <th>12_in</th>\n",
       "    </tr>\n",
       "  </thead>\n",
       "  <tbody>\n",
       "    <tr>\n",
       "      <th>0</th>\n",
       "      <td>1000</td>\n",
       "      <td>ultra</td>\n",
       "      <td>NaN</td>\n",
       "      <td>NaN</td>\n",
       "      <td>NaN</td>\n",
       "      <td>NaN</td>\n",
       "      <td>3.0</td>\n",
       "      <td>23.0</td>\n",
       "      <td>14.0</td>\n",
       "      <td>14.0</td>\n",
       "      <td>...</td>\n",
       "      <td>NaN</td>\n",
       "      <td>NaN</td>\n",
       "      <td>0.0</td>\n",
       "      <td>0.0</td>\n",
       "      <td>0.0</td>\n",
       "      <td>0.0</td>\n",
       "      <td>0.0</td>\n",
       "      <td>0.0</td>\n",
       "      <td>0.0</td>\n",
       "      <td>0.0</td>\n",
       "    </tr>\n",
       "    <tr>\n",
       "      <th>1</th>\n",
       "      <td>1001</td>\n",
       "      <td>smart</td>\n",
       "      <td>NaN</td>\n",
       "      <td>NaN</td>\n",
       "      <td>NaN</td>\n",
       "      <td>NaN</td>\n",
       "      <td>NaN</td>\n",
       "      <td>NaN</td>\n",
       "      <td>NaN</td>\n",
       "      <td>NaN</td>\n",
       "      <td>...</td>\n",
       "      <td>NaN</td>\n",
       "      <td>NaN</td>\n",
       "      <td>NaN</td>\n",
       "      <td>NaN</td>\n",
       "      <td>NaN</td>\n",
       "      <td>NaN</td>\n",
       "      <td>NaN</td>\n",
       "      <td>NaN</td>\n",
       "      <td>600.0</td>\n",
       "      <td>0.0</td>\n",
       "    </tr>\n",
       "  </tbody>\n",
       "</table>\n",
       "<p>2 rows × 26 columns</p>\n",
       "</div>"
      ],
      "text/plain": [
       "   user_id tariff   1   2   3   4    5     6     7     8  ...  3_in  4_in  \\\n",
       "0     1000  ultra NaN NaN NaN NaN  3.0  23.0  14.0  14.0  ...   NaN   NaN   \n",
       "1     1001  smart NaN NaN NaN NaN  NaN   NaN   NaN   NaN  ...   NaN   NaN   \n",
       "\n",
       "   5_in  6_in  7_in  8_in  9_in  10_in  11_in  12_in  \n",
       "0   0.0   0.0   0.0   0.0   0.0    0.0    0.0    0.0  \n",
       "1   NaN   NaN   NaN   NaN   NaN    NaN  600.0    0.0  \n",
       "\n",
       "[2 rows x 26 columns]"
      ]
     },
     "metadata": {},
     "output_type": "display_data"
    }
   ],
   "source": [
    "print('calls_sum')\n",
    "display(calls_sum.head(2))\n",
    "print('messages_count')\n",
    "display(messages_count.head(2))\n",
    "print('internet_sum')\n",
    "display(internet_sum.head(2))"
   ]
  },
  {
   "cell_type": "code",
   "execution_count": 19,
   "metadata": {},
   "outputs": [],
   "source": [
    "'''\n",
    "шаг.1\n",
    "после применения к таблицам calls_sum, messages_count, internet_sum \n",
    "функций income_cals_counter, income_message_counter, income_internet_counter \n",
    "в данных таблицах появились столбцы, отображающие траты пользователя сверх тарифа. Они-то нас и интересуют. \n",
    "Создадим из них таблицы, отображающие только доход от превышения тарифа - удалим столбцы данными по единицам тарификации.\n",
    "оставим только доход сверх тарифа и сохраним это в новые таблицы. \n",
    "сответсвенно это: calls_sum_income, messages_count_income, internet_sum_income\n",
    "'''\n",
    "collist_to_drop_1 = [i for i in range(1,13)]\n",
    "calls_sum_income = calls_sum.drop(collist_to_drop_1, axis = 1)\n",
    "messages_count_income = messages_count.drop(collist_to_drop_1, axis = 1)\n",
    "internet_sum_income = internet_sum.drop(collist_to_drop_1, axis = 1)\n",
    "\n",
    "'''\n",
    "шаг.2\n",
    "теперь с теми же таблицам calls_sum, messages_count, internet_sum \n",
    "провернем обратную операцию \n",
    "- вренем их к прежнему виду (т.е. до применения функций income_cals_counter, income_message_counter, income_internet_counter )\n",
    "сответсвенно это будут: calls_sum_month_stat, messages_count_month_stat, internet_sum_month_stat\n",
    "'''\n",
    "collist_to_drop_2 = [str(i)+'_in' for i in range(1,13)]\n",
    "calls_sum_month_stat = calls_sum.drop(collist_to_drop_2, axis = 1)\n",
    "messages_count_month_stat = messages_count.drop(collist_to_drop_2, axis = 1)\n",
    "internet_sum_month_stat = internet_sum.drop(collist_to_drop_2, axis = 1)\n",
    "\n",
    "'''\n",
    "шаг.3\n",
    "в таблицах, полученным в шаге 1 назначим в качестве индекса столбец 'user_id'\n",
    "'''\n",
    "calls_sum_income.set_index('user_id', inplace=True)\n",
    "messages_count_income.set_index('user_id', inplace=True)\n",
    "internet_sum_income.set_index('user_id', inplace=True)\n",
    "\n",
    "'''\n",
    "шаг.4\n",
    "сджойним таблицы, полученные в шаге 3'\n",
    "'''\n",
    "total_month_sum_income = calls_sum_income.\\\n",
    "join(messages_count_income, rsuffix = '_m' ).\\\n",
    "join(internet_sum_income, rsuffix = '_i' ).\\\n",
    "drop(columns = ['tariff_i', 'tariff_m'], axis =1)"
   ]
  },
  {
   "cell_type": "code",
   "execution_count": 20,
   "metadata": {},
   "outputs": [
    {
     "data": {
      "text/html": [
       "<div>\n",
       "<style scoped>\n",
       "    .dataframe tbody tr th:only-of-type {\n",
       "        vertical-align: middle;\n",
       "    }\n",
       "\n",
       "    .dataframe tbody tr th {\n",
       "        vertical-align: top;\n",
       "    }\n",
       "\n",
       "    .dataframe thead th {\n",
       "        text-align: right;\n",
       "    }\n",
       "</style>\n",
       "<table border=\"1\" class=\"dataframe\">\n",
       "  <thead>\n",
       "    <tr style=\"text-align: right;\">\n",
       "      <th></th>\n",
       "      <th>tariff</th>\n",
       "      <th>1_in</th>\n",
       "      <th>2_in</th>\n",
       "      <th>3_in</th>\n",
       "      <th>4_in</th>\n",
       "      <th>5_in</th>\n",
       "      <th>6_in</th>\n",
       "      <th>7_in</th>\n",
       "      <th>8_in</th>\n",
       "      <th>9_in</th>\n",
       "      <th>10_in</th>\n",
       "      <th>11_in</th>\n",
       "      <th>12_in</th>\n",
       "    </tr>\n",
       "    <tr>\n",
       "      <th>user_id</th>\n",
       "      <th></th>\n",
       "      <th></th>\n",
       "      <th></th>\n",
       "      <th></th>\n",
       "      <th></th>\n",
       "      <th></th>\n",
       "      <th></th>\n",
       "      <th></th>\n",
       "      <th></th>\n",
       "      <th></th>\n",
       "      <th></th>\n",
       "      <th></th>\n",
       "      <th></th>\n",
       "    </tr>\n",
       "  </thead>\n",
       "  <tbody>\n",
       "    <tr>\n",
       "      <th>1000</th>\n",
       "      <td>ultra</td>\n",
       "      <td>NaN</td>\n",
       "      <td>NaN</td>\n",
       "      <td>NaN</td>\n",
       "      <td>NaN</td>\n",
       "      <td>0.0</td>\n",
       "      <td>0.0</td>\n",
       "      <td>0.0</td>\n",
       "      <td>0.0</td>\n",
       "      <td>0.0</td>\n",
       "      <td>0.0</td>\n",
       "      <td>0.0</td>\n",
       "      <td>0.0</td>\n",
       "    </tr>\n",
       "    <tr>\n",
       "      <th>1001</th>\n",
       "      <td>smart</td>\n",
       "      <td>NaN</td>\n",
       "      <td>NaN</td>\n",
       "      <td>NaN</td>\n",
       "      <td>NaN</td>\n",
       "      <td>NaN</td>\n",
       "      <td>NaN</td>\n",
       "      <td>NaN</td>\n",
       "      <td>NaN</td>\n",
       "      <td>NaN</td>\n",
       "      <td>NaN</td>\n",
       "      <td>627.0</td>\n",
       "      <td>39.0</td>\n",
       "    </tr>\n",
       "    <tr>\n",
       "      <th>1002</th>\n",
       "      <td>smart</td>\n",
       "      <td>NaN</td>\n",
       "      <td>NaN</td>\n",
       "      <td>NaN</td>\n",
       "      <td>NaN</td>\n",
       "      <td>NaN</td>\n",
       "      <td>0.0</td>\n",
       "      <td>600.0</td>\n",
       "      <td>1000.0</td>\n",
       "      <td>400.0</td>\n",
       "      <td>0.0</td>\n",
       "      <td>800.0</td>\n",
       "      <td>600.0</td>\n",
       "    </tr>\n",
       "    <tr>\n",
       "      <th>1003</th>\n",
       "      <td>ultra</td>\n",
       "      <td>NaN</td>\n",
       "      <td>NaN</td>\n",
       "      <td>NaN</td>\n",
       "      <td>NaN</td>\n",
       "      <td>NaN</td>\n",
       "      <td>NaN</td>\n",
       "      <td>NaN</td>\n",
       "      <td>0.0</td>\n",
       "      <td>0.0</td>\n",
       "      <td>0.0</td>\n",
       "      <td>0.0</td>\n",
       "      <td>0.0</td>\n",
       "    </tr>\n",
       "    <tr>\n",
       "      <th>1004</th>\n",
       "      <td>ultra</td>\n",
       "      <td>NaN</td>\n",
       "      <td>NaN</td>\n",
       "      <td>NaN</td>\n",
       "      <td>NaN</td>\n",
       "      <td>0.0</td>\n",
       "      <td>0.0</td>\n",
       "      <td>0.0</td>\n",
       "      <td>0.0</td>\n",
       "      <td>0.0</td>\n",
       "      <td>0.0</td>\n",
       "      <td>0.0</td>\n",
       "      <td>0.0</td>\n",
       "    </tr>\n",
       "  </tbody>\n",
       "</table>\n",
       "</div>"
      ],
      "text/plain": [
       "        tariff  1_in  2_in  3_in  4_in  5_in  6_in   7_in    8_in   9_in  \\\n",
       "user_id                                                                    \n",
       "1000     ultra   NaN   NaN   NaN   NaN   0.0   0.0    0.0     0.0    0.0   \n",
       "1001     smart   NaN   NaN   NaN   NaN   NaN   NaN    NaN     NaN    NaN   \n",
       "1002     smart   NaN   NaN   NaN   NaN   NaN   0.0  600.0  1000.0  400.0   \n",
       "1003     ultra   NaN   NaN   NaN   NaN   NaN   NaN    NaN     0.0    0.0   \n",
       "1004     ultra   NaN   NaN   NaN   NaN   0.0   0.0    0.0     0.0    0.0   \n",
       "\n",
       "         10_in  11_in  12_in  \n",
       "user_id                       \n",
       "1000       0.0    0.0    0.0  \n",
       "1001       NaN  627.0   39.0  \n",
       "1002       0.0  800.0  600.0  \n",
       "1003       0.0    0.0    0.0  \n",
       "1004       0.0    0.0    0.0  "
      ]
     },
     "metadata": {},
     "output_type": "display_data"
    }
   ],
   "source": [
    "# подготовим вспомогательный массив для перебора по нему столбцов при суммировании\n",
    "col_for_sum = []\n",
    "for i in range(1,13):\n",
    "    sub_col = []\n",
    "    for col in total_month_sum_income.columns:\n",
    "        if str(i) in col.split('_'):\n",
    "            sub_col.append(col)\n",
    "    col_for_sum.append(sub_col)\n",
    "\n",
    "\n",
    "# просуммируем помесячно все значения и удалим лишние столбцы. \n",
    "# т.е. получим таблицу, содеражащую доход от превышения трафика по каждой из услуг (звонки, сообщения, интернет)\n",
    "for colset in col_for_sum:\n",
    "    total_month_sum_income[colset[0]] = total_month_sum_income[colset[0]] + total_month_sum_income[colset[1]] + total_month_sum_income[colset[2]] # просуммируем помесячные доходы\n",
    "    total_month_sum_income.drop(columns = [colset[1], colset[2]], inplace = True)\n",
    "display(total_month_sum_income.head())"
   ]
  },
  {
   "cell_type": "code",
   "execution_count": 21,
   "metadata": {},
   "outputs": [],
   "source": [
    "#total_moth_sum.loc[total_sum['tariff']=='ultra'].head()"
   ]
  },
  {
   "cell_type": "code",
   "execution_count": 22,
   "metadata": {},
   "outputs": [
    {
     "name": "stdout",
     "output_type": "stream",
     "text": [
      "суммарный доход от превышения трафика по каждой из услуг и абонентской платы по каждому пользователю с указанием тарифа\n"
     ]
    },
    {
     "data": {
      "text/html": [
       "<div>\n",
       "<style scoped>\n",
       "    .dataframe tbody tr th:only-of-type {\n",
       "        vertical-align: middle;\n",
       "    }\n",
       "\n",
       "    .dataframe tbody tr th {\n",
       "        vertical-align: top;\n",
       "    }\n",
       "\n",
       "    .dataframe thead th {\n",
       "        text-align: right;\n",
       "    }\n",
       "</style>\n",
       "<table border=\"1\" class=\"dataframe\">\n",
       "  <thead>\n",
       "    <tr style=\"text-align: right;\">\n",
       "      <th></th>\n",
       "      <th>1</th>\n",
       "      <th>2</th>\n",
       "      <th>3</th>\n",
       "      <th>4</th>\n",
       "      <th>5</th>\n",
       "      <th>6</th>\n",
       "      <th>7</th>\n",
       "      <th>8</th>\n",
       "      <th>9</th>\n",
       "      <th>10</th>\n",
       "      <th>11</th>\n",
       "      <th>12</th>\n",
       "      <th>tariff</th>\n",
       "    </tr>\n",
       "    <tr>\n",
       "      <th>user_id</th>\n",
       "      <th></th>\n",
       "      <th></th>\n",
       "      <th></th>\n",
       "      <th></th>\n",
       "      <th></th>\n",
       "      <th></th>\n",
       "      <th></th>\n",
       "      <th></th>\n",
       "      <th></th>\n",
       "      <th></th>\n",
       "      <th></th>\n",
       "      <th></th>\n",
       "      <th></th>\n",
       "    </tr>\n",
       "  </thead>\n",
       "  <tbody>\n",
       "    <tr>\n",
       "      <th>1000</th>\n",
       "      <td>NaN</td>\n",
       "      <td>NaN</td>\n",
       "      <td>NaN</td>\n",
       "      <td>NaN</td>\n",
       "      <td>1950.0</td>\n",
       "      <td>1950.0</td>\n",
       "      <td>1950.0</td>\n",
       "      <td>1950.0</td>\n",
       "      <td>1950.0</td>\n",
       "      <td>1950.0</td>\n",
       "      <td>1950.0</td>\n",
       "      <td>1950.0</td>\n",
       "      <td>ultra</td>\n",
       "    </tr>\n",
       "    <tr>\n",
       "      <th>1001</th>\n",
       "      <td>NaN</td>\n",
       "      <td>NaN</td>\n",
       "      <td>NaN</td>\n",
       "      <td>NaN</td>\n",
       "      <td>NaN</td>\n",
       "      <td>NaN</td>\n",
       "      <td>NaN</td>\n",
       "      <td>NaN</td>\n",
       "      <td>NaN</td>\n",
       "      <td>NaN</td>\n",
       "      <td>1177.0</td>\n",
       "      <td>589.0</td>\n",
       "      <td>smart</td>\n",
       "    </tr>\n",
       "    <tr>\n",
       "      <th>1002</th>\n",
       "      <td>NaN</td>\n",
       "      <td>NaN</td>\n",
       "      <td>NaN</td>\n",
       "      <td>NaN</td>\n",
       "      <td>NaN</td>\n",
       "      <td>550.0</td>\n",
       "      <td>1150.0</td>\n",
       "      <td>1550.0</td>\n",
       "      <td>950.0</td>\n",
       "      <td>550.0</td>\n",
       "      <td>1350.0</td>\n",
       "      <td>1150.0</td>\n",
       "      <td>smart</td>\n",
       "    </tr>\n",
       "    <tr>\n",
       "      <th>1003</th>\n",
       "      <td>NaN</td>\n",
       "      <td>NaN</td>\n",
       "      <td>NaN</td>\n",
       "      <td>NaN</td>\n",
       "      <td>NaN</td>\n",
       "      <td>NaN</td>\n",
       "      <td>NaN</td>\n",
       "      <td>1950.0</td>\n",
       "      <td>1950.0</td>\n",
       "      <td>1950.0</td>\n",
       "      <td>1950.0</td>\n",
       "      <td>1950.0</td>\n",
       "      <td>ultra</td>\n",
       "    </tr>\n",
       "    <tr>\n",
       "      <th>1004</th>\n",
       "      <td>NaN</td>\n",
       "      <td>NaN</td>\n",
       "      <td>NaN</td>\n",
       "      <td>NaN</td>\n",
       "      <td>1950.0</td>\n",
       "      <td>1950.0</td>\n",
       "      <td>1950.0</td>\n",
       "      <td>1950.0</td>\n",
       "      <td>1950.0</td>\n",
       "      <td>1950.0</td>\n",
       "      <td>1950.0</td>\n",
       "      <td>1950.0</td>\n",
       "      <td>ultra</td>\n",
       "    </tr>\n",
       "  </tbody>\n",
       "</table>\n",
       "</div>"
      ],
      "text/plain": [
       "          1   2   3   4       5       6       7       8       9      10  \\\n",
       "user_id                                                                   \n",
       "1000    NaN NaN NaN NaN  1950.0  1950.0  1950.0  1950.0  1950.0  1950.0   \n",
       "1001    NaN NaN NaN NaN     NaN     NaN     NaN     NaN     NaN     NaN   \n",
       "1002    NaN NaN NaN NaN     NaN   550.0  1150.0  1550.0   950.0   550.0   \n",
       "1003    NaN NaN NaN NaN     NaN     NaN     NaN  1950.0  1950.0  1950.0   \n",
       "1004    NaN NaN NaN NaN  1950.0  1950.0  1950.0  1950.0  1950.0  1950.0   \n",
       "\n",
       "             11      12 tariff  \n",
       "user_id                         \n",
       "1000     1950.0  1950.0  ultra  \n",
       "1001     1177.0   589.0  smart  \n",
       "1002     1350.0  1150.0  smart  \n",
       "1003     1950.0  1950.0  ultra  \n",
       "1004     1950.0  1950.0  ultra  "
      ]
     },
     "metadata": {},
     "output_type": "display_data"
    }
   ],
   "source": [
    "# подготовим функцию, которая приплюсует к дополнительным помесячным тратам абонентскую плату\n",
    "def total_income_counter(row, col, tarif_smart, tarif_ultra):\n",
    "    if row['tariff'] == 'smart':\n",
    "        return row[col] + tarif_smart\n",
    "    if row['tariff'] == 'ultra':\n",
    "        return row[col] + tarif_ultra\n",
    "\n",
    "tarif_smart = 550\n",
    "tarif_ultra = 1950\n",
    "\n",
    "# просуммируем доход от превышения трафика по каждой из услуг с стоимостью тарифного плана\n",
    "total_moth_sum_final = pd.DataFrame()    \n",
    "for col in range(1,13):\n",
    "    oldcol = str(col) + '_in'# просто для удобства понимания - название столбца состит из месяца и суффикса \"in\" - income\n",
    "    total_moth_sum_final[col] = total_month_sum_income.apply(total_income_counter,\n",
    "                                                             args =(oldcol, tarif_smart, tarif_ultra),\n",
    "                                                             axis = 1)\n",
    "\n",
    "# и добавим к результирующей таблице столбец tariff  \n",
    "total_moth_sum_final = total_moth_sum_final.join(total_month_sum_income['tariff'])\n",
    "print('суммарный доход от превышения трафика по каждой из услуг и абонентской платы по каждому пользователю с указанием тарифа')\n",
    "display(total_moth_sum_final.head())"
   ]
  },
  {
   "cell_type": "markdown",
   "metadata": {},
   "source": [
    "**Подытог:**\n",
    "\n",
    "В настоящем разделе подготовлены следующие таблицы\n",
    "\n",
    "|Название таблицы|Описание|\n",
    "|--|--|\n",
    "|total_moth_sum_final|Суммарный доход от превышения трафика по каждой из услуг и абонентской платы по каждому пользователю с указанием тарифа|\n",
    "|calls_sum_month_stat|Суммарное количество звонков в месяц по каждому абоненту|\n",
    "|messages_count_month_stat|Суммарное количество сообщений в месяц по каждому абоненту|\n",
    "|internet_sum_month_stat|Суммарный объем интернет-трафика в месяц по каждому абоненту|\n"
   ]
  },
  {
   "cell_type": "markdown",
   "metadata": {},
   "source": [
    "# 3. Анализ данных <a class=\"anchor\" id=\"3.\"></a>\n",
    "[наверх](#1.1.)"
   ]
  },
  {
   "cell_type": "markdown",
   "metadata": {},
   "source": [
    "## 3.1. Сколько минут разговора требуется пользователям <a class=\"anchor\" id=\"3.1.\"></a>"
   ]
  },
  {
   "cell_type": "code",
   "execution_count": 23,
   "metadata": {},
   "outputs": [],
   "source": [
    "# просуммируем разговоры за все месяцы и сохраним в столбце 'sum'\n",
    "calls_sum_month_stat['sum'] = calls_sum_month_stat[collist_to_drop_1].sum(axis=1)\n",
    "# создадим новуютаблицу calls_sum_single и в ней оставим только сумму по всем месяцам\n",
    "calls_sum_single = calls_sum_month_stat.drop(columns=collist_to_drop_1, axis=1)"
   ]
  },
  {
   "cell_type": "markdown",
   "metadata": {},
   "source": [
    "## 3.1.1. Тариф «Смарт» <a class=\"anchor\" id=\"3.1.1.\"></a>"
   ]
  },
  {
   "cell_type": "markdown",
   "metadata": {},
   "source": [
    "Искомые метрики \n",
    "\n",
    "- среднее количество\n",
    "- дисперсия\n",
    "- стандартное отклонение\n",
    "\n",
    "Построим гистограммы. Опишем распределения."
   ]
  },
  {
   "cell_type": "code",
   "execution_count": 24,
   "metadata": {},
   "outputs": [
    {
     "name": "stdout",
     "output_type": "stream",
     "text": [
      "Среднее значение продолжительности звонков за месяц для тарифа «Смарт» составляет: 2654.065527065527\n",
      "Дисперсия (variance) продолжительности звонков за месяц для тарифа «Смарт» составляет: 3056755.0583842685\n",
      "Стандартное отклонение (std) продолжительности звонков за месяц для тарифа «Смарт» составляет: 1748.3578176060726\n"
     ]
    }
   ],
   "source": [
    "mean_calls_smart = calls_sum_single.loc[calls_sum_single['tariff']=='smart', 'sum'].mean()\n",
    "print('Среднее значение продолжительности звонков за месяц для тарифа «Смарт» составляет:',mean_calls_smart)\n",
    "\n",
    "variance_calls_smart = np.var(calls_sum_single.loc[calls_sum_single['tariff']=='smart', 'sum'])\n",
    "print('Дисперсия (variance) продолжительности звонков за месяц для тарифа «Смарт» составляет:', variance_calls_smart)\n",
    "\n",
    "std_calls_smart = np.std(calls_sum_single.loc[calls_sum_single['tariff']=='smart', 'sum'])\n",
    "print('Стандартное отклонение (std) продолжительности звонков за месяц для тарифа «Смарт» составляет:', std_calls_smart)"
   ]
  },
  {
   "cell_type": "code",
   "execution_count": 25,
   "metadata": {},
   "outputs": [
    {
     "data": {
      "image/png": "[encoded data removed]",
      "text/plain": [
       "<Figure size 1152x288 with 1 Axes>"
      ]
     },
     "metadata": {
      "needs_background": "light"
     },
     "output_type": "display_data"
    }
   ],
   "source": [
    "plt.figure(figsize=(16,4))\n",
    "ax = calls_sum_single.loc[calls_sum_single['tariff']=='smart', 'sum'].plot(kind='hist', bins = 30)\n",
    "ax.set(xlabel='Суммарная продолжительность звонков за месяц (мин. с учетом единицы тарификации)', ylabel='количество записей в выборке (шт.)')\n",
    "ax.set_title(\"Распределение количества записей для каждого суммарного значения звонков за месяц. Тариф «Смарт»\")\n",
    "plt.show()"
   ]
  },
  {
   "cell_type": "code",
   "execution_count": 26,
   "metadata": {},
   "outputs": [
    {
     "data": {
      "image/png": "[encoded data removed]",
      "text/plain": [
       "<Figure size 1152x288 with 1 Axes>"
      ]
     },
     "metadata": {
      "needs_background": "light"
     },
     "output_type": "display_data"
    }
   ],
   "source": [
    "plt.figure(figsize=(16,4))\n",
    "ax = calls_sum_single.loc[calls_sum_single['tariff']=='smart'].boxplot(column = 'sum', vert = False)\n",
    "ax.set(xlabel='Суммарная продолжительность звонков за месяц (мин. с учетом единицы тарификации)', ylabel='количество записей в выборке (шт.)')\n",
    "ax.set_title(\"Распределение количества записей для каждого суммарного значения звонков за месяц. Тариф «Смарт»\")\n",
    "plt.show()"
   ]
  },
  {
   "cell_type": "markdown",
   "metadata": {},
   "source": [
    "Распределение тяготеет к нормальному но со скошенностью вправо. Присутствует пик в районе 400 (звонков), при этом медиана в районе 2250"
   ]
  },
  {
   "cell_type": "markdown",
   "metadata": {},
   "source": [
    "## 3.1.2. Тариф «Ультра» <a class=\"anchor\" id=\"3.1.2.\"></a> "
   ]
  },
  {
   "cell_type": "code",
   "execution_count": 27,
   "metadata": {},
   "outputs": [
    {
     "name": "stdout",
     "output_type": "stream",
     "text": [
      "Среднее значение продолжительности звонков за месяц для тарифа «Ультра» составляет: 3481.3691275167785\n",
      "Дисперсия (variance) продолжительности звонков за месяц для тарифа «Ультра» составляет: 7185793.977838836\n",
      "Стандартное отклонение (std) продолжительности звонков за месяц для тарифа «Ультра» составляет: 2680.6331300345514\n"
     ]
    }
   ],
   "source": [
    "mean_calls_ultra = calls_sum_single.loc[calls_sum_single['tariff']=='ultra', 'sum'].mean()\n",
    "print('Среднее значение продолжительности звонков за месяц для тарифа «Ультра» составляет:',mean_calls_ultra)\n",
    "\n",
    "variance_calls_ultra = np.var(calls_sum_single.loc[calls_sum_single['tariff']=='ultra', 'sum'])\n",
    "print('Дисперсия (variance) продолжительности звонков за месяц для тарифа «Ультра» составляет:', variance_calls_ultra)\n",
    "\n",
    "std_calls_ultra = np.std(calls_sum_single.loc[calls_sum_single['tariff']=='ultra', 'sum'])\n",
    "print('Стандартное отклонение (std) продолжительности звонков за месяц для тарифа «Ультра» составляет:', std_calls_ultra)"
   ]
  },
  {
   "cell_type": "code",
   "execution_count": 28,
   "metadata": {},
   "outputs": [
    {
     "data": {
      "image/png": "[encoded data removed]",
      "text/plain": [
       "<Figure size 1152x288 with 1 Axes>"
      ]
     },
     "metadata": {
      "needs_background": "light"
     },
     "output_type": "display_data"
    }
   ],
   "source": [
    "plt.figure(figsize=(16,4))\n",
    "ax = calls_sum_single.loc[calls_sum_single['tariff']=='ultra', 'sum'].plot(kind='hist', bins = 20)\n",
    "ax.set(xlabel='Суммарная продолжительность звонков за месяц (мин. с учетом единицы тарификации)', ylabel='количество записей в выборке (шт.)')\n",
    "ax.set_title(\"Распределение количества записей для каждого суммарного значения звонков за месяц. Тариф «Ультра»\")\n",
    "plt.show()"
   ]
  },
  {
   "cell_type": "code",
   "execution_count": 29,
   "metadata": {},
   "outputs": [
    {
     "data": {
      "image/png": "[encoded data removed]",
      "text/plain": [
       "<Figure size 1152x288 with 1 Axes>"
      ]
     },
     "metadata": {
      "needs_background": "light"
     },
     "output_type": "display_data"
    }
   ],
   "source": [
    "plt.figure(figsize=(16,4))\n",
    "ax = calls_sum_single.loc[calls_sum_single['tariff']=='ultra'].boxplot(column = 'sum', vert = False)\n",
    "ax.set(xlabel='Суммарное число сообщений за месяц (шт.)', ylabel='количество записей в выборке (шт.)')\n",
    "ax.set_title(\"Распределение количества записей для каждого суммарного количества сообщений за месяц. Тариф «Ультра»\")\n",
    "plt.show()"
   ]
  },
  {
   "cell_type": "markdown",
   "metadata": {},
   "source": [
    "Распределение тяготеет к нормальному со скошенностью вправо, но присутствует пик в районе 900 (звонков), при этом медиана в раоне 3175"
   ]
  },
  {
   "cell_type": "markdown",
   "metadata": {},
   "source": [
    "## 3.2. Сколько сообщений  требуется пользователям <a class=\"anchor\" id=\"3.2.\"></a> "
   ]
  },
  {
   "cell_type": "code",
   "execution_count": 30,
   "metadata": {},
   "outputs": [],
   "source": [
    "# просуммируем сообщения за все месяцы и сохраним в столбце 'sum'\n",
    "messages_count_month_stat['sum'] = messages_count_month_stat[collist_to_drop_1].sum(axis=1)\n",
    "# создадим новую таблицу messages_sum_single и в ней оставим только сумму по всем месяцам\n",
    "messages_sum_single = messages_count_month_stat.drop(columns=collist_to_drop_1, axis=1)"
   ]
  },
  {
   "cell_type": "markdown",
   "metadata": {},
   "source": [
    "## 3.2.1. Тариф «Смарт» <a class=\"anchor\" id=\"3.2.1.\"></a> "
   ]
  },
  {
   "cell_type": "code",
   "execution_count": 31,
   "metadata": {},
   "outputs": [
    {
     "name": "stdout",
     "output_type": "stream",
     "text": [
      "Среднее количество сообщений за месяц для тарифа «Смарт» составляет: 371.2678062678063\n",
      "Дисперсия (variance) количество сообщений за месяц для тарифа «Смарт» составляет: 59793.666171540826\n",
      "Стандартное отклонение (std) количество сообщений за месяц для тарифа «Смарт» составляет: 244.52743439446795\n"
     ]
    }
   ],
   "source": [
    "print('Среднее количество сообщений за месяц для тарифа «Смарт» составляет:',\n",
    "      messages_sum_single.loc[messages_sum_single['tariff']=='smart', 'sum'].mean())\n",
    "\n",
    "print('Дисперсия (variance) количество сообщений за месяц для тарифа «Смарт» составляет:',\n",
    "      np.var(messages_sum_single.loc[messages_sum_single['tariff']=='smart', 'sum']))\n",
    "\n",
    "print('Стандартное отклонение (std) количество сообщений за месяц для тарифа «Смарт» составляет:',\n",
    "      np.std(messages_sum_single.loc[messages_sum_single['tariff']=='smart', 'sum']))"
   ]
  },
  {
   "cell_type": "code",
   "execution_count": 32,
   "metadata": {},
   "outputs": [
    {
     "data": {
      "image/png": "[encoded data removed]",
      "text/plain": [
       "<Figure size 1152x288 with 1 Axes>"
      ]
     },
     "metadata": {
      "needs_background": "light"
     },
     "output_type": "display_data"
    }
   ],
   "source": [
    "plt.figure(figsize=(16,4))\n",
    "ax = messages_sum_single.loc[messages_sum_single['tariff']=='smart', 'sum'].plot(kind='hist', bins = 20)\n",
    "ax.set(xlabel='Суммарное число сообщений за месяц (шт.)', ylabel='количество записей в выборке (шт.)')\n",
    "ax.set_title(\"Распределение количества записей для каждого суммарного количества сообщений за месяц. Тариф «Смарт»\")\n",
    "plt.show()"
   ]
  },
  {
   "cell_type": "code",
   "execution_count": 33,
   "metadata": {},
   "outputs": [
    {
     "data": {
      "image/png": "[encoded data removed]",
      "text/plain": [
       "<Figure size 1152x288 with 1 Axes>"
      ]
     },
     "metadata": {
      "needs_background": "light"
     },
     "output_type": "display_data"
    }
   ],
   "source": [
    "plt.figure(figsize=(16,4))\n",
    "ax = messages_sum_single.loc[messages_sum_single['tariff']=='smart'].boxplot(column = 'sum', vert = False)\n",
    "ax.set(xlabel='Суммарное число сообщений за месяц (шт.)', ylabel='количество записей в выборке (шт.)')\n",
    "ax.set_title(\"Распределение количества записей для каждого суммарного количества сообщений за месяц. Тариф «Смарт»\")\n",
    "plt.show()"
   ]
  },
  {
   "cell_type": "markdown",
   "metadata": {},
   "source": [
    "Распределение тяготеет к нормальному со скошенностью вправо, но присутствует пик в районе 200 (сообщений), при этом медиана в районе 320"
   ]
  },
  {
   "cell_type": "markdown",
   "metadata": {},
   "source": [
    "## 3.2.2. Тариф «Ультра» <a class=\"anchor\" id=\"3.2.2.\"></a>"
   ]
  },
  {
   "cell_type": "code",
   "execution_count": 34,
   "metadata": {},
   "outputs": [
    {
     "name": "stdout",
     "output_type": "stream",
     "text": [
      "Среднее количество сообщений за месяц для тарифа «Ультра» составляет: 485.18120805369125\n",
      "Дисперсия (variance) количество сообщений за месяц для тарифа «Ультра» составляет: 139586.17521733255\n",
      "Стандартное отклонение (std) количество сообщений за месяц для тарифа «Ультра» составляет: 373.61233279608496\n"
     ]
    }
   ],
   "source": [
    "print('Среднее количество сообщений за месяц для тарифа «Ультра» составляет:',\n",
    "      messages_sum_single.loc[messages_sum_single['tariff']=='ultra', 'sum'].mean())\n",
    "\n",
    "print('Дисперсия (variance) количество сообщений за месяц для тарифа «Ультра» составляет:',\n",
    "      np.var(messages_sum_single.loc[messages_sum_single['tariff']=='ultra', 'sum']))\n",
    "\n",
    "print('Стандартное отклонение (std) количество сообщений за месяц для тарифа «Ультра» составляет:',\n",
    "      np.std(messages_sum_single.loc[messages_sum_single['tariff']=='ultra', 'sum']))"
   ]
  },
  {
   "cell_type": "code",
   "execution_count": 35,
   "metadata": {},
   "outputs": [
    {
     "data": {
      "image/png": "[encoded data removed]",
      "text/plain": [
       "<Figure size 1152x288 with 1 Axes>"
      ]
     },
     "metadata": {
      "needs_background": "light"
     },
     "output_type": "display_data"
    }
   ],
   "source": [
    "plt.figure(figsize=(16,4))\n",
    "ax = messages_sum_single.loc[messages_sum_single['tariff']=='ultra', 'sum'].plot(kind='hist', bins = 20)\n",
    "ax.set(xlabel='Суммарное число сообщений за месяц (шт.)', ylabel='количество записей в выборке (шт.)')\n",
    "ax.set_title(\"Распределение количества записей для каждого суммарного количества сообщений за месяц. Тариф «Ультра»\")\n",
    "plt.show()"
   ]
  },
  {
   "cell_type": "code",
   "execution_count": 36,
   "metadata": {},
   "outputs": [
    {
     "data": {
      "image/png": "[encoded data removed]",
      "text/plain": [
       "<Figure size 1152x288 with 1 Axes>"
      ]
     },
     "metadata": {
      "needs_background": "light"
     },
     "output_type": "display_data"
    }
   ],
   "source": [
    "plt.figure(figsize=(16,4))\n",
    "ax = messages_sum_single.loc[messages_sum_single['tariff']=='ultra'].boxplot(column = 'sum', vert = False)\n",
    "ax.set(xlabel='Суммарное число сообщений за месяц (шт.)', ylabel='количество записей в выборке (шт.)')\n",
    "ax.set_title(\"Распределение количества записей для каждого суммарного количества сообщений за месяц. Тариф «Ультра»\")\n",
    "plt.show()"
   ]
  },
  {
   "cell_type": "markdown",
   "metadata": {},
   "source": [
    "Распределение тяготеет к нормальному со скошенностью вправо, но присутствует пик в районе 90 (сообщений), при этом медиана в районе 430"
   ]
  },
  {
   "cell_type": "markdown",
   "metadata": {},
   "source": [
    "## 3.3. Какой объём интернет-трафика требуется пользователям <a class=\"anchor\" id=\"3.3.\"></a>"
   ]
  },
  {
   "cell_type": "code",
   "execution_count": 37,
   "metadata": {},
   "outputs": [],
   "source": [
    "# просуммируем интернет трафик за все месяцы и сохраним в столбце 'sum'\n",
    "internet_sum_month_stat['sum'] = internet_sum_month_stat[collist_to_drop_1].sum(axis=1)\n",
    "# создадим новую таблицу internet_sum_single и в ней оставим только сумму по всем месяцам\n",
    "internet_sum_single = internet_sum_month_stat.drop(columns=collist_to_drop_1, axis=1)"
   ]
  },
  {
   "cell_type": "markdown",
   "metadata": {},
   "source": [
    "## 3.3.1. Тариф «Смарт» <a class=\"anchor\" id=\"3.3.1.\"></a> "
   ]
  },
  {
   "cell_type": "code",
   "execution_count": 38,
   "metadata": {},
   "outputs": [
    {
     "name": "stdout",
     "output_type": "stream",
     "text": [
      "Средний объем трафика за месяц для тарифа «Смарт» составляет: 103.69515991210938\n",
      "Дисперсия (variance) объема трафика за месяц для тарифа «Смарт» составляет: 3646.4404296875\n",
      "Стандартное отклонение (std) объема трафика за месяц для тарифа «Смарт» составляет: 60.385765075683594\n"
     ]
    }
   ],
   "source": [
    "print('Средний объем трафика за месяц для тарифа «Смарт» составляет:',\n",
    "      internet_sum_single.loc[internet_sum_single['tariff']=='smart', 'sum'].mean())\n",
    "\n",
    "print('Дисперсия (variance) объема трафика за месяц для тарифа «Смарт» составляет:',\n",
    "      np.var(internet_sum_single.loc[internet_sum_single['tariff']=='smart', 'sum']))\n",
    "\n",
    "print('Стандартное отклонение (std) объема трафика за месяц для тарифа «Смарт» составляет:',\n",
    "      np.std(internet_sum_single.loc[internet_sum_single['tariff']=='smart', 'sum']))"
   ]
  },
  {
   "cell_type": "code",
   "execution_count": 39,
   "metadata": {},
   "outputs": [
    {
     "data": {
      "image/png": "[encoded data removed]",
      "text/plain": [
       "<Figure size 1152x288 with 1 Axes>"
      ]
     },
     "metadata": {
      "needs_background": "light"
     },
     "output_type": "display_data"
    }
   ],
   "source": [
    "plt.figure(figsize=(16,4))\n",
    "ax = internet_sum_single.loc[internet_sum_single['tariff']=='smart', 'sum'].plot(kind='hist', bins = 20)\n",
    "ax.set(xlabel='Суммарный объем трафика за месяц (шт.)', ylabel='количество записей в выборке (шт.)')\n",
    "ax.set_title(\"Распределение количества записей для каждого суммарного объема трафика за месяц. Тариф «Смарт»\")\n",
    "plt.show()"
   ]
  },
  {
   "cell_type": "code",
   "execution_count": 40,
   "metadata": {},
   "outputs": [
    {
     "data": {
      "image/png": "[encoded data removed]",
      "text/plain": [
       "<Figure size 1152x288 with 1 Axes>"
      ]
     },
     "metadata": {
      "needs_background": "light"
     },
     "output_type": "display_data"
    }
   ],
   "source": [
    "plt.figure(figsize=(16,4))\n",
    "ax = internet_sum_single.loc[internet_sum_single['tariff']=='smart'].boxplot(column = 'sum', vert = False)\n",
    "ax.set(xlabel='Суммарный объем трафика за месяц (ГГБ.)', ylabel='количество записей в выборке (шт.)')\n",
    "ax.set_title(\"Распределение количества записей для каждого суммарного объема трафика за месяц. Тариф «Смарт»\")\n",
    "plt.show()"
   ]
  },
  {
   "cell_type": "markdown",
   "metadata": {},
   "source": [
    "Распределение тяготеет к нормальному со скошенностью вправо, но присутствует пик в районе 20 (ггб), при этом медиана в районе 100"
   ]
  },
  {
   "cell_type": "markdown",
   "metadata": {},
   "source": [
    "## 3.3.2. Тариф «Ультра» <a class=\"anchor\" id=\"3.3.2.\"></a>"
   ]
  },
  {
   "cell_type": "code",
   "execution_count": 41,
   "metadata": {},
   "outputs": [
    {
     "name": "stdout",
     "output_type": "stream",
     "text": [
      "Средний объем трафика за месяц для тарифа «Ультра» составляет: 128.8724822998047\n",
      "Дисперсия (variance) объема трафика за месяц для тарифа «Ультра» составляет: 7542.48583984375\n",
      "Стандартное отклонение (std) объема трафика за месяц для тарифа «Ультра» составляет: 86.84748840332031\n"
     ]
    }
   ],
   "source": [
    "print('Средний объем трафика за месяц для тарифа «Ультра» составляет:',\n",
    "      internet_sum_single.loc[internet_sum_single['tariff']=='ultra', 'sum'].mean())\n",
    "\n",
    "print('Дисперсия (variance) объема трафика за месяц для тарифа «Ультра» составляет:',\n",
    "      np.var(internet_sum_single.loc[internet_sum_single['tariff']=='ultra', 'sum']))\n",
    "\n",
    "print('Стандартное отклонение (std) объема трафика за месяц для тарифа «Ультра» составляет:',\n",
    "      np.std(internet_sum_single.loc[internet_sum_single['tariff']=='ultra', 'sum']))"
   ]
  },
  {
   "cell_type": "code",
   "execution_count": 42,
   "metadata": {},
   "outputs": [
    {
     "data": {
      "image/png": "[encoded data removed]",
      "text/plain": [
       "<Figure size 1152x288 with 1 Axes>"
      ]
     },
     "metadata": {
      "needs_background": "light"
     },
     "output_type": "display_data"
    }
   ],
   "source": [
    "plt.figure(figsize=(16,4))\n",
    "ax = internet_sum_single.loc[internet_sum_single['tariff']=='ultra', 'sum'].plot(kind='hist', bins = 20)\n",
    "ax.set(xlabel='Суммарный объем трафика за месяц (шт.)', ylabel='количество записей в выборке (шт.)')\n",
    "ax.set_title(\"Распределение количества записей для каждого суммарного объема трафика за месяц. Тариф «Ультра»\")\n",
    "plt.show()"
   ]
  },
  {
   "cell_type": "code",
   "execution_count": 43,
   "metadata": {},
   "outputs": [
    {
     "data": {
      "image/png": "[encoded data removed]",
      "text/plain": [
       "<Figure size 1152x288 with 1 Axes>"
      ]
     },
     "metadata": {
      "needs_background": "light"
     },
     "output_type": "display_data"
    }
   ],
   "source": [
    "plt.figure(figsize=(16,4))\n",
    "ax = internet_sum_single.loc[internet_sum_single['tariff']=='ultra'].boxplot(column = 'sum', vert = False)\n",
    "ax.set(xlabel='Суммарный объем трафика за месяц (ггб)', ylabel='количество записей в выборке (шт.)')\n",
    "ax.set_title(\"Распределение количества записей для каждого суммарного объема трафика за месяц. Тариф «Ультра»\")\n",
    "plt.show()"
   ]
  },
  {
   "cell_type": "markdown",
   "metadata": {},
   "source": [
    "Распределение тяготеет к нормальному со скошенностью вправо, но присутствует пик в районе 160 (ггб), при этом медиана в районе 110"
   ]
  },
  {
   "cell_type": "markdown",
   "metadata": {},
   "source": [
    "## Выводы: по п.3.  \n",
    "По каждой из услуг (звонки, сообщения, интернет) наблюдается ситуация:\n",
    "1. Среднее значение для тарифа «Ультра» больше чем для тарифа «Смарт»\n",
    "2. Стандартное отклонение для тарифа «Ультра» больше чем для тарифа «Смарт» (примерно в 1,5 раза)\n",
    "3. Наблюдается скошенность распрпделения вправо."
   ]
  },
  {
   "cell_type": "code",
   "execution_count": 44,
   "metadata": {},
   "outputs": [
    {
     "data": {
      "image/png": "[encoded data removed]",
      "text/plain": [
       "<Figure size 720x432 with 1 Axes>"
      ]
     },
     "metadata": {
      "needs_background": "light"
     },
     "output_type": "display_data"
    }
   ],
   "source": [
    "plt.figure(figsize=(10, 6))\n",
    "calls_sum_single['sum'][calls_sum_single['tariff'] == 'smart'].plot(kind='hist', alpha=0.5, bins=15)\n",
    "calls_sum_single['sum'][calls_sum_single['tariff'] == 'ultra'].plot(kind='hist', alpha=0.5, bins=15)\n",
    "plt.title('Гистограмма распределения среднего объема интернет-трафика в месяц по 2-м тарифам'+ \"\\n\")\n",
    "plt.xlabel('Звонки')\n",
    "plt.ylabel('Частотность')\n",
    "plt.legend(['smart', 'ultra']) \n",
    "\n",
    "plt.show()   "
   ]
  },
  {
   "cell_type": "code",
   "execution_count": 45,
   "metadata": {},
   "outputs": [
    {
     "data": {
      "image/png": "[encoded data removed]",
      "text/plain": [
       "<Figure size 720x432 with 1 Axes>"
      ]
     },
     "metadata": {
      "needs_background": "light"
     },
     "output_type": "display_data"
    }
   ],
   "source": [
    "plt.figure(figsize=(10, 6))\n",
    "messages_sum_single['sum'][messages_sum_single['tariff'] == 'smart'].plot(kind='hist', alpha=0.5, bins=15)\n",
    "messages_sum_single['sum'][messages_sum_single['tariff'] == 'ultra'].plot(kind='hist', alpha=0.5, bins=15)\n",
    "plt.title('Гистограмма распределения среднего объема интернет-трафика в месяц по 2-м тарифам'+ \"\\n\")\n",
    "plt.xlabel('Сообщения')\n",
    "plt.ylabel('Частотность')\n",
    "plt.legend(['smart', 'ultra']) \n",
    "\n",
    "plt.show()   "
   ]
  },
  {
   "cell_type": "code",
   "execution_count": 46,
   "metadata": {},
   "outputs": [
    {
     "data": {
      "image/png": "[encoded data removed]",
      "text/plain": [
       "<Figure size 720x432 with 1 Axes>"
      ]
     },
     "metadata": {
      "needs_background": "light"
     },
     "output_type": "display_data"
    }
   ],
   "source": [
    "plt.figure(figsize=(10, 6))\n",
    "internet_sum_single['sum'][internet_sum_single['tariff'] == 'smart'].plot(kind='hist', alpha=0.5, bins=15)\n",
    "internet_sum_single['sum'][internet_sum_single['tariff'] == 'ultra'].plot(kind='hist', alpha=0.5, bins=15)\n",
    "plt.title('Гистограмма распределения среднего объема интернет-трафика в месяц по 2-м тарифам'+ \"\\n\")\n",
    "plt.xlabel('Гигабайты')\n",
    "plt.ylabel('Частотность')\n",
    "plt.legend(['smart', 'ultra']) \n",
    "\n",
    "plt.show()    "
   ]
  },
  {
   "cell_type": "markdown",
   "metadata": {},
   "source": [
    "# 4. Проверка гипотез <a class=\"anchor\" id=\"4.\"></a>\n",
    "[наверх](#1.1.)"
   ]
  },
  {
   "cell_type": "markdown",
   "metadata": {},
   "source": [
    "## 4.1. Гипотеза о различии средней выручки пользователей тарифов «Ультра» и «Смарт» <a class=\"anchor\" id=\"4.1.\"></a>"
   ]
  },
  {
   "cell_type": "markdown",
   "metadata": {},
   "source": [
    "**Общая формулировка**: среднее значение выручки от пользователей тарифа «Ультра» и «Смарт» различаются\n",
    "\n",
    "- Н0: нет никакх различий в среднем значении выручки по каждому из тарифов \n",
    "- Н1: средняя выручка по тарифу «Ультра» отличается от средней выручки по тарифу «Смарт»"
   ]
  },
  {
   "cell_type": "code",
   "execution_count": 47,
   "metadata": {},
   "outputs": [],
   "source": [
    "# просуммируем по каждому пользователю доход по всем месяцам\n",
    "total_moth_sum_final['sum'] = total_moth_sum_final[collist_to_drop_1].sum(axis=1)\n",
    "# удалим столбцы с месяцами и оставим только столбцец с суммой за год\n",
    "total_sum_final = total_moth_sum_final.drop(columns=collist_to_drop_1, axis=1)\n",
    "# сделаем срезы по каждому из тарифов\n",
    "sum_of_ultra = total_sum_final.loc[total_sum_final['tariff']=='ultra', 'sum']\n",
    "sum_of_smart = total_sum_final.loc[total_sum_final['tariff']=='smart', 'sum']"
   ]
  },
  {
   "cell_type": "code",
   "execution_count": 48,
   "metadata": {},
   "outputs": [
    {
     "name": "stdout",
     "output_type": "stream",
     "text": [
      "p-значение: 2.6203166452102662e-11\n",
      "Отвергаем нулевую гипотезу. Средние выручки для двух тарифов статистически значимо отличаются\n"
     ]
    }
   ],
   "source": [
    "results = st.ttest_ind(sum_of_ultra, sum_of_smart, equal_var = False )\n",
    "alpha = 0.05 # возьмем \"стандартное\" значение. посмотрим какой будет рузультат\n",
    "print('p-значение:', results.pvalue)\n",
    "if results.pvalue < alpha:\n",
    "    print(\"Отвергаем нулевую гипотезу. Средние выручки для двух тарифов статистически значимо отличаются\")\n",
    "else:\n",
    "    print(\"Не получилось отвергнуть нулевую гипотезу. Средние выручки для двух тарифов статистически значимо не отличаются \")"
   ]
  },
  {
   "cell_type": "code",
   "execution_count": 49,
   "metadata": {},
   "outputs": [
    {
     "name": "stdout",
     "output_type": "stream",
     "text": [
      "средний годовой доход от клиентов на тарифе ultra составляет: 13087.24832214765\n",
      "средний годовой доход от клиентов на тарифе smart составляет: 8355.923076923076\n",
      "суммарные годовые поступления от клиентов на тарифе ultra составляет: 1950000.0\n",
      "суммарные годовые поступления от клиентов на тарифе smart составляет: 2932929.0\n"
     ]
    }
   ],
   "source": [
    "print(f'средний годовой доход от клиентов на тарифе ultra составляет: {sum_of_ultra.mean()}')\n",
    "print(f'средний годовой доход от клиентов на тарифе smart составляет: {sum_of_smart.mean()}')\n",
    "print(f'суммарные годовые поступления от клиентов на тарифе ultra составляет: {sum_of_ultra.sum()}')\n",
    "print(f'суммарные годовые поступления от клиентов на тарифе smart составляет: {sum_of_smart.sum()}')"
   ]
  },
  {
   "cell_type": "markdown",
   "metadata": {},
   "source": [
    "## 4.2. Гипотеза о различии средней выручки пользователей из Москвы и других регионов <a class=\"anchor\" id=\"4.2.\"></a>"
   ]
  },
  {
   "cell_type": "markdown",
   "metadata": {},
   "source": [
    "**Общая формулировка**: среднее значение выручки от пользователей в Москве и других регионах различаются\n",
    "\n",
    "- Н0: нет никакх различий в среднем значении выручки в Москве и других регионах\n",
    "- Н1: средняя выручка в Москве отличается от средней выручки в других регионах"
   ]
  },
  {
   "cell_type": "code",
   "execution_count": 50,
   "metadata": {},
   "outputs": [],
   "source": [
    "# добавим поле \"city\"\n",
    "total_sum_final_regions = users_df_[['user_id', 'city']].join(total_sum_final, on='user_id', how='right')"
   ]
  },
  {
   "cell_type": "code",
   "execution_count": 51,
   "metadata": {},
   "outputs": [],
   "source": [
    "array21 = total_sum_final_regions.loc[total_sum_final_regions['city']=='Москва', 'sum']\n",
    "array22 = total_sum_final_regions.loc[total_sum_final_regions['city']!='Москва', 'sum']"
   ]
  },
  {
   "cell_type": "code",
   "execution_count": 52,
   "metadata": {},
   "outputs": [
    {
     "name": "stdout",
     "output_type": "stream",
     "text": [
      "p-значение: 0.8431328534989987\n",
      "Не получилось отвергнуть нулевую гипотезу. Средние выручки для двух тарифов статистически значимо не отличаются \n"
     ]
    }
   ],
   "source": [
    "results = st.ttest_ind(array21, array22, equal_var = False )\n",
    "alpha = 0.05 # возьмем \"стандартное\" значение. посмотрим какой будет рузультат\n",
    "print('p-значение:', results.pvalue)\n",
    "if results.pvalue < alpha:\n",
    "    print(\"Отвергаем нулевую гипотезу. Средние выручки для двух тарифов статистически значимо отличаются\")\n",
    "else:\n",
    "    print(\"Не получилось отвергнуть нулевую гипотезу. Средние выручки для двух тарифов статистически значимо не отличаются \")"
   ]
  },
  {
   "cell_type": "markdown",
   "metadata": {},
   "source": [
    "**Выводы:**\n",
    "1. Среднее значение выручки от пользователей тарифа «Ультра» и «Смарт» различаются\n",
    "2. Среднее значение выручки от пользователей в Москве и других регионах НЕ различаются\n",
    "\n",
    "при этом отвтетить на исходный вопрос поставленный в задании считаю невозможно ввиду недостаточной корректности формулировки и отсутствии дополнительных данных. Поясню: \n",
    "1. В вопросе \"какой тариф лучше\"  не названо для кого, и не названы критерии оценки. Какой тариф приносит больше выручки - так же не корректен, т.к. не сказано как считать: \"за абонента\" или \"со всех абонентов\" - это разные вопрсы и разные ответы.\n",
    "2. Больше выручки не значит лучше. (вспоминается известная менеджерская шутка про \"зато оборот бешеный\") не значит лучше, потому что есть еще себестоимость, а она складывается из ряда факторов. Так, например, больше трафик значит больше амортизация оборудования. Оно от нагрузки выгорает. И это без учета других расходов например на рекламные кампании и нагрузку на техподдержку, например.\n",
    "3. В задании ничего не сказано является ли данная выборка репрезентаивной. Верить ли балансировке классов и т.п.\n",
    "\n",
    "Но, от выводов, как я понял не уйти, поэтом сформулирую их следующим образом:\n",
    "\n",
    "1. При том что средния годовая выручка от клиентов на тарифе ultra больше чем smart (13087 против 8355), суммарные годовые поступления от него меньше (1950000 против 2932929) \n",
    "2. На вопрос является ли тариф ultra более выгодным для оператора связи ответить невозможно ввиду отсутствия данных по затратам на каждый тариф.\n",
    "3. Для ответа на вопрос какой из данных тарифов является более выгодным для оператора необходимо более глубокое изучение затрат, а так же провести ряд маркетинговых исследований по покрытию, качеству и скорости связи. Так, если 90% пользователей на тарифе smart устроит например 3G, при том что без 5G такриф ultra никому не нужен, необходимо учесть и это, т.к. апгрейд до 5G может быть экономически нецелесообразным в какой-то момент времени."
   ]
  },
  {
   "cell_type": "markdown",
   "metadata": {},
   "source": [
    "# 5. Общий вывод <a class=\"anchor\" id=\"5.\"></a>\n",
    "[наверх](#1.1.)"
   ]
  },
  {
   "cell_type": "markdown",
   "metadata": {},
   "source": [
    "В данной работе были обработаны исходные (сырые) данные по звонкам, сообщениям и интернет-трафику по двум тарифным планам на основании выборки из 500 пользователей. \n",
    "Данные были обработаны и посчитано:\n",
    "\n",
    "1. Суммарное время звонков за каждый месяц по каждому абоненту\n",
    "2. Суммарное количество звонков за каждый месяц по каждому абоненту\n",
    "3. Суммарное количество сообщений за каждый месяц по каждому абоненту\n",
    "4. Суммарное объем трафика за каждый месяц по каждому абоненту\n",
    "5. Суммарный дополнительный доход (сверх тарифного плана) за каждый месяц по каждому абоненту\n",
    "6. Суммарное общий доход (с учетом тарифного плана) за каждый месяц по каждому абоненту\n",
    "\n",
    "**По полученным данным сделаны следующие выводы:**\n",
    "\n",
    "1. По каждой из услуг (звонки, сообщения, интернет) наблюдается ситуация:\n",
    "    1. Среднее значение для тарифа «Ультра» больше чем для тарифа «Смарт»\n",
    "    2. Стандартное отклонение для тарифа «Ультра» больше чем для тарифа «Смарт» (примерно в 1,5 раза)\n",
    "    3. Наблюдается скошенность распределения вправо.\n",
    "2. Среднее значение выручки от пользователей тарифа «Ультра» и «Смарт» различаются\n",
    "3. Среднее значение выручки от пользователей в Москве и других регионах НЕ различаются"
   ]
  }
 ],
 "metadata": {
  "ExecuteTimeLog": [
   {
    "duration": 1516,
    "start_time": "2022-04-19T17:42:58.275Z"
   },
   {
    "duration": 159,
    "start_time": "2022-04-19T17:42:59.793Z"
   },
   {
    "duration": 0,
    "start_time": "2022-04-19T17:42:59.955Z"
   },
   {
    "duration": 0,
    "start_time": "2022-04-19T17:42:59.955Z"
   },
   {
    "duration": 0,
    "start_time": "2022-04-19T17:42:59.957Z"
   },
   {
    "duration": 0,
    "start_time": "2022-04-19T17:42:59.958Z"
   },
   {
    "duration": 0,
    "start_time": "2022-04-19T17:42:59.959Z"
   },
   {
    "duration": 0,
    "start_time": "2022-04-19T17:42:59.960Z"
   },
   {
    "duration": 0,
    "start_time": "2022-04-19T17:42:59.961Z"
   },
   {
    "duration": 0,
    "start_time": "2022-04-19T17:42:59.962Z"
   },
   {
    "duration": 0,
    "start_time": "2022-04-19T17:42:59.963Z"
   },
   {
    "duration": 0,
    "start_time": "2022-04-19T17:42:59.964Z"
   },
   {
    "duration": 0,
    "start_time": "2022-04-19T17:42:59.965Z"
   },
   {
    "duration": 0,
    "start_time": "2022-04-19T17:42:59.965Z"
   },
   {
    "duration": 0,
    "start_time": "2022-04-19T17:42:59.966Z"
   },
   {
    "duration": 0,
    "start_time": "2022-04-19T17:42:59.967Z"
   },
   {
    "duration": 0,
    "start_time": "2022-04-19T17:42:59.968Z"
   },
   {
    "duration": 0,
    "start_time": "2022-04-19T17:42:59.969Z"
   },
   {
    "duration": 0,
    "start_time": "2022-04-19T17:42:59.970Z"
   },
   {
    "duration": 0,
    "start_time": "2022-04-19T17:42:59.971Z"
   },
   {
    "duration": 0,
    "start_time": "2022-04-19T17:42:59.972Z"
   },
   {
    "duration": 0,
    "start_time": "2022-04-19T17:42:59.973Z"
   },
   {
    "duration": 0,
    "start_time": "2022-04-19T17:42:59.974Z"
   },
   {
    "duration": 0,
    "start_time": "2022-04-19T17:42:59.975Z"
   },
   {
    "duration": 0,
    "start_time": "2022-04-19T17:42:59.976Z"
   },
   {
    "duration": 0,
    "start_time": "2022-04-19T17:42:59.977Z"
   },
   {
    "duration": 0,
    "start_time": "2022-04-19T17:42:59.977Z"
   },
   {
    "duration": 0,
    "start_time": "2022-04-19T17:42:59.979Z"
   },
   {
    "duration": 0,
    "start_time": "2022-04-19T17:42:59.980Z"
   },
   {
    "duration": 0,
    "start_time": "2022-04-19T17:42:59.980Z"
   },
   {
    "duration": 0,
    "start_time": "2022-04-19T17:42:59.981Z"
   },
   {
    "duration": 0,
    "start_time": "2022-04-19T17:42:59.982Z"
   },
   {
    "duration": 0,
    "start_time": "2022-04-19T17:42:59.983Z"
   },
   {
    "duration": 0,
    "start_time": "2022-04-19T17:43:00.024Z"
   },
   {
    "duration": 0,
    "start_time": "2022-04-19T17:43:00.025Z"
   },
   {
    "duration": 0,
    "start_time": "2022-04-19T17:43:00.026Z"
   },
   {
    "duration": 0,
    "start_time": "2022-04-19T17:43:00.027Z"
   },
   {
    "duration": 0,
    "start_time": "2022-04-19T17:43:00.028Z"
   },
   {
    "duration": 0,
    "start_time": "2022-04-19T17:43:00.029Z"
   },
   {
    "duration": 0,
    "start_time": "2022-04-19T17:43:00.030Z"
   },
   {
    "duration": 1379,
    "start_time": "2022-04-19T17:45:06.487Z"
   },
   {
    "duration": 540,
    "start_time": "2022-04-19T17:45:07.869Z"
   },
   {
    "duration": 246,
    "start_time": "2022-04-19T17:45:08.411Z"
   },
   {
    "duration": 5,
    "start_time": "2022-04-19T17:45:08.659Z"
   },
   {
    "duration": 9,
    "start_time": "2022-04-19T17:45:08.666Z"
   },
   {
    "duration": 7,
    "start_time": "2022-04-19T17:45:08.677Z"
   },
   {
    "duration": 5,
    "start_time": "2022-04-19T17:45:08.686Z"
   },
   {
    "duration": 35,
    "start_time": "2022-04-19T17:45:08.693Z"
   },
   {
    "duration": 6,
    "start_time": "2022-04-19T17:45:08.729Z"
   },
   {
    "duration": 132,
    "start_time": "2022-04-19T17:45:08.738Z"
   },
   {
    "duration": 34,
    "start_time": "2022-04-19T17:45:08.872Z"
   },
   {
    "duration": 71,
    "start_time": "2022-04-19T17:45:08.908Z"
   },
   {
    "duration": 14,
    "start_time": "2022-04-19T17:45:08.980Z"
   },
   {
    "duration": 167,
    "start_time": "2022-04-19T17:45:08.995Z"
   },
   {
    "duration": 160,
    "start_time": "2022-04-19T17:45:09.164Z"
   },
   {
    "duration": 105,
    "start_time": "2022-04-19T17:45:09.326Z"
   },
   {
    "duration": 15,
    "start_time": "2022-04-19T17:45:09.434Z"
   },
   {
    "duration": 18,
    "start_time": "2022-04-19T17:45:09.451Z"
   },
   {
    "duration": 11,
    "start_time": "2022-04-19T17:45:09.470Z"
   },
   {
    "duration": 100,
    "start_time": "2022-04-19T17:45:09.484Z"
   },
   {
    "duration": 7,
    "start_time": "2022-04-19T17:45:09.585Z"
   },
   {
    "duration": 10,
    "start_time": "2022-04-19T17:45:09.593Z"
   },
   {
    "duration": 186,
    "start_time": "2022-04-19T17:45:09.605Z"
   },
   {
    "duration": 8,
    "start_time": "2022-04-19T17:45:09.792Z"
   },
   {
    "duration": 316,
    "start_time": "2022-04-19T17:45:09.802Z"
   },
   {
    "duration": 10,
    "start_time": "2022-04-19T17:45:10.124Z"
   },
   {
    "duration": 10,
    "start_time": "2022-04-19T17:45:10.136Z"
   },
   {
    "duration": 333,
    "start_time": "2022-04-19T17:45:10.152Z"
   },
   {
    "duration": 9,
    "start_time": "2022-04-19T17:45:10.488Z"
   },
   {
    "duration": 173,
    "start_time": "2022-04-19T17:45:10.499Z"
   },
   {
    "duration": 9,
    "start_time": "2022-04-19T17:45:10.674Z"
   },
   {
    "duration": 8,
    "start_time": "2022-04-19T17:45:10.686Z"
   },
   {
    "duration": 306,
    "start_time": "2022-04-19T17:45:10.696Z"
   },
   {
    "duration": 7,
    "start_time": "2022-04-19T17:45:11.004Z"
   },
   {
    "duration": 181,
    "start_time": "2022-04-19T17:45:11.024Z"
   },
   {
    "duration": 21,
    "start_time": "2022-04-19T17:45:11.207Z"
   },
   {
    "duration": 6,
    "start_time": "2022-04-19T17:45:11.230Z"
   },
   {
    "duration": 11,
    "start_time": "2022-04-19T17:45:11.237Z"
   },
   {
    "duration": 6,
    "start_time": "2022-04-19T17:45:11.250Z"
   },
   {
    "duration": 6,
    "start_time": "2022-04-19T17:45:11.258Z"
   },
   {
    "duration": 2302,
    "start_time": "2022-04-19T17:46:55.039Z"
   },
   {
    "duration": 21,
    "start_time": "2022-04-19T17:47:29.571Z"
   },
   {
    "duration": 8,
    "start_time": "2022-04-19T17:53:59.008Z"
   },
   {
    "duration": 2,
    "start_time": "2022-04-19T17:54:11.403Z"
   },
   {
    "duration": 22,
    "start_time": "2022-04-19T18:01:37.372Z"
   },
   {
    "duration": 10,
    "start_time": "2022-04-19T18:04:01.362Z"
   },
   {
    "duration": 358,
    "start_time": "2022-04-19T18:04:49.591Z"
   },
   {
    "duration": 222,
    "start_time": "2022-04-19T18:05:49.137Z"
   },
   {
    "duration": 120,
    "start_time": "2022-04-19T18:09:11.363Z"
   },
   {
    "duration": 153,
    "start_time": "2022-04-19T18:15:42.209Z"
   },
   {
    "duration": 1265,
    "start_time": "2022-04-19T18:18:11.236Z"
   },
   {
    "duration": 380,
    "start_time": "2022-04-19T18:18:12.504Z"
   },
   {
    "duration": 265,
    "start_time": "2022-04-19T18:18:12.886Z"
   },
   {
    "duration": 4,
    "start_time": "2022-04-19T18:18:13.152Z"
   },
   {
    "duration": 11,
    "start_time": "2022-04-19T18:18:13.158Z"
   },
   {
    "duration": 10,
    "start_time": "2022-04-19T18:18:13.171Z"
   },
   {
    "duration": 7,
    "start_time": "2022-04-19T18:18:13.183Z"
   },
   {
    "duration": 32,
    "start_time": "2022-04-19T18:18:13.192Z"
   },
   {
    "duration": 25,
    "start_time": "2022-04-19T18:18:13.226Z"
   },
   {
    "duration": 163,
    "start_time": "2022-04-19T18:18:13.253Z"
   },
   {
    "duration": 41,
    "start_time": "2022-04-19T18:18:13.417Z"
   },
   {
    "duration": 69,
    "start_time": "2022-04-19T18:18:13.460Z"
   },
   {
    "duration": 16,
    "start_time": "2022-04-19T18:18:13.531Z"
   },
   {
    "duration": 104,
    "start_time": "2022-04-19T18:18:13.551Z"
   },
   {
    "duration": 115,
    "start_time": "2022-04-19T18:18:13.656Z"
   },
   {
    "duration": 163,
    "start_time": "2022-04-19T18:18:13.773Z"
   },
   {
    "duration": 20,
    "start_time": "2022-04-19T18:18:13.939Z"
   },
   {
    "duration": 27,
    "start_time": "2022-04-19T18:18:13.961Z"
   },
   {
    "duration": 3,
    "start_time": "2022-04-19T18:18:13.989Z"
   },
   {
    "duration": 102,
    "start_time": "2022-04-19T18:18:13.994Z"
   },
   {
    "duration": 6,
    "start_time": "2022-04-19T18:18:14.098Z"
   },
   {
    "duration": 22,
    "start_time": "2022-04-19T18:18:14.106Z"
   },
   {
    "duration": 185,
    "start_time": "2022-04-19T18:18:14.130Z"
   },
   {
    "duration": 18,
    "start_time": "2022-04-19T18:18:14.316Z"
   },
   {
    "duration": 178,
    "start_time": "2022-04-19T18:18:14.336Z"
   },
   {
    "duration": 13,
    "start_time": "2022-04-19T18:18:14.515Z"
   },
   {
    "duration": 23,
    "start_time": "2022-04-19T18:18:14.532Z"
   },
   {
    "duration": 173,
    "start_time": "2022-04-19T18:18:14.557Z"
   },
   {
    "duration": 9,
    "start_time": "2022-04-19T18:18:14.731Z"
   },
   {
    "duration": 173,
    "start_time": "2022-04-19T18:18:14.742Z"
   },
   {
    "duration": 11,
    "start_time": "2022-04-19T18:18:14.917Z"
   },
   {
    "duration": 18,
    "start_time": "2022-04-19T18:18:14.931Z"
   },
   {
    "duration": 178,
    "start_time": "2022-04-19T18:18:14.951Z"
   },
   {
    "duration": 11,
    "start_time": "2022-04-19T18:18:15.130Z"
   },
   {
    "duration": 183,
    "start_time": "2022-04-19T18:18:15.142Z"
   },
   {
    "duration": 11,
    "start_time": "2022-04-19T18:18:15.332Z"
   },
   {
    "duration": 8,
    "start_time": "2022-04-19T18:18:15.345Z"
   },
   {
    "duration": 10,
    "start_time": "2022-04-19T18:18:15.355Z"
   },
   {
    "duration": 4,
    "start_time": "2022-04-19T18:18:15.366Z"
   },
   {
    "duration": 6,
    "start_time": "2022-04-19T18:18:15.372Z"
   },
   {
    "duration": 1008,
    "start_time": "2022-04-19T18:18:36.281Z"
   },
   {
    "duration": 162,
    "start_time": "2022-04-19T18:18:37.291Z"
   },
   {
    "duration": 0,
    "start_time": "2022-04-19T18:18:37.455Z"
   },
   {
    "duration": 0,
    "start_time": "2022-04-19T18:18:37.456Z"
   },
   {
    "duration": 0,
    "start_time": "2022-04-19T18:18:37.458Z"
   },
   {
    "duration": 1,
    "start_time": "2022-04-19T18:18:37.458Z"
   },
   {
    "duration": 0,
    "start_time": "2022-04-19T18:18:37.459Z"
   },
   {
    "duration": 0,
    "start_time": "2022-04-19T18:18:37.460Z"
   },
   {
    "duration": 0,
    "start_time": "2022-04-19T18:18:37.461Z"
   },
   {
    "duration": 0,
    "start_time": "2022-04-19T18:18:37.462Z"
   },
   {
    "duration": 0,
    "start_time": "2022-04-19T18:18:37.463Z"
   },
   {
    "duration": 0,
    "start_time": "2022-04-19T18:18:37.464Z"
   },
   {
    "duration": 0,
    "start_time": "2022-04-19T18:18:37.465Z"
   },
   {
    "duration": 0,
    "start_time": "2022-04-19T18:18:37.466Z"
   },
   {
    "duration": 0,
    "start_time": "2022-04-19T18:18:37.467Z"
   },
   {
    "duration": 0,
    "start_time": "2022-04-19T18:18:37.468Z"
   },
   {
    "duration": 0,
    "start_time": "2022-04-19T18:18:37.468Z"
   },
   {
    "duration": 0,
    "start_time": "2022-04-19T18:18:37.469Z"
   },
   {
    "duration": 0,
    "start_time": "2022-04-19T18:18:37.470Z"
   },
   {
    "duration": 0,
    "start_time": "2022-04-19T18:18:37.471Z"
   },
   {
    "duration": 0,
    "start_time": "2022-04-19T18:18:37.472Z"
   },
   {
    "duration": 0,
    "start_time": "2022-04-19T18:18:37.473Z"
   },
   {
    "duration": 0,
    "start_time": "2022-04-19T18:18:37.474Z"
   },
   {
    "duration": 0,
    "start_time": "2022-04-19T18:18:37.475Z"
   },
   {
    "duration": 0,
    "start_time": "2022-04-19T18:18:37.476Z"
   },
   {
    "duration": 0,
    "start_time": "2022-04-19T18:18:37.477Z"
   },
   {
    "duration": 0,
    "start_time": "2022-04-19T18:18:37.478Z"
   },
   {
    "duration": 0,
    "start_time": "2022-04-19T18:18:37.479Z"
   },
   {
    "duration": 0,
    "start_time": "2022-04-19T18:18:37.480Z"
   },
   {
    "duration": 0,
    "start_time": "2022-04-19T18:18:37.481Z"
   },
   {
    "duration": 0,
    "start_time": "2022-04-19T18:18:37.482Z"
   },
   {
    "duration": 0,
    "start_time": "2022-04-19T18:18:37.483Z"
   },
   {
    "duration": 0,
    "start_time": "2022-04-19T18:18:37.526Z"
   },
   {
    "duration": 0,
    "start_time": "2022-04-19T18:18:37.529Z"
   },
   {
    "duration": 0,
    "start_time": "2022-04-19T18:18:37.530Z"
   },
   {
    "duration": 0,
    "start_time": "2022-04-19T18:18:37.531Z"
   },
   {
    "duration": 0,
    "start_time": "2022-04-19T18:18:37.532Z"
   },
   {
    "duration": 0,
    "start_time": "2022-04-19T18:18:37.533Z"
   },
   {
    "duration": 0,
    "start_time": "2022-04-19T18:18:37.534Z"
   },
   {
    "duration": 0,
    "start_time": "2022-04-19T18:18:37.534Z"
   },
   {
    "duration": 1318,
    "start_time": "2022-04-24T11:48:05.374Z"
   },
   {
    "duration": 182,
    "start_time": "2022-04-24T11:48:06.694Z"
   },
   {
    "duration": 481,
    "start_time": "2022-04-24T11:48:55.385Z"
   },
   {
    "duration": 475,
    "start_time": "2022-04-24T11:57:22.576Z"
   },
   {
    "duration": 502,
    "start_time": "2022-04-24T11:59:44.081Z"
   },
   {
    "duration": 28,
    "start_time": "2022-04-24T12:11:21.842Z"
   },
   {
    "duration": 22,
    "start_time": "2022-04-24T12:11:51.624Z"
   },
   {
    "duration": 20,
    "start_time": "2022-04-24T12:12:14.555Z"
   },
   {
    "duration": 13,
    "start_time": "2022-04-24T12:13:23.604Z"
   },
   {
    "duration": 12,
    "start_time": "2022-04-24T12:13:38.351Z"
   },
   {
    "duration": 552,
    "start_time": "2022-04-24T12:20:57.827Z"
   },
   {
    "duration": 103,
    "start_time": "2022-04-24T12:28:05.238Z"
   },
   {
    "duration": 92,
    "start_time": "2022-04-24T12:28:11.466Z"
   },
   {
    "duration": 190,
    "start_time": "2022-04-24T12:29:14.756Z"
   },
   {
    "duration": 169,
    "start_time": "2022-04-24T12:45:11.146Z"
   },
   {
    "duration": 5,
    "start_time": "2022-04-24T12:45:18.148Z"
   },
   {
    "duration": 7,
    "start_time": "2022-04-24T12:45:33.196Z"
   },
   {
    "duration": 129,
    "start_time": "2022-04-24T12:46:06.249Z"
   },
   {
    "duration": 249,
    "start_time": "2022-04-24T12:46:32.245Z"
   },
   {
    "duration": 4,
    "start_time": "2022-04-24T12:46:36.001Z"
   },
   {
    "duration": 7,
    "start_time": "2022-04-24T12:46:37.519Z"
   },
   {
    "duration": 8,
    "start_time": "2022-04-24T12:46:56.726Z"
   },
   {
    "duration": 6,
    "start_time": "2022-04-24T12:47:06.523Z"
   },
   {
    "duration": 7,
    "start_time": "2022-04-24T12:47:07.989Z"
   },
   {
    "duration": 6,
    "start_time": "2022-04-24T12:47:08.468Z"
   },
   {
    "duration": 281,
    "start_time": "2022-04-24T12:49:04.400Z"
   },
   {
    "duration": 7,
    "start_time": "2022-04-24T12:49:09.611Z"
   },
   {
    "duration": 133,
    "start_time": "2022-04-24T12:51:14.841Z"
   },
   {
    "duration": 154,
    "start_time": "2022-04-24T12:53:14.412Z"
   },
   {
    "duration": 52,
    "start_time": "2022-04-24T12:54:48.693Z"
   },
   {
    "duration": 54,
    "start_time": "2022-04-24T12:54:52.774Z"
   },
   {
    "duration": 84,
    "start_time": "2022-04-24T12:55:10.156Z"
   },
   {
    "duration": 66,
    "start_time": "2022-04-24T12:57:14.478Z"
   },
   {
    "duration": 18,
    "start_time": "2022-04-24T12:57:46.702Z"
   },
   {
    "duration": 17,
    "start_time": "2022-04-24T12:57:53.822Z"
   },
   {
    "duration": 1163,
    "start_time": "2022-04-24T12:58:18.925Z"
   },
   {
    "duration": 99,
    "start_time": "2022-04-24T12:58:20.090Z"
   },
   {
    "duration": 0,
    "start_time": "2022-04-24T12:58:20.191Z"
   },
   {
    "duration": 555,
    "start_time": "2022-04-24T12:58:43.150Z"
   },
   {
    "duration": 199,
    "start_time": "2022-04-24T12:58:51.251Z"
   },
   {
    "duration": 254,
    "start_time": "2022-04-24T12:58:54.382Z"
   },
   {
    "duration": 5,
    "start_time": "2022-04-24T12:58:58.768Z"
   },
   {
    "duration": 8,
    "start_time": "2022-04-24T12:59:00.233Z"
   },
   {
    "duration": 7,
    "start_time": "2022-04-24T12:59:00.851Z"
   },
   {
    "duration": 5,
    "start_time": "2022-04-24T12:59:01.060Z"
   },
   {
    "duration": 7,
    "start_time": "2022-04-24T12:59:01.266Z"
   },
   {
    "duration": 6,
    "start_time": "2022-04-24T12:59:01.745Z"
   },
   {
    "duration": 159,
    "start_time": "2022-04-24T12:59:04.212Z"
   },
   {
    "duration": 54,
    "start_time": "2022-04-24T12:59:06.865Z"
   },
   {
    "duration": 1764,
    "start_time": "2022-04-27T19:12:07.203Z"
   },
   {
    "duration": 749,
    "start_time": "2022-04-27T19:12:08.970Z"
   },
   {
    "duration": 442,
    "start_time": "2022-04-27T19:12:09.722Z"
   },
   {
    "duration": 384,
    "start_time": "2022-04-27T19:12:14.351Z"
   },
   {
    "duration": 6,
    "start_time": "2022-04-27T19:12:18.197Z"
   },
   {
    "duration": 9,
    "start_time": "2022-04-27T19:12:18.990Z"
   },
   {
    "duration": 9,
    "start_time": "2022-04-27T19:12:19.584Z"
   },
   {
    "duration": 7,
    "start_time": "2022-04-27T19:12:20.159Z"
   },
   {
    "duration": 12,
    "start_time": "2022-04-27T19:12:20.720Z"
   },
   {
    "duration": 8,
    "start_time": "2022-04-27T19:12:21.526Z"
   },
   {
    "duration": 216,
    "start_time": "2022-04-27T19:12:24.366Z"
   },
   {
    "duration": 72,
    "start_time": "2022-04-27T19:12:26.673Z"
   },
   {
    "duration": 127,
    "start_time": "2022-04-27T19:12:28.216Z"
   },
   {
    "duration": 53,
    "start_time": "2022-04-27T19:12:32.609Z"
   },
   {
    "duration": 148,
    "start_time": "2022-04-27T19:12:46.984Z"
   },
   {
    "duration": 158,
    "start_time": "2022-04-27T19:16:42.395Z"
   },
   {
    "duration": 1538,
    "start_time": "2022-04-27T19:16:58.223Z"
   },
   {
    "duration": 837,
    "start_time": "2022-04-27T19:16:59.764Z"
   },
   {
    "duration": 354,
    "start_time": "2022-04-27T19:17:00.603Z"
   },
   {
    "duration": 380,
    "start_time": "2022-04-27T19:17:22.314Z"
   },
   {
    "duration": 7,
    "start_time": "2022-04-27T19:17:25.768Z"
   },
   {
    "duration": 11,
    "start_time": "2022-04-27T19:17:26.506Z"
   },
   {
    "duration": 9,
    "start_time": "2022-04-27T19:17:27.176Z"
   },
   {
    "duration": 7,
    "start_time": "2022-04-27T19:17:27.568Z"
   },
   {
    "duration": 11,
    "start_time": "2022-04-27T19:17:27.807Z"
   },
   {
    "duration": 8,
    "start_time": "2022-04-27T19:17:28.184Z"
   },
   {
    "duration": 211,
    "start_time": "2022-04-27T19:17:33.146Z"
   },
   {
    "duration": 70,
    "start_time": "2022-04-27T19:17:44.052Z"
   },
   {
    "duration": 122,
    "start_time": "2022-04-27T19:17:47.833Z"
   },
   {
    "duration": 94,
    "start_time": "2022-04-27T19:17:50.336Z"
   },
   {
    "duration": 250,
    "start_time": "2022-04-27T19:27:16.151Z"
   },
   {
    "duration": 161,
    "start_time": "2022-04-27T19:32:30.604Z"
   },
   {
    "duration": 162,
    "start_time": "2022-04-27T19:34:20.703Z"
   },
   {
    "duration": 136,
    "start_time": "2022-04-27T19:35:16.926Z"
   },
   {
    "duration": 37,
    "start_time": "2022-04-27T19:35:30.829Z"
   },
   {
    "duration": 83,
    "start_time": "2022-04-27T19:44:44.768Z"
   },
   {
    "duration": 87,
    "start_time": "2022-04-27T19:45:19.047Z"
   },
   {
    "duration": 25,
    "start_time": "2022-04-27T20:04:09.085Z"
   },
   {
    "duration": 61,
    "start_time": "2022-04-27T20:07:39.775Z"
   },
   {
    "duration": 16,
    "start_time": "2022-04-27T20:08:50.899Z"
   },
   {
    "duration": 1485,
    "start_time": "2022-04-27T20:09:14.653Z"
   },
   {
    "duration": 768,
    "start_time": "2022-04-27T20:09:16.141Z"
   },
   {
    "duration": 325,
    "start_time": "2022-04-27T20:09:16.912Z"
   },
   {
    "duration": 374,
    "start_time": "2022-04-27T20:09:19.779Z"
   },
   {
    "duration": 7,
    "start_time": "2022-04-27T20:09:21.090Z"
   },
   {
    "duration": 9,
    "start_time": "2022-04-27T20:09:21.362Z"
   },
   {
    "duration": 9,
    "start_time": "2022-04-27T20:09:21.626Z"
   },
   {
    "duration": 8,
    "start_time": "2022-04-27T20:09:21.883Z"
   },
   {
    "duration": 14,
    "start_time": "2022-04-27T20:09:22.099Z"
   },
   {
    "duration": 8,
    "start_time": "2022-04-27T20:09:22.338Z"
   },
   {
    "duration": 256,
    "start_time": "2022-04-27T20:09:23.374Z"
   },
   {
    "duration": 71,
    "start_time": "2022-04-27T20:09:24.285Z"
   },
   {
    "duration": 129,
    "start_time": "2022-04-27T20:09:24.980Z"
   },
   {
    "duration": 116,
    "start_time": "2022-04-27T20:09:25.395Z"
   },
   {
    "duration": 160,
    "start_time": "2022-04-27T20:09:25.661Z"
   },
   {
    "duration": 161,
    "start_time": "2022-04-27T20:09:27.203Z"
   },
   {
    "duration": 252,
    "start_time": "2022-04-27T20:09:27.716Z"
   },
   {
    "duration": 124,
    "start_time": "2022-04-27T20:09:28.235Z"
   },
   {
    "duration": 33,
    "start_time": "2022-04-27T20:09:29.092Z"
   },
   {
    "duration": 70,
    "start_time": "2022-04-27T20:09:30.500Z"
   },
   {
    "duration": 4,
    "start_time": "2022-04-27T20:09:31.330Z"
   },
   {
    "duration": 1369,
    "start_time": "2022-04-28T06:48:06.777Z"
   },
   {
    "duration": 547,
    "start_time": "2022-04-28T06:48:08.148Z"
   },
   {
    "duration": 257,
    "start_time": "2022-04-28T06:48:08.697Z"
   },
   {
    "duration": 253,
    "start_time": "2022-04-28T06:48:09.952Z"
   },
   {
    "duration": 4,
    "start_time": "2022-04-28T06:48:14.015Z"
   },
   {
    "duration": 8,
    "start_time": "2022-04-28T06:48:14.542Z"
   },
   {
    "duration": 7,
    "start_time": "2022-04-28T06:48:14.844Z"
   },
   {
    "duration": 5,
    "start_time": "2022-04-28T06:48:15.035Z"
   },
   {
    "duration": 8,
    "start_time": "2022-04-28T06:48:15.246Z"
   },
   {
    "duration": 7,
    "start_time": "2022-04-28T06:48:15.417Z"
   },
   {
    "duration": 148,
    "start_time": "2022-04-28T06:48:17.901Z"
   },
   {
    "duration": 52,
    "start_time": "2022-04-28T06:48:19.017Z"
   },
   {
    "duration": 83,
    "start_time": "2022-04-28T06:48:21.351Z"
   },
   {
    "duration": 63,
    "start_time": "2022-04-28T06:48:21.701Z"
   },
   {
    "duration": 99,
    "start_time": "2022-04-28T06:48:23.646Z"
   },
   {
    "duration": 94,
    "start_time": "2022-04-28T06:48:32.362Z"
   },
   {
    "duration": 89,
    "start_time": "2022-04-28T06:48:33.182Z"
   },
   {
    "duration": 56,
    "start_time": "2022-04-28T06:48:34.245Z"
   },
   {
    "duration": 17,
    "start_time": "2022-04-28T06:48:34.713Z"
   },
   {
    "duration": 33,
    "start_time": "2022-04-28T06:49:16.521Z"
   },
   {
    "duration": 90,
    "start_time": "2022-04-28T07:04:24.156Z"
   },
   {
    "duration": 14,
    "start_time": "2022-04-28T07:11:46.504Z"
   },
   {
    "duration": 7,
    "start_time": "2022-04-28T07:27:12.694Z"
   },
   {
    "duration": 7,
    "start_time": "2022-04-28T07:27:17.552Z"
   },
   {
    "duration": 196,
    "start_time": "2022-04-28T07:27:30.898Z"
   },
   {
    "duration": 8,
    "start_time": "2022-04-28T07:28:09.984Z"
   },
   {
    "duration": 172,
    "start_time": "2022-04-28T07:28:11.153Z"
   },
   {
    "duration": 6,
    "start_time": "2022-04-28T07:28:30.730Z"
   },
   {
    "duration": 7,
    "start_time": "2022-04-28T07:31:44.444Z"
   },
   {
    "duration": 8,
    "start_time": "2022-04-28T08:01:00.469Z"
   },
   {
    "duration": 203,
    "start_time": "2022-04-28T08:01:02.664Z"
   },
   {
    "duration": 7,
    "start_time": "2022-04-28T08:01:07.722Z"
   },
   {
    "duration": 187,
    "start_time": "2022-04-28T08:01:11.427Z"
   },
   {
    "duration": 7,
    "start_time": "2022-04-28T08:10:58.117Z"
   },
   {
    "duration": 6,
    "start_time": "2022-04-28T08:11:05.585Z"
   },
   {
    "duration": 6,
    "start_time": "2022-04-28T08:25:42.097Z"
   },
   {
    "duration": 7,
    "start_time": "2022-04-28T08:25:43.257Z"
   },
   {
    "duration": 169,
    "start_time": "2022-04-28T08:25:44.237Z"
   },
   {
    "duration": 9,
    "start_time": "2022-04-28T08:30:09.569Z"
   },
   {
    "duration": 190,
    "start_time": "2022-04-28T08:30:11.353Z"
   },
   {
    "duration": 7,
    "start_time": "2022-04-28T16:54:41.127Z"
   },
   {
    "duration": 220,
    "start_time": "2022-04-28T16:55:07.364Z"
   },
   {
    "duration": 95,
    "start_time": "2022-04-28T16:55:56.190Z"
   },
   {
    "duration": 13,
    "start_time": "2022-04-28T16:56:18.435Z"
   },
   {
    "duration": 106,
    "start_time": "2022-04-28T16:57:26.032Z"
   },
   {
    "duration": 150,
    "start_time": "2022-04-28T16:58:38.380Z"
   },
   {
    "duration": 221,
    "start_time": "2022-04-28T16:59:14.322Z"
   },
   {
    "duration": 177,
    "start_time": "2022-04-28T16:59:21.751Z"
   },
   {
    "duration": 156,
    "start_time": "2022-04-28T17:08:13.845Z"
   },
   {
    "duration": 143,
    "start_time": "2022-04-28T17:09:16.025Z"
   },
   {
    "duration": 130,
    "start_time": "2022-04-28T17:11:21.249Z"
   },
   {
    "duration": 201,
    "start_time": "2022-04-28T17:12:01.321Z"
   },
   {
    "duration": 158,
    "start_time": "2022-04-28T17:13:31.887Z"
   },
   {
    "duration": 238,
    "start_time": "2022-04-28T17:14:12.363Z"
   },
   {
    "duration": 15,
    "start_time": "2022-04-28T17:15:31.093Z"
   },
   {
    "duration": 151,
    "start_time": "2022-04-28T17:16:29.081Z"
   },
   {
    "duration": 9,
    "start_time": "2022-04-28T17:17:09.089Z"
   },
   {
    "duration": 146,
    "start_time": "2022-04-28T17:17:40.357Z"
   },
   {
    "duration": 156,
    "start_time": "2022-04-28T17:18:43.670Z"
   },
   {
    "duration": 9,
    "start_time": "2022-04-28T17:19:41.583Z"
   },
   {
    "duration": 232,
    "start_time": "2022-04-28T17:22:15.930Z"
   },
   {
    "duration": 145,
    "start_time": "2022-04-28T17:23:31.253Z"
   },
   {
    "duration": 149,
    "start_time": "2022-04-28T17:24:16.183Z"
   },
   {
    "duration": 139,
    "start_time": "2022-04-28T17:25:59.839Z"
   },
   {
    "duration": 109,
    "start_time": "2022-04-28T17:33:54.335Z"
   },
   {
    "duration": 234,
    "start_time": "2022-04-28T17:34:28.523Z"
   },
   {
    "duration": 113,
    "start_time": "2022-04-28T17:35:45.493Z"
   },
   {
    "duration": 229,
    "start_time": "2022-04-28T17:39:29.907Z"
   },
   {
    "duration": 211,
    "start_time": "2022-04-28T17:39:33.037Z"
   },
   {
    "duration": 213,
    "start_time": "2022-04-28T17:39:35.660Z"
   },
   {
    "duration": 12,
    "start_time": "2022-04-28T17:41:35.917Z"
   },
   {
    "duration": 7,
    "start_time": "2022-04-28T17:41:36.375Z"
   },
   {
    "duration": 7,
    "start_time": "2022-04-28T17:41:42.957Z"
   },
   {
    "duration": 6,
    "start_time": "2022-04-28T17:41:43.152Z"
   },
   {
    "duration": 5,
    "start_time": "2022-04-28T17:41:43.629Z"
   },
   {
    "duration": 101,
    "start_time": "2022-04-28T17:43:49.827Z"
   },
   {
    "duration": 4,
    "start_time": "2022-04-28T18:01:40.313Z"
   },
   {
    "duration": 5,
    "start_time": "2022-04-28T18:01:52.192Z"
   },
   {
    "duration": 120,
    "start_time": "2022-04-28T18:02:12.117Z"
   },
   {
    "duration": 3,
    "start_time": "2022-04-28T18:04:49.191Z"
   },
   {
    "duration": 4,
    "start_time": "2022-04-28T18:05:23.378Z"
   },
   {
    "duration": 1411,
    "start_time": "2022-04-30T08:35:11.112Z"
   },
   {
    "duration": 659,
    "start_time": "2022-04-30T08:35:14.512Z"
   },
   {
    "duration": 272,
    "start_time": "2022-04-30T08:35:15.173Z"
   },
   {
    "duration": 295,
    "start_time": "2022-04-30T08:35:17.232Z"
   },
   {
    "duration": 4,
    "start_time": "2022-04-30T08:35:18.428Z"
   },
   {
    "duration": 8,
    "start_time": "2022-04-30T08:35:18.639Z"
   },
   {
    "duration": 6,
    "start_time": "2022-04-30T08:35:18.879Z"
   },
   {
    "duration": 5,
    "start_time": "2022-04-30T08:35:19.099Z"
   },
   {
    "duration": 8,
    "start_time": "2022-04-30T08:35:19.335Z"
   },
   {
    "duration": 8,
    "start_time": "2022-04-30T08:35:19.551Z"
   },
   {
    "duration": 182,
    "start_time": "2022-04-30T08:35:20.767Z"
   },
   {
    "duration": 55,
    "start_time": "2022-04-30T08:35:21.660Z"
   },
   {
    "duration": 104,
    "start_time": "2022-04-30T08:35:22.095Z"
   },
   {
    "duration": 77,
    "start_time": "2022-04-30T08:35:22.608Z"
   },
   {
    "duration": 108,
    "start_time": "2022-04-30T08:35:22.865Z"
   },
   {
    "duration": 115,
    "start_time": "2022-04-30T08:35:23.984Z"
   },
   {
    "duration": 111,
    "start_time": "2022-04-30T08:35:24.314Z"
   },
   {
    "duration": 67,
    "start_time": "2022-04-30T08:35:25.168Z"
   },
   {
    "duration": 21,
    "start_time": "2022-04-30T08:35:27.736Z"
   },
   {
    "duration": 35,
    "start_time": "2022-04-30T08:35:31.171Z"
   },
   {
    "duration": 2,
    "start_time": "2022-04-30T08:35:31.664Z"
   },
   {
    "duration": 101,
    "start_time": "2022-04-30T08:35:32.241Z"
   },
   {
    "duration": 70,
    "start_time": "2022-04-30T08:36:30.065Z"
   },
   {
    "duration": 9,
    "start_time": "2022-04-30T08:38:33.311Z"
   },
   {
    "duration": 9,
    "start_time": "2022-04-30T08:40:25.221Z"
   },
   {
    "duration": 217,
    "start_time": "2022-04-30T08:40:25.656Z"
   },
   {
    "duration": 157,
    "start_time": "2022-04-30T08:40:29.362Z"
   },
   {
    "duration": 8,
    "start_time": "2022-04-30T08:43:40.537Z"
   },
   {
    "duration": 7,
    "start_time": "2022-04-30T08:44:04.320Z"
   },
   {
    "duration": 8,
    "start_time": "2022-04-30T08:44:04.684Z"
   },
   {
    "duration": 222,
    "start_time": "2022-04-30T08:44:04.915Z"
   },
   {
    "duration": 155,
    "start_time": "2022-04-30T08:44:06.137Z"
   },
   {
    "duration": 7,
    "start_time": "2022-04-30T08:44:25.248Z"
   },
   {
    "duration": 205,
    "start_time": "2022-04-30T08:44:25.424Z"
   },
   {
    "duration": 163,
    "start_time": "2022-04-30T08:44:25.631Z"
   },
   {
    "duration": 7,
    "start_time": "2022-04-30T08:44:43.721Z"
   },
   {
    "duration": 8,
    "start_time": "2022-04-30T08:44:44.536Z"
   },
   {
    "duration": 185,
    "start_time": "2022-04-30T08:44:45.209Z"
   },
   {
    "duration": 154,
    "start_time": "2022-04-30T08:44:47.683Z"
   },
   {
    "duration": 8,
    "start_time": "2022-04-30T08:45:03.731Z"
   },
   {
    "duration": 219,
    "start_time": "2022-04-30T08:45:03.912Z"
   },
   {
    "duration": 242,
    "start_time": "2022-04-30T08:45:04.133Z"
   },
   {
    "duration": 196,
    "start_time": "2022-04-30T08:47:08.658Z"
   },
   {
    "duration": 101,
    "start_time": "2022-04-30T10:12:46.007Z"
   },
   {
    "duration": 251,
    "start_time": "2022-04-30T10:12:51.644Z"
   },
   {
    "duration": 8,
    "start_time": "2022-04-30T10:12:53.479Z"
   },
   {
    "duration": 10,
    "start_time": "2022-04-30T10:12:53.957Z"
   },
   {
    "duration": 6,
    "start_time": "2022-04-30T10:17:21.454Z"
   },
   {
    "duration": 6,
    "start_time": "2022-04-30T10:22:27.506Z"
   },
   {
    "duration": 5,
    "start_time": "2022-04-30T10:22:56.799Z"
   },
   {
    "duration": 14,
    "start_time": "2022-04-30T10:27:50.417Z"
   },
   {
    "duration": 8,
    "start_time": "2022-04-30T10:27:55.667Z"
   },
   {
    "duration": 14,
    "start_time": "2022-04-30T10:27:57.208Z"
   },
   {
    "duration": 5,
    "start_time": "2022-04-30T10:27:58.175Z"
   },
   {
    "duration": 9,
    "start_time": "2022-04-30T10:28:18.011Z"
   },
   {
    "duration": 6,
    "start_time": "2022-04-30T10:28:29.570Z"
   },
   {
    "duration": 1113,
    "start_time": "2022-04-30T11:29:05.486Z"
   },
   {
    "duration": 529,
    "start_time": "2022-04-30T11:29:06.601Z"
   },
   {
    "duration": 228,
    "start_time": "2022-04-30T11:29:07.132Z"
   },
   {
    "duration": 270,
    "start_time": "2022-04-30T11:29:07.363Z"
   },
   {
    "duration": 5,
    "start_time": "2022-04-30T11:29:07.635Z"
   },
   {
    "duration": 9,
    "start_time": "2022-04-30T11:29:07.641Z"
   },
   {
    "duration": 6,
    "start_time": "2022-04-30T11:29:07.651Z"
   },
   {
    "duration": 3,
    "start_time": "2022-04-30T11:29:07.659Z"
   },
   {
    "duration": 7,
    "start_time": "2022-04-30T11:29:07.664Z"
   },
   {
    "duration": 34,
    "start_time": "2022-04-30T11:29:07.674Z"
   },
   {
    "duration": 168,
    "start_time": "2022-04-30T11:29:07.710Z"
   },
   {
    "duration": 59,
    "start_time": "2022-04-30T11:29:07.880Z"
   },
   {
    "duration": 94,
    "start_time": "2022-04-30T11:29:07.941Z"
   },
   {
    "duration": 86,
    "start_time": "2022-04-30T11:29:08.037Z"
   },
   {
    "duration": 108,
    "start_time": "2022-04-30T11:29:08.125Z"
   },
   {
    "duration": 110,
    "start_time": "2022-04-30T11:29:08.235Z"
   },
   {
    "duration": 110,
    "start_time": "2022-04-30T11:29:08.347Z"
   },
   {
    "duration": 74,
    "start_time": "2022-04-30T11:29:08.459Z"
   },
   {
    "duration": 17,
    "start_time": "2022-04-30T11:29:08.536Z"
   },
   {
    "duration": 61,
    "start_time": "2022-04-30T11:29:08.555Z"
   },
   {
    "duration": 10,
    "start_time": "2022-04-30T11:29:08.618Z"
   },
   {
    "duration": 107,
    "start_time": "2022-04-30T11:29:08.630Z"
   },
   {
    "duration": 7,
    "start_time": "2022-04-30T11:29:08.739Z"
   },
   {
    "duration": 9,
    "start_time": "2022-04-30T11:29:08.748Z"
   },
   {
    "duration": 240,
    "start_time": "2022-04-30T11:29:08.759Z"
   },
   {
    "duration": 153,
    "start_time": "2022-04-30T11:29:09.001Z"
   },
   {
    "duration": 8,
    "start_time": "2022-04-30T11:29:09.156Z"
   },
   {
    "duration": 208,
    "start_time": "2022-04-30T11:29:09.168Z"
   },
   {
    "duration": 163,
    "start_time": "2022-04-30T11:29:09.378Z"
   },
   {
    "duration": 6,
    "start_time": "2022-04-30T11:29:09.543Z"
   },
   {
    "duration": 10,
    "start_time": "2022-04-30T11:29:09.551Z"
   },
   {
    "duration": 221,
    "start_time": "2022-04-30T11:29:09.562Z"
   },
   {
    "duration": 155,
    "start_time": "2022-04-30T11:29:09.785Z"
   },
   {
    "duration": 8,
    "start_time": "2022-04-30T11:29:09.942Z"
   },
   {
    "duration": 210,
    "start_time": "2022-04-30T11:29:09.952Z"
   },
   {
    "duration": 170,
    "start_time": "2022-04-30T11:29:10.163Z"
   },
   {
    "duration": 8,
    "start_time": "2022-04-30T11:29:10.334Z"
   },
   {
    "duration": 8,
    "start_time": "2022-04-30T11:29:10.344Z"
   },
   {
    "duration": 211,
    "start_time": "2022-04-30T11:29:10.353Z"
   },
   {
    "duration": 223,
    "start_time": "2022-04-30T11:29:10.566Z"
   },
   {
    "duration": 17,
    "start_time": "2022-04-30T11:29:10.791Z"
   },
   {
    "duration": 207,
    "start_time": "2022-04-30T11:29:10.810Z"
   },
   {
    "duration": 167,
    "start_time": "2022-04-30T11:29:11.019Z"
   },
   {
    "duration": 235,
    "start_time": "2022-04-30T11:29:11.188Z"
   },
   {
    "duration": 239,
    "start_time": "2022-04-30T11:29:11.425Z"
   },
   {
    "duration": 255,
    "start_time": "2022-04-30T11:29:11.666Z"
   },
   {
    "duration": 8,
    "start_time": "2022-04-30T11:29:11.923Z"
   },
   {
    "duration": 5,
    "start_time": "2022-04-30T11:29:11.933Z"
   },
   {
    "duration": 11,
    "start_time": "2022-04-30T11:29:11.940Z"
   },
   {
    "duration": 7,
    "start_time": "2022-04-30T11:29:11.952Z"
   },
   {
    "duration": 5,
    "start_time": "2022-04-30T11:29:11.961Z"
   },
   {
    "duration": 7,
    "start_time": "2022-04-30T11:29:11.967Z"
   },
   {
    "duration": 1268,
    "start_time": "2022-05-01T10:48:20.054Z"
   },
   {
    "duration": 506,
    "start_time": "2022-05-01T10:48:21.325Z"
   },
   {
    "duration": 223,
    "start_time": "2022-05-01T10:48:21.832Z"
   },
   {
    "duration": 267,
    "start_time": "2022-05-01T10:48:22.057Z"
   },
   {
    "duration": 5,
    "start_time": "2022-05-01T10:48:22.326Z"
   },
   {
    "duration": 12,
    "start_time": "2022-05-01T10:48:22.333Z"
   },
   {
    "duration": 31,
    "start_time": "2022-05-01T10:48:22.347Z"
   },
   {
    "duration": 6,
    "start_time": "2022-05-01T10:48:22.379Z"
   },
   {
    "duration": 13,
    "start_time": "2022-05-01T10:48:22.387Z"
   },
   {
    "duration": 11,
    "start_time": "2022-05-01T10:48:22.403Z"
   },
   {
    "duration": 164,
    "start_time": "2022-05-01T10:48:22.416Z"
   },
   {
    "duration": 49,
    "start_time": "2022-05-01T10:48:22.582Z"
   },
   {
    "duration": 101,
    "start_time": "2022-05-01T10:48:22.632Z"
   },
   {
    "duration": 66,
    "start_time": "2022-05-01T10:48:22.735Z"
   },
   {
    "duration": 115,
    "start_time": "2022-05-01T10:48:22.802Z"
   },
   {
    "duration": 98,
    "start_time": "2022-05-01T10:48:22.919Z"
   },
   {
    "duration": 101,
    "start_time": "2022-05-01T10:48:23.019Z"
   },
   {
    "duration": 70,
    "start_time": "2022-05-01T10:48:23.122Z"
   },
   {
    "duration": 17,
    "start_time": "2022-05-01T10:48:23.194Z"
   },
   {
    "duration": 37,
    "start_time": "2022-05-01T10:48:23.213Z"
   },
   {
    "duration": 27,
    "start_time": "2022-05-01T10:48:23.251Z"
   },
   {
    "duration": 115,
    "start_time": "2022-05-01T10:48:23.281Z"
   },
   {
    "duration": 6,
    "start_time": "2022-05-01T10:48:23.397Z"
   },
   {
    "duration": 14,
    "start_time": "2022-05-01T10:48:23.405Z"
   },
   {
    "duration": 229,
    "start_time": "2022-05-01T10:48:23.420Z"
   },
   {
    "duration": 153,
    "start_time": "2022-05-01T10:48:23.650Z"
   },
   {
    "duration": 8,
    "start_time": "2022-05-01T10:48:23.805Z"
   },
   {
    "duration": 210,
    "start_time": "2022-05-01T10:48:23.816Z"
   },
   {
    "duration": 152,
    "start_time": "2022-05-01T10:48:24.028Z"
   },
   {
    "duration": 8,
    "start_time": "2022-05-01T10:48:24.182Z"
   },
   {
    "duration": 11,
    "start_time": "2022-05-01T10:48:24.192Z"
   },
   {
    "duration": 216,
    "start_time": "2022-05-01T10:48:24.204Z"
   },
   {
    "duration": 168,
    "start_time": "2022-05-01T10:48:24.422Z"
   },
   {
    "duration": 7,
    "start_time": "2022-05-01T10:48:24.592Z"
   },
   {
    "duration": 203,
    "start_time": "2022-05-01T10:48:24.601Z"
   },
   {
    "duration": 161,
    "start_time": "2022-05-01T10:48:24.806Z"
   },
   {
    "duration": 18,
    "start_time": "2022-05-01T10:48:24.968Z"
   },
   {
    "duration": 9,
    "start_time": "2022-05-01T10:48:24.988Z"
   },
   {
    "duration": 201,
    "start_time": "2022-05-01T10:48:24.998Z"
   },
   {
    "duration": 225,
    "start_time": "2022-05-01T10:48:25.201Z"
   },
   {
    "duration": 7,
    "start_time": "2022-05-01T10:48:25.428Z"
   },
   {
    "duration": 206,
    "start_time": "2022-05-01T10:48:25.437Z"
   },
   {
    "duration": 158,
    "start_time": "2022-05-01T10:48:25.645Z"
   },
   {
    "duration": 219,
    "start_time": "2022-05-01T10:48:25.805Z"
   },
   {
    "duration": 229,
    "start_time": "2022-05-01T10:48:26.025Z"
   },
   {
    "duration": 238,
    "start_time": "2022-05-01T10:48:26.255Z"
   },
   {
    "duration": 8,
    "start_time": "2022-05-01T10:48:26.494Z"
   },
   {
    "duration": 4,
    "start_time": "2022-05-01T10:48:26.504Z"
   },
   {
    "duration": 9,
    "start_time": "2022-05-01T10:48:26.510Z"
   },
   {
    "duration": 10,
    "start_time": "2022-05-01T10:48:26.520Z"
   },
   {
    "duration": 4,
    "start_time": "2022-05-01T10:48:26.531Z"
   },
   {
    "duration": 7,
    "start_time": "2022-05-01T10:48:26.537Z"
   }
  ],
  "kernelspec": {
   "display_name": "Python 3",
   "language": "python",
   "name": "python3"
  },
  "language_info": {
   "codemirror_mode": {
    "name": "ipython",
    "version": 3
   },
   "file_extension": ".py",
   "mimetype": "text/x-python",
   "name": "python",
   "nbconvert_exporter": "python",
   "pygments_lexer": "ipython3",
   "version": "3.7.6"
  },
  "toc": {
   "base_numbering": 1,
   "nav_menu": {},
   "number_sections": true,
   "sideBar": true,
   "skip_h1_title": true,
   "title_cell": "Table of Contents",
   "title_sidebar": "Contents",
   "toc_cell": false,
   "toc_position": {},
   "toc_section_display": true,
   "toc_window_display": false
  }
 },
 "nbformat": 4,
 "nbformat_minor": 4
}
